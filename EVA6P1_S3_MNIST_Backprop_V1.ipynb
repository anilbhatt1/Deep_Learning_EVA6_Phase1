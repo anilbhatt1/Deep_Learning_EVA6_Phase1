{
  "nbformat": 4,
  "nbformat_minor": 0,
  "metadata": {
    "accelerator": "GPU",
    "colab": {
      "name": "EVA6P1_S3_MNIST_Backprop_V1.ipynb",
      "provenance": [],
      "collapsed_sections": [],
      "include_colab_link": true
    },
    "kernelspec": {
      "display_name": "Python 3",
      "name": "python3"
    },
    "widgets": {
      "application/vnd.jupyter.widget-state+json": {
        "351d916d6fd541b2a4d7f02034df1857": {
          "model_module": "@jupyter-widgets/controls",
          "model_name": "HBoxModel",
          "state": {
            "_view_name": "HBoxView",
            "_dom_classes": [],
            "_model_name": "HBoxModel",
            "_view_module": "@jupyter-widgets/controls",
            "_model_module_version": "1.5.0",
            "_view_count": null,
            "_view_module_version": "1.5.0",
            "box_style": "",
            "layout": "IPY_MODEL_1532dbb504dd451c891db1c92b88b0a2",
            "_model_module": "@jupyter-widgets/controls",
            "children": [
              "IPY_MODEL_681c7bff8c2a4e009ad922bb97cf3d4a",
              "IPY_MODEL_61d8ce75aea94a98ba0820af1c826a7a"
            ]
          }
        },
        "1532dbb504dd451c891db1c92b88b0a2": {
          "model_module": "@jupyter-widgets/base",
          "model_name": "LayoutModel",
          "state": {
            "_view_name": "LayoutView",
            "grid_template_rows": null,
            "right": null,
            "justify_content": null,
            "_view_module": "@jupyter-widgets/base",
            "overflow": null,
            "_model_module_version": "1.2.0",
            "_view_count": null,
            "flex_flow": null,
            "width": null,
            "min_width": null,
            "border": null,
            "align_items": null,
            "bottom": null,
            "_model_module": "@jupyter-widgets/base",
            "top": null,
            "grid_column": null,
            "overflow_y": null,
            "overflow_x": null,
            "grid_auto_flow": null,
            "grid_area": null,
            "grid_template_columns": null,
            "flex": null,
            "_model_name": "LayoutModel",
            "justify_items": null,
            "grid_row": null,
            "max_height": null,
            "align_content": null,
            "visibility": null,
            "align_self": null,
            "height": null,
            "min_height": null,
            "padding": null,
            "grid_auto_rows": null,
            "grid_gap": null,
            "max_width": null,
            "order": null,
            "_view_module_version": "1.2.0",
            "grid_template_areas": null,
            "object_position": null,
            "object_fit": null,
            "grid_auto_columns": null,
            "margin": null,
            "display": null,
            "left": null
          }
        },
        "681c7bff8c2a4e009ad922bb97cf3d4a": {
          "model_module": "@jupyter-widgets/controls",
          "model_name": "FloatProgressModel",
          "state": {
            "_view_name": "ProgressView",
            "style": "IPY_MODEL_750ab24dbe47487bb105e5b0cf5bf92b",
            "_dom_classes": [],
            "description": "",
            "_model_name": "FloatProgressModel",
            "bar_style": "success",
            "max": 9912422,
            "_view_module": "@jupyter-widgets/controls",
            "_model_module_version": "1.5.0",
            "value": 9912422,
            "_view_count": null,
            "_view_module_version": "1.5.0",
            "orientation": "horizontal",
            "min": 0,
            "description_tooltip": null,
            "_model_module": "@jupyter-widgets/controls",
            "layout": "IPY_MODEL_9da9dc85ee99473face1e3f086325c65"
          }
        },
        "61d8ce75aea94a98ba0820af1c826a7a": {
          "model_module": "@jupyter-widgets/controls",
          "model_name": "HTMLModel",
          "state": {
            "_view_name": "HTMLView",
            "style": "IPY_MODEL_63a096e633c2465bb4a29570570fad23",
            "_dom_classes": [],
            "description": "",
            "_model_name": "HTMLModel",
            "placeholder": "​",
            "_view_module": "@jupyter-widgets/controls",
            "_model_module_version": "1.5.0",
            "value": " 9913344/? [06:57&lt;00:00, 23767.05it/s]",
            "_view_count": null,
            "_view_module_version": "1.5.0",
            "description_tooltip": null,
            "_model_module": "@jupyter-widgets/controls",
            "layout": "IPY_MODEL_2e6a2a9fd1744aac91078f5f376c6ad9"
          }
        },
        "750ab24dbe47487bb105e5b0cf5bf92b": {
          "model_module": "@jupyter-widgets/controls",
          "model_name": "ProgressStyleModel",
          "state": {
            "_view_name": "StyleView",
            "_model_name": "ProgressStyleModel",
            "description_width": "initial",
            "_view_module": "@jupyter-widgets/base",
            "_model_module_version": "1.5.0",
            "_view_count": null,
            "_view_module_version": "1.2.0",
            "bar_color": null,
            "_model_module": "@jupyter-widgets/controls"
          }
        },
        "9da9dc85ee99473face1e3f086325c65": {
          "model_module": "@jupyter-widgets/base",
          "model_name": "LayoutModel",
          "state": {
            "_view_name": "LayoutView",
            "grid_template_rows": null,
            "right": null,
            "justify_content": null,
            "_view_module": "@jupyter-widgets/base",
            "overflow": null,
            "_model_module_version": "1.2.0",
            "_view_count": null,
            "flex_flow": null,
            "width": null,
            "min_width": null,
            "border": null,
            "align_items": null,
            "bottom": null,
            "_model_module": "@jupyter-widgets/base",
            "top": null,
            "grid_column": null,
            "overflow_y": null,
            "overflow_x": null,
            "grid_auto_flow": null,
            "grid_area": null,
            "grid_template_columns": null,
            "flex": null,
            "_model_name": "LayoutModel",
            "justify_items": null,
            "grid_row": null,
            "max_height": null,
            "align_content": null,
            "visibility": null,
            "align_self": null,
            "height": null,
            "min_height": null,
            "padding": null,
            "grid_auto_rows": null,
            "grid_gap": null,
            "max_width": null,
            "order": null,
            "_view_module_version": "1.2.0",
            "grid_template_areas": null,
            "object_position": null,
            "object_fit": null,
            "grid_auto_columns": null,
            "margin": null,
            "display": null,
            "left": null
          }
        },
        "63a096e633c2465bb4a29570570fad23": {
          "model_module": "@jupyter-widgets/controls",
          "model_name": "DescriptionStyleModel",
          "state": {
            "_view_name": "StyleView",
            "_model_name": "DescriptionStyleModel",
            "description_width": "",
            "_view_module": "@jupyter-widgets/base",
            "_model_module_version": "1.5.0",
            "_view_count": null,
            "_view_module_version": "1.2.0",
            "_model_module": "@jupyter-widgets/controls"
          }
        },
        "2e6a2a9fd1744aac91078f5f376c6ad9": {
          "model_module": "@jupyter-widgets/base",
          "model_name": "LayoutModel",
          "state": {
            "_view_name": "LayoutView",
            "grid_template_rows": null,
            "right": null,
            "justify_content": null,
            "_view_module": "@jupyter-widgets/base",
            "overflow": null,
            "_model_module_version": "1.2.0",
            "_view_count": null,
            "flex_flow": null,
            "width": null,
            "min_width": null,
            "border": null,
            "align_items": null,
            "bottom": null,
            "_model_module": "@jupyter-widgets/base",
            "top": null,
            "grid_column": null,
            "overflow_y": null,
            "overflow_x": null,
            "grid_auto_flow": null,
            "grid_area": null,
            "grid_template_columns": null,
            "flex": null,
            "_model_name": "LayoutModel",
            "justify_items": null,
            "grid_row": null,
            "max_height": null,
            "align_content": null,
            "visibility": null,
            "align_self": null,
            "height": null,
            "min_height": null,
            "padding": null,
            "grid_auto_rows": null,
            "grid_gap": null,
            "max_width": null,
            "order": null,
            "_view_module_version": "1.2.0",
            "grid_template_areas": null,
            "object_position": null,
            "object_fit": null,
            "grid_auto_columns": null,
            "margin": null,
            "display": null,
            "left": null
          }
        },
        "7bd11cbcf194411fa5fb652ce308fc05": {
          "model_module": "@jupyter-widgets/controls",
          "model_name": "HBoxModel",
          "state": {
            "_view_name": "HBoxView",
            "_dom_classes": [],
            "_model_name": "HBoxModel",
            "_view_module": "@jupyter-widgets/controls",
            "_model_module_version": "1.5.0",
            "_view_count": null,
            "_view_module_version": "1.5.0",
            "box_style": "",
            "layout": "IPY_MODEL_b36d9ec0d4f446399fee04a2eee6fe39",
            "_model_module": "@jupyter-widgets/controls",
            "children": [
              "IPY_MODEL_45d1e98160ee43afaa7348f0bcb81271",
              "IPY_MODEL_44ec119e9a66430fad59f8e03161440f"
            ]
          }
        },
        "b36d9ec0d4f446399fee04a2eee6fe39": {
          "model_module": "@jupyter-widgets/base",
          "model_name": "LayoutModel",
          "state": {
            "_view_name": "LayoutView",
            "grid_template_rows": null,
            "right": null,
            "justify_content": null,
            "_view_module": "@jupyter-widgets/base",
            "overflow": null,
            "_model_module_version": "1.2.0",
            "_view_count": null,
            "flex_flow": null,
            "width": null,
            "min_width": null,
            "border": null,
            "align_items": null,
            "bottom": null,
            "_model_module": "@jupyter-widgets/base",
            "top": null,
            "grid_column": null,
            "overflow_y": null,
            "overflow_x": null,
            "grid_auto_flow": null,
            "grid_area": null,
            "grid_template_columns": null,
            "flex": null,
            "_model_name": "LayoutModel",
            "justify_items": null,
            "grid_row": null,
            "max_height": null,
            "align_content": null,
            "visibility": null,
            "align_self": null,
            "height": null,
            "min_height": null,
            "padding": null,
            "grid_auto_rows": null,
            "grid_gap": null,
            "max_width": null,
            "order": null,
            "_view_module_version": "1.2.0",
            "grid_template_areas": null,
            "object_position": null,
            "object_fit": null,
            "grid_auto_columns": null,
            "margin": null,
            "display": null,
            "left": null
          }
        },
        "45d1e98160ee43afaa7348f0bcb81271": {
          "model_module": "@jupyter-widgets/controls",
          "model_name": "FloatProgressModel",
          "state": {
            "_view_name": "ProgressView",
            "style": "IPY_MODEL_f7f62559bbc44d25be9e6f50b13f2e7f",
            "_dom_classes": [],
            "description": "",
            "_model_name": "FloatProgressModel",
            "bar_style": "success",
            "max": 28881,
            "_view_module": "@jupyter-widgets/controls",
            "_model_module_version": "1.5.0",
            "value": 28881,
            "_view_count": null,
            "_view_module_version": "1.5.0",
            "orientation": "horizontal",
            "min": 0,
            "description_tooltip": null,
            "_model_module": "@jupyter-widgets/controls",
            "layout": "IPY_MODEL_93acd4b97b544b13b161941008d94cf7"
          }
        },
        "44ec119e9a66430fad59f8e03161440f": {
          "model_module": "@jupyter-widgets/controls",
          "model_name": "HTMLModel",
          "state": {
            "_view_name": "HTMLView",
            "style": "IPY_MODEL_05b8108dcc17438b83f7e7abad63e5b1",
            "_dom_classes": [],
            "description": "",
            "_model_name": "HTMLModel",
            "placeholder": "​",
            "_view_module": "@jupyter-widgets/controls",
            "_model_module_version": "1.5.0",
            "value": " 29696/? [00:47&lt;00:00, 624.30it/s]",
            "_view_count": null,
            "_view_module_version": "1.5.0",
            "description_tooltip": null,
            "_model_module": "@jupyter-widgets/controls",
            "layout": "IPY_MODEL_c4ec2cddb8e74c1e81c50b4c40ad5b70"
          }
        },
        "f7f62559bbc44d25be9e6f50b13f2e7f": {
          "model_module": "@jupyter-widgets/controls",
          "model_name": "ProgressStyleModel",
          "state": {
            "_view_name": "StyleView",
            "_model_name": "ProgressStyleModel",
            "description_width": "initial",
            "_view_module": "@jupyter-widgets/base",
            "_model_module_version": "1.5.0",
            "_view_count": null,
            "_view_module_version": "1.2.0",
            "bar_color": null,
            "_model_module": "@jupyter-widgets/controls"
          }
        },
        "93acd4b97b544b13b161941008d94cf7": {
          "model_module": "@jupyter-widgets/base",
          "model_name": "LayoutModel",
          "state": {
            "_view_name": "LayoutView",
            "grid_template_rows": null,
            "right": null,
            "justify_content": null,
            "_view_module": "@jupyter-widgets/base",
            "overflow": null,
            "_model_module_version": "1.2.0",
            "_view_count": null,
            "flex_flow": null,
            "width": null,
            "min_width": null,
            "border": null,
            "align_items": null,
            "bottom": null,
            "_model_module": "@jupyter-widgets/base",
            "top": null,
            "grid_column": null,
            "overflow_y": null,
            "overflow_x": null,
            "grid_auto_flow": null,
            "grid_area": null,
            "grid_template_columns": null,
            "flex": null,
            "_model_name": "LayoutModel",
            "justify_items": null,
            "grid_row": null,
            "max_height": null,
            "align_content": null,
            "visibility": null,
            "align_self": null,
            "height": null,
            "min_height": null,
            "padding": null,
            "grid_auto_rows": null,
            "grid_gap": null,
            "max_width": null,
            "order": null,
            "_view_module_version": "1.2.0",
            "grid_template_areas": null,
            "object_position": null,
            "object_fit": null,
            "grid_auto_columns": null,
            "margin": null,
            "display": null,
            "left": null
          }
        },
        "05b8108dcc17438b83f7e7abad63e5b1": {
          "model_module": "@jupyter-widgets/controls",
          "model_name": "DescriptionStyleModel",
          "state": {
            "_view_name": "StyleView",
            "_model_name": "DescriptionStyleModel",
            "description_width": "",
            "_view_module": "@jupyter-widgets/base",
            "_model_module_version": "1.5.0",
            "_view_count": null,
            "_view_module_version": "1.2.0",
            "_model_module": "@jupyter-widgets/controls"
          }
        },
        "c4ec2cddb8e74c1e81c50b4c40ad5b70": {
          "model_module": "@jupyter-widgets/base",
          "model_name": "LayoutModel",
          "state": {
            "_view_name": "LayoutView",
            "grid_template_rows": null,
            "right": null,
            "justify_content": null,
            "_view_module": "@jupyter-widgets/base",
            "overflow": null,
            "_model_module_version": "1.2.0",
            "_view_count": null,
            "flex_flow": null,
            "width": null,
            "min_width": null,
            "border": null,
            "align_items": null,
            "bottom": null,
            "_model_module": "@jupyter-widgets/base",
            "top": null,
            "grid_column": null,
            "overflow_y": null,
            "overflow_x": null,
            "grid_auto_flow": null,
            "grid_area": null,
            "grid_template_columns": null,
            "flex": null,
            "_model_name": "LayoutModel",
            "justify_items": null,
            "grid_row": null,
            "max_height": null,
            "align_content": null,
            "visibility": null,
            "align_self": null,
            "height": null,
            "min_height": null,
            "padding": null,
            "grid_auto_rows": null,
            "grid_gap": null,
            "max_width": null,
            "order": null,
            "_view_module_version": "1.2.0",
            "grid_template_areas": null,
            "object_position": null,
            "object_fit": null,
            "grid_auto_columns": null,
            "margin": null,
            "display": null,
            "left": null
          }
        },
        "699280b19c7d4bad877c26fe5f35b847": {
          "model_module": "@jupyter-widgets/controls",
          "model_name": "HBoxModel",
          "state": {
            "_view_name": "HBoxView",
            "_dom_classes": [],
            "_model_name": "HBoxModel",
            "_view_module": "@jupyter-widgets/controls",
            "_model_module_version": "1.5.0",
            "_view_count": null,
            "_view_module_version": "1.5.0",
            "box_style": "",
            "layout": "IPY_MODEL_0fcba6c6990240638823041d2397ca4e",
            "_model_module": "@jupyter-widgets/controls",
            "children": [
              "IPY_MODEL_f53444b631ef4ecbb02e779cfe83a510",
              "IPY_MODEL_dc8b2be9772748a790bab49b10462f04"
            ]
          }
        },
        "0fcba6c6990240638823041d2397ca4e": {
          "model_module": "@jupyter-widgets/base",
          "model_name": "LayoutModel",
          "state": {
            "_view_name": "LayoutView",
            "grid_template_rows": null,
            "right": null,
            "justify_content": null,
            "_view_module": "@jupyter-widgets/base",
            "overflow": null,
            "_model_module_version": "1.2.0",
            "_view_count": null,
            "flex_flow": null,
            "width": null,
            "min_width": null,
            "border": null,
            "align_items": null,
            "bottom": null,
            "_model_module": "@jupyter-widgets/base",
            "top": null,
            "grid_column": null,
            "overflow_y": null,
            "overflow_x": null,
            "grid_auto_flow": null,
            "grid_area": null,
            "grid_template_columns": null,
            "flex": null,
            "_model_name": "LayoutModel",
            "justify_items": null,
            "grid_row": null,
            "max_height": null,
            "align_content": null,
            "visibility": null,
            "align_self": null,
            "height": null,
            "min_height": null,
            "padding": null,
            "grid_auto_rows": null,
            "grid_gap": null,
            "max_width": null,
            "order": null,
            "_view_module_version": "1.2.0",
            "grid_template_areas": null,
            "object_position": null,
            "object_fit": null,
            "grid_auto_columns": null,
            "margin": null,
            "display": null,
            "left": null
          }
        },
        "f53444b631ef4ecbb02e779cfe83a510": {
          "model_module": "@jupyter-widgets/controls",
          "model_name": "FloatProgressModel",
          "state": {
            "_view_name": "ProgressView",
            "style": "IPY_MODEL_092111966f314d6a9ce1a1a622611963",
            "_dom_classes": [],
            "description": "",
            "_model_name": "FloatProgressModel",
            "bar_style": "success",
            "max": 1648877,
            "_view_module": "@jupyter-widgets/controls",
            "_model_module_version": "1.5.0",
            "value": 1648877,
            "_view_count": null,
            "_view_module_version": "1.5.0",
            "orientation": "horizontal",
            "min": 0,
            "description_tooltip": null,
            "_model_module": "@jupyter-widgets/controls",
            "layout": "IPY_MODEL_13403993825840828605b909009e33b7"
          }
        },
        "dc8b2be9772748a790bab49b10462f04": {
          "model_module": "@jupyter-widgets/controls",
          "model_name": "HTMLModel",
          "state": {
            "_view_name": "HTMLView",
            "style": "IPY_MODEL_061188caeea24c4db6db3b123dd375de",
            "_dom_classes": [],
            "description": "",
            "_model_name": "HTMLModel",
            "placeholder": "​",
            "_view_module": "@jupyter-widgets/controls",
            "_model_module_version": "1.5.0",
            "value": " 1649664/? [00:47&lt;00:00, 35050.44it/s]",
            "_view_count": null,
            "_view_module_version": "1.5.0",
            "description_tooltip": null,
            "_model_module": "@jupyter-widgets/controls",
            "layout": "IPY_MODEL_8cec9121e0f04a25947b8d7d8c822169"
          }
        },
        "092111966f314d6a9ce1a1a622611963": {
          "model_module": "@jupyter-widgets/controls",
          "model_name": "ProgressStyleModel",
          "state": {
            "_view_name": "StyleView",
            "_model_name": "ProgressStyleModel",
            "description_width": "initial",
            "_view_module": "@jupyter-widgets/base",
            "_model_module_version": "1.5.0",
            "_view_count": null,
            "_view_module_version": "1.2.0",
            "bar_color": null,
            "_model_module": "@jupyter-widgets/controls"
          }
        },
        "13403993825840828605b909009e33b7": {
          "model_module": "@jupyter-widgets/base",
          "model_name": "LayoutModel",
          "state": {
            "_view_name": "LayoutView",
            "grid_template_rows": null,
            "right": null,
            "justify_content": null,
            "_view_module": "@jupyter-widgets/base",
            "overflow": null,
            "_model_module_version": "1.2.0",
            "_view_count": null,
            "flex_flow": null,
            "width": null,
            "min_width": null,
            "border": null,
            "align_items": null,
            "bottom": null,
            "_model_module": "@jupyter-widgets/base",
            "top": null,
            "grid_column": null,
            "overflow_y": null,
            "overflow_x": null,
            "grid_auto_flow": null,
            "grid_area": null,
            "grid_template_columns": null,
            "flex": null,
            "_model_name": "LayoutModel",
            "justify_items": null,
            "grid_row": null,
            "max_height": null,
            "align_content": null,
            "visibility": null,
            "align_self": null,
            "height": null,
            "min_height": null,
            "padding": null,
            "grid_auto_rows": null,
            "grid_gap": null,
            "max_width": null,
            "order": null,
            "_view_module_version": "1.2.0",
            "grid_template_areas": null,
            "object_position": null,
            "object_fit": null,
            "grid_auto_columns": null,
            "margin": null,
            "display": null,
            "left": null
          }
        },
        "061188caeea24c4db6db3b123dd375de": {
          "model_module": "@jupyter-widgets/controls",
          "model_name": "DescriptionStyleModel",
          "state": {
            "_view_name": "StyleView",
            "_model_name": "DescriptionStyleModel",
            "description_width": "",
            "_view_module": "@jupyter-widgets/base",
            "_model_module_version": "1.5.0",
            "_view_count": null,
            "_view_module_version": "1.2.0",
            "_model_module": "@jupyter-widgets/controls"
          }
        },
        "8cec9121e0f04a25947b8d7d8c822169": {
          "model_module": "@jupyter-widgets/base",
          "model_name": "LayoutModel",
          "state": {
            "_view_name": "LayoutView",
            "grid_template_rows": null,
            "right": null,
            "justify_content": null,
            "_view_module": "@jupyter-widgets/base",
            "overflow": null,
            "_model_module_version": "1.2.0",
            "_view_count": null,
            "flex_flow": null,
            "width": null,
            "min_width": null,
            "border": null,
            "align_items": null,
            "bottom": null,
            "_model_module": "@jupyter-widgets/base",
            "top": null,
            "grid_column": null,
            "overflow_y": null,
            "overflow_x": null,
            "grid_auto_flow": null,
            "grid_area": null,
            "grid_template_columns": null,
            "flex": null,
            "_model_name": "LayoutModel",
            "justify_items": null,
            "grid_row": null,
            "max_height": null,
            "align_content": null,
            "visibility": null,
            "align_self": null,
            "height": null,
            "min_height": null,
            "padding": null,
            "grid_auto_rows": null,
            "grid_gap": null,
            "max_width": null,
            "order": null,
            "_view_module_version": "1.2.0",
            "grid_template_areas": null,
            "object_position": null,
            "object_fit": null,
            "grid_auto_columns": null,
            "margin": null,
            "display": null,
            "left": null
          }
        },
        "d3838dfff9ed479a8ba28fbce2c52452": {
          "model_module": "@jupyter-widgets/controls",
          "model_name": "HBoxModel",
          "state": {
            "_view_name": "HBoxView",
            "_dom_classes": [],
            "_model_name": "HBoxModel",
            "_view_module": "@jupyter-widgets/controls",
            "_model_module_version": "1.5.0",
            "_view_count": null,
            "_view_module_version": "1.5.0",
            "box_style": "",
            "layout": "IPY_MODEL_21b3d2f84e494d8ca22db9986b38e19e",
            "_model_module": "@jupyter-widgets/controls",
            "children": [
              "IPY_MODEL_e6f0d7be0aa1441d8c66fa2cb37fca77",
              "IPY_MODEL_a41d3e1bc14448708618103ebc612ab8"
            ]
          }
        },
        "21b3d2f84e494d8ca22db9986b38e19e": {
          "model_module": "@jupyter-widgets/base",
          "model_name": "LayoutModel",
          "state": {
            "_view_name": "LayoutView",
            "grid_template_rows": null,
            "right": null,
            "justify_content": null,
            "_view_module": "@jupyter-widgets/base",
            "overflow": null,
            "_model_module_version": "1.2.0",
            "_view_count": null,
            "flex_flow": null,
            "width": null,
            "min_width": null,
            "border": null,
            "align_items": null,
            "bottom": null,
            "_model_module": "@jupyter-widgets/base",
            "top": null,
            "grid_column": null,
            "overflow_y": null,
            "overflow_x": null,
            "grid_auto_flow": null,
            "grid_area": null,
            "grid_template_columns": null,
            "flex": null,
            "_model_name": "LayoutModel",
            "justify_items": null,
            "grid_row": null,
            "max_height": null,
            "align_content": null,
            "visibility": null,
            "align_self": null,
            "height": null,
            "min_height": null,
            "padding": null,
            "grid_auto_rows": null,
            "grid_gap": null,
            "max_width": null,
            "order": null,
            "_view_module_version": "1.2.0",
            "grid_template_areas": null,
            "object_position": null,
            "object_fit": null,
            "grid_auto_columns": null,
            "margin": null,
            "display": null,
            "left": null
          }
        },
        "e6f0d7be0aa1441d8c66fa2cb37fca77": {
          "model_module": "@jupyter-widgets/controls",
          "model_name": "FloatProgressModel",
          "state": {
            "_view_name": "ProgressView",
            "style": "IPY_MODEL_397b7d4191174b6a85ecccf2bad95d22",
            "_dom_classes": [],
            "description": "",
            "_model_name": "FloatProgressModel",
            "bar_style": "success",
            "max": 4542,
            "_view_module": "@jupyter-widgets/controls",
            "_model_module_version": "1.5.0",
            "value": 4542,
            "_view_count": null,
            "_view_module_version": "1.5.0",
            "orientation": "horizontal",
            "min": 0,
            "description_tooltip": null,
            "_model_module": "@jupyter-widgets/controls",
            "layout": "IPY_MODEL_4a2d9de0e9da4496acf5ac66dcfd239c"
          }
        },
        "a41d3e1bc14448708618103ebc612ab8": {
          "model_module": "@jupyter-widgets/controls",
          "model_name": "HTMLModel",
          "state": {
            "_view_name": "HTMLView",
            "style": "IPY_MODEL_9144509d209f4267843e923a20527d83",
            "_dom_classes": [],
            "description": "",
            "_model_name": "HTMLModel",
            "placeholder": "​",
            "_view_module": "@jupyter-widgets/controls",
            "_model_module_version": "1.5.0",
            "value": " 5120/? [01:12&lt;00:00, 70.87it/s]",
            "_view_count": null,
            "_view_module_version": "1.5.0",
            "description_tooltip": null,
            "_model_module": "@jupyter-widgets/controls",
            "layout": "IPY_MODEL_8bccdd8a64c64875bb0fcdba463c3c00"
          }
        },
        "397b7d4191174b6a85ecccf2bad95d22": {
          "model_module": "@jupyter-widgets/controls",
          "model_name": "ProgressStyleModel",
          "state": {
            "_view_name": "StyleView",
            "_model_name": "ProgressStyleModel",
            "description_width": "initial",
            "_view_module": "@jupyter-widgets/base",
            "_model_module_version": "1.5.0",
            "_view_count": null,
            "_view_module_version": "1.2.0",
            "bar_color": null,
            "_model_module": "@jupyter-widgets/controls"
          }
        },
        "4a2d9de0e9da4496acf5ac66dcfd239c": {
          "model_module": "@jupyter-widgets/base",
          "model_name": "LayoutModel",
          "state": {
            "_view_name": "LayoutView",
            "grid_template_rows": null,
            "right": null,
            "justify_content": null,
            "_view_module": "@jupyter-widgets/base",
            "overflow": null,
            "_model_module_version": "1.2.0",
            "_view_count": null,
            "flex_flow": null,
            "width": null,
            "min_width": null,
            "border": null,
            "align_items": null,
            "bottom": null,
            "_model_module": "@jupyter-widgets/base",
            "top": null,
            "grid_column": null,
            "overflow_y": null,
            "overflow_x": null,
            "grid_auto_flow": null,
            "grid_area": null,
            "grid_template_columns": null,
            "flex": null,
            "_model_name": "LayoutModel",
            "justify_items": null,
            "grid_row": null,
            "max_height": null,
            "align_content": null,
            "visibility": null,
            "align_self": null,
            "height": null,
            "min_height": null,
            "padding": null,
            "grid_auto_rows": null,
            "grid_gap": null,
            "max_width": null,
            "order": null,
            "_view_module_version": "1.2.0",
            "grid_template_areas": null,
            "object_position": null,
            "object_fit": null,
            "grid_auto_columns": null,
            "margin": null,
            "display": null,
            "left": null
          }
        },
        "9144509d209f4267843e923a20527d83": {
          "model_module": "@jupyter-widgets/controls",
          "model_name": "DescriptionStyleModel",
          "state": {
            "_view_name": "StyleView",
            "_model_name": "DescriptionStyleModel",
            "description_width": "",
            "_view_module": "@jupyter-widgets/base",
            "_model_module_version": "1.5.0",
            "_view_count": null,
            "_view_module_version": "1.2.0",
            "_model_module": "@jupyter-widgets/controls"
          }
        },
        "8bccdd8a64c64875bb0fcdba463c3c00": {
          "model_module": "@jupyter-widgets/base",
          "model_name": "LayoutModel",
          "state": {
            "_view_name": "LayoutView",
            "grid_template_rows": null,
            "right": null,
            "justify_content": null,
            "_view_module": "@jupyter-widgets/base",
            "overflow": null,
            "_model_module_version": "1.2.0",
            "_view_count": null,
            "flex_flow": null,
            "width": null,
            "min_width": null,
            "border": null,
            "align_items": null,
            "bottom": null,
            "_model_module": "@jupyter-widgets/base",
            "top": null,
            "grid_column": null,
            "overflow_y": null,
            "overflow_x": null,
            "grid_auto_flow": null,
            "grid_area": null,
            "grid_template_columns": null,
            "flex": null,
            "_model_name": "LayoutModel",
            "justify_items": null,
            "grid_row": null,
            "max_height": null,
            "align_content": null,
            "visibility": null,
            "align_self": null,
            "height": null,
            "min_height": null,
            "padding": null,
            "grid_auto_rows": null,
            "grid_gap": null,
            "max_width": null,
            "order": null,
            "_view_module_version": "1.2.0",
            "grid_template_areas": null,
            "object_position": null,
            "object_fit": null,
            "grid_auto_columns": null,
            "margin": null,
            "display": null,
            "left": null
          }
        }
      }
    }
  },
  "cells": [
    {
      "cell_type": "markdown",
      "metadata": {
        "id": "view-in-github",
        "colab_type": "text"
      },
      "source": [
        "<a href=\"https://colab.research.google.com/github/anilbhatt1/Deep_Learning_EVA6_Phase1/blob/main/EVA6P1_S3_MNIST_Backprop_V1.ipynb\" target=\"_parent\"><img src=\"https://colab.research.google.com/assets/colab-badge.svg\" alt=\"Open In Colab\"/></a>"
      ]
    },
    {
      "cell_type": "code",
      "metadata": {
        "colab": {
          "base_uri": "https://localhost:8080/"
        },
        "id": "wlGk2nuq4ZCr",
        "outputId": "a8708e1e-2433-431a-8517-14d3e59bf5f4"
      },
      "source": [
        "! nvidia-smi"
      ],
      "execution_count": 1,
      "outputs": [
        {
          "output_type": "stream",
          "text": [
            "Fri May 21 10:25:14 2021       \n",
            "+-----------------------------------------------------------------------------+\n",
            "| NVIDIA-SMI 465.19.01    Driver Version: 460.32.03    CUDA Version: 11.2     |\n",
            "|-------------------------------+----------------------+----------------------+\n",
            "| GPU  Name        Persistence-M| Bus-Id        Disp.A | Volatile Uncorr. ECC |\n",
            "| Fan  Temp  Perf  Pwr:Usage/Cap|         Memory-Usage | GPU-Util  Compute M. |\n",
            "|                               |                      |               MIG M. |\n",
            "|===============================+======================+======================|\n",
            "|   0  Tesla T4            Off  | 00000000:00:04.0 Off |                    0 |\n",
            "| N/A   65C    P8    11W /  70W |      0MiB / 15109MiB |      0%      Default |\n",
            "|                               |                      |                  N/A |\n",
            "+-------------------------------+----------------------+----------------------+\n",
            "                                                                               \n",
            "+-----------------------------------------------------------------------------+\n",
            "| Processes:                                                                  |\n",
            "|  GPU   GI   CI        PID   Type   Process name                  GPU Memory |\n",
            "|        ID   ID                                                   Usage      |\n",
            "|=============================================================================|\n",
            "|  No running processes found                                                 |\n",
            "+-----------------------------------------------------------------------------+\n"
          ],
          "name": "stdout"
        }
      ]
    },
    {
      "cell_type": "code",
      "metadata": {
        "id": "95gzlYvniAPz"
      },
      "source": [
        "#from google.colab import drive\n",
        "#drive.mount('/content/gdrive')"
      ],
      "execution_count": null,
      "outputs": []
    },
    {
      "cell_type": "code",
      "metadata": {
        "id": "Q_5J-2DRZ8Co"
      },
      "source": [
        "#!pip install torch==1.5.0+cu92 torchvision==0.6.0+cu92 -f https://download.pytorch.org/whl/torch_stable.html"
      ],
      "execution_count": null,
      "outputs": []
    },
    {
      "cell_type": "code",
      "metadata": {
        "colab": {
          "base_uri": "https://localhost:8080/"
        },
        "id": "teyHqGVbqdfJ",
        "outputId": "f67468ab-c294-468d-9f7b-ac4a1db0ad52"
      },
      "source": [
        "import torch\n",
        "import torch.nn as nn\n",
        "import torch.nn.functional as F\n",
        "import torch.optim as optim\n",
        "from torchvision import datasets, transforms\n",
        "import numpy as np\n",
        "print('Pytorch version:', torch.__version__)"
      ],
      "execution_count": 2,
      "outputs": [
        {
          "output_type": "stream",
          "text": [
            "Pytorch version: 1.8.1+cu101\n"
          ],
          "name": "stdout"
        }
      ]
    },
    {
      "cell_type": "code",
      "metadata": {
        "colab": {
          "base_uri": "https://localhost:8080/"
        },
        "id": "YnctwiZ0U-II",
        "outputId": "14ed7c01-1a43-4012-9a3c-e79d42913306"
      },
      "source": [
        "t1 = torch.Tensor()\n",
        "t2 = torch.Tensor()\n",
        "for i in range(32):\n",
        "    if i == 0:\n",
        "        t1 = torch.randint(0,9, (1,1)).expand(28, 28, 1).unsqueeze(0)\n",
        "        t2 = torch.randint(0,9, (1,))\n",
        "        #t02 = torch.randint(0,9, (1,))\n",
        "        t3 = t2.expand(28, 28, 1).unsqueeze(0)\n",
        "    else:\n",
        "        temp1 = torch.randint(0,9, (1,1)).expand(28, 28, 1).unsqueeze(0)\n",
        "        temp2 = torch.randint(0,9, (1,))\n",
        "        #temp02 = torch.randint(0,9, (1,))\n",
        "        temp3 = temp2.expand(28, 28, 1).unsqueeze(0)\n",
        "        t1 = torch.cat((t1, temp1))\n",
        "        t2 = torch.cat((t2, temp2))\n",
        "        #t02 = torch.cat((t02, temp02))\n",
        "        t3 = torch.cat((t3, temp3))        \n",
        "t4 = t1 + t3 \n",
        "t5 = torch.randint(0, 9, (32, 2))\n",
        "t6 = t5[:, :1]\n",
        "t7 = t5[:, 1:]     \n",
        "print('t1.size() , t2.size(), t3.size() , t4.size():', t1.size(), t2.size(), t3.size(), t4.size())  \n",
        "print('t5.size() :', t5.size(), 't6.size() :', t6.size(), 't6.size() :', t6.size())  \n",
        "#print('t02.size() :', t02.size())"
      ],
      "execution_count": 26,
      "outputs": [
        {
          "output_type": "stream",
          "text": [
            "t1.size() , t2.size(), t3.size() , t4.size(): torch.Size([32, 28, 28, 1]) torch.Size([32]) torch.Size([32, 28, 28, 1]) torch.Size([32, 28, 28, 1])\n",
            "t5.size() : torch.Size([32, 2]) t6.size() : torch.Size([32, 1]) t6.size() : torch.Size([32, 1])\n"
          ],
          "name": "stdout"
        }
      ]
    },
    {
      "cell_type": "code",
      "metadata": {
        "colab": {
          "base_uri": "https://localhost:8080/"
        },
        "id": "KjAgt81u8EPe",
        "outputId": "d891d34b-144f-4ff6-fc24-daa4601ee650"
      },
      "source": [
        "t8 = torch.randint(0,9, (32,1))\n",
        "print('t8[:3,:] :',t8[:3,:])\n",
        "#print('t2[:3,:] :',t2[:3,:])\n",
        "t8.size(), t8.size(0)"
      ],
      "execution_count": 30,
      "outputs": [
        {
          "output_type": "stream",
          "text": [
            "t8[:3,:] : tensor([[5],\n",
            "        [8],\n",
            "        [7]])\n"
          ],
          "name": "stdout"
        },
        {
          "output_type": "execute_result",
          "data": {
            "text/plain": [
              "(torch.Size([32, 1]), 32)"
            ]
          },
          "metadata": {
            "tags": []
          },
          "execution_count": 30
        }
      ]
    },
    {
      "cell_type": "code",
      "metadata": {
        "colab": {
          "base_uri": "https://localhost:8080/"
        },
        "id": "kVbHLbRW8tIj",
        "outputId": "6a76d059-73a6-4087-8c34-21a7e5f8efe3"
      },
      "source": [
        "t9 = t8 + t2\n",
        "t9[:3, :]"
      ],
      "execution_count": null,
      "outputs": [
        {
          "output_type": "execute_result",
          "data": {
            "text/plain": [
              "tensor([[ 9],\n",
              "        [14],\n",
              "        [ 7]])"
            ]
          },
          "metadata": {
            "tags": []
          },
          "execution_count": 17
        }
      ]
    },
    {
      "cell_type": "code",
      "metadata": {
        "colab": {
          "base_uri": "https://localhost:8080/"
        },
        "id": "b60BfcBogOgJ",
        "outputId": "20925d64-d807-41a5-c845-362622ec4c1a"
      },
      "source": [
        "t10 = torch.randint(0, 9, (3, 1))\n",
        "t11 = torch.randint(0, 9, (3, 1))\n",
        "t12 = torch.cat((t10, t11),dim =1)\n",
        "print('t10.size(), t11.size(), t12.size():',t10.size(), t11.size(), t12.size())"
      ],
      "execution_count": null,
      "outputs": [
        {
          "output_type": "stream",
          "text": [
            "t10.size(), t11.size(), t12.size(): torch.Size([3, 1]) torch.Size([3, 1]) torch.Size([3, 2])\n"
          ],
          "name": "stdout"
        }
      ]
    },
    {
      "cell_type": "code",
      "metadata": {
        "colab": {
          "base_uri": "https://localhost:8080/"
        },
        "id": "-xgOEJ8tVr2Z",
        "outputId": "992536ba-256a-4b2d-bfc4-a22603f60284"
      },
      "source": [
        "t1.size()"
      ],
      "execution_count": null,
      "outputs": [
        {
          "output_type": "execute_result",
          "data": {
            "text/plain": [
              "torch.Size([28, 28, 1])"
            ]
          },
          "metadata": {
            "tags": []
          },
          "execution_count": 20
        }
      ]
    },
    {
      "cell_type": "code",
      "metadata": {
        "colab": {
          "base_uri": "https://localhost:8080/",
          "height": 128
        },
        "id": "K4hrNJ-YUO9L",
        "outputId": "93b6ae60-51f0-4323-ee30-a52eb2a569d0"
      },
      "source": [
        "t13 = torch.rand(32,28, 28, 1)\n",
        "t14 = torch.rand(32,28, 28, 1)\n",
        "t15 = torch.cat((t13,t14),dim=1)\n",
        "print(t15.size())"
      ],
      "execution_count": null,
      "outputs": [
        {
          "output_type": "error",
          "ename": "SyntaxError",
          "evalue": "ignored",
          "traceback": [
            "\u001b[0;36m  File \u001b[0;32m\"<ipython-input-27-adb35c754b16>\"\u001b[0;36m, line \u001b[0;32m3\u001b[0m\n\u001b[0;31m    t15 = torch.cat((t13,t14),dim=1:)\u001b[0m\n\u001b[0m                                   ^\u001b[0m\n\u001b[0;31mSyntaxError\u001b[0m\u001b[0;31m:\u001b[0m invalid syntax\n"
          ]
        }
      ]
    },
    {
      "cell_type": "code",
      "metadata": {
        "id": "4Y8zLuQ3Y5Oz"
      },
      "source": [
        "# Train Phase transformations\n",
        "train_transforms = transforms.Compose([\n",
        "                                      #  transforms.Resize((28, 28)),\n",
        "                                      #  transforms.ColorJitter(brightness=0.10, contrast=0.1, saturation=0.10, hue=0.1),\n",
        "                                       transforms.ToTensor(),\n",
        "                                       transforms.Normalize((0.1307,), (0.3081,)) # The mean and std have to be sequences (e.g., tuples), therefore you should add a comma after the values. \n",
        "                                       # Note the difference between (0.1307) and (0.1307,)\n",
        "                                       ])\n",
        "\n",
        "# Test Phase transformations\n",
        "test_transforms = transforms.Compose([\n",
        "                                      #  transforms.Resize((28, 28)),\n",
        "                                      #  transforms.ColorJitter(brightness=0.10, contrast=0.1, saturation=0.10, hue=0.1),\n",
        "                                       transforms.ToTensor(),\n",
        "                                       transforms.Normalize((0.1307,), (0.3081,))\n",
        "                                       ])"
      ],
      "execution_count": 3,
      "outputs": []
    },
    {
      "cell_type": "code",
      "metadata": {
        "colab": {
          "base_uri": "https://localhost:8080/",
          "height": 581,
          "referenced_widgets": [
            "351d916d6fd541b2a4d7f02034df1857",
            "1532dbb504dd451c891db1c92b88b0a2",
            "681c7bff8c2a4e009ad922bb97cf3d4a",
            "61d8ce75aea94a98ba0820af1c826a7a",
            "750ab24dbe47487bb105e5b0cf5bf92b",
            "9da9dc85ee99473face1e3f086325c65",
            "63a096e633c2465bb4a29570570fad23",
            "2e6a2a9fd1744aac91078f5f376c6ad9",
            "7bd11cbcf194411fa5fb652ce308fc05",
            "b36d9ec0d4f446399fee04a2eee6fe39",
            "45d1e98160ee43afaa7348f0bcb81271",
            "44ec119e9a66430fad59f8e03161440f",
            "f7f62559bbc44d25be9e6f50b13f2e7f",
            "93acd4b97b544b13b161941008d94cf7",
            "05b8108dcc17438b83f7e7abad63e5b1",
            "c4ec2cddb8e74c1e81c50b4c40ad5b70",
            "699280b19c7d4bad877c26fe5f35b847",
            "0fcba6c6990240638823041d2397ca4e",
            "f53444b631ef4ecbb02e779cfe83a510",
            "dc8b2be9772748a790bab49b10462f04",
            "092111966f314d6a9ce1a1a622611963",
            "13403993825840828605b909009e33b7",
            "061188caeea24c4db6db3b123dd375de",
            "8cec9121e0f04a25947b8d7d8c822169",
            "d3838dfff9ed479a8ba28fbce2c52452",
            "21b3d2f84e494d8ca22db9986b38e19e",
            "e6f0d7be0aa1441d8c66fa2cb37fca77",
            "a41d3e1bc14448708618103ebc612ab8",
            "397b7d4191174b6a85ecccf2bad95d22",
            "4a2d9de0e9da4496acf5ac66dcfd239c",
            "9144509d209f4267843e923a20527d83",
            "8bccdd8a64c64875bb0fcdba463c3c00"
          ]
        },
        "id": "HYd9cw98Y9Ay",
        "outputId": "e1200e67-4543-4b70-b178-1a48cf3ce2a9"
      },
      "source": [
        "train = datasets.MNIST('./data', train=True, download=True, transform=train_transforms)\n",
        "test = datasets.MNIST('./data', train=False, download=True, transform=test_transforms)"
      ],
      "execution_count": 4,
      "outputs": [
        {
          "output_type": "stream",
          "text": [
            "Downloading http://yann.lecun.com/exdb/mnist/train-images-idx3-ubyte.gz\n",
            "Downloading http://yann.lecun.com/exdb/mnist/train-images-idx3-ubyte.gz to ./data/MNIST/raw/train-images-idx3-ubyte.gz\n"
          ],
          "name": "stdout"
        },
        {
          "output_type": "display_data",
          "data": {
            "application/vnd.jupyter.widget-view+json": {
              "model_id": "351d916d6fd541b2a4d7f02034df1857",
              "version_minor": 0,
              "version_major": 2
            },
            "text/plain": [
              "HBox(children=(FloatProgress(value=0.0, max=9912422.0), HTML(value='')))"
            ]
          },
          "metadata": {
            "tags": []
          }
        },
        {
          "output_type": "stream",
          "text": [
            "\n",
            "Extracting ./data/MNIST/raw/train-images-idx3-ubyte.gz to ./data/MNIST/raw\n",
            "\n",
            "Downloading http://yann.lecun.com/exdb/mnist/train-labels-idx1-ubyte.gz\n",
            "Downloading http://yann.lecun.com/exdb/mnist/train-labels-idx1-ubyte.gz to ./data/MNIST/raw/train-labels-idx1-ubyte.gz\n"
          ],
          "name": "stdout"
        },
        {
          "output_type": "display_data",
          "data": {
            "application/vnd.jupyter.widget-view+json": {
              "model_id": "7bd11cbcf194411fa5fb652ce308fc05",
              "version_minor": 0,
              "version_major": 2
            },
            "text/plain": [
              "HBox(children=(FloatProgress(value=0.0, max=28881.0), HTML(value='')))"
            ]
          },
          "metadata": {
            "tags": []
          }
        },
        {
          "output_type": "stream",
          "text": [
            "\n",
            "Extracting ./data/MNIST/raw/train-labels-idx1-ubyte.gz to ./data/MNIST/raw\n",
            "\n",
            "Downloading http://yann.lecun.com/exdb/mnist/t10k-images-idx3-ubyte.gz\n",
            "Downloading http://yann.lecun.com/exdb/mnist/t10k-images-idx3-ubyte.gz to ./data/MNIST/raw/t10k-images-idx3-ubyte.gz\n"
          ],
          "name": "stdout"
        },
        {
          "output_type": "display_data",
          "data": {
            "application/vnd.jupyter.widget-view+json": {
              "model_id": "699280b19c7d4bad877c26fe5f35b847",
              "version_minor": 0,
              "version_major": 2
            },
            "text/plain": [
              "HBox(children=(FloatProgress(value=0.0, max=1648877.0), HTML(value='')))"
            ]
          },
          "metadata": {
            "tags": []
          }
        },
        {
          "output_type": "stream",
          "text": [
            "\n",
            "Extracting ./data/MNIST/raw/t10k-images-idx3-ubyte.gz to ./data/MNIST/raw\n",
            "\n",
            "Downloading http://yann.lecun.com/exdb/mnist/t10k-labels-idx1-ubyte.gz\n",
            "Downloading http://yann.lecun.com/exdb/mnist/t10k-labels-idx1-ubyte.gz to ./data/MNIST/raw/t10k-labels-idx1-ubyte.gz\n"
          ],
          "name": "stdout"
        },
        {
          "output_type": "display_data",
          "data": {
            "application/vnd.jupyter.widget-view+json": {
              "model_id": "d3838dfff9ed479a8ba28fbce2c52452",
              "version_minor": 0,
              "version_major": 2
            },
            "text/plain": [
              "HBox(children=(FloatProgress(value=0.0, max=4542.0), HTML(value='')))"
            ]
          },
          "metadata": {
            "tags": []
          }
        },
        {
          "output_type": "stream",
          "text": [
            "\n",
            "Extracting ./data/MNIST/raw/t10k-labels-idx1-ubyte.gz to ./data/MNIST/raw\n",
            "\n",
            "Processing...\n",
            "Done!\n"
          ],
          "name": "stdout"
        },
        {
          "output_type": "stream",
          "text": [
            "/usr/local/lib/python3.7/dist-packages/torchvision/datasets/mnist.py:502: UserWarning: The given NumPy array is not writeable, and PyTorch does not support non-writeable tensors. This means you can write to the underlying (supposedly non-writeable) NumPy array using the tensor. You may want to copy the array to protect its data or make it writeable before converting it to a tensor. This type of warning will be suppressed for the rest of this program. (Triggered internally at  /pytorch/torch/csrc/utils/tensor_numpy.cpp:143.)\n",
            "  return torch.from_numpy(parsed.astype(m[2], copy=False)).view(*s)\n"
          ],
          "name": "stderr"
        }
      ]
    },
    {
      "cell_type": "code",
      "metadata": {
        "colab": {
          "base_uri": "https://localhost:8080/"
        },
        "id": "FYbPi9d6ZBcY",
        "outputId": "92cc4cd7-b61b-41e8-d607-37cb2d769d11"
      },
      "source": [
        "SEED = 1\n",
        "\n",
        "# CUDA?\n",
        "cuda = torch.cuda.is_available()\n",
        "print(\"CUDA Available?\", cuda)\n",
        "\n",
        "# For reproducibility\n",
        "torch.manual_seed(SEED)\n",
        "\n",
        "if cuda:\n",
        "    torch.cuda.manual_seed(SEED)\n",
        "\n",
        "# dataloader arguments - something you'll fetch these from cmdprmt\n",
        "dataloader_args = dict(shuffle=True, batch_size=128, num_workers=4, pin_memory=True) if cuda else dict(shuffle=True, batch_size=64)\n",
        "\n",
        "# train dataloader\n",
        "train_loader = torch.utils.data.DataLoader(train, **dataloader_args)\n",
        "\n",
        "# test dataloader\n",
        "test_loader = torch.utils.data.DataLoader(test, **dataloader_args)"
      ],
      "execution_count": 6,
      "outputs": [
        {
          "output_type": "stream",
          "text": [
            "CUDA Available? True\n"
          ],
          "name": "stdout"
        },
        {
          "output_type": "stream",
          "text": [
            "/usr/local/lib/python3.7/dist-packages/torch/utils/data/dataloader.py:477: UserWarning: This DataLoader will create 4 worker processes in total. Our suggested max number of worker in current system is 2, which is smaller than what this DataLoader is going to create. Please be aware that excessive worker creation might get DataLoader running slow or even freeze, lower the worker number to avoid potential slowness/freeze if necessary.\n",
            "  cpuset_checked))\n"
          ],
          "name": "stderr"
        }
      ]
    },
    {
      "cell_type": "code",
      "metadata": {
        "colab": {
          "base_uri": "https://localhost:8080/",
          "height": 545
        },
        "id": "bUZ74jC7ZEpF",
        "outputId": "c9e313a8-53a1-4303-8ef5-a55781be20c9"
      },
      "source": [
        "# We'd need to convert it into Numpy! Remember above we have converted it into tensors already\n",
        "train_data = train.train_data\n",
        "train_data = train.transform(train_data.numpy())\n",
        "\n",
        "print('[Train]')\n",
        "print(' - Numpy Shape:', train.train_data.cpu().numpy().shape)\n",
        "print(' - Tensor Shape:', train.train_data.size())\n",
        "print(' - min:', torch.min(train_data))\n",
        "print(' - max:', torch.max(train_data))\n",
        "print(' - mean:', torch.mean(train_data))\n",
        "print(' - std:', torch.std(train_data))\n",
        "print(' - var:', torch.var(train_data))\n",
        "\n",
        "dataiter = iter(train_loader)  # iter() creates a data iterator object which will useful during loops like for, while etc.\n",
        "images, labels = dataiter.next()  \n",
        "\n",
        "print(images.shape)\n",
        "print(labels.shape)\n",
        "# images[0] will be a tensor of 28x28x1 shape i.e. 1 block of 28x28 matrix. There will be 128 such images in a batch as we chose to gave batch \n",
        "# size as 128\n",
        "\n",
        "# Let's visualize some of the images\n",
        "%matplotlib inline\n",
        "import matplotlib.pyplot as plt\n",
        "\n",
        "plt.imshow(images[72].numpy().squeeze(), cmap='gray_r')"
      ],
      "execution_count": 7,
      "outputs": [
        {
          "output_type": "stream",
          "text": [
            "/usr/local/lib/python3.7/dist-packages/torchvision/datasets/mnist.py:64: UserWarning: train_data has been renamed data\n",
            "  warnings.warn(\"train_data has been renamed data\")\n"
          ],
          "name": "stderr"
        },
        {
          "output_type": "stream",
          "text": [
            "[Train]\n",
            " - Numpy Shape: (60000, 28, 28)\n",
            " - Tensor Shape: torch.Size([60000, 28, 28])\n",
            " - min: tensor(-0.4242)\n",
            " - max: tensor(2.8215)\n",
            " - mean: tensor(-0.0001)\n",
            " - std: tensor(1.0000)\n",
            " - var: tensor(1.0001)\n"
          ],
          "name": "stdout"
        },
        {
          "output_type": "stream",
          "text": [
            "/usr/local/lib/python3.7/dist-packages/torch/utils/data/dataloader.py:477: UserWarning: This DataLoader will create 4 worker processes in total. Our suggested max number of worker in current system is 2, which is smaller than what this DataLoader is going to create. Please be aware that excessive worker creation might get DataLoader running slow or even freeze, lower the worker number to avoid potential slowness/freeze if necessary.\n",
            "  cpuset_checked))\n"
          ],
          "name": "stderr"
        },
        {
          "output_type": "stream",
          "text": [
            "torch.Size([128, 1, 28, 28])\n",
            "torch.Size([128])\n"
          ],
          "name": "stdout"
        },
        {
          "output_type": "execute_result",
          "data": {
            "text/plain": [
              "<matplotlib.image.AxesImage at 0x7f6a30162490>"
            ]
          },
          "metadata": {
            "tags": []
          },
          "execution_count": 7
        },
        {
          "output_type": "display_data",
          "data": {
            "image/png": "[encoded data removed]",
            "text/plain": [
              "<Figure size 432x288 with 1 Axes>"
            ]
          },
          "metadata": {
            "tags": [],
            "needs_background": "light"
          }
        }
      ]
    },
    {
      "cell_type": "code",
      "metadata": {
        "colab": {
          "base_uri": "https://localhost:8080/",
          "height": 248
        },
        "id": "T2m_DehaZG9v",
        "outputId": "40331e58-6413-46aa-ecec-71ebdb4970e4"
      },
      "source": [
        "# images[index].numpy().squeeze() -> This helps to remove the 3rd dimension and give us a tensor of shape 28x28 which can be displayed\n",
        "figure = plt.figure()\n",
        "num_of_images = 84\n",
        "for index in range(1, num_of_images + 1):\n",
        "    plt.subplot(12, 7, index)   # 12 x 7 = 84\n",
        "    plt.axis('off')\n",
        "    plt.imshow(images[index].numpy().squeeze(), cmap='gray_r')"
      ],
      "execution_count": 8,
      "outputs": [
        {
          "output_type": "display_data",
          "data": {
            "image/png": "[encoded data removed]",
            "text/plain": [
              "<Figure size 432x288 with 84 Axes>"
            ]
          },
          "metadata": {
            "tags": [],
            "needs_background": "light"
          }
        }
      ]
    },
    {
      "cell_type": "code",
      "metadata": {
        "id": "p09nKjO5ZK59"
      },
      "source": [
        "dropout_value = 0.1\n",
        "class Net(nn.Module):\n",
        "    def __init__(self):\n",
        "        super(Net, self).__init__()\n",
        "        # Input Block\n",
        "        self.convblock1 = nn.Sequential(\n",
        "            nn.Conv2d(in_channels=1, out_channels=32, kernel_size=(3, 3), padding=0, bias=False),\n",
        "            nn.ReLU(),\n",
        "            nn.BatchNorm2d(32),\n",
        "            nn.Dropout(dropout_value)\n",
        "        ) # in = 28x28x1 , out = 26x26x32, RF = 3\n",
        "\n",
        "        # CONVOLUTION BLOCK 1\n",
        "        self.convblock2 = nn.Sequential(\n",
        "            nn.Conv2d(in_channels=32, out_channels=16, kernel_size=(3, 3), padding=0, bias=False),\n",
        "            nn.ReLU(),\n",
        "            nn.BatchNorm2d(16),\n",
        "            nn.Dropout(dropout_value)\n",
        "        ) # in = 26x26x32 , out = 24x24x16, RF = 5\n",
        " \n",
        "        # TRANSITION BLOCK 1\n",
        "        self.pool1 = nn.MaxPool2d(2, 2) # in = 24x24x16 , out = 12x12x16, RF = 6\n",
        "\n",
        "        # CONVOLUTION BLOCK 2\n",
        "        self.convblock3 = nn.Sequential(\n",
        "            nn.Conv2d(in_channels=16, out_channels=16, kernel_size=(3, 3), padding=0, bias=False),\n",
        "            nn.ReLU(),\n",
        "            nn.BatchNorm2d(16),\n",
        "            nn.Dropout(dropout_value)\n",
        "        ) # in = 12x12x16 , out = 10x10x16, RF = 10\n",
        "        self.convblock4 = nn.Sequential(\n",
        "            nn.Conv2d(in_channels=16, out_channels=16, kernel_size=(3, 3), padding=0, bias=False),\n",
        "            nn.ReLU(),\n",
        "            nn.BatchNorm2d(16),\n",
        "            nn.Dropout(dropout_value)\n",
        "        ) # in = 10x10x16 , out = 8x8x16, RF = 14\n",
        "\n",
        "        # OUTPUT BLOCK\n",
        "        self.convblock5 = nn.Sequential(\n",
        "            nn.Conv2d(in_channels=16, out_channels=32, kernel_size=(3, 3), padding=0, bias=False),\n",
        "            nn.ReLU(),\n",
        "            nn.BatchNorm2d(32),\n",
        "            nn.Dropout(dropout_value)\n",
        "        ) # in = 8x8x16 , out = 6x6x32, RF = 18\n",
        "        self.Gap1 = nn.Sequential(\n",
        "            nn.AdaptiveAvgPool2d(output_size=(1,1))\n",
        "        ) # in = 6x6x32 , out = 1x1x32, RF = 28\t        \n",
        "        self.fc1 = nn.Sequential(\n",
        "            nn.Linear(in_features=32, out_features=10, bias=False)\n",
        "        ) # in = 1x1x32 , out = 1x1x10, RF = 28\n",
        "        self.fc2 = nn.Sequential(\n",
        "            nn.Linear(in_features=32, out_features=18, bias=False)\n",
        "        ) # in = 1x1x32 , out = 1x1x18, RF = 28\n",
        "\n",
        "    def forward(self, x):\n",
        "        x = self.convblock2(self.convblock1(x))\n",
        "        x = self.pool1(x)\n",
        "        x = self.convblock4(self.convblock3(x))\n",
        "        x = self.Gap1(self.convblock5(x))\n",
        "        x = x.view(-1, 32)\n",
        "        x1 = self.fc1(x)\n",
        "        x1 = x1.view(-1, 10)\n",
        "        a = F.log_softmax(x1, dim=-1)\n",
        "        y = self.fc2(x)\n",
        "        b = F.log_softmax(y, dim=-1)\n",
        "        return a, b"
      ],
      "execution_count": 9,
      "outputs": []
    },
    {
      "cell_type": "code",
      "metadata": {
        "colab": {
          "base_uri": "https://localhost:8080/"
        },
        "id": "xkc8s3axZM7F",
        "outputId": "f54b6ea1-a85d-43a0-fb8f-e2848837129c"
      },
      "source": [
        "!pip install torchsummary\n",
        "from torchsummary import summary\n",
        "use_cuda = torch.cuda.is_available()\n",
        "device = torch.device(\"cuda\" if use_cuda else \"cpu\")\n",
        "print(device)\n",
        "model = Net().to(device)\n",
        "summary(model, input_size=(1, 28, 28))"
      ],
      "execution_count": 19,
      "outputs": [
        {
          "output_type": "stream",
          "text": [
            "Requirement already satisfied: torchsummary in /usr/local/lib/python3.7/dist-packages (1.5.1)\n",
            "cuda\n",
            "----------------------------------------------------------------\n",
            "        Layer (type)               Output Shape         Param #\n",
            "================================================================\n",
            "            Conv2d-1           [-1, 32, 26, 26]             288\n",
            "              ReLU-2           [-1, 32, 26, 26]               0\n",
            "       BatchNorm2d-3           [-1, 32, 26, 26]              64\n",
            "           Dropout-4           [-1, 32, 26, 26]               0\n",
            "            Conv2d-5           [-1, 16, 24, 24]           4,608\n",
            "              ReLU-6           [-1, 16, 24, 24]               0\n",
            "       BatchNorm2d-7           [-1, 16, 24, 24]              32\n",
            "           Dropout-8           [-1, 16, 24, 24]               0\n",
            "         MaxPool2d-9           [-1, 16, 12, 12]               0\n",
            "           Conv2d-10           [-1, 16, 10, 10]           2,304\n",
            "             ReLU-11           [-1, 16, 10, 10]               0\n",
            "      BatchNorm2d-12           [-1, 16, 10, 10]              32\n",
            "          Dropout-13           [-1, 16, 10, 10]               0\n",
            "           Conv2d-14             [-1, 16, 8, 8]           2,304\n",
            "             ReLU-15             [-1, 16, 8, 8]               0\n",
            "      BatchNorm2d-16             [-1, 16, 8, 8]              32\n",
            "          Dropout-17             [-1, 16, 8, 8]               0\n",
            "           Conv2d-18             [-1, 32, 6, 6]           4,608\n",
            "             ReLU-19             [-1, 32, 6, 6]               0\n",
            "      BatchNorm2d-20             [-1, 32, 6, 6]              64\n",
            "          Dropout-21             [-1, 32, 6, 6]               0\n",
            "AdaptiveAvgPool2d-22             [-1, 32, 1, 1]               0\n",
            "           Linear-23                   [-1, 10]             320\n",
            "           Linear-24                   [-1, 18]             576\n",
            "================================================================\n",
            "Total params: 15,232\n",
            "Trainable params: 15,232\n",
            "Non-trainable params: 0\n",
            "----------------------------------------------------------------\n",
            "Input size (MB): 0.00\n",
            "Forward/backward pass size (MB): 1.07\n",
            "Params size (MB): 0.06\n",
            "Estimated Total Size (MB): 1.14\n",
            "----------------------------------------------------------------\n"
          ],
          "name": "stdout"
        }
      ]
    },
    {
      "cell_type": "code",
      "metadata": {
        "id": "hqwcOW2CZSqu"
      },
      "source": [
        "from tqdm import tqdm\n",
        "\n",
        "train_losses = []\n",
        "test_losses = []\n",
        "train_acc1, train_acc2 = [], []\n",
        "test_acc1, test_acc2 = [], []\n",
        "train_acc1_epoch, train_acc2_epoch  = [], []\n",
        "\n",
        "def train(model, device, train_loader, optimizer, epoch):\n",
        "  model.train()\n",
        "  pbar = tqdm(train_loader)\n",
        "  correct, correct_2 = 0, 0\n",
        "  correct_2 =0\n",
        "  processed = 0\n",
        "  for batch_idx, (data, target) in enumerate(pbar):\n",
        "    # get samples\n",
        "    data, target = data.to(device), target.to(device)\n",
        "    batch = data.size(0)\n",
        "\n",
        "    for i in range(batch):\n",
        "        if i == 0:\n",
        "            random_1     = torch.randint(0,9, (1,))\n",
        "            random_batch = random_1.expand(1, 28, 28).unsqueeze(0)\n",
        "        else:\n",
        "            temp1 = torch.randint(0,9, (1,))\n",
        "            temp2 = temp1.expand(1, 28, 28).unsqueeze(0)         \n",
        "            random_1     = torch.cat((random_1, temp1))       \n",
        "            random_batch = torch.cat((random_batch, temp2))     \n",
        " \n",
        "    random_1 = random_1.to(device)\n",
        "    random_batch = random_batch.to(device)\n",
        "    target2 = target + random_1\n",
        "\n",
        "    # Init\n",
        "    optimizer.zero_grad()\n",
        "    # In PyTorch, we need to set the gradients to zero before starting to do backpropragation because PyTorch accumulates the gradients on subsequent backward passes. \n",
        "    # Because of this, when you start your training loop, ideally you should zero out the gradients so that you do the parameter update correctly.\n",
        "\n",
        "    # Predict\n",
        "    data_append = data + random_batch    \n",
        "    y_pred, s_pred = model(data_append)    \n",
        "\n",
        "    # Calculate loss\n",
        "    loss1 = F.nll_loss(y_pred, target)\n",
        "    loss2 = F.nll_loss(s_pred, target2)\n",
        "    loss = loss1 + loss2\n",
        "    train_losses.append(loss)\n",
        "\n",
        "    # Backpropagation\n",
        "    loss.backward()\n",
        "    optimizer.step()\n",
        "\n",
        "    # Update pbar-tqdm\n",
        "    # in view() method the shape of the desired output tensor is to be passed in as the parameter,\n",
        "    # whereas in view_as() a tensor whose shape is to be mimicked it passed.\n",
        "    # tensor.view_as(other) is equivalent to tensor.view(other.size())\n",
        "    \n",
        "    pred     = y_pred.argmax(dim=1, keepdim=True)  # get the index of the max log-probability\n",
        "    sum_pred = s_pred.argmax(dim=1, keepdim=True)\n",
        "    correct += pred.eq(target.view_as(pred)).sum().item()\n",
        "    correct_2 += sum_pred.eq(target2.view_as(sum_pred)).sum().item()\n",
        "    processed += len(data)\n",
        "\n",
        "    pbar.set_description(desc= f'Loss={loss.item()} Batch_id={batch_idx} Train Accuracy={100*correct/processed:0.2f}')\n",
        "    if (batch_idx % 100 == 0) or batch_idx == 468:\n",
        "        train_acc1.append(100*correct/processed)\n",
        "        train_acc2.append(100*correct_2/processed)\n",
        "    if batch_idx == 468:\n",
        "        train_acc1_epoch.append(100*correct/processed)\n",
        "        train_acc2_epoch.append(100*correct_2/processed)\n",
        "        print(f'Train Set - Train_loss: {loss}, #: {len(train_loader.dataset)}, Digit Acc: {train_acc1_epoch[-1]}, sum_acc: {train_acc2_epoch[-1]}')\n",
        "\n",
        "def test(model, device, test_loader):\n",
        "    model.eval()\n",
        "    test_loss1, test_loss2 = 0, 0\n",
        "    correct, correct_2 = 0, 0\n",
        "    with torch.no_grad():\n",
        "        for data, target in test_loader:\n",
        "            data, target = data.to(device), target.to(device)\n",
        "            batch = data.size(0)\n",
        "\n",
        "            for i in range(batch):\n",
        "                if i == 0:\n",
        "                    random_1     = torch.randint(0,9, (1,))\n",
        "                    random_batch = random_1.expand(1, 28, 28).unsqueeze(0)\n",
        "                else:\n",
        "                    temp1 = torch.randint(0,9, (1,))\n",
        "                    temp2 = temp1.expand(1, 28, 28).unsqueeze(0)\n",
        "                    random_1     = torch.cat((random_1, temp1))\n",
        "                    random_batch = torch.cat((random_batch, temp2))\n",
        "\n",
        "            random_1     = random_1.to(device) \n",
        "            random_batch = random_batch.to(device)            \n",
        "            target2 = target + random_1\n",
        "\n",
        "            data_append = data + random_batch\n",
        "            output, sum_output = model(data_append)\n",
        "            test_loss1 += F.nll_loss(output, target, reduction='sum').item()  # sum up batch loss\n",
        "            test_loss2 += F.nll_loss(sum_output, target2, reduction='sum').item()  # sum up batch loss\n",
        "            test_loss  = test_loss1 + test_loss2\n",
        "            pred = output.argmax(dim=1, keepdim=True)  # get the index of the max log-probability\n",
        "            sum_pred = sum_output.argmax(dim=1, keepdim=True)            \n",
        "            correct   += pred.eq(target.view_as(pred)).sum().item()\n",
        "            correct_2 += sum_pred.eq(target2.view_as(sum_pred)).sum().item()\n",
        "\n",
        "    test_loss /= len(test_loader.dataset)\n",
        "    test_losses.append(test_loss)\n",
        "    dig_acc = 100. * correct / len(test_loader.dataset)\n",
        "    sum_acc = 100. * correct_2 / len(test_loader.dataset)\n",
        "    \n",
        "    print(f'Test Set - Test_loss: {test_loss}, #: {len(test_loader.dataset)}, Digit Acc: {dig_acc}, sum_acc: {sum_acc}')\n",
        "\n",
        "    test_acc1.append(dig_acc)\n",
        "    test_acc2.append(sum_acc)"
      ],
      "execution_count": 20,
      "outputs": []
    },
    {
      "cell_type": "code",
      "metadata": {
        "colab": {
          "base_uri": "https://localhost:8080/"
        },
        "id": "v5MJ1LIBZUUO",
        "outputId": "2da0c340-4876-49d1-e2c8-4ad9940edd9a"
      },
      "source": [
        "model =  Net().to(device)\n",
        "optimizer = optim.SGD(model.parameters(), lr=0.01, momentum=0.9)\n",
        "EPOCHS = 20\n",
        "for epoch in range(EPOCHS):\n",
        "    print(\"**EPOCH**:\", epoch)\n",
        "    train(model, device, train_loader, optimizer, epoch)\n",
        "    test(model, device, test_loader)\n",
        "\n",
        "print('train_acc1:',train_acc1)\n",
        "print('train_acc2:',train_acc2)\n",
        "print('train_acc1_epoch:',train_acc1)\n",
        "print('train_acc2_epoch:',train_acc2)\n",
        "print('test_acc1:',test_acc1)\n",
        "print('test_acc2:',test_acc2) \n",
        "\n",
        "print(f'Max Test Digit accuracy is {max(test_acc1)} and achieved in epoch {np.argmax(test_acc1)}')\n",
        "print(f'Max Test Sum   accuracy is {max(test_acc2)} and achieved in epoch {np.argmax(test_acc2)}')\n",
        "print(f'Max Train Digit accuracy is {max(train_acc1_epoch)} and achieved in epoch {np.argmax(train_acc1_epoch)}')\n",
        "print(f'Max Train Sum   accuracy is {max(train_acc2_epoch)} and achieved in epoch {np.argmax(train_acc2_epoch)}')"
      ],
      "execution_count": 21,
      "outputs": [
        {
          "output_type": "stream",
          "text": [
            "\r  0%|          | 0/469 [00:00<?, ?it/s]"
          ],
          "name": "stderr"
        },
        {
          "output_type": "stream",
          "text": [
            "**EPOCH**: 0\n"
          ],
          "name": "stdout"
        },
        {
          "output_type": "stream",
          "text": [
            "/usr/local/lib/python3.7/dist-packages/torch/utils/data/dataloader.py:477: UserWarning: This DataLoader will create 4 worker processes in total. Our suggested max number of worker in current system is 2, which is smaller than what this DataLoader is going to create. Please be aware that excessive worker creation might get DataLoader running slow or even freeze, lower the worker number to avoid potential slowness/freeze if necessary.\n",
            "  cpuset_checked))\n",
            "Loss=1.3269098997116089 Batch_id=468 Train Accuracy=83.20: 100%|██████████| 469/469 [00:19<00:00, 24.62it/s]"
          ],
          "name": "stderr"
        },
        {
          "output_type": "stream",
          "text": [
            "Train Set - Train_loss: 1.3269098997116089, #: 60000, Digit Acc: 83.19833333333334, sum_acc: 31.91\n"
          ],
          "name": "stdout"
        },
        {
          "output_type": "stream",
          "text": [
            "\n",
            "  0%|          | 0/469 [00:00<?, ?it/s]"
          ],
          "name": "stderr"
        },
        {
          "output_type": "stream",
          "text": [
            "Test Set - Test_loss: 1.4552579699516297, #: 10000, Digit Acc: 96.07, sum_acc: 49.67\n",
            "**EPOCH**: 1\n"
          ],
          "name": "stdout"
        },
        {
          "output_type": "stream",
          "text": [
            "Loss=1.1783608198165894 Batch_id=468 Train Accuracy=95.37: 100%|██████████| 469/469 [00:19<00:00, 24.53it/s]"
          ],
          "name": "stderr"
        },
        {
          "output_type": "stream",
          "text": [
            "Train Set - Train_loss: 1.1783608198165894, #: 60000, Digit Acc: 95.36666666666666, sum_acc: 56.91\n"
          ],
          "name": "stdout"
        },
        {
          "output_type": "stream",
          "text": [
            "\n",
            "  0%|          | 0/469 [00:00<?, ?it/s]"
          ],
          "name": "stderr"
        },
        {
          "output_type": "stream",
          "text": [
            "Test Set - Test_loss: 1.04182339553833, #: 10000, Digit Acc: 96.18, sum_acc: 66.23\n",
            "**EPOCH**: 2\n"
          ],
          "name": "stdout"
        },
        {
          "output_type": "stream",
          "text": [
            "Loss=1.154065728187561 Batch_id=468 Train Accuracy=96.20: 100%|██████████| 469/469 [00:18<00:00, 24.70it/s]"
          ],
          "name": "stderr"
        },
        {
          "output_type": "stream",
          "text": [
            "Train Set - Train_loss: 1.154065728187561, #: 60000, Digit Acc: 96.19666666666667, sum_acc: 67.61166666666666\n"
          ],
          "name": "stdout"
        },
        {
          "output_type": "stream",
          "text": [
            "\n",
            "  0%|          | 0/469 [00:00<?, ?it/s]"
          ],
          "name": "stderr"
        },
        {
          "output_type": "stream",
          "text": [
            "Test Set - Test_loss: 0.7996872827231885, #: 10000, Digit Acc: 96.65, sum_acc: 79.36\n",
            "**EPOCH**: 3\n"
          ],
          "name": "stdout"
        },
        {
          "output_type": "stream",
          "text": [
            "Loss=0.9831074476242065 Batch_id=468 Train Accuracy=96.48: 100%|██████████| 469/469 [00:19<00:00, 24.07it/s]"
          ],
          "name": "stderr"
        },
        {
          "output_type": "stream",
          "text": [
            "Train Set - Train_loss: 0.9831074476242065, #: 60000, Digit Acc: 96.48166666666667, sum_acc: 72.87\n"
          ],
          "name": "stdout"
        },
        {
          "output_type": "stream",
          "text": [
            "\n",
            "  0%|          | 0/469 [00:00<?, ?it/s]"
          ],
          "name": "stderr"
        },
        {
          "output_type": "stream",
          "text": [
            "Test Set - Test_loss: 0.7352605932533741, #: 10000, Digit Acc: 97.71, sum_acc: 75.86\n",
            "**EPOCH**: 4\n"
          ],
          "name": "stdout"
        },
        {
          "output_type": "stream",
          "text": [
            "Loss=0.5787590742111206 Batch_id=468 Train Accuracy=96.75: 100%|██████████| 469/469 [00:20<00:00, 22.99it/s]"
          ],
          "name": "stderr"
        },
        {
          "output_type": "stream",
          "text": [
            "Train Set - Train_loss: 0.5787590742111206, #: 60000, Digit Acc: 96.75, sum_acc: 75.70833333333333\n"
          ],
          "name": "stdout"
        },
        {
          "output_type": "stream",
          "text": [
            "\n",
            "  0%|          | 0/469 [00:00<?, ?it/s]"
          ],
          "name": "stderr"
        },
        {
          "output_type": "stream",
          "text": [
            "Test Set - Test_loss: 0.955026047027111, #: 10000, Digit Acc: 97.19, sum_acc: 60.79\n",
            "**EPOCH**: 5\n"
          ],
          "name": "stdout"
        },
        {
          "output_type": "stream",
          "text": [
            "Loss=0.8327853679656982 Batch_id=468 Train Accuracy=96.97: 100%|██████████| 469/469 [00:20<00:00, 23.16it/s]"
          ],
          "name": "stderr"
        },
        {
          "output_type": "stream",
          "text": [
            "Train Set - Train_loss: 0.8327853679656982, #: 60000, Digit Acc: 96.965, sum_acc: 79.95333333333333\n"
          ],
          "name": "stdout"
        },
        {
          "output_type": "stream",
          "text": [
            "\n",
            "  0%|          | 0/469 [00:00<?, ?it/s]"
          ],
          "name": "stderr"
        },
        {
          "output_type": "stream",
          "text": [
            "Test Set - Test_loss: 0.48830431772470473, #: 10000, Digit Acc: 97.81, sum_acc: 88.38\n",
            "**EPOCH**: 6\n"
          ],
          "name": "stdout"
        },
        {
          "output_type": "stream",
          "text": [
            "Loss=0.8354611396789551 Batch_id=468 Train Accuracy=97.02: 100%|██████████| 469/469 [00:20<00:00, 23.28it/s]"
          ],
          "name": "stderr"
        },
        {
          "output_type": "stream",
          "text": [
            "Train Set - Train_loss: 0.8354611396789551, #: 60000, Digit Acc: 97.01833333333333, sum_acc: 80.795\n"
          ],
          "name": "stdout"
        },
        {
          "output_type": "stream",
          "text": [
            "\n",
            "  0%|          | 0/469 [00:00<?, ?it/s]"
          ],
          "name": "stderr"
        },
        {
          "output_type": "stream",
          "text": [
            "Test Set - Test_loss: 0.6873307658523321, #: 10000, Digit Acc: 97.85, sum_acc: 73.1\n",
            "**EPOCH**: 7\n"
          ],
          "name": "stdout"
        },
        {
          "output_type": "stream",
          "text": [
            "Loss=0.6366400122642517 Batch_id=468 Train Accuracy=97.27: 100%|██████████| 469/469 [00:20<00:00, 23.27it/s]"
          ],
          "name": "stderr"
        },
        {
          "output_type": "stream",
          "text": [
            "Train Set - Train_loss: 0.6366400122642517, #: 60000, Digit Acc: 97.26666666666667, sum_acc: 82.435\n"
          ],
          "name": "stdout"
        },
        {
          "output_type": "stream",
          "text": [
            "\n",
            "  0%|          | 0/469 [00:00<?, ?it/s]"
          ],
          "name": "stderr"
        },
        {
          "output_type": "stream",
          "text": [
            "Test Set - Test_loss: 0.47707319209575655, #: 10000, Digit Acc: 97.9, sum_acc: 85.78\n",
            "**EPOCH**: 8\n"
          ],
          "name": "stdout"
        },
        {
          "output_type": "stream",
          "text": [
            "Loss=0.7603844404220581 Batch_id=468 Train Accuracy=97.33: 100%|██████████| 469/469 [00:19<00:00, 23.58it/s]"
          ],
          "name": "stderr"
        },
        {
          "output_type": "stream",
          "text": [
            "Train Set - Train_loss: 0.7603844404220581, #: 60000, Digit Acc: 97.33333333333333, sum_acc: 83.34833333333333\n"
          ],
          "name": "stdout"
        },
        {
          "output_type": "stream",
          "text": [
            "\n",
            "  0%|          | 0/469 [00:00<?, ?it/s]"
          ],
          "name": "stderr"
        },
        {
          "output_type": "stream",
          "text": [
            "Test Set - Test_loss: 0.3728756371974945, #: 10000, Digit Acc: 97.91, sum_acc: 91.78\n",
            "**EPOCH**: 9\n"
          ],
          "name": "stdout"
        },
        {
          "output_type": "stream",
          "text": [
            "Loss=1.1577062606811523 Batch_id=468 Train Accuracy=97.39: 100%|██████████| 469/469 [00:19<00:00, 23.59it/s]"
          ],
          "name": "stderr"
        },
        {
          "output_type": "stream",
          "text": [
            "Train Set - Train_loss: 1.1577062606811523, #: 60000, Digit Acc: 97.395, sum_acc: 84.96\n"
          ],
          "name": "stdout"
        },
        {
          "output_type": "stream",
          "text": [
            "\n",
            "  0%|          | 0/469 [00:00<?, ?it/s]"
          ],
          "name": "stderr"
        },
        {
          "output_type": "stream",
          "text": [
            "Test Set - Test_loss: 0.46045236864238975, #: 10000, Digit Acc: 98.06, sum_acc: 85.51\n",
            "**EPOCH**: 10\n"
          ],
          "name": "stdout"
        },
        {
          "output_type": "stream",
          "text": [
            "Loss=0.5491470098495483 Batch_id=468 Train Accuracy=97.45: 100%|██████████| 469/469 [00:19<00:00, 24.02it/s]"
          ],
          "name": "stderr"
        },
        {
          "output_type": "stream",
          "text": [
            "Train Set - Train_loss: 0.5491470098495483, #: 60000, Digit Acc: 97.44833333333334, sum_acc: 86.83166666666666\n"
          ],
          "name": "stdout"
        },
        {
          "output_type": "stream",
          "text": [
            "\n",
            "  0%|          | 0/469 [00:00<?, ?it/s]"
          ],
          "name": "stderr"
        },
        {
          "output_type": "stream",
          "text": [
            "Test Set - Test_loss: 0.7954270598888398, #: 10000, Digit Acc: 98.1, sum_acc: 65.85\n",
            "**EPOCH**: 11\n"
          ],
          "name": "stdout"
        },
        {
          "output_type": "stream",
          "text": [
            "Loss=0.41259896755218506 Batch_id=468 Train Accuracy=97.57: 100%|██████████| 469/469 [00:18<00:00, 24.72it/s]"
          ],
          "name": "stderr"
        },
        {
          "output_type": "stream",
          "text": [
            "Train Set - Train_loss: 0.41259896755218506, #: 60000, Digit Acc: 97.56833333333333, sum_acc: 85.69166666666666\n"
          ],
          "name": "stdout"
        },
        {
          "output_type": "stream",
          "text": [
            "\n",
            "  0%|          | 0/469 [00:00<?, ?it/s]"
          ],
          "name": "stderr"
        },
        {
          "output_type": "stream",
          "text": [
            "Test Set - Test_loss: 0.4466918184131384, #: 10000, Digit Acc: 98.17, sum_acc: 85.12\n",
            "**EPOCH**: 12\n"
          ],
          "name": "stdout"
        },
        {
          "output_type": "stream",
          "text": [
            "Loss=0.5882467031478882 Batch_id=468 Train Accuracy=97.55: 100%|██████████| 469/469 [00:17<00:00, 26.60it/s]"
          ],
          "name": "stderr"
        },
        {
          "output_type": "stream",
          "text": [
            "Train Set - Train_loss: 0.5882467031478882, #: 60000, Digit Acc: 97.54833333333333, sum_acc: 86.525\n"
          ],
          "name": "stdout"
        },
        {
          "output_type": "stream",
          "text": [
            "\n",
            "  0%|          | 0/469 [00:00<?, ?it/s]"
          ],
          "name": "stderr"
        },
        {
          "output_type": "stream",
          "text": [
            "Test Set - Test_loss: 0.6731360583506525, #: 10000, Digit Acc: 98.38, sum_acc: 72.2\n",
            "**EPOCH**: 13\n"
          ],
          "name": "stdout"
        },
        {
          "output_type": "stream",
          "text": [
            "Loss=0.7376368641853333 Batch_id=468 Train Accuracy=97.62: 100%|██████████| 469/469 [00:18<00:00, 25.81it/s]"
          ],
          "name": "stderr"
        },
        {
          "output_type": "stream",
          "text": [
            "Train Set - Train_loss: 0.7376368641853333, #: 60000, Digit Acc: 97.61833333333334, sum_acc: 87.415\n"
          ],
          "name": "stdout"
        },
        {
          "output_type": "stream",
          "text": [
            "\n",
            "  0%|          | 0/469 [00:00<?, ?it/s]"
          ],
          "name": "stderr"
        },
        {
          "output_type": "stream",
          "text": [
            "Test Set - Test_loss: 0.3889031298816204, #: 10000, Digit Acc: 97.99, sum_acc: 88.77\n",
            "**EPOCH**: 14\n"
          ],
          "name": "stdout"
        },
        {
          "output_type": "stream",
          "text": [
            "Loss=0.7767235636711121 Batch_id=468 Train Accuracy=97.78: 100%|██████████| 469/469 [00:17<00:00, 26.31it/s]"
          ],
          "name": "stderr"
        },
        {
          "output_type": "stream",
          "text": [
            "Train Set - Train_loss: 0.7767235636711121, #: 60000, Digit Acc: 97.78, sum_acc: 87.525\n"
          ],
          "name": "stdout"
        },
        {
          "output_type": "stream",
          "text": [
            "\n",
            "  0%|          | 0/469 [00:00<?, ?it/s]"
          ],
          "name": "stderr"
        },
        {
          "output_type": "stream",
          "text": [
            "Test Set - Test_loss: 0.6129484671309591, #: 10000, Digit Acc: 98.37, sum_acc: 79.52\n",
            "**EPOCH**: 15\n"
          ],
          "name": "stdout"
        },
        {
          "output_type": "stream",
          "text": [
            "Loss=0.3222319781780243 Batch_id=468 Train Accuracy=97.73: 100%|██████████| 469/469 [00:17<00:00, 26.44it/s]"
          ],
          "name": "stderr"
        },
        {
          "output_type": "stream",
          "text": [
            "Train Set - Train_loss: 0.3222319781780243, #: 60000, Digit Acc: 97.735, sum_acc: 88.285\n"
          ],
          "name": "stdout"
        },
        {
          "output_type": "stream",
          "text": [
            "\n",
            "  0%|          | 0/469 [00:00<?, ?it/s]"
          ],
          "name": "stderr"
        },
        {
          "output_type": "stream",
          "text": [
            "Test Set - Test_loss: 1.1324868933975696, #: 10000, Digit Acc: 98.18, sum_acc: 59.87\n",
            "**EPOCH**: 16\n"
          ],
          "name": "stdout"
        },
        {
          "output_type": "stream",
          "text": [
            "Loss=0.3282051384449005 Batch_id=468 Train Accuracy=97.80: 100%|██████████| 469/469 [00:18<00:00, 25.69it/s]"
          ],
          "name": "stderr"
        },
        {
          "output_type": "stream",
          "text": [
            "Train Set - Train_loss: 0.3282051384449005, #: 60000, Digit Acc: 97.795, sum_acc: 88.69\n"
          ],
          "name": "stdout"
        },
        {
          "output_type": "stream",
          "text": [
            "\n",
            "  0%|          | 0/469 [00:00<?, ?it/s]"
          ],
          "name": "stderr"
        },
        {
          "output_type": "stream",
          "text": [
            "Test Set - Test_loss: 1.0465169344872236, #: 10000, Digit Acc: 98.47, sum_acc: 56.7\n",
            "**EPOCH**: 17\n"
          ],
          "name": "stdout"
        },
        {
          "output_type": "stream",
          "text": [
            "Loss=0.6037651896476746 Batch_id=468 Train Accuracy=97.85: 100%|██████████| 469/469 [00:18<00:00, 25.57it/s]"
          ],
          "name": "stderr"
        },
        {
          "output_type": "stream",
          "text": [
            "Train Set - Train_loss: 0.6037651896476746, #: 60000, Digit Acc: 97.84833333333333, sum_acc: 88.35666666666667\n"
          ],
          "name": "stdout"
        },
        {
          "output_type": "stream",
          "text": [
            "\n",
            "  0%|          | 0/469 [00:00<?, ?it/s]"
          ],
          "name": "stderr"
        },
        {
          "output_type": "stream",
          "text": [
            "Test Set - Test_loss: 0.6472955559223891, #: 10000, Digit Acc: 98.43, sum_acc: 73.4\n",
            "**EPOCH**: 18\n"
          ],
          "name": "stdout"
        },
        {
          "output_type": "stream",
          "text": [
            "Loss=0.5050449371337891 Batch_id=468 Train Accuracy=97.93: 100%|██████████| 469/469 [00:19<00:00, 24.29it/s]"
          ],
          "name": "stderr"
        },
        {
          "output_type": "stream",
          "text": [
            "Train Set - Train_loss: 0.5050449371337891, #: 60000, Digit Acc: 97.93, sum_acc: 88.46666666666667\n"
          ],
          "name": "stdout"
        },
        {
          "output_type": "stream",
          "text": [
            "\n",
            "  0%|          | 0/469 [00:00<?, ?it/s]"
          ],
          "name": "stderr"
        },
        {
          "output_type": "stream",
          "text": [
            "Test Set - Test_loss: 0.343603162708506, #: 10000, Digit Acc: 98.48, sum_acc: 90.19\n",
            "**EPOCH**: 19\n"
          ],
          "name": "stdout"
        },
        {
          "output_type": "stream",
          "text": [
            "Loss=0.2873195707798004 Batch_id=468 Train Accuracy=97.89: 100%|██████████| 469/469 [00:19<00:00, 24.21it/s]"
          ],
          "name": "stderr"
        },
        {
          "output_type": "stream",
          "text": [
            "Train Set - Train_loss: 0.2873195707798004, #: 60000, Digit Acc: 97.885, sum_acc: 89.135\n"
          ],
          "name": "stdout"
        },
        {
          "output_type": "stream",
          "text": [
            "\n"
          ],
          "name": "stderr"
        },
        {
          "output_type": "stream",
          "text": [
            "Test Set - Test_loss: 0.2691351911887527, #: 10000, Digit Acc: 98.5, sum_acc: 93.6\n",
            "train_acc1: [10.15625, 52.04981435643565, 69.61675995024876, 77.13351328903654, 81.32793017456359, 83.19833333333334, 97.65625, 95.0881806930693, 95.08317786069652, 95.16455564784053, 95.27743142144638, 95.36666666666666, 96.875, 95.98545792079207, 96.06654228855722, 96.20276162790698, 96.1697319201995, 96.19666666666667, 100.0, 96.54238861386139, 96.45133706467662, 96.41040282392026, 96.44833229426433, 96.48166666666667, 94.53125, 97.03743811881188, 96.82058457711443, 96.72705564784053, 96.71719139650872, 96.75, 96.09375, 97.12252475247524, 97.0732276119403, 96.9969892026578, 96.99189526184539, 96.965, 96.09375, 97.11478960396039, 97.0732276119403, 97.09561877076412, 97.07956670822942, 97.01833333333333, 97.65625, 97.19214108910892, 97.2714552238806, 97.1501245847176, 97.21984102244389, 97.26666666666667, 99.21875, 97.47060643564356, 97.43858830845771, 97.35517026578073, 97.36011533665835, 97.33333333333333, 97.65625, 97.33137376237623, 97.35307835820896, 97.42524916943522, 97.42051122194513, 97.395, 97.65625, 97.39325495049505, 97.50855099502488, 97.4953280730897, 97.44778678304239, 97.44833333333334, 95.3125, 97.60983910891089, 97.59794776119404, 97.56281146179403, 97.55494077306733, 97.56833333333333, 98.4375, 97.4009900990099, 97.50077736318408, 97.51609219269103, 97.504286159601, 97.54833333333333, 98.4375, 97.77227722772277, 97.62126865671642, 97.6328903654485, 97.61338840399003, 97.61833333333334, 97.65625, 97.69492574257426, 97.82726990049751, 97.80419435215947, 97.7906795511222, 97.78, 94.53125, 97.4628712871287, 97.73009950248756, 97.71854235880399, 97.77704177057356, 97.735, 96.875, 97.6871905940594, 97.78840174129353, 97.82236295681064, 97.81990336658355, 97.795, 97.65625, 98.07394801980197, 97.8505907960199, 97.7860257475083, 97.8276963840399, 97.84833333333333, 100.0, 97.99659653465346, 97.90500621890547, 97.91580149501661, 97.93485037406484, 97.93, 96.875, 97.86509900990099, 97.8700248756219, 97.86129568106313, 97.87445448877806, 97.885]\n",
            "train_acc2: [7.03125, 14.658106435643564, 20.444651741293534, 25.262147009966778, 29.547225685785538, 31.91, 46.09375, 50.65748762376238, 52.506996268656714, 54.28519518272425, 55.90126246882793, 56.91, 54.6875, 63.412747524752476, 65.42288557213931, 66.33098006644518, 67.30439526184539, 67.61166666666666, 77.34375, 71.34127475247524, 71.54462064676616, 72.23577657807309, 72.57247506234414, 72.87, 77.34375, 75.93595297029702, 75.62577736318408, 75.66964285714286, 75.70721633416458, 75.70833333333333, 75.0, 80.2753712871287, 80.09950248756219, 79.50581395348837, 80.0693578553616, 79.95333333333333, 84.375, 80.16707920792079, 80.08784203980099, 80.92296511627907, 80.63240336658355, 80.795, 85.9375, 81.64449257425743, 81.49098258706468, 81.68345099667773, 82.00007793017457, 82.435, 85.9375, 83.73298267326733, 83.55099502487562, 83.17587209302326, 83.21968516209476, 83.34833333333333, 77.34375, 85.21039603960396, 84.7831156716418, 84.60340531561462, 84.74322007481297, 84.96, 85.15625, 85.89108910891089, 86.18236940298507, 86.36835548172758, 86.51223503740648, 86.83166666666666, 53.90625, 84.93966584158416, 85.05519278606965, 85.50404900332227, 85.59850374064838, 85.69166666666666, 97.65625, 85.7131806930693, 85.02409825870647, 85.5092400332226, 86.15570448877806, 86.525, 89.84375, 87.45358910891089, 87.29788557213931, 87.05097591362126, 87.36362219451371, 87.415, 92.96875, 86.84251237623762, 88.05192786069652, 88.20857558139535, 87.72404925187033, 87.525, 86.71875, 86.64139851485149, 88.25404228855722, 88.33056478405315, 88.6631078553616, 88.285, 84.375, 89.0625, 89.39287935323384, 88.62645348837209, 88.8735193266833, 88.69, 92.1875, 86.96627475247524, 87.80705845771145, 87.84779900332227, 88.20137157107231, 88.35666666666667, 95.3125, 89.47246287128714, 89.69216417910448, 89.32464700996678, 88.5676433915212, 88.46666666666667, 85.15625, 89.43378712871286, 89.24906716417911, 89.27014119601328, 89.12679239401496, 89.135]\n",
            "train_acc1_epoch: [10.15625, 52.04981435643565, 69.61675995024876, 77.13351328903654, 81.32793017456359, 83.19833333333334, 97.65625, 95.0881806930693, 95.08317786069652, 95.16455564784053, 95.27743142144638, 95.36666666666666, 96.875, 95.98545792079207, 96.06654228855722, 96.20276162790698, 96.1697319201995, 96.19666666666667, 100.0, 96.54238861386139, 96.45133706467662, 96.41040282392026, 96.44833229426433, 96.48166666666667, 94.53125, 97.03743811881188, 96.82058457711443, 96.72705564784053, 96.71719139650872, 96.75, 96.09375, 97.12252475247524, 97.0732276119403, 96.9969892026578, 96.99189526184539, 96.965, 96.09375, 97.11478960396039, 97.0732276119403, 97.09561877076412, 97.07956670822942, 97.01833333333333, 97.65625, 97.19214108910892, 97.2714552238806, 97.1501245847176, 97.21984102244389, 97.26666666666667, 99.21875, 97.47060643564356, 97.43858830845771, 97.35517026578073, 97.36011533665835, 97.33333333333333, 97.65625, 97.33137376237623, 97.35307835820896, 97.42524916943522, 97.42051122194513, 97.395, 97.65625, 97.39325495049505, 97.50855099502488, 97.4953280730897, 97.44778678304239, 97.44833333333334, 95.3125, 97.60983910891089, 97.59794776119404, 97.56281146179403, 97.55494077306733, 97.56833333333333, 98.4375, 97.4009900990099, 97.50077736318408, 97.51609219269103, 97.504286159601, 97.54833333333333, 98.4375, 97.77227722772277, 97.62126865671642, 97.6328903654485, 97.61338840399003, 97.61833333333334, 97.65625, 97.69492574257426, 97.82726990049751, 97.80419435215947, 97.7906795511222, 97.78, 94.53125, 97.4628712871287, 97.73009950248756, 97.71854235880399, 97.77704177057356, 97.735, 96.875, 97.6871905940594, 97.78840174129353, 97.82236295681064, 97.81990336658355, 97.795, 97.65625, 98.07394801980197, 97.8505907960199, 97.7860257475083, 97.8276963840399, 97.84833333333333, 100.0, 97.99659653465346, 97.90500621890547, 97.91580149501661, 97.93485037406484, 97.93, 96.875, 97.86509900990099, 97.8700248756219, 97.86129568106313, 97.87445448877806, 97.885]\n",
            "train_acc2_epoch: [7.03125, 14.658106435643564, 20.444651741293534, 25.262147009966778, 29.547225685785538, 31.91, 46.09375, 50.65748762376238, 52.506996268656714, 54.28519518272425, 55.90126246882793, 56.91, 54.6875, 63.412747524752476, 65.42288557213931, 66.33098006644518, 67.30439526184539, 67.61166666666666, 77.34375, 71.34127475247524, 71.54462064676616, 72.23577657807309, 72.57247506234414, 72.87, 77.34375, 75.93595297029702, 75.62577736318408, 75.66964285714286, 75.70721633416458, 75.70833333333333, 75.0, 80.2753712871287, 80.09950248756219, 79.50581395348837, 80.0693578553616, 79.95333333333333, 84.375, 80.16707920792079, 80.08784203980099, 80.92296511627907, 80.63240336658355, 80.795, 85.9375, 81.64449257425743, 81.49098258706468, 81.68345099667773, 82.00007793017457, 82.435, 85.9375, 83.73298267326733, 83.55099502487562, 83.17587209302326, 83.21968516209476, 83.34833333333333, 77.34375, 85.21039603960396, 84.7831156716418, 84.60340531561462, 84.74322007481297, 84.96, 85.15625, 85.89108910891089, 86.18236940298507, 86.36835548172758, 86.51223503740648, 86.83166666666666, 53.90625, 84.93966584158416, 85.05519278606965, 85.50404900332227, 85.59850374064838, 85.69166666666666, 97.65625, 85.7131806930693, 85.02409825870647, 85.5092400332226, 86.15570448877806, 86.525, 89.84375, 87.45358910891089, 87.29788557213931, 87.05097591362126, 87.36362219451371, 87.415, 92.96875, 86.84251237623762, 88.05192786069652, 88.20857558139535, 87.72404925187033, 87.525, 86.71875, 86.64139851485149, 88.25404228855722, 88.33056478405315, 88.6631078553616, 88.285, 84.375, 89.0625, 89.39287935323384, 88.62645348837209, 88.8735193266833, 88.69, 92.1875, 86.96627475247524, 87.80705845771145, 87.84779900332227, 88.20137157107231, 88.35666666666667, 95.3125, 89.47246287128714, 89.69216417910448, 89.32464700996678, 88.5676433915212, 88.46666666666667, 85.15625, 89.43378712871286, 89.24906716417911, 89.27014119601328, 89.12679239401496, 89.135]\n",
            "test_acc1: [96.07, 96.18, 96.65, 97.71, 97.19, 97.81, 97.85, 97.9, 97.91, 98.06, 98.1, 98.17, 98.38, 97.99, 98.37, 98.18, 98.47, 98.43, 98.48, 98.5]\n",
            "test_acc2: [49.67, 66.23, 79.36, 75.86, 60.79, 88.38, 73.1, 85.78, 91.78, 85.51, 65.85, 85.12, 72.2, 88.77, 79.52, 59.87, 56.7, 73.4, 90.19, 93.6]\n",
            "Max Test Digit accuracy is 98.5 and achieved in epoch 19\n",
            "Max Test Sum   accuracy is 93.6 and achieved in epoch 19\n",
            "Max Train Digit accuracy is 97.93 and achieved in epoch 18\n",
            "Max Train Sum   accuracy is 89.135 and achieved in epoch 19\n"
          ],
          "name": "stdout"
        }
      ]
    },
    {
      "cell_type": "code",
      "metadata": {
        "colab": {
          "base_uri": "https://localhost:8080/",
          "height": 436
        },
        "id": "r2dJZQDdZZrm",
        "outputId": "3dc256ea-effb-435f-e51d-8920dc87612c"
      },
      "source": [
        "fig, axs = plt.subplots(1,3,figsize=(30,10))\n",
        "axs[0].plot(train_losses)\n",
        "axs[0].set_title(\"Training Loss\")\n",
        "axs[1].plot(train_acc1_epoch)\n",
        "axs[1].set_title(\"Train Digit Accuracy\")\n",
        "axs[2].plot(train_acc2_epoch)\n",
        "axs[2].set_title(\"Train Sum Accuracy\")"
      ],
      "execution_count": 22,
      "outputs": [
        {
          "output_type": "execute_result",
          "data": {
            "text/plain": [
              "Text(0.5, 1.0, 'Train Sum Accuracy')"
            ]
          },
          "metadata": {
            "tags": []
          },
          "execution_count": 22
        },
        {
          "output_type": "display_data",
          "data": {
            "image/png": "[encoded data removed]",
            "text/plain": [
              "<Figure size 2160x720 with 3 Axes>"
            ]
          },
          "metadata": {
            "tags": [],
            "needs_background": "light"
          }
        }
      ]
    },
    {
      "cell_type": "code",
      "metadata": {
        "id": "dUny_bqyoWiw",
        "colab": {
          "base_uri": "https://localhost:8080/",
          "height": 434
        },
        "outputId": "4ea2de4d-6b83-4efe-822b-2e62bb91900c"
      },
      "source": [
        "fig, axs = plt.subplots(1,3,figsize=(30,10))\n",
        "axs[0].plot(test_losses)\n",
        "axs[0].set_title(\"Test Loss\")\n",
        "axs[1].plot(test_acc1)\n",
        "axs[1].set_title(\"Test Digit Accuracy\")\n",
        "axs[2].plot(test_acc2)\n",
        "axs[2].set_title(\"Test Sum Accuracy\")"
      ],
      "execution_count": 23,
      "outputs": [
        {
          "output_type": "execute_result",
          "data": {
            "text/plain": [
              "Text(0.5, 1.0, 'Test Sum Accuracy')"
            ]
          },
          "metadata": {
            "tags": []
          },
          "execution_count": 23
        },
        {
          "output_type": "display_data",
          "data": {
            "image/png": "[encoded data removed]",
            "text/plain": [
              "<Figure size 2160x720 with 3 Axes>"
            ]
          },
          "metadata": {
            "tags": [],
            "needs_background": "light"
          }
        }
      ]
    }
  ]
}