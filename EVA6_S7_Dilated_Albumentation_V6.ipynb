{
  "nbformat": 4,
  "nbformat_minor": 0,
  "metadata": {
    "colab": {
      "name": "EVA6_S7_Dilated_Albumentation_V6.ipynb",
      "provenance": [],
      "collapsed_sections": [],
      "include_colab_link": true
    },
    "kernelspec": {
      "name": "python3",
      "display_name": "Python 3"
    },
    "accelerator": "GPU",
    "widgets": {
      "application/vnd.jupyter.widget-state+json": {
        "bddcae7701c442049d1ae74e9d2c800e": {
          "model_module": "@jupyter-widgets/controls",
          "model_name": "HBoxModel",
          "state": {
            "_view_name": "HBoxView",
            "_dom_classes": [],
            "_model_name": "HBoxModel",
            "_view_module": "@jupyter-widgets/controls",
            "_model_module_version": "1.5.0",
            "_view_count": null,
            "_view_module_version": "1.5.0",
            "box_style": "",
            "layout": "IPY_MODEL_0f6171c76c66484798cf44267772d988",
            "_model_module": "@jupyter-widgets/controls",
            "children": [
              "IPY_MODEL_b9cf68852a09480c8c078384c0239add",
              "IPY_MODEL_92ccaba310d148b9a9ba2f0575ae59d2"
            ]
          }
        },
        "0f6171c76c66484798cf44267772d988": {
          "model_module": "@jupyter-widgets/base",
          "model_name": "LayoutModel",
          "state": {
            "_view_name": "LayoutView",
            "grid_template_rows": null,
            "right": null,
            "justify_content": null,
            "_view_module": "@jupyter-widgets/base",
            "overflow": null,
            "_model_module_version": "1.2.0",
            "_view_count": null,
            "flex_flow": null,
            "width": null,
            "min_width": null,
            "border": null,
            "align_items": null,
            "bottom": null,
            "_model_module": "@jupyter-widgets/base",
            "top": null,
            "grid_column": null,
            "overflow_y": null,
            "overflow_x": null,
            "grid_auto_flow": null,
            "grid_area": null,
            "grid_template_columns": null,
            "flex": null,
            "_model_name": "LayoutModel",
            "justify_items": null,
            "grid_row": null,
            "max_height": null,
            "align_content": null,
            "visibility": null,
            "align_self": null,
            "height": null,
            "min_height": null,
            "padding": null,
            "grid_auto_rows": null,
            "grid_gap": null,
            "max_width": null,
            "order": null,
            "_view_module_version": "1.2.0",
            "grid_template_areas": null,
            "object_position": null,
            "object_fit": null,
            "grid_auto_columns": null,
            "margin": null,
            "display": null,
            "left": null
          }
        },
        "b9cf68852a09480c8c078384c0239add": {
          "model_module": "@jupyter-widgets/controls",
          "model_name": "FloatProgressModel",
          "state": {
            "_view_name": "ProgressView",
            "style": "IPY_MODEL_70f698f609864e27a7362a718b97cbf8",
            "_dom_classes": [],
            "description": "",
            "_model_name": "FloatProgressModel",
            "bar_style": "success",
            "max": 170498071,
            "_view_module": "@jupyter-widgets/controls",
            "_model_module_version": "1.5.0",
            "value": 170498071,
            "_view_count": null,
            "_view_module_version": "1.5.0",
            "orientation": "horizontal",
            "min": 0,
            "description_tooltip": null,
            "_model_module": "@jupyter-widgets/controls",
            "layout": "IPY_MODEL_6eb8dd54bbf44fb9bda302c002c4ccaf"
          }
        },
        "92ccaba310d148b9a9ba2f0575ae59d2": {
          "model_module": "@jupyter-widgets/controls",
          "model_name": "HTMLModel",
          "state": {
            "_view_name": "HTMLView",
            "style": "IPY_MODEL_07424f46370d41878436fb71af180fc7",
            "_dom_classes": [],
            "description": "",
            "_model_name": "HTMLModel",
            "placeholder": "​",
            "_view_module": "@jupyter-widgets/controls",
            "_model_module_version": "1.5.0",
            "value": " 170499072/? [00:09&lt;00:00, 18896783.42it/s]",
            "_view_count": null,
            "_view_module_version": "1.5.0",
            "description_tooltip": null,
            "_model_module": "@jupyter-widgets/controls",
            "layout": "IPY_MODEL_162d2a49f6e14659a65ce9a1d03c83e6"
          }
        },
        "70f698f609864e27a7362a718b97cbf8": {
          "model_module": "@jupyter-widgets/controls",
          "model_name": "ProgressStyleModel",
          "state": {
            "_view_name": "StyleView",
            "_model_name": "ProgressStyleModel",
            "description_width": "initial",
            "_view_module": "@jupyter-widgets/base",
            "_model_module_version": "1.5.0",
            "_view_count": null,
            "_view_module_version": "1.2.0",
            "bar_color": null,
            "_model_module": "@jupyter-widgets/controls"
          }
        },
        "6eb8dd54bbf44fb9bda302c002c4ccaf": {
          "model_module": "@jupyter-widgets/base",
          "model_name": "LayoutModel",
          "state": {
            "_view_name": "LayoutView",
            "grid_template_rows": null,
            "right": null,
            "justify_content": null,
            "_view_module": "@jupyter-widgets/base",
            "overflow": null,
            "_model_module_version": "1.2.0",
            "_view_count": null,
            "flex_flow": null,
            "width": null,
            "min_width": null,
            "border": null,
            "align_items": null,
            "bottom": null,
            "_model_module": "@jupyter-widgets/base",
            "top": null,
            "grid_column": null,
            "overflow_y": null,
            "overflow_x": null,
            "grid_auto_flow": null,
            "grid_area": null,
            "grid_template_columns": null,
            "flex": null,
            "_model_name": "LayoutModel",
            "justify_items": null,
            "grid_row": null,
            "max_height": null,
            "align_content": null,
            "visibility": null,
            "align_self": null,
            "height": null,
            "min_height": null,
            "padding": null,
            "grid_auto_rows": null,
            "grid_gap": null,
            "max_width": null,
            "order": null,
            "_view_module_version": "1.2.0",
            "grid_template_areas": null,
            "object_position": null,
            "object_fit": null,
            "grid_auto_columns": null,
            "margin": null,
            "display": null,
            "left": null
          }
        },
        "07424f46370d41878436fb71af180fc7": {
          "model_module": "@jupyter-widgets/controls",
          "model_name": "DescriptionStyleModel",
          "state": {
            "_view_name": "StyleView",
            "_model_name": "DescriptionStyleModel",
            "description_width": "",
            "_view_module": "@jupyter-widgets/base",
            "_model_module_version": "1.5.0",
            "_view_count": null,
            "_view_module_version": "1.2.0",
            "_model_module": "@jupyter-widgets/controls"
          }
        },
        "162d2a49f6e14659a65ce9a1d03c83e6": {
          "model_module": "@jupyter-widgets/base",
          "model_name": "LayoutModel",
          "state": {
            "_view_name": "LayoutView",
            "grid_template_rows": null,
            "right": null,
            "justify_content": null,
            "_view_module": "@jupyter-widgets/base",
            "overflow": null,
            "_model_module_version": "1.2.0",
            "_view_count": null,
            "flex_flow": null,
            "width": null,
            "min_width": null,
            "border": null,
            "align_items": null,
            "bottom": null,
            "_model_module": "@jupyter-widgets/base",
            "top": null,
            "grid_column": null,
            "overflow_y": null,
            "overflow_x": null,
            "grid_auto_flow": null,
            "grid_area": null,
            "grid_template_columns": null,
            "flex": null,
            "_model_name": "LayoutModel",
            "justify_items": null,
            "grid_row": null,
            "max_height": null,
            "align_content": null,
            "visibility": null,
            "align_self": null,
            "height": null,
            "min_height": null,
            "padding": null,
            "grid_auto_rows": null,
            "grid_gap": null,
            "max_width": null,
            "order": null,
            "_view_module_version": "1.2.0",
            "grid_template_areas": null,
            "object_position": null,
            "object_fit": null,
            "grid_auto_columns": null,
            "margin": null,
            "display": null,
            "left": null
          }
        }
      }
    }
  },
  "cells": [
    {
      "cell_type": "markdown",
      "metadata": {
        "id": "view-in-github",
        "colab_type": "text"
      },
      "source": [
        "<a href=\"https://colab.research.google.com/github/anilbhatt1/Deep_Learning_EVA6_Phase1/blob/main/EVA6_S7_Dilated_Albumentation_V6.ipynb\" target=\"_parent\"><img src=\"https://colab.research.google.com/assets/colab-badge.svg\" alt=\"Open In Colab\"/></a>"
      ]
    },
    {
      "cell_type": "code",
      "metadata": {
        "colab": {
          "base_uri": "https://localhost:8080/"
        },
        "id": "fW0oaY4BbwZI",
        "outputId": "e27d0075-3584-4279-dc22-d7e3aa92ee26"
      },
      "source": [
        "!nvidia-smi"
      ],
      "execution_count": 2,
      "outputs": [
        {
          "output_type": "stream",
          "text": [
            "Fri Jun 25 13:43:33 2021       \n",
            "+-----------------------------------------------------------------------------+\n",
            "| NVIDIA-SMI 465.27       Driver Version: 460.32.03    CUDA Version: 11.2     |\n",
            "|-------------------------------+----------------------+----------------------+\n",
            "| GPU  Name        Persistence-M| Bus-Id        Disp.A | Volatile Uncorr. ECC |\n",
            "| Fan  Temp  Perf  Pwr:Usage/Cap|         Memory-Usage | GPU-Util  Compute M. |\n",
            "|                               |                      |               MIG M. |\n",
            "|===============================+======================+======================|\n",
            "|   0  Tesla T4            Off  | 00000000:00:04.0 Off |                    0 |\n",
            "| N/A   51C    P8    10W /  70W |      0MiB / 15109MiB |      0%      Default |\n",
            "|                               |                      |                  N/A |\n",
            "+-------------------------------+----------------------+----------------------+\n",
            "                                                                               \n",
            "+-----------------------------------------------------------------------------+\n",
            "| Processes:                                                                  |\n",
            "|  GPU   GI   CI        PID   Type   Process name                  GPU Memory |\n",
            "|        ID   ID                                                   Usage      |\n",
            "|=============================================================================|\n",
            "|  No running processes found                                                 |\n",
            "+-----------------------------------------------------------------------------+\n"
          ],
          "name": "stdout"
        }
      ]
    },
    {
      "cell_type": "code",
      "metadata": {
        "id": "WDK0a78eQwze"
      },
      "source": [
        "#!rm -rf ./*    # BEWARE : Removes all the files present in colab\n",
        "#!rm -rf /content/sample_data"
      ],
      "execution_count": null,
      "outputs": []
    },
    {
      "cell_type": "code",
      "metadata": {
        "colab": {
          "base_uri": "https://localhost:8080/"
        },
        "id": "iyggZ25EpN3w",
        "outputId": "ec1d41ec-03e7-41a0-952e-3b222066f522"
      },
      "source": [
        "# Mounting the drive and copying the code from github to drive\n",
        "from google.colab import drive \n",
        "drive.mount('/content/gdrive')\n",
        "!git clone https://github.com/anilbhatt1/Deep_Learning_EVA6_Phase1"
      ],
      "execution_count": 3,
      "outputs": [
        {
          "output_type": "stream",
          "text": [
            "Mounted at /content/gdrive\n",
            "Cloning into 'Deep_Learning_EVA6_Phase1'...\n",
            "remote: Enumerating objects: 377, done.\u001b[K\n",
            "remote: Counting objects: 100% (37/37), done.\u001b[K\n",
            "remote: Compressing objects: 100% (37/37), done.\u001b[K\n",
            "remote: Total 377 (delta 15), reused 0 (delta 0), pack-reused 340\u001b[K\n",
            "Receiving objects: 100% (377/377), 9.20 MiB | 27.00 MiB/s, done.\n",
            "Resolving deltas: 100% (189/189), done.\n"
          ],
          "name": "stdout"
        }
      ]
    },
    {
      "cell_type": "code",
      "metadata": {
        "colab": {
          "base_uri": "https://localhost:8080/"
        },
        "id": "EjgjE0EppkIN",
        "outputId": "49a60493-2f84-4868-ec33-f9d86686435a"
      },
      "source": [
        "%cd Deep_Learning_EVA6_Phase1/src\n",
        "! ls"
      ],
      "execution_count": 4,
      "outputs": [
        {
          "output_type": "stream",
          "text": [
            "/content/Deep_Learning_EVA6_Phase1/src\n",
            "Alb_transforms.py  README.md\ttest_loss.py   utilities.py\n",
            "models.py\t   s7_model.py\ttrain_loss.py\n"
          ],
          "name": "stdout"
        }
      ]
    },
    {
      "cell_type": "code",
      "metadata": {
        "id": "VN8gZCLmBwCR",
        "colab": {
          "base_uri": "https://localhost:8080/"
        },
        "outputId": "d2c1db6b-0796-439b-8b6b-f22496a77d3d"
      },
      "source": [
        "!pip install albumentations==1.0.0"
      ],
      "execution_count": 5,
      "outputs": [
        {
          "output_type": "stream",
          "text": [
            "Collecting albumentations==1.0.0\n",
            "\u001b[?25l  Downloading https://files.pythonhosted.org/packages/b0/be/3db3cd8af771988748f69eace42047d5edebf01eaa7e1293f3b3f75f989e/albumentations-1.0.0-py3-none-any.whl (98kB)\n",
            "\r\u001b[K     |███▍                            | 10kB 21.3MB/s eta 0:00:01\r\u001b[K     |██████▊                         | 20kB 26.3MB/s eta 0:00:01\r\u001b[K     |██████████                      | 30kB 24.7MB/s eta 0:00:01\r\u001b[K     |█████████████▍                  | 40kB 18.6MB/s eta 0:00:01\r\u001b[K     |████████████████▊               | 51kB 9.1MB/s eta 0:00:01\r\u001b[K     |████████████████████            | 61kB 8.3MB/s eta 0:00:01\r\u001b[K     |███████████████████████▍        | 71kB 9.3MB/s eta 0:00:01\r\u001b[K     |██████████████████████████▊     | 81kB 10.3MB/s eta 0:00:01\r\u001b[K     |██████████████████████████████  | 92kB 10.8MB/s eta 0:00:01\r\u001b[K     |████████████████████████████████| 102kB 7.0MB/s \n",
            "\u001b[?25hRequirement already satisfied: PyYAML in /usr/local/lib/python3.7/dist-packages (from albumentations==1.0.0) (3.13)\n",
            "Requirement already satisfied: scikit-image>=0.16.1 in /usr/local/lib/python3.7/dist-packages (from albumentations==1.0.0) (0.16.2)\n",
            "Requirement already satisfied: scipy in /usr/local/lib/python3.7/dist-packages (from albumentations==1.0.0) (1.4.1)\n",
            "Requirement already satisfied: numpy>=1.11.1 in /usr/local/lib/python3.7/dist-packages (from albumentations==1.0.0) (1.19.5)\n",
            "Collecting opencv-python-headless>=4.1.1\n",
            "\u001b[?25l  Downloading https://files.pythonhosted.org/packages/c3/35/bfc76533f2274cd3da4e2cf255cd13ab9d7f6fc8990c06911e7f8fcc2130/opencv_python_headless-4.5.2.54-cp37-cp37m-manylinux2014_x86_64.whl (38.2MB)\n",
            "\u001b[K     |████████████████████████████████| 38.2MB 78kB/s \n",
            "\u001b[?25hRequirement already satisfied: PyWavelets>=0.4.0 in /usr/local/lib/python3.7/dist-packages (from scikit-image>=0.16.1->albumentations==1.0.0) (1.1.1)\n",
            "Requirement already satisfied: pillow>=4.3.0 in /usr/local/lib/python3.7/dist-packages (from scikit-image>=0.16.1->albumentations==1.0.0) (7.1.2)\n",
            "Requirement already satisfied: imageio>=2.3.0 in /usr/local/lib/python3.7/dist-packages (from scikit-image>=0.16.1->albumentations==1.0.0) (2.4.1)\n",
            "Requirement already satisfied: networkx>=2.0 in /usr/local/lib/python3.7/dist-packages (from scikit-image>=0.16.1->albumentations==1.0.0) (2.5.1)\n",
            "Requirement already satisfied: matplotlib!=3.0.0,>=2.0.0 in /usr/local/lib/python3.7/dist-packages (from scikit-image>=0.16.1->albumentations==1.0.0) (3.2.2)\n",
            "Requirement already satisfied: decorator<5,>=4.3 in /usr/local/lib/python3.7/dist-packages (from networkx>=2.0->scikit-image>=0.16.1->albumentations==1.0.0) (4.4.2)\n",
            "Requirement already satisfied: pyparsing!=2.0.4,!=2.1.2,!=2.1.6,>=2.0.1 in /usr/local/lib/python3.7/dist-packages (from matplotlib!=3.0.0,>=2.0.0->scikit-image>=0.16.1->albumentations==1.0.0) (2.4.7)\n",
            "Requirement already satisfied: cycler>=0.10 in /usr/local/lib/python3.7/dist-packages (from matplotlib!=3.0.0,>=2.0.0->scikit-image>=0.16.1->albumentations==1.0.0) (0.10.0)\n",
            "Requirement already satisfied: kiwisolver>=1.0.1 in /usr/local/lib/python3.7/dist-packages (from matplotlib!=3.0.0,>=2.0.0->scikit-image>=0.16.1->albumentations==1.0.0) (1.3.1)\n",
            "Requirement already satisfied: python-dateutil>=2.1 in /usr/local/lib/python3.7/dist-packages (from matplotlib!=3.0.0,>=2.0.0->scikit-image>=0.16.1->albumentations==1.0.0) (2.8.1)\n",
            "Requirement already satisfied: six in /usr/local/lib/python3.7/dist-packages (from cycler>=0.10->matplotlib!=3.0.0,>=2.0.0->scikit-image>=0.16.1->albumentations==1.0.0) (1.15.0)\n",
            "Installing collected packages: opencv-python-headless, albumentations\n",
            "  Found existing installation: albumentations 0.1.12\n",
            "    Uninstalling albumentations-0.1.12:\n",
            "      Successfully uninstalled albumentations-0.1.12\n",
            "Successfully installed albumentations-1.0.0 opencv-python-headless-4.5.2.54\n"
          ],
          "name": "stdout"
        }
      ]
    },
    {
      "cell_type": "code",
      "metadata": {
        "id": "8kH16rnZ7wt_",
        "colab": {
          "base_uri": "https://localhost:8080/"
        },
        "outputId": "89f4086f-d632-4ac4-fba9-af634b966c32"
      },
      "source": [
        "import torch\n",
        "import torch.nn as nn\n",
        "import torch.nn.functional as F\n",
        "import torch.optim as optim\n",
        "from torchvision import datasets, transforms\n",
        "import numpy as np\n",
        "from tqdm import tqdm\n",
        "import matplotlib.pyplot as plt\n",
        "import albumentations as A\n",
        "cuda = torch.cuda.is_available()\n",
        "print(f'Albumentations Version : {A.__version__}, Pytorch Version : {torch.__version__}, cuda:{cuda}')"
      ],
      "execution_count": 6,
      "outputs": [
        {
          "output_type": "stream",
          "text": [
            "Albumentations Version : 1.0.0, Pytorch Version : 1.9.0+cu102, cuda:True\n"
          ],
          "name": "stdout"
        }
      ]
    },
    {
      "cell_type": "code",
      "metadata": {
        "id": "Nqp2Wrfj03DA"
      },
      "source": [
        "# Import required src files\n",
        "import s7_model, utilities, train_loss, test_loss, Alb_transforms"
      ],
      "execution_count": 8,
      "outputs": []
    },
    {
      "cell_type": "markdown",
      "metadata": {
        "id": "q-pbxs8oCIEW"
      },
      "source": [
        "## Calculating mean & std-dev of CIFAR-10 train dataset. This is required for data augmentation"
      ]
    },
    {
      "cell_type": "code",
      "metadata": {
        "id": "SRnAixeoBo55",
        "colab": {
          "base_uri": "https://localhost:8080/",
          "height": 133,
          "referenced_widgets": [
            "bddcae7701c442049d1ae74e9d2c800e",
            "0f6171c76c66484798cf44267772d988",
            "b9cf68852a09480c8c078384c0239add",
            "92ccaba310d148b9a9ba2f0575ae59d2",
            "70f698f609864e27a7362a718b97cbf8",
            "6eb8dd54bbf44fb9bda302c002c4ccaf",
            "07424f46370d41878436fb71af180fc7",
            "162d2a49f6e14659a65ce9a1d03c83e6"
          ]
        },
        "outputId": "248d8f3f-a6a5-485c-aae9-97862ffeeaf1"
      },
      "source": [
        "train = datasets.CIFAR10('./data', train=True, download=True)\n",
        "\n",
        "n  = 0\n",
        "s  = np.zeros(3)\n",
        "sq = np.zeros(3)\n",
        "i  = 0\n",
        "batchsize = 128\n",
        "for data, l in train:\n",
        "  x   = np.array(data)/255                             # Image Normalization \n",
        "  s  += x.sum(axis=(0,1))                              # Summing up x & y values across 3 channels - CIFAR 10 size is 32,32,3. Useful for mean \n",
        "  sq += np.sum(np.square(x), axis=(0,1))               # Summing up x^2 and y^2 values across 3 channels. Useful for std dev calculation\n",
        "  n  += x.shape[0]*x.shape[1]                          # Summing up no: of pixels.Each channel has 32x32. Final pixels per channel = # images * 32 *32\n",
        "  i  += 1\n",
        "\n",
        "batches = int(i/batchsize)\n",
        "mu = s/n                               # mean = sum of pixel values/ no: of pixel values. Will return 3 element array as CIFAR10 has 3 channels\n",
        "std = np.sqrt((sq/n - np.square(mu)))  # std dev = sqrt[sigma{x(i) - mean}^2/N]. Will return 3 element array as CIFAR10 has 3 channels\n",
        "print(f'No: Of Train Images: {i}, Batch_size : {batchsize}, No: Of Batches:{batches}')\n",
        "print(f'Channels Mean:{mu}, Channels Stdev:{std}, Total No: of pixels:{n}')"
      ],
      "execution_count": 7,
      "outputs": [
        {
          "output_type": "stream",
          "text": [
            "Downloading https://www.cs.toronto.edu/~kriz/cifar-10-python.tar.gz to ./data/cifar-10-python.tar.gz\n"
          ],
          "name": "stdout"
        },
        {
          "output_type": "display_data",
          "data": {
            "application/vnd.jupyter.widget-view+json": {
              "model_id": "bddcae7701c442049d1ae74e9d2c800e",
              "version_minor": 0,
              "version_major": 2
            },
            "text/plain": [
              "HBox(children=(FloatProgress(value=0.0, max=170498071.0), HTML(value='')))"
            ]
          },
          "metadata": {
            "tags": []
          }
        },
        {
          "output_type": "stream",
          "text": [
            "\n",
            "Extracting ./data/cifar-10-python.tar.gz to ./data\n",
            "No: Of Train Images: 50000, Batch_size : 128, No: Of Batches:390\n",
            "Channels Mean:[0.49139968 0.48215841 0.44653091], Channels Stdev:[0.24703223 0.24348513 0.26158784], Total No: of pixels:51200000\n"
          ],
          "name": "stdout"
        }
      ]
    },
    {
      "cell_type": "markdown",
      "metadata": {
        "id": "ky3f_Odl-7um"
      },
      "source": [
        "## Applying data augmentations to train and test dataset"
      ]
    },
    {
      "cell_type": "code",
      "metadata": {
        "id": "YtssFUKb-jqx",
        "colab": {
          "base_uri": "https://localhost:8080/"
        },
        "outputId": "bacb598f-a8e8-4080-bee1-4d574802bf2f"
      },
      "source": [
        "if cuda:\n",
        "    torch.cuda.manual_seed(1)\n",
        "\n",
        "dataloader_args = dict(shuffle=True, batch_size=128, num_workers=2, pin_memory=True) if cuda else dict(shuffle=True, batch_size=64)\n",
        "\n",
        "channels_mean  = [0.49139968, 0.48215841, 0.44653091]\n",
        "channels_stdev = [0.24703223, 0.24348513, 0.26158784]\n",
        "\n",
        "test_transforms   = Alb_transforms.Alb_trans([A.Normalize(mean=channels_mean, std=channels_stdev),])\n",
        "train_transforms  = Alb_transforms.Alb_trans([A.HorizontalFlip(),\n",
        "                                              A.ShiftScaleRotate(),\n",
        "                                              A.ToGray(),\n",
        "                                              A.Normalize(mean=channels_mean, std=channels_stdev),\n",
        "                                              A.CoarseDropout(max_holes=1, max_height=16, max_width=16,min_holes=1,\n",
        "                                                              min_height=16,min_width=16,fill_value=channels_mean,mask_fill_value=None),\n",
        "                                              ])\n",
        "\n",
        "train_data = datasets.CIFAR10('./data', train=True, download=True, transform=train_transforms)\n",
        "test_data  = datasets.CIFAR10('./data', train=False, download=True, transform=test_transforms)\n",
        "\n",
        "# train dataloader\n",
        "trainloader = torch.utils.data.DataLoader(train_data, **dataloader_args)\n",
        "\n",
        "# test dataloader\n",
        "testloader = torch.utils.data.DataLoader(test_data, **dataloader_args)"
      ],
      "execution_count": 10,
      "outputs": [
        {
          "output_type": "stream",
          "text": [
            "Files already downloaded and verified\n",
            "Files already downloaded and verified\n"
          ],
          "name": "stdout"
        }
      ]
    },
    {
      "cell_type": "markdown",
      "metadata": {
        "id": "oQciFYo2B1mO"
      },
      "source": [
        "## Displaying train-data after applying augmentations. This is to get an idea how images looks like."
      ]
    },
    {
      "cell_type": "code",
      "metadata": {
        "id": "_4A84rlfDA23"
      },
      "source": [
        "# Function to unnormalize and bring back to original pixel values. Transpose is to reshape the image on x & y axes and make it ready for display\n",
        "def unnormalize(img):\n",
        "    for i in range(img.shape[0]):\n",
        "        img[i] = (img[i]*channels_stdev[i])+channels_mean[i]\n",
        "    img = img.permute(1, 2, 0)\n",
        "    return img"
      ],
      "execution_count": 11,
      "outputs": []
    },
    {
      "cell_type": "code",
      "metadata": {
        "id": "C8OLDR79DrHG",
        "colab": {
          "base_uri": "https://localhost:8080/",
          "height": 930
        },
        "outputId": "9c80f69b-c880-416c-f962-dd70fca77ad1"
      },
      "source": [
        "dataiter       = iter(trainloader)\n",
        "images, labels = dataiter.next()\n",
        "num_classes    = 10\n",
        "print(f'images.shape:{images.shape}, labels.shape:{labels.shape}')\n",
        "# display 5 images from each category. \n",
        "class_names = ['plane', 'automobile', 'bird', 'cat','deer', 'dog', 'frog', 'horse', 'ship', 'truck']\n",
        "\n",
        "row, col   = 10, 8\n",
        "num_images = 5\n",
        "fig = plt.figure(figsize=(15,15))\n",
        "fig.subplots_adjust(hspace=0.01, wspace=0.01)\n",
        "for class_num in range(num_classes):\n",
        "    idx = np.random.choice(np.where(labels[:]==class_num)[0], num_images)  ## Selecting 5 random images for each class\n",
        "    ax  = plt.subplot(row, col,class_num*col + 1)                          ## Laying out space for display of a particular class\n",
        "    ax.text(-0.1, 0.5, class_names[class_num], fontsize=14)                ## Displaying class names\n",
        "    plt.axis('off')\n",
        "    for j in range(1, num_images+1):                                       ## Displaying images one-by-one for a particular class\n",
        "        plt.subplot(row, col, class_num*col+j+1)\n",
        "        img = images[idx[j-1]]\n",
        "        plt.imshow(unnormalize(img), interpolation='none')\n",
        "        plt.axis('off')\n",
        "plt.show()"
      ],
      "execution_count": 10,
      "outputs": [
        {
          "output_type": "stream",
          "text": [
            "Clipping input data to the valid range for imshow with RGB data ([0..1] for floats or [0..255] for integers).\n"
          ],
          "name": "stderr"
        },
        {
          "output_type": "stream",
          "text": [
            "images.shape:torch.Size([128, 3, 32, 32]), labels.shape:torch.Size([128])\n"
          ],
          "name": "stdout"
        },
        {
          "output_type": "stream",
          "text": [
            "Clipping input data to the valid range for imshow with RGB data ([0..1] for floats or [0..255] for integers).\n",
            "Clipping input data to the valid range for imshow with RGB data ([0..1] for floats or [0..255] for integers).\n",
            "Clipping input data to the valid range for imshow with RGB data ([0..1] for floats or [0..255] for integers).\n"
          ],
          "name": "stderr"
        },
        {
          "output_type": "display_data",
          "data": {
            "image/png": "[encoded data removed]",
            "text/plain": [
              "<Figure size 1080x1080 with 60 Axes>"
            ]
          },
          "metadata": {
            "tags": [],
            "needs_background": "light"
          }
        }
      ]
    },
    {
      "cell_type": "markdown",
      "metadata": {
        "id": "M3-vp8X9LCWo"
      },
      "source": [
        "# Model Params\n"
      ]
    },
    {
      "cell_type": "code",
      "metadata": {
        "id": "u_LC6ISMyBbZ",
        "colab": {
          "base_uri": "https://localhost:8080/"
        },
        "outputId": "874bbc69-088a-4b0b-ec24-d89e3466efc5"
      },
      "source": [
        "!pip install torchsummary\n",
        "from torchsummary import summary\n",
        "use_cuda = torch.cuda.is_available()\n",
        "device = torch.device(\"cuda\" if use_cuda else \"cpu\")\n",
        "print(device)"
      ],
      "execution_count": 12,
      "outputs": [
        {
          "output_type": "stream",
          "text": [
            "Requirement already satisfied: torchsummary in /usr/local/lib/python3.7/dist-packages (1.5.1)\n",
            "cuda\n"
          ],
          "name": "stdout"
        }
      ]
    },
    {
      "cell_type": "code",
      "metadata": {
        "id": "94uhTHqdAyqf",
        "colab": {
          "base_uri": "https://localhost:8080/"
        },
        "outputId": "465ad78e-72e1-476f-824b-9fe98bea6042"
      },
      "source": [
        "model = s7_model.S7_CNNModel_mixed().to(device)\n",
        "summary(model, input_size=(3, 32, 32))"
      ],
      "execution_count": 13,
      "outputs": [
        {
          "output_type": "stream",
          "text": [
            "----------------------------------------------------------------\n",
            "        Layer (type)               Output Shape         Param #\n",
            "================================================================\n",
            "            Conv2d-1           [-1, 32, 32, 32]             864\n",
            "              ReLU-2           [-1, 32, 32, 32]               0\n",
            "       BatchNorm2d-3           [-1, 32, 32, 32]              64\n",
            "            Conv2d-4           [-1, 64, 32, 32]          18,432\n",
            "              ReLU-5           [-1, 64, 32, 32]               0\n",
            "       BatchNorm2d-6           [-1, 64, 32, 32]             128\n",
            "            Conv2d-7           [-1, 64, 32, 32]           1,152\n",
            "              ReLU-8           [-1, 64, 32, 32]               0\n",
            "       BatchNorm2d-9           [-1, 64, 32, 32]             128\n",
            "           Conv2d-10           [-1, 64, 32, 32]           1,152\n",
            "             ReLU-11           [-1, 64, 32, 32]               0\n",
            "      BatchNorm2d-12           [-1, 64, 32, 32]             128\n",
            "           Conv2d-13           [-1, 64, 32, 32]           1,152\n",
            "             ReLU-14           [-1, 64, 32, 32]               0\n",
            "      BatchNorm2d-15           [-1, 64, 32, 32]             128\n",
            "           Conv2d-16           [-1, 32, 32, 32]           2,048\n",
            "           Conv2d-17           [-1, 32, 28, 28]           9,216\n",
            "             ReLU-18           [-1, 32, 28, 28]               0\n",
            "      BatchNorm2d-19           [-1, 32, 28, 28]              64\n",
            "           Conv2d-20           [-1, 32, 26, 26]           9,216\n",
            "             ReLU-21           [-1, 32, 26, 26]               0\n",
            "      BatchNorm2d-22           [-1, 32, 26, 26]              64\n",
            "           Conv2d-23           [-1, 32, 26, 26]             288\n",
            "             ReLU-24           [-1, 32, 26, 26]               0\n",
            "      BatchNorm2d-25           [-1, 32, 26, 26]              64\n",
            "           Conv2d-26           [-1, 64, 26, 26]           2,048\n",
            "           Conv2d-27           [-1, 64, 26, 26]             576\n",
            "             ReLU-28           [-1, 64, 26, 26]               0\n",
            "      BatchNorm2d-29           [-1, 64, 26, 26]             128\n",
            "           Conv2d-30           [-1, 64, 26, 26]             576\n",
            "             ReLU-31           [-1, 64, 26, 26]               0\n",
            "      BatchNorm2d-32           [-1, 64, 26, 26]             128\n",
            "           Conv2d-33           [-1, 32, 26, 26]           2,048\n",
            "           Conv2d-34           [-1, 32, 22, 22]           9,216\n",
            "             ReLU-35           [-1, 32, 22, 22]               0\n",
            "      BatchNorm2d-36           [-1, 32, 22, 22]              64\n",
            "           Conv2d-37           [-1, 32, 20, 20]           9,216\n",
            "             ReLU-38           [-1, 32, 20, 20]               0\n",
            "      BatchNorm2d-39           [-1, 32, 20, 20]              64\n",
            "           Conv2d-40           [-1, 32, 20, 20]             288\n",
            "             ReLU-41           [-1, 32, 20, 20]               0\n",
            "      BatchNorm2d-42           [-1, 32, 20, 20]              64\n",
            "           Conv2d-43           [-1, 64, 20, 20]           2,048\n",
            "           Conv2d-44           [-1, 64, 20, 20]           1,152\n",
            "             ReLU-45           [-1, 64, 20, 20]               0\n",
            "      BatchNorm2d-46           [-1, 64, 20, 20]             128\n",
            "           Conv2d-47           [-1, 64, 20, 20]           1,152\n",
            "             ReLU-48           [-1, 64, 20, 20]               0\n",
            "      BatchNorm2d-49           [-1, 64, 20, 20]             128\n",
            "           Conv2d-50           [-1, 32, 20, 20]           2,048\n",
            "           Conv2d-51           [-1, 32, 10, 10]           9,216\n",
            "           Conv2d-52             [-1, 32, 8, 8]           9,216\n",
            "             ReLU-53             [-1, 32, 8, 8]               0\n",
            "      BatchNorm2d-54             [-1, 32, 8, 8]              64\n",
            "           Conv2d-55             [-1, 16, 8, 8]             512\n",
            "           Conv2d-56             [-1, 16, 6, 6]           2,304\n",
            "             ReLU-57             [-1, 16, 6, 6]               0\n",
            "      BatchNorm2d-58             [-1, 16, 6, 6]              32\n",
            "           Conv2d-59             [-1, 16, 6, 6]           2,304\n",
            "             ReLU-60             [-1, 16, 6, 6]               0\n",
            "      BatchNorm2d-61             [-1, 16, 6, 6]              32\n",
            "        AvgPool2d-62             [-1, 16, 1, 1]               0\n",
            "           Conv2d-63             [-1, 10, 1, 1]             160\n",
            "================================================================\n",
            "Total params: 99,200\n",
            "Trainable params: 99,200\n",
            "Non-trainable params: 0\n",
            "----------------------------------------------------------------\n",
            "Input size (MB): 0.01\n",
            "Forward/backward pass size (MB): 13.55\n",
            "Params size (MB): 0.38\n",
            "Estimated Total Size (MB): 13.94\n",
            "----------------------------------------------------------------\n"
          ],
          "name": "stdout"
        }
      ]
    },
    {
      "cell_type": "code",
      "metadata": {
        "id": "6y3odxd9B4Et",
        "colab": {
          "base_uri": "https://localhost:8080/"
        },
        "outputId": "aefa7a0f-a0c7-4a34-9ef9-c1da970ab67c"
      },
      "source": [
        "print(model)"
      ],
      "execution_count": 13,
      "outputs": [
        {
          "output_type": "stream",
          "text": [
            "S7_CNNModel_mixed(\n",
            "  (convblock0A): Sequential(\n",
            "    (0): Conv2d(3, 32, kernel_size=(3, 3), stride=(1, 1), padding=(1, 1), bias=False)\n",
            "    (1): ReLU()\n",
            "    (2): BatchNorm2d(32, eps=1e-05, momentum=0.1, affine=True, track_running_stats=True)\n",
            "  )\n",
            "  (convblock1A): Sequential(\n",
            "    (0): Conv2d(32, 64, kernel_size=(3, 3), stride=(1, 1), padding=(1, 1), bias=False)\n",
            "    (1): ReLU()\n",
            "    (2): BatchNorm2d(64, eps=1e-05, momentum=0.1, affine=True, track_running_stats=True)\n",
            "  )\n",
            "  (depthwise1A): Sequential(\n",
            "    (0): Conv2d(64, 64, kernel_size=(3, 3), stride=(1, 1), padding=(1, 1), groups=32, bias=False)\n",
            "    (1): ReLU()\n",
            "    (2): BatchNorm2d(64, eps=1e-05, momentum=0.1, affine=True, track_running_stats=True)\n",
            "  )\n",
            "  (depthwise1B): Sequential(\n",
            "    (0): Conv2d(64, 64, kernel_size=(3, 3), stride=(1, 1), padding=(1, 1), groups=32, bias=False)\n",
            "    (1): ReLU()\n",
            "    (2): BatchNorm2d(64, eps=1e-05, momentum=0.1, affine=True, track_running_stats=True)\n",
            "  )\n",
            "  (depthwise1C): Sequential(\n",
            "    (0): Conv2d(64, 64, kernel_size=(3, 3), stride=(1, 1), padding=(1, 1), groups=32, bias=False)\n",
            "    (1): ReLU()\n",
            "    (2): BatchNorm2d(64, eps=1e-05, momentum=0.1, affine=True, track_running_stats=True)\n",
            "  )\n",
            "  (pointwise1C): Sequential(\n",
            "    (0): Conv2d(64, 32, kernel_size=(1, 1), stride=(1, 1), bias=False)\n",
            "  )\n",
            "  (pool1): Sequential(\n",
            "    (0): Conv2d(32, 32, kernel_size=(3, 3), stride=(1, 1), dilation=(2, 2), bias=False)\n",
            "    (1): ReLU()\n",
            "    (2): BatchNorm2d(32, eps=1e-05, momentum=0.1, affine=True, track_running_stats=True)\n",
            "  )\n",
            "  (convblock2A): Sequential(\n",
            "    (0): Conv2d(32, 32, kernel_size=(3, 3), stride=(1, 1), bias=False)\n",
            "    (1): ReLU()\n",
            "    (2): BatchNorm2d(32, eps=1e-05, momentum=0.1, affine=True, track_running_stats=True)\n",
            "  )\n",
            "  (depthwise2A): Sequential(\n",
            "    (0): Conv2d(32, 32, kernel_size=(3, 3), stride=(1, 1), padding=(1, 1), groups=32, bias=False)\n",
            "    (1): ReLU()\n",
            "    (2): BatchNorm2d(32, eps=1e-05, momentum=0.1, affine=True, track_running_stats=True)\n",
            "  )\n",
            "  (pointwise2A): Sequential(\n",
            "    (0): Conv2d(32, 64, kernel_size=(1, 1), stride=(1, 1), bias=False)\n",
            "  )\n",
            "  (depthwise2B): Sequential(\n",
            "    (0): Conv2d(64, 64, kernel_size=(3, 3), stride=(1, 1), padding=(1, 1), groups=64, bias=False)\n",
            "    (1): ReLU()\n",
            "    (2): BatchNorm2d(64, eps=1e-05, momentum=0.1, affine=True, track_running_stats=True)\n",
            "  )\n",
            "  (depthwise2C): Sequential(\n",
            "    (0): Conv2d(64, 64, kernel_size=(3, 3), stride=(1, 1), padding=(1, 1), groups=64, bias=False)\n",
            "    (1): ReLU()\n",
            "    (2): BatchNorm2d(64, eps=1e-05, momentum=0.1, affine=True, track_running_stats=True)\n",
            "  )\n",
            "  (pointwise2C): Sequential(\n",
            "    (0): Conv2d(64, 32, kernel_size=(1, 1), stride=(1, 1), bias=False)\n",
            "  )\n",
            "  (pool2): Sequential(\n",
            "    (0): Conv2d(32, 32, kernel_size=(3, 3), stride=(1, 1), dilation=(2, 2), bias=False)\n",
            "    (1): ReLU()\n",
            "    (2): BatchNorm2d(32, eps=1e-05, momentum=0.1, affine=True, track_running_stats=True)\n",
            "  )\n",
            "  (convblock3A): Sequential(\n",
            "    (0): Conv2d(32, 32, kernel_size=(3, 3), stride=(1, 1), bias=False)\n",
            "    (1): ReLU()\n",
            "    (2): BatchNorm2d(32, eps=1e-05, momentum=0.1, affine=True, track_running_stats=True)\n",
            "  )\n",
            "  (depthwise3A): Sequential(\n",
            "    (0): Conv2d(32, 32, kernel_size=(3, 3), stride=(1, 1), padding=(1, 1), groups=32, bias=False)\n",
            "    (1): ReLU()\n",
            "    (2): BatchNorm2d(32, eps=1e-05, momentum=0.1, affine=True, track_running_stats=True)\n",
            "  )\n",
            "  (pointwise3A): Sequential(\n",
            "    (0): Conv2d(32, 64, kernel_size=(1, 1), stride=(1, 1), bias=False)\n",
            "  )\n",
            "  (depthwise3B): Sequential(\n",
            "    (0): Conv2d(64, 64, kernel_size=(3, 3), stride=(1, 1), padding=(1, 1), groups=32, bias=False)\n",
            "    (1): ReLU()\n",
            "    (2): BatchNorm2d(64, eps=1e-05, momentum=0.1, affine=True, track_running_stats=True)\n",
            "  )\n",
            "  (depthwise3C): Sequential(\n",
            "    (0): Conv2d(64, 64, kernel_size=(3, 3), stride=(1, 1), padding=(1, 1), groups=32, bias=False)\n",
            "    (1): ReLU()\n",
            "    (2): BatchNorm2d(64, eps=1e-05, momentum=0.1, affine=True, track_running_stats=True)\n",
            "  )\n",
            "  (pointwise3C): Sequential(\n",
            "    (0): Conv2d(64, 32, kernel_size=(1, 1), stride=(1, 1), bias=False)\n",
            "  )\n",
            "  (pool3): Conv2d(32, 32, kernel_size=(3, 3), stride=(2, 2), padding=(1, 1), bias=False)\n",
            "  (convblock4A): Sequential(\n",
            "    (0): Conv2d(32, 32, kernel_size=(3, 3), stride=(1, 1), bias=False)\n",
            "    (1): ReLU()\n",
            "    (2): BatchNorm2d(32, eps=1e-05, momentum=0.1, affine=True, track_running_stats=True)\n",
            "  )\n",
            "  (pointwise4A): Sequential(\n",
            "    (0): Conv2d(32, 16, kernel_size=(1, 1), stride=(1, 1), bias=False)\n",
            "  )\n",
            "  (convblock4B): Sequential(\n",
            "    (0): Conv2d(16, 16, kernel_size=(3, 3), stride=(1, 1), bias=False)\n",
            "    (1): ReLU()\n",
            "    (2): BatchNorm2d(16, eps=1e-05, momentum=0.1, affine=True, track_running_stats=True)\n",
            "  )\n",
            "  (dilated5A): Sequential(\n",
            "    (0): Conv2d(16, 16, kernel_size=(3, 3), stride=(1, 1), padding=(2, 2), dilation=(2, 2), bias=False)\n",
            "    (1): ReLU()\n",
            "    (2): BatchNorm2d(16, eps=1e-05, momentum=0.1, affine=True, track_running_stats=True)\n",
            "  )\n",
            "  (Gap1): Sequential(\n",
            "    (0): AvgPool2d(kernel_size=6, stride=6, padding=0)\n",
            "  )\n",
            "  (fc1): Sequential(\n",
            "    (0): Conv2d(16, 10, kernel_size=(1, 1), stride=(1, 1), bias=False)\n",
            "  )\n",
            ")\n"
          ],
          "name": "stdout"
        }
      ]
    },
    {
      "cell_type": "markdown",
      "metadata": {
        "id": "1__x_SbrL7z3"
      },
      "source": [
        "# Training and Testing\n",
        "\n"
      ]
    },
    {
      "cell_type": "code",
      "metadata": {
        "id": "ggezZBYqdHhw"
      },
      "source": [
        "def plot_misclassified(counters, num_images, title, class_names, fig_size):\n",
        "    \n",
        "    figure=plt.figure(figsize=fig_size)\n",
        "    print(f'** Plotting misclassified test images from last epoch for {title} **')\n",
        "    print('\\n')\n",
        "    class_names_dict = class_names\n",
        "    if len(details['mis_img']) > num_images: \n",
        "        for i in range(num_images):\n",
        "            plt.subplot(5,5,i+1)\n",
        "            plt.axis(False)      \n",
        "            #unnorm_img = unnorm_mispred.unnorm_albumented(test_stats.img[i].cpu())\n",
        "            unnorm_img = unnormalize(counters['mis_img'][i].cpu())\n",
        "            plt.imshow(unnorm_img, interpolation='none')\n",
        "            prediction = class_names_dict.get(counters['mis_pred'][i])\n",
        "            actual     = class_names_dict.get(counters['mis_lbl'][i])\n",
        "            s=\"pred=\"+str(prediction)+\" act=\"+str(actual)\n",
        "            plt.text(2,-1,s)\n",
        "    else:\n",
        "        print(f\"Unable to plot - Less than {num_images} images, only have {len(counters['mis_img'])} images\")"
      ],
      "execution_count": 14,
      "outputs": []
    },
    {
      "cell_type": "code",
      "metadata": {
        "id": "V7gRGvSWdAWy"
      },
      "source": [
        "def disp_details():\n",
        "        \n",
        "    print(f\"Max train accuracy:{max(details['train_acc'])} out of {len(details['train_acc'])} epochs\")\n",
        "    print(f\"Max test accuracy :{max(details['test_acc'])} out of {len(details['test_acc'])} epochs\")\n",
        "\n",
        "    print(f\"Train accuracy: {details['train_acc'][-10:]}\")\n",
        "    print(f\"Test accuracy : {details['test_acc'][-10:]}\")\n",
        "\n",
        "    figure = plt.figure(figsize=(12,8))\n",
        "\n",
        "    plt.title(f\"Train Losses\")\n",
        "    plt.plot(details['train_loss'])\n",
        "\n",
        "    figure = plt.figure(figsize=(12,8))\n",
        "\n",
        "    plt.title(f\"Train Accuracy\")\n",
        "    plt.plot(details['train_acc'])\n",
        "\n",
        "    figure = plt.figure(figsize=(12,8))\n",
        "\n",
        "    plt.title(f\"Test Losses\")\n",
        "    plt.plot(details['test_loss'])\n",
        "\n",
        "    figure = plt.figure(figsize=(12,8))\n",
        "\n",
        "    plt.title(f\"Test Accuracy\")\n",
        "    plt.plot(details['test_acc'])\n",
        "\n",
        "    class_names_dict = {0:'plane', 1:'automob', 2:'bird', 3:'cat',4:'deer', 5:'dog', 6:'frog', 7:'horse', 8:'ship', 9:'truck'}\n",
        "    num_images       = 25\n",
        "    fig_size         = (12, 12)\n",
        "    title            = 'CIFAR-10'\n",
        "    misclass_stats   = details\n",
        "    plot_misclassified(misclass_stats, num_images, title, class_names_dict, fig_size)"
      ],
      "execution_count": 15,
      "outputs": []
    },
    {
      "cell_type": "code",
      "metadata": {
        "id": "SaE4Au9AAl3T"
      },
      "source": [
        "from torch.optim.lr_scheduler import OneCycleLR"
      ],
      "execution_count": 16,
      "outputs": []
    },
    {
      "cell_type": "code",
      "metadata": {
        "id": "hXEggEFqyBww",
        "colab": {
          "base_uri": "https://localhost:8080/",
          "height": 1000
        },
        "outputId": "58113a5b-1af1-4ad9-a6f5-d2519bec2c0c"
      },
      "source": [
        "EPOCHS = 250\n",
        "model = s7_model.S7_CNNModel_mixed().to(device)\n",
        "optimizer = optim.SGD(model.parameters(), lr=0.025, momentum=0.8, weight_decay = 0)\n",
        "scheduler = OneCycleLR(optimizer, max_lr=0.2, steps_per_epoch=len(trainloader), epochs=EPOCHS)\n",
        "stats = utilities.ctr()\n",
        "train = train_loss.train_losses(model, device, trainloader, stats, optimizer, EPOCHS)\n",
        "test  = test_loss.test_losses(model, device, testloader, stats, EPOCHS)\n",
        "\n",
        "for epoch in range(EPOCHS):\n",
        "    print(f'EPOCH: {epoch}')\n",
        "    train.s7_train(epoch, L1_factor=0.0005)\n",
        "    test.s7_test(epoch)  \n",
        "\n",
        "global details\n",
        "details = utilities.counters\n",
        "disp_details()"
      ],
      "execution_count": 17,
      "outputs": [
        {
          "output_type": "stream",
          "text": [
            "\r  0%|          | 0/391 [00:00<?, ?it/s]"
          ],
          "name": "stderr"
        },
        {
          "output_type": "stream",
          "text": [
            "EPOCH: 0\n"
          ],
          "name": "stdout"
        },
        {
          "output_type": "stream",
          "text": [
            "Loss=1.804897427558899 Batch_id=390 Train Accuracy=26.75: 100%|██████████| 391/391 [00:25<00:00, 15.34it/s]"
          ],
          "name": "stderr"
        },
        {
          "output_type": "stream",
          "text": [
            "Train set: Epoch : 0/250 Average loss: 0.0000, Train Accuracy: 26.75\n"
          ],
          "name": "stdout"
        },
        {
          "output_type": "stream",
          "text": [
            "\n",
            "  0%|          | 0/391 [00:00<?, ?it/s]"
          ],
          "name": "stderr"
        },
        {
          "output_type": "stream",
          "text": [
            "Test set: Epoch : 0/250 Average loss: 1.5575, Test Accuracy: 41.5\n",
            "EPOCH: 1\n"
          ],
          "name": "stdout"
        },
        {
          "output_type": "stream",
          "text": [
            "Loss=1.7785968780517578 Batch_id=390 Train Accuracy=37.83: 100%|██████████| 391/391 [00:25<00:00, 15.26it/s]"
          ],
          "name": "stderr"
        },
        {
          "output_type": "stream",
          "text": [
            "Train set: Epoch : 1/250 Average loss: 0.0000, Train Accuracy: 37.83\n"
          ],
          "name": "stdout"
        },
        {
          "output_type": "stream",
          "text": [
            "\n",
            "  0%|          | 0/391 [00:00<?, ?it/s]"
          ],
          "name": "stderr"
        },
        {
          "output_type": "stream",
          "text": [
            "Test set: Epoch : 1/250 Average loss: 1.3907, Test Accuracy: 48.38\n",
            "EPOCH: 2\n"
          ],
          "name": "stdout"
        },
        {
          "output_type": "stream",
          "text": [
            "Loss=1.6523833274841309 Batch_id=390 Train Accuracy=43.11: 100%|██████████| 391/391 [00:25<00:00, 15.14it/s]"
          ],
          "name": "stderr"
        },
        {
          "output_type": "stream",
          "text": [
            "Train set: Epoch : 2/250 Average loss: 0.0000, Train Accuracy: 43.11\n"
          ],
          "name": "stdout"
        },
        {
          "output_type": "stream",
          "text": [
            "\n",
            "  0%|          | 0/391 [00:00<?, ?it/s]"
          ],
          "name": "stderr"
        },
        {
          "output_type": "stream",
          "text": [
            "Test set: Epoch : 2/250 Average loss: 1.2701, Test Accuracy: 53.45\n",
            "EPOCH: 3\n"
          ],
          "name": "stdout"
        },
        {
          "output_type": "stream",
          "text": [
            "Loss=1.558996558189392 Batch_id=390 Train Accuracy=46.58: 100%|██████████| 391/391 [00:25<00:00, 15.15it/s]"
          ],
          "name": "stderr"
        },
        {
          "output_type": "stream",
          "text": [
            "Train set: Epoch : 3/250 Average loss: 0.0000, Train Accuracy: 46.58\n"
          ],
          "name": "stdout"
        },
        {
          "output_type": "stream",
          "text": [
            "\n",
            "  0%|          | 0/391 [00:00<?, ?it/s]"
          ],
          "name": "stderr"
        },
        {
          "output_type": "stream",
          "text": [
            "Test set: Epoch : 3/250 Average loss: 1.2222, Test Accuracy: 54.84\n",
            "EPOCH: 4\n"
          ],
          "name": "stdout"
        },
        {
          "output_type": "stream",
          "text": [
            "Loss=1.4207805395126343 Batch_id=390 Train Accuracy=49.66: 100%|██████████| 391/391 [00:25<00:00, 15.05it/s]"
          ],
          "name": "stderr"
        },
        {
          "output_type": "stream",
          "text": [
            "Train set: Epoch : 4/250 Average loss: 0.0000, Train Accuracy: 49.66\n"
          ],
          "name": "stdout"
        },
        {
          "output_type": "stream",
          "text": [
            "\n",
            "  0%|          | 0/391 [00:00<?, ?it/s]"
          ],
          "name": "stderr"
        },
        {
          "output_type": "stream",
          "text": [
            "Test set: Epoch : 4/250 Average loss: 1.1208, Test Accuracy: 59.42\n",
            "EPOCH: 5\n"
          ],
          "name": "stdout"
        },
        {
          "output_type": "stream",
          "text": [
            "Loss=1.2714461088180542 Batch_id=390 Train Accuracy=51.35: 100%|██████████| 391/391 [00:26<00:00, 14.91it/s]"
          ],
          "name": "stderr"
        },
        {
          "output_type": "stream",
          "text": [
            "Train set: Epoch : 5/250 Average loss: 0.0000, Train Accuracy: 51.35\n"
          ],
          "name": "stdout"
        },
        {
          "output_type": "stream",
          "text": [
            "\n",
            "  0%|          | 0/391 [00:00<?, ?it/s]"
          ],
          "name": "stderr"
        },
        {
          "output_type": "stream",
          "text": [
            "Test set: Epoch : 5/250 Average loss: 1.0725, Test Accuracy: 61.55\n",
            "EPOCH: 6\n"
          ],
          "name": "stdout"
        },
        {
          "output_type": "stream",
          "text": [
            "Loss=1.202673077583313 Batch_id=390 Train Accuracy=53.20: 100%|██████████| 391/391 [00:26<00:00, 14.75it/s]"
          ],
          "name": "stderr"
        },
        {
          "output_type": "stream",
          "text": [
            "Train set: Epoch : 6/250 Average loss: 0.0000, Train Accuracy: 53.2\n"
          ],
          "name": "stdout"
        },
        {
          "output_type": "stream",
          "text": [
            "\n",
            "  0%|          | 0/391 [00:00<?, ?it/s]"
          ],
          "name": "stderr"
        },
        {
          "output_type": "stream",
          "text": [
            "Test set: Epoch : 6/250 Average loss: 1.0475, Test Accuracy: 63.17\n",
            "EPOCH: 7\n"
          ],
          "name": "stdout"
        },
        {
          "output_type": "stream",
          "text": [
            "Loss=1.3001807928085327 Batch_id=390 Train Accuracy=54.82: 100%|██████████| 391/391 [00:26<00:00, 14.81it/s]"
          ],
          "name": "stderr"
        },
        {
          "output_type": "stream",
          "text": [
            "Train set: Epoch : 7/250 Average loss: 0.0000, Train Accuracy: 54.82\n"
          ],
          "name": "stdout"
        },
        {
          "output_type": "stream",
          "text": [
            "\n",
            "  0%|          | 0/391 [00:00<?, ?it/s]"
          ],
          "name": "stderr"
        },
        {
          "output_type": "stream",
          "text": [
            "Test set: Epoch : 7/250 Average loss: 1.0086, Test Accuracy: 64.01\n",
            "EPOCH: 8\n"
          ],
          "name": "stdout"
        },
        {
          "output_type": "stream",
          "text": [
            "Loss=1.2100013494491577 Batch_id=390 Train Accuracy=55.47: 100%|██████████| 391/391 [00:26<00:00, 14.74it/s]"
          ],
          "name": "stderr"
        },
        {
          "output_type": "stream",
          "text": [
            "Train set: Epoch : 8/250 Average loss: 0.0000, Train Accuracy: 55.47\n"
          ],
          "name": "stdout"
        },
        {
          "output_type": "stream",
          "text": [
            "\n",
            "  0%|          | 0/391 [00:00<?, ?it/s]"
          ],
          "name": "stderr"
        },
        {
          "output_type": "stream",
          "text": [
            "Test set: Epoch : 8/250 Average loss: 0.9944, Test Accuracy: 64.92\n",
            "EPOCH: 9\n"
          ],
          "name": "stdout"
        },
        {
          "output_type": "stream",
          "text": [
            "Loss=1.2327983379364014 Batch_id=390 Train Accuracy=56.57: 100%|██████████| 391/391 [00:26<00:00, 14.60it/s]"
          ],
          "name": "stderr"
        },
        {
          "output_type": "stream",
          "text": [
            "Train set: Epoch : 9/250 Average loss: 0.0000, Train Accuracy: 56.57\n"
          ],
          "name": "stdout"
        },
        {
          "output_type": "stream",
          "text": [
            "\n",
            "  0%|          | 0/391 [00:00<?, ?it/s]"
          ],
          "name": "stderr"
        },
        {
          "output_type": "stream",
          "text": [
            "Test set: Epoch : 9/250 Average loss: 0.9495, Test Accuracy: 66.38\n",
            "EPOCH: 10\n"
          ],
          "name": "stdout"
        },
        {
          "output_type": "stream",
          "text": [
            "Loss=1.2174068689346313 Batch_id=390 Train Accuracy=57.61: 100%|██████████| 391/391 [00:26<00:00, 14.69it/s]"
          ],
          "name": "stderr"
        },
        {
          "output_type": "stream",
          "text": [
            "Train set: Epoch : 10/250 Average loss: 0.0000, Train Accuracy: 57.61\n"
          ],
          "name": "stdout"
        },
        {
          "output_type": "stream",
          "text": [
            "\n",
            "  0%|          | 0/391 [00:00<?, ?it/s]"
          ],
          "name": "stderr"
        },
        {
          "output_type": "stream",
          "text": [
            "Test set: Epoch : 10/250 Average loss: 0.8890, Test Accuracy: 68.6\n",
            "EPOCH: 11\n"
          ],
          "name": "stdout"
        },
        {
          "output_type": "stream",
          "text": [
            "Loss=1.072344422340393 Batch_id=390 Train Accuracy=58.42: 100%|██████████| 391/391 [00:26<00:00, 14.83it/s]"
          ],
          "name": "stderr"
        },
        {
          "output_type": "stream",
          "text": [
            "Train set: Epoch : 11/250 Average loss: 0.0000, Train Accuracy: 58.42\n"
          ],
          "name": "stdout"
        },
        {
          "output_type": "stream",
          "text": [
            "\n",
            "  0%|          | 0/391 [00:00<?, ?it/s]"
          ],
          "name": "stderr"
        },
        {
          "output_type": "stream",
          "text": [
            "Test set: Epoch : 11/250 Average loss: 0.8977, Test Accuracy: 68.14\n",
            "EPOCH: 12\n"
          ],
          "name": "stdout"
        },
        {
          "output_type": "stream",
          "text": [
            "Loss=1.1457189321517944 Batch_id=390 Train Accuracy=58.92: 100%|██████████| 391/391 [00:26<00:00, 14.77it/s]"
          ],
          "name": "stderr"
        },
        {
          "output_type": "stream",
          "text": [
            "Train set: Epoch : 12/250 Average loss: 0.0000, Train Accuracy: 58.92\n"
          ],
          "name": "stdout"
        },
        {
          "output_type": "stream",
          "text": [
            "\n",
            "  0%|          | 0/391 [00:00<?, ?it/s]"
          ],
          "name": "stderr"
        },
        {
          "output_type": "stream",
          "text": [
            "Test set: Epoch : 12/250 Average loss: 0.8647, Test Accuracy: 69.28\n",
            "EPOCH: 13\n"
          ],
          "name": "stdout"
        },
        {
          "output_type": "stream",
          "text": [
            "Loss=1.3245688676834106 Batch_id=390 Train Accuracy=59.73: 100%|██████████| 391/391 [00:26<00:00, 14.77it/s]"
          ],
          "name": "stderr"
        },
        {
          "output_type": "stream",
          "text": [
            "Train set: Epoch : 13/250 Average loss: 0.0000, Train Accuracy: 59.73\n"
          ],
          "name": "stdout"
        },
        {
          "output_type": "stream",
          "text": [
            "\n",
            "  0%|          | 0/391 [00:00<?, ?it/s]"
          ],
          "name": "stderr"
        },
        {
          "output_type": "stream",
          "text": [
            "Test set: Epoch : 13/250 Average loss: 0.8725, Test Accuracy: 69.04\n",
            "EPOCH: 14\n"
          ],
          "name": "stdout"
        },
        {
          "output_type": "stream",
          "text": [
            "Loss=1.2241290807724 Batch_id=390 Train Accuracy=60.37: 100%|██████████| 391/391 [00:26<00:00, 14.78it/s]"
          ],
          "name": "stderr"
        },
        {
          "output_type": "stream",
          "text": [
            "Train set: Epoch : 14/250 Average loss: 0.0000, Train Accuracy: 60.37\n"
          ],
          "name": "stdout"
        },
        {
          "output_type": "stream",
          "text": [
            "\n",
            "  0%|          | 0/391 [00:00<?, ?it/s]"
          ],
          "name": "stderr"
        },
        {
          "output_type": "stream",
          "text": [
            "Test set: Epoch : 14/250 Average loss: 0.8414, Test Accuracy: 70.32\n",
            "EPOCH: 15\n"
          ],
          "name": "stdout"
        },
        {
          "output_type": "stream",
          "text": [
            "Loss=1.1802654266357422 Batch_id=390 Train Accuracy=60.93: 100%|██████████| 391/391 [00:26<00:00, 14.80it/s]"
          ],
          "name": "stderr"
        },
        {
          "output_type": "stream",
          "text": [
            "Train set: Epoch : 15/250 Average loss: 0.0000, Train Accuracy: 60.93\n"
          ],
          "name": "stdout"
        },
        {
          "output_type": "stream",
          "text": [
            "\n",
            "  0%|          | 0/391 [00:00<?, ?it/s]"
          ],
          "name": "stderr"
        },
        {
          "output_type": "stream",
          "text": [
            "Test set: Epoch : 15/250 Average loss: 0.8334, Test Accuracy: 71.03\n",
            "EPOCH: 16\n"
          ],
          "name": "stdout"
        },
        {
          "output_type": "stream",
          "text": [
            "Loss=1.1293163299560547 Batch_id=390 Train Accuracy=61.52: 100%|██████████| 391/391 [00:26<00:00, 14.75it/s]"
          ],
          "name": "stderr"
        },
        {
          "output_type": "stream",
          "text": [
            "Train set: Epoch : 16/250 Average loss: 0.0000, Train Accuracy: 61.52\n"
          ],
          "name": "stdout"
        },
        {
          "output_type": "stream",
          "text": [
            "\n",
            "  0%|          | 0/391 [00:00<?, ?it/s]"
          ],
          "name": "stderr"
        },
        {
          "output_type": "stream",
          "text": [
            "Test set: Epoch : 16/250 Average loss: 0.8349, Test Accuracy: 71.2\n",
            "EPOCH: 17\n"
          ],
          "name": "stdout"
        },
        {
          "output_type": "stream",
          "text": [
            "Loss=1.1300561428070068 Batch_id=390 Train Accuracy=62.08: 100%|██████████| 391/391 [00:26<00:00, 14.70it/s]"
          ],
          "name": "stderr"
        },
        {
          "output_type": "stream",
          "text": [
            "Train set: Epoch : 17/250 Average loss: 0.0000, Train Accuracy: 62.08\n"
          ],
          "name": "stdout"
        },
        {
          "output_type": "stream",
          "text": [
            "\n",
            "  0%|          | 0/391 [00:00<?, ?it/s]"
          ],
          "name": "stderr"
        },
        {
          "output_type": "stream",
          "text": [
            "Test set: Epoch : 17/250 Average loss: 0.8079, Test Accuracy: 72.2\n",
            "EPOCH: 18\n"
          ],
          "name": "stdout"
        },
        {
          "output_type": "stream",
          "text": [
            "Loss=1.0991498231887817 Batch_id=390 Train Accuracy=62.69: 100%|██████████| 391/391 [00:26<00:00, 14.68it/s]"
          ],
          "name": "stderr"
        },
        {
          "output_type": "stream",
          "text": [
            "Train set: Epoch : 18/250 Average loss: 0.0000, Train Accuracy: 62.69\n"
          ],
          "name": "stdout"
        },
        {
          "output_type": "stream",
          "text": [
            "\n",
            "  0%|          | 0/391 [00:00<?, ?it/s]"
          ],
          "name": "stderr"
        },
        {
          "output_type": "stream",
          "text": [
            "Test set: Epoch : 18/250 Average loss: 0.7902, Test Accuracy: 72.38\n",
            "EPOCH: 19\n"
          ],
          "name": "stdout"
        },
        {
          "output_type": "stream",
          "text": [
            "Loss=0.9032278060913086 Batch_id=390 Train Accuracy=62.83: 100%|██████████| 391/391 [00:26<00:00, 14.68it/s]"
          ],
          "name": "stderr"
        },
        {
          "output_type": "stream",
          "text": [
            "Train set: Epoch : 19/250 Average loss: 0.0000, Train Accuracy: 62.83\n"
          ],
          "name": "stdout"
        },
        {
          "output_type": "stream",
          "text": [
            "\n",
            "  0%|          | 0/391 [00:00<?, ?it/s]"
          ],
          "name": "stderr"
        },
        {
          "output_type": "stream",
          "text": [
            "Test set: Epoch : 19/250 Average loss: 0.7667, Test Accuracy: 73.26\n",
            "EPOCH: 20\n"
          ],
          "name": "stdout"
        },
        {
          "output_type": "stream",
          "text": [
            "Loss=1.4572445154190063 Batch_id=390 Train Accuracy=63.34: 100%|██████████| 391/391 [00:26<00:00, 14.66it/s]"
          ],
          "name": "stderr"
        },
        {
          "output_type": "stream",
          "text": [
            "Train set: Epoch : 20/250 Average loss: 0.0000, Train Accuracy: 63.34\n"
          ],
          "name": "stdout"
        },
        {
          "output_type": "stream",
          "text": [
            "\n",
            "  0%|          | 0/391 [00:00<?, ?it/s]"
          ],
          "name": "stderr"
        },
        {
          "output_type": "stream",
          "text": [
            "Test set: Epoch : 20/250 Average loss: 0.8001, Test Accuracy: 72.34\n",
            "EPOCH: 21\n"
          ],
          "name": "stdout"
        },
        {
          "output_type": "stream",
          "text": [
            "Loss=0.8846190571784973 Batch_id=390 Train Accuracy=63.36: 100%|██████████| 391/391 [00:27<00:00, 14.46it/s]"
          ],
          "name": "stderr"
        },
        {
          "output_type": "stream",
          "text": [
            "Train set: Epoch : 21/250 Average loss: 0.0000, Train Accuracy: 63.36\n"
          ],
          "name": "stdout"
        },
        {
          "output_type": "stream",
          "text": [
            "\n",
            "  0%|          | 0/391 [00:00<?, ?it/s]"
          ],
          "name": "stderr"
        },
        {
          "output_type": "stream",
          "text": [
            "Test set: Epoch : 21/250 Average loss: 0.7696, Test Accuracy: 73.08\n",
            "EPOCH: 22\n"
          ],
          "name": "stdout"
        },
        {
          "output_type": "stream",
          "text": [
            "Loss=1.0435913801193237 Batch_id=390 Train Accuracy=63.85: 100%|██████████| 391/391 [00:27<00:00, 14.41it/s]"
          ],
          "name": "stderr"
        },
        {
          "output_type": "stream",
          "text": [
            "Train set: Epoch : 22/250 Average loss: 0.0000, Train Accuracy: 63.85\n"
          ],
          "name": "stdout"
        },
        {
          "output_type": "stream",
          "text": [
            "\n",
            "  0%|          | 0/391 [00:00<?, ?it/s]"
          ],
          "name": "stderr"
        },
        {
          "output_type": "stream",
          "text": [
            "Test set: Epoch : 22/250 Average loss: 0.7551, Test Accuracy: 73.91\n",
            "EPOCH: 23\n"
          ],
          "name": "stdout"
        },
        {
          "output_type": "stream",
          "text": [
            "Loss=0.9132981896400452 Batch_id=390 Train Accuracy=64.27: 100%|██████████| 391/391 [00:26<00:00, 14.60it/s]"
          ],
          "name": "stderr"
        },
        {
          "output_type": "stream",
          "text": [
            "Train set: Epoch : 23/250 Average loss: 0.0000, Train Accuracy: 64.27\n"
          ],
          "name": "stdout"
        },
        {
          "output_type": "stream",
          "text": [
            "\n",
            "  0%|          | 0/391 [00:00<?, ?it/s]"
          ],
          "name": "stderr"
        },
        {
          "output_type": "stream",
          "text": [
            "Test set: Epoch : 23/250 Average loss: 0.7480, Test Accuracy: 74.11\n",
            "EPOCH: 24\n"
          ],
          "name": "stdout"
        },
        {
          "output_type": "stream",
          "text": [
            "Loss=1.0547595024108887 Batch_id=390 Train Accuracy=64.59: 100%|██████████| 391/391 [00:26<00:00, 14.63it/s]"
          ],
          "name": "stderr"
        },
        {
          "output_type": "stream",
          "text": [
            "Train set: Epoch : 24/250 Average loss: 0.0000, Train Accuracy: 64.59\n"
          ],
          "name": "stdout"
        },
        {
          "output_type": "stream",
          "text": [
            "\n",
            "  0%|          | 0/391 [00:00<?, ?it/s]"
          ],
          "name": "stderr"
        },
        {
          "output_type": "stream",
          "text": [
            "Test set: Epoch : 24/250 Average loss: 0.7326, Test Accuracy: 74.55\n",
            "EPOCH: 25\n"
          ],
          "name": "stdout"
        },
        {
          "output_type": "stream",
          "text": [
            "Loss=1.058853030204773 Batch_id=390 Train Accuracy=64.89: 100%|██████████| 391/391 [00:26<00:00, 14.57it/s]"
          ],
          "name": "stderr"
        },
        {
          "output_type": "stream",
          "text": [
            "Train set: Epoch : 25/250 Average loss: 0.0000, Train Accuracy: 64.89\n"
          ],
          "name": "stdout"
        },
        {
          "output_type": "stream",
          "text": [
            "\n",
            "  0%|          | 0/391 [00:00<?, ?it/s]"
          ],
          "name": "stderr"
        },
        {
          "output_type": "stream",
          "text": [
            "Test set: Epoch : 25/250 Average loss: 0.7324, Test Accuracy: 75.1\n",
            "EPOCH: 26\n"
          ],
          "name": "stdout"
        },
        {
          "output_type": "stream",
          "text": [
            "Loss=0.970090389251709 Batch_id=390 Train Accuracy=64.96: 100%|██████████| 391/391 [00:27<00:00, 14.46it/s]"
          ],
          "name": "stderr"
        },
        {
          "output_type": "stream",
          "text": [
            "Train set: Epoch : 26/250 Average loss: 0.0000, Train Accuracy: 64.96\n"
          ],
          "name": "stdout"
        },
        {
          "output_type": "stream",
          "text": [
            "\n",
            "  0%|          | 0/391 [00:00<?, ?it/s]"
          ],
          "name": "stderr"
        },
        {
          "output_type": "stream",
          "text": [
            "Test set: Epoch : 26/250 Average loss: 0.7159, Test Accuracy: 74.78\n",
            "EPOCH: 27\n"
          ],
          "name": "stdout"
        },
        {
          "output_type": "stream",
          "text": [
            "Loss=1.0569988489151 Batch_id=390 Train Accuracy=65.17: 100%|██████████| 391/391 [00:26<00:00, 14.54it/s]"
          ],
          "name": "stderr"
        },
        {
          "output_type": "stream",
          "text": [
            "Train set: Epoch : 27/250 Average loss: 0.0000, Train Accuracy: 65.17\n"
          ],
          "name": "stdout"
        },
        {
          "output_type": "stream",
          "text": [
            "\n",
            "  0%|          | 0/391 [00:00<?, ?it/s]"
          ],
          "name": "stderr"
        },
        {
          "output_type": "stream",
          "text": [
            "Test set: Epoch : 27/250 Average loss: 0.7051, Test Accuracy: 75.8\n",
            "EPOCH: 28\n"
          ],
          "name": "stdout"
        },
        {
          "output_type": "stream",
          "text": [
            "Loss=1.3999027013778687 Batch_id=390 Train Accuracy=65.94: 100%|██████████| 391/391 [00:26<00:00, 14.60it/s]"
          ],
          "name": "stderr"
        },
        {
          "output_type": "stream",
          "text": [
            "Train set: Epoch : 28/250 Average loss: 0.0000, Train Accuracy: 65.94\n"
          ],
          "name": "stdout"
        },
        {
          "output_type": "stream",
          "text": [
            "\n",
            "  0%|          | 0/391 [00:00<?, ?it/s]"
          ],
          "name": "stderr"
        },
        {
          "output_type": "stream",
          "text": [
            "Test set: Epoch : 28/250 Average loss: 0.6834, Test Accuracy: 76.19\n",
            "EPOCH: 29\n"
          ],
          "name": "stdout"
        },
        {
          "output_type": "stream",
          "text": [
            "Loss=0.9398968815803528 Batch_id=390 Train Accuracy=66.06: 100%|██████████| 391/391 [00:26<00:00, 14.56it/s]"
          ],
          "name": "stderr"
        },
        {
          "output_type": "stream",
          "text": [
            "Train set: Epoch : 29/250 Average loss: 0.0000, Train Accuracy: 66.06\n"
          ],
          "name": "stdout"
        },
        {
          "output_type": "stream",
          "text": [
            "\n",
            "  0%|          | 0/391 [00:00<?, ?it/s]"
          ],
          "name": "stderr"
        },
        {
          "output_type": "stream",
          "text": [
            "Test set: Epoch : 29/250 Average loss: 0.6881, Test Accuracy: 76.09\n",
            "EPOCH: 30\n"
          ],
          "name": "stdout"
        },
        {
          "output_type": "stream",
          "text": [
            "Loss=0.9299328327178955 Batch_id=390 Train Accuracy=65.92: 100%|██████████| 391/391 [00:26<00:00, 14.56it/s]"
          ],
          "name": "stderr"
        },
        {
          "output_type": "stream",
          "text": [
            "Train set: Epoch : 30/250 Average loss: 0.0000, Train Accuracy: 65.92\n"
          ],
          "name": "stdout"
        },
        {
          "output_type": "stream",
          "text": [
            "\n",
            "  0%|          | 0/391 [00:00<?, ?it/s]"
          ],
          "name": "stderr"
        },
        {
          "output_type": "stream",
          "text": [
            "Test set: Epoch : 30/250 Average loss: 0.6742, Test Accuracy: 76.71\n",
            "EPOCH: 31\n"
          ],
          "name": "stdout"
        },
        {
          "output_type": "stream",
          "text": [
            "Loss=1.1253517866134644 Batch_id=390 Train Accuracy=65.93: 100%|██████████| 391/391 [00:26<00:00, 14.60it/s]"
          ],
          "name": "stderr"
        },
        {
          "output_type": "stream",
          "text": [
            "Train set: Epoch : 31/250 Average loss: 0.0000, Train Accuracy: 65.93\n"
          ],
          "name": "stdout"
        },
        {
          "output_type": "stream",
          "text": [
            "\n",
            "  0%|          | 0/391 [00:00<?, ?it/s]"
          ],
          "name": "stderr"
        },
        {
          "output_type": "stream",
          "text": [
            "Test set: Epoch : 31/250 Average loss: 0.6732, Test Accuracy: 77.02\n",
            "EPOCH: 32\n"
          ],
          "name": "stdout"
        },
        {
          "output_type": "stream",
          "text": [
            "Loss=0.8388543128967285 Batch_id=390 Train Accuracy=66.56: 100%|██████████| 391/391 [00:26<00:00, 14.60it/s]"
          ],
          "name": "stderr"
        },
        {
          "output_type": "stream",
          "text": [
            "Train set: Epoch : 32/250 Average loss: 0.0000, Train Accuracy: 66.56\n"
          ],
          "name": "stdout"
        },
        {
          "output_type": "stream",
          "text": [
            "\n",
            "  0%|          | 0/391 [00:00<?, ?it/s]"
          ],
          "name": "stderr"
        },
        {
          "output_type": "stream",
          "text": [
            "Test set: Epoch : 32/250 Average loss: 0.6685, Test Accuracy: 77.09\n",
            "EPOCH: 33\n"
          ],
          "name": "stdout"
        },
        {
          "output_type": "stream",
          "text": [
            "Loss=0.9596447348594666 Batch_id=390 Train Accuracy=66.81: 100%|██████████| 391/391 [00:26<00:00, 14.62it/s]"
          ],
          "name": "stderr"
        },
        {
          "output_type": "stream",
          "text": [
            "Train set: Epoch : 33/250 Average loss: 0.0000, Train Accuracy: 66.81\n"
          ],
          "name": "stdout"
        },
        {
          "output_type": "stream",
          "text": [
            "\n",
            "  0%|          | 0/391 [00:00<?, ?it/s]"
          ],
          "name": "stderr"
        },
        {
          "output_type": "stream",
          "text": [
            "Test set: Epoch : 33/250 Average loss: 0.6737, Test Accuracy: 77.03\n",
            "EPOCH: 34\n"
          ],
          "name": "stdout"
        },
        {
          "output_type": "stream",
          "text": [
            "Loss=1.0224733352661133 Batch_id=390 Train Accuracy=67.19: 100%|██████████| 391/391 [00:26<00:00, 14.53it/s]"
          ],
          "name": "stderr"
        },
        {
          "output_type": "stream",
          "text": [
            "Train set: Epoch : 34/250 Average loss: 0.0000, Train Accuracy: 67.19\n"
          ],
          "name": "stdout"
        },
        {
          "output_type": "stream",
          "text": [
            "\n",
            "  0%|          | 0/391 [00:00<?, ?it/s]"
          ],
          "name": "stderr"
        },
        {
          "output_type": "stream",
          "text": [
            "Test set: Epoch : 34/250 Average loss: 0.6900, Test Accuracy: 76.54\n",
            "EPOCH: 35\n"
          ],
          "name": "stdout"
        },
        {
          "output_type": "stream",
          "text": [
            "Loss=0.9375050067901611 Batch_id=390 Train Accuracy=67.06: 100%|██████████| 391/391 [00:26<00:00, 14.63it/s]"
          ],
          "name": "stderr"
        },
        {
          "output_type": "stream",
          "text": [
            "Train set: Epoch : 35/250 Average loss: 0.0000, Train Accuracy: 67.06\n"
          ],
          "name": "stdout"
        },
        {
          "output_type": "stream",
          "text": [
            "\n",
            "  0%|          | 0/391 [00:00<?, ?it/s]"
          ],
          "name": "stderr"
        },
        {
          "output_type": "stream",
          "text": [
            "Test set: Epoch : 35/250 Average loss: 0.6673, Test Accuracy: 77.41\n",
            "EPOCH: 36\n"
          ],
          "name": "stdout"
        },
        {
          "output_type": "stream",
          "text": [
            "Loss=1.116701602935791 Batch_id=390 Train Accuracy=67.32: 100%|██████████| 391/391 [00:26<00:00, 14.58it/s]"
          ],
          "name": "stderr"
        },
        {
          "output_type": "stream",
          "text": [
            "Train set: Epoch : 36/250 Average loss: 0.0000, Train Accuracy: 67.32\n"
          ],
          "name": "stdout"
        },
        {
          "output_type": "stream",
          "text": [
            "\n",
            "  0%|          | 0/391 [00:00<?, ?it/s]"
          ],
          "name": "stderr"
        },
        {
          "output_type": "stream",
          "text": [
            "Test set: Epoch : 36/250 Average loss: 0.6448, Test Accuracy: 77.86\n",
            "EPOCH: 37\n"
          ],
          "name": "stdout"
        },
        {
          "output_type": "stream",
          "text": [
            "Loss=0.8263033628463745 Batch_id=390 Train Accuracy=67.31: 100%|██████████| 391/391 [00:26<00:00, 14.57it/s]"
          ],
          "name": "stderr"
        },
        {
          "output_type": "stream",
          "text": [
            "Train set: Epoch : 37/250 Average loss: 0.0000, Train Accuracy: 67.31\n"
          ],
          "name": "stdout"
        },
        {
          "output_type": "stream",
          "text": [
            "\n",
            "  0%|          | 0/391 [00:00<?, ?it/s]"
          ],
          "name": "stderr"
        },
        {
          "output_type": "stream",
          "text": [
            "Test set: Epoch : 37/250 Average loss: 0.6591, Test Accuracy: 77.11\n",
            "EPOCH: 38\n"
          ],
          "name": "stdout"
        },
        {
          "output_type": "stream",
          "text": [
            "Loss=1.0107841491699219 Batch_id=390 Train Accuracy=67.87: 100%|██████████| 391/391 [00:26<00:00, 14.61it/s]"
          ],
          "name": "stderr"
        },
        {
          "output_type": "stream",
          "text": [
            "Train set: Epoch : 38/250 Average loss: 0.0000, Train Accuracy: 67.87\n"
          ],
          "name": "stdout"
        },
        {
          "output_type": "stream",
          "text": [
            "\n",
            "  0%|          | 0/391 [00:00<?, ?it/s]"
          ],
          "name": "stderr"
        },
        {
          "output_type": "stream",
          "text": [
            "Test set: Epoch : 38/250 Average loss: 0.6504, Test Accuracy: 77.68\n",
            "EPOCH: 39\n"
          ],
          "name": "stdout"
        },
        {
          "output_type": "stream",
          "text": [
            "Loss=0.9099494218826294 Batch_id=390 Train Accuracy=68.03: 100%|██████████| 391/391 [00:26<00:00, 14.63it/s]"
          ],
          "name": "stderr"
        },
        {
          "output_type": "stream",
          "text": [
            "Train set: Epoch : 39/250 Average loss: 0.0000, Train Accuracy: 68.03\n"
          ],
          "name": "stdout"
        },
        {
          "output_type": "stream",
          "text": [
            "\n",
            "  0%|          | 0/391 [00:00<?, ?it/s]"
          ],
          "name": "stderr"
        },
        {
          "output_type": "stream",
          "text": [
            "Test set: Epoch : 39/250 Average loss: 0.6457, Test Accuracy: 78.14\n",
            "EPOCH: 40\n"
          ],
          "name": "stdout"
        },
        {
          "output_type": "stream",
          "text": [
            "Loss=0.9259394407272339 Batch_id=390 Train Accuracy=68.07: 100%|██████████| 391/391 [00:26<00:00, 14.58it/s]"
          ],
          "name": "stderr"
        },
        {
          "output_type": "stream",
          "text": [
            "Train set: Epoch : 40/250 Average loss: 0.0000, Train Accuracy: 68.07\n"
          ],
          "name": "stdout"
        },
        {
          "output_type": "stream",
          "text": [
            "\n",
            "  0%|          | 0/391 [00:00<?, ?it/s]"
          ],
          "name": "stderr"
        },
        {
          "output_type": "stream",
          "text": [
            "Test set: Epoch : 40/250 Average loss: 0.6290, Test Accuracy: 78.58\n",
            "EPOCH: 41\n"
          ],
          "name": "stdout"
        },
        {
          "output_type": "stream",
          "text": [
            "Loss=1.0003060102462769 Batch_id=390 Train Accuracy=68.44: 100%|██████████| 391/391 [00:26<00:00, 14.57it/s]"
          ],
          "name": "stderr"
        },
        {
          "output_type": "stream",
          "text": [
            "Train set: Epoch : 41/250 Average loss: 0.0000, Train Accuracy: 68.44\n"
          ],
          "name": "stdout"
        },
        {
          "output_type": "stream",
          "text": [
            "\n",
            "  0%|          | 0/391 [00:00<?, ?it/s]"
          ],
          "name": "stderr"
        },
        {
          "output_type": "stream",
          "text": [
            "Test set: Epoch : 41/250 Average loss: 0.6524, Test Accuracy: 77.58\n",
            "EPOCH: 42\n"
          ],
          "name": "stdout"
        },
        {
          "output_type": "stream",
          "text": [
            "Loss=0.8471307158470154 Batch_id=390 Train Accuracy=68.50: 100%|██████████| 391/391 [00:26<00:00, 14.55it/s]"
          ],
          "name": "stderr"
        },
        {
          "output_type": "stream",
          "text": [
            "Train set: Epoch : 42/250 Average loss: 0.0000, Train Accuracy: 68.5\n"
          ],
          "name": "stdout"
        },
        {
          "output_type": "stream",
          "text": [
            "\n",
            "  0%|          | 0/391 [00:00<?, ?it/s]"
          ],
          "name": "stderr"
        },
        {
          "output_type": "stream",
          "text": [
            "Test set: Epoch : 42/250 Average loss: 0.6361, Test Accuracy: 77.9\n",
            "EPOCH: 43\n"
          ],
          "name": "stdout"
        },
        {
          "output_type": "stream",
          "text": [
            "Loss=0.8028624057769775 Batch_id=390 Train Accuracy=68.65: 100%|██████████| 391/391 [00:26<00:00, 14.64it/s]"
          ],
          "name": "stderr"
        },
        {
          "output_type": "stream",
          "text": [
            "Train set: Epoch : 43/250 Average loss: 0.0000, Train Accuracy: 68.65\n"
          ],
          "name": "stdout"
        },
        {
          "output_type": "stream",
          "text": [
            "\n",
            "  0%|          | 0/391 [00:00<?, ?it/s]"
          ],
          "name": "stderr"
        },
        {
          "output_type": "stream",
          "text": [
            "Test set: Epoch : 43/250 Average loss: 0.6502, Test Accuracy: 77.54\n",
            "EPOCH: 44\n"
          ],
          "name": "stdout"
        },
        {
          "output_type": "stream",
          "text": [
            "Loss=0.9440125226974487 Batch_id=390 Train Accuracy=68.40: 100%|██████████| 391/391 [00:26<00:00, 14.58it/s]"
          ],
          "name": "stderr"
        },
        {
          "output_type": "stream",
          "text": [
            "Train set: Epoch : 44/250 Average loss: 0.0000, Train Accuracy: 68.4\n"
          ],
          "name": "stdout"
        },
        {
          "output_type": "stream",
          "text": [
            "\n",
            "  0%|          | 0/391 [00:00<?, ?it/s]"
          ],
          "name": "stderr"
        },
        {
          "output_type": "stream",
          "text": [
            "Test set: Epoch : 44/250 Average loss: 0.6460, Test Accuracy: 77.83\n",
            "EPOCH: 45\n"
          ],
          "name": "stdout"
        },
        {
          "output_type": "stream",
          "text": [
            "Loss=0.9308095574378967 Batch_id=390 Train Accuracy=68.60: 100%|██████████| 391/391 [00:27<00:00, 14.48it/s]"
          ],
          "name": "stderr"
        },
        {
          "output_type": "stream",
          "text": [
            "Train set: Epoch : 45/250 Average loss: 0.0000, Train Accuracy: 68.6\n"
          ],
          "name": "stdout"
        },
        {
          "output_type": "stream",
          "text": [
            "\n",
            "  0%|          | 0/391 [00:00<?, ?it/s]"
          ],
          "name": "stderr"
        },
        {
          "output_type": "stream",
          "text": [
            "Test set: Epoch : 45/250 Average loss: 0.6442, Test Accuracy: 77.44\n",
            "EPOCH: 46\n"
          ],
          "name": "stdout"
        },
        {
          "output_type": "stream",
          "text": [
            "Loss=0.6571065187454224 Batch_id=390 Train Accuracy=68.85: 100%|██████████| 391/391 [00:26<00:00, 14.63it/s]"
          ],
          "name": "stderr"
        },
        {
          "output_type": "stream",
          "text": [
            "Train set: Epoch : 46/250 Average loss: 0.0000, Train Accuracy: 68.85\n"
          ],
          "name": "stdout"
        },
        {
          "output_type": "stream",
          "text": [
            "\n",
            "  0%|          | 0/391 [00:00<?, ?it/s]"
          ],
          "name": "stderr"
        },
        {
          "output_type": "stream",
          "text": [
            "Test set: Epoch : 46/250 Average loss: 0.6257, Test Accuracy: 78.57\n",
            "EPOCH: 47\n"
          ],
          "name": "stdout"
        },
        {
          "output_type": "stream",
          "text": [
            "Loss=0.883538007736206 Batch_id=390 Train Accuracy=69.18: 100%|██████████| 391/391 [00:26<00:00, 14.64it/s]"
          ],
          "name": "stderr"
        },
        {
          "output_type": "stream",
          "text": [
            "Train set: Epoch : 47/250 Average loss: 0.0000, Train Accuracy: 69.18\n"
          ],
          "name": "stdout"
        },
        {
          "output_type": "stream",
          "text": [
            "\n",
            "  0%|          | 0/391 [00:00<?, ?it/s]"
          ],
          "name": "stderr"
        },
        {
          "output_type": "stream",
          "text": [
            "Test set: Epoch : 47/250 Average loss: 0.6622, Test Accuracy: 77.9\n",
            "EPOCH: 48\n"
          ],
          "name": "stdout"
        },
        {
          "output_type": "stream",
          "text": [
            "Loss=0.9357807040214539 Batch_id=390 Train Accuracy=69.05: 100%|██████████| 391/391 [00:26<00:00, 14.56it/s]"
          ],
          "name": "stderr"
        },
        {
          "output_type": "stream",
          "text": [
            "Train set: Epoch : 48/250 Average loss: 0.0000, Train Accuracy: 69.05\n"
          ],
          "name": "stdout"
        },
        {
          "output_type": "stream",
          "text": [
            "\n",
            "  0%|          | 0/391 [00:00<?, ?it/s]"
          ],
          "name": "stderr"
        },
        {
          "output_type": "stream",
          "text": [
            "Test set: Epoch : 48/250 Average loss: 0.5995, Test Accuracy: 79.59\n",
            "EPOCH: 49\n"
          ],
          "name": "stdout"
        },
        {
          "output_type": "stream",
          "text": [
            "Loss=1.0274314880371094 Batch_id=390 Train Accuracy=69.27: 100%|██████████| 391/391 [00:26<00:00, 14.49it/s]"
          ],
          "name": "stderr"
        },
        {
          "output_type": "stream",
          "text": [
            "Train set: Epoch : 49/250 Average loss: 0.0000, Train Accuracy: 69.27\n"
          ],
          "name": "stdout"
        },
        {
          "output_type": "stream",
          "text": [
            "\n",
            "  0%|          | 0/391 [00:00<?, ?it/s]"
          ],
          "name": "stderr"
        },
        {
          "output_type": "stream",
          "text": [
            "Test set: Epoch : 49/250 Average loss: 0.6220, Test Accuracy: 78.14\n",
            "EPOCH: 50\n"
          ],
          "name": "stdout"
        },
        {
          "output_type": "stream",
          "text": [
            "Loss=1.1930044889450073 Batch_id=390 Train Accuracy=69.14: 100%|██████████| 391/391 [00:26<00:00, 14.51it/s]"
          ],
          "name": "stderr"
        },
        {
          "output_type": "stream",
          "text": [
            "Train set: Epoch : 50/250 Average loss: 0.0000, Train Accuracy: 69.14\n"
          ],
          "name": "stdout"
        },
        {
          "output_type": "stream",
          "text": [
            "\n",
            "  0%|          | 0/391 [00:00<?, ?it/s]"
          ],
          "name": "stderr"
        },
        {
          "output_type": "stream",
          "text": [
            "Test set: Epoch : 50/250 Average loss: 0.5989, Test Accuracy: 79.39\n",
            "EPOCH: 51\n"
          ],
          "name": "stdout"
        },
        {
          "output_type": "stream",
          "text": [
            "Loss=0.9262175559997559 Batch_id=390 Train Accuracy=69.80: 100%|██████████| 391/391 [00:26<00:00, 14.59it/s]"
          ],
          "name": "stderr"
        },
        {
          "output_type": "stream",
          "text": [
            "Train set: Epoch : 51/250 Average loss: 0.0000, Train Accuracy: 69.8\n"
          ],
          "name": "stdout"
        },
        {
          "output_type": "stream",
          "text": [
            "\n",
            "  0%|          | 0/391 [00:00<?, ?it/s]"
          ],
          "name": "stderr"
        },
        {
          "output_type": "stream",
          "text": [
            "Test set: Epoch : 51/250 Average loss: 0.6046, Test Accuracy: 79.45\n",
            "EPOCH: 52\n"
          ],
          "name": "stdout"
        },
        {
          "output_type": "stream",
          "text": [
            "Loss=1.2826228141784668 Batch_id=390 Train Accuracy=69.61: 100%|██████████| 391/391 [00:26<00:00, 14.52it/s]"
          ],
          "name": "stderr"
        },
        {
          "output_type": "stream",
          "text": [
            "Train set: Epoch : 52/250 Average loss: 0.0000, Train Accuracy: 69.61\n"
          ],
          "name": "stdout"
        },
        {
          "output_type": "stream",
          "text": [
            "\n",
            "  0%|          | 0/391 [00:00<?, ?it/s]"
          ],
          "name": "stderr"
        },
        {
          "output_type": "stream",
          "text": [
            "Test set: Epoch : 52/250 Average loss: 0.5971, Test Accuracy: 79.53\n",
            "EPOCH: 53\n"
          ],
          "name": "stdout"
        },
        {
          "output_type": "stream",
          "text": [
            "Loss=0.7013463973999023 Batch_id=390 Train Accuracy=69.53: 100%|██████████| 391/391 [00:26<00:00, 14.51it/s]"
          ],
          "name": "stderr"
        },
        {
          "output_type": "stream",
          "text": [
            "Train set: Epoch : 53/250 Average loss: 0.0000, Train Accuracy: 69.53\n"
          ],
          "name": "stdout"
        },
        {
          "output_type": "stream",
          "text": [
            "\n",
            "  0%|          | 0/391 [00:00<?, ?it/s]"
          ],
          "name": "stderr"
        },
        {
          "output_type": "stream",
          "text": [
            "Test set: Epoch : 53/250 Average loss: 0.6003, Test Accuracy: 79.71\n",
            "EPOCH: 54\n"
          ],
          "name": "stdout"
        },
        {
          "output_type": "stream",
          "text": [
            "Loss=0.9023489356040955 Batch_id=390 Train Accuracy=70.08: 100%|██████████| 391/391 [00:26<00:00, 14.62it/s]"
          ],
          "name": "stderr"
        },
        {
          "output_type": "stream",
          "text": [
            "Train set: Epoch : 54/250 Average loss: 0.0000, Train Accuracy: 70.08\n"
          ],
          "name": "stdout"
        },
        {
          "output_type": "stream",
          "text": [
            "\n",
            "  0%|          | 0/391 [00:00<?, ?it/s]"
          ],
          "name": "stderr"
        },
        {
          "output_type": "stream",
          "text": [
            "Test set: Epoch : 54/250 Average loss: 0.5865, Test Accuracy: 79.8\n",
            "EPOCH: 55\n"
          ],
          "name": "stdout"
        },
        {
          "output_type": "stream",
          "text": [
            "Loss=0.8316178917884827 Batch_id=390 Train Accuracy=69.93: 100%|██████████| 391/391 [00:27<00:00, 14.40it/s]"
          ],
          "name": "stderr"
        },
        {
          "output_type": "stream",
          "text": [
            "Train set: Epoch : 55/250 Average loss: 0.0000, Train Accuracy: 69.93\n"
          ],
          "name": "stdout"
        },
        {
          "output_type": "stream",
          "text": [
            "\n",
            "  0%|          | 0/391 [00:00<?, ?it/s]"
          ],
          "name": "stderr"
        },
        {
          "output_type": "stream",
          "text": [
            "Test set: Epoch : 55/250 Average loss: 0.5847, Test Accuracy: 79.97\n",
            "EPOCH: 56\n"
          ],
          "name": "stdout"
        },
        {
          "output_type": "stream",
          "text": [
            "Loss=0.9118468165397644 Batch_id=390 Train Accuracy=70.36: 100%|██████████| 391/391 [00:26<00:00, 14.61it/s]"
          ],
          "name": "stderr"
        },
        {
          "output_type": "stream",
          "text": [
            "Train set: Epoch : 56/250 Average loss: 0.0000, Train Accuracy: 70.36\n"
          ],
          "name": "stdout"
        },
        {
          "output_type": "stream",
          "text": [
            "\n",
            "  0%|          | 0/391 [00:00<?, ?it/s]"
          ],
          "name": "stderr"
        },
        {
          "output_type": "stream",
          "text": [
            "Test set: Epoch : 56/250 Average loss: 0.5946, Test Accuracy: 79.61\n",
            "EPOCH: 57\n"
          ],
          "name": "stdout"
        },
        {
          "output_type": "stream",
          "text": [
            "Loss=0.8063686490058899 Batch_id=390 Train Accuracy=70.28: 100%|██████████| 391/391 [00:26<00:00, 14.50it/s]"
          ],
          "name": "stderr"
        },
        {
          "output_type": "stream",
          "text": [
            "Train set: Epoch : 57/250 Average loss: 0.0000, Train Accuracy: 70.28\n"
          ],
          "name": "stdout"
        },
        {
          "output_type": "stream",
          "text": [
            "\n",
            "  0%|          | 0/391 [00:00<?, ?it/s]"
          ],
          "name": "stderr"
        },
        {
          "output_type": "stream",
          "text": [
            "Test set: Epoch : 57/250 Average loss: 0.5921, Test Accuracy: 79.76\n",
            "EPOCH: 58\n"
          ],
          "name": "stdout"
        },
        {
          "output_type": "stream",
          "text": [
            "Loss=0.9719586372375488 Batch_id=390 Train Accuracy=69.90: 100%|██████████| 391/391 [00:27<00:00, 14.48it/s]"
          ],
          "name": "stderr"
        },
        {
          "output_type": "stream",
          "text": [
            "Train set: Epoch : 58/250 Average loss: 0.0000, Train Accuracy: 69.9\n"
          ],
          "name": "stdout"
        },
        {
          "output_type": "stream",
          "text": [
            "\n",
            "  0%|          | 0/391 [00:00<?, ?it/s]"
          ],
          "name": "stderr"
        },
        {
          "output_type": "stream",
          "text": [
            "Test set: Epoch : 58/250 Average loss: 0.5793, Test Accuracy: 80.25\n",
            "EPOCH: 59\n"
          ],
          "name": "stdout"
        },
        {
          "output_type": "stream",
          "text": [
            "Loss=0.7520549297332764 Batch_id=390 Train Accuracy=70.31: 100%|██████████| 391/391 [00:26<00:00, 14.55it/s]"
          ],
          "name": "stderr"
        },
        {
          "output_type": "stream",
          "text": [
            "Train set: Epoch : 59/250 Average loss: 0.0000, Train Accuracy: 70.31\n"
          ],
          "name": "stdout"
        },
        {
          "output_type": "stream",
          "text": [
            "\n",
            "  0%|          | 0/391 [00:00<?, ?it/s]"
          ],
          "name": "stderr"
        },
        {
          "output_type": "stream",
          "text": [
            "Test set: Epoch : 59/250 Average loss: 0.5833, Test Accuracy: 80.1\n",
            "EPOCH: 60\n"
          ],
          "name": "stdout"
        },
        {
          "output_type": "stream",
          "text": [
            "Loss=0.9318908452987671 Batch_id=390 Train Accuracy=70.64: 100%|██████████| 391/391 [00:26<00:00, 14.49it/s]"
          ],
          "name": "stderr"
        },
        {
          "output_type": "stream",
          "text": [
            "Train set: Epoch : 60/250 Average loss: 0.0000, Train Accuracy: 70.64\n"
          ],
          "name": "stdout"
        },
        {
          "output_type": "stream",
          "text": [
            "\n",
            "  0%|          | 0/391 [00:00<?, ?it/s]"
          ],
          "name": "stderr"
        },
        {
          "output_type": "stream",
          "text": [
            "Test set: Epoch : 60/250 Average loss: 0.5801, Test Accuracy: 80.36\n",
            "EPOCH: 61\n"
          ],
          "name": "stdout"
        },
        {
          "output_type": "stream",
          "text": [
            "Loss=0.7121502757072449 Batch_id=390 Train Accuracy=70.70: 100%|██████████| 391/391 [00:27<00:00, 14.47it/s]"
          ],
          "name": "stderr"
        },
        {
          "output_type": "stream",
          "text": [
            "Train set: Epoch : 61/250 Average loss: 0.0000, Train Accuracy: 70.7\n"
          ],
          "name": "stdout"
        },
        {
          "output_type": "stream",
          "text": [
            "\n",
            "  0%|          | 0/391 [00:00<?, ?it/s]"
          ],
          "name": "stderr"
        },
        {
          "output_type": "stream",
          "text": [
            "Test set: Epoch : 61/250 Average loss: 0.5829, Test Accuracy: 79.71\n",
            "EPOCH: 62\n"
          ],
          "name": "stdout"
        },
        {
          "output_type": "stream",
          "text": [
            "Loss=0.7136277556419373 Batch_id=390 Train Accuracy=70.87: 100%|██████████| 391/391 [00:26<00:00, 14.53it/s]"
          ],
          "name": "stderr"
        },
        {
          "output_type": "stream",
          "text": [
            "Train set: Epoch : 62/250 Average loss: 0.0000, Train Accuracy: 70.87\n"
          ],
          "name": "stdout"
        },
        {
          "output_type": "stream",
          "text": [
            "\n",
            "  0%|          | 0/391 [00:00<?, ?it/s]"
          ],
          "name": "stderr"
        },
        {
          "output_type": "stream",
          "text": [
            "Test set: Epoch : 62/250 Average loss: 0.5618, Test Accuracy: 80.88\n",
            "EPOCH: 63\n"
          ],
          "name": "stdout"
        },
        {
          "output_type": "stream",
          "text": [
            "Loss=0.6636021733283997 Batch_id=390 Train Accuracy=70.89: 100%|██████████| 391/391 [00:26<00:00, 14.49it/s]"
          ],
          "name": "stderr"
        },
        {
          "output_type": "stream",
          "text": [
            "Train set: Epoch : 63/250 Average loss: 0.0000, Train Accuracy: 70.89\n"
          ],
          "name": "stdout"
        },
        {
          "output_type": "stream",
          "text": [
            "\n",
            "  0%|          | 0/391 [00:00<?, ?it/s]"
          ],
          "name": "stderr"
        },
        {
          "output_type": "stream",
          "text": [
            "Test set: Epoch : 63/250 Average loss: 0.5693, Test Accuracy: 80.4\n",
            "EPOCH: 64\n"
          ],
          "name": "stdout"
        },
        {
          "output_type": "stream",
          "text": [
            "Loss=0.736304759979248 Batch_id=390 Train Accuracy=70.83: 100%|██████████| 391/391 [00:26<00:00, 14.50it/s]"
          ],
          "name": "stderr"
        },
        {
          "output_type": "stream",
          "text": [
            "Train set: Epoch : 64/250 Average loss: 0.0000, Train Accuracy: 70.83\n"
          ],
          "name": "stdout"
        },
        {
          "output_type": "stream",
          "text": [
            "\n",
            "  0%|          | 0/391 [00:00<?, ?it/s]"
          ],
          "name": "stderr"
        },
        {
          "output_type": "stream",
          "text": [
            "Test set: Epoch : 64/250 Average loss: 0.5734, Test Accuracy: 80.44\n",
            "EPOCH: 65\n"
          ],
          "name": "stdout"
        },
        {
          "output_type": "stream",
          "text": [
            "Loss=0.8277249336242676 Batch_id=390 Train Accuracy=71.07: 100%|██████████| 391/391 [00:27<00:00, 14.48it/s]"
          ],
          "name": "stderr"
        },
        {
          "output_type": "stream",
          "text": [
            "Train set: Epoch : 65/250 Average loss: 0.0000, Train Accuracy: 71.07\n"
          ],
          "name": "stdout"
        },
        {
          "output_type": "stream",
          "text": [
            "\n",
            "  0%|          | 0/391 [00:00<?, ?it/s]"
          ],
          "name": "stderr"
        },
        {
          "output_type": "stream",
          "text": [
            "Test set: Epoch : 65/250 Average loss: 0.5585, Test Accuracy: 81.18\n",
            "EPOCH: 66\n"
          ],
          "name": "stdout"
        },
        {
          "output_type": "stream",
          "text": [
            "Loss=0.7076869606971741 Batch_id=390 Train Accuracy=71.32: 100%|██████████| 391/391 [00:26<00:00, 14.54it/s]"
          ],
          "name": "stderr"
        },
        {
          "output_type": "stream",
          "text": [
            "Train set: Epoch : 66/250 Average loss: 0.0000, Train Accuracy: 71.32\n"
          ],
          "name": "stdout"
        },
        {
          "output_type": "stream",
          "text": [
            "\n",
            "  0%|          | 0/391 [00:00<?, ?it/s]"
          ],
          "name": "stderr"
        },
        {
          "output_type": "stream",
          "text": [
            "Test set: Epoch : 66/250 Average loss: 0.5547, Test Accuracy: 81.36\n",
            "EPOCH: 67\n"
          ],
          "name": "stdout"
        },
        {
          "output_type": "stream",
          "text": [
            "Loss=0.8722472190856934 Batch_id=390 Train Accuracy=71.04: 100%|██████████| 391/391 [00:27<00:00, 14.43it/s]"
          ],
          "name": "stderr"
        },
        {
          "output_type": "stream",
          "text": [
            "Train set: Epoch : 67/250 Average loss: 0.0000, Train Accuracy: 71.04\n"
          ],
          "name": "stdout"
        },
        {
          "output_type": "stream",
          "text": [
            "\n",
            "  0%|          | 0/391 [00:00<?, ?it/s]"
          ],
          "name": "stderr"
        },
        {
          "output_type": "stream",
          "text": [
            "Test set: Epoch : 67/250 Average loss: 0.5588, Test Accuracy: 80.66\n",
            "EPOCH: 68\n"
          ],
          "name": "stdout"
        },
        {
          "output_type": "stream",
          "text": [
            "Loss=0.8425400853157043 Batch_id=390 Train Accuracy=71.42: 100%|██████████| 391/391 [00:27<00:00, 14.44it/s]"
          ],
          "name": "stderr"
        },
        {
          "output_type": "stream",
          "text": [
            "Train set: Epoch : 68/250 Average loss: 0.0000, Train Accuracy: 71.42\n"
          ],
          "name": "stdout"
        },
        {
          "output_type": "stream",
          "text": [
            "\n",
            "  0%|          | 0/391 [00:00<?, ?it/s]"
          ],
          "name": "stderr"
        },
        {
          "output_type": "stream",
          "text": [
            "Test set: Epoch : 68/250 Average loss: 0.5540, Test Accuracy: 80.67\n",
            "EPOCH: 69\n"
          ],
          "name": "stdout"
        },
        {
          "output_type": "stream",
          "text": [
            "Loss=0.8501817584037781 Batch_id=390 Train Accuracy=71.42: 100%|██████████| 391/391 [00:26<00:00, 14.50it/s]"
          ],
          "name": "stderr"
        },
        {
          "output_type": "stream",
          "text": [
            "Train set: Epoch : 69/250 Average loss: 0.0000, Train Accuracy: 71.42\n"
          ],
          "name": "stdout"
        },
        {
          "output_type": "stream",
          "text": [
            "\n",
            "  0%|          | 0/391 [00:00<?, ?it/s]"
          ],
          "name": "stderr"
        },
        {
          "output_type": "stream",
          "text": [
            "Test set: Epoch : 69/250 Average loss: 0.5443, Test Accuracy: 81.23\n",
            "EPOCH: 70\n"
          ],
          "name": "stdout"
        },
        {
          "output_type": "stream",
          "text": [
            "Loss=0.8361415863037109 Batch_id=390 Train Accuracy=71.63: 100%|██████████| 391/391 [00:26<00:00, 14.48it/s]"
          ],
          "name": "stderr"
        },
        {
          "output_type": "stream",
          "text": [
            "Train set: Epoch : 70/250 Average loss: 0.0000, Train Accuracy: 71.63\n"
          ],
          "name": "stdout"
        },
        {
          "output_type": "stream",
          "text": [
            "\n",
            "  0%|          | 0/391 [00:00<?, ?it/s]"
          ],
          "name": "stderr"
        },
        {
          "output_type": "stream",
          "text": [
            "Test set: Epoch : 70/250 Average loss: 0.5503, Test Accuracy: 80.81\n",
            "EPOCH: 71\n"
          ],
          "name": "stdout"
        },
        {
          "output_type": "stream",
          "text": [
            "Loss=0.7407968640327454 Batch_id=390 Train Accuracy=71.54: 100%|██████████| 391/391 [00:27<00:00, 14.47it/s]"
          ],
          "name": "stderr"
        },
        {
          "output_type": "stream",
          "text": [
            "Train set: Epoch : 71/250 Average loss: 0.0000, Train Accuracy: 71.54\n"
          ],
          "name": "stdout"
        },
        {
          "output_type": "stream",
          "text": [
            "\n",
            "  0%|          | 0/391 [00:00<?, ?it/s]"
          ],
          "name": "stderr"
        },
        {
          "output_type": "stream",
          "text": [
            "Test set: Epoch : 71/250 Average loss: 0.5392, Test Accuracy: 81.19\n",
            "EPOCH: 72\n"
          ],
          "name": "stdout"
        },
        {
          "output_type": "stream",
          "text": [
            "Loss=0.9194445013999939 Batch_id=390 Train Accuracy=71.63: 100%|██████████| 391/391 [00:27<00:00, 14.48it/s]"
          ],
          "name": "stderr"
        },
        {
          "output_type": "stream",
          "text": [
            "Train set: Epoch : 72/250 Average loss: 0.0000, Train Accuracy: 71.63\n"
          ],
          "name": "stdout"
        },
        {
          "output_type": "stream",
          "text": [
            "\n",
            "  0%|          | 0/391 [00:00<?, ?it/s]"
          ],
          "name": "stderr"
        },
        {
          "output_type": "stream",
          "text": [
            "Test set: Epoch : 72/250 Average loss: 0.5450, Test Accuracy: 81.05\n",
            "EPOCH: 73\n"
          ],
          "name": "stdout"
        },
        {
          "output_type": "stream",
          "text": [
            "Loss=0.7782115936279297 Batch_id=390 Train Accuracy=71.54: 100%|██████████| 391/391 [00:26<00:00, 14.50it/s]"
          ],
          "name": "stderr"
        },
        {
          "output_type": "stream",
          "text": [
            "Train set: Epoch : 73/250 Average loss: 0.0000, Train Accuracy: 71.54\n"
          ],
          "name": "stdout"
        },
        {
          "output_type": "stream",
          "text": [
            "\n",
            "  0%|          | 0/391 [00:00<?, ?it/s]"
          ],
          "name": "stderr"
        },
        {
          "output_type": "stream",
          "text": [
            "Test set: Epoch : 73/250 Average loss: 0.5538, Test Accuracy: 80.8\n",
            "EPOCH: 74\n"
          ],
          "name": "stdout"
        },
        {
          "output_type": "stream",
          "text": [
            "Loss=0.6710826754570007 Batch_id=390 Train Accuracy=71.63: 100%|██████████| 391/391 [00:26<00:00, 14.54it/s]"
          ],
          "name": "stderr"
        },
        {
          "output_type": "stream",
          "text": [
            "Train set: Epoch : 74/250 Average loss: 0.0000, Train Accuracy: 71.63\n"
          ],
          "name": "stdout"
        },
        {
          "output_type": "stream",
          "text": [
            "\n",
            "  0%|          | 0/391 [00:00<?, ?it/s]"
          ],
          "name": "stderr"
        },
        {
          "output_type": "stream",
          "text": [
            "Test set: Epoch : 74/250 Average loss: 0.5619, Test Accuracy: 80.56\n",
            "EPOCH: 75\n"
          ],
          "name": "stdout"
        },
        {
          "output_type": "stream",
          "text": [
            "Loss=0.8071128726005554 Batch_id=390 Train Accuracy=71.71: 100%|██████████| 391/391 [00:27<00:00, 14.45it/s]"
          ],
          "name": "stderr"
        },
        {
          "output_type": "stream",
          "text": [
            "Train set: Epoch : 75/250 Average loss: 0.0000, Train Accuracy: 71.71\n"
          ],
          "name": "stdout"
        },
        {
          "output_type": "stream",
          "text": [
            "\n",
            "  0%|          | 0/391 [00:00<?, ?it/s]"
          ],
          "name": "stderr"
        },
        {
          "output_type": "stream",
          "text": [
            "Test set: Epoch : 75/250 Average loss: 0.5288, Test Accuracy: 81.91\n",
            "EPOCH: 76\n"
          ],
          "name": "stdout"
        },
        {
          "output_type": "stream",
          "text": [
            "Loss=1.0811585187911987 Batch_id=390 Train Accuracy=71.97: 100%|██████████| 391/391 [00:27<00:00, 14.44it/s]"
          ],
          "name": "stderr"
        },
        {
          "output_type": "stream",
          "text": [
            "Train set: Epoch : 76/250 Average loss: 0.0000, Train Accuracy: 71.97\n"
          ],
          "name": "stdout"
        },
        {
          "output_type": "stream",
          "text": [
            "\n",
            "  0%|          | 0/391 [00:00<?, ?it/s]"
          ],
          "name": "stderr"
        },
        {
          "output_type": "stream",
          "text": [
            "Test set: Epoch : 76/250 Average loss: 0.5408, Test Accuracy: 81.18\n",
            "EPOCH: 77\n"
          ],
          "name": "stdout"
        },
        {
          "output_type": "stream",
          "text": [
            "Loss=0.946042001247406 Batch_id=390 Train Accuracy=71.69: 100%|██████████| 391/391 [00:26<00:00, 14.56it/s]"
          ],
          "name": "stderr"
        },
        {
          "output_type": "stream",
          "text": [
            "Train set: Epoch : 77/250 Average loss: 0.0000, Train Accuracy: 71.69\n"
          ],
          "name": "stdout"
        },
        {
          "output_type": "stream",
          "text": [
            "\n",
            "  0%|          | 0/391 [00:00<?, ?it/s]"
          ],
          "name": "stderr"
        },
        {
          "output_type": "stream",
          "text": [
            "Test set: Epoch : 77/250 Average loss: 0.5264, Test Accuracy: 81.67\n",
            "EPOCH: 78\n"
          ],
          "name": "stdout"
        },
        {
          "output_type": "stream",
          "text": [
            "Loss=0.739519476890564 Batch_id=390 Train Accuracy=72.08: 100%|██████████| 391/391 [00:27<00:00, 14.38it/s]"
          ],
          "name": "stderr"
        },
        {
          "output_type": "stream",
          "text": [
            "Train set: Epoch : 78/250 Average loss: 0.0000, Train Accuracy: 72.08\n"
          ],
          "name": "stdout"
        },
        {
          "output_type": "stream",
          "text": [
            "\n",
            "  0%|          | 0/391 [00:00<?, ?it/s]"
          ],
          "name": "stderr"
        },
        {
          "output_type": "stream",
          "text": [
            "Test set: Epoch : 78/250 Average loss: 0.5331, Test Accuracy: 81.44\n",
            "EPOCH: 79\n"
          ],
          "name": "stdout"
        },
        {
          "output_type": "stream",
          "text": [
            "Loss=0.906751811504364 Batch_id=390 Train Accuracy=71.99: 100%|██████████| 391/391 [00:27<00:00, 14.38it/s]"
          ],
          "name": "stderr"
        },
        {
          "output_type": "stream",
          "text": [
            "Train set: Epoch : 79/250 Average loss: 0.0000, Train Accuracy: 71.99\n"
          ],
          "name": "stdout"
        },
        {
          "output_type": "stream",
          "text": [
            "\n",
            "  0%|          | 0/391 [00:00<?, ?it/s]"
          ],
          "name": "stderr"
        },
        {
          "output_type": "stream",
          "text": [
            "Test set: Epoch : 79/250 Average loss: 0.5379, Test Accuracy: 81.48\n",
            "EPOCH: 80\n"
          ],
          "name": "stdout"
        },
        {
          "output_type": "stream",
          "text": [
            "Loss=0.6385505795478821 Batch_id=390 Train Accuracy=72.02: 100%|██████████| 391/391 [00:27<00:00, 14.36it/s]"
          ],
          "name": "stderr"
        },
        {
          "output_type": "stream",
          "text": [
            "Train set: Epoch : 80/250 Average loss: 0.0000, Train Accuracy: 72.02\n"
          ],
          "name": "stdout"
        },
        {
          "output_type": "stream",
          "text": [
            "\n",
            "  0%|          | 0/391 [00:00<?, ?it/s]"
          ],
          "name": "stderr"
        },
        {
          "output_type": "stream",
          "text": [
            "Test set: Epoch : 80/250 Average loss: 0.5327, Test Accuracy: 81.57\n",
            "EPOCH: 81\n"
          ],
          "name": "stdout"
        },
        {
          "output_type": "stream",
          "text": [
            "Loss=1.1112467050552368 Batch_id=390 Train Accuracy=72.26: 100%|██████████| 391/391 [00:27<00:00, 14.44it/s]"
          ],
          "name": "stderr"
        },
        {
          "output_type": "stream",
          "text": [
            "Train set: Epoch : 81/250 Average loss: 0.0000, Train Accuracy: 72.26\n"
          ],
          "name": "stdout"
        },
        {
          "output_type": "stream",
          "text": [
            "\n",
            "  0%|          | 0/391 [00:00<?, ?it/s]"
          ],
          "name": "stderr"
        },
        {
          "output_type": "stream",
          "text": [
            "Test set: Epoch : 81/250 Average loss: 0.5395, Test Accuracy: 81.4\n",
            "EPOCH: 82\n"
          ],
          "name": "stdout"
        },
        {
          "output_type": "stream",
          "text": [
            "Loss=0.9124488830566406 Batch_id=390 Train Accuracy=72.53: 100%|██████████| 391/391 [00:27<00:00, 14.33it/s]"
          ],
          "name": "stderr"
        },
        {
          "output_type": "stream",
          "text": [
            "Train set: Epoch : 82/250 Average loss: 0.0000, Train Accuracy: 72.53\n"
          ],
          "name": "stdout"
        },
        {
          "output_type": "stream",
          "text": [
            "\n",
            "  0%|          | 0/391 [00:00<?, ?it/s]"
          ],
          "name": "stderr"
        },
        {
          "output_type": "stream",
          "text": [
            "Test set: Epoch : 82/250 Average loss: 0.5297, Test Accuracy: 81.45\n",
            "EPOCH: 83\n"
          ],
          "name": "stdout"
        },
        {
          "output_type": "stream",
          "text": [
            "Loss=0.5354356169700623 Batch_id=390 Train Accuracy=72.53: 100%|██████████| 391/391 [00:27<00:00, 14.42it/s]"
          ],
          "name": "stderr"
        },
        {
          "output_type": "stream",
          "text": [
            "Train set: Epoch : 83/250 Average loss: 0.0000, Train Accuracy: 72.53\n"
          ],
          "name": "stdout"
        },
        {
          "output_type": "stream",
          "text": [
            "\n",
            "  0%|          | 0/391 [00:00<?, ?it/s]"
          ],
          "name": "stderr"
        },
        {
          "output_type": "stream",
          "text": [
            "Test set: Epoch : 83/250 Average loss: 0.5319, Test Accuracy: 81.48\n",
            "EPOCH: 84\n"
          ],
          "name": "stdout"
        },
        {
          "output_type": "stream",
          "text": [
            "Loss=0.7910271883010864 Batch_id=390 Train Accuracy=72.45: 100%|██████████| 391/391 [00:27<00:00, 14.46it/s]"
          ],
          "name": "stderr"
        },
        {
          "output_type": "stream",
          "text": [
            "Train set: Epoch : 84/250 Average loss: 0.0000, Train Accuracy: 72.45\n"
          ],
          "name": "stdout"
        },
        {
          "output_type": "stream",
          "text": [
            "\n",
            "  0%|          | 0/391 [00:00<?, ?it/s]"
          ],
          "name": "stderr"
        },
        {
          "output_type": "stream",
          "text": [
            "Test set: Epoch : 84/250 Average loss: 0.5251, Test Accuracy: 81.74\n",
            "EPOCH: 85\n"
          ],
          "name": "stdout"
        },
        {
          "output_type": "stream",
          "text": [
            "Loss=0.7968987822532654 Batch_id=390 Train Accuracy=72.42: 100%|██████████| 391/391 [00:27<00:00, 14.44it/s]"
          ],
          "name": "stderr"
        },
        {
          "output_type": "stream",
          "text": [
            "Train set: Epoch : 85/250 Average loss: 0.0000, Train Accuracy: 72.42\n"
          ],
          "name": "stdout"
        },
        {
          "output_type": "stream",
          "text": [
            "\n",
            "  0%|          | 0/391 [00:00<?, ?it/s]"
          ],
          "name": "stderr"
        },
        {
          "output_type": "stream",
          "text": [
            "Test set: Epoch : 85/250 Average loss: 0.5354, Test Accuracy: 81.57\n",
            "EPOCH: 86\n"
          ],
          "name": "stdout"
        },
        {
          "output_type": "stream",
          "text": [
            "Loss=0.8740574717521667 Batch_id=390 Train Accuracy=72.55: 100%|██████████| 391/391 [00:27<00:00, 14.36it/s]"
          ],
          "name": "stderr"
        },
        {
          "output_type": "stream",
          "text": [
            "Train set: Epoch : 86/250 Average loss: 0.0000, Train Accuracy: 72.55\n"
          ],
          "name": "stdout"
        },
        {
          "output_type": "stream",
          "text": [
            "\n",
            "  0%|          | 0/391 [00:00<?, ?it/s]"
          ],
          "name": "stderr"
        },
        {
          "output_type": "stream",
          "text": [
            "Test set: Epoch : 86/250 Average loss: 0.5284, Test Accuracy: 82.27\n",
            "EPOCH: 87\n"
          ],
          "name": "stdout"
        },
        {
          "output_type": "stream",
          "text": [
            "Loss=0.8198947310447693 Batch_id=390 Train Accuracy=72.50: 100%|██████████| 391/391 [00:27<00:00, 14.42it/s]"
          ],
          "name": "stderr"
        },
        {
          "output_type": "stream",
          "text": [
            "Train set: Epoch : 87/250 Average loss: 0.0000, Train Accuracy: 72.5\n"
          ],
          "name": "stdout"
        },
        {
          "output_type": "stream",
          "text": [
            "\n",
            "  0%|          | 0/391 [00:00<?, ?it/s]"
          ],
          "name": "stderr"
        },
        {
          "output_type": "stream",
          "text": [
            "Test set: Epoch : 87/250 Average loss: 0.5037, Test Accuracy: 82.99\n",
            "EPOCH: 88\n"
          ],
          "name": "stdout"
        },
        {
          "output_type": "stream",
          "text": [
            "Loss=1.0409784317016602 Batch_id=390 Train Accuracy=72.60: 100%|██████████| 391/391 [00:27<00:00, 14.36it/s]"
          ],
          "name": "stderr"
        },
        {
          "output_type": "stream",
          "text": [
            "Train set: Epoch : 88/250 Average loss: 0.0000, Train Accuracy: 72.6\n"
          ],
          "name": "stdout"
        },
        {
          "output_type": "stream",
          "text": [
            "\n",
            "  0%|          | 0/391 [00:00<?, ?it/s]"
          ],
          "name": "stderr"
        },
        {
          "output_type": "stream",
          "text": [
            "Test set: Epoch : 88/250 Average loss: 0.5311, Test Accuracy: 81.68\n",
            "EPOCH: 89\n"
          ],
          "name": "stdout"
        },
        {
          "output_type": "stream",
          "text": [
            "Loss=0.7623460292816162 Batch_id=390 Train Accuracy=72.84: 100%|██████████| 391/391 [00:27<00:00, 14.38it/s]"
          ],
          "name": "stderr"
        },
        {
          "output_type": "stream",
          "text": [
            "Train set: Epoch : 89/250 Average loss: 0.0000, Train Accuracy: 72.84\n"
          ],
          "name": "stdout"
        },
        {
          "output_type": "stream",
          "text": [
            "\n",
            "  0%|          | 0/391 [00:00<?, ?it/s]"
          ],
          "name": "stderr"
        },
        {
          "output_type": "stream",
          "text": [
            "Test set: Epoch : 89/250 Average loss: 0.5160, Test Accuracy: 82.18\n",
            "EPOCH: 90\n"
          ],
          "name": "stdout"
        },
        {
          "output_type": "stream",
          "text": [
            "Loss=0.9076017141342163 Batch_id=390 Train Accuracy=72.91: 100%|██████████| 391/391 [00:27<00:00, 14.41it/s]"
          ],
          "name": "stderr"
        },
        {
          "output_type": "stream",
          "text": [
            "Train set: Epoch : 90/250 Average loss: 0.0000, Train Accuracy: 72.91\n"
          ],
          "name": "stdout"
        },
        {
          "output_type": "stream",
          "text": [
            "\n",
            "  0%|          | 0/391 [00:00<?, ?it/s]"
          ],
          "name": "stderr"
        },
        {
          "output_type": "stream",
          "text": [
            "Test set: Epoch : 90/250 Average loss: 0.5201, Test Accuracy: 82.29\n",
            "EPOCH: 91\n"
          ],
          "name": "stdout"
        },
        {
          "output_type": "stream",
          "text": [
            "Loss=1.0863569974899292 Batch_id=390 Train Accuracy=72.79: 100%|██████████| 391/391 [00:27<00:00, 14.36it/s]"
          ],
          "name": "stderr"
        },
        {
          "output_type": "stream",
          "text": [
            "Train set: Epoch : 91/250 Average loss: 0.0000, Train Accuracy: 72.79\n"
          ],
          "name": "stdout"
        },
        {
          "output_type": "stream",
          "text": [
            "\n",
            "  0%|          | 0/391 [00:00<?, ?it/s]"
          ],
          "name": "stderr"
        },
        {
          "output_type": "stream",
          "text": [
            "Test set: Epoch : 91/250 Average loss: 0.5216, Test Accuracy: 82.0\n",
            "EPOCH: 92\n"
          ],
          "name": "stdout"
        },
        {
          "output_type": "stream",
          "text": [
            "Loss=0.6411495208740234 Batch_id=390 Train Accuracy=73.00: 100%|██████████| 391/391 [00:27<00:00, 14.47it/s]"
          ],
          "name": "stderr"
        },
        {
          "output_type": "stream",
          "text": [
            "Train set: Epoch : 92/250 Average loss: 0.0000, Train Accuracy: 73.0\n"
          ],
          "name": "stdout"
        },
        {
          "output_type": "stream",
          "text": [
            "\n",
            "  0%|          | 0/391 [00:00<?, ?it/s]"
          ],
          "name": "stderr"
        },
        {
          "output_type": "stream",
          "text": [
            "Test set: Epoch : 92/250 Average loss: 0.5125, Test Accuracy: 82.81\n",
            "EPOCH: 93\n"
          ],
          "name": "stdout"
        },
        {
          "output_type": "stream",
          "text": [
            "Loss=0.7540755271911621 Batch_id=390 Train Accuracy=72.78: 100%|██████████| 391/391 [00:27<00:00, 14.43it/s]"
          ],
          "name": "stderr"
        },
        {
          "output_type": "stream",
          "text": [
            "Train set: Epoch : 93/250 Average loss: 0.0000, Train Accuracy: 72.78\n"
          ],
          "name": "stdout"
        },
        {
          "output_type": "stream",
          "text": [
            "\n",
            "  0%|          | 0/391 [00:00<?, ?it/s]"
          ],
          "name": "stderr"
        },
        {
          "output_type": "stream",
          "text": [
            "Test set: Epoch : 93/250 Average loss: 0.5111, Test Accuracy: 82.58\n",
            "EPOCH: 94\n"
          ],
          "name": "stdout"
        },
        {
          "output_type": "stream",
          "text": [
            "Loss=0.8242784738540649 Batch_id=390 Train Accuracy=73.25: 100%|██████████| 391/391 [00:27<00:00, 14.39it/s]"
          ],
          "name": "stderr"
        },
        {
          "output_type": "stream",
          "text": [
            "Train set: Epoch : 94/250 Average loss: 0.0000, Train Accuracy: 73.25\n"
          ],
          "name": "stdout"
        },
        {
          "output_type": "stream",
          "text": [
            "\n",
            "  0%|          | 0/391 [00:00<?, ?it/s]"
          ],
          "name": "stderr"
        },
        {
          "output_type": "stream",
          "text": [
            "Test set: Epoch : 94/250 Average loss: 0.5073, Test Accuracy: 82.8\n",
            "EPOCH: 95\n"
          ],
          "name": "stdout"
        },
        {
          "output_type": "stream",
          "text": [
            "Loss=0.6744758486747742 Batch_id=390 Train Accuracy=73.10: 100%|██████████| 391/391 [00:27<00:00, 14.47it/s]"
          ],
          "name": "stderr"
        },
        {
          "output_type": "stream",
          "text": [
            "Train set: Epoch : 95/250 Average loss: 0.0000, Train Accuracy: 73.1\n"
          ],
          "name": "stdout"
        },
        {
          "output_type": "stream",
          "text": [
            "\n",
            "  0%|          | 0/391 [00:00<?, ?it/s]"
          ],
          "name": "stderr"
        },
        {
          "output_type": "stream",
          "text": [
            "Test set: Epoch : 95/250 Average loss: 0.4961, Test Accuracy: 82.73\n",
            "EPOCH: 96\n"
          ],
          "name": "stdout"
        },
        {
          "output_type": "stream",
          "text": [
            "Loss=0.7348974943161011 Batch_id=390 Train Accuracy=73.40: 100%|██████████| 391/391 [00:27<00:00, 14.44it/s]"
          ],
          "name": "stderr"
        },
        {
          "output_type": "stream",
          "text": [
            "Train set: Epoch : 96/250 Average loss: 0.0000, Train Accuracy: 73.4\n"
          ],
          "name": "stdout"
        },
        {
          "output_type": "stream",
          "text": [
            "\n",
            "  0%|          | 0/391 [00:00<?, ?it/s]"
          ],
          "name": "stderr"
        },
        {
          "output_type": "stream",
          "text": [
            "Test set: Epoch : 96/250 Average loss: 0.5065, Test Accuracy: 82.85\n",
            "EPOCH: 97\n"
          ],
          "name": "stdout"
        },
        {
          "output_type": "stream",
          "text": [
            "Loss=0.7103533148765564 Batch_id=390 Train Accuracy=73.16: 100%|██████████| 391/391 [00:27<00:00, 14.37it/s]"
          ],
          "name": "stderr"
        },
        {
          "output_type": "stream",
          "text": [
            "Train set: Epoch : 97/250 Average loss: 0.0000, Train Accuracy: 73.16\n"
          ],
          "name": "stdout"
        },
        {
          "output_type": "stream",
          "text": [
            "\n",
            "  0%|          | 0/391 [00:00<?, ?it/s]"
          ],
          "name": "stderr"
        },
        {
          "output_type": "stream",
          "text": [
            "Test set: Epoch : 97/250 Average loss: 0.5196, Test Accuracy: 82.19\n",
            "EPOCH: 98\n"
          ],
          "name": "stdout"
        },
        {
          "output_type": "stream",
          "text": [
            "Loss=0.8265475630760193 Batch_id=390 Train Accuracy=73.43: 100%|██████████| 391/391 [00:27<00:00, 14.41it/s]"
          ],
          "name": "stderr"
        },
        {
          "output_type": "stream",
          "text": [
            "Train set: Epoch : 98/250 Average loss: 0.0000, Train Accuracy: 73.43\n"
          ],
          "name": "stdout"
        },
        {
          "output_type": "stream",
          "text": [
            "\n",
            "  0%|          | 0/391 [00:00<?, ?it/s]"
          ],
          "name": "stderr"
        },
        {
          "output_type": "stream",
          "text": [
            "Test set: Epoch : 98/250 Average loss: 0.5044, Test Accuracy: 82.66\n",
            "EPOCH: 99\n"
          ],
          "name": "stdout"
        },
        {
          "output_type": "stream",
          "text": [
            "Loss=0.7575609087944031 Batch_id=390 Train Accuracy=73.09: 100%|██████████| 391/391 [00:27<00:00, 14.39it/s]"
          ],
          "name": "stderr"
        },
        {
          "output_type": "stream",
          "text": [
            "Train set: Epoch : 99/250 Average loss: 0.0000, Train Accuracy: 73.09\n"
          ],
          "name": "stdout"
        },
        {
          "output_type": "stream",
          "text": [
            "\n",
            "  0%|          | 0/391 [00:00<?, ?it/s]"
          ],
          "name": "stderr"
        },
        {
          "output_type": "stream",
          "text": [
            "Test set: Epoch : 99/250 Average loss: 0.4962, Test Accuracy: 83.12\n",
            "EPOCH: 100\n"
          ],
          "name": "stdout"
        },
        {
          "output_type": "stream",
          "text": [
            "Loss=0.8581544756889343 Batch_id=390 Train Accuracy=73.55: 100%|██████████| 391/391 [00:27<00:00, 14.38it/s]"
          ],
          "name": "stderr"
        },
        {
          "output_type": "stream",
          "text": [
            "Train set: Epoch : 100/250 Average loss: 0.0000, Train Accuracy: 73.55\n"
          ],
          "name": "stdout"
        },
        {
          "output_type": "stream",
          "text": [
            "\n",
            "  0%|          | 0/391 [00:00<?, ?it/s]"
          ],
          "name": "stderr"
        },
        {
          "output_type": "stream",
          "text": [
            "Test set: Epoch : 100/250 Average loss: 0.5113, Test Accuracy: 82.48\n",
            "EPOCH: 101\n"
          ],
          "name": "stdout"
        },
        {
          "output_type": "stream",
          "text": [
            "Loss=0.7699947953224182 Batch_id=390 Train Accuracy=73.80: 100%|██████████| 391/391 [00:27<00:00, 14.36it/s]"
          ],
          "name": "stderr"
        },
        {
          "output_type": "stream",
          "text": [
            "Train set: Epoch : 101/250 Average loss: 0.0000, Train Accuracy: 73.8\n"
          ],
          "name": "stdout"
        },
        {
          "output_type": "stream",
          "text": [
            "\n",
            "  0%|          | 0/391 [00:00<?, ?it/s]"
          ],
          "name": "stderr"
        },
        {
          "output_type": "stream",
          "text": [
            "Test set: Epoch : 101/250 Average loss: 0.4974, Test Accuracy: 82.97\n",
            "EPOCH: 102\n"
          ],
          "name": "stdout"
        },
        {
          "output_type": "stream",
          "text": [
            "Loss=0.9257645606994629 Batch_id=390 Train Accuracy=73.46: 100%|██████████| 391/391 [00:27<00:00, 14.36it/s]"
          ],
          "name": "stderr"
        },
        {
          "output_type": "stream",
          "text": [
            "Train set: Epoch : 102/250 Average loss: 0.0000, Train Accuracy: 73.46\n"
          ],
          "name": "stdout"
        },
        {
          "output_type": "stream",
          "text": [
            "\n",
            "  0%|          | 0/391 [00:00<?, ?it/s]"
          ],
          "name": "stderr"
        },
        {
          "output_type": "stream",
          "text": [
            "Test set: Epoch : 102/250 Average loss: 0.5007, Test Accuracy: 82.83\n",
            "EPOCH: 103\n"
          ],
          "name": "stdout"
        },
        {
          "output_type": "stream",
          "text": [
            "Loss=0.7867577075958252 Batch_id=390 Train Accuracy=73.84: 100%|██████████| 391/391 [00:27<00:00, 14.39it/s]"
          ],
          "name": "stderr"
        },
        {
          "output_type": "stream",
          "text": [
            "Train set: Epoch : 103/250 Average loss: 0.0000, Train Accuracy: 73.84\n"
          ],
          "name": "stdout"
        },
        {
          "output_type": "stream",
          "text": [
            "\n",
            "  0%|          | 0/391 [00:00<?, ?it/s]"
          ],
          "name": "stderr"
        },
        {
          "output_type": "stream",
          "text": [
            "Test set: Epoch : 103/250 Average loss: 0.4918, Test Accuracy: 82.84\n",
            "EPOCH: 104\n"
          ],
          "name": "stdout"
        },
        {
          "output_type": "stream",
          "text": [
            "Loss=1.1141830682754517 Batch_id=390 Train Accuracy=73.79: 100%|██████████| 391/391 [00:27<00:00, 14.39it/s]"
          ],
          "name": "stderr"
        },
        {
          "output_type": "stream",
          "text": [
            "Train set: Epoch : 104/250 Average loss: 0.0000, Train Accuracy: 73.79\n"
          ],
          "name": "stdout"
        },
        {
          "output_type": "stream",
          "text": [
            "\n",
            "  0%|          | 0/391 [00:00<?, ?it/s]"
          ],
          "name": "stderr"
        },
        {
          "output_type": "stream",
          "text": [
            "Test set: Epoch : 104/250 Average loss: 0.5033, Test Accuracy: 82.84\n",
            "EPOCH: 105\n"
          ],
          "name": "stdout"
        },
        {
          "output_type": "stream",
          "text": [
            "Loss=0.7597336769104004 Batch_id=390 Train Accuracy=73.67: 100%|██████████| 391/391 [00:27<00:00, 14.41it/s]"
          ],
          "name": "stderr"
        },
        {
          "output_type": "stream",
          "text": [
            "Train set: Epoch : 105/250 Average loss: 0.0000, Train Accuracy: 73.67\n"
          ],
          "name": "stdout"
        },
        {
          "output_type": "stream",
          "text": [
            "\n",
            "  0%|          | 0/391 [00:00<?, ?it/s]"
          ],
          "name": "stderr"
        },
        {
          "output_type": "stream",
          "text": [
            "Test set: Epoch : 105/250 Average loss: 0.5048, Test Accuracy: 82.9\n",
            "EPOCH: 106\n"
          ],
          "name": "stdout"
        },
        {
          "output_type": "stream",
          "text": [
            "Loss=0.7370809316635132 Batch_id=390 Train Accuracy=74.00: 100%|██████████| 391/391 [00:27<00:00, 14.37it/s]"
          ],
          "name": "stderr"
        },
        {
          "output_type": "stream",
          "text": [
            "Train set: Epoch : 106/250 Average loss: 0.0000, Train Accuracy: 74.0\n"
          ],
          "name": "stdout"
        },
        {
          "output_type": "stream",
          "text": [
            "\n",
            "  0%|          | 0/391 [00:00<?, ?it/s]"
          ],
          "name": "stderr"
        },
        {
          "output_type": "stream",
          "text": [
            "Test set: Epoch : 106/250 Average loss: 0.5173, Test Accuracy: 81.94\n",
            "EPOCH: 107\n"
          ],
          "name": "stdout"
        },
        {
          "output_type": "stream",
          "text": [
            "Loss=0.7312416434288025 Batch_id=390 Train Accuracy=73.91: 100%|██████████| 391/391 [00:27<00:00, 14.36it/s]"
          ],
          "name": "stderr"
        },
        {
          "output_type": "stream",
          "text": [
            "Train set: Epoch : 107/250 Average loss: 0.0000, Train Accuracy: 73.91\n"
          ],
          "name": "stdout"
        },
        {
          "output_type": "stream",
          "text": [
            "\n",
            "  0%|          | 0/391 [00:00<?, ?it/s]"
          ],
          "name": "stderr"
        },
        {
          "output_type": "stream",
          "text": [
            "Test set: Epoch : 107/250 Average loss: 0.4890, Test Accuracy: 83.17\n",
            "EPOCH: 108\n"
          ],
          "name": "stdout"
        },
        {
          "output_type": "stream",
          "text": [
            "Loss=0.8033698797225952 Batch_id=390 Train Accuracy=73.68: 100%|██████████| 391/391 [00:27<00:00, 14.37it/s]"
          ],
          "name": "stderr"
        },
        {
          "output_type": "stream",
          "text": [
            "Train set: Epoch : 108/250 Average loss: 0.0000, Train Accuracy: 73.68\n"
          ],
          "name": "stdout"
        },
        {
          "output_type": "stream",
          "text": [
            "\n",
            "  0%|          | 0/391 [00:00<?, ?it/s]"
          ],
          "name": "stderr"
        },
        {
          "output_type": "stream",
          "text": [
            "Test set: Epoch : 108/250 Average loss: 0.4920, Test Accuracy: 83.18\n",
            "EPOCH: 109\n"
          ],
          "name": "stdout"
        },
        {
          "output_type": "stream",
          "text": [
            "Loss=0.9374151825904846 Batch_id=390 Train Accuracy=74.00: 100%|██████████| 391/391 [00:27<00:00, 14.37it/s]"
          ],
          "name": "stderr"
        },
        {
          "output_type": "stream",
          "text": [
            "Train set: Epoch : 109/250 Average loss: 0.0000, Train Accuracy: 74.0\n"
          ],
          "name": "stdout"
        },
        {
          "output_type": "stream",
          "text": [
            "\n",
            "  0%|          | 0/391 [00:00<?, ?it/s]"
          ],
          "name": "stderr"
        },
        {
          "output_type": "stream",
          "text": [
            "Test set: Epoch : 109/250 Average loss: 0.4890, Test Accuracy: 83.54\n",
            "EPOCH: 110\n"
          ],
          "name": "stdout"
        },
        {
          "output_type": "stream",
          "text": [
            "Loss=0.7282519936561584 Batch_id=390 Train Accuracy=73.90: 100%|██████████| 391/391 [00:27<00:00, 14.39it/s]"
          ],
          "name": "stderr"
        },
        {
          "output_type": "stream",
          "text": [
            "Train set: Epoch : 110/250 Average loss: 0.0000, Train Accuracy: 73.9\n"
          ],
          "name": "stdout"
        },
        {
          "output_type": "stream",
          "text": [
            "\n",
            "  0%|          | 0/391 [00:00<?, ?it/s]"
          ],
          "name": "stderr"
        },
        {
          "output_type": "stream",
          "text": [
            "Test set: Epoch : 110/250 Average loss: 0.4989, Test Accuracy: 82.72\n",
            "EPOCH: 111\n"
          ],
          "name": "stdout"
        },
        {
          "output_type": "stream",
          "text": [
            "Loss=0.8071713447570801 Batch_id=390 Train Accuracy=74.09: 100%|██████████| 391/391 [00:27<00:00, 14.32it/s]"
          ],
          "name": "stderr"
        },
        {
          "output_type": "stream",
          "text": [
            "Train set: Epoch : 111/250 Average loss: 0.0000, Train Accuracy: 74.09\n"
          ],
          "name": "stdout"
        },
        {
          "output_type": "stream",
          "text": [
            "\n",
            "  0%|          | 0/391 [00:00<?, ?it/s]"
          ],
          "name": "stderr"
        },
        {
          "output_type": "stream",
          "text": [
            "Test set: Epoch : 111/250 Average loss: 0.4835, Test Accuracy: 83.43\n",
            "EPOCH: 112\n"
          ],
          "name": "stdout"
        },
        {
          "output_type": "stream",
          "text": [
            "Loss=0.6607443690299988 Batch_id=390 Train Accuracy=73.81: 100%|██████████| 391/391 [00:27<00:00, 14.41it/s]"
          ],
          "name": "stderr"
        },
        {
          "output_type": "stream",
          "text": [
            "Train set: Epoch : 112/250 Average loss: 0.0000, Train Accuracy: 73.81\n"
          ],
          "name": "stdout"
        },
        {
          "output_type": "stream",
          "text": [
            "\n",
            "  0%|          | 0/391 [00:00<?, ?it/s]"
          ],
          "name": "stderr"
        },
        {
          "output_type": "stream",
          "text": [
            "Test set: Epoch : 112/250 Average loss: 0.4825, Test Accuracy: 83.31\n",
            "EPOCH: 113\n"
          ],
          "name": "stdout"
        },
        {
          "output_type": "stream",
          "text": [
            "Loss=0.7977723479270935 Batch_id=390 Train Accuracy=74.11: 100%|██████████| 391/391 [00:27<00:00, 14.36it/s]"
          ],
          "name": "stderr"
        },
        {
          "output_type": "stream",
          "text": [
            "Train set: Epoch : 113/250 Average loss: 0.0000, Train Accuracy: 74.11\n"
          ],
          "name": "stdout"
        },
        {
          "output_type": "stream",
          "text": [
            "\n",
            "  0%|          | 0/391 [00:00<?, ?it/s]"
          ],
          "name": "stderr"
        },
        {
          "output_type": "stream",
          "text": [
            "Test set: Epoch : 113/250 Average loss: 0.4887, Test Accuracy: 83.01\n",
            "EPOCH: 114\n"
          ],
          "name": "stdout"
        },
        {
          "output_type": "stream",
          "text": [
            "Loss=0.6858770847320557 Batch_id=390 Train Accuracy=74.22: 100%|██████████| 391/391 [00:27<00:00, 14.38it/s]"
          ],
          "name": "stderr"
        },
        {
          "output_type": "stream",
          "text": [
            "Train set: Epoch : 114/250 Average loss: 0.0000, Train Accuracy: 74.22\n"
          ],
          "name": "stdout"
        },
        {
          "output_type": "stream",
          "text": [
            "\n",
            "  0%|          | 0/391 [00:00<?, ?it/s]"
          ],
          "name": "stderr"
        },
        {
          "output_type": "stream",
          "text": [
            "Test set: Epoch : 114/250 Average loss: 0.4853, Test Accuracy: 83.7\n",
            "EPOCH: 115\n"
          ],
          "name": "stdout"
        },
        {
          "output_type": "stream",
          "text": [
            "Loss=0.4801006615161896 Batch_id=390 Train Accuracy=74.12: 100%|██████████| 391/391 [00:27<00:00, 14.42it/s]"
          ],
          "name": "stderr"
        },
        {
          "output_type": "stream",
          "text": [
            "Train set: Epoch : 115/250 Average loss: 0.0000, Train Accuracy: 74.12\n"
          ],
          "name": "stdout"
        },
        {
          "output_type": "stream",
          "text": [
            "\n",
            "  0%|          | 0/391 [00:00<?, ?it/s]"
          ],
          "name": "stderr"
        },
        {
          "output_type": "stream",
          "text": [
            "Test set: Epoch : 115/250 Average loss: 0.4864, Test Accuracy: 83.4\n",
            "EPOCH: 116\n"
          ],
          "name": "stdout"
        },
        {
          "output_type": "stream",
          "text": [
            "Loss=0.7586386203765869 Batch_id=390 Train Accuracy=74.10: 100%|██████████| 391/391 [00:27<00:00, 14.39it/s]"
          ],
          "name": "stderr"
        },
        {
          "output_type": "stream",
          "text": [
            "Train set: Epoch : 116/250 Average loss: 0.0000, Train Accuracy: 74.1\n"
          ],
          "name": "stdout"
        },
        {
          "output_type": "stream",
          "text": [
            "\n",
            "  0%|          | 0/391 [00:00<?, ?it/s]"
          ],
          "name": "stderr"
        },
        {
          "output_type": "stream",
          "text": [
            "Test set: Epoch : 116/250 Average loss: 0.5021, Test Accuracy: 83.02\n",
            "EPOCH: 117\n"
          ],
          "name": "stdout"
        },
        {
          "output_type": "stream",
          "text": [
            "Loss=0.8340683579444885 Batch_id=390 Train Accuracy=74.09: 100%|██████████| 391/391 [00:27<00:00, 14.36it/s]"
          ],
          "name": "stderr"
        },
        {
          "output_type": "stream",
          "text": [
            "Train set: Epoch : 117/250 Average loss: 0.0000, Train Accuracy: 74.09\n"
          ],
          "name": "stdout"
        },
        {
          "output_type": "stream",
          "text": [
            "\n",
            "  0%|          | 0/391 [00:00<?, ?it/s]"
          ],
          "name": "stderr"
        },
        {
          "output_type": "stream",
          "text": [
            "Test set: Epoch : 117/250 Average loss: 0.4952, Test Accuracy: 82.72\n",
            "EPOCH: 118\n"
          ],
          "name": "stdout"
        },
        {
          "output_type": "stream",
          "text": [
            "Loss=0.6306557655334473 Batch_id=390 Train Accuracy=73.70: 100%|██████████| 391/391 [00:27<00:00, 14.34it/s]"
          ],
          "name": "stderr"
        },
        {
          "output_type": "stream",
          "text": [
            "Train set: Epoch : 118/250 Average loss: 0.0000, Train Accuracy: 73.7\n"
          ],
          "name": "stdout"
        },
        {
          "output_type": "stream",
          "text": [
            "\n",
            "  0%|          | 0/391 [00:00<?, ?it/s]"
          ],
          "name": "stderr"
        },
        {
          "output_type": "stream",
          "text": [
            "Test set: Epoch : 118/250 Average loss: 0.4788, Test Accuracy: 83.79\n",
            "EPOCH: 119\n"
          ],
          "name": "stdout"
        },
        {
          "output_type": "stream",
          "text": [
            "Loss=0.6442365050315857 Batch_id=390 Train Accuracy=74.42: 100%|██████████| 391/391 [00:27<00:00, 14.40it/s]"
          ],
          "name": "stderr"
        },
        {
          "output_type": "stream",
          "text": [
            "Train set: Epoch : 119/250 Average loss: 0.0000, Train Accuracy: 74.42\n"
          ],
          "name": "stdout"
        },
        {
          "output_type": "stream",
          "text": [
            "\n",
            "  0%|          | 0/391 [00:00<?, ?it/s]"
          ],
          "name": "stderr"
        },
        {
          "output_type": "stream",
          "text": [
            "Test set: Epoch : 119/250 Average loss: 0.4783, Test Accuracy: 83.82\n",
            "EPOCH: 120\n"
          ],
          "name": "stdout"
        },
        {
          "output_type": "stream",
          "text": [
            "Loss=0.693759560585022 Batch_id=390 Train Accuracy=74.41: 100%|██████████| 391/391 [00:27<00:00, 14.30it/s]"
          ],
          "name": "stderr"
        },
        {
          "output_type": "stream",
          "text": [
            "Train set: Epoch : 120/250 Average loss: 0.0000, Train Accuracy: 74.41\n"
          ],
          "name": "stdout"
        },
        {
          "output_type": "stream",
          "text": [
            "\n",
            "  0%|          | 0/391 [00:00<?, ?it/s]"
          ],
          "name": "stderr"
        },
        {
          "output_type": "stream",
          "text": [
            "Test set: Epoch : 120/250 Average loss: 0.4833, Test Accuracy: 83.44\n",
            "EPOCH: 121\n"
          ],
          "name": "stdout"
        },
        {
          "output_type": "stream",
          "text": [
            "Loss=0.5455226302146912 Batch_id=390 Train Accuracy=74.20: 100%|██████████| 391/391 [00:27<00:00, 14.35it/s]"
          ],
          "name": "stderr"
        },
        {
          "output_type": "stream",
          "text": [
            "Train set: Epoch : 121/250 Average loss: 0.0000, Train Accuracy: 74.2\n"
          ],
          "name": "stdout"
        },
        {
          "output_type": "stream",
          "text": [
            "\n",
            "  0%|          | 0/391 [00:00<?, ?it/s]"
          ],
          "name": "stderr"
        },
        {
          "output_type": "stream",
          "text": [
            "Test set: Epoch : 121/250 Average loss: 0.4962, Test Accuracy: 83.0\n",
            "EPOCH: 122\n"
          ],
          "name": "stdout"
        },
        {
          "output_type": "stream",
          "text": [
            "Loss=0.6890231966972351 Batch_id=390 Train Accuracy=74.62: 100%|██████████| 391/391 [00:27<00:00, 14.40it/s]"
          ],
          "name": "stderr"
        },
        {
          "output_type": "stream",
          "text": [
            "Train set: Epoch : 122/250 Average loss: 0.0000, Train Accuracy: 74.62\n"
          ],
          "name": "stdout"
        },
        {
          "output_type": "stream",
          "text": [
            "\n",
            "  0%|          | 0/391 [00:00<?, ?it/s]"
          ],
          "name": "stderr"
        },
        {
          "output_type": "stream",
          "text": [
            "Test set: Epoch : 122/250 Average loss: 0.4718, Test Accuracy: 84.12\n",
            "EPOCH: 123\n"
          ],
          "name": "stdout"
        },
        {
          "output_type": "stream",
          "text": [
            "Loss=0.6546676754951477 Batch_id=390 Train Accuracy=74.65: 100%|██████████| 391/391 [00:27<00:00, 14.36it/s]"
          ],
          "name": "stderr"
        },
        {
          "output_type": "stream",
          "text": [
            "Train set: Epoch : 123/250 Average loss: 0.0000, Train Accuracy: 74.65\n"
          ],
          "name": "stdout"
        },
        {
          "output_type": "stream",
          "text": [
            "\n",
            "  0%|          | 0/391 [00:00<?, ?it/s]"
          ],
          "name": "stderr"
        },
        {
          "output_type": "stream",
          "text": [
            "Test set: Epoch : 123/250 Average loss: 0.4847, Test Accuracy: 83.39\n",
            "EPOCH: 124\n"
          ],
          "name": "stdout"
        },
        {
          "output_type": "stream",
          "text": [
            "Loss=0.6312617659568787 Batch_id=390 Train Accuracy=74.21: 100%|██████████| 391/391 [00:27<00:00, 14.37it/s]"
          ],
          "name": "stderr"
        },
        {
          "output_type": "stream",
          "text": [
            "Train set: Epoch : 124/250 Average loss: 0.0000, Train Accuracy: 74.21\n"
          ],
          "name": "stdout"
        },
        {
          "output_type": "stream",
          "text": [
            "\n",
            "  0%|          | 0/391 [00:00<?, ?it/s]"
          ],
          "name": "stderr"
        },
        {
          "output_type": "stream",
          "text": [
            "Test set: Epoch : 124/250 Average loss: 0.4695, Test Accuracy: 83.89\n",
            "EPOCH: 125\n"
          ],
          "name": "stdout"
        },
        {
          "output_type": "stream",
          "text": [
            "Loss=0.885994017124176 Batch_id=390 Train Accuracy=74.42: 100%|██████████| 391/391 [00:27<00:00, 14.32it/s]"
          ],
          "name": "stderr"
        },
        {
          "output_type": "stream",
          "text": [
            "Train set: Epoch : 125/250 Average loss: 0.0000, Train Accuracy: 74.42\n"
          ],
          "name": "stdout"
        },
        {
          "output_type": "stream",
          "text": [
            "\n",
            "  0%|          | 0/391 [00:00<?, ?it/s]"
          ],
          "name": "stderr"
        },
        {
          "output_type": "stream",
          "text": [
            "Test set: Epoch : 125/250 Average loss: 0.4735, Test Accuracy: 84.05\n",
            "EPOCH: 126\n"
          ],
          "name": "stdout"
        },
        {
          "output_type": "stream",
          "text": [
            "Loss=0.837670624256134 Batch_id=390 Train Accuracy=74.64: 100%|██████████| 391/391 [00:27<00:00, 14.30it/s]"
          ],
          "name": "stderr"
        },
        {
          "output_type": "stream",
          "text": [
            "Train set: Epoch : 126/250 Average loss: 0.0000, Train Accuracy: 74.64\n"
          ],
          "name": "stdout"
        },
        {
          "output_type": "stream",
          "text": [
            "\n",
            "  0%|          | 0/391 [00:00<?, ?it/s]"
          ],
          "name": "stderr"
        },
        {
          "output_type": "stream",
          "text": [
            "Test set: Epoch : 126/250 Average loss: 0.4729, Test Accuracy: 83.69\n",
            "EPOCH: 127\n"
          ],
          "name": "stdout"
        },
        {
          "output_type": "stream",
          "text": [
            "Loss=0.6142198443412781 Batch_id=390 Train Accuracy=74.75: 100%|██████████| 391/391 [00:27<00:00, 14.26it/s]"
          ],
          "name": "stderr"
        },
        {
          "output_type": "stream",
          "text": [
            "Train set: Epoch : 127/250 Average loss: 0.0000, Train Accuracy: 74.75\n"
          ],
          "name": "stdout"
        },
        {
          "output_type": "stream",
          "text": [
            "\n",
            "  0%|          | 0/391 [00:00<?, ?it/s]"
          ],
          "name": "stderr"
        },
        {
          "output_type": "stream",
          "text": [
            "Test set: Epoch : 127/250 Average loss: 0.4719, Test Accuracy: 84.1\n",
            "EPOCH: 128\n"
          ],
          "name": "stdout"
        },
        {
          "output_type": "stream",
          "text": [
            "Loss=0.6773298978805542 Batch_id=390 Train Accuracy=74.84: 100%|██████████| 391/391 [00:27<00:00, 14.34it/s]"
          ],
          "name": "stderr"
        },
        {
          "output_type": "stream",
          "text": [
            "Train set: Epoch : 128/250 Average loss: 0.0000, Train Accuracy: 74.84\n"
          ],
          "name": "stdout"
        },
        {
          "output_type": "stream",
          "text": [
            "\n",
            "  0%|          | 0/391 [00:00<?, ?it/s]"
          ],
          "name": "stderr"
        },
        {
          "output_type": "stream",
          "text": [
            "Test set: Epoch : 128/250 Average loss: 0.4656, Test Accuracy: 84.0\n",
            "EPOCH: 129\n"
          ],
          "name": "stdout"
        },
        {
          "output_type": "stream",
          "text": [
            "Loss=0.884657621383667 Batch_id=390 Train Accuracy=74.72: 100%|██████████| 391/391 [00:27<00:00, 14.31it/s]"
          ],
          "name": "stderr"
        },
        {
          "output_type": "stream",
          "text": [
            "Train set: Epoch : 129/250 Average loss: 0.0000, Train Accuracy: 74.72\n"
          ],
          "name": "stdout"
        },
        {
          "output_type": "stream",
          "text": [
            "\n",
            "  0%|          | 0/391 [00:00<?, ?it/s]"
          ],
          "name": "stderr"
        },
        {
          "output_type": "stream",
          "text": [
            "Test set: Epoch : 129/250 Average loss: 0.4708, Test Accuracy: 83.96\n",
            "EPOCH: 130\n"
          ],
          "name": "stdout"
        },
        {
          "output_type": "stream",
          "text": [
            "Loss=0.7452687621116638 Batch_id=390 Train Accuracy=74.91: 100%|██████████| 391/391 [00:27<00:00, 14.33it/s]"
          ],
          "name": "stderr"
        },
        {
          "output_type": "stream",
          "text": [
            "Train set: Epoch : 130/250 Average loss: 0.0000, Train Accuracy: 74.91\n"
          ],
          "name": "stdout"
        },
        {
          "output_type": "stream",
          "text": [
            "\n",
            "  0%|          | 0/391 [00:00<?, ?it/s]"
          ],
          "name": "stderr"
        },
        {
          "output_type": "stream",
          "text": [
            "Test set: Epoch : 130/250 Average loss: 0.4820, Test Accuracy: 83.5\n",
            "EPOCH: 131\n"
          ],
          "name": "stdout"
        },
        {
          "output_type": "stream",
          "text": [
            "Loss=0.678310215473175 Batch_id=390 Train Accuracy=74.79: 100%|██████████| 391/391 [00:27<00:00, 14.26it/s]"
          ],
          "name": "stderr"
        },
        {
          "output_type": "stream",
          "text": [
            "Train set: Epoch : 131/250 Average loss: 0.0000, Train Accuracy: 74.79\n"
          ],
          "name": "stdout"
        },
        {
          "output_type": "stream",
          "text": [
            "\n",
            "  0%|          | 0/391 [00:00<?, ?it/s]"
          ],
          "name": "stderr"
        },
        {
          "output_type": "stream",
          "text": [
            "Test set: Epoch : 131/250 Average loss: 0.4675, Test Accuracy: 84.26\n",
            "EPOCH: 132\n"
          ],
          "name": "stdout"
        },
        {
          "output_type": "stream",
          "text": [
            "Loss=0.7819269895553589 Batch_id=390 Train Accuracy=74.88: 100%|██████████| 391/391 [00:27<00:00, 14.27it/s]"
          ],
          "name": "stderr"
        },
        {
          "output_type": "stream",
          "text": [
            "Train set: Epoch : 132/250 Average loss: 0.0000, Train Accuracy: 74.88\n"
          ],
          "name": "stdout"
        },
        {
          "output_type": "stream",
          "text": [
            "\n",
            "  0%|          | 0/391 [00:00<?, ?it/s]"
          ],
          "name": "stderr"
        },
        {
          "output_type": "stream",
          "text": [
            "Test set: Epoch : 132/250 Average loss: 0.4667, Test Accuracy: 84.18\n",
            "EPOCH: 133\n"
          ],
          "name": "stdout"
        },
        {
          "output_type": "stream",
          "text": [
            "Loss=1.0159369707107544 Batch_id=390 Train Accuracy=74.87: 100%|██████████| 391/391 [00:27<00:00, 14.32it/s]"
          ],
          "name": "stderr"
        },
        {
          "output_type": "stream",
          "text": [
            "Train set: Epoch : 133/250 Average loss: 0.0000, Train Accuracy: 74.87\n"
          ],
          "name": "stdout"
        },
        {
          "output_type": "stream",
          "text": [
            "\n",
            "  0%|          | 0/391 [00:00<?, ?it/s]"
          ],
          "name": "stderr"
        },
        {
          "output_type": "stream",
          "text": [
            "Test set: Epoch : 133/250 Average loss: 0.4670, Test Accuracy: 83.93\n",
            "EPOCH: 134\n"
          ],
          "name": "stdout"
        },
        {
          "output_type": "stream",
          "text": [
            "Loss=0.5442180037498474 Batch_id=390 Train Accuracy=74.88: 100%|██████████| 391/391 [00:27<00:00, 14.27it/s]"
          ],
          "name": "stderr"
        },
        {
          "output_type": "stream",
          "text": [
            "Train set: Epoch : 134/250 Average loss: 0.0000, Train Accuracy: 74.88\n"
          ],
          "name": "stdout"
        },
        {
          "output_type": "stream",
          "text": [
            "\n",
            "  0%|          | 0/391 [00:00<?, ?it/s]"
          ],
          "name": "stderr"
        },
        {
          "output_type": "stream",
          "text": [
            "Test set: Epoch : 134/250 Average loss: 0.4627, Test Accuracy: 84.25\n",
            "EPOCH: 135\n"
          ],
          "name": "stdout"
        },
        {
          "output_type": "stream",
          "text": [
            "Loss=0.5721542239189148 Batch_id=390 Train Accuracy=74.62: 100%|██████████| 391/391 [00:27<00:00, 14.37it/s]"
          ],
          "name": "stderr"
        },
        {
          "output_type": "stream",
          "text": [
            "Train set: Epoch : 135/250 Average loss: 0.0000, Train Accuracy: 74.62\n"
          ],
          "name": "stdout"
        },
        {
          "output_type": "stream",
          "text": [
            "\n",
            "  0%|          | 0/391 [00:00<?, ?it/s]"
          ],
          "name": "stderr"
        },
        {
          "output_type": "stream",
          "text": [
            "Test set: Epoch : 135/250 Average loss: 0.4796, Test Accuracy: 83.44\n",
            "EPOCH: 136\n"
          ],
          "name": "stdout"
        },
        {
          "output_type": "stream",
          "text": [
            "Loss=0.7390528917312622 Batch_id=390 Train Accuracy=74.85: 100%|██████████| 391/391 [00:27<00:00, 14.27it/s]"
          ],
          "name": "stderr"
        },
        {
          "output_type": "stream",
          "text": [
            "Train set: Epoch : 136/250 Average loss: 0.0000, Train Accuracy: 74.85\n"
          ],
          "name": "stdout"
        },
        {
          "output_type": "stream",
          "text": [
            "\n",
            "  0%|          | 0/391 [00:00<?, ?it/s]"
          ],
          "name": "stderr"
        },
        {
          "output_type": "stream",
          "text": [
            "Test set: Epoch : 136/250 Average loss: 0.4682, Test Accuracy: 83.78\n",
            "EPOCH: 137\n"
          ],
          "name": "stdout"
        },
        {
          "output_type": "stream",
          "text": [
            "Loss=0.6823716163635254 Batch_id=390 Train Accuracy=75.10: 100%|██████████| 391/391 [00:27<00:00, 14.27it/s]"
          ],
          "name": "stderr"
        },
        {
          "output_type": "stream",
          "text": [
            "Train set: Epoch : 137/250 Average loss: 0.0000, Train Accuracy: 75.1\n"
          ],
          "name": "stdout"
        },
        {
          "output_type": "stream",
          "text": [
            "\n",
            "  0%|          | 0/391 [00:00<?, ?it/s]"
          ],
          "name": "stderr"
        },
        {
          "output_type": "stream",
          "text": [
            "Test set: Epoch : 137/250 Average loss: 0.4667, Test Accuracy: 84.22\n",
            "EPOCH: 138\n"
          ],
          "name": "stdout"
        },
        {
          "output_type": "stream",
          "text": [
            "Loss=0.7134315967559814 Batch_id=390 Train Accuracy=74.80: 100%|██████████| 391/391 [00:27<00:00, 14.31it/s]"
          ],
          "name": "stderr"
        },
        {
          "output_type": "stream",
          "text": [
            "Train set: Epoch : 138/250 Average loss: 0.0000, Train Accuracy: 74.8\n"
          ],
          "name": "stdout"
        },
        {
          "output_type": "stream",
          "text": [
            "\n",
            "  0%|          | 0/391 [00:00<?, ?it/s]"
          ],
          "name": "stderr"
        },
        {
          "output_type": "stream",
          "text": [
            "Test set: Epoch : 138/250 Average loss: 0.4591, Test Accuracy: 84.41\n",
            "EPOCH: 139\n"
          ],
          "name": "stdout"
        },
        {
          "output_type": "stream",
          "text": [
            "Loss=0.4553426504135132 Batch_id=390 Train Accuracy=74.87: 100%|██████████| 391/391 [00:27<00:00, 14.37it/s]"
          ],
          "name": "stderr"
        },
        {
          "output_type": "stream",
          "text": [
            "Train set: Epoch : 139/250 Average loss: 0.0000, Train Accuracy: 74.87\n"
          ],
          "name": "stdout"
        },
        {
          "output_type": "stream",
          "text": [
            "\n",
            "  0%|          | 0/391 [00:00<?, ?it/s]"
          ],
          "name": "stderr"
        },
        {
          "output_type": "stream",
          "text": [
            "Test set: Epoch : 139/250 Average loss: 0.4657, Test Accuracy: 84.32\n",
            "EPOCH: 140\n"
          ],
          "name": "stdout"
        },
        {
          "output_type": "stream",
          "text": [
            "Loss=0.5974631905555725 Batch_id=390 Train Accuracy=75.24: 100%|██████████| 391/391 [00:27<00:00, 14.34it/s]"
          ],
          "name": "stderr"
        },
        {
          "output_type": "stream",
          "text": [
            "Train set: Epoch : 140/250 Average loss: 0.0000, Train Accuracy: 75.24\n"
          ],
          "name": "stdout"
        },
        {
          "output_type": "stream",
          "text": [
            "\n",
            "  0%|          | 0/391 [00:00<?, ?it/s]"
          ],
          "name": "stderr"
        },
        {
          "output_type": "stream",
          "text": [
            "Test set: Epoch : 140/250 Average loss: 0.4700, Test Accuracy: 84.25\n",
            "EPOCH: 141\n"
          ],
          "name": "stdout"
        },
        {
          "output_type": "stream",
          "text": [
            "Loss=0.8342981934547424 Batch_id=390 Train Accuracy=75.18: 100%|██████████| 391/391 [00:27<00:00, 14.33it/s]"
          ],
          "name": "stderr"
        },
        {
          "output_type": "stream",
          "text": [
            "Train set: Epoch : 141/250 Average loss: 0.0000, Train Accuracy: 75.18\n"
          ],
          "name": "stdout"
        },
        {
          "output_type": "stream",
          "text": [
            "\n",
            "  0%|          | 0/391 [00:00<?, ?it/s]"
          ],
          "name": "stderr"
        },
        {
          "output_type": "stream",
          "text": [
            "Test set: Epoch : 141/250 Average loss: 0.4495, Test Accuracy: 84.66\n",
            "EPOCH: 142\n"
          ],
          "name": "stdout"
        },
        {
          "output_type": "stream",
          "text": [
            "Loss=0.6617952585220337 Batch_id=390 Train Accuracy=75.21: 100%|██████████| 391/391 [00:27<00:00, 14.33it/s]"
          ],
          "name": "stderr"
        },
        {
          "output_type": "stream",
          "text": [
            "Train set: Epoch : 142/250 Average loss: 0.0000, Train Accuracy: 75.21\n"
          ],
          "name": "stdout"
        },
        {
          "output_type": "stream",
          "text": [
            "\n",
            "  0%|          | 0/391 [00:00<?, ?it/s]"
          ],
          "name": "stderr"
        },
        {
          "output_type": "stream",
          "text": [
            "Test set: Epoch : 142/250 Average loss: 0.4581, Test Accuracy: 84.21\n",
            "EPOCH: 143\n"
          ],
          "name": "stdout"
        },
        {
          "output_type": "stream",
          "text": [
            "Loss=0.5636105537414551 Batch_id=390 Train Accuracy=75.15: 100%|██████████| 391/391 [00:27<00:00, 14.28it/s]"
          ],
          "name": "stderr"
        },
        {
          "output_type": "stream",
          "text": [
            "Train set: Epoch : 143/250 Average loss: 0.0000, Train Accuracy: 75.15\n"
          ],
          "name": "stdout"
        },
        {
          "output_type": "stream",
          "text": [
            "\n",
            "  0%|          | 0/391 [00:00<?, ?it/s]"
          ],
          "name": "stderr"
        },
        {
          "output_type": "stream",
          "text": [
            "Test set: Epoch : 143/250 Average loss: 0.4771, Test Accuracy: 83.69\n",
            "EPOCH: 144\n"
          ],
          "name": "stdout"
        },
        {
          "output_type": "stream",
          "text": [
            "Loss=0.413176029920578 Batch_id=390 Train Accuracy=75.48: 100%|██████████| 391/391 [00:27<00:00, 14.33it/s]"
          ],
          "name": "stderr"
        },
        {
          "output_type": "stream",
          "text": [
            "Train set: Epoch : 144/250 Average loss: 0.0000, Train Accuracy: 75.48\n"
          ],
          "name": "stdout"
        },
        {
          "output_type": "stream",
          "text": [
            "\n",
            "  0%|          | 0/391 [00:00<?, ?it/s]"
          ],
          "name": "stderr"
        },
        {
          "output_type": "stream",
          "text": [
            "Test set: Epoch : 144/250 Average loss: 0.4622, Test Accuracy: 84.22\n",
            "EPOCH: 145\n"
          ],
          "name": "stdout"
        },
        {
          "output_type": "stream",
          "text": [
            "Loss=0.7113848924636841 Batch_id=390 Train Accuracy=75.02: 100%|██████████| 391/391 [00:27<00:00, 14.23it/s]"
          ],
          "name": "stderr"
        },
        {
          "output_type": "stream",
          "text": [
            "Train set: Epoch : 145/250 Average loss: 0.0000, Train Accuracy: 75.02\n"
          ],
          "name": "stdout"
        },
        {
          "output_type": "stream",
          "text": [
            "\n",
            "  0%|          | 0/391 [00:00<?, ?it/s]"
          ],
          "name": "stderr"
        },
        {
          "output_type": "stream",
          "text": [
            "Test set: Epoch : 145/250 Average loss: 0.4635, Test Accuracy: 83.92\n",
            "EPOCH: 146\n"
          ],
          "name": "stdout"
        },
        {
          "output_type": "stream",
          "text": [
            "Loss=0.5691938996315002 Batch_id=390 Train Accuracy=75.16: 100%|██████████| 391/391 [00:27<00:00, 14.30it/s]"
          ],
          "name": "stderr"
        },
        {
          "output_type": "stream",
          "text": [
            "Train set: Epoch : 146/250 Average loss: 0.0000, Train Accuracy: 75.16\n"
          ],
          "name": "stdout"
        },
        {
          "output_type": "stream",
          "text": [
            "\n",
            "  0%|          | 0/391 [00:00<?, ?it/s]"
          ],
          "name": "stderr"
        },
        {
          "output_type": "stream",
          "text": [
            "Test set: Epoch : 146/250 Average loss: 0.4633, Test Accuracy: 84.04\n",
            "EPOCH: 147\n"
          ],
          "name": "stdout"
        },
        {
          "output_type": "stream",
          "text": [
            "Loss=0.7621931433677673 Batch_id=390 Train Accuracy=75.14: 100%|██████████| 391/391 [00:27<00:00, 14.27it/s]"
          ],
          "name": "stderr"
        },
        {
          "output_type": "stream",
          "text": [
            "Train set: Epoch : 147/250 Average loss: 0.0000, Train Accuracy: 75.14\n"
          ],
          "name": "stdout"
        },
        {
          "output_type": "stream",
          "text": [
            "\n",
            "  0%|          | 0/391 [00:00<?, ?it/s]"
          ],
          "name": "stderr"
        },
        {
          "output_type": "stream",
          "text": [
            "Test set: Epoch : 147/250 Average loss: 0.4544, Test Accuracy: 84.24\n",
            "EPOCH: 148\n"
          ],
          "name": "stdout"
        },
        {
          "output_type": "stream",
          "text": [
            "Loss=0.5778102874755859 Batch_id=390 Train Accuracy=75.13: 100%|██████████| 391/391 [00:27<00:00, 14.41it/s]"
          ],
          "name": "stderr"
        },
        {
          "output_type": "stream",
          "text": [
            "Train set: Epoch : 148/250 Average loss: 0.0000, Train Accuracy: 75.13\n"
          ],
          "name": "stdout"
        },
        {
          "output_type": "stream",
          "text": [
            "\n",
            "  0%|          | 0/391 [00:00<?, ?it/s]"
          ],
          "name": "stderr"
        },
        {
          "output_type": "stream",
          "text": [
            "Test set: Epoch : 148/250 Average loss: 0.4525, Test Accuracy: 84.4\n",
            "EPOCH: 149\n"
          ],
          "name": "stdout"
        },
        {
          "output_type": "stream",
          "text": [
            "Loss=0.7904022336006165 Batch_id=390 Train Accuracy=75.49: 100%|██████████| 391/391 [00:27<00:00, 14.23it/s]"
          ],
          "name": "stderr"
        },
        {
          "output_type": "stream",
          "text": [
            "Train set: Epoch : 149/250 Average loss: 0.0000, Train Accuracy: 75.49\n"
          ],
          "name": "stdout"
        },
        {
          "output_type": "stream",
          "text": [
            "\n",
            "  0%|          | 0/391 [00:00<?, ?it/s]"
          ],
          "name": "stderr"
        },
        {
          "output_type": "stream",
          "text": [
            "Test set: Epoch : 149/250 Average loss: 0.4597, Test Accuracy: 84.32\n",
            "EPOCH: 150\n"
          ],
          "name": "stdout"
        },
        {
          "output_type": "stream",
          "text": [
            "Loss=0.7599319219589233 Batch_id=390 Train Accuracy=75.64: 100%|██████████| 391/391 [00:27<00:00, 14.29it/s]"
          ],
          "name": "stderr"
        },
        {
          "output_type": "stream",
          "text": [
            "Train set: Epoch : 150/250 Average loss: 0.0000, Train Accuracy: 75.64\n"
          ],
          "name": "stdout"
        },
        {
          "output_type": "stream",
          "text": [
            "\n",
            "  0%|          | 0/391 [00:00<?, ?it/s]"
          ],
          "name": "stderr"
        },
        {
          "output_type": "stream",
          "text": [
            "Test set: Epoch : 150/250 Average loss: 0.4586, Test Accuracy: 83.94\n",
            "EPOCH: 151\n"
          ],
          "name": "stdout"
        },
        {
          "output_type": "stream",
          "text": [
            "Loss=0.5847035646438599 Batch_id=390 Train Accuracy=75.40: 100%|██████████| 391/391 [00:27<00:00, 14.23it/s]"
          ],
          "name": "stderr"
        },
        {
          "output_type": "stream",
          "text": [
            "Train set: Epoch : 151/250 Average loss: 0.0000, Train Accuracy: 75.4\n"
          ],
          "name": "stdout"
        },
        {
          "output_type": "stream",
          "text": [
            "\n",
            "  0%|          | 0/391 [00:00<?, ?it/s]"
          ],
          "name": "stderr"
        },
        {
          "output_type": "stream",
          "text": [
            "Test set: Epoch : 151/250 Average loss: 0.4565, Test Accuracy: 84.25\n",
            "EPOCH: 152\n"
          ],
          "name": "stdout"
        },
        {
          "output_type": "stream",
          "text": [
            "Loss=0.806186854839325 Batch_id=390 Train Accuracy=75.43: 100%|██████████| 391/391 [00:27<00:00, 14.31it/s]"
          ],
          "name": "stderr"
        },
        {
          "output_type": "stream",
          "text": [
            "Train set: Epoch : 152/250 Average loss: 0.0000, Train Accuracy: 75.43\n"
          ],
          "name": "stdout"
        },
        {
          "output_type": "stream",
          "text": [
            "\n",
            "  0%|          | 0/391 [00:00<?, ?it/s]"
          ],
          "name": "stderr"
        },
        {
          "output_type": "stream",
          "text": [
            "Test set: Epoch : 152/250 Average loss: 0.4497, Test Accuracy: 84.88\n",
            "EPOCH: 153\n"
          ],
          "name": "stdout"
        },
        {
          "output_type": "stream",
          "text": [
            "Loss=0.6297305226325989 Batch_id=390 Train Accuracy=75.42: 100%|██████████| 391/391 [00:27<00:00, 14.25it/s]"
          ],
          "name": "stderr"
        },
        {
          "output_type": "stream",
          "text": [
            "Train set: Epoch : 153/250 Average loss: 0.0000, Train Accuracy: 75.42\n"
          ],
          "name": "stdout"
        },
        {
          "output_type": "stream",
          "text": [
            "\n",
            "  0%|          | 0/391 [00:00<?, ?it/s]"
          ],
          "name": "stderr"
        },
        {
          "output_type": "stream",
          "text": [
            "Test set: Epoch : 153/250 Average loss: 0.4557, Test Accuracy: 84.57\n",
            "EPOCH: 154\n"
          ],
          "name": "stdout"
        },
        {
          "output_type": "stream",
          "text": [
            "Loss=0.9444127082824707 Batch_id=390 Train Accuracy=75.67: 100%|██████████| 391/391 [00:27<00:00, 14.29it/s]"
          ],
          "name": "stderr"
        },
        {
          "output_type": "stream",
          "text": [
            "Train set: Epoch : 154/250 Average loss: 0.0000, Train Accuracy: 75.67\n"
          ],
          "name": "stdout"
        },
        {
          "output_type": "stream",
          "text": [
            "\n",
            "  0%|          | 0/391 [00:00<?, ?it/s]"
          ],
          "name": "stderr"
        },
        {
          "output_type": "stream",
          "text": [
            "Test set: Epoch : 154/250 Average loss: 0.4477, Test Accuracy: 84.73\n",
            "EPOCH: 155\n"
          ],
          "name": "stdout"
        },
        {
          "output_type": "stream",
          "text": [
            "Loss=0.6986303329467773 Batch_id=390 Train Accuracy=75.56: 100%|██████████| 391/391 [00:27<00:00, 14.28it/s]"
          ],
          "name": "stderr"
        },
        {
          "output_type": "stream",
          "text": [
            "Train set: Epoch : 155/250 Average loss: 0.0000, Train Accuracy: 75.56\n"
          ],
          "name": "stdout"
        },
        {
          "output_type": "stream",
          "text": [
            "\n",
            "  0%|          | 0/391 [00:00<?, ?it/s]"
          ],
          "name": "stderr"
        },
        {
          "output_type": "stream",
          "text": [
            "Test set: Epoch : 155/250 Average loss: 0.4556, Test Accuracy: 84.37\n",
            "EPOCH: 156\n"
          ],
          "name": "stdout"
        },
        {
          "output_type": "stream",
          "text": [
            "Loss=0.7960585951805115 Batch_id=390 Train Accuracy=75.34: 100%|██████████| 391/391 [00:27<00:00, 14.26it/s]"
          ],
          "name": "stderr"
        },
        {
          "output_type": "stream",
          "text": [
            "Train set: Epoch : 156/250 Average loss: 0.0000, Train Accuracy: 75.34\n"
          ],
          "name": "stdout"
        },
        {
          "output_type": "stream",
          "text": [
            "\n",
            "  0%|          | 0/391 [00:00<?, ?it/s]"
          ],
          "name": "stderr"
        },
        {
          "output_type": "stream",
          "text": [
            "Test set: Epoch : 156/250 Average loss: 0.4587, Test Accuracy: 84.4\n",
            "EPOCH: 157\n"
          ],
          "name": "stdout"
        },
        {
          "output_type": "stream",
          "text": [
            "Loss=0.46042710542678833 Batch_id=390 Train Accuracy=75.82: 100%|██████████| 391/391 [00:27<00:00, 14.24it/s]"
          ],
          "name": "stderr"
        },
        {
          "output_type": "stream",
          "text": [
            "Train set: Epoch : 157/250 Average loss: 0.0000, Train Accuracy: 75.82\n"
          ],
          "name": "stdout"
        },
        {
          "output_type": "stream",
          "text": [
            "\n",
            "  0%|          | 0/391 [00:00<?, ?it/s]"
          ],
          "name": "stderr"
        },
        {
          "output_type": "stream",
          "text": [
            "Test set: Epoch : 157/250 Average loss: 0.4595, Test Accuracy: 84.34\n",
            "EPOCH: 158\n"
          ],
          "name": "stdout"
        },
        {
          "output_type": "stream",
          "text": [
            "Loss=0.7212778329849243 Batch_id=390 Train Accuracy=75.41: 100%|██████████| 391/391 [00:27<00:00, 14.28it/s]"
          ],
          "name": "stderr"
        },
        {
          "output_type": "stream",
          "text": [
            "Train set: Epoch : 158/250 Average loss: 0.0000, Train Accuracy: 75.41\n"
          ],
          "name": "stdout"
        },
        {
          "output_type": "stream",
          "text": [
            "\n",
            "  0%|          | 0/391 [00:00<?, ?it/s]"
          ],
          "name": "stderr"
        },
        {
          "output_type": "stream",
          "text": [
            "Test set: Epoch : 158/250 Average loss: 0.4543, Test Accuracy: 84.51\n",
            "EPOCH: 159\n"
          ],
          "name": "stdout"
        },
        {
          "output_type": "stream",
          "text": [
            "Loss=0.7406038641929626 Batch_id=390 Train Accuracy=75.39: 100%|██████████| 391/391 [00:27<00:00, 14.21it/s]"
          ],
          "name": "stderr"
        },
        {
          "output_type": "stream",
          "text": [
            "Train set: Epoch : 159/250 Average loss: 0.0000, Train Accuracy: 75.39\n"
          ],
          "name": "stdout"
        },
        {
          "output_type": "stream",
          "text": [
            "\n",
            "  0%|          | 0/391 [00:00<?, ?it/s]"
          ],
          "name": "stderr"
        },
        {
          "output_type": "stream",
          "text": [
            "Test set: Epoch : 159/250 Average loss: 0.4508, Test Accuracy: 84.53\n",
            "EPOCH: 160\n"
          ],
          "name": "stdout"
        },
        {
          "output_type": "stream",
          "text": [
            "Loss=0.6744380593299866 Batch_id=390 Train Accuracy=75.42: 100%|██████████| 391/391 [00:27<00:00, 14.29it/s]"
          ],
          "name": "stderr"
        },
        {
          "output_type": "stream",
          "text": [
            "Train set: Epoch : 160/250 Average loss: 0.0000, Train Accuracy: 75.42\n"
          ],
          "name": "stdout"
        },
        {
          "output_type": "stream",
          "text": [
            "\n",
            "  0%|          | 0/391 [00:00<?, ?it/s]"
          ],
          "name": "stderr"
        },
        {
          "output_type": "stream",
          "text": [
            "Test set: Epoch : 160/250 Average loss: 0.4624, Test Accuracy: 84.36\n",
            "EPOCH: 161\n"
          ],
          "name": "stdout"
        },
        {
          "output_type": "stream",
          "text": [
            "Loss=0.7520222067832947 Batch_id=390 Train Accuracy=75.67: 100%|██████████| 391/391 [00:27<00:00, 14.26it/s]"
          ],
          "name": "stderr"
        },
        {
          "output_type": "stream",
          "text": [
            "Train set: Epoch : 161/250 Average loss: 0.0000, Train Accuracy: 75.67\n"
          ],
          "name": "stdout"
        },
        {
          "output_type": "stream",
          "text": [
            "\n",
            "  0%|          | 0/391 [00:00<?, ?it/s]"
          ],
          "name": "stderr"
        },
        {
          "output_type": "stream",
          "text": [
            "Test set: Epoch : 161/250 Average loss: 0.4525, Test Accuracy: 84.69\n",
            "EPOCH: 162\n"
          ],
          "name": "stdout"
        },
        {
          "output_type": "stream",
          "text": [
            "Loss=0.6506035923957825 Batch_id=390 Train Accuracy=75.86: 100%|██████████| 391/391 [00:27<00:00, 14.21it/s]"
          ],
          "name": "stderr"
        },
        {
          "output_type": "stream",
          "text": [
            "Train set: Epoch : 162/250 Average loss: 0.0000, Train Accuracy: 75.86\n"
          ],
          "name": "stdout"
        },
        {
          "output_type": "stream",
          "text": [
            "\n",
            "  0%|          | 0/391 [00:00<?, ?it/s]"
          ],
          "name": "stderr"
        },
        {
          "output_type": "stream",
          "text": [
            "Test set: Epoch : 162/250 Average loss: 0.4577, Test Accuracy: 84.41\n",
            "EPOCH: 163\n"
          ],
          "name": "stdout"
        },
        {
          "output_type": "stream",
          "text": [
            "Loss=0.5864382386207581 Batch_id=390 Train Accuracy=76.04: 100%|██████████| 391/391 [00:27<00:00, 14.28it/s]"
          ],
          "name": "stderr"
        },
        {
          "output_type": "stream",
          "text": [
            "Train set: Epoch : 163/250 Average loss: 0.0000, Train Accuracy: 76.04\n"
          ],
          "name": "stdout"
        },
        {
          "output_type": "stream",
          "text": [
            "\n",
            "  0%|          | 0/391 [00:00<?, ?it/s]"
          ],
          "name": "stderr"
        },
        {
          "output_type": "stream",
          "text": [
            "Test set: Epoch : 163/250 Average loss: 0.4450, Test Accuracy: 84.53\n",
            "EPOCH: 164\n"
          ],
          "name": "stdout"
        },
        {
          "output_type": "stream",
          "text": [
            "Loss=0.7350832223892212 Batch_id=390 Train Accuracy=75.54: 100%|██████████| 391/391 [00:27<00:00, 14.31it/s]"
          ],
          "name": "stderr"
        },
        {
          "output_type": "stream",
          "text": [
            "Train set: Epoch : 164/250 Average loss: 0.0000, Train Accuracy: 75.54\n"
          ],
          "name": "stdout"
        },
        {
          "output_type": "stream",
          "text": [
            "\n",
            "  0%|          | 0/391 [00:00<?, ?it/s]"
          ],
          "name": "stderr"
        },
        {
          "output_type": "stream",
          "text": [
            "Test set: Epoch : 164/250 Average loss: 0.4616, Test Accuracy: 84.16\n",
            "EPOCH: 165\n"
          ],
          "name": "stdout"
        },
        {
          "output_type": "stream",
          "text": [
            "Loss=0.7351696491241455 Batch_id=390 Train Accuracy=75.75: 100%|██████████| 391/391 [00:27<00:00, 14.25it/s]"
          ],
          "name": "stderr"
        },
        {
          "output_type": "stream",
          "text": [
            "Train set: Epoch : 165/250 Average loss: 0.0000, Train Accuracy: 75.75\n"
          ],
          "name": "stdout"
        },
        {
          "output_type": "stream",
          "text": [
            "\n",
            "  0%|          | 0/391 [00:00<?, ?it/s]"
          ],
          "name": "stderr"
        },
        {
          "output_type": "stream",
          "text": [
            "Test set: Epoch : 165/250 Average loss: 0.4491, Test Accuracy: 84.76\n",
            "EPOCH: 166\n"
          ],
          "name": "stdout"
        },
        {
          "output_type": "stream",
          "text": [
            "Loss=0.8151024580001831 Batch_id=390 Train Accuracy=75.51: 100%|██████████| 391/391 [00:27<00:00, 14.22it/s]"
          ],
          "name": "stderr"
        },
        {
          "output_type": "stream",
          "text": [
            "Train set: Epoch : 166/250 Average loss: 0.0000, Train Accuracy: 75.51\n"
          ],
          "name": "stdout"
        },
        {
          "output_type": "stream",
          "text": [
            "\n",
            "  0%|          | 0/391 [00:00<?, ?it/s]"
          ],
          "name": "stderr"
        },
        {
          "output_type": "stream",
          "text": [
            "Test set: Epoch : 166/250 Average loss: 0.4488, Test Accuracy: 84.83\n",
            "EPOCH: 167\n"
          ],
          "name": "stdout"
        },
        {
          "output_type": "stream",
          "text": [
            "Loss=0.6306158900260925 Batch_id=390 Train Accuracy=75.74: 100%|██████████| 391/391 [00:27<00:00, 14.21it/s]"
          ],
          "name": "stderr"
        },
        {
          "output_type": "stream",
          "text": [
            "Train set: Epoch : 167/250 Average loss: 0.0000, Train Accuracy: 75.74\n"
          ],
          "name": "stdout"
        },
        {
          "output_type": "stream",
          "text": [
            "\n",
            "  0%|          | 0/391 [00:00<?, ?it/s]"
          ],
          "name": "stderr"
        },
        {
          "output_type": "stream",
          "text": [
            "Test set: Epoch : 167/250 Average loss: 0.4425, Test Accuracy: 85.13\n",
            "EPOCH: 168\n"
          ],
          "name": "stdout"
        },
        {
          "output_type": "stream",
          "text": [
            "Loss=0.7430211901664734 Batch_id=390 Train Accuracy=75.85: 100%|██████████| 391/391 [00:27<00:00, 14.20it/s]"
          ],
          "name": "stderr"
        },
        {
          "output_type": "stream",
          "text": [
            "Train set: Epoch : 168/250 Average loss: 0.0000, Train Accuracy: 75.85\n"
          ],
          "name": "stdout"
        },
        {
          "output_type": "stream",
          "text": [
            "\n",
            "  0%|          | 0/391 [00:00<?, ?it/s]"
          ],
          "name": "stderr"
        },
        {
          "output_type": "stream",
          "text": [
            "Test set: Epoch : 168/250 Average loss: 0.4430, Test Accuracy: 84.94\n",
            "EPOCH: 169\n"
          ],
          "name": "stdout"
        },
        {
          "output_type": "stream",
          "text": [
            "Loss=0.5692585706710815 Batch_id=390 Train Accuracy=76.05: 100%|██████████| 391/391 [00:27<00:00, 14.19it/s]"
          ],
          "name": "stderr"
        },
        {
          "output_type": "stream",
          "text": [
            "Train set: Epoch : 169/250 Average loss: 0.0000, Train Accuracy: 76.05\n"
          ],
          "name": "stdout"
        },
        {
          "output_type": "stream",
          "text": [
            "\n",
            "  0%|          | 0/391 [00:00<?, ?it/s]"
          ],
          "name": "stderr"
        },
        {
          "output_type": "stream",
          "text": [
            "Test set: Epoch : 169/250 Average loss: 0.4593, Test Accuracy: 84.37\n",
            "EPOCH: 170\n"
          ],
          "name": "stdout"
        },
        {
          "output_type": "stream",
          "text": [
            "Loss=0.896247148513794 Batch_id=390 Train Accuracy=75.83: 100%|██████████| 391/391 [00:27<00:00, 14.18it/s]"
          ],
          "name": "stderr"
        },
        {
          "output_type": "stream",
          "text": [
            "Train set: Epoch : 170/250 Average loss: 0.0000, Train Accuracy: 75.83\n"
          ],
          "name": "stdout"
        },
        {
          "output_type": "stream",
          "text": [
            "\n",
            "  0%|          | 0/391 [00:00<?, ?it/s]"
          ],
          "name": "stderr"
        },
        {
          "output_type": "stream",
          "text": [
            "Test set: Epoch : 170/250 Average loss: 0.4466, Test Accuracy: 84.78\n",
            "EPOCH: 171\n"
          ],
          "name": "stdout"
        },
        {
          "output_type": "stream",
          "text": [
            "Loss=0.423225462436676 Batch_id=390 Train Accuracy=75.87: 100%|██████████| 391/391 [00:27<00:00, 14.25it/s]"
          ],
          "name": "stderr"
        },
        {
          "output_type": "stream",
          "text": [
            "Train set: Epoch : 171/250 Average loss: 0.0000, Train Accuracy: 75.87\n"
          ],
          "name": "stdout"
        },
        {
          "output_type": "stream",
          "text": [
            "\n",
            "  0%|          | 0/391 [00:00<?, ?it/s]"
          ],
          "name": "stderr"
        },
        {
          "output_type": "stream",
          "text": [
            "Test set: Epoch : 171/250 Average loss: 0.4460, Test Accuracy: 85.11\n",
            "EPOCH: 172\n"
          ],
          "name": "stdout"
        },
        {
          "output_type": "stream",
          "text": [
            "Loss=0.6197258830070496 Batch_id=390 Train Accuracy=75.96: 100%|██████████| 391/391 [00:27<00:00, 14.28it/s]"
          ],
          "name": "stderr"
        },
        {
          "output_type": "stream",
          "text": [
            "Train set: Epoch : 172/250 Average loss: 0.0000, Train Accuracy: 75.96\n"
          ],
          "name": "stdout"
        },
        {
          "output_type": "stream",
          "text": [
            "\n",
            "  0%|          | 0/391 [00:00<?, ?it/s]"
          ],
          "name": "stderr"
        },
        {
          "output_type": "stream",
          "text": [
            "Test set: Epoch : 172/250 Average loss: 0.4468, Test Accuracy: 84.64\n",
            "EPOCH: 173\n"
          ],
          "name": "stdout"
        },
        {
          "output_type": "stream",
          "text": [
            "Loss=0.687525749206543 Batch_id=390 Train Accuracy=75.95: 100%|██████████| 391/391 [00:27<00:00, 14.27it/s]"
          ],
          "name": "stderr"
        },
        {
          "output_type": "stream",
          "text": [
            "Train set: Epoch : 173/250 Average loss: 0.0000, Train Accuracy: 75.95\n"
          ],
          "name": "stdout"
        },
        {
          "output_type": "stream",
          "text": [
            "\n",
            "  0%|          | 0/391 [00:00<?, ?it/s]"
          ],
          "name": "stderr"
        },
        {
          "output_type": "stream",
          "text": [
            "Test set: Epoch : 173/250 Average loss: 0.4407, Test Accuracy: 85.04\n",
            "EPOCH: 174\n"
          ],
          "name": "stdout"
        },
        {
          "output_type": "stream",
          "text": [
            "Loss=0.6431347131729126 Batch_id=390 Train Accuracy=75.88: 100%|██████████| 391/391 [00:27<00:00, 14.19it/s]"
          ],
          "name": "stderr"
        },
        {
          "output_type": "stream",
          "text": [
            "Train set: Epoch : 174/250 Average loss: 0.0000, Train Accuracy: 75.88\n"
          ],
          "name": "stdout"
        },
        {
          "output_type": "stream",
          "text": [
            "\n",
            "  0%|          | 0/391 [00:00<?, ?it/s]"
          ],
          "name": "stderr"
        },
        {
          "output_type": "stream",
          "text": [
            "Test set: Epoch : 174/250 Average loss: 0.4509, Test Accuracy: 84.79\n",
            "EPOCH: 175\n"
          ],
          "name": "stdout"
        },
        {
          "output_type": "stream",
          "text": [
            "Loss=0.8251705169677734 Batch_id=390 Train Accuracy=76.04: 100%|██████████| 391/391 [00:27<00:00, 14.22it/s]"
          ],
          "name": "stderr"
        },
        {
          "output_type": "stream",
          "text": [
            "Train set: Epoch : 175/250 Average loss: 0.0000, Train Accuracy: 76.04\n"
          ],
          "name": "stdout"
        },
        {
          "output_type": "stream",
          "text": [
            "\n",
            "  0%|          | 0/391 [00:00<?, ?it/s]"
          ],
          "name": "stderr"
        },
        {
          "output_type": "stream",
          "text": [
            "Test set: Epoch : 175/250 Average loss: 0.4312, Test Accuracy: 85.45\n",
            "EPOCH: 176\n"
          ],
          "name": "stdout"
        },
        {
          "output_type": "stream",
          "text": [
            "Loss=0.7632176280021667 Batch_id=390 Train Accuracy=76.20: 100%|██████████| 391/391 [00:27<00:00, 14.30it/s]"
          ],
          "name": "stderr"
        },
        {
          "output_type": "stream",
          "text": [
            "Train set: Epoch : 176/250 Average loss: 0.0000, Train Accuracy: 76.2\n"
          ],
          "name": "stdout"
        },
        {
          "output_type": "stream",
          "text": [
            "\n",
            "  0%|          | 0/391 [00:00<?, ?it/s]"
          ],
          "name": "stderr"
        },
        {
          "output_type": "stream",
          "text": [
            "Test set: Epoch : 176/250 Average loss: 0.4398, Test Accuracy: 84.87\n",
            "EPOCH: 177\n"
          ],
          "name": "stdout"
        },
        {
          "output_type": "stream",
          "text": [
            "Loss=0.84700608253479 Batch_id=390 Train Accuracy=75.97: 100%|██████████| 391/391 [00:27<00:00, 14.21it/s]"
          ],
          "name": "stderr"
        },
        {
          "output_type": "stream",
          "text": [
            "Train set: Epoch : 177/250 Average loss: 0.0000, Train Accuracy: 75.97\n"
          ],
          "name": "stdout"
        },
        {
          "output_type": "stream",
          "text": [
            "\n",
            "  0%|          | 0/391 [00:00<?, ?it/s]"
          ],
          "name": "stderr"
        },
        {
          "output_type": "stream",
          "text": [
            "Test set: Epoch : 177/250 Average loss: 0.4450, Test Accuracy: 84.74\n",
            "EPOCH: 178\n"
          ],
          "name": "stdout"
        },
        {
          "output_type": "stream",
          "text": [
            "Loss=0.6706523299217224 Batch_id=390 Train Accuracy=76.15: 100%|██████████| 391/391 [00:27<00:00, 14.21it/s]"
          ],
          "name": "stderr"
        },
        {
          "output_type": "stream",
          "text": [
            "Train set: Epoch : 178/250 Average loss: 0.0000, Train Accuracy: 76.15\n"
          ],
          "name": "stdout"
        },
        {
          "output_type": "stream",
          "text": [
            "\n",
            "  0%|          | 0/391 [00:00<?, ?it/s]"
          ],
          "name": "stderr"
        },
        {
          "output_type": "stream",
          "text": [
            "Test set: Epoch : 178/250 Average loss: 0.4423, Test Accuracy: 84.83\n",
            "EPOCH: 179\n"
          ],
          "name": "stdout"
        },
        {
          "output_type": "stream",
          "text": [
            "Loss=0.7054709196090698 Batch_id=390 Train Accuracy=76.26: 100%|██████████| 391/391 [00:27<00:00, 14.21it/s]"
          ],
          "name": "stderr"
        },
        {
          "output_type": "stream",
          "text": [
            "Train set: Epoch : 179/250 Average loss: 0.0000, Train Accuracy: 76.26\n"
          ],
          "name": "stdout"
        },
        {
          "output_type": "stream",
          "text": [
            "\n",
            "  0%|          | 0/391 [00:00<?, ?it/s]"
          ],
          "name": "stderr"
        },
        {
          "output_type": "stream",
          "text": [
            "Test set: Epoch : 179/250 Average loss: 0.4380, Test Accuracy: 84.99\n",
            "EPOCH: 180\n"
          ],
          "name": "stdout"
        },
        {
          "output_type": "stream",
          "text": [
            "Loss=0.7666833400726318 Batch_id=390 Train Accuracy=76.45: 100%|██████████| 391/391 [00:27<00:00, 14.23it/s]"
          ],
          "name": "stderr"
        },
        {
          "output_type": "stream",
          "text": [
            "Train set: Epoch : 180/250 Average loss: 0.0000, Train Accuracy: 76.45\n"
          ],
          "name": "stdout"
        },
        {
          "output_type": "stream",
          "text": [
            "\n",
            "  0%|          | 0/391 [00:00<?, ?it/s]"
          ],
          "name": "stderr"
        },
        {
          "output_type": "stream",
          "text": [
            "Test set: Epoch : 180/250 Average loss: 0.4419, Test Accuracy: 84.89\n",
            "EPOCH: 181\n"
          ],
          "name": "stdout"
        },
        {
          "output_type": "stream",
          "text": [
            "Loss=0.6439489126205444 Batch_id=390 Train Accuracy=76.27: 100%|██████████| 391/391 [00:27<00:00, 14.25it/s]"
          ],
          "name": "stderr"
        },
        {
          "output_type": "stream",
          "text": [
            "Train set: Epoch : 181/250 Average loss: 0.0000, Train Accuracy: 76.27\n"
          ],
          "name": "stdout"
        },
        {
          "output_type": "stream",
          "text": [
            "\n",
            "  0%|          | 0/391 [00:00<?, ?it/s]"
          ],
          "name": "stderr"
        },
        {
          "output_type": "stream",
          "text": [
            "Test set: Epoch : 181/250 Average loss: 0.4444, Test Accuracy: 84.81\n",
            "EPOCH: 182\n"
          ],
          "name": "stdout"
        },
        {
          "output_type": "stream",
          "text": [
            "Loss=0.6561144590377808 Batch_id=390 Train Accuracy=76.10: 100%|██████████| 391/391 [00:27<00:00, 14.26it/s]"
          ],
          "name": "stderr"
        },
        {
          "output_type": "stream",
          "text": [
            "Train set: Epoch : 182/250 Average loss: 0.0000, Train Accuracy: 76.1\n"
          ],
          "name": "stdout"
        },
        {
          "output_type": "stream",
          "text": [
            "\n",
            "  0%|          | 0/391 [00:00<?, ?it/s]"
          ],
          "name": "stderr"
        },
        {
          "output_type": "stream",
          "text": [
            "Test set: Epoch : 182/250 Average loss: 0.4430, Test Accuracy: 84.77\n",
            "EPOCH: 183\n"
          ],
          "name": "stdout"
        },
        {
          "output_type": "stream",
          "text": [
            "Loss=0.8044605851173401 Batch_id=390 Train Accuracy=76.42: 100%|██████████| 391/391 [00:27<00:00, 14.26it/s]"
          ],
          "name": "stderr"
        },
        {
          "output_type": "stream",
          "text": [
            "Train set: Epoch : 183/250 Average loss: 0.0000, Train Accuracy: 76.42\n"
          ],
          "name": "stdout"
        },
        {
          "output_type": "stream",
          "text": [
            "\n",
            "  0%|          | 0/391 [00:00<?, ?it/s]"
          ],
          "name": "stderr"
        },
        {
          "output_type": "stream",
          "text": [
            "Test set: Epoch : 183/250 Average loss: 0.4448, Test Accuracy: 84.56\n",
            "EPOCH: 184\n"
          ],
          "name": "stdout"
        },
        {
          "output_type": "stream",
          "text": [
            "Loss=0.9808054566383362 Batch_id=390 Train Accuracy=76.28: 100%|██████████| 391/391 [00:27<00:00, 14.22it/s]"
          ],
          "name": "stderr"
        },
        {
          "output_type": "stream",
          "text": [
            "Train set: Epoch : 184/250 Average loss: 0.0000, Train Accuracy: 76.28\n"
          ],
          "name": "stdout"
        },
        {
          "output_type": "stream",
          "text": [
            "\n",
            "  0%|          | 0/391 [00:00<?, ?it/s]"
          ],
          "name": "stderr"
        },
        {
          "output_type": "stream",
          "text": [
            "Test set: Epoch : 184/250 Average loss: 0.4546, Test Accuracy: 84.56\n",
            "EPOCH: 185\n"
          ],
          "name": "stdout"
        },
        {
          "output_type": "stream",
          "text": [
            "Loss=0.800990641117096 Batch_id=390 Train Accuracy=76.52: 100%|██████████| 391/391 [00:27<00:00, 14.25it/s]"
          ],
          "name": "stderr"
        },
        {
          "output_type": "stream",
          "text": [
            "Train set: Epoch : 185/250 Average loss: 0.0000, Train Accuracy: 76.52\n"
          ],
          "name": "stdout"
        },
        {
          "output_type": "stream",
          "text": [
            "\n",
            "  0%|          | 0/391 [00:00<?, ?it/s]"
          ],
          "name": "stderr"
        },
        {
          "output_type": "stream",
          "text": [
            "Test set: Epoch : 185/250 Average loss: 0.4444, Test Accuracy: 85.18\n",
            "EPOCH: 186\n"
          ],
          "name": "stdout"
        },
        {
          "output_type": "stream",
          "text": [
            "Loss=0.9881346821784973 Batch_id=390 Train Accuracy=76.45: 100%|██████████| 391/391 [00:27<00:00, 14.24it/s]"
          ],
          "name": "stderr"
        },
        {
          "output_type": "stream",
          "text": [
            "Train set: Epoch : 186/250 Average loss: 0.0000, Train Accuracy: 76.45\n"
          ],
          "name": "stdout"
        },
        {
          "output_type": "stream",
          "text": [
            "\n",
            "  0%|          | 0/391 [00:00<?, ?it/s]"
          ],
          "name": "stderr"
        },
        {
          "output_type": "stream",
          "text": [
            "Test set: Epoch : 186/250 Average loss: 0.4402, Test Accuracy: 85.17\n",
            "EPOCH: 187\n"
          ],
          "name": "stdout"
        },
        {
          "output_type": "stream",
          "text": [
            "Loss=0.7438812851905823 Batch_id=390 Train Accuracy=76.36: 100%|██████████| 391/391 [00:27<00:00, 14.21it/s]"
          ],
          "name": "stderr"
        },
        {
          "output_type": "stream",
          "text": [
            "Train set: Epoch : 187/250 Average loss: 0.0000, Train Accuracy: 76.36\n"
          ],
          "name": "stdout"
        },
        {
          "output_type": "stream",
          "text": [
            "\n",
            "  0%|          | 0/391 [00:00<?, ?it/s]"
          ],
          "name": "stderr"
        },
        {
          "output_type": "stream",
          "text": [
            "Test set: Epoch : 187/250 Average loss: 0.4350, Test Accuracy: 85.03\n",
            "EPOCH: 188\n"
          ],
          "name": "stdout"
        },
        {
          "output_type": "stream",
          "text": [
            "Loss=0.5059888958930969 Batch_id=390 Train Accuracy=76.27: 100%|██████████| 391/391 [00:27<00:00, 14.18it/s]"
          ],
          "name": "stderr"
        },
        {
          "output_type": "stream",
          "text": [
            "Train set: Epoch : 188/250 Average loss: 0.0000, Train Accuracy: 76.27\n"
          ],
          "name": "stdout"
        },
        {
          "output_type": "stream",
          "text": [
            "\n",
            "  0%|          | 0/391 [00:00<?, ?it/s]"
          ],
          "name": "stderr"
        },
        {
          "output_type": "stream",
          "text": [
            "Test set: Epoch : 188/250 Average loss: 0.4365, Test Accuracy: 84.97\n",
            "EPOCH: 189\n"
          ],
          "name": "stdout"
        },
        {
          "output_type": "stream",
          "text": [
            "Loss=0.5436952114105225 Batch_id=390 Train Accuracy=76.41: 100%|██████████| 391/391 [00:27<00:00, 14.16it/s]"
          ],
          "name": "stderr"
        },
        {
          "output_type": "stream",
          "text": [
            "Train set: Epoch : 189/250 Average loss: 0.0000, Train Accuracy: 76.41\n"
          ],
          "name": "stdout"
        },
        {
          "output_type": "stream",
          "text": [
            "\n",
            "  0%|          | 0/391 [00:00<?, ?it/s]"
          ],
          "name": "stderr"
        },
        {
          "output_type": "stream",
          "text": [
            "Test set: Epoch : 189/250 Average loss: 0.4432, Test Accuracy: 84.71\n",
            "EPOCH: 190\n"
          ],
          "name": "stdout"
        },
        {
          "output_type": "stream",
          "text": [
            "Loss=1.0398871898651123 Batch_id=390 Train Accuracy=76.36: 100%|██████████| 391/391 [00:27<00:00, 14.23it/s]"
          ],
          "name": "stderr"
        },
        {
          "output_type": "stream",
          "text": [
            "Train set: Epoch : 190/250 Average loss: 0.0000, Train Accuracy: 76.36\n"
          ],
          "name": "stdout"
        },
        {
          "output_type": "stream",
          "text": [
            "\n",
            "  0%|          | 0/391 [00:00<?, ?it/s]"
          ],
          "name": "stderr"
        },
        {
          "output_type": "stream",
          "text": [
            "Test set: Epoch : 190/250 Average loss: 0.4301, Test Accuracy: 85.43\n",
            "EPOCH: 191\n"
          ],
          "name": "stdout"
        },
        {
          "output_type": "stream",
          "text": [
            "Loss=0.7492914795875549 Batch_id=390 Train Accuracy=76.35: 100%|██████████| 391/391 [00:27<00:00, 14.23it/s]"
          ],
          "name": "stderr"
        },
        {
          "output_type": "stream",
          "text": [
            "Train set: Epoch : 191/250 Average loss: 0.0000, Train Accuracy: 76.35\n"
          ],
          "name": "stdout"
        },
        {
          "output_type": "stream",
          "text": [
            "\n",
            "  0%|          | 0/391 [00:00<?, ?it/s]"
          ],
          "name": "stderr"
        },
        {
          "output_type": "stream",
          "text": [
            "Test set: Epoch : 191/250 Average loss: 0.4312, Test Accuracy: 85.2\n",
            "EPOCH: 192\n"
          ],
          "name": "stdout"
        },
        {
          "output_type": "stream",
          "text": [
            "Loss=1.0211379528045654 Batch_id=390 Train Accuracy=76.46: 100%|██████████| 391/391 [00:27<00:00, 14.17it/s]"
          ],
          "name": "stderr"
        },
        {
          "output_type": "stream",
          "text": [
            "Train set: Epoch : 192/250 Average loss: 0.0000, Train Accuracy: 76.46\n"
          ],
          "name": "stdout"
        },
        {
          "output_type": "stream",
          "text": [
            "\n",
            "  0%|          | 0/391 [00:00<?, ?it/s]"
          ],
          "name": "stderr"
        },
        {
          "output_type": "stream",
          "text": [
            "Test set: Epoch : 192/250 Average loss: 0.4531, Test Accuracy: 84.58\n",
            "EPOCH: 193\n"
          ],
          "name": "stdout"
        },
        {
          "output_type": "stream",
          "text": [
            "Loss=0.8070992827415466 Batch_id=390 Train Accuracy=76.41: 100%|██████████| 391/391 [00:27<00:00, 14.15it/s]"
          ],
          "name": "stderr"
        },
        {
          "output_type": "stream",
          "text": [
            "Train set: Epoch : 193/250 Average loss: 0.0000, Train Accuracy: 76.41\n"
          ],
          "name": "stdout"
        },
        {
          "output_type": "stream",
          "text": [
            "\n",
            "  0%|          | 0/391 [00:00<?, ?it/s]"
          ],
          "name": "stderr"
        },
        {
          "output_type": "stream",
          "text": [
            "Test set: Epoch : 193/250 Average loss: 0.4505, Test Accuracy: 84.62\n",
            "EPOCH: 194\n"
          ],
          "name": "stdout"
        },
        {
          "output_type": "stream",
          "text": [
            "Loss=0.7872334122657776 Batch_id=390 Train Accuracy=76.43: 100%|██████████| 391/391 [00:27<00:00, 14.22it/s]"
          ],
          "name": "stderr"
        },
        {
          "output_type": "stream",
          "text": [
            "Train set: Epoch : 194/250 Average loss: 0.0000, Train Accuracy: 76.43\n"
          ],
          "name": "stdout"
        },
        {
          "output_type": "stream",
          "text": [
            "\n",
            "  0%|          | 0/391 [00:00<?, ?it/s]"
          ],
          "name": "stderr"
        },
        {
          "output_type": "stream",
          "text": [
            "Test set: Epoch : 194/250 Average loss: 0.4335, Test Accuracy: 85.28\n",
            "EPOCH: 195\n"
          ],
          "name": "stdout"
        },
        {
          "output_type": "stream",
          "text": [
            "Loss=0.6469303965568542 Batch_id=390 Train Accuracy=76.81: 100%|██████████| 391/391 [00:27<00:00, 14.19it/s]"
          ],
          "name": "stderr"
        },
        {
          "output_type": "stream",
          "text": [
            "Train set: Epoch : 195/250 Average loss: 0.0000, Train Accuracy: 76.81\n"
          ],
          "name": "stdout"
        },
        {
          "output_type": "stream",
          "text": [
            "\n",
            "  0%|          | 0/391 [00:00<?, ?it/s]"
          ],
          "name": "stderr"
        },
        {
          "output_type": "stream",
          "text": [
            "Test set: Epoch : 195/250 Average loss: 0.4434, Test Accuracy: 84.98\n",
            "EPOCH: 196\n"
          ],
          "name": "stdout"
        },
        {
          "output_type": "stream",
          "text": [
            "Loss=0.7958055734634399 Batch_id=390 Train Accuracy=76.43: 100%|██████████| 391/391 [00:27<00:00, 14.21it/s]"
          ],
          "name": "stderr"
        },
        {
          "output_type": "stream",
          "text": [
            "Train set: Epoch : 196/250 Average loss: 0.0000, Train Accuracy: 76.43\n"
          ],
          "name": "stdout"
        },
        {
          "output_type": "stream",
          "text": [
            "\n",
            "  0%|          | 0/391 [00:00<?, ?it/s]"
          ],
          "name": "stderr"
        },
        {
          "output_type": "stream",
          "text": [
            "Test set: Epoch : 196/250 Average loss: 0.4301, Test Accuracy: 85.31\n",
            "EPOCH: 197\n"
          ],
          "name": "stdout"
        },
        {
          "output_type": "stream",
          "text": [
            "Loss=0.5825996994972229 Batch_id=390 Train Accuracy=76.91: 100%|██████████| 391/391 [00:27<00:00, 14.24it/s]"
          ],
          "name": "stderr"
        },
        {
          "output_type": "stream",
          "text": [
            "Train set: Epoch : 197/250 Average loss: 0.0000, Train Accuracy: 76.91\n"
          ],
          "name": "stdout"
        },
        {
          "output_type": "stream",
          "text": [
            "\n",
            "  0%|          | 0/391 [00:00<?, ?it/s]"
          ],
          "name": "stderr"
        },
        {
          "output_type": "stream",
          "text": [
            "Test set: Epoch : 197/250 Average loss: 0.4434, Test Accuracy: 85.06\n",
            "EPOCH: 198\n"
          ],
          "name": "stdout"
        },
        {
          "output_type": "stream",
          "text": [
            "Loss=0.7245472073554993 Batch_id=390 Train Accuracy=76.21: 100%|██████████| 391/391 [00:27<00:00, 14.23it/s]"
          ],
          "name": "stderr"
        },
        {
          "output_type": "stream",
          "text": [
            "Train set: Epoch : 198/250 Average loss: 0.0000, Train Accuracy: 76.21\n"
          ],
          "name": "stdout"
        },
        {
          "output_type": "stream",
          "text": [
            "\n",
            "  0%|          | 0/391 [00:00<?, ?it/s]"
          ],
          "name": "stderr"
        },
        {
          "output_type": "stream",
          "text": [
            "Test set: Epoch : 198/250 Average loss: 0.4315, Test Accuracy: 85.21\n",
            "EPOCH: 199\n"
          ],
          "name": "stdout"
        },
        {
          "output_type": "stream",
          "text": [
            "Loss=0.80162513256073 Batch_id=390 Train Accuracy=76.58: 100%|██████████| 391/391 [00:27<00:00, 14.21it/s]"
          ],
          "name": "stderr"
        },
        {
          "output_type": "stream",
          "text": [
            "Train set: Epoch : 199/250 Average loss: 0.0000, Train Accuracy: 76.58\n"
          ],
          "name": "stdout"
        },
        {
          "output_type": "stream",
          "text": [
            "\n",
            "  0%|          | 0/391 [00:00<?, ?it/s]"
          ],
          "name": "stderr"
        },
        {
          "output_type": "stream",
          "text": [
            "Test set: Epoch : 199/250 Average loss: 0.4510, Test Accuracy: 84.51\n",
            "EPOCH: 200\n"
          ],
          "name": "stdout"
        },
        {
          "output_type": "stream",
          "text": [
            "Loss=0.6732917428016663 Batch_id=390 Train Accuracy=76.56: 100%|██████████| 391/391 [00:27<00:00, 14.08it/s]"
          ],
          "name": "stderr"
        },
        {
          "output_type": "stream",
          "text": [
            "Train set: Epoch : 200/250 Average loss: 0.0000, Train Accuracy: 76.56\n"
          ],
          "name": "stdout"
        },
        {
          "output_type": "stream",
          "text": [
            "\n",
            "  0%|          | 0/391 [00:00<?, ?it/s]"
          ],
          "name": "stderr"
        },
        {
          "output_type": "stream",
          "text": [
            "Test set: Epoch : 200/250 Average loss: 0.4442, Test Accuracy: 84.84\n",
            "EPOCH: 201\n"
          ],
          "name": "stdout"
        },
        {
          "output_type": "stream",
          "text": [
            "Loss=0.5308406352996826 Batch_id=390 Train Accuracy=76.59: 100%|██████████| 391/391 [00:27<00:00, 14.19it/s]"
          ],
          "name": "stderr"
        },
        {
          "output_type": "stream",
          "text": [
            "Train set: Epoch : 201/250 Average loss: 0.0000, Train Accuracy: 76.59\n"
          ],
          "name": "stdout"
        },
        {
          "output_type": "stream",
          "text": [
            "\n",
            "  0%|          | 0/391 [00:00<?, ?it/s]"
          ],
          "name": "stderr"
        },
        {
          "output_type": "stream",
          "text": [
            "Test set: Epoch : 201/250 Average loss: 0.4251, Test Accuracy: 85.31\n",
            "EPOCH: 202\n"
          ],
          "name": "stdout"
        },
        {
          "output_type": "stream",
          "text": [
            "Loss=0.5842096209526062 Batch_id=390 Train Accuracy=76.94: 100%|██████████| 391/391 [00:27<00:00, 14.14it/s]"
          ],
          "name": "stderr"
        },
        {
          "output_type": "stream",
          "text": [
            "Train set: Epoch : 202/250 Average loss: 0.0000, Train Accuracy: 76.94\n"
          ],
          "name": "stdout"
        },
        {
          "output_type": "stream",
          "text": [
            "\n",
            "  0%|          | 0/391 [00:00<?, ?it/s]"
          ],
          "name": "stderr"
        },
        {
          "output_type": "stream",
          "text": [
            "Test set: Epoch : 202/250 Average loss: 0.4476, Test Accuracy: 84.98\n",
            "EPOCH: 203\n"
          ],
          "name": "stdout"
        },
        {
          "output_type": "stream",
          "text": [
            "Loss=0.36453869938850403 Batch_id=390 Train Accuracy=76.99: 100%|██████████| 391/391 [00:27<00:00, 14.17it/s]"
          ],
          "name": "stderr"
        },
        {
          "output_type": "stream",
          "text": [
            "Train set: Epoch : 203/250 Average loss: 0.0000, Train Accuracy: 76.99\n"
          ],
          "name": "stdout"
        },
        {
          "output_type": "stream",
          "text": [
            "\n",
            "  0%|          | 0/391 [00:00<?, ?it/s]"
          ],
          "name": "stderr"
        },
        {
          "output_type": "stream",
          "text": [
            "Test set: Epoch : 203/250 Average loss: 0.4283, Test Accuracy: 85.17\n",
            "EPOCH: 204\n"
          ],
          "name": "stdout"
        },
        {
          "output_type": "stream",
          "text": [
            "Loss=0.8968491554260254 Batch_id=390 Train Accuracy=77.02: 100%|██████████| 391/391 [00:27<00:00, 14.08it/s]"
          ],
          "name": "stderr"
        },
        {
          "output_type": "stream",
          "text": [
            "Train set: Epoch : 204/250 Average loss: 0.0000, Train Accuracy: 77.02\n"
          ],
          "name": "stdout"
        },
        {
          "output_type": "stream",
          "text": [
            "\n",
            "  0%|          | 0/391 [00:00<?, ?it/s]"
          ],
          "name": "stderr"
        },
        {
          "output_type": "stream",
          "text": [
            "Test set: Epoch : 204/250 Average loss: 0.4345, Test Accuracy: 85.38\n",
            "EPOCH: 205\n"
          ],
          "name": "stdout"
        },
        {
          "output_type": "stream",
          "text": [
            "Loss=0.6311495900154114 Batch_id=390 Train Accuracy=76.54: 100%|██████████| 391/391 [00:27<00:00, 14.16it/s]"
          ],
          "name": "stderr"
        },
        {
          "output_type": "stream",
          "text": [
            "Train set: Epoch : 205/250 Average loss: 0.0000, Train Accuracy: 76.54\n"
          ],
          "name": "stdout"
        },
        {
          "output_type": "stream",
          "text": [
            "\n",
            "  0%|          | 0/391 [00:00<?, ?it/s]"
          ],
          "name": "stderr"
        },
        {
          "output_type": "stream",
          "text": [
            "Test set: Epoch : 205/250 Average loss: 0.4303, Test Accuracy: 85.61\n",
            "EPOCH: 206\n"
          ],
          "name": "stdout"
        },
        {
          "output_type": "stream",
          "text": [
            "Loss=0.7260620594024658 Batch_id=390 Train Accuracy=76.71: 100%|██████████| 391/391 [00:27<00:00, 14.15it/s]"
          ],
          "name": "stderr"
        },
        {
          "output_type": "stream",
          "text": [
            "Train set: Epoch : 206/250 Average loss: 0.0000, Train Accuracy: 76.71\n"
          ],
          "name": "stdout"
        },
        {
          "output_type": "stream",
          "text": [
            "\n",
            "  0%|          | 0/391 [00:00<?, ?it/s]"
          ],
          "name": "stderr"
        },
        {
          "output_type": "stream",
          "text": [
            "Test set: Epoch : 206/250 Average loss: 0.4453, Test Accuracy: 84.9\n",
            "EPOCH: 207\n"
          ],
          "name": "stdout"
        },
        {
          "output_type": "stream",
          "text": [
            "Loss=0.6878314018249512 Batch_id=390 Train Accuracy=76.79: 100%|██████████| 391/391 [00:27<00:00, 14.19it/s]"
          ],
          "name": "stderr"
        },
        {
          "output_type": "stream",
          "text": [
            "Train set: Epoch : 207/250 Average loss: 0.0000, Train Accuracy: 76.79\n"
          ],
          "name": "stdout"
        },
        {
          "output_type": "stream",
          "text": [
            "\n",
            "  0%|          | 0/391 [00:00<?, ?it/s]"
          ],
          "name": "stderr"
        },
        {
          "output_type": "stream",
          "text": [
            "Test set: Epoch : 207/250 Average loss: 0.4417, Test Accuracy: 84.97\n",
            "EPOCH: 208\n"
          ],
          "name": "stdout"
        },
        {
          "output_type": "stream",
          "text": [
            "Loss=0.6940957903862 Batch_id=390 Train Accuracy=76.78: 100%|██████████| 391/391 [00:27<00:00, 14.21it/s]"
          ],
          "name": "stderr"
        },
        {
          "output_type": "stream",
          "text": [
            "Train set: Epoch : 208/250 Average loss: 0.0000, Train Accuracy: 76.78\n"
          ],
          "name": "stdout"
        },
        {
          "output_type": "stream",
          "text": [
            "\n",
            "  0%|          | 0/391 [00:00<?, ?it/s]"
          ],
          "name": "stderr"
        },
        {
          "output_type": "stream",
          "text": [
            "Test set: Epoch : 208/250 Average loss: 0.4356, Test Accuracy: 85.34\n",
            "EPOCH: 209\n"
          ],
          "name": "stdout"
        },
        {
          "output_type": "stream",
          "text": [
            "Loss=0.8176361322402954 Batch_id=390 Train Accuracy=76.82: 100%|██████████| 391/391 [00:27<00:00, 14.14it/s]"
          ],
          "name": "stderr"
        },
        {
          "output_type": "stream",
          "text": [
            "Train set: Epoch : 209/250 Average loss: 0.0000, Train Accuracy: 76.82\n"
          ],
          "name": "stdout"
        },
        {
          "output_type": "stream",
          "text": [
            "\n",
            "  0%|          | 0/391 [00:00<?, ?it/s]"
          ],
          "name": "stderr"
        },
        {
          "output_type": "stream",
          "text": [
            "Test set: Epoch : 209/250 Average loss: 0.4390, Test Accuracy: 85.02\n",
            "EPOCH: 210\n"
          ],
          "name": "stdout"
        },
        {
          "output_type": "stream",
          "text": [
            "Loss=0.8096915483474731 Batch_id=390 Train Accuracy=76.57: 100%|██████████| 391/391 [00:27<00:00, 14.14it/s]"
          ],
          "name": "stderr"
        },
        {
          "output_type": "stream",
          "text": [
            "Train set: Epoch : 210/250 Average loss: 0.0000, Train Accuracy: 76.57\n"
          ],
          "name": "stdout"
        },
        {
          "output_type": "stream",
          "text": [
            "\n",
            "  0%|          | 0/391 [00:00<?, ?it/s]"
          ],
          "name": "stderr"
        },
        {
          "output_type": "stream",
          "text": [
            "Test set: Epoch : 210/250 Average loss: 0.4443, Test Accuracy: 84.96\n",
            "EPOCH: 211\n"
          ],
          "name": "stdout"
        },
        {
          "output_type": "stream",
          "text": [
            "Loss=0.8745355010032654 Batch_id=390 Train Accuracy=76.93: 100%|██████████| 391/391 [00:27<00:00, 14.15it/s]"
          ],
          "name": "stderr"
        },
        {
          "output_type": "stream",
          "text": [
            "Train set: Epoch : 211/250 Average loss: 0.0000, Train Accuracy: 76.93\n"
          ],
          "name": "stdout"
        },
        {
          "output_type": "stream",
          "text": [
            "\n",
            "  0%|          | 0/391 [00:00<?, ?it/s]"
          ],
          "name": "stderr"
        },
        {
          "output_type": "stream",
          "text": [
            "Test set: Epoch : 211/250 Average loss: 0.4326, Test Accuracy: 85.17\n",
            "EPOCH: 212\n"
          ],
          "name": "stdout"
        },
        {
          "output_type": "stream",
          "text": [
            "Loss=0.8106492757797241 Batch_id=390 Train Accuracy=77.02: 100%|██████████| 391/391 [00:27<00:00, 14.21it/s]"
          ],
          "name": "stderr"
        },
        {
          "output_type": "stream",
          "text": [
            "Train set: Epoch : 212/250 Average loss: 0.0000, Train Accuracy: 77.02\n"
          ],
          "name": "stdout"
        },
        {
          "output_type": "stream",
          "text": [
            "\n",
            "  0%|          | 0/391 [00:00<?, ?it/s]"
          ],
          "name": "stderr"
        },
        {
          "output_type": "stream",
          "text": [
            "Test set: Epoch : 212/250 Average loss: 0.4285, Test Accuracy: 85.44\n",
            "EPOCH: 213\n"
          ],
          "name": "stdout"
        },
        {
          "output_type": "stream",
          "text": [
            "Loss=0.9418434500694275 Batch_id=390 Train Accuracy=76.89: 100%|██████████| 391/391 [00:27<00:00, 14.15it/s]"
          ],
          "name": "stderr"
        },
        {
          "output_type": "stream",
          "text": [
            "Train set: Epoch : 213/250 Average loss: 0.0000, Train Accuracy: 76.89\n"
          ],
          "name": "stdout"
        },
        {
          "output_type": "stream",
          "text": [
            "\n",
            "  0%|          | 0/391 [00:00<?, ?it/s]"
          ],
          "name": "stderr"
        },
        {
          "output_type": "stream",
          "text": [
            "Test set: Epoch : 213/250 Average loss: 0.4324, Test Accuracy: 85.09\n",
            "EPOCH: 214\n"
          ],
          "name": "stdout"
        },
        {
          "output_type": "stream",
          "text": [
            "Loss=0.8135785460472107 Batch_id=390 Train Accuracy=76.74: 100%|██████████| 391/391 [00:27<00:00, 14.15it/s]"
          ],
          "name": "stderr"
        },
        {
          "output_type": "stream",
          "text": [
            "Train set: Epoch : 214/250 Average loss: 0.0000, Train Accuracy: 76.74\n"
          ],
          "name": "stdout"
        },
        {
          "output_type": "stream",
          "text": [
            "\n",
            "  0%|          | 0/391 [00:00<?, ?it/s]"
          ],
          "name": "stderr"
        },
        {
          "output_type": "stream",
          "text": [
            "Test set: Epoch : 214/250 Average loss: 0.4361, Test Accuracy: 85.23\n",
            "EPOCH: 215\n"
          ],
          "name": "stdout"
        },
        {
          "output_type": "stream",
          "text": [
            "Loss=0.7231835722923279 Batch_id=390 Train Accuracy=76.96: 100%|██████████| 391/391 [00:27<00:00, 14.13it/s]"
          ],
          "name": "stderr"
        },
        {
          "output_type": "stream",
          "text": [
            "Train set: Epoch : 215/250 Average loss: 0.0000, Train Accuracy: 76.96\n"
          ],
          "name": "stdout"
        },
        {
          "output_type": "stream",
          "text": [
            "\n",
            "  0%|          | 0/391 [00:00<?, ?it/s]"
          ],
          "name": "stderr"
        },
        {
          "output_type": "stream",
          "text": [
            "Test set: Epoch : 215/250 Average loss: 0.4343, Test Accuracy: 85.32\n",
            "EPOCH: 216\n"
          ],
          "name": "stdout"
        },
        {
          "output_type": "stream",
          "text": [
            "Loss=0.83213871717453 Batch_id=390 Train Accuracy=76.91: 100%|██████████| 391/391 [00:27<00:00, 14.19it/s]"
          ],
          "name": "stderr"
        },
        {
          "output_type": "stream",
          "text": [
            "Train set: Epoch : 216/250 Average loss: 0.0000, Train Accuracy: 76.91\n"
          ],
          "name": "stdout"
        },
        {
          "output_type": "stream",
          "text": [
            "\n",
            "  0%|          | 0/391 [00:00<?, ?it/s]"
          ],
          "name": "stderr"
        },
        {
          "output_type": "stream",
          "text": [
            "Test set: Epoch : 216/250 Average loss: 0.4354, Test Accuracy: 85.25\n",
            "EPOCH: 217\n"
          ],
          "name": "stdout"
        },
        {
          "output_type": "stream",
          "text": [
            "Loss=0.7756611108779907 Batch_id=390 Train Accuracy=77.10: 100%|██████████| 391/391 [00:27<00:00, 14.13it/s]"
          ],
          "name": "stderr"
        },
        {
          "output_type": "stream",
          "text": [
            "Train set: Epoch : 217/250 Average loss: 0.0000, Train Accuracy: 77.1\n"
          ],
          "name": "stdout"
        },
        {
          "output_type": "stream",
          "text": [
            "\n",
            "  0%|          | 0/391 [00:00<?, ?it/s]"
          ],
          "name": "stderr"
        },
        {
          "output_type": "stream",
          "text": [
            "Test set: Epoch : 217/250 Average loss: 0.4300, Test Accuracy: 85.4\n",
            "EPOCH: 218\n"
          ],
          "name": "stdout"
        },
        {
          "output_type": "stream",
          "text": [
            "Loss=0.7964824438095093 Batch_id=390 Train Accuracy=77.09: 100%|██████████| 391/391 [00:27<00:00, 14.14it/s]"
          ],
          "name": "stderr"
        },
        {
          "output_type": "stream",
          "text": [
            "Train set: Epoch : 218/250 Average loss: 0.0000, Train Accuracy: 77.09\n"
          ],
          "name": "stdout"
        },
        {
          "output_type": "stream",
          "text": [
            "\n",
            "  0%|          | 0/391 [00:00<?, ?it/s]"
          ],
          "name": "stderr"
        },
        {
          "output_type": "stream",
          "text": [
            "Test set: Epoch : 218/250 Average loss: 0.4252, Test Accuracy: 85.37\n",
            "EPOCH: 219\n"
          ],
          "name": "stdout"
        },
        {
          "output_type": "stream",
          "text": [
            "Loss=0.8325502276420593 Batch_id=390 Train Accuracy=77.02: 100%|██████████| 391/391 [00:27<00:00, 14.08it/s]"
          ],
          "name": "stderr"
        },
        {
          "output_type": "stream",
          "text": [
            "Train set: Epoch : 219/250 Average loss: 0.0000, Train Accuracy: 77.02\n"
          ],
          "name": "stdout"
        },
        {
          "output_type": "stream",
          "text": [
            "\n",
            "  0%|          | 0/391 [00:00<?, ?it/s]"
          ],
          "name": "stderr"
        },
        {
          "output_type": "stream",
          "text": [
            "Test set: Epoch : 219/250 Average loss: 0.4252, Test Accuracy: 85.7\n",
            "EPOCH: 220\n"
          ],
          "name": "stdout"
        },
        {
          "output_type": "stream",
          "text": [
            "Loss=0.6173664331436157 Batch_id=390 Train Accuracy=77.04: 100%|██████████| 391/391 [00:27<00:00, 14.09it/s]"
          ],
          "name": "stderr"
        },
        {
          "output_type": "stream",
          "text": [
            "Train set: Epoch : 220/250 Average loss: 0.0000, Train Accuracy: 77.04\n"
          ],
          "name": "stdout"
        },
        {
          "output_type": "stream",
          "text": [
            "\n",
            "  0%|          | 0/391 [00:00<?, ?it/s]"
          ],
          "name": "stderr"
        },
        {
          "output_type": "stream",
          "text": [
            "Test set: Epoch : 220/250 Average loss: 0.4278, Test Accuracy: 85.53\n",
            "EPOCH: 221\n"
          ],
          "name": "stdout"
        },
        {
          "output_type": "stream",
          "text": [
            "Loss=0.5525752902030945 Batch_id=390 Train Accuracy=77.19: 100%|██████████| 391/391 [00:27<00:00, 14.12it/s]"
          ],
          "name": "stderr"
        },
        {
          "output_type": "stream",
          "text": [
            "Train set: Epoch : 221/250 Average loss: 0.0000, Train Accuracy: 77.19\n"
          ],
          "name": "stdout"
        },
        {
          "output_type": "stream",
          "text": [
            "\n",
            "  0%|          | 0/391 [00:00<?, ?it/s]"
          ],
          "name": "stderr"
        },
        {
          "output_type": "stream",
          "text": [
            "Test set: Epoch : 221/250 Average loss: 0.4284, Test Accuracy: 85.35\n",
            "EPOCH: 222\n"
          ],
          "name": "stdout"
        },
        {
          "output_type": "stream",
          "text": [
            "Loss=0.7228146195411682 Batch_id=390 Train Accuracy=77.08: 100%|██████████| 391/391 [00:27<00:00, 14.11it/s]"
          ],
          "name": "stderr"
        },
        {
          "output_type": "stream",
          "text": [
            "Train set: Epoch : 222/250 Average loss: 0.0000, Train Accuracy: 77.08\n"
          ],
          "name": "stdout"
        },
        {
          "output_type": "stream",
          "text": [
            "\n",
            "  0%|          | 0/391 [00:00<?, ?it/s]"
          ],
          "name": "stderr"
        },
        {
          "output_type": "stream",
          "text": [
            "Test set: Epoch : 222/250 Average loss: 0.4465, Test Accuracy: 84.55\n",
            "EPOCH: 223\n"
          ],
          "name": "stdout"
        },
        {
          "output_type": "stream",
          "text": [
            "Loss=0.5164421200752258 Batch_id=390 Train Accuracy=76.86: 100%|██████████| 391/391 [00:27<00:00, 14.13it/s]"
          ],
          "name": "stderr"
        },
        {
          "output_type": "stream",
          "text": [
            "Train set: Epoch : 223/250 Average loss: 0.0000, Train Accuracy: 76.86\n"
          ],
          "name": "stdout"
        },
        {
          "output_type": "stream",
          "text": [
            "\n",
            "  0%|          | 0/391 [00:00<?, ?it/s]"
          ],
          "name": "stderr"
        },
        {
          "output_type": "stream",
          "text": [
            "Test set: Epoch : 223/250 Average loss: 0.4349, Test Accuracy: 85.61\n",
            "EPOCH: 224\n"
          ],
          "name": "stdout"
        },
        {
          "output_type": "stream",
          "text": [
            "Loss=0.6403900384902954 Batch_id=390 Train Accuracy=77.05: 100%|██████████| 391/391 [00:27<00:00, 14.18it/s]"
          ],
          "name": "stderr"
        },
        {
          "output_type": "stream",
          "text": [
            "Train set: Epoch : 224/250 Average loss: 0.0000, Train Accuracy: 77.05\n"
          ],
          "name": "stdout"
        },
        {
          "output_type": "stream",
          "text": [
            "\n",
            "  0%|          | 0/391 [00:00<?, ?it/s]"
          ],
          "name": "stderr"
        },
        {
          "output_type": "stream",
          "text": [
            "Test set: Epoch : 224/250 Average loss: 0.4371, Test Accuracy: 85.53\n",
            "EPOCH: 225\n"
          ],
          "name": "stdout"
        },
        {
          "output_type": "stream",
          "text": [
            "Loss=0.5828679800033569 Batch_id=390 Train Accuracy=77.24: 100%|██████████| 391/391 [00:27<00:00, 14.13it/s]"
          ],
          "name": "stderr"
        },
        {
          "output_type": "stream",
          "text": [
            "Train set: Epoch : 225/250 Average loss: 0.0000, Train Accuracy: 77.24\n"
          ],
          "name": "stdout"
        },
        {
          "output_type": "stream",
          "text": [
            "\n",
            "  0%|          | 0/391 [00:00<?, ?it/s]"
          ],
          "name": "stderr"
        },
        {
          "output_type": "stream",
          "text": [
            "Test set: Epoch : 225/250 Average loss: 0.4340, Test Accuracy: 85.39\n",
            "EPOCH: 226\n"
          ],
          "name": "stdout"
        },
        {
          "output_type": "stream",
          "text": [
            "Loss=0.7727808952331543 Batch_id=390 Train Accuracy=77.14: 100%|██████████| 391/391 [00:27<00:00, 14.16it/s]"
          ],
          "name": "stderr"
        },
        {
          "output_type": "stream",
          "text": [
            "Train set: Epoch : 226/250 Average loss: 0.0000, Train Accuracy: 77.14\n"
          ],
          "name": "stdout"
        },
        {
          "output_type": "stream",
          "text": [
            "\n",
            "  0%|          | 0/391 [00:00<?, ?it/s]"
          ],
          "name": "stderr"
        },
        {
          "output_type": "stream",
          "text": [
            "Test set: Epoch : 226/250 Average loss: 0.4310, Test Accuracy: 85.65\n",
            "EPOCH: 227\n"
          ],
          "name": "stdout"
        },
        {
          "output_type": "stream",
          "text": [
            "Loss=0.707798957824707 Batch_id=390 Train Accuracy=77.08: 100%|██████████| 391/391 [00:27<00:00, 14.11it/s]"
          ],
          "name": "stderr"
        },
        {
          "output_type": "stream",
          "text": [
            "Train set: Epoch : 227/250 Average loss: 0.0000, Train Accuracy: 77.08\n"
          ],
          "name": "stdout"
        },
        {
          "output_type": "stream",
          "text": [
            "\n",
            "  0%|          | 0/391 [00:00<?, ?it/s]"
          ],
          "name": "stderr"
        },
        {
          "output_type": "stream",
          "text": [
            "Test set: Epoch : 227/250 Average loss: 0.4206, Test Accuracy: 85.65\n",
            "EPOCH: 228\n"
          ],
          "name": "stdout"
        },
        {
          "output_type": "stream",
          "text": [
            "Loss=0.6258800029754639 Batch_id=390 Train Accuracy=77.12: 100%|██████████| 391/391 [00:27<00:00, 14.09it/s]"
          ],
          "name": "stderr"
        },
        {
          "output_type": "stream",
          "text": [
            "Train set: Epoch : 228/250 Average loss: 0.0000, Train Accuracy: 77.12\n"
          ],
          "name": "stdout"
        },
        {
          "output_type": "stream",
          "text": [
            "\n",
            "  0%|          | 0/391 [00:00<?, ?it/s]"
          ],
          "name": "stderr"
        },
        {
          "output_type": "stream",
          "text": [
            "Test set: Epoch : 228/250 Average loss: 0.4299, Test Accuracy: 85.16\n",
            "EPOCH: 229\n"
          ],
          "name": "stdout"
        },
        {
          "output_type": "stream",
          "text": [
            "Loss=0.7221352458000183 Batch_id=390 Train Accuracy=77.18: 100%|██████████| 391/391 [00:27<00:00, 14.20it/s]"
          ],
          "name": "stderr"
        },
        {
          "output_type": "stream",
          "text": [
            "Train set: Epoch : 229/250 Average loss: 0.0000, Train Accuracy: 77.18\n"
          ],
          "name": "stdout"
        },
        {
          "output_type": "stream",
          "text": [
            "\n",
            "  0%|          | 0/391 [00:00<?, ?it/s]"
          ],
          "name": "stderr"
        },
        {
          "output_type": "stream",
          "text": [
            "Test set: Epoch : 229/250 Average loss: 0.4247, Test Accuracy: 85.64\n",
            "EPOCH: 230\n"
          ],
          "name": "stdout"
        },
        {
          "output_type": "stream",
          "text": [
            "Loss=0.5893107652664185 Batch_id=390 Train Accuracy=77.16: 100%|██████████| 391/391 [00:27<00:00, 14.14it/s]"
          ],
          "name": "stderr"
        },
        {
          "output_type": "stream",
          "text": [
            "Train set: Epoch : 230/250 Average loss: 0.0000, Train Accuracy: 77.16\n"
          ],
          "name": "stdout"
        },
        {
          "output_type": "stream",
          "text": [
            "\n",
            "  0%|          | 0/391 [00:00<?, ?it/s]"
          ],
          "name": "stderr"
        },
        {
          "output_type": "stream",
          "text": [
            "Test set: Epoch : 230/250 Average loss: 0.4220, Test Accuracy: 85.69\n",
            "EPOCH: 231\n"
          ],
          "name": "stdout"
        },
        {
          "output_type": "stream",
          "text": [
            "Loss=0.6576687693595886 Batch_id=390 Train Accuracy=77.19: 100%|██████████| 391/391 [00:27<00:00, 14.10it/s]"
          ],
          "name": "stderr"
        },
        {
          "output_type": "stream",
          "text": [
            "Train set: Epoch : 231/250 Average loss: 0.0000, Train Accuracy: 77.19\n"
          ],
          "name": "stdout"
        },
        {
          "output_type": "stream",
          "text": [
            "\n",
            "  0%|          | 0/391 [00:00<?, ?it/s]"
          ],
          "name": "stderr"
        },
        {
          "output_type": "stream",
          "text": [
            "Test set: Epoch : 231/250 Average loss: 0.4240, Test Accuracy: 85.52\n",
            "EPOCH: 232\n"
          ],
          "name": "stdout"
        },
        {
          "output_type": "stream",
          "text": [
            "Loss=0.6080896258354187 Batch_id=390 Train Accuracy=77.25: 100%|██████████| 391/391 [00:27<00:00, 14.15it/s]"
          ],
          "name": "stderr"
        },
        {
          "output_type": "stream",
          "text": [
            "Train set: Epoch : 232/250 Average loss: 0.0000, Train Accuracy: 77.25\n"
          ],
          "name": "stdout"
        },
        {
          "output_type": "stream",
          "text": [
            "\n",
            "  0%|          | 0/391 [00:00<?, ?it/s]"
          ],
          "name": "stderr"
        },
        {
          "output_type": "stream",
          "text": [
            "Test set: Epoch : 232/250 Average loss: 0.4159, Test Accuracy: 85.8\n",
            "EPOCH: 233\n"
          ],
          "name": "stdout"
        },
        {
          "output_type": "stream",
          "text": [
            "Loss=0.6135066747665405 Batch_id=390 Train Accuracy=77.27: 100%|██████████| 391/391 [00:27<00:00, 14.12it/s]"
          ],
          "name": "stderr"
        },
        {
          "output_type": "stream",
          "text": [
            "Train set: Epoch : 233/250 Average loss: 0.0000, Train Accuracy: 77.27\n"
          ],
          "name": "stdout"
        },
        {
          "output_type": "stream",
          "text": [
            "\n",
            "  0%|          | 0/391 [00:00<?, ?it/s]"
          ],
          "name": "stderr"
        },
        {
          "output_type": "stream",
          "text": [
            "Test set: Epoch : 233/250 Average loss: 0.4328, Test Accuracy: 85.4\n",
            "EPOCH: 234\n"
          ],
          "name": "stdout"
        },
        {
          "output_type": "stream",
          "text": [
            "Loss=0.4608116149902344 Batch_id=390 Train Accuracy=77.36: 100%|██████████| 391/391 [00:27<00:00, 14.15it/s]"
          ],
          "name": "stderr"
        },
        {
          "output_type": "stream",
          "text": [
            "Train set: Epoch : 234/250 Average loss: 0.0000, Train Accuracy: 77.36\n"
          ],
          "name": "stdout"
        },
        {
          "output_type": "stream",
          "text": [
            "\n",
            "  0%|          | 0/391 [00:00<?, ?it/s]"
          ],
          "name": "stderr"
        },
        {
          "output_type": "stream",
          "text": [
            "Test set: Epoch : 234/250 Average loss: 0.4198, Test Accuracy: 86.23\n",
            "EPOCH: 235\n"
          ],
          "name": "stdout"
        },
        {
          "output_type": "stream",
          "text": [
            "Loss=0.7909132838249207 Batch_id=390 Train Accuracy=77.13: 100%|██████████| 391/391 [00:27<00:00, 14.07it/s]"
          ],
          "name": "stderr"
        },
        {
          "output_type": "stream",
          "text": [
            "Train set: Epoch : 235/250 Average loss: 0.0000, Train Accuracy: 77.13\n"
          ],
          "name": "stdout"
        },
        {
          "output_type": "stream",
          "text": [
            "\n",
            "  0%|          | 0/391 [00:00<?, ?it/s]"
          ],
          "name": "stderr"
        },
        {
          "output_type": "stream",
          "text": [
            "Test set: Epoch : 235/250 Average loss: 0.4332, Test Accuracy: 85.68\n",
            "EPOCH: 236\n"
          ],
          "name": "stdout"
        },
        {
          "output_type": "stream",
          "text": [
            "Loss=0.733666181564331 Batch_id=390 Train Accuracy=77.41: 100%|██████████| 391/391 [00:27<00:00, 14.04it/s]"
          ],
          "name": "stderr"
        },
        {
          "output_type": "stream",
          "text": [
            "Train set: Epoch : 236/250 Average loss: 0.0000, Train Accuracy: 77.41\n"
          ],
          "name": "stdout"
        },
        {
          "output_type": "stream",
          "text": [
            "\n",
            "  0%|          | 0/391 [00:00<?, ?it/s]"
          ],
          "name": "stderr"
        },
        {
          "output_type": "stream",
          "text": [
            "Test set: Epoch : 236/250 Average loss: 0.4300, Test Accuracy: 85.7\n",
            "EPOCH: 237\n"
          ],
          "name": "stdout"
        },
        {
          "output_type": "stream",
          "text": [
            "Loss=0.47394394874572754 Batch_id=390 Train Accuracy=77.19: 100%|██████████| 391/391 [00:27<00:00, 14.08it/s]"
          ],
          "name": "stderr"
        },
        {
          "output_type": "stream",
          "text": [
            "Train set: Epoch : 237/250 Average loss: 0.0000, Train Accuracy: 77.19\n"
          ],
          "name": "stdout"
        },
        {
          "output_type": "stream",
          "text": [
            "\n",
            "  0%|          | 0/391 [00:00<?, ?it/s]"
          ],
          "name": "stderr"
        },
        {
          "output_type": "stream",
          "text": [
            "Test set: Epoch : 237/250 Average loss: 0.4292, Test Accuracy: 85.59\n",
            "EPOCH: 238\n"
          ],
          "name": "stdout"
        },
        {
          "output_type": "stream",
          "text": [
            "Loss=0.6606667637825012 Batch_id=390 Train Accuracy=77.31: 100%|██████████| 391/391 [00:27<00:00, 14.18it/s]"
          ],
          "name": "stderr"
        },
        {
          "output_type": "stream",
          "text": [
            "Train set: Epoch : 238/250 Average loss: 0.0000, Train Accuracy: 77.31\n"
          ],
          "name": "stdout"
        },
        {
          "output_type": "stream",
          "text": [
            "\n",
            "  0%|          | 0/391 [00:00<?, ?it/s]"
          ],
          "name": "stderr"
        },
        {
          "output_type": "stream",
          "text": [
            "Test set: Epoch : 238/250 Average loss: 0.4238, Test Accuracy: 85.91\n",
            "EPOCH: 239\n"
          ],
          "name": "stdout"
        },
        {
          "output_type": "stream",
          "text": [
            "Loss=0.7451896071434021 Batch_id=390 Train Accuracy=77.19: 100%|██████████| 391/391 [00:27<00:00, 14.14it/s]"
          ],
          "name": "stderr"
        },
        {
          "output_type": "stream",
          "text": [
            "Train set: Epoch : 239/250 Average loss: 0.0000, Train Accuracy: 77.19\n"
          ],
          "name": "stdout"
        },
        {
          "output_type": "stream",
          "text": [
            "\n",
            "  0%|          | 0/391 [00:00<?, ?it/s]"
          ],
          "name": "stderr"
        },
        {
          "output_type": "stream",
          "text": [
            "Test set: Epoch : 239/250 Average loss: 0.4217, Test Accuracy: 85.83\n",
            "EPOCH: 240\n"
          ],
          "name": "stdout"
        },
        {
          "output_type": "stream",
          "text": [
            "Loss=0.6335299611091614 Batch_id=390 Train Accuracy=77.32: 100%|██████████| 391/391 [00:27<00:00, 14.13it/s]"
          ],
          "name": "stderr"
        },
        {
          "output_type": "stream",
          "text": [
            "Train set: Epoch : 240/250 Average loss: 0.0000, Train Accuracy: 77.32\n"
          ],
          "name": "stdout"
        },
        {
          "output_type": "stream",
          "text": [
            "\n",
            "  0%|          | 0/391 [00:00<?, ?it/s]"
          ],
          "name": "stderr"
        },
        {
          "output_type": "stream",
          "text": [
            "Test set: Epoch : 240/250 Average loss: 0.4252, Test Accuracy: 85.71\n",
            "EPOCH: 241\n"
          ],
          "name": "stdout"
        },
        {
          "output_type": "stream",
          "text": [
            "Loss=0.7544848322868347 Batch_id=390 Train Accuracy=77.31: 100%|██████████| 391/391 [00:27<00:00, 14.10it/s]"
          ],
          "name": "stderr"
        },
        {
          "output_type": "stream",
          "text": [
            "Train set: Epoch : 241/250 Average loss: 0.0000, Train Accuracy: 77.31\n"
          ],
          "name": "stdout"
        },
        {
          "output_type": "stream",
          "text": [
            "\n",
            "  0%|          | 0/391 [00:00<?, ?it/s]"
          ],
          "name": "stderr"
        },
        {
          "output_type": "stream",
          "text": [
            "Test set: Epoch : 241/250 Average loss: 0.4229, Test Accuracy: 85.7\n",
            "EPOCH: 242\n"
          ],
          "name": "stdout"
        },
        {
          "output_type": "stream",
          "text": [
            "Loss=0.5323121547698975 Batch_id=390 Train Accuracy=77.59: 100%|██████████| 391/391 [00:27<00:00, 13.98it/s]"
          ],
          "name": "stderr"
        },
        {
          "output_type": "stream",
          "text": [
            "Train set: Epoch : 242/250 Average loss: 0.0000, Train Accuracy: 77.59\n"
          ],
          "name": "stdout"
        },
        {
          "output_type": "stream",
          "text": [
            "\n",
            "  0%|          | 0/391 [00:00<?, ?it/s]"
          ],
          "name": "stderr"
        },
        {
          "output_type": "stream",
          "text": [
            "Test set: Epoch : 242/250 Average loss: 0.4198, Test Accuracy: 85.97\n",
            "EPOCH: 243\n"
          ],
          "name": "stdout"
        },
        {
          "output_type": "stream",
          "text": [
            "Loss=0.6655271649360657 Batch_id=390 Train Accuracy=77.38: 100%|██████████| 391/391 [00:27<00:00, 14.06it/s]"
          ],
          "name": "stderr"
        },
        {
          "output_type": "stream",
          "text": [
            "Train set: Epoch : 243/250 Average loss: 0.0000, Train Accuracy: 77.38\n"
          ],
          "name": "stdout"
        },
        {
          "output_type": "stream",
          "text": [
            "\n",
            "  0%|          | 0/391 [00:00<?, ?it/s]"
          ],
          "name": "stderr"
        },
        {
          "output_type": "stream",
          "text": [
            "Test set: Epoch : 243/250 Average loss: 0.4258, Test Accuracy: 85.63\n",
            "EPOCH: 244\n"
          ],
          "name": "stdout"
        },
        {
          "output_type": "stream",
          "text": [
            "Loss=0.6459437608718872 Batch_id=390 Train Accuracy=77.09: 100%|██████████| 391/391 [00:27<00:00, 14.10it/s]"
          ],
          "name": "stderr"
        },
        {
          "output_type": "stream",
          "text": [
            "Train set: Epoch : 244/250 Average loss: 0.0000, Train Accuracy: 77.09\n"
          ],
          "name": "stdout"
        },
        {
          "output_type": "stream",
          "text": [
            "\n",
            "  0%|          | 0/391 [00:00<?, ?it/s]"
          ],
          "name": "stderr"
        },
        {
          "output_type": "stream",
          "text": [
            "Test set: Epoch : 244/250 Average loss: 0.4238, Test Accuracy: 85.51\n",
            "EPOCH: 245\n"
          ],
          "name": "stdout"
        },
        {
          "output_type": "stream",
          "text": [
            "Loss=0.7849346399307251 Batch_id=390 Train Accuracy=77.32: 100%|██████████| 391/391 [00:28<00:00, 13.94it/s]"
          ],
          "name": "stderr"
        },
        {
          "output_type": "stream",
          "text": [
            "Train set: Epoch : 245/250 Average loss: 0.0000, Train Accuracy: 77.32\n"
          ],
          "name": "stdout"
        },
        {
          "output_type": "stream",
          "text": [
            "\n",
            "  0%|          | 0/391 [00:00<?, ?it/s]"
          ],
          "name": "stderr"
        },
        {
          "output_type": "stream",
          "text": [
            "Test set: Epoch : 245/250 Average loss: 0.4211, Test Accuracy: 86.2\n",
            "EPOCH: 246\n"
          ],
          "name": "stdout"
        },
        {
          "output_type": "stream",
          "text": [
            "Loss=0.7231239676475525 Batch_id=390 Train Accuracy=77.42: 100%|██████████| 391/391 [00:27<00:00, 14.06it/s]"
          ],
          "name": "stderr"
        },
        {
          "output_type": "stream",
          "text": [
            "Train set: Epoch : 246/250 Average loss: 0.0000, Train Accuracy: 77.42\n"
          ],
          "name": "stdout"
        },
        {
          "output_type": "stream",
          "text": [
            "\n",
            "  0%|          | 0/391 [00:00<?, ?it/s]"
          ],
          "name": "stderr"
        },
        {
          "output_type": "stream",
          "text": [
            "Test set: Epoch : 246/250 Average loss: 0.4310, Test Accuracy: 85.55\n",
            "EPOCH: 247\n"
          ],
          "name": "stdout"
        },
        {
          "output_type": "stream",
          "text": [
            "Loss=0.7085943818092346 Batch_id=390 Train Accuracy=77.53: 100%|██████████| 391/391 [00:27<00:00, 14.07it/s]"
          ],
          "name": "stderr"
        },
        {
          "output_type": "stream",
          "text": [
            "Train set: Epoch : 247/250 Average loss: 0.0000, Train Accuracy: 77.53\n"
          ],
          "name": "stdout"
        },
        {
          "output_type": "stream",
          "text": [
            "\n",
            "  0%|          | 0/391 [00:00<?, ?it/s]"
          ],
          "name": "stderr"
        },
        {
          "output_type": "stream",
          "text": [
            "Test set: Epoch : 247/250 Average loss: 0.4214, Test Accuracy: 85.66\n",
            "EPOCH: 248\n"
          ],
          "name": "stdout"
        },
        {
          "output_type": "stream",
          "text": [
            "Loss=0.6892397403717041 Batch_id=390 Train Accuracy=77.15: 100%|██████████| 391/391 [00:27<00:00, 14.06it/s]"
          ],
          "name": "stderr"
        },
        {
          "output_type": "stream",
          "text": [
            "Train set: Epoch : 248/250 Average loss: 0.0000, Train Accuracy: 77.15\n"
          ],
          "name": "stdout"
        },
        {
          "output_type": "stream",
          "text": [
            "\n",
            "  0%|          | 0/391 [00:00<?, ?it/s]"
          ],
          "name": "stderr"
        },
        {
          "output_type": "stream",
          "text": [
            "Test set: Epoch : 248/250 Average loss: 0.4349, Test Accuracy: 85.26\n",
            "EPOCH: 249\n"
          ],
          "name": "stdout"
        },
        {
          "output_type": "stream",
          "text": [
            "Loss=0.5431192517280579 Batch_id=390 Train Accuracy=77.62: 100%|██████████| 391/391 [00:28<00:00, 13.95it/s]"
          ],
          "name": "stderr"
        },
        {
          "output_type": "stream",
          "text": [
            "Train set: Epoch : 249/250 Average loss: 0.0000, Train Accuracy: 77.62\n"
          ],
          "name": "stdout"
        },
        {
          "output_type": "stream",
          "text": [
            "\n",
            "Clipping input data to the valid range for imshow with RGB data ([0..1] for floats or [0..255] for integers).\n",
            "Clipping input data to the valid range for imshow with RGB data ([0..1] for floats or [0..255] for integers).\n"
          ],
          "name": "stderr"
        },
        {
          "output_type": "stream",
          "text": [
            "Test set: Epoch : 249/250 Average loss: 0.4328, Test Accuracy: 85.33\n",
            "Max train accuracy:77.62 out of 250 epochs\n",
            "Max test accuracy :86.23 out of 250 epochs\n",
            "Train accuracy: [77.32, 77.31, 77.59, 77.38, 77.09, 77.32, 77.42, 77.53, 77.15, 77.62]\n",
            "Test accuracy : [85.71, 85.7, 85.97, 85.63, 85.51, 86.2, 85.55, 85.66, 85.26, 85.33]\n",
            "** Plotting misclassified test images from last epoch for CIFAR-10 **\n",
            "\n",
            "\n"
          ],
          "name": "stdout"
        },
        {
          "output_type": "stream",
          "text": [
            "Clipping input data to the valid range for imshow with RGB data ([0..1] for floats or [0..255] for integers).\n"
          ],
          "name": "stderr"
        },
        {
          "output_type": "display_data",
          "data": {
            "image/png": "[encoded data removed]",
            "text/plain": [
              "<Figure size 864x576 with 1 Axes>"
            ]
          },
          "metadata": {
            "tags": [],
            "needs_background": "light"
          }
        },
        {
          "output_type": "display_data",
          "data": {
            "image/png": "[encoded data removed]",
            "text/plain": [
              "<Figure size 864x576 with 1 Axes>"
            ]
          },
          "metadata": {
            "tags": [],
            "needs_background": "light"
          }
        },
        {
          "output_type": "display_data",
          "data": {
            "image/png": "[encoded data removed]",
            "text/plain": [
              "<Figure size 864x576 with 1 Axes>"
            ]
          },
          "metadata": {
            "tags": [],
            "needs_background": "light"
          }
        },
        {
          "output_type": "display_data",
          "data": {
            "image/png": "[encoded data removed]",
            "text/plain": [
              "<Figure size 864x576 with 1 Axes>"
            ]
          },
          "metadata": {
            "tags": [],
            "needs_background": "light"
          }
        },
        {
          "output_type": "display_data",
          "data": {
            "image/png": "[encoded data removed]",
            "text/plain": [
              "<Figure size 864x864 with 25 Axes>"
            ]
          },
          "metadata": {
            "tags": [],
            "needs_background": "light"
          }
        }
      ]
    },
    {
      "cell_type": "code",
      "metadata": {
        "id": "Ge1CJ2pPWBi6"
      },
      "source": [
        ""
      ],
      "execution_count": null,
      "outputs": []
    }
  ]
}