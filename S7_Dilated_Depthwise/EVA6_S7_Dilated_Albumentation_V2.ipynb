{
  "nbformat": 4,
  "nbformat_minor": 0,
  "metadata": {
    "colab": {
      "name": "EVA6_S7_Dilated_Albumentation_V2.ipynb",
      "provenance": [],
      "collapsed_sections": [],
      "include_colab_link": true
    },
    "kernelspec": {
      "name": "python3",
      "display_name": "Python 3"
    },
    "accelerator": "GPU",
    "widgets": {
      "application/vnd.jupyter.widget-state+json": {
        "644f27eb456d4700bebf91d3e9ef4898": {
          "model_module": "@jupyter-widgets/controls",
          "model_name": "HBoxModel",
          "state": {
            "_view_name": "HBoxView",
            "_dom_classes": [],
            "_model_name": "HBoxModel",
            "_view_module": "@jupyter-widgets/controls",
            "_model_module_version": "1.5.0",
            "_view_count": null,
            "_view_module_version": "1.5.0",
            "box_style": "",
            "layout": "IPY_MODEL_41991636ce384c15bc0741cc81b6d4cc",
            "_model_module": "@jupyter-widgets/controls",
            "children": [
              "IPY_MODEL_f847627d47444785905d8294e17a9c52",
              "IPY_MODEL_d01a940a6bde4e75b9fe83ac68f3d886"
            ]
          }
        },
        "41991636ce384c15bc0741cc81b6d4cc": {
          "model_module": "@jupyter-widgets/base",
          "model_name": "LayoutModel",
          "state": {
            "_view_name": "LayoutView",
            "grid_template_rows": null,
            "right": null,
            "justify_content": null,
            "_view_module": "@jupyter-widgets/base",
            "overflow": null,
            "_model_module_version": "1.2.0",
            "_view_count": null,
            "flex_flow": null,
            "width": null,
            "min_width": null,
            "border": null,
            "align_items": null,
            "bottom": null,
            "_model_module": "@jupyter-widgets/base",
            "top": null,
            "grid_column": null,
            "overflow_y": null,
            "overflow_x": null,
            "grid_auto_flow": null,
            "grid_area": null,
            "grid_template_columns": null,
            "flex": null,
            "_model_name": "LayoutModel",
            "justify_items": null,
            "grid_row": null,
            "max_height": null,
            "align_content": null,
            "visibility": null,
            "align_self": null,
            "height": null,
            "min_height": null,
            "padding": null,
            "grid_auto_rows": null,
            "grid_gap": null,
            "max_width": null,
            "order": null,
            "_view_module_version": "1.2.0",
            "grid_template_areas": null,
            "object_position": null,
            "object_fit": null,
            "grid_auto_columns": null,
            "margin": null,
            "display": null,
            "left": null
          }
        },
        "f847627d47444785905d8294e17a9c52": {
          "model_module": "@jupyter-widgets/controls",
          "model_name": "FloatProgressModel",
          "state": {
            "_view_name": "ProgressView",
            "style": "IPY_MODEL_f02d12f76b0c42799aeb3f848cf9c1f6",
            "_dom_classes": [],
            "description": "",
            "_model_name": "FloatProgressModel",
            "bar_style": "success",
            "max": 170498071,
            "_view_module": "@jupyter-widgets/controls",
            "_model_module_version": "1.5.0",
            "value": 170498071,
            "_view_count": null,
            "_view_module_version": "1.5.0",
            "orientation": "horizontal",
            "min": 0,
            "description_tooltip": null,
            "_model_module": "@jupyter-widgets/controls",
            "layout": "IPY_MODEL_8931b6e68f244a248ff838ce713b9508"
          }
        },
        "d01a940a6bde4e75b9fe83ac68f3d886": {
          "model_module": "@jupyter-widgets/controls",
          "model_name": "HTMLModel",
          "state": {
            "_view_name": "HTMLView",
            "style": "IPY_MODEL_0db416eef35c4b3db099ddf128279d5d",
            "_dom_classes": [],
            "description": "",
            "_model_name": "HTMLModel",
            "placeholder": "​",
            "_view_module": "@jupyter-widgets/controls",
            "_model_module_version": "1.5.0",
            "value": " 170499072/? [00:41&lt;00:00, 4067786.14it/s]",
            "_view_count": null,
            "_view_module_version": "1.5.0",
            "description_tooltip": null,
            "_model_module": "@jupyter-widgets/controls",
            "layout": "IPY_MODEL_e67f0001b7644a358bac6503a73129cd"
          }
        },
        "f02d12f76b0c42799aeb3f848cf9c1f6": {
          "model_module": "@jupyter-widgets/controls",
          "model_name": "ProgressStyleModel",
          "state": {
            "_view_name": "StyleView",
            "_model_name": "ProgressStyleModel",
            "description_width": "initial",
            "_view_module": "@jupyter-widgets/base",
            "_model_module_version": "1.5.0",
            "_view_count": null,
            "_view_module_version": "1.2.0",
            "bar_color": null,
            "_model_module": "@jupyter-widgets/controls"
          }
        },
        "8931b6e68f244a248ff838ce713b9508": {
          "model_module": "@jupyter-widgets/base",
          "model_name": "LayoutModel",
          "state": {
            "_view_name": "LayoutView",
            "grid_template_rows": null,
            "right": null,
            "justify_content": null,
            "_view_module": "@jupyter-widgets/base",
            "overflow": null,
            "_model_module_version": "1.2.0",
            "_view_count": null,
            "flex_flow": null,
            "width": null,
            "min_width": null,
            "border": null,
            "align_items": null,
            "bottom": null,
            "_model_module": "@jupyter-widgets/base",
            "top": null,
            "grid_column": null,
            "overflow_y": null,
            "overflow_x": null,
            "grid_auto_flow": null,
            "grid_area": null,
            "grid_template_columns": null,
            "flex": null,
            "_model_name": "LayoutModel",
            "justify_items": null,
            "grid_row": null,
            "max_height": null,
            "align_content": null,
            "visibility": null,
            "align_self": null,
            "height": null,
            "min_height": null,
            "padding": null,
            "grid_auto_rows": null,
            "grid_gap": null,
            "max_width": null,
            "order": null,
            "_view_module_version": "1.2.0",
            "grid_template_areas": null,
            "object_position": null,
            "object_fit": null,
            "grid_auto_columns": null,
            "margin": null,
            "display": null,
            "left": null
          }
        },
        "0db416eef35c4b3db099ddf128279d5d": {
          "model_module": "@jupyter-widgets/controls",
          "model_name": "DescriptionStyleModel",
          "state": {
            "_view_name": "StyleView",
            "_model_name": "DescriptionStyleModel",
            "description_width": "",
            "_view_module": "@jupyter-widgets/base",
            "_model_module_version": "1.5.0",
            "_view_count": null,
            "_view_module_version": "1.2.0",
            "_model_module": "@jupyter-widgets/controls"
          }
        },
        "e67f0001b7644a358bac6503a73129cd": {
          "model_module": "@jupyter-widgets/base",
          "model_name": "LayoutModel",
          "state": {
            "_view_name": "LayoutView",
            "grid_template_rows": null,
            "right": null,
            "justify_content": null,
            "_view_module": "@jupyter-widgets/base",
            "overflow": null,
            "_model_module_version": "1.2.0",
            "_view_count": null,
            "flex_flow": null,
            "width": null,
            "min_width": null,
            "border": null,
            "align_items": null,
            "bottom": null,
            "_model_module": "@jupyter-widgets/base",
            "top": null,
            "grid_column": null,
            "overflow_y": null,
            "overflow_x": null,
            "grid_auto_flow": null,
            "grid_area": null,
            "grid_template_columns": null,
            "flex": null,
            "_model_name": "LayoutModel",
            "justify_items": null,
            "grid_row": null,
            "max_height": null,
            "align_content": null,
            "visibility": null,
            "align_self": null,
            "height": null,
            "min_height": null,
            "padding": null,
            "grid_auto_rows": null,
            "grid_gap": null,
            "max_width": null,
            "order": null,
            "_view_module_version": "1.2.0",
            "grid_template_areas": null,
            "object_position": null,
            "object_fit": null,
            "grid_auto_columns": null,
            "margin": null,
            "display": null,
            "left": null
          }
        }
      }
    }
  },
  "cells": [
    {
      "cell_type": "markdown",
      "metadata": {
        "id": "view-in-github",
        "colab_type": "text"
      },
      "source": [
        "<a href=\"https://colab.research.google.com/github/anilbhatt1/Deep_Learning_EVA6_Phase1/blob/main/EVA6_S7_Dilated_Albumentation_V2.ipynb\" target=\"_parent\"><img src=\"https://colab.research.google.com/assets/colab-badge.svg\" alt=\"Open In Colab\"/></a>"
      ]
    },
    {
      "cell_type": "code",
      "metadata": {
        "colab": {
          "base_uri": "https://localhost:8080/"
        },
        "id": "fW0oaY4BbwZI",
        "outputId": "d17ed535-0fad-4dbd-e81f-dd3fc50aecb7"
      },
      "source": [
        "!nvidia-smi"
      ],
      "execution_count": 1,
      "outputs": [
        {
          "output_type": "stream",
          "text": [
            "Fri Jun 18 17:57:01 2021       \n",
            "+-----------------------------------------------------------------------------+\n",
            "| NVIDIA-SMI 465.27       Driver Version: 460.32.03    CUDA Version: 11.2     |\n",
            "|-------------------------------+----------------------+----------------------+\n",
            "| GPU  Name        Persistence-M| Bus-Id        Disp.A | Volatile Uncorr. ECC |\n",
            "| Fan  Temp  Perf  Pwr:Usage/Cap|         Memory-Usage | GPU-Util  Compute M. |\n",
            "|                               |                      |               MIG M. |\n",
            "|===============================+======================+======================|\n",
            "|   0  Tesla T4            Off  | 00000000:00:04.0 Off |                    0 |\n",
            "| N/A   56C    P8    10W /  70W |      0MiB / 15109MiB |      0%      Default |\n",
            "|                               |                      |                  N/A |\n",
            "+-------------------------------+----------------------+----------------------+\n",
            "                                                                               \n",
            "+-----------------------------------------------------------------------------+\n",
            "| Processes:                                                                  |\n",
            "|  GPU   GI   CI        PID   Type   Process name                  GPU Memory |\n",
            "|        ID   ID                                                   Usage      |\n",
            "|=============================================================================|\n",
            "|  No running processes found                                                 |\n",
            "+-----------------------------------------------------------------------------+\n"
          ],
          "name": "stdout"
        }
      ]
    },
    {
      "cell_type": "code",
      "metadata": {
        "colab": {
          "base_uri": "https://localhost:8080/"
        },
        "id": "iyggZ25EpN3w",
        "outputId": "0ddf0b02-c6d9-4b87-f134-dc0b1b76d54c"
      },
      "source": [
        "# Mounting the drive and copying the code from github to drive\n",
        "from google.colab import drive \n",
        "drive.mount('/content/gdrive')\n",
        "!git clone https://github.com/anilbhatt1/Deep_Learning_EVA6_Phase1"
      ],
      "execution_count": 2,
      "outputs": [
        {
          "output_type": "stream",
          "text": [
            "Drive already mounted at /content/gdrive; to attempt to forcibly remount, call drive.mount(\"/content/gdrive\", force_remount=True).\n",
            "fatal: destination path 'Deep_Learning_EVA6_Phase1' already exists and is not an empty directory.\n"
          ],
          "name": "stdout"
        }
      ]
    },
    {
      "cell_type": "code",
      "metadata": {
        "colab": {
          "base_uri": "https://localhost:8080/"
        },
        "id": "EjgjE0EppkIN",
        "outputId": "9e3fe8ba-a2ba-4ee9-e289-e7344b9617a7"
      },
      "source": [
        "%cd Deep_Learning_EVA6_Phase1/src\n",
        "! ls"
      ],
      "execution_count": 3,
      "outputs": [
        {
          "output_type": "stream",
          "text": [
            "/content/Deep_Learning_EVA6_Phase1/src\n",
            "Alb_transforms.py  models.py\tREADME.md    test_loss.py   utilities.py\n",
            "data\t\t   __pycache__\ts7_model.py  train_loss.py\n"
          ],
          "name": "stdout"
        }
      ]
    },
    {
      "cell_type": "code",
      "metadata": {
        "id": "VN8gZCLmBwCR",
        "colab": {
          "base_uri": "https://localhost:8080/"
        },
        "outputId": "ef7870ba-9f12-4906-e0fd-167ffc7180da"
      },
      "source": [
        "!pip install albumentations==1.0.0"
      ],
      "execution_count": 4,
      "outputs": [
        {
          "output_type": "stream",
          "text": [
            "Requirement already satisfied: albumentations==1.0.0 in /usr/local/lib/python3.7/dist-packages (1.0.0)\n",
            "Requirement already satisfied: PyYAML in /usr/local/lib/python3.7/dist-packages (from albumentations==1.0.0) (3.13)\n",
            "Requirement already satisfied: scikit-image>=0.16.1 in /usr/local/lib/python3.7/dist-packages (from albumentations==1.0.0) (0.16.2)\n",
            "Requirement already satisfied: numpy>=1.11.1 in /usr/local/lib/python3.7/dist-packages (from albumentations==1.0.0) (1.19.5)\n",
            "Requirement already satisfied: scipy in /usr/local/lib/python3.7/dist-packages (from albumentations==1.0.0) (1.4.1)\n",
            "Requirement already satisfied: opencv-python-headless>=4.1.1 in /usr/local/lib/python3.7/dist-packages (from albumentations==1.0.0) (4.5.2.54)\n",
            "Requirement already satisfied: networkx>=2.0 in /usr/local/lib/python3.7/dist-packages (from scikit-image>=0.16.1->albumentations==1.0.0) (2.5.1)\n",
            "Requirement already satisfied: imageio>=2.3.0 in /usr/local/lib/python3.7/dist-packages (from scikit-image>=0.16.1->albumentations==1.0.0) (2.4.1)\n",
            "Requirement already satisfied: matplotlib!=3.0.0,>=2.0.0 in /usr/local/lib/python3.7/dist-packages (from scikit-image>=0.16.1->albumentations==1.0.0) (3.2.2)\n",
            "Requirement already satisfied: PyWavelets>=0.4.0 in /usr/local/lib/python3.7/dist-packages (from scikit-image>=0.16.1->albumentations==1.0.0) (1.1.1)\n",
            "Requirement already satisfied: pillow>=4.3.0 in /usr/local/lib/python3.7/dist-packages (from scikit-image>=0.16.1->albumentations==1.0.0) (7.1.2)\n",
            "Requirement already satisfied: decorator<5,>=4.3 in /usr/local/lib/python3.7/dist-packages (from networkx>=2.0->scikit-image>=0.16.1->albumentations==1.0.0) (4.4.2)\n",
            "Requirement already satisfied: cycler>=0.10 in /usr/local/lib/python3.7/dist-packages (from matplotlib!=3.0.0,>=2.0.0->scikit-image>=0.16.1->albumentations==1.0.0) (0.10.0)\n",
            "Requirement already satisfied: python-dateutil>=2.1 in /usr/local/lib/python3.7/dist-packages (from matplotlib!=3.0.0,>=2.0.0->scikit-image>=0.16.1->albumentations==1.0.0) (2.8.1)\n",
            "Requirement already satisfied: pyparsing!=2.0.4,!=2.1.2,!=2.1.6,>=2.0.1 in /usr/local/lib/python3.7/dist-packages (from matplotlib!=3.0.0,>=2.0.0->scikit-image>=0.16.1->albumentations==1.0.0) (2.4.7)\n",
            "Requirement already satisfied: kiwisolver>=1.0.1 in /usr/local/lib/python3.7/dist-packages (from matplotlib!=3.0.0,>=2.0.0->scikit-image>=0.16.1->albumentations==1.0.0) (1.3.1)\n",
            "Requirement already satisfied: six in /usr/local/lib/python3.7/dist-packages (from cycler>=0.10->matplotlib!=3.0.0,>=2.0.0->scikit-image>=0.16.1->albumentations==1.0.0) (1.15.0)\n"
          ],
          "name": "stdout"
        }
      ]
    },
    {
      "cell_type": "code",
      "metadata": {
        "id": "8kH16rnZ7wt_",
        "colab": {
          "base_uri": "https://localhost:8080/"
        },
        "outputId": "0f0ccecd-491f-44c7-efa0-de80248841c3"
      },
      "source": [
        "import torch\n",
        "import torch.nn as nn\n",
        "import torch.nn.functional as F\n",
        "import torch.optim as optim\n",
        "from torchvision import datasets, transforms\n",
        "import numpy as np\n",
        "from tqdm import tqdm\n",
        "import matplotlib.pyplot as plt\n",
        "import albumentations as A\n",
        "cuda = torch.cuda.is_available()\n",
        "print(f'Albumentations Version : {A.__version__}, Pytorch Version : {torch.__version__}, cuda:{cuda}')"
      ],
      "execution_count": 5,
      "outputs": [
        {
          "output_type": "stream",
          "text": [
            "Albumentations Version : 1.0.0, Pytorch Version : 1.9.0+cu102, cuda:True\n"
          ],
          "name": "stdout"
        }
      ]
    },
    {
      "cell_type": "code",
      "metadata": {
        "id": "Nqp2Wrfj03DA"
      },
      "source": [
        "# Import required src files\n",
        "import s7_model, utilities, train_loss, test_loss, Alb_transforms"
      ],
      "execution_count": 6,
      "outputs": []
    },
    {
      "cell_type": "markdown",
      "metadata": {
        "id": "q-pbxs8oCIEW"
      },
      "source": [
        "## Calculating mean & std-dev of CIFAR-10 train dataset. This is required for data augmentation"
      ]
    },
    {
      "cell_type": "code",
      "metadata": {
        "id": "SRnAixeoBo55",
        "colab": {
          "base_uri": "https://localhost:8080/",
          "height": 133,
          "referenced_widgets": [
            "644f27eb456d4700bebf91d3e9ef4898",
            "41991636ce384c15bc0741cc81b6d4cc",
            "f847627d47444785905d8294e17a9c52",
            "d01a940a6bde4e75b9fe83ac68f3d886",
            "f02d12f76b0c42799aeb3f848cf9c1f6",
            "8931b6e68f244a248ff838ce713b9508",
            "0db416eef35c4b3db099ddf128279d5d",
            "e67f0001b7644a358bac6503a73129cd"
          ]
        },
        "outputId": "4ecf9a07-511f-46c4-f900-a9de9db44ff6"
      },
      "source": [
        "train = datasets.CIFAR10('./data', train=True, download=True)\n",
        "\n",
        "n  = 0\n",
        "s  = np.zeros(3)\n",
        "sq = np.zeros(3)\n",
        "i  = 0\n",
        "batchsize = 128\n",
        "for data, l in train:\n",
        "  x   = np.array(data)/255                             # Image Normalization \n",
        "  s  += x.sum(axis=(0,1))                              # Summing up x & y values across 3 channels - CIFAR 10 size is 32,32,3. Useful for mean \n",
        "  sq += np.sum(np.square(x), axis=(0,1))               # Summing up x^2 and y^2 values across 3 channels. Useful for std dev calculation\n",
        "  n  += x.shape[0]*x.shape[1]                          # Summing up no: of pixels.Each channel has 32x32. Final pixels per channel = # images * 32 *32\n",
        "  i  += 1\n",
        "\n",
        "batches = int(i/batchsize)\n",
        "mu = s/n                               # mean = sum of pixel values/ no: of pixel values. Will return 3 element array as CIFAR10 has 3 channels\n",
        "std = np.sqrt((sq/n - np.square(mu)))  # std dev = sqrt[sigma{x(i) - mean}^2/N]. Will return 3 element array as CIFAR10 has 3 channels\n",
        "print(f'No: Of Train Images: {i}, Batch_size : {batchsize}, No: Of Batches:{batches}')\n",
        "print(f'Channels Mean:{mu}, Channels Stdev:{std}, Total No: of pixels:{n}')"
      ],
      "execution_count": 7,
      "outputs": [
        {
          "output_type": "stream",
          "text": [
            "Downloading https://www.cs.toronto.edu/~kriz/cifar-10-python.tar.gz to ./data/cifar-10-python.tar.gz\n"
          ],
          "name": "stdout"
        },
        {
          "output_type": "display_data",
          "data": {
            "application/vnd.jupyter.widget-view+json": {
              "model_id": "644f27eb456d4700bebf91d3e9ef4898",
              "version_minor": 0,
              "version_major": 2
            },
            "text/plain": [
              "HBox(children=(FloatProgress(value=0.0, max=170498071.0), HTML(value='')))"
            ]
          },
          "metadata": {
            "tags": []
          }
        },
        {
          "output_type": "stream",
          "text": [
            "\n",
            "Extracting ./data/cifar-10-python.tar.gz to ./data\n",
            "No: Of Train Images: 50000, Batch_size : 128, No: Of Batches:390\n",
            "Channels Mean:[0.49139968 0.48215841 0.44653091], Channels Stdev:[0.24703223 0.24348513 0.26158784], Total No: of pixels:51200000\n"
          ],
          "name": "stdout"
        }
      ]
    },
    {
      "cell_type": "markdown",
      "metadata": {
        "id": "ky3f_Odl-7um"
      },
      "source": [
        "## Applying data augmentations to train and test dataset"
      ]
    },
    {
      "cell_type": "code",
      "metadata": {
        "id": "YtssFUKb-jqx",
        "colab": {
          "base_uri": "https://localhost:8080/"
        },
        "outputId": "1cca0b44-5c7e-4fe5-e269-1e2d0feb5161"
      },
      "source": [
        "if cuda:\n",
        "    torch.cuda.manual_seed(1)\n",
        "\n",
        "dataloader_args = dict(shuffle=True, batch_size=128, num_workers=2, pin_memory=True) if cuda else dict(shuffle=True, batch_size=64)\n",
        "\n",
        "channels_mean  = [0.49139968, 0.48215841, 0.44653091]\n",
        "channels_stdev = [0.24703223, 0.24348513, 0.26158784]\n",
        "\n",
        "test_transforms   = Alb_transforms.Alb_trans([A.Normalize(mean=channels_mean, std=channels_stdev),])\n",
        "train_transforms  = Alb_transforms.Alb_trans([A.HorizontalFlip(),\n",
        "                                              A.ShiftScaleRotate(),\n",
        "                                              A.ToGray(),\n",
        "                                              A.Normalize(mean=channels_mean, std=channels_stdev),\n",
        "                                              A.CoarseDropout(max_holes=1, max_height=16, max_width=16,min_holes=1,\n",
        "                                                              min_height=16,min_width=16,fill_value=channels_mean,mask_fill_value=None),\n",
        "                                              ])\n",
        "\n",
        "train_data = datasets.CIFAR10('./data', train=True, download=True, transform=train_transforms)\n",
        "test_data  = datasets.CIFAR10('./data', train=False, download=True, transform=test_transforms)\n",
        "\n",
        "# train dataloader\n",
        "trainloader = torch.utils.data.DataLoader(train_data, **dataloader_args)\n",
        "\n",
        "# test dataloader\n",
        "testloader = torch.utils.data.DataLoader(test_data, **dataloader_args)"
      ],
      "execution_count": 7,
      "outputs": [
        {
          "output_type": "stream",
          "text": [
            "Files already downloaded and verified\n",
            "Files already downloaded and verified\n"
          ],
          "name": "stdout"
        }
      ]
    },
    {
      "cell_type": "markdown",
      "metadata": {
        "id": "oQciFYo2B1mO"
      },
      "source": [
        "## Displaying train-data after applying augmentations. This is to get an idea how images looks like."
      ]
    },
    {
      "cell_type": "code",
      "metadata": {
        "id": "_4A84rlfDA23"
      },
      "source": [
        "# Function to unnormalize and bring back to original pixel values. Transpose is to reshape the image on x & y axes and make it ready for display\n",
        "def unnormalize(img):\n",
        "    for i in range(img.shape[0]):\n",
        "        img[i] = (img[i]*channels_stdev[i])+channels_mean[i]\n",
        "    img = img.permute(1, 2, 0)\n",
        "    return img"
      ],
      "execution_count": 21,
      "outputs": []
    },
    {
      "cell_type": "code",
      "metadata": {
        "id": "C8OLDR79DrHG",
        "colab": {
          "base_uri": "https://localhost:8080/",
          "height": 863
        },
        "outputId": "1f10c3c8-ad79-4933-863f-512ec871f0ea"
      },
      "source": [
        "dataiter       = iter(trainloader)\n",
        "images, labels = dataiter.next()\n",
        "num_classes    = 10\n",
        "print(f'images.shape:{images.shape}, labels.shape:{labels.shape}')\n",
        "# display 5 images from each category. \n",
        "class_names = ['plane', 'automobile', 'bird', 'cat','deer', 'dog', 'frog', 'horse', 'ship', 'truck']\n",
        "\n",
        "row, col   = 10, 8\n",
        "num_images = 5\n",
        "fig = plt.figure(figsize=(15,15))\n",
        "fig.subplots_adjust(hspace=0.01, wspace=0.01)\n",
        "for class_num in range(num_classes):\n",
        "    idx = np.random.choice(np.where(labels[:]==class_num)[0], num_images)  ## Selecting 5 random images for each class\n",
        "    ax  = plt.subplot(row, col,class_num*col + 1)                          ## Laying out space for display of a particular class\n",
        "    ax.text(-0.1, 0.5, class_names[class_num], fontsize=14)                ## Displaying class names\n",
        "    plt.axis('off')\n",
        "    for j in range(1, num_images+1):                                       ## Displaying images one-by-one for a particular class\n",
        "        plt.subplot(row, col, class_num*col+j+1)\n",
        "        img = images[idx[j-1]]\n",
        "        plt.imshow(unnormalize(img), interpolation='none')\n",
        "        plt.axis('off')\n",
        "plt.show()"
      ],
      "execution_count": 22,
      "outputs": [
        {
          "output_type": "stream",
          "text": [
            "images.shape:torch.Size([128, 3, 32, 32]), labels.shape:torch.Size([128])\n"
          ],
          "name": "stdout"
        },
        {
          "output_type": "display_data",
          "data": {
            "image/png": "[encoded data removed]",
            "text/plain": [
              "<Figure size 1080x1080 with 60 Axes>"
            ]
          },
          "metadata": {
            "tags": [],
            "needs_background": "light"
          }
        }
      ]
    },
    {
      "cell_type": "markdown",
      "metadata": {
        "id": "M3-vp8X9LCWo"
      },
      "source": [
        "# Model Params\n"
      ]
    },
    {
      "cell_type": "code",
      "metadata": {
        "id": "u_LC6ISMyBbZ",
        "colab": {
          "base_uri": "https://localhost:8080/"
        },
        "outputId": "12a89a93-1d2b-4733-ee48-5f874e38d8e0"
      },
      "source": [
        "!pip install torchsummary\n",
        "from torchsummary import summary\n",
        "use_cuda = torch.cuda.is_available()\n",
        "device = torch.device(\"cuda\" if use_cuda else \"cpu\")\n",
        "print(device)"
      ],
      "execution_count": 23,
      "outputs": [
        {
          "output_type": "stream",
          "text": [
            "Requirement already satisfied: torchsummary in /usr/local/lib/python3.7/dist-packages (1.5.1)\n",
            "cuda\n"
          ],
          "name": "stdout"
        }
      ]
    },
    {
      "cell_type": "code",
      "metadata": {
        "id": "94uhTHqdAyqf",
        "colab": {
          "base_uri": "https://localhost:8080/"
        },
        "outputId": "0b2c6e42-b746-4e94-d189-a3933e1b7e59"
      },
      "source": [
        "model = s7_model.S7_CNNModel().to(device)\n",
        "summary(model, input_size=(3, 32, 32))"
      ],
      "execution_count": 24,
      "outputs": [
        {
          "output_type": "stream",
          "text": [
            "----------------------------------------------------------------\n",
            "        Layer (type)               Output Shape         Param #\n",
            "================================================================\n",
            "            Conv2d-1           [-1, 64, 32, 32]           1,728\n",
            "              ReLU-2           [-1, 64, 32, 32]               0\n",
            "       BatchNorm2d-3           [-1, 64, 32, 32]             128\n",
            "            Conv2d-4           [-1, 64, 32, 32]           1,152\n",
            "              ReLU-5           [-1, 64, 32, 32]               0\n",
            "       BatchNorm2d-6           [-1, 64, 32, 32]             128\n",
            "            Conv2d-7           [-1, 64, 32, 32]           4,096\n",
            "            Conv2d-8           [-1, 64, 32, 32]           1,152\n",
            "              ReLU-9           [-1, 64, 32, 32]               0\n",
            "      BatchNorm2d-10           [-1, 64, 32, 32]             128\n",
            "           Conv2d-11           [-1, 64, 32, 32]           4,096\n",
            "           Conv2d-12           [-1, 64, 32, 32]           1,152\n",
            "             ReLU-13           [-1, 64, 32, 32]               0\n",
            "      BatchNorm2d-14           [-1, 64, 32, 32]             128\n",
            "           Conv2d-15           [-1, 32, 32, 32]           2,048\n",
            "           Conv2d-16           [-1, 32, 28, 28]           9,216\n",
            "             ReLU-17           [-1, 32, 28, 28]               0\n",
            "      BatchNorm2d-18           [-1, 32, 28, 28]              64\n",
            "           Conv2d-19           [-1, 32, 26, 26]           9,216\n",
            "             ReLU-20           [-1, 32, 26, 26]               0\n",
            "      BatchNorm2d-21           [-1, 32, 26, 26]              64\n",
            "           Conv2d-22           [-1, 32, 26, 26]             288\n",
            "             ReLU-23           [-1, 32, 26, 26]               0\n",
            "      BatchNorm2d-24           [-1, 32, 26, 26]              64\n",
            "           Conv2d-25           [-1, 64, 26, 26]           2,048\n",
            "           Conv2d-26           [-1, 64, 26, 26]             576\n",
            "             ReLU-27           [-1, 64, 26, 26]               0\n",
            "      BatchNorm2d-28           [-1, 64, 26, 26]             128\n",
            "           Conv2d-29           [-1, 64, 26, 26]           4,096\n",
            "           Conv2d-30           [-1, 64, 26, 26]             576\n",
            "             ReLU-31           [-1, 64, 26, 26]               0\n",
            "      BatchNorm2d-32           [-1, 64, 26, 26]             128\n",
            "           Conv2d-33           [-1, 32, 26, 26]           2,048\n",
            "           Conv2d-34           [-1, 32, 22, 22]           9,216\n",
            "             ReLU-35           [-1, 32, 22, 22]               0\n",
            "      BatchNorm2d-36           [-1, 32, 22, 22]              64\n",
            "           Conv2d-37           [-1, 32, 20, 20]           9,216\n",
            "             ReLU-38           [-1, 32, 20, 20]               0\n",
            "      BatchNorm2d-39           [-1, 32, 20, 20]              64\n",
            "           Conv2d-40           [-1, 32, 20, 20]             288\n",
            "             ReLU-41           [-1, 32, 20, 20]               0\n",
            "      BatchNorm2d-42           [-1, 32, 20, 20]              64\n",
            "           Conv2d-43           [-1, 64, 20, 20]           2,048\n",
            "           Conv2d-44           [-1, 64, 20, 20]           1,152\n",
            "             ReLU-45           [-1, 64, 20, 20]               0\n",
            "      BatchNorm2d-46           [-1, 64, 20, 20]             128\n",
            "           Conv2d-47           [-1, 64, 20, 20]           4,096\n",
            "           Conv2d-48           [-1, 64, 20, 20]           1,152\n",
            "             ReLU-49           [-1, 64, 20, 20]               0\n",
            "      BatchNorm2d-50           [-1, 64, 20, 20]             128\n",
            "           Conv2d-51           [-1, 32, 20, 20]           2,048\n",
            "           Conv2d-52           [-1, 32, 10, 10]           9,216\n",
            "           Conv2d-53             [-1, 32, 8, 8]           9,216\n",
            "             ReLU-54             [-1, 32, 8, 8]               0\n",
            "      BatchNorm2d-55             [-1, 32, 8, 8]              64\n",
            "           Conv2d-56             [-1, 16, 6, 6]           4,608\n",
            "             ReLU-57             [-1, 16, 6, 6]               0\n",
            "      BatchNorm2d-58             [-1, 16, 6, 6]              32\n",
            "           Conv2d-59             [-1, 16, 6, 6]           2,304\n",
            "             ReLU-60             [-1, 16, 6, 6]               0\n",
            "      BatchNorm2d-61             [-1, 16, 6, 6]              32\n",
            "        AvgPool2d-62             [-1, 16, 1, 1]               0\n",
            "           Conv2d-63             [-1, 10, 1, 1]             160\n",
            "================================================================\n",
            "Total params: 99,744\n",
            "Trainable params: 99,744\n",
            "Non-trainable params: 0\n",
            "----------------------------------------------------------------\n",
            "Input size (MB): 0.01\n",
            "Forward/backward pass size (MB): 14.32\n",
            "Params size (MB): 0.38\n",
            "Estimated Total Size (MB): 14.71\n",
            "----------------------------------------------------------------\n"
          ],
          "name": "stdout"
        }
      ]
    },
    {
      "cell_type": "code",
      "metadata": {
        "id": "6y3odxd9B4Et",
        "colab": {
          "base_uri": "https://localhost:8080/"
        },
        "outputId": "0f2cba62-67ff-4b53-893d-69ecc3421d81"
      },
      "source": [
        "print(model)"
      ],
      "execution_count": 25,
      "outputs": [
        {
          "output_type": "stream",
          "text": [
            "S7_CNNModel(\n",
            "  (convblock1A): Sequential(\n",
            "    (0): Conv2d(3, 64, kernel_size=(3, 3), stride=(1, 1), padding=(1, 1), bias=False)\n",
            "    (1): ReLU()\n",
            "    (2): BatchNorm2d(64, eps=1e-05, momentum=0.1, affine=True, track_running_stats=True)\n",
            "  )\n",
            "  (depthwise1A): Sequential(\n",
            "    (0): Conv2d(64, 64, kernel_size=(3, 3), stride=(1, 1), padding=(1, 1), groups=32, bias=False)\n",
            "    (1): ReLU()\n",
            "    (2): BatchNorm2d(64, eps=1e-05, momentum=0.1, affine=True, track_running_stats=True)\n",
            "  )\n",
            "  (pointwise1A): Sequential(\n",
            "    (0): Conv2d(64, 64, kernel_size=(1, 1), stride=(1, 1), bias=False)\n",
            "  )\n",
            "  (depthwise1B): Sequential(\n",
            "    (0): Conv2d(64, 64, kernel_size=(3, 3), stride=(1, 1), padding=(1, 1), groups=32, bias=False)\n",
            "    (1): ReLU()\n",
            "    (2): BatchNorm2d(64, eps=1e-05, momentum=0.1, affine=True, track_running_stats=True)\n",
            "  )\n",
            "  (pointwise1B): Sequential(\n",
            "    (0): Conv2d(64, 64, kernel_size=(1, 1), stride=(1, 1), bias=False)\n",
            "  )\n",
            "  (depthwise1C): Sequential(\n",
            "    (0): Conv2d(64, 64, kernel_size=(3, 3), stride=(1, 1), padding=(1, 1), groups=32, bias=False)\n",
            "    (1): ReLU()\n",
            "    (2): BatchNorm2d(64, eps=1e-05, momentum=0.1, affine=True, track_running_stats=True)\n",
            "  )\n",
            "  (pointwise1C): Sequential(\n",
            "    (0): Conv2d(64, 32, kernel_size=(1, 1), stride=(1, 1), bias=False)\n",
            "  )\n",
            "  (pool1): Sequential(\n",
            "    (0): Conv2d(32, 32, kernel_size=(3, 3), stride=(1, 1), dilation=(2, 2), bias=False)\n",
            "    (1): ReLU()\n",
            "    (2): BatchNorm2d(32, eps=1e-05, momentum=0.1, affine=True, track_running_stats=True)\n",
            "  )\n",
            "  (convblock2A): Sequential(\n",
            "    (0): Conv2d(32, 32, kernel_size=(3, 3), stride=(1, 1), bias=False)\n",
            "    (1): ReLU()\n",
            "    (2): BatchNorm2d(32, eps=1e-05, momentum=0.1, affine=True, track_running_stats=True)\n",
            "  )\n",
            "  (depthwise2A): Sequential(\n",
            "    (0): Conv2d(32, 32, kernel_size=(3, 3), stride=(1, 1), padding=(1, 1), groups=32, bias=False)\n",
            "    (1): ReLU()\n",
            "    (2): BatchNorm2d(32, eps=1e-05, momentum=0.1, affine=True, track_running_stats=True)\n",
            "  )\n",
            "  (pointwise2A): Sequential(\n",
            "    (0): Conv2d(32, 64, kernel_size=(1, 1), stride=(1, 1), bias=False)\n",
            "  )\n",
            "  (depthwise2B): Sequential(\n",
            "    (0): Conv2d(64, 64, kernel_size=(3, 3), stride=(1, 1), padding=(1, 1), groups=64, bias=False)\n",
            "    (1): ReLU()\n",
            "    (2): BatchNorm2d(64, eps=1e-05, momentum=0.1, affine=True, track_running_stats=True)\n",
            "  )\n",
            "  (pointwise2B): Sequential(\n",
            "    (0): Conv2d(64, 64, kernel_size=(1, 1), stride=(1, 1), bias=False)\n",
            "  )\n",
            "  (depthwise2C): Sequential(\n",
            "    (0): Conv2d(64, 64, kernel_size=(3, 3), stride=(1, 1), padding=(1, 1), groups=64, bias=False)\n",
            "    (1): ReLU()\n",
            "    (2): BatchNorm2d(64, eps=1e-05, momentum=0.1, affine=True, track_running_stats=True)\n",
            "  )\n",
            "  (pointwise2C): Sequential(\n",
            "    (0): Conv2d(64, 32, kernel_size=(1, 1), stride=(1, 1), bias=False)\n",
            "  )\n",
            "  (pool2): Sequential(\n",
            "    (0): Conv2d(32, 32, kernel_size=(3, 3), stride=(1, 1), dilation=(2, 2), bias=False)\n",
            "    (1): ReLU()\n",
            "    (2): BatchNorm2d(32, eps=1e-05, momentum=0.1, affine=True, track_running_stats=True)\n",
            "  )\n",
            "  (convblock3A): Sequential(\n",
            "    (0): Conv2d(32, 32, kernel_size=(3, 3), stride=(1, 1), bias=False)\n",
            "    (1): ReLU()\n",
            "    (2): BatchNorm2d(32, eps=1e-05, momentum=0.1, affine=True, track_running_stats=True)\n",
            "  )\n",
            "  (depthwise3A): Sequential(\n",
            "    (0): Conv2d(32, 32, kernel_size=(3, 3), stride=(1, 1), padding=(1, 1), groups=32, bias=False)\n",
            "    (1): ReLU()\n",
            "    (2): BatchNorm2d(32, eps=1e-05, momentum=0.1, affine=True, track_running_stats=True)\n",
            "  )\n",
            "  (pointwise3A): Sequential(\n",
            "    (0): Conv2d(32, 64, kernel_size=(1, 1), stride=(1, 1), bias=False)\n",
            "  )\n",
            "  (depthwise3B): Sequential(\n",
            "    (0): Conv2d(64, 64, kernel_size=(3, 3), stride=(1, 1), padding=(1, 1), groups=32, bias=False)\n",
            "    (1): ReLU()\n",
            "    (2): BatchNorm2d(64, eps=1e-05, momentum=0.1, affine=True, track_running_stats=True)\n",
            "  )\n",
            "  (pointwise3B): Sequential(\n",
            "    (0): Conv2d(64, 64, kernel_size=(1, 1), stride=(1, 1), bias=False)\n",
            "  )\n",
            "  (depthwise3C): Sequential(\n",
            "    (0): Conv2d(64, 64, kernel_size=(3, 3), stride=(1, 1), padding=(1, 1), groups=32, bias=False)\n",
            "    (1): ReLU()\n",
            "    (2): BatchNorm2d(64, eps=1e-05, momentum=0.1, affine=True, track_running_stats=True)\n",
            "  )\n",
            "  (pointwise3C): Sequential(\n",
            "    (0): Conv2d(64, 32, kernel_size=(1, 1), stride=(1, 1), bias=False)\n",
            "  )\n",
            "  (pool3): Conv2d(32, 32, kernel_size=(3, 3), stride=(2, 2), padding=(1, 1), bias=False)\n",
            "  (convblock4A): Sequential(\n",
            "    (0): Conv2d(32, 32, kernel_size=(3, 3), stride=(1, 1), bias=False)\n",
            "    (1): ReLU()\n",
            "    (2): BatchNorm2d(32, eps=1e-05, momentum=0.1, affine=True, track_running_stats=True)\n",
            "  )\n",
            "  (convblock4B): Sequential(\n",
            "    (0): Conv2d(32, 16, kernel_size=(3, 3), stride=(1, 1), bias=False)\n",
            "    (1): ReLU()\n",
            "    (2): BatchNorm2d(16, eps=1e-05, momentum=0.1, affine=True, track_running_stats=True)\n",
            "  )\n",
            "  (dilated5A): Sequential(\n",
            "    (0): Conv2d(16, 16, kernel_size=(3, 3), stride=(1, 1), padding=(2, 2), dilation=(2, 2), bias=False)\n",
            "    (1): ReLU()\n",
            "    (2): BatchNorm2d(16, eps=1e-05, momentum=0.1, affine=True, track_running_stats=True)\n",
            "  )\n",
            "  (Gap1): Sequential(\n",
            "    (0): AvgPool2d(kernel_size=6, stride=6, padding=0)\n",
            "  )\n",
            "  (fc1): Sequential(\n",
            "    (0): Conv2d(16, 10, kernel_size=(1, 1), stride=(1, 1), bias=False)\n",
            "  )\n",
            ")\n"
          ],
          "name": "stdout"
        }
      ]
    },
    {
      "cell_type": "markdown",
      "metadata": {
        "id": "1__x_SbrL7z3"
      },
      "source": [
        "# Training and Testing\n",
        "\n"
      ]
    },
    {
      "cell_type": "code",
      "metadata": {
        "id": "SaE4Au9AAl3T"
      },
      "source": [
        "from torch.optim.lr_scheduler import OneCycleLR"
      ],
      "execution_count": 26,
      "outputs": []
    },
    {
      "cell_type": "code",
      "metadata": {
        "id": "hXEggEFqyBww",
        "colab": {
          "base_uri": "https://localhost:8080/"
        },
        "outputId": "dd8d37dd-3ce2-43eb-f0e7-5d533a3b9651"
      },
      "source": [
        "EPOCHS = 200\n",
        "model = s7_model.S7_CNNModel().to(device)\n",
        "optimizer = optim.SGD(model.parameters(), lr=0.025, momentum=0.8, weight_decay = 0)\n",
        "scheduler = OneCycleLR(optimizer, max_lr=0.2, steps_per_epoch=len(trainloader), epochs=EPOCHS)\n",
        "train_stats, test_stats = utilities.stats_collector(), utilities.stats_collector()\n",
        "train = train_loss.train_losses(model, device, trainloader, train_stats, optimizer, EPOCHS)\n",
        "test  = test_loss.test_losses(model, device, testloader, test_stats, EPOCHS)\n",
        "\n",
        "for epoch in range(EPOCHS):\n",
        "    print(f'EPOCH: {epoch}')\n",
        "    train.s6_train(epoch, L1_factor=0.0005)\n",
        "    test.s6_test(epoch)                 "
      ],
      "execution_count": 39,
      "outputs": [
        {
          "output_type": "stream",
          "text": [
            "\r  0%|          | 0/391 [00:00<?, ?it/s]"
          ],
          "name": "stderr"
        },
        {
          "output_type": "stream",
          "text": [
            "EPOCH: 0\n"
          ],
          "name": "stdout"
        },
        {
          "output_type": "stream",
          "text": [
            "Loss=1.7648762464523315 Batch_id=390 Train Accuracy=28.85: 100%|██████████| 391/391 [00:26<00:00, 14.81it/s]"
          ],
          "name": "stderr"
        },
        {
          "output_type": "stream",
          "text": [
            "Train set: Epoch : 0/200 Average loss: 0.0000, Train Accuracy: 28.85\n"
          ],
          "name": "stdout"
        },
        {
          "output_type": "stream",
          "text": [
            "\n",
            "  0%|          | 0/391 [00:00<?, ?it/s]"
          ],
          "name": "stderr"
        },
        {
          "output_type": "stream",
          "text": [
            "Test set: Epoch : 0/200 Average loss: 1.5191, Test Accuracy: 43.83\n",
            "EPOCH: 1\n"
          ],
          "name": "stdout"
        },
        {
          "output_type": "stream",
          "text": [
            "Loss=1.5812040567398071 Batch_id=390 Train Accuracy=39.94: 100%|██████████| 391/391 [00:26<00:00, 14.71it/s]"
          ],
          "name": "stderr"
        },
        {
          "output_type": "stream",
          "text": [
            "Train set: Epoch : 1/200 Average loss: 0.0000, Train Accuracy: 39.94\n"
          ],
          "name": "stdout"
        },
        {
          "output_type": "stream",
          "text": [
            "\n",
            "  0%|          | 0/391 [00:00<?, ?it/s]"
          ],
          "name": "stderr"
        },
        {
          "output_type": "stream",
          "text": [
            "Test set: Epoch : 1/200 Average loss: 1.3894, Test Accuracy: 49.75\n",
            "EPOCH: 2\n"
          ],
          "name": "stdout"
        },
        {
          "output_type": "stream",
          "text": [
            "Loss=1.4195009469985962 Batch_id=390 Train Accuracy=44.80: 100%|██████████| 391/391 [00:26<00:00, 14.60it/s]"
          ],
          "name": "stderr"
        },
        {
          "output_type": "stream",
          "text": [
            "Train set: Epoch : 2/200 Average loss: 0.0000, Train Accuracy: 44.8\n"
          ],
          "name": "stdout"
        },
        {
          "output_type": "stream",
          "text": [
            "\n",
            "  0%|          | 0/391 [00:00<?, ?it/s]"
          ],
          "name": "stderr"
        },
        {
          "output_type": "stream",
          "text": [
            "Test set: Epoch : 2/200 Average loss: 1.2005, Test Accuracy: 55.93\n",
            "EPOCH: 3\n"
          ],
          "name": "stdout"
        },
        {
          "output_type": "stream",
          "text": [
            "Loss=1.2751498222351074 Batch_id=390 Train Accuracy=48.57: 100%|██████████| 391/391 [00:27<00:00, 14.46it/s]"
          ],
          "name": "stderr"
        },
        {
          "output_type": "stream",
          "text": [
            "Train set: Epoch : 3/200 Average loss: 0.0000, Train Accuracy: 48.57\n"
          ],
          "name": "stdout"
        },
        {
          "output_type": "stream",
          "text": [
            "\n",
            "  0%|          | 0/391 [00:00<?, ?it/s]"
          ],
          "name": "stderr"
        },
        {
          "output_type": "stream",
          "text": [
            "Test set: Epoch : 3/200 Average loss: 1.1326, Test Accuracy: 58.83\n",
            "EPOCH: 4\n"
          ],
          "name": "stdout"
        },
        {
          "output_type": "stream",
          "text": [
            "Loss=1.3115357160568237 Batch_id=390 Train Accuracy=50.73: 100%|██████████| 391/391 [00:27<00:00, 14.45it/s]"
          ],
          "name": "stderr"
        },
        {
          "output_type": "stream",
          "text": [
            "Train set: Epoch : 4/200 Average loss: 0.0000, Train Accuracy: 50.73\n"
          ],
          "name": "stdout"
        },
        {
          "output_type": "stream",
          "text": [
            "\n",
            "  0%|          | 0/391 [00:00<?, ?it/s]"
          ],
          "name": "stderr"
        },
        {
          "output_type": "stream",
          "text": [
            "Test set: Epoch : 4/200 Average loss: 1.0722, Test Accuracy: 61.49\n",
            "EPOCH: 5\n"
          ],
          "name": "stdout"
        },
        {
          "output_type": "stream",
          "text": [
            "Loss=1.3389800786972046 Batch_id=390 Train Accuracy=52.76: 100%|██████████| 391/391 [00:27<00:00, 14.33it/s]"
          ],
          "name": "stderr"
        },
        {
          "output_type": "stream",
          "text": [
            "Train set: Epoch : 5/200 Average loss: 0.0000, Train Accuracy: 52.76\n"
          ],
          "name": "stdout"
        },
        {
          "output_type": "stream",
          "text": [
            "\n",
            "  0%|          | 0/391 [00:00<?, ?it/s]"
          ],
          "name": "stderr"
        },
        {
          "output_type": "stream",
          "text": [
            "Test set: Epoch : 5/200 Average loss: 1.0162, Test Accuracy: 63.48\n",
            "EPOCH: 6\n"
          ],
          "name": "stdout"
        },
        {
          "output_type": "stream",
          "text": [
            "Loss=1.5614184141159058 Batch_id=390 Train Accuracy=54.12: 100%|██████████| 391/391 [00:27<00:00, 14.37it/s]"
          ],
          "name": "stderr"
        },
        {
          "output_type": "stream",
          "text": [
            "Train set: Epoch : 6/200 Average loss: 0.0000, Train Accuracy: 54.12\n"
          ],
          "name": "stdout"
        },
        {
          "output_type": "stream",
          "text": [
            "\n",
            "  0%|          | 0/391 [00:00<?, ?it/s]"
          ],
          "name": "stderr"
        },
        {
          "output_type": "stream",
          "text": [
            "Test set: Epoch : 6/200 Average loss: 0.9859, Test Accuracy: 64.66\n",
            "EPOCH: 7\n"
          ],
          "name": "stdout"
        },
        {
          "output_type": "stream",
          "text": [
            "Loss=1.1809290647506714 Batch_id=390 Train Accuracy=55.26: 100%|██████████| 391/391 [00:27<00:00, 14.42it/s]"
          ],
          "name": "stderr"
        },
        {
          "output_type": "stream",
          "text": [
            "Train set: Epoch : 7/200 Average loss: 0.0000, Train Accuracy: 55.26\n"
          ],
          "name": "stdout"
        },
        {
          "output_type": "stream",
          "text": [
            "\n",
            "  0%|          | 0/391 [00:00<?, ?it/s]"
          ],
          "name": "stderr"
        },
        {
          "output_type": "stream",
          "text": [
            "Test set: Epoch : 7/200 Average loss: 0.9679, Test Accuracy: 65.21\n",
            "EPOCH: 8\n"
          ],
          "name": "stdout"
        },
        {
          "output_type": "stream",
          "text": [
            "Loss=1.3448461294174194 Batch_id=390 Train Accuracy=56.71: 100%|██████████| 391/391 [00:27<00:00, 14.36it/s]"
          ],
          "name": "stderr"
        },
        {
          "output_type": "stream",
          "text": [
            "Train set: Epoch : 8/200 Average loss: 0.0000, Train Accuracy: 56.71\n"
          ],
          "name": "stdout"
        },
        {
          "output_type": "stream",
          "text": [
            "\n",
            "  0%|          | 0/391 [00:00<?, ?it/s]"
          ],
          "name": "stderr"
        },
        {
          "output_type": "stream",
          "text": [
            "Test set: Epoch : 8/200 Average loss: 0.9310, Test Accuracy: 66.92\n",
            "EPOCH: 9\n"
          ],
          "name": "stdout"
        },
        {
          "output_type": "stream",
          "text": [
            "Loss=1.2805848121643066 Batch_id=390 Train Accuracy=57.44: 100%|██████████| 391/391 [00:27<00:00, 14.41it/s]"
          ],
          "name": "stderr"
        },
        {
          "output_type": "stream",
          "text": [
            "Train set: Epoch : 9/200 Average loss: 0.0000, Train Accuracy: 57.44\n"
          ],
          "name": "stdout"
        },
        {
          "output_type": "stream",
          "text": [
            "\n",
            "  0%|          | 0/391 [00:00<?, ?it/s]"
          ],
          "name": "stderr"
        },
        {
          "output_type": "stream",
          "text": [
            "Test set: Epoch : 9/200 Average loss: 0.8684, Test Accuracy: 69.58\n",
            "EPOCH: 10\n"
          ],
          "name": "stdout"
        },
        {
          "output_type": "stream",
          "text": [
            "Loss=1.1733051538467407 Batch_id=390 Train Accuracy=58.60: 100%|██████████| 391/391 [00:27<00:00, 14.21it/s]"
          ],
          "name": "stderr"
        },
        {
          "output_type": "stream",
          "text": [
            "Train set: Epoch : 10/200 Average loss: 0.0000, Train Accuracy: 58.6\n"
          ],
          "name": "stdout"
        },
        {
          "output_type": "stream",
          "text": [
            "\n",
            "  0%|          | 0/391 [00:00<?, ?it/s]"
          ],
          "name": "stderr"
        },
        {
          "output_type": "stream",
          "text": [
            "Test set: Epoch : 10/200 Average loss: 0.8632, Test Accuracy: 69.36\n",
            "EPOCH: 11\n"
          ],
          "name": "stdout"
        },
        {
          "output_type": "stream",
          "text": [
            "Loss=1.2230253219604492 Batch_id=390 Train Accuracy=59.31: 100%|██████████| 391/391 [00:27<00:00, 14.30it/s]"
          ],
          "name": "stderr"
        },
        {
          "output_type": "stream",
          "text": [
            "Train set: Epoch : 11/200 Average loss: 0.0000, Train Accuracy: 59.31\n"
          ],
          "name": "stdout"
        },
        {
          "output_type": "stream",
          "text": [
            "\n",
            "  0%|          | 0/391 [00:00<?, ?it/s]"
          ],
          "name": "stderr"
        },
        {
          "output_type": "stream",
          "text": [
            "Test set: Epoch : 11/200 Average loss: 0.8588, Test Accuracy: 69.3\n",
            "EPOCH: 12\n"
          ],
          "name": "stdout"
        },
        {
          "output_type": "stream",
          "text": [
            "Loss=1.1932365894317627 Batch_id=390 Train Accuracy=60.38: 100%|██████████| 391/391 [00:27<00:00, 14.24it/s]"
          ],
          "name": "stderr"
        },
        {
          "output_type": "stream",
          "text": [
            "Train set: Epoch : 12/200 Average loss: 0.0000, Train Accuracy: 60.38\n"
          ],
          "name": "stdout"
        },
        {
          "output_type": "stream",
          "text": [
            "\n",
            "  0%|          | 0/391 [00:00<?, ?it/s]"
          ],
          "name": "stderr"
        },
        {
          "output_type": "stream",
          "text": [
            "Test set: Epoch : 12/200 Average loss: 0.7965, Test Accuracy: 71.82\n",
            "EPOCH: 13\n"
          ],
          "name": "stdout"
        },
        {
          "output_type": "stream",
          "text": [
            "Loss=0.9259686470031738 Batch_id=390 Train Accuracy=61.11: 100%|██████████| 391/391 [00:27<00:00, 14.29it/s]"
          ],
          "name": "stderr"
        },
        {
          "output_type": "stream",
          "text": [
            "Train set: Epoch : 13/200 Average loss: 0.0000, Train Accuracy: 61.11\n"
          ],
          "name": "stdout"
        },
        {
          "output_type": "stream",
          "text": [
            "\n",
            "  0%|          | 0/391 [00:00<?, ?it/s]"
          ],
          "name": "stderr"
        },
        {
          "output_type": "stream",
          "text": [
            "Test set: Epoch : 13/200 Average loss: 0.7851, Test Accuracy: 72.34\n",
            "EPOCH: 14\n"
          ],
          "name": "stdout"
        },
        {
          "output_type": "stream",
          "text": [
            "Loss=1.1568543910980225 Batch_id=390 Train Accuracy=61.53: 100%|██████████| 391/391 [00:27<00:00, 14.24it/s]"
          ],
          "name": "stderr"
        },
        {
          "output_type": "stream",
          "text": [
            "Train set: Epoch : 14/200 Average loss: 0.0000, Train Accuracy: 61.53\n"
          ],
          "name": "stdout"
        },
        {
          "output_type": "stream",
          "text": [
            "\n",
            "  0%|          | 0/391 [00:00<?, ?it/s]"
          ],
          "name": "stderr"
        },
        {
          "output_type": "stream",
          "text": [
            "Test set: Epoch : 14/200 Average loss: 0.7906, Test Accuracy: 72.44\n",
            "EPOCH: 15\n"
          ],
          "name": "stdout"
        },
        {
          "output_type": "stream",
          "text": [
            "Loss=1.0246498584747314 Batch_id=390 Train Accuracy=62.31: 100%|██████████| 391/391 [00:27<00:00, 14.28it/s]"
          ],
          "name": "stderr"
        },
        {
          "output_type": "stream",
          "text": [
            "Train set: Epoch : 15/200 Average loss: 0.0000, Train Accuracy: 62.31\n"
          ],
          "name": "stdout"
        },
        {
          "output_type": "stream",
          "text": [
            "\n",
            "  0%|          | 0/391 [00:00<?, ?it/s]"
          ],
          "name": "stderr"
        },
        {
          "output_type": "stream",
          "text": [
            "Test set: Epoch : 15/200 Average loss: 0.7729, Test Accuracy: 72.62\n",
            "EPOCH: 16\n"
          ],
          "name": "stdout"
        },
        {
          "output_type": "stream",
          "text": [
            "Loss=1.3387190103530884 Batch_id=390 Train Accuracy=62.93: 100%|██████████| 391/391 [00:27<00:00, 14.34it/s]"
          ],
          "name": "stderr"
        },
        {
          "output_type": "stream",
          "text": [
            "Train set: Epoch : 16/200 Average loss: 0.0000, Train Accuracy: 62.93\n"
          ],
          "name": "stdout"
        },
        {
          "output_type": "stream",
          "text": [
            "\n",
            "  0%|          | 0/391 [00:00<?, ?it/s]"
          ],
          "name": "stderr"
        },
        {
          "output_type": "stream",
          "text": [
            "Test set: Epoch : 16/200 Average loss: 0.7798, Test Accuracy: 72.75\n",
            "EPOCH: 17\n"
          ],
          "name": "stdout"
        },
        {
          "output_type": "stream",
          "text": [
            "Loss=1.2320265769958496 Batch_id=390 Train Accuracy=63.15: 100%|██████████| 391/391 [00:27<00:00, 14.33it/s]"
          ],
          "name": "stderr"
        },
        {
          "output_type": "stream",
          "text": [
            "Train set: Epoch : 17/200 Average loss: 0.0000, Train Accuracy: 63.15\n"
          ],
          "name": "stdout"
        },
        {
          "output_type": "stream",
          "text": [
            "\n",
            "  0%|          | 0/391 [00:00<?, ?it/s]"
          ],
          "name": "stderr"
        },
        {
          "output_type": "stream",
          "text": [
            "Test set: Epoch : 17/200 Average loss: 0.7239, Test Accuracy: 74.64\n",
            "EPOCH: 18\n"
          ],
          "name": "stdout"
        },
        {
          "output_type": "stream",
          "text": [
            "Loss=1.1354305744171143 Batch_id=390 Train Accuracy=63.52: 100%|██████████| 391/391 [00:27<00:00, 14.31it/s]"
          ],
          "name": "stderr"
        },
        {
          "output_type": "stream",
          "text": [
            "Train set: Epoch : 18/200 Average loss: 0.0000, Train Accuracy: 63.52\n"
          ],
          "name": "stdout"
        },
        {
          "output_type": "stream",
          "text": [
            "\n",
            "  0%|          | 0/391 [00:00<?, ?it/s]"
          ],
          "name": "stderr"
        },
        {
          "output_type": "stream",
          "text": [
            "Test set: Epoch : 18/200 Average loss: 0.7205, Test Accuracy: 74.83\n",
            "EPOCH: 19\n"
          ],
          "name": "stdout"
        },
        {
          "output_type": "stream",
          "text": [
            "Loss=1.181518316268921 Batch_id=390 Train Accuracy=64.41: 100%|██████████| 391/391 [00:27<00:00, 14.26it/s]"
          ],
          "name": "stderr"
        },
        {
          "output_type": "stream",
          "text": [
            "Train set: Epoch : 19/200 Average loss: 0.0000, Train Accuracy: 64.41\n"
          ],
          "name": "stdout"
        },
        {
          "output_type": "stream",
          "text": [
            "\n",
            "  0%|          | 0/391 [00:00<?, ?it/s]"
          ],
          "name": "stderr"
        },
        {
          "output_type": "stream",
          "text": [
            "Test set: Epoch : 19/200 Average loss: 0.7148, Test Accuracy: 75.11\n",
            "EPOCH: 20\n"
          ],
          "name": "stdout"
        },
        {
          "output_type": "stream",
          "text": [
            "Loss=1.1672204732894897 Batch_id=390 Train Accuracy=64.76: 100%|██████████| 391/391 [00:27<00:00, 14.32it/s]"
          ],
          "name": "stderr"
        },
        {
          "output_type": "stream",
          "text": [
            "Train set: Epoch : 20/200 Average loss: 0.0000, Train Accuracy: 64.76\n"
          ],
          "name": "stdout"
        },
        {
          "output_type": "stream",
          "text": [
            "\n",
            "  0%|          | 0/391 [00:00<?, ?it/s]"
          ],
          "name": "stderr"
        },
        {
          "output_type": "stream",
          "text": [
            "Test set: Epoch : 20/200 Average loss: 0.7164, Test Accuracy: 74.87\n",
            "EPOCH: 21\n"
          ],
          "name": "stdout"
        },
        {
          "output_type": "stream",
          "text": [
            "Loss=0.8974834680557251 Batch_id=390 Train Accuracy=64.87: 100%|██████████| 391/391 [00:27<00:00, 14.29it/s]"
          ],
          "name": "stderr"
        },
        {
          "output_type": "stream",
          "text": [
            "Train set: Epoch : 21/200 Average loss: 0.0000, Train Accuracy: 64.87\n"
          ],
          "name": "stdout"
        },
        {
          "output_type": "stream",
          "text": [
            "\n",
            "  0%|          | 0/391 [00:00<?, ?it/s]"
          ],
          "name": "stderr"
        },
        {
          "output_type": "stream",
          "text": [
            "Test set: Epoch : 21/200 Average loss: 0.6933, Test Accuracy: 75.92\n",
            "EPOCH: 22\n"
          ],
          "name": "stdout"
        },
        {
          "output_type": "stream",
          "text": [
            "Loss=1.1093101501464844 Batch_id=390 Train Accuracy=65.33: 100%|██████████| 391/391 [00:27<00:00, 14.09it/s]"
          ],
          "name": "stderr"
        },
        {
          "output_type": "stream",
          "text": [
            "Train set: Epoch : 22/200 Average loss: 0.0000, Train Accuracy: 65.33\n"
          ],
          "name": "stdout"
        },
        {
          "output_type": "stream",
          "text": [
            "\n",
            "  0%|          | 0/391 [00:00<?, ?it/s]"
          ],
          "name": "stderr"
        },
        {
          "output_type": "stream",
          "text": [
            "Test set: Epoch : 22/200 Average loss: 0.6844, Test Accuracy: 76.29\n",
            "EPOCH: 23\n"
          ],
          "name": "stdout"
        },
        {
          "output_type": "stream",
          "text": [
            "Loss=0.9279069900512695 Batch_id=390 Train Accuracy=66.05: 100%|██████████| 391/391 [00:27<00:00, 14.04it/s]"
          ],
          "name": "stderr"
        },
        {
          "output_type": "stream",
          "text": [
            "Train set: Epoch : 23/200 Average loss: 0.0000, Train Accuracy: 66.05\n"
          ],
          "name": "stdout"
        },
        {
          "output_type": "stream",
          "text": [
            "\n",
            "  0%|          | 0/391 [00:00<?, ?it/s]"
          ],
          "name": "stderr"
        },
        {
          "output_type": "stream",
          "text": [
            "Test set: Epoch : 23/200 Average loss: 0.6720, Test Accuracy: 76.52\n",
            "EPOCH: 24\n"
          ],
          "name": "stdout"
        },
        {
          "output_type": "stream",
          "text": [
            "Loss=0.9359261393547058 Batch_id=390 Train Accuracy=65.88: 100%|██████████| 391/391 [00:27<00:00, 14.14it/s]"
          ],
          "name": "stderr"
        },
        {
          "output_type": "stream",
          "text": [
            "Train set: Epoch : 24/200 Average loss: 0.0000, Train Accuracy: 65.88\n"
          ],
          "name": "stdout"
        },
        {
          "output_type": "stream",
          "text": [
            "\n",
            "  0%|          | 0/391 [00:00<?, ?it/s]"
          ],
          "name": "stderr"
        },
        {
          "output_type": "stream",
          "text": [
            "Test set: Epoch : 24/200 Average loss: 0.6638, Test Accuracy: 76.75\n",
            "EPOCH: 25\n"
          ],
          "name": "stdout"
        },
        {
          "output_type": "stream",
          "text": [
            "Loss=0.9560215473175049 Batch_id=390 Train Accuracy=66.69: 100%|██████████| 391/391 [00:27<00:00, 14.24it/s]"
          ],
          "name": "stderr"
        },
        {
          "output_type": "stream",
          "text": [
            "Train set: Epoch : 25/200 Average loss: 0.0000, Train Accuracy: 66.69\n"
          ],
          "name": "stdout"
        },
        {
          "output_type": "stream",
          "text": [
            "\n",
            "  0%|          | 0/391 [00:00<?, ?it/s]"
          ],
          "name": "stderr"
        },
        {
          "output_type": "stream",
          "text": [
            "Test set: Epoch : 25/200 Average loss: 0.6628, Test Accuracy: 76.7\n",
            "EPOCH: 26\n"
          ],
          "name": "stdout"
        },
        {
          "output_type": "stream",
          "text": [
            "Loss=0.9423319101333618 Batch_id=390 Train Accuracy=66.93: 100%|██████████| 391/391 [00:27<00:00, 14.23it/s]"
          ],
          "name": "stderr"
        },
        {
          "output_type": "stream",
          "text": [
            "Train set: Epoch : 26/200 Average loss: 0.0000, Train Accuracy: 66.93\n"
          ],
          "name": "stdout"
        },
        {
          "output_type": "stream",
          "text": [
            "\n",
            "  0%|          | 0/391 [00:00<?, ?it/s]"
          ],
          "name": "stderr"
        },
        {
          "output_type": "stream",
          "text": [
            "Test set: Epoch : 26/200 Average loss: 0.6643, Test Accuracy: 76.71\n",
            "EPOCH: 27\n"
          ],
          "name": "stdout"
        },
        {
          "output_type": "stream",
          "text": [
            "Loss=0.9698487520217896 Batch_id=390 Train Accuracy=67.02: 100%|██████████| 391/391 [00:27<00:00, 14.19it/s]"
          ],
          "name": "stderr"
        },
        {
          "output_type": "stream",
          "text": [
            "Train set: Epoch : 27/200 Average loss: 0.0000, Train Accuracy: 67.02\n"
          ],
          "name": "stdout"
        },
        {
          "output_type": "stream",
          "text": [
            "\n",
            "  0%|          | 0/391 [00:00<?, ?it/s]"
          ],
          "name": "stderr"
        },
        {
          "output_type": "stream",
          "text": [
            "Test set: Epoch : 27/200 Average loss: 0.6393, Test Accuracy: 77.51\n",
            "EPOCH: 28\n"
          ],
          "name": "stdout"
        },
        {
          "output_type": "stream",
          "text": [
            "Loss=0.9953485727310181 Batch_id=390 Train Accuracy=67.64: 100%|██████████| 391/391 [00:27<00:00, 14.13it/s]"
          ],
          "name": "stderr"
        },
        {
          "output_type": "stream",
          "text": [
            "Train set: Epoch : 28/200 Average loss: 0.0000, Train Accuracy: 67.64\n"
          ],
          "name": "stdout"
        },
        {
          "output_type": "stream",
          "text": [
            "\n",
            "  0%|          | 0/391 [00:00<?, ?it/s]"
          ],
          "name": "stderr"
        },
        {
          "output_type": "stream",
          "text": [
            "Test set: Epoch : 28/200 Average loss: 0.6464, Test Accuracy: 77.46\n",
            "EPOCH: 29\n"
          ],
          "name": "stdout"
        },
        {
          "output_type": "stream",
          "text": [
            "Loss=0.8080469965934753 Batch_id=390 Train Accuracy=67.41: 100%|██████████| 391/391 [00:27<00:00, 14.09it/s]"
          ],
          "name": "stderr"
        },
        {
          "output_type": "stream",
          "text": [
            "Train set: Epoch : 29/200 Average loss: 0.0000, Train Accuracy: 67.41\n"
          ],
          "name": "stdout"
        },
        {
          "output_type": "stream",
          "text": [
            "\n",
            "  0%|          | 0/391 [00:00<?, ?it/s]"
          ],
          "name": "stderr"
        },
        {
          "output_type": "stream",
          "text": [
            "Test set: Epoch : 29/200 Average loss: 0.6343, Test Accuracy: 77.99\n",
            "EPOCH: 30\n"
          ],
          "name": "stdout"
        },
        {
          "output_type": "stream",
          "text": [
            "Loss=1.137485146522522 Batch_id=390 Train Accuracy=68.14: 100%|██████████| 391/391 [00:27<00:00, 14.14it/s]"
          ],
          "name": "stderr"
        },
        {
          "output_type": "stream",
          "text": [
            "Train set: Epoch : 30/200 Average loss: 0.0000, Train Accuracy: 68.14\n"
          ],
          "name": "stdout"
        },
        {
          "output_type": "stream",
          "text": [
            "\n",
            "  0%|          | 0/391 [00:00<?, ?it/s]"
          ],
          "name": "stderr"
        },
        {
          "output_type": "stream",
          "text": [
            "Test set: Epoch : 30/200 Average loss: 0.6411, Test Accuracy: 77.82\n",
            "EPOCH: 31\n"
          ],
          "name": "stdout"
        },
        {
          "output_type": "stream",
          "text": [
            "Loss=1.0508904457092285 Batch_id=390 Train Accuracy=68.06: 100%|██████████| 391/391 [00:27<00:00, 14.17it/s]"
          ],
          "name": "stderr"
        },
        {
          "output_type": "stream",
          "text": [
            "Train set: Epoch : 31/200 Average loss: 0.0000, Train Accuracy: 68.06\n"
          ],
          "name": "stdout"
        },
        {
          "output_type": "stream",
          "text": [
            "\n",
            "  0%|          | 0/391 [00:00<?, ?it/s]"
          ],
          "name": "stderr"
        },
        {
          "output_type": "stream",
          "text": [
            "Test set: Epoch : 31/200 Average loss: 0.6277, Test Accuracy: 78.05\n",
            "EPOCH: 32\n"
          ],
          "name": "stdout"
        },
        {
          "output_type": "stream",
          "text": [
            "Loss=0.9572073817253113 Batch_id=390 Train Accuracy=68.37: 100%|██████████| 391/391 [00:27<00:00, 14.24it/s]"
          ],
          "name": "stderr"
        },
        {
          "output_type": "stream",
          "text": [
            "Train set: Epoch : 32/200 Average loss: 0.0000, Train Accuracy: 68.37\n"
          ],
          "name": "stdout"
        },
        {
          "output_type": "stream",
          "text": [
            "\n",
            "  0%|          | 0/391 [00:00<?, ?it/s]"
          ],
          "name": "stderr"
        },
        {
          "output_type": "stream",
          "text": [
            "Test set: Epoch : 32/200 Average loss: 0.6230, Test Accuracy: 78.5\n",
            "EPOCH: 33\n"
          ],
          "name": "stdout"
        },
        {
          "output_type": "stream",
          "text": [
            "Loss=0.8222858905792236 Batch_id=390 Train Accuracy=68.54: 100%|██████████| 391/391 [00:27<00:00, 14.22it/s]"
          ],
          "name": "stderr"
        },
        {
          "output_type": "stream",
          "text": [
            "Train set: Epoch : 33/200 Average loss: 0.0000, Train Accuracy: 68.54\n"
          ],
          "name": "stdout"
        },
        {
          "output_type": "stream",
          "text": [
            "\n",
            "  0%|          | 0/391 [00:00<?, ?it/s]"
          ],
          "name": "stderr"
        },
        {
          "output_type": "stream",
          "text": [
            "Test set: Epoch : 33/200 Average loss: 0.6254, Test Accuracy: 78.14\n",
            "EPOCH: 34\n"
          ],
          "name": "stdout"
        },
        {
          "output_type": "stream",
          "text": [
            "Loss=0.8593858480453491 Batch_id=390 Train Accuracy=68.87: 100%|██████████| 391/391 [00:27<00:00, 14.19it/s]"
          ],
          "name": "stderr"
        },
        {
          "output_type": "stream",
          "text": [
            "Train set: Epoch : 34/200 Average loss: 0.0000, Train Accuracy: 68.87\n"
          ],
          "name": "stdout"
        },
        {
          "output_type": "stream",
          "text": [
            "\n",
            "  0%|          | 0/391 [00:00<?, ?it/s]"
          ],
          "name": "stderr"
        },
        {
          "output_type": "stream",
          "text": [
            "Test set: Epoch : 34/200 Average loss: 0.6272, Test Accuracy: 78.45\n",
            "EPOCH: 35\n"
          ],
          "name": "stdout"
        },
        {
          "output_type": "stream",
          "text": [
            "Loss=0.7141827344894409 Batch_id=390 Train Accuracy=69.26: 100%|██████████| 391/391 [00:27<00:00, 14.17it/s]"
          ],
          "name": "stderr"
        },
        {
          "output_type": "stream",
          "text": [
            "Train set: Epoch : 35/200 Average loss: 0.0000, Train Accuracy: 69.26\n"
          ],
          "name": "stdout"
        },
        {
          "output_type": "stream",
          "text": [
            "\n",
            "  0%|          | 0/391 [00:00<?, ?it/s]"
          ],
          "name": "stderr"
        },
        {
          "output_type": "stream",
          "text": [
            "Test set: Epoch : 35/200 Average loss: 0.6008, Test Accuracy: 78.86\n",
            "EPOCH: 36\n"
          ],
          "name": "stdout"
        },
        {
          "output_type": "stream",
          "text": [
            "Loss=0.8852272033691406 Batch_id=390 Train Accuracy=69.17: 100%|██████████| 391/391 [00:27<00:00, 14.19it/s]"
          ],
          "name": "stderr"
        },
        {
          "output_type": "stream",
          "text": [
            "Train set: Epoch : 36/200 Average loss: 0.0000, Train Accuracy: 69.17\n"
          ],
          "name": "stdout"
        },
        {
          "output_type": "stream",
          "text": [
            "\n",
            "  0%|          | 0/391 [00:00<?, ?it/s]"
          ],
          "name": "stderr"
        },
        {
          "output_type": "stream",
          "text": [
            "Test set: Epoch : 36/200 Average loss: 0.6122, Test Accuracy: 78.5\n",
            "EPOCH: 37\n"
          ],
          "name": "stdout"
        },
        {
          "output_type": "stream",
          "text": [
            "Loss=0.9722157120704651 Batch_id=390 Train Accuracy=69.44: 100%|██████████| 391/391 [00:27<00:00, 14.18it/s]"
          ],
          "name": "stderr"
        },
        {
          "output_type": "stream",
          "text": [
            "Train set: Epoch : 37/200 Average loss: 0.0000, Train Accuracy: 69.44\n"
          ],
          "name": "stdout"
        },
        {
          "output_type": "stream",
          "text": [
            "\n",
            "  0%|          | 0/391 [00:00<?, ?it/s]"
          ],
          "name": "stderr"
        },
        {
          "output_type": "stream",
          "text": [
            "Test set: Epoch : 37/200 Average loss: 0.5811, Test Accuracy: 79.7\n",
            "EPOCH: 38\n"
          ],
          "name": "stdout"
        },
        {
          "output_type": "stream",
          "text": [
            "Loss=0.7447943687438965 Batch_id=390 Train Accuracy=69.81: 100%|██████████| 391/391 [00:27<00:00, 14.21it/s]"
          ],
          "name": "stderr"
        },
        {
          "output_type": "stream",
          "text": [
            "Train set: Epoch : 38/200 Average loss: 0.0000, Train Accuracy: 69.81\n"
          ],
          "name": "stdout"
        },
        {
          "output_type": "stream",
          "text": [
            "\n",
            "  0%|          | 0/391 [00:00<?, ?it/s]"
          ],
          "name": "stderr"
        },
        {
          "output_type": "stream",
          "text": [
            "Test set: Epoch : 38/200 Average loss: 0.5842, Test Accuracy: 79.6\n",
            "EPOCH: 39\n"
          ],
          "name": "stdout"
        },
        {
          "output_type": "stream",
          "text": [
            "Loss=0.848170280456543 Batch_id=390 Train Accuracy=70.21: 100%|██████████| 391/391 [00:27<00:00, 14.18it/s]"
          ],
          "name": "stderr"
        },
        {
          "output_type": "stream",
          "text": [
            "Train set: Epoch : 39/200 Average loss: 0.0000, Train Accuracy: 70.21\n"
          ],
          "name": "stdout"
        },
        {
          "output_type": "stream",
          "text": [
            "\n",
            "  0%|          | 0/391 [00:00<?, ?it/s]"
          ],
          "name": "stderr"
        },
        {
          "output_type": "stream",
          "text": [
            "Test set: Epoch : 39/200 Average loss: 0.5889, Test Accuracy: 79.67\n",
            "EPOCH: 40\n"
          ],
          "name": "stdout"
        },
        {
          "output_type": "stream",
          "text": [
            "Loss=0.6277278065681458 Batch_id=390 Train Accuracy=70.35: 100%|██████████| 391/391 [00:27<00:00, 14.26it/s]"
          ],
          "name": "stderr"
        },
        {
          "output_type": "stream",
          "text": [
            "Train set: Epoch : 40/200 Average loss: 0.0000, Train Accuracy: 70.35\n"
          ],
          "name": "stdout"
        },
        {
          "output_type": "stream",
          "text": [
            "\n",
            "  0%|          | 0/391 [00:00<?, ?it/s]"
          ],
          "name": "stderr"
        },
        {
          "output_type": "stream",
          "text": [
            "Test set: Epoch : 40/200 Average loss: 0.5948, Test Accuracy: 79.59\n",
            "EPOCH: 41\n"
          ],
          "name": "stdout"
        },
        {
          "output_type": "stream",
          "text": [
            "Loss=0.6471081376075745 Batch_id=390 Train Accuracy=70.47: 100%|██████████| 391/391 [00:27<00:00, 14.26it/s]"
          ],
          "name": "stderr"
        },
        {
          "output_type": "stream",
          "text": [
            "Train set: Epoch : 41/200 Average loss: 0.0000, Train Accuracy: 70.47\n"
          ],
          "name": "stdout"
        },
        {
          "output_type": "stream",
          "text": [
            "\n",
            "  0%|          | 0/391 [00:00<?, ?it/s]"
          ],
          "name": "stderr"
        },
        {
          "output_type": "stream",
          "text": [
            "Test set: Epoch : 41/200 Average loss: 0.5588, Test Accuracy: 80.95\n",
            "EPOCH: 42\n"
          ],
          "name": "stdout"
        },
        {
          "output_type": "stream",
          "text": [
            "Loss=0.7684924006462097 Batch_id=390 Train Accuracy=70.50: 100%|██████████| 391/391 [00:27<00:00, 14.26it/s]"
          ],
          "name": "stderr"
        },
        {
          "output_type": "stream",
          "text": [
            "Train set: Epoch : 42/200 Average loss: 0.0000, Train Accuracy: 70.5\n"
          ],
          "name": "stdout"
        },
        {
          "output_type": "stream",
          "text": [
            "\n",
            "  0%|          | 0/391 [00:00<?, ?it/s]"
          ],
          "name": "stderr"
        },
        {
          "output_type": "stream",
          "text": [
            "Test set: Epoch : 42/200 Average loss: 0.5583, Test Accuracy: 80.5\n",
            "EPOCH: 43\n"
          ],
          "name": "stdout"
        },
        {
          "output_type": "stream",
          "text": [
            "Loss=0.8167582154273987 Batch_id=390 Train Accuracy=70.65: 100%|██████████| 391/391 [00:27<00:00, 14.26it/s]"
          ],
          "name": "stderr"
        },
        {
          "output_type": "stream",
          "text": [
            "Train set: Epoch : 43/200 Average loss: 0.0000, Train Accuracy: 70.65\n"
          ],
          "name": "stdout"
        },
        {
          "output_type": "stream",
          "text": [
            "\n",
            "  0%|          | 0/391 [00:00<?, ?it/s]"
          ],
          "name": "stderr"
        },
        {
          "output_type": "stream",
          "text": [
            "Test set: Epoch : 43/200 Average loss: 0.5634, Test Accuracy: 80.57\n",
            "EPOCH: 44\n"
          ],
          "name": "stdout"
        },
        {
          "output_type": "stream",
          "text": [
            "Loss=0.8606036901473999 Batch_id=390 Train Accuracy=71.09: 100%|██████████| 391/391 [00:27<00:00, 14.20it/s]"
          ],
          "name": "stderr"
        },
        {
          "output_type": "stream",
          "text": [
            "Train set: Epoch : 44/200 Average loss: 0.0000, Train Accuracy: 71.09\n"
          ],
          "name": "stdout"
        },
        {
          "output_type": "stream",
          "text": [
            "\n",
            "  0%|          | 0/391 [00:00<?, ?it/s]"
          ],
          "name": "stderr"
        },
        {
          "output_type": "stream",
          "text": [
            "Test set: Epoch : 44/200 Average loss: 0.5688, Test Accuracy: 80.26\n",
            "EPOCH: 45\n"
          ],
          "name": "stdout"
        },
        {
          "output_type": "stream",
          "text": [
            "Loss=0.9697200059890747 Batch_id=390 Train Accuracy=71.13: 100%|██████████| 391/391 [00:27<00:00, 14.19it/s]"
          ],
          "name": "stderr"
        },
        {
          "output_type": "stream",
          "text": [
            "Train set: Epoch : 45/200 Average loss: 0.0000, Train Accuracy: 71.13\n"
          ],
          "name": "stdout"
        },
        {
          "output_type": "stream",
          "text": [
            "\n",
            "  0%|          | 0/391 [00:00<?, ?it/s]"
          ],
          "name": "stderr"
        },
        {
          "output_type": "stream",
          "text": [
            "Test set: Epoch : 45/200 Average loss: 0.5539, Test Accuracy: 80.92\n",
            "EPOCH: 46\n"
          ],
          "name": "stdout"
        },
        {
          "output_type": "stream",
          "text": [
            "Loss=0.9813822507858276 Batch_id=390 Train Accuracy=70.96: 100%|██████████| 391/391 [00:27<00:00, 14.09it/s]"
          ],
          "name": "stderr"
        },
        {
          "output_type": "stream",
          "text": [
            "Train set: Epoch : 46/200 Average loss: 0.0000, Train Accuracy: 70.96\n"
          ],
          "name": "stdout"
        },
        {
          "output_type": "stream",
          "text": [
            "\n",
            "  0%|          | 0/391 [00:00<?, ?it/s]"
          ],
          "name": "stderr"
        },
        {
          "output_type": "stream",
          "text": [
            "Test set: Epoch : 46/200 Average loss: 0.5591, Test Accuracy: 80.91\n",
            "EPOCH: 47\n"
          ],
          "name": "stdout"
        },
        {
          "output_type": "stream",
          "text": [
            "Loss=0.5187575817108154 Batch_id=390 Train Accuracy=71.29: 100%|██████████| 391/391 [00:27<00:00, 14.11it/s]"
          ],
          "name": "stderr"
        },
        {
          "output_type": "stream",
          "text": [
            "Train set: Epoch : 47/200 Average loss: 0.0000, Train Accuracy: 71.29\n"
          ],
          "name": "stdout"
        },
        {
          "output_type": "stream",
          "text": [
            "\n",
            "  0%|          | 0/391 [00:00<?, ?it/s]"
          ],
          "name": "stderr"
        },
        {
          "output_type": "stream",
          "text": [
            "Test set: Epoch : 47/200 Average loss: 0.5328, Test Accuracy: 81.63\n",
            "EPOCH: 48\n"
          ],
          "name": "stdout"
        },
        {
          "output_type": "stream",
          "text": [
            "Loss=0.8367276787757874 Batch_id=390 Train Accuracy=71.37: 100%|██████████| 391/391 [00:27<00:00, 14.16it/s]"
          ],
          "name": "stderr"
        },
        {
          "output_type": "stream",
          "text": [
            "Train set: Epoch : 48/200 Average loss: 0.0000, Train Accuracy: 71.37\n"
          ],
          "name": "stdout"
        },
        {
          "output_type": "stream",
          "text": [
            "\n",
            "  0%|          | 0/391 [00:00<?, ?it/s]"
          ],
          "name": "stderr"
        },
        {
          "output_type": "stream",
          "text": [
            "Test set: Epoch : 48/200 Average loss: 0.5386, Test Accuracy: 81.73\n",
            "EPOCH: 49\n"
          ],
          "name": "stdout"
        },
        {
          "output_type": "stream",
          "text": [
            "Loss=0.7257537841796875 Batch_id=390 Train Accuracy=71.59: 100%|██████████| 391/391 [00:27<00:00, 14.05it/s]"
          ],
          "name": "stderr"
        },
        {
          "output_type": "stream",
          "text": [
            "Train set: Epoch : 49/200 Average loss: 0.0000, Train Accuracy: 71.59\n"
          ],
          "name": "stdout"
        },
        {
          "output_type": "stream",
          "text": [
            "\n",
            "  0%|          | 0/391 [00:00<?, ?it/s]"
          ],
          "name": "stderr"
        },
        {
          "output_type": "stream",
          "text": [
            "Test set: Epoch : 49/200 Average loss: 0.5646, Test Accuracy: 80.87\n",
            "EPOCH: 50\n"
          ],
          "name": "stdout"
        },
        {
          "output_type": "stream",
          "text": [
            "Loss=0.8480237126350403 Batch_id=390 Train Accuracy=71.80: 100%|██████████| 391/391 [00:27<00:00, 14.11it/s]"
          ],
          "name": "stderr"
        },
        {
          "output_type": "stream",
          "text": [
            "Train set: Epoch : 50/200 Average loss: 0.0000, Train Accuracy: 71.8\n"
          ],
          "name": "stdout"
        },
        {
          "output_type": "stream",
          "text": [
            "\n",
            "  0%|          | 0/391 [00:00<?, ?it/s]"
          ],
          "name": "stderr"
        },
        {
          "output_type": "stream",
          "text": [
            "Test set: Epoch : 50/200 Average loss: 0.5621, Test Accuracy: 81.11\n",
            "EPOCH: 51\n"
          ],
          "name": "stdout"
        },
        {
          "output_type": "stream",
          "text": [
            "Loss=0.8804602026939392 Batch_id=390 Train Accuracy=71.81: 100%|██████████| 391/391 [00:27<00:00, 14.17it/s]"
          ],
          "name": "stderr"
        },
        {
          "output_type": "stream",
          "text": [
            "Train set: Epoch : 51/200 Average loss: 0.0000, Train Accuracy: 71.81\n"
          ],
          "name": "stdout"
        },
        {
          "output_type": "stream",
          "text": [
            "\n",
            "  0%|          | 0/391 [00:00<?, ?it/s]"
          ],
          "name": "stderr"
        },
        {
          "output_type": "stream",
          "text": [
            "Test set: Epoch : 51/200 Average loss: 0.5588, Test Accuracy: 80.55\n",
            "EPOCH: 52\n"
          ],
          "name": "stdout"
        },
        {
          "output_type": "stream",
          "text": [
            "Loss=0.6757911443710327 Batch_id=390 Train Accuracy=71.86: 100%|██████████| 391/391 [00:27<00:00, 14.11it/s]"
          ],
          "name": "stderr"
        },
        {
          "output_type": "stream",
          "text": [
            "Train set: Epoch : 52/200 Average loss: 0.0000, Train Accuracy: 71.86\n"
          ],
          "name": "stdout"
        },
        {
          "output_type": "stream",
          "text": [
            "\n",
            "  0%|          | 0/391 [00:00<?, ?it/s]"
          ],
          "name": "stderr"
        },
        {
          "output_type": "stream",
          "text": [
            "Test set: Epoch : 52/200 Average loss: 0.5373, Test Accuracy: 81.71\n",
            "EPOCH: 53\n"
          ],
          "name": "stdout"
        },
        {
          "output_type": "stream",
          "text": [
            "Loss=0.7157280445098877 Batch_id=390 Train Accuracy=71.65: 100%|██████████| 391/391 [00:27<00:00, 14.12it/s]"
          ],
          "name": "stderr"
        },
        {
          "output_type": "stream",
          "text": [
            "Train set: Epoch : 53/200 Average loss: 0.0000, Train Accuracy: 71.65\n"
          ],
          "name": "stdout"
        },
        {
          "output_type": "stream",
          "text": [
            "\n",
            "  0%|          | 0/391 [00:00<?, ?it/s]"
          ],
          "name": "stderr"
        },
        {
          "output_type": "stream",
          "text": [
            "Test set: Epoch : 53/200 Average loss: 0.5344, Test Accuracy: 81.48\n",
            "EPOCH: 54\n"
          ],
          "name": "stdout"
        },
        {
          "output_type": "stream",
          "text": [
            "Loss=0.7669557929039001 Batch_id=390 Train Accuracy=72.50: 100%|██████████| 391/391 [00:27<00:00, 14.12it/s]"
          ],
          "name": "stderr"
        },
        {
          "output_type": "stream",
          "text": [
            "Train set: Epoch : 54/200 Average loss: 0.0000, Train Accuracy: 72.5\n"
          ],
          "name": "stdout"
        },
        {
          "output_type": "stream",
          "text": [
            "\n",
            "  0%|          | 0/391 [00:00<?, ?it/s]"
          ],
          "name": "stderr"
        },
        {
          "output_type": "stream",
          "text": [
            "Test set: Epoch : 54/200 Average loss: 0.5356, Test Accuracy: 81.65\n",
            "EPOCH: 55\n"
          ],
          "name": "stdout"
        },
        {
          "output_type": "stream",
          "text": [
            "Loss=0.8148732781410217 Batch_id=390 Train Accuracy=72.60: 100%|██████████| 391/391 [00:27<00:00, 14.06it/s]"
          ],
          "name": "stderr"
        },
        {
          "output_type": "stream",
          "text": [
            "Train set: Epoch : 55/200 Average loss: 0.0000, Train Accuracy: 72.6\n"
          ],
          "name": "stdout"
        },
        {
          "output_type": "stream",
          "text": [
            "\n",
            "  0%|          | 0/391 [00:00<?, ?it/s]"
          ],
          "name": "stderr"
        },
        {
          "output_type": "stream",
          "text": [
            "Test set: Epoch : 55/200 Average loss: 0.5217, Test Accuracy: 82.31\n",
            "EPOCH: 56\n"
          ],
          "name": "stdout"
        },
        {
          "output_type": "stream",
          "text": [
            "Loss=0.6974123120307922 Batch_id=390 Train Accuracy=72.61: 100%|██████████| 391/391 [00:27<00:00, 14.10it/s]"
          ],
          "name": "stderr"
        },
        {
          "output_type": "stream",
          "text": [
            "Train set: Epoch : 56/200 Average loss: 0.0000, Train Accuracy: 72.61\n"
          ],
          "name": "stdout"
        },
        {
          "output_type": "stream",
          "text": [
            "\n",
            "  0%|          | 0/391 [00:00<?, ?it/s]"
          ],
          "name": "stderr"
        },
        {
          "output_type": "stream",
          "text": [
            "Test set: Epoch : 56/200 Average loss: 0.5212, Test Accuracy: 82.02\n",
            "EPOCH: 57\n"
          ],
          "name": "stdout"
        },
        {
          "output_type": "stream",
          "text": [
            "Loss=0.8134921789169312 Batch_id=390 Train Accuracy=72.79: 100%|██████████| 391/391 [00:27<00:00, 14.06it/s]"
          ],
          "name": "stderr"
        },
        {
          "output_type": "stream",
          "text": [
            "Train set: Epoch : 57/200 Average loss: 0.0000, Train Accuracy: 72.79\n"
          ],
          "name": "stdout"
        },
        {
          "output_type": "stream",
          "text": [
            "\n",
            "  0%|          | 0/391 [00:00<?, ?it/s]"
          ],
          "name": "stderr"
        },
        {
          "output_type": "stream",
          "text": [
            "Test set: Epoch : 57/200 Average loss: 0.5155, Test Accuracy: 82.64\n",
            "EPOCH: 58\n"
          ],
          "name": "stdout"
        },
        {
          "output_type": "stream",
          "text": [
            "Loss=0.7740365266799927 Batch_id=390 Train Accuracy=72.66: 100%|██████████| 391/391 [00:27<00:00, 14.11it/s]"
          ],
          "name": "stderr"
        },
        {
          "output_type": "stream",
          "text": [
            "Train set: Epoch : 58/200 Average loss: 0.0000, Train Accuracy: 72.66\n"
          ],
          "name": "stdout"
        },
        {
          "output_type": "stream",
          "text": [
            "\n",
            "  0%|          | 0/391 [00:00<?, ?it/s]"
          ],
          "name": "stderr"
        },
        {
          "output_type": "stream",
          "text": [
            "Test set: Epoch : 58/200 Average loss: 0.5268, Test Accuracy: 82.07\n",
            "EPOCH: 59\n"
          ],
          "name": "stdout"
        },
        {
          "output_type": "stream",
          "text": [
            "Loss=1.0611546039581299 Batch_id=390 Train Accuracy=73.01: 100%|██████████| 391/391 [00:27<00:00, 14.10it/s]"
          ],
          "name": "stderr"
        },
        {
          "output_type": "stream",
          "text": [
            "Train set: Epoch : 59/200 Average loss: 0.0000, Train Accuracy: 73.01\n"
          ],
          "name": "stdout"
        },
        {
          "output_type": "stream",
          "text": [
            "\n",
            "  0%|          | 0/391 [00:00<?, ?it/s]"
          ],
          "name": "stderr"
        },
        {
          "output_type": "stream",
          "text": [
            "Test set: Epoch : 59/200 Average loss: 0.5063, Test Accuracy: 83.06\n",
            "EPOCH: 60\n"
          ],
          "name": "stdout"
        },
        {
          "output_type": "stream",
          "text": [
            "Loss=0.7064898610115051 Batch_id=390 Train Accuracy=72.84: 100%|██████████| 391/391 [00:27<00:00, 14.02it/s]"
          ],
          "name": "stderr"
        },
        {
          "output_type": "stream",
          "text": [
            "Train set: Epoch : 60/200 Average loss: 0.0000, Train Accuracy: 72.84\n"
          ],
          "name": "stdout"
        },
        {
          "output_type": "stream",
          "text": [
            "\n",
            "  0%|          | 0/391 [00:00<?, ?it/s]"
          ],
          "name": "stderr"
        },
        {
          "output_type": "stream",
          "text": [
            "Test set: Epoch : 60/200 Average loss: 0.5447, Test Accuracy: 81.14\n",
            "EPOCH: 61\n"
          ],
          "name": "stdout"
        },
        {
          "output_type": "stream",
          "text": [
            "Loss=0.7252072095870972 Batch_id=390 Train Accuracy=72.93: 100%|██████████| 391/391 [00:27<00:00, 14.09it/s]"
          ],
          "name": "stderr"
        },
        {
          "output_type": "stream",
          "text": [
            "Train set: Epoch : 61/200 Average loss: 0.0000, Train Accuracy: 72.93\n"
          ],
          "name": "stdout"
        },
        {
          "output_type": "stream",
          "text": [
            "\n",
            "  0%|          | 0/391 [00:00<?, ?it/s]"
          ],
          "name": "stderr"
        },
        {
          "output_type": "stream",
          "text": [
            "Test set: Epoch : 61/200 Average loss: 0.5233, Test Accuracy: 82.41\n",
            "EPOCH: 62\n"
          ],
          "name": "stdout"
        },
        {
          "output_type": "stream",
          "text": [
            "Loss=0.6676097512245178 Batch_id=390 Train Accuracy=73.62: 100%|██████████| 391/391 [00:27<00:00, 14.12it/s]"
          ],
          "name": "stderr"
        },
        {
          "output_type": "stream",
          "text": [
            "Train set: Epoch : 62/200 Average loss: 0.0000, Train Accuracy: 73.62\n"
          ],
          "name": "stdout"
        },
        {
          "output_type": "stream",
          "text": [
            "\n",
            "  0%|          | 0/391 [00:00<?, ?it/s]"
          ],
          "name": "stderr"
        },
        {
          "output_type": "stream",
          "text": [
            "Test set: Epoch : 62/200 Average loss: 0.5055, Test Accuracy: 82.61\n",
            "EPOCH: 63\n"
          ],
          "name": "stdout"
        },
        {
          "output_type": "stream",
          "text": [
            "Loss=0.9698499441146851 Batch_id=390 Train Accuracy=73.13: 100%|██████████| 391/391 [00:27<00:00, 14.06it/s]"
          ],
          "name": "stderr"
        },
        {
          "output_type": "stream",
          "text": [
            "Train set: Epoch : 63/200 Average loss: 0.0000, Train Accuracy: 73.13\n"
          ],
          "name": "stdout"
        },
        {
          "output_type": "stream",
          "text": [
            "\n",
            "  0%|          | 0/391 [00:00<?, ?it/s]"
          ],
          "name": "stderr"
        },
        {
          "output_type": "stream",
          "text": [
            "Test set: Epoch : 63/200 Average loss: 0.5034, Test Accuracy: 82.99\n",
            "EPOCH: 64\n"
          ],
          "name": "stdout"
        },
        {
          "output_type": "stream",
          "text": [
            "Loss=0.7398738265037537 Batch_id=390 Train Accuracy=73.32: 100%|██████████| 391/391 [00:27<00:00, 14.06it/s]"
          ],
          "name": "stderr"
        },
        {
          "output_type": "stream",
          "text": [
            "Train set: Epoch : 64/200 Average loss: 0.0000, Train Accuracy: 73.32\n"
          ],
          "name": "stdout"
        },
        {
          "output_type": "stream",
          "text": [
            "\n",
            "  0%|          | 0/391 [00:00<?, ?it/s]"
          ],
          "name": "stderr"
        },
        {
          "output_type": "stream",
          "text": [
            "Test set: Epoch : 64/200 Average loss: 0.5082, Test Accuracy: 82.76\n",
            "EPOCH: 65\n"
          ],
          "name": "stdout"
        },
        {
          "output_type": "stream",
          "text": [
            "Loss=0.7594175934791565 Batch_id=390 Train Accuracy=73.39: 100%|██████████| 391/391 [00:27<00:00, 14.10it/s]"
          ],
          "name": "stderr"
        },
        {
          "output_type": "stream",
          "text": [
            "Train set: Epoch : 65/200 Average loss: 0.0000, Train Accuracy: 73.39\n"
          ],
          "name": "stdout"
        },
        {
          "output_type": "stream",
          "text": [
            "\n",
            "  0%|          | 0/391 [00:00<?, ?it/s]"
          ],
          "name": "stderr"
        },
        {
          "output_type": "stream",
          "text": [
            "Test set: Epoch : 65/200 Average loss: 0.5181, Test Accuracy: 82.47\n",
            "EPOCH: 66\n"
          ],
          "name": "stdout"
        },
        {
          "output_type": "stream",
          "text": [
            "Loss=0.6084271669387817 Batch_id=390 Train Accuracy=73.42: 100%|██████████| 391/391 [00:27<00:00, 14.04it/s]"
          ],
          "name": "stderr"
        },
        {
          "output_type": "stream",
          "text": [
            "Train set: Epoch : 66/200 Average loss: 0.0000, Train Accuracy: 73.42\n"
          ],
          "name": "stdout"
        },
        {
          "output_type": "stream",
          "text": [
            "\n",
            "  0%|          | 0/391 [00:00<?, ?it/s]"
          ],
          "name": "stderr"
        },
        {
          "output_type": "stream",
          "text": [
            "Test set: Epoch : 66/200 Average loss: 0.4849, Test Accuracy: 83.68\n",
            "EPOCH: 67\n"
          ],
          "name": "stdout"
        },
        {
          "output_type": "stream",
          "text": [
            "Loss=0.6739403009414673 Batch_id=390 Train Accuracy=73.53: 100%|██████████| 391/391 [00:27<00:00, 14.01it/s]"
          ],
          "name": "stderr"
        },
        {
          "output_type": "stream",
          "text": [
            "Train set: Epoch : 67/200 Average loss: 0.0000, Train Accuracy: 73.53\n"
          ],
          "name": "stdout"
        },
        {
          "output_type": "stream",
          "text": [
            "\n",
            "  0%|          | 0/391 [00:00<?, ?it/s]"
          ],
          "name": "stderr"
        },
        {
          "output_type": "stream",
          "text": [
            "Test set: Epoch : 67/200 Average loss: 0.4860, Test Accuracy: 82.99\n",
            "EPOCH: 68\n"
          ],
          "name": "stdout"
        },
        {
          "output_type": "stream",
          "text": [
            "Loss=0.8395785689353943 Batch_id=390 Train Accuracy=73.74: 100%|██████████| 391/391 [00:27<00:00, 14.09it/s]"
          ],
          "name": "stderr"
        },
        {
          "output_type": "stream",
          "text": [
            "Train set: Epoch : 68/200 Average loss: 0.0000, Train Accuracy: 73.74\n"
          ],
          "name": "stdout"
        },
        {
          "output_type": "stream",
          "text": [
            "\n",
            "  0%|          | 0/391 [00:00<?, ?it/s]"
          ],
          "name": "stderr"
        },
        {
          "output_type": "stream",
          "text": [
            "Test set: Epoch : 68/200 Average loss: 0.5060, Test Accuracy: 82.47\n",
            "EPOCH: 69\n"
          ],
          "name": "stdout"
        },
        {
          "output_type": "stream",
          "text": [
            "Loss=0.8379548192024231 Batch_id=390 Train Accuracy=73.75: 100%|██████████| 391/391 [00:27<00:00, 14.14it/s]"
          ],
          "name": "stderr"
        },
        {
          "output_type": "stream",
          "text": [
            "Train set: Epoch : 69/200 Average loss: 0.0000, Train Accuracy: 73.75\n"
          ],
          "name": "stdout"
        },
        {
          "output_type": "stream",
          "text": [
            "\n",
            "  0%|          | 0/391 [00:00<?, ?it/s]"
          ],
          "name": "stderr"
        },
        {
          "output_type": "stream",
          "text": [
            "Test set: Epoch : 69/200 Average loss: 0.4934, Test Accuracy: 83.31\n",
            "EPOCH: 70\n"
          ],
          "name": "stdout"
        },
        {
          "output_type": "stream",
          "text": [
            "Loss=0.8060604929924011 Batch_id=390 Train Accuracy=73.76: 100%|██████████| 391/391 [00:27<00:00, 14.32it/s]"
          ],
          "name": "stderr"
        },
        {
          "output_type": "stream",
          "text": [
            "Train set: Epoch : 70/200 Average loss: 0.0000, Train Accuracy: 73.76\n"
          ],
          "name": "stdout"
        },
        {
          "output_type": "stream",
          "text": [
            "\n",
            "  0%|          | 0/391 [00:00<?, ?it/s]"
          ],
          "name": "stderr"
        },
        {
          "output_type": "stream",
          "text": [
            "Test set: Epoch : 70/200 Average loss: 0.5174, Test Accuracy: 82.62\n",
            "EPOCH: 71\n"
          ],
          "name": "stdout"
        },
        {
          "output_type": "stream",
          "text": [
            "Loss=0.8546150326728821 Batch_id=390 Train Accuracy=73.82: 100%|██████████| 391/391 [00:27<00:00, 14.28it/s]"
          ],
          "name": "stderr"
        },
        {
          "output_type": "stream",
          "text": [
            "Train set: Epoch : 71/200 Average loss: 0.0000, Train Accuracy: 73.82\n"
          ],
          "name": "stdout"
        },
        {
          "output_type": "stream",
          "text": [
            "\n",
            "  0%|          | 0/391 [00:00<?, ?it/s]"
          ],
          "name": "stderr"
        },
        {
          "output_type": "stream",
          "text": [
            "Test set: Epoch : 71/200 Average loss: 0.4895, Test Accuracy: 83.31\n",
            "EPOCH: 72\n"
          ],
          "name": "stdout"
        },
        {
          "output_type": "stream",
          "text": [
            "Loss=0.8896656632423401 Batch_id=390 Train Accuracy=74.01: 100%|██████████| 391/391 [00:27<00:00, 14.31it/s]"
          ],
          "name": "stderr"
        },
        {
          "output_type": "stream",
          "text": [
            "Train set: Epoch : 72/200 Average loss: 0.0000, Train Accuracy: 74.01\n"
          ],
          "name": "stdout"
        },
        {
          "output_type": "stream",
          "text": [
            "\n",
            "  0%|          | 0/391 [00:00<?, ?it/s]"
          ],
          "name": "stderr"
        },
        {
          "output_type": "stream",
          "text": [
            "Test set: Epoch : 72/200 Average loss: 0.4990, Test Accuracy: 83.12\n",
            "EPOCH: 73\n"
          ],
          "name": "stdout"
        },
        {
          "output_type": "stream",
          "text": [
            "Loss=0.8279810547828674 Batch_id=390 Train Accuracy=73.91: 100%|██████████| 391/391 [00:27<00:00, 14.30it/s]"
          ],
          "name": "stderr"
        },
        {
          "output_type": "stream",
          "text": [
            "Train set: Epoch : 73/200 Average loss: 0.0000, Train Accuracy: 73.91\n"
          ],
          "name": "stdout"
        },
        {
          "output_type": "stream",
          "text": [
            "\n",
            "  0%|          | 0/391 [00:00<?, ?it/s]"
          ],
          "name": "stderr"
        },
        {
          "output_type": "stream",
          "text": [
            "Test set: Epoch : 73/200 Average loss: 0.4871, Test Accuracy: 83.36\n",
            "EPOCH: 74\n"
          ],
          "name": "stdout"
        },
        {
          "output_type": "stream",
          "text": [
            "Loss=0.7110768556594849 Batch_id=390 Train Accuracy=74.13: 100%|██████████| 391/391 [00:27<00:00, 14.32it/s]"
          ],
          "name": "stderr"
        },
        {
          "output_type": "stream",
          "text": [
            "Train set: Epoch : 74/200 Average loss: 0.0000, Train Accuracy: 74.13\n"
          ],
          "name": "stdout"
        },
        {
          "output_type": "stream",
          "text": [
            "\n",
            "  0%|          | 0/391 [00:00<?, ?it/s]"
          ],
          "name": "stderr"
        },
        {
          "output_type": "stream",
          "text": [
            "Test set: Epoch : 74/200 Average loss: 0.4895, Test Accuracy: 83.41\n",
            "EPOCH: 75\n"
          ],
          "name": "stdout"
        },
        {
          "output_type": "stream",
          "text": [
            "Loss=1.189507007598877 Batch_id=390 Train Accuracy=74.14: 100%|██████████| 391/391 [00:27<00:00, 14.26it/s]"
          ],
          "name": "stderr"
        },
        {
          "output_type": "stream",
          "text": [
            "Train set: Epoch : 75/200 Average loss: 0.0000, Train Accuracy: 74.14\n"
          ],
          "name": "stdout"
        },
        {
          "output_type": "stream",
          "text": [
            "\n",
            "  0%|          | 0/391 [00:00<?, ?it/s]"
          ],
          "name": "stderr"
        },
        {
          "output_type": "stream",
          "text": [
            "Test set: Epoch : 75/200 Average loss: 0.4850, Test Accuracy: 83.79\n",
            "EPOCH: 76\n"
          ],
          "name": "stdout"
        },
        {
          "output_type": "stream",
          "text": [
            "Loss=0.6428901553153992 Batch_id=390 Train Accuracy=74.15: 100%|██████████| 391/391 [00:27<00:00, 14.19it/s]"
          ],
          "name": "stderr"
        },
        {
          "output_type": "stream",
          "text": [
            "Train set: Epoch : 76/200 Average loss: 0.0000, Train Accuracy: 74.15\n"
          ],
          "name": "stdout"
        },
        {
          "output_type": "stream",
          "text": [
            "\n",
            "  0%|          | 0/391 [00:00<?, ?it/s]"
          ],
          "name": "stderr"
        },
        {
          "output_type": "stream",
          "text": [
            "Test set: Epoch : 76/200 Average loss: 0.4885, Test Accuracy: 83.67\n",
            "EPOCH: 77\n"
          ],
          "name": "stdout"
        },
        {
          "output_type": "stream",
          "text": [
            "Loss=0.6824919581413269 Batch_id=390 Train Accuracy=74.57: 100%|██████████| 391/391 [00:27<00:00, 14.18it/s]"
          ],
          "name": "stderr"
        },
        {
          "output_type": "stream",
          "text": [
            "Train set: Epoch : 77/200 Average loss: 0.0000, Train Accuracy: 74.57\n"
          ],
          "name": "stdout"
        },
        {
          "output_type": "stream",
          "text": [
            "\n",
            "  0%|          | 0/391 [00:00<?, ?it/s]"
          ],
          "name": "stderr"
        },
        {
          "output_type": "stream",
          "text": [
            "Test set: Epoch : 77/200 Average loss: 0.4903, Test Accuracy: 83.35\n",
            "EPOCH: 78\n"
          ],
          "name": "stdout"
        },
        {
          "output_type": "stream",
          "text": [
            "Loss=0.6788821816444397 Batch_id=390 Train Accuracy=74.60: 100%|██████████| 391/391 [00:27<00:00, 14.31it/s]"
          ],
          "name": "stderr"
        },
        {
          "output_type": "stream",
          "text": [
            "Train set: Epoch : 78/200 Average loss: 0.0000, Train Accuracy: 74.6\n"
          ],
          "name": "stdout"
        },
        {
          "output_type": "stream",
          "text": [
            "\n",
            "  0%|          | 0/391 [00:00<?, ?it/s]"
          ],
          "name": "stderr"
        },
        {
          "output_type": "stream",
          "text": [
            "Test set: Epoch : 78/200 Average loss: 0.4874, Test Accuracy: 83.64\n",
            "EPOCH: 79\n"
          ],
          "name": "stdout"
        },
        {
          "output_type": "stream",
          "text": [
            "Loss=0.7545822858810425 Batch_id=390 Train Accuracy=74.59: 100%|██████████| 391/391 [00:27<00:00, 14.22it/s]"
          ],
          "name": "stderr"
        },
        {
          "output_type": "stream",
          "text": [
            "Train set: Epoch : 79/200 Average loss: 0.0000, Train Accuracy: 74.59\n"
          ],
          "name": "stdout"
        },
        {
          "output_type": "stream",
          "text": [
            "\n",
            "  0%|          | 0/391 [00:00<?, ?it/s]"
          ],
          "name": "stderr"
        },
        {
          "output_type": "stream",
          "text": [
            "Test set: Epoch : 79/200 Average loss: 0.4822, Test Accuracy: 83.56\n",
            "EPOCH: 80\n"
          ],
          "name": "stdout"
        },
        {
          "output_type": "stream",
          "text": [
            "Loss=0.6541188359260559 Batch_id=390 Train Accuracy=74.89: 100%|██████████| 391/391 [00:27<00:00, 14.23it/s]"
          ],
          "name": "stderr"
        },
        {
          "output_type": "stream",
          "text": [
            "Train set: Epoch : 80/200 Average loss: 0.0000, Train Accuracy: 74.89\n"
          ],
          "name": "stdout"
        },
        {
          "output_type": "stream",
          "text": [
            "\n",
            "  0%|          | 0/391 [00:00<?, ?it/s]"
          ],
          "name": "stderr"
        },
        {
          "output_type": "stream",
          "text": [
            "Test set: Epoch : 80/200 Average loss: 0.4769, Test Accuracy: 83.87\n",
            "EPOCH: 81\n"
          ],
          "name": "stdout"
        },
        {
          "output_type": "stream",
          "text": [
            "Loss=0.887240469455719 Batch_id=390 Train Accuracy=74.85: 100%|██████████| 391/391 [00:27<00:00, 14.29it/s]"
          ],
          "name": "stderr"
        },
        {
          "output_type": "stream",
          "text": [
            "Train set: Epoch : 81/200 Average loss: 0.0000, Train Accuracy: 74.85\n"
          ],
          "name": "stdout"
        },
        {
          "output_type": "stream",
          "text": [
            "\n",
            "  0%|          | 0/391 [00:00<?, ?it/s]"
          ],
          "name": "stderr"
        },
        {
          "output_type": "stream",
          "text": [
            "Test set: Epoch : 81/200 Average loss: 0.4804, Test Accuracy: 83.72\n",
            "EPOCH: 82\n"
          ],
          "name": "stdout"
        },
        {
          "output_type": "stream",
          "text": [
            "Loss=0.533538281917572 Batch_id=390 Train Accuracy=74.62: 100%|██████████| 391/391 [00:27<00:00, 14.22it/s]"
          ],
          "name": "stderr"
        },
        {
          "output_type": "stream",
          "text": [
            "Train set: Epoch : 82/200 Average loss: 0.0000, Train Accuracy: 74.62\n"
          ],
          "name": "stdout"
        },
        {
          "output_type": "stream",
          "text": [
            "\n",
            "  0%|          | 0/391 [00:00<?, ?it/s]"
          ],
          "name": "stderr"
        },
        {
          "output_type": "stream",
          "text": [
            "Test set: Epoch : 82/200 Average loss: 0.4754, Test Accuracy: 83.73\n",
            "EPOCH: 83\n"
          ],
          "name": "stdout"
        },
        {
          "output_type": "stream",
          "text": [
            "Loss=0.7156581878662109 Batch_id=390 Train Accuracy=74.99: 100%|██████████| 391/391 [00:27<00:00, 14.23it/s]"
          ],
          "name": "stderr"
        },
        {
          "output_type": "stream",
          "text": [
            "Train set: Epoch : 83/200 Average loss: 0.0000, Train Accuracy: 74.99\n"
          ],
          "name": "stdout"
        },
        {
          "output_type": "stream",
          "text": [
            "\n",
            "  0%|          | 0/391 [00:00<?, ?it/s]"
          ],
          "name": "stderr"
        },
        {
          "output_type": "stream",
          "text": [
            "Test set: Epoch : 83/200 Average loss: 0.4663, Test Accuracy: 84.03\n",
            "EPOCH: 84\n"
          ],
          "name": "stdout"
        },
        {
          "output_type": "stream",
          "text": [
            "Loss=0.843777596950531 Batch_id=390 Train Accuracy=74.90: 100%|██████████| 391/391 [00:27<00:00, 14.26it/s]"
          ],
          "name": "stderr"
        },
        {
          "output_type": "stream",
          "text": [
            "Train set: Epoch : 84/200 Average loss: 0.0000, Train Accuracy: 74.9\n"
          ],
          "name": "stdout"
        },
        {
          "output_type": "stream",
          "text": [
            "\n",
            "  0%|          | 0/391 [00:00<?, ?it/s]"
          ],
          "name": "stderr"
        },
        {
          "output_type": "stream",
          "text": [
            "Test set: Epoch : 84/200 Average loss: 0.4589, Test Accuracy: 84.13\n",
            "EPOCH: 85\n"
          ],
          "name": "stdout"
        },
        {
          "output_type": "stream",
          "text": [
            "Loss=0.8981393575668335 Batch_id=390 Train Accuracy=75.22: 100%|██████████| 391/391 [00:27<00:00, 14.30it/s]"
          ],
          "name": "stderr"
        },
        {
          "output_type": "stream",
          "text": [
            "Train set: Epoch : 85/200 Average loss: 0.0000, Train Accuracy: 75.22\n"
          ],
          "name": "stdout"
        },
        {
          "output_type": "stream",
          "text": [
            "\n",
            "  0%|          | 0/391 [00:00<?, ?it/s]"
          ],
          "name": "stderr"
        },
        {
          "output_type": "stream",
          "text": [
            "Test set: Epoch : 85/200 Average loss: 0.4833, Test Accuracy: 83.82\n",
            "EPOCH: 86\n"
          ],
          "name": "stdout"
        },
        {
          "output_type": "stream",
          "text": [
            "Loss=0.8011788725852966 Batch_id=390 Train Accuracy=75.22: 100%|██████████| 391/391 [00:27<00:00, 14.27it/s]"
          ],
          "name": "stderr"
        },
        {
          "output_type": "stream",
          "text": [
            "Train set: Epoch : 86/200 Average loss: 0.0000, Train Accuracy: 75.22\n"
          ],
          "name": "stdout"
        },
        {
          "output_type": "stream",
          "text": [
            "\n",
            "  0%|          | 0/391 [00:00<?, ?it/s]"
          ],
          "name": "stderr"
        },
        {
          "output_type": "stream",
          "text": [
            "Test set: Epoch : 86/200 Average loss: 0.4652, Test Accuracy: 83.78\n",
            "EPOCH: 87\n"
          ],
          "name": "stdout"
        },
        {
          "output_type": "stream",
          "text": [
            "Loss=0.9063002467155457 Batch_id=390 Train Accuracy=75.08: 100%|██████████| 391/391 [00:27<00:00, 14.26it/s]"
          ],
          "name": "stderr"
        },
        {
          "output_type": "stream",
          "text": [
            "Train set: Epoch : 87/200 Average loss: 0.0000, Train Accuracy: 75.08\n"
          ],
          "name": "stdout"
        },
        {
          "output_type": "stream",
          "text": [
            "\n",
            "  0%|          | 0/391 [00:00<?, ?it/s]"
          ],
          "name": "stderr"
        },
        {
          "output_type": "stream",
          "text": [
            "Test set: Epoch : 87/200 Average loss: 0.4648, Test Accuracy: 84.09\n",
            "EPOCH: 88\n"
          ],
          "name": "stdout"
        },
        {
          "output_type": "stream",
          "text": [
            "Loss=0.6730993390083313 Batch_id=390 Train Accuracy=75.24: 100%|██████████| 391/391 [00:27<00:00, 14.24it/s]"
          ],
          "name": "stderr"
        },
        {
          "output_type": "stream",
          "text": [
            "Train set: Epoch : 88/200 Average loss: 0.0000, Train Accuracy: 75.24\n"
          ],
          "name": "stdout"
        },
        {
          "output_type": "stream",
          "text": [
            "\n",
            "  0%|          | 0/391 [00:00<?, ?it/s]"
          ],
          "name": "stderr"
        },
        {
          "output_type": "stream",
          "text": [
            "Test set: Epoch : 88/200 Average loss: 0.4921, Test Accuracy: 83.34\n",
            "EPOCH: 89\n"
          ],
          "name": "stdout"
        },
        {
          "output_type": "stream",
          "text": [
            "Loss=0.9325119853019714 Batch_id=390 Train Accuracy=75.39: 100%|██████████| 391/391 [00:27<00:00, 14.34it/s]"
          ],
          "name": "stderr"
        },
        {
          "output_type": "stream",
          "text": [
            "Train set: Epoch : 89/200 Average loss: 0.0000, Train Accuracy: 75.39\n"
          ],
          "name": "stdout"
        },
        {
          "output_type": "stream",
          "text": [
            "\n",
            "  0%|          | 0/391 [00:00<?, ?it/s]"
          ],
          "name": "stderr"
        },
        {
          "output_type": "stream",
          "text": [
            "Test set: Epoch : 89/200 Average loss: 0.4734, Test Accuracy: 83.86\n",
            "EPOCH: 90\n"
          ],
          "name": "stdout"
        },
        {
          "output_type": "stream",
          "text": [
            "Loss=0.6205345392227173 Batch_id=390 Train Accuracy=75.51: 100%|██████████| 391/391 [00:27<00:00, 14.10it/s]"
          ],
          "name": "stderr"
        },
        {
          "output_type": "stream",
          "text": [
            "Train set: Epoch : 90/200 Average loss: 0.0000, Train Accuracy: 75.51\n"
          ],
          "name": "stdout"
        },
        {
          "output_type": "stream",
          "text": [
            "\n",
            "  0%|          | 0/391 [00:00<?, ?it/s]"
          ],
          "name": "stderr"
        },
        {
          "output_type": "stream",
          "text": [
            "Test set: Epoch : 90/200 Average loss: 0.4634, Test Accuracy: 84.19\n",
            "EPOCH: 91\n"
          ],
          "name": "stdout"
        },
        {
          "output_type": "stream",
          "text": [
            "Loss=0.7206959128379822 Batch_id=390 Train Accuracy=75.41: 100%|██████████| 391/391 [00:27<00:00, 14.29it/s]"
          ],
          "name": "stderr"
        },
        {
          "output_type": "stream",
          "text": [
            "Train set: Epoch : 91/200 Average loss: 0.0000, Train Accuracy: 75.41\n"
          ],
          "name": "stdout"
        },
        {
          "output_type": "stream",
          "text": [
            "\n",
            "  0%|          | 0/391 [00:00<?, ?it/s]"
          ],
          "name": "stderr"
        },
        {
          "output_type": "stream",
          "text": [
            "Test set: Epoch : 91/200 Average loss: 0.4597, Test Accuracy: 84.09\n",
            "EPOCH: 92\n"
          ],
          "name": "stdout"
        },
        {
          "output_type": "stream",
          "text": [
            "Loss=0.6570225358009338 Batch_id=390 Train Accuracy=75.17: 100%|██████████| 391/391 [00:27<00:00, 14.29it/s]"
          ],
          "name": "stderr"
        },
        {
          "output_type": "stream",
          "text": [
            "Train set: Epoch : 92/200 Average loss: 0.0000, Train Accuracy: 75.17\n"
          ],
          "name": "stdout"
        },
        {
          "output_type": "stream",
          "text": [
            "\n",
            "  0%|          | 0/391 [00:00<?, ?it/s]"
          ],
          "name": "stderr"
        },
        {
          "output_type": "stream",
          "text": [
            "Test set: Epoch : 92/200 Average loss: 0.4706, Test Accuracy: 83.9\n",
            "EPOCH: 93\n"
          ],
          "name": "stdout"
        },
        {
          "output_type": "stream",
          "text": [
            "Loss=0.7942830920219421 Batch_id=390 Train Accuracy=75.44: 100%|██████████| 391/391 [00:27<00:00, 14.28it/s]"
          ],
          "name": "stderr"
        },
        {
          "output_type": "stream",
          "text": [
            "Train set: Epoch : 93/200 Average loss: 0.0000, Train Accuracy: 75.44\n"
          ],
          "name": "stdout"
        },
        {
          "output_type": "stream",
          "text": [
            "\n",
            "  0%|          | 0/391 [00:00<?, ?it/s]"
          ],
          "name": "stderr"
        },
        {
          "output_type": "stream",
          "text": [
            "Test set: Epoch : 93/200 Average loss: 0.4628, Test Accuracy: 84.41\n",
            "EPOCH: 94\n"
          ],
          "name": "stdout"
        },
        {
          "output_type": "stream",
          "text": [
            "Loss=0.7446745038032532 Batch_id=390 Train Accuracy=75.33: 100%|██████████| 391/391 [00:27<00:00, 14.36it/s]"
          ],
          "name": "stderr"
        },
        {
          "output_type": "stream",
          "text": [
            "Train set: Epoch : 94/200 Average loss: 0.0000, Train Accuracy: 75.33\n"
          ],
          "name": "stdout"
        },
        {
          "output_type": "stream",
          "text": [
            "\n",
            "  0%|          | 0/391 [00:00<?, ?it/s]"
          ],
          "name": "stderr"
        },
        {
          "output_type": "stream",
          "text": [
            "Test set: Epoch : 94/200 Average loss: 0.4595, Test Accuracy: 84.3\n",
            "EPOCH: 95\n"
          ],
          "name": "stdout"
        },
        {
          "output_type": "stream",
          "text": [
            "Loss=0.7952355146408081 Batch_id=390 Train Accuracy=75.66: 100%|██████████| 391/391 [00:27<00:00, 14.31it/s]"
          ],
          "name": "stderr"
        },
        {
          "output_type": "stream",
          "text": [
            "Train set: Epoch : 95/200 Average loss: 0.0000, Train Accuracy: 75.66\n"
          ],
          "name": "stdout"
        },
        {
          "output_type": "stream",
          "text": [
            "\n",
            "  0%|          | 0/391 [00:00<?, ?it/s]"
          ],
          "name": "stderr"
        },
        {
          "output_type": "stream",
          "text": [
            "Test set: Epoch : 95/200 Average loss: 0.4656, Test Accuracy: 84.2\n",
            "EPOCH: 96\n"
          ],
          "name": "stdout"
        },
        {
          "output_type": "stream",
          "text": [
            "Loss=0.690268337726593 Batch_id=390 Train Accuracy=75.59: 100%|██████████| 391/391 [00:27<00:00, 14.21it/s]"
          ],
          "name": "stderr"
        },
        {
          "output_type": "stream",
          "text": [
            "Train set: Epoch : 96/200 Average loss: 0.0000, Train Accuracy: 75.59\n"
          ],
          "name": "stdout"
        },
        {
          "output_type": "stream",
          "text": [
            "\n",
            "  0%|          | 0/391 [00:00<?, ?it/s]"
          ],
          "name": "stderr"
        },
        {
          "output_type": "stream",
          "text": [
            "Test set: Epoch : 96/200 Average loss: 0.4569, Test Accuracy: 84.89\n",
            "EPOCH: 97\n"
          ],
          "name": "stdout"
        },
        {
          "output_type": "stream",
          "text": [
            "Loss=0.6942017078399658 Batch_id=390 Train Accuracy=75.55: 100%|██████████| 391/391 [00:27<00:00, 14.23it/s]"
          ],
          "name": "stderr"
        },
        {
          "output_type": "stream",
          "text": [
            "Train set: Epoch : 97/200 Average loss: 0.0000, Train Accuracy: 75.55\n"
          ],
          "name": "stdout"
        },
        {
          "output_type": "stream",
          "text": [
            "\n",
            "  0%|          | 0/391 [00:00<?, ?it/s]"
          ],
          "name": "stderr"
        },
        {
          "output_type": "stream",
          "text": [
            "Test set: Epoch : 97/200 Average loss: 0.4585, Test Accuracy: 84.64\n",
            "EPOCH: 98\n"
          ],
          "name": "stdout"
        },
        {
          "output_type": "stream",
          "text": [
            "Loss=0.46693360805511475 Batch_id=390 Train Accuracy=75.57: 100%|██████████| 391/391 [00:27<00:00, 14.27it/s]"
          ],
          "name": "stderr"
        },
        {
          "output_type": "stream",
          "text": [
            "Train set: Epoch : 98/200 Average loss: 0.0000, Train Accuracy: 75.57\n"
          ],
          "name": "stdout"
        },
        {
          "output_type": "stream",
          "text": [
            "\n",
            "  0%|          | 0/391 [00:00<?, ?it/s]"
          ],
          "name": "stderr"
        },
        {
          "output_type": "stream",
          "text": [
            "Test set: Epoch : 98/200 Average loss: 0.4522, Test Accuracy: 84.39\n",
            "EPOCH: 99\n"
          ],
          "name": "stdout"
        },
        {
          "output_type": "stream",
          "text": [
            "Loss=0.7021059393882751 Batch_id=390 Train Accuracy=75.77: 100%|██████████| 391/391 [00:27<00:00, 14.22it/s]"
          ],
          "name": "stderr"
        },
        {
          "output_type": "stream",
          "text": [
            "Train set: Epoch : 99/200 Average loss: 0.0000, Train Accuracy: 75.77\n"
          ],
          "name": "stdout"
        },
        {
          "output_type": "stream",
          "text": [
            "\n",
            "  0%|          | 0/391 [00:00<?, ?it/s]"
          ],
          "name": "stderr"
        },
        {
          "output_type": "stream",
          "text": [
            "Test set: Epoch : 99/200 Average loss: 0.4508, Test Accuracy: 84.79\n",
            "EPOCH: 100\n"
          ],
          "name": "stdout"
        },
        {
          "output_type": "stream",
          "text": [
            "Loss=0.5891910791397095 Batch_id=390 Train Accuracy=75.68: 100%|██████████| 391/391 [00:27<00:00, 14.27it/s]"
          ],
          "name": "stderr"
        },
        {
          "output_type": "stream",
          "text": [
            "Train set: Epoch : 100/200 Average loss: 0.0000, Train Accuracy: 75.68\n"
          ],
          "name": "stdout"
        },
        {
          "output_type": "stream",
          "text": [
            "\n",
            "  0%|          | 0/391 [00:00<?, ?it/s]"
          ],
          "name": "stderr"
        },
        {
          "output_type": "stream",
          "text": [
            "Test set: Epoch : 100/200 Average loss: 0.4408, Test Accuracy: 84.68\n",
            "EPOCH: 101\n"
          ],
          "name": "stdout"
        },
        {
          "output_type": "stream",
          "text": [
            "Loss=0.7375657558441162 Batch_id=390 Train Accuracy=75.88: 100%|██████████| 391/391 [00:27<00:00, 14.16it/s]"
          ],
          "name": "stderr"
        },
        {
          "output_type": "stream",
          "text": [
            "Train set: Epoch : 101/200 Average loss: 0.0000, Train Accuracy: 75.88\n"
          ],
          "name": "stdout"
        },
        {
          "output_type": "stream",
          "text": [
            "\n",
            "  0%|          | 0/391 [00:00<?, ?it/s]"
          ],
          "name": "stderr"
        },
        {
          "output_type": "stream",
          "text": [
            "Test set: Epoch : 101/200 Average loss: 0.4593, Test Accuracy: 84.3\n",
            "EPOCH: 102\n"
          ],
          "name": "stdout"
        },
        {
          "output_type": "stream",
          "text": [
            "Loss=0.6305214762687683 Batch_id=390 Train Accuracy=75.79: 100%|██████████| 391/391 [00:27<00:00, 14.26it/s]"
          ],
          "name": "stderr"
        },
        {
          "output_type": "stream",
          "text": [
            "Train set: Epoch : 102/200 Average loss: 0.0000, Train Accuracy: 75.79\n"
          ],
          "name": "stdout"
        },
        {
          "output_type": "stream",
          "text": [
            "\n",
            "  0%|          | 0/391 [00:00<?, ?it/s]"
          ],
          "name": "stderr"
        },
        {
          "output_type": "stream",
          "text": [
            "Test set: Epoch : 102/200 Average loss: 0.4475, Test Accuracy: 84.84\n",
            "EPOCH: 103\n"
          ],
          "name": "stdout"
        },
        {
          "output_type": "stream",
          "text": [
            "Loss=0.7204335331916809 Batch_id=390 Train Accuracy=75.94: 100%|██████████| 391/391 [00:27<00:00, 14.23it/s]"
          ],
          "name": "stderr"
        },
        {
          "output_type": "stream",
          "text": [
            "Train set: Epoch : 103/200 Average loss: 0.0000, Train Accuracy: 75.94\n"
          ],
          "name": "stdout"
        },
        {
          "output_type": "stream",
          "text": [
            "\n",
            "  0%|          | 0/391 [00:00<?, ?it/s]"
          ],
          "name": "stderr"
        },
        {
          "output_type": "stream",
          "text": [
            "Test set: Epoch : 103/200 Average loss: 0.4746, Test Accuracy: 83.94\n",
            "EPOCH: 104\n"
          ],
          "name": "stdout"
        },
        {
          "output_type": "stream",
          "text": [
            "Loss=1.022404670715332 Batch_id=390 Train Accuracy=75.79: 100%|██████████| 391/391 [00:27<00:00, 14.17it/s]"
          ],
          "name": "stderr"
        },
        {
          "output_type": "stream",
          "text": [
            "Train set: Epoch : 104/200 Average loss: 0.0000, Train Accuracy: 75.79\n"
          ],
          "name": "stdout"
        },
        {
          "output_type": "stream",
          "text": [
            "\n",
            "  0%|          | 0/391 [00:00<?, ?it/s]"
          ],
          "name": "stderr"
        },
        {
          "output_type": "stream",
          "text": [
            "Test set: Epoch : 104/200 Average loss: 0.4385, Test Accuracy: 85.08\n",
            "EPOCH: 105\n"
          ],
          "name": "stdout"
        },
        {
          "output_type": "stream",
          "text": [
            "Loss=0.6716933846473694 Batch_id=390 Train Accuracy=76.13: 100%|██████████| 391/391 [00:27<00:00, 14.19it/s]"
          ],
          "name": "stderr"
        },
        {
          "output_type": "stream",
          "text": [
            "Train set: Epoch : 105/200 Average loss: 0.0000, Train Accuracy: 76.13\n"
          ],
          "name": "stdout"
        },
        {
          "output_type": "stream",
          "text": [
            "\n",
            "  0%|          | 0/391 [00:00<?, ?it/s]"
          ],
          "name": "stderr"
        },
        {
          "output_type": "stream",
          "text": [
            "Test set: Epoch : 105/200 Average loss: 0.4624, Test Accuracy: 84.09\n",
            "EPOCH: 106\n"
          ],
          "name": "stdout"
        },
        {
          "output_type": "stream",
          "text": [
            "Loss=0.8508724570274353 Batch_id=390 Train Accuracy=75.95: 100%|██████████| 391/391 [00:27<00:00, 14.25it/s]"
          ],
          "name": "stderr"
        },
        {
          "output_type": "stream",
          "text": [
            "Train set: Epoch : 106/200 Average loss: 0.0000, Train Accuracy: 75.95\n"
          ],
          "name": "stdout"
        },
        {
          "output_type": "stream",
          "text": [
            "\n",
            "  0%|          | 0/391 [00:00<?, ?it/s]"
          ],
          "name": "stderr"
        },
        {
          "output_type": "stream",
          "text": [
            "Test set: Epoch : 106/200 Average loss: 0.4448, Test Accuracy: 85.08\n",
            "EPOCH: 107\n"
          ],
          "name": "stdout"
        },
        {
          "output_type": "stream",
          "text": [
            "Loss=0.6836787462234497 Batch_id=390 Train Accuracy=76.29: 100%|██████████| 391/391 [00:27<00:00, 14.21it/s]"
          ],
          "name": "stderr"
        },
        {
          "output_type": "stream",
          "text": [
            "Train set: Epoch : 107/200 Average loss: 0.0000, Train Accuracy: 76.29\n"
          ],
          "name": "stdout"
        },
        {
          "output_type": "stream",
          "text": [
            "\n",
            "  0%|          | 0/391 [00:00<?, ?it/s]"
          ],
          "name": "stderr"
        },
        {
          "output_type": "stream",
          "text": [
            "Test set: Epoch : 107/200 Average loss: 0.4470, Test Accuracy: 84.63\n",
            "EPOCH: 108\n"
          ],
          "name": "stdout"
        },
        {
          "output_type": "stream",
          "text": [
            "Loss=0.8151429295539856 Batch_id=390 Train Accuracy=76.17: 100%|██████████| 391/391 [00:27<00:00, 14.23it/s]"
          ],
          "name": "stderr"
        },
        {
          "output_type": "stream",
          "text": [
            "Train set: Epoch : 108/200 Average loss: 0.0000, Train Accuracy: 76.17\n"
          ],
          "name": "stdout"
        },
        {
          "output_type": "stream",
          "text": [
            "\n",
            "  0%|          | 0/391 [00:00<?, ?it/s]"
          ],
          "name": "stderr"
        },
        {
          "output_type": "stream",
          "text": [
            "Test set: Epoch : 108/200 Average loss: 0.4535, Test Accuracy: 84.64\n",
            "EPOCH: 109\n"
          ],
          "name": "stdout"
        },
        {
          "output_type": "stream",
          "text": [
            "Loss=0.6951369643211365 Batch_id=390 Train Accuracy=76.34: 100%|██████████| 391/391 [00:27<00:00, 14.20it/s]"
          ],
          "name": "stderr"
        },
        {
          "output_type": "stream",
          "text": [
            "Train set: Epoch : 109/200 Average loss: 0.0000, Train Accuracy: 76.34\n"
          ],
          "name": "stdout"
        },
        {
          "output_type": "stream",
          "text": [
            "\n",
            "  0%|          | 0/391 [00:00<?, ?it/s]"
          ],
          "name": "stderr"
        },
        {
          "output_type": "stream",
          "text": [
            "Test set: Epoch : 109/200 Average loss: 0.4362, Test Accuracy: 85.04\n",
            "EPOCH: 110\n"
          ],
          "name": "stdout"
        },
        {
          "output_type": "stream",
          "text": [
            "Loss=0.7538046836853027 Batch_id=390 Train Accuracy=75.82: 100%|██████████| 391/391 [00:27<00:00, 14.10it/s]"
          ],
          "name": "stderr"
        },
        {
          "output_type": "stream",
          "text": [
            "Train set: Epoch : 110/200 Average loss: 0.0000, Train Accuracy: 75.82\n"
          ],
          "name": "stdout"
        },
        {
          "output_type": "stream",
          "text": [
            "\n",
            "  0%|          | 0/391 [00:00<?, ?it/s]"
          ],
          "name": "stderr"
        },
        {
          "output_type": "stream",
          "text": [
            "Test set: Epoch : 110/200 Average loss: 0.4400, Test Accuracy: 84.82\n",
            "EPOCH: 111\n"
          ],
          "name": "stdout"
        },
        {
          "output_type": "stream",
          "text": [
            "Loss=0.7612151503562927 Batch_id=390 Train Accuracy=76.28: 100%|██████████| 391/391 [00:27<00:00, 14.24it/s]"
          ],
          "name": "stderr"
        },
        {
          "output_type": "stream",
          "text": [
            "Train set: Epoch : 111/200 Average loss: 0.0000, Train Accuracy: 76.28\n"
          ],
          "name": "stdout"
        },
        {
          "output_type": "stream",
          "text": [
            "\n",
            "  0%|          | 0/391 [00:00<?, ?it/s]"
          ],
          "name": "stderr"
        },
        {
          "output_type": "stream",
          "text": [
            "Test set: Epoch : 111/200 Average loss: 0.4395, Test Accuracy: 85.17\n",
            "EPOCH: 112\n"
          ],
          "name": "stdout"
        },
        {
          "output_type": "stream",
          "text": [
            "Loss=0.40947961807250977 Batch_id=390 Train Accuracy=76.45: 100%|██████████| 391/391 [00:27<00:00, 14.14it/s]"
          ],
          "name": "stderr"
        },
        {
          "output_type": "stream",
          "text": [
            "Train set: Epoch : 112/200 Average loss: 0.0000, Train Accuracy: 76.45\n"
          ],
          "name": "stdout"
        },
        {
          "output_type": "stream",
          "text": [
            "\n",
            "  0%|          | 0/391 [00:00<?, ?it/s]"
          ],
          "name": "stderr"
        },
        {
          "output_type": "stream",
          "text": [
            "Test set: Epoch : 112/200 Average loss: 0.4492, Test Accuracy: 84.49\n",
            "EPOCH: 113\n"
          ],
          "name": "stdout"
        },
        {
          "output_type": "stream",
          "text": [
            "Loss=0.7651621103286743 Batch_id=390 Train Accuracy=76.56: 100%|██████████| 391/391 [00:27<00:00, 14.28it/s]"
          ],
          "name": "stderr"
        },
        {
          "output_type": "stream",
          "text": [
            "Train set: Epoch : 113/200 Average loss: 0.0000, Train Accuracy: 76.56\n"
          ],
          "name": "stdout"
        },
        {
          "output_type": "stream",
          "text": [
            "\n",
            "  0%|          | 0/391 [00:00<?, ?it/s]"
          ],
          "name": "stderr"
        },
        {
          "output_type": "stream",
          "text": [
            "Test set: Epoch : 113/200 Average loss: 0.4284, Test Accuracy: 85.67\n",
            "EPOCH: 114\n"
          ],
          "name": "stdout"
        },
        {
          "output_type": "stream",
          "text": [
            "Loss=0.6391496658325195 Batch_id=390 Train Accuracy=76.46: 100%|██████████| 391/391 [00:27<00:00, 14.20it/s]"
          ],
          "name": "stderr"
        },
        {
          "output_type": "stream",
          "text": [
            "Train set: Epoch : 114/200 Average loss: 0.0000, Train Accuracy: 76.46\n"
          ],
          "name": "stdout"
        },
        {
          "output_type": "stream",
          "text": [
            "\n",
            "  0%|          | 0/391 [00:00<?, ?it/s]"
          ],
          "name": "stderr"
        },
        {
          "output_type": "stream",
          "text": [
            "Test set: Epoch : 114/200 Average loss: 0.4327, Test Accuracy: 85.44\n",
            "EPOCH: 115\n"
          ],
          "name": "stdout"
        },
        {
          "output_type": "stream",
          "text": [
            "Loss=0.5180981755256653 Batch_id=390 Train Accuracy=76.30: 100%|██████████| 391/391 [00:27<00:00, 14.22it/s]"
          ],
          "name": "stderr"
        },
        {
          "output_type": "stream",
          "text": [
            "Train set: Epoch : 115/200 Average loss: 0.0000, Train Accuracy: 76.3\n"
          ],
          "name": "stdout"
        },
        {
          "output_type": "stream",
          "text": [
            "\n",
            "  0%|          | 0/391 [00:00<?, ?it/s]"
          ],
          "name": "stderr"
        },
        {
          "output_type": "stream",
          "text": [
            "Test set: Epoch : 115/200 Average loss: 0.4411, Test Accuracy: 84.95\n",
            "EPOCH: 116\n"
          ],
          "name": "stdout"
        },
        {
          "output_type": "stream",
          "text": [
            "Loss=0.561331570148468 Batch_id=390 Train Accuracy=76.64: 100%|██████████| 391/391 [00:27<00:00, 14.21it/s]"
          ],
          "name": "stderr"
        },
        {
          "output_type": "stream",
          "text": [
            "Train set: Epoch : 116/200 Average loss: 0.0000, Train Accuracy: 76.64\n"
          ],
          "name": "stdout"
        },
        {
          "output_type": "stream",
          "text": [
            "\n",
            "  0%|          | 0/391 [00:00<?, ?it/s]"
          ],
          "name": "stderr"
        },
        {
          "output_type": "stream",
          "text": [
            "Test set: Epoch : 116/200 Average loss: 0.4462, Test Accuracy: 85.04\n",
            "EPOCH: 117\n"
          ],
          "name": "stdout"
        },
        {
          "output_type": "stream",
          "text": [
            "Loss=0.6190299391746521 Batch_id=390 Train Accuracy=76.62: 100%|██████████| 391/391 [00:27<00:00, 14.19it/s]"
          ],
          "name": "stderr"
        },
        {
          "output_type": "stream",
          "text": [
            "Train set: Epoch : 117/200 Average loss: 0.0000, Train Accuracy: 76.62\n"
          ],
          "name": "stdout"
        },
        {
          "output_type": "stream",
          "text": [
            "\n",
            "  0%|          | 0/391 [00:00<?, ?it/s]"
          ],
          "name": "stderr"
        },
        {
          "output_type": "stream",
          "text": [
            "Test set: Epoch : 117/200 Average loss: 0.4372, Test Accuracy: 84.88\n",
            "EPOCH: 118\n"
          ],
          "name": "stdout"
        },
        {
          "output_type": "stream",
          "text": [
            "Loss=0.4393768310546875 Batch_id=390 Train Accuracy=76.86: 100%|██████████| 391/391 [00:27<00:00, 14.22it/s]"
          ],
          "name": "stderr"
        },
        {
          "output_type": "stream",
          "text": [
            "Train set: Epoch : 118/200 Average loss: 0.0000, Train Accuracy: 76.86\n"
          ],
          "name": "stdout"
        },
        {
          "output_type": "stream",
          "text": [
            "\n",
            "  0%|          | 0/391 [00:00<?, ?it/s]"
          ],
          "name": "stderr"
        },
        {
          "output_type": "stream",
          "text": [
            "Test set: Epoch : 118/200 Average loss: 0.4409, Test Accuracy: 85.14\n",
            "EPOCH: 119\n"
          ],
          "name": "stdout"
        },
        {
          "output_type": "stream",
          "text": [
            "Loss=0.5499429702758789 Batch_id=390 Train Accuracy=76.76: 100%|██████████| 391/391 [00:27<00:00, 14.10it/s]"
          ],
          "name": "stderr"
        },
        {
          "output_type": "stream",
          "text": [
            "Train set: Epoch : 119/200 Average loss: 0.0000, Train Accuracy: 76.76\n"
          ],
          "name": "stdout"
        },
        {
          "output_type": "stream",
          "text": [
            "\n",
            "  0%|          | 0/391 [00:00<?, ?it/s]"
          ],
          "name": "stderr"
        },
        {
          "output_type": "stream",
          "text": [
            "Test set: Epoch : 119/200 Average loss: 0.4364, Test Accuracy: 85.19\n",
            "EPOCH: 120\n"
          ],
          "name": "stdout"
        },
        {
          "output_type": "stream",
          "text": [
            "Loss=0.7219251394271851 Batch_id=390 Train Accuracy=76.68: 100%|██████████| 391/391 [00:27<00:00, 14.20it/s]"
          ],
          "name": "stderr"
        },
        {
          "output_type": "stream",
          "text": [
            "Train set: Epoch : 120/200 Average loss: 0.0000, Train Accuracy: 76.68\n"
          ],
          "name": "stdout"
        },
        {
          "output_type": "stream",
          "text": [
            "\n",
            "  0%|          | 0/391 [00:00<?, ?it/s]"
          ],
          "name": "stderr"
        },
        {
          "output_type": "stream",
          "text": [
            "Test set: Epoch : 120/200 Average loss: 0.4418, Test Accuracy: 84.97\n",
            "EPOCH: 121\n"
          ],
          "name": "stdout"
        },
        {
          "output_type": "stream",
          "text": [
            "Loss=0.7963812351226807 Batch_id=390 Train Accuracy=76.76: 100%|██████████| 391/391 [00:27<00:00, 14.18it/s]"
          ],
          "name": "stderr"
        },
        {
          "output_type": "stream",
          "text": [
            "Train set: Epoch : 121/200 Average loss: 0.0000, Train Accuracy: 76.76\n"
          ],
          "name": "stdout"
        },
        {
          "output_type": "stream",
          "text": [
            "\n",
            "  0%|          | 0/391 [00:00<?, ?it/s]"
          ],
          "name": "stderr"
        },
        {
          "output_type": "stream",
          "text": [
            "Test set: Epoch : 121/200 Average loss: 0.4362, Test Accuracy: 84.95\n",
            "EPOCH: 122\n"
          ],
          "name": "stdout"
        },
        {
          "output_type": "stream",
          "text": [
            "Loss=0.6931431889533997 Batch_id=390 Train Accuracy=76.67: 100%|██████████| 391/391 [00:27<00:00, 14.21it/s]"
          ],
          "name": "stderr"
        },
        {
          "output_type": "stream",
          "text": [
            "Train set: Epoch : 122/200 Average loss: 0.0000, Train Accuracy: 76.67\n"
          ],
          "name": "stdout"
        },
        {
          "output_type": "stream",
          "text": [
            "\n",
            "  0%|          | 0/391 [00:00<?, ?it/s]"
          ],
          "name": "stderr"
        },
        {
          "output_type": "stream",
          "text": [
            "Test set: Epoch : 122/200 Average loss: 0.4385, Test Accuracy: 85.0\n",
            "EPOCH: 123\n"
          ],
          "name": "stdout"
        },
        {
          "output_type": "stream",
          "text": [
            "Loss=0.96351158618927 Batch_id=390 Train Accuracy=76.85: 100%|██████████| 391/391 [00:27<00:00, 14.13it/s]"
          ],
          "name": "stderr"
        },
        {
          "output_type": "stream",
          "text": [
            "Train set: Epoch : 123/200 Average loss: 0.0000, Train Accuracy: 76.85\n"
          ],
          "name": "stdout"
        },
        {
          "output_type": "stream",
          "text": [
            "\n",
            "  0%|          | 0/391 [00:00<?, ?it/s]"
          ],
          "name": "stderr"
        },
        {
          "output_type": "stream",
          "text": [
            "Test set: Epoch : 123/200 Average loss: 0.4323, Test Accuracy: 85.31\n",
            "EPOCH: 124\n"
          ],
          "name": "stdout"
        },
        {
          "output_type": "stream",
          "text": [
            "Loss=0.8361195921897888 Batch_id=390 Train Accuracy=76.99: 100%|██████████| 391/391 [00:27<00:00, 14.19it/s]"
          ],
          "name": "stderr"
        },
        {
          "output_type": "stream",
          "text": [
            "Train set: Epoch : 124/200 Average loss: 0.0000, Train Accuracy: 76.99\n"
          ],
          "name": "stdout"
        },
        {
          "output_type": "stream",
          "text": [
            "\n",
            "  0%|          | 0/391 [00:00<?, ?it/s]"
          ],
          "name": "stderr"
        },
        {
          "output_type": "stream",
          "text": [
            "Test set: Epoch : 124/200 Average loss: 0.4348, Test Accuracy: 85.21\n",
            "EPOCH: 125\n"
          ],
          "name": "stdout"
        },
        {
          "output_type": "stream",
          "text": [
            "Loss=0.4980139434337616 Batch_id=390 Train Accuracy=76.87: 100%|██████████| 391/391 [00:27<00:00, 14.15it/s]"
          ],
          "name": "stderr"
        },
        {
          "output_type": "stream",
          "text": [
            "Train set: Epoch : 125/200 Average loss: 0.0000, Train Accuracy: 76.87\n"
          ],
          "name": "stdout"
        },
        {
          "output_type": "stream",
          "text": [
            "\n",
            "  0%|          | 0/391 [00:00<?, ?it/s]"
          ],
          "name": "stderr"
        },
        {
          "output_type": "stream",
          "text": [
            "Test set: Epoch : 125/200 Average loss: 0.4292, Test Accuracy: 85.13\n",
            "EPOCH: 126\n"
          ],
          "name": "stdout"
        },
        {
          "output_type": "stream",
          "text": [
            "Loss=0.7379947304725647 Batch_id=390 Train Accuracy=76.93: 100%|██████████| 391/391 [00:27<00:00, 14.22it/s]"
          ],
          "name": "stderr"
        },
        {
          "output_type": "stream",
          "text": [
            "Train set: Epoch : 126/200 Average loss: 0.0000, Train Accuracy: 76.93\n"
          ],
          "name": "stdout"
        },
        {
          "output_type": "stream",
          "text": [
            "\n",
            "  0%|          | 0/391 [00:00<?, ?it/s]"
          ],
          "name": "stderr"
        },
        {
          "output_type": "stream",
          "text": [
            "Test set: Epoch : 126/200 Average loss: 0.4261, Test Accuracy: 85.14\n",
            "EPOCH: 127\n"
          ],
          "name": "stdout"
        },
        {
          "output_type": "stream",
          "text": [
            "Loss=0.6668202877044678 Batch_id=390 Train Accuracy=76.97: 100%|██████████| 391/391 [00:27<00:00, 14.06it/s]"
          ],
          "name": "stderr"
        },
        {
          "output_type": "stream",
          "text": [
            "Train set: Epoch : 127/200 Average loss: 0.0000, Train Accuracy: 76.97\n"
          ],
          "name": "stdout"
        },
        {
          "output_type": "stream",
          "text": [
            "\n",
            "  0%|          | 0/391 [00:00<?, ?it/s]"
          ],
          "name": "stderr"
        },
        {
          "output_type": "stream",
          "text": [
            "Test set: Epoch : 127/200 Average loss: 0.4293, Test Accuracy: 85.34\n",
            "EPOCH: 128\n"
          ],
          "name": "stdout"
        },
        {
          "output_type": "stream",
          "text": [
            "Loss=0.562361478805542 Batch_id=390 Train Accuracy=77.05: 100%|██████████| 391/391 [00:27<00:00, 14.09it/s]"
          ],
          "name": "stderr"
        },
        {
          "output_type": "stream",
          "text": [
            "Train set: Epoch : 128/200 Average loss: 0.0000, Train Accuracy: 77.05\n"
          ],
          "name": "stdout"
        },
        {
          "output_type": "stream",
          "text": [
            "\n",
            "  0%|          | 0/391 [00:00<?, ?it/s]"
          ],
          "name": "stderr"
        },
        {
          "output_type": "stream",
          "text": [
            "Test set: Epoch : 128/200 Average loss: 0.4285, Test Accuracy: 85.4\n",
            "EPOCH: 129\n"
          ],
          "name": "stdout"
        },
        {
          "output_type": "stream",
          "text": [
            "Loss=0.9410848021507263 Batch_id=390 Train Accuracy=77.06: 100%|██████████| 391/391 [00:27<00:00, 14.15it/s]"
          ],
          "name": "stderr"
        },
        {
          "output_type": "stream",
          "text": [
            "Train set: Epoch : 129/200 Average loss: 0.0000, Train Accuracy: 77.06\n"
          ],
          "name": "stdout"
        },
        {
          "output_type": "stream",
          "text": [
            "\n",
            "  0%|          | 0/391 [00:00<?, ?it/s]"
          ],
          "name": "stderr"
        },
        {
          "output_type": "stream",
          "text": [
            "Test set: Epoch : 129/200 Average loss: 0.4271, Test Accuracy: 85.58\n",
            "EPOCH: 130\n"
          ],
          "name": "stdout"
        },
        {
          "output_type": "stream",
          "text": [
            "Loss=0.8330866694450378 Batch_id=390 Train Accuracy=76.87: 100%|██████████| 391/391 [00:27<00:00, 14.18it/s]"
          ],
          "name": "stderr"
        },
        {
          "output_type": "stream",
          "text": [
            "Train set: Epoch : 130/200 Average loss: 0.0000, Train Accuracy: 76.87\n"
          ],
          "name": "stdout"
        },
        {
          "output_type": "stream",
          "text": [
            "\n",
            "  0%|          | 0/391 [00:00<?, ?it/s]"
          ],
          "name": "stderr"
        },
        {
          "output_type": "stream",
          "text": [
            "Test set: Epoch : 130/200 Average loss: 0.4387, Test Accuracy: 85.13\n",
            "EPOCH: 131\n"
          ],
          "name": "stdout"
        },
        {
          "output_type": "stream",
          "text": [
            "Loss=0.6935567259788513 Batch_id=390 Train Accuracy=77.23: 100%|██████████| 391/391 [00:27<00:00, 14.12it/s]"
          ],
          "name": "stderr"
        },
        {
          "output_type": "stream",
          "text": [
            "Train set: Epoch : 131/200 Average loss: 0.0000, Train Accuracy: 77.23\n"
          ],
          "name": "stdout"
        },
        {
          "output_type": "stream",
          "text": [
            "\n",
            "  0%|          | 0/391 [00:00<?, ?it/s]"
          ],
          "name": "stderr"
        },
        {
          "output_type": "stream",
          "text": [
            "Test set: Epoch : 131/200 Average loss: 0.4307, Test Accuracy: 85.46\n",
            "EPOCH: 132\n"
          ],
          "name": "stdout"
        },
        {
          "output_type": "stream",
          "text": [
            "Loss=0.6112217903137207 Batch_id=390 Train Accuracy=77.10: 100%|██████████| 391/391 [00:27<00:00, 14.13it/s]"
          ],
          "name": "stderr"
        },
        {
          "output_type": "stream",
          "text": [
            "Train set: Epoch : 132/200 Average loss: 0.0000, Train Accuracy: 77.1\n"
          ],
          "name": "stdout"
        },
        {
          "output_type": "stream",
          "text": [
            "\n",
            "  0%|          | 0/391 [00:00<?, ?it/s]"
          ],
          "name": "stderr"
        },
        {
          "output_type": "stream",
          "text": [
            "Test set: Epoch : 132/200 Average loss: 0.4286, Test Accuracy: 85.49\n",
            "EPOCH: 133\n"
          ],
          "name": "stdout"
        },
        {
          "output_type": "stream",
          "text": [
            "Loss=0.6155194640159607 Batch_id=390 Train Accuracy=77.21: 100%|██████████| 391/391 [00:27<00:00, 14.10it/s]"
          ],
          "name": "stderr"
        },
        {
          "output_type": "stream",
          "text": [
            "Train set: Epoch : 133/200 Average loss: 0.0000, Train Accuracy: 77.21\n"
          ],
          "name": "stdout"
        },
        {
          "output_type": "stream",
          "text": [
            "\n",
            "  0%|          | 0/391 [00:00<?, ?it/s]"
          ],
          "name": "stderr"
        },
        {
          "output_type": "stream",
          "text": [
            "Test set: Epoch : 133/200 Average loss: 0.4180, Test Accuracy: 85.74\n",
            "EPOCH: 134\n"
          ],
          "name": "stdout"
        },
        {
          "output_type": "stream",
          "text": [
            "Loss=0.7253182530403137 Batch_id=390 Train Accuracy=77.16: 100%|██████████| 391/391 [00:27<00:00, 14.11it/s]"
          ],
          "name": "stderr"
        },
        {
          "output_type": "stream",
          "text": [
            "Train set: Epoch : 134/200 Average loss: 0.0000, Train Accuracy: 77.16\n"
          ],
          "name": "stdout"
        },
        {
          "output_type": "stream",
          "text": [
            "\n",
            "  0%|          | 0/391 [00:00<?, ?it/s]"
          ],
          "name": "stderr"
        },
        {
          "output_type": "stream",
          "text": [
            "Test set: Epoch : 134/200 Average loss: 0.4125, Test Accuracy: 85.96\n",
            "EPOCH: 135\n"
          ],
          "name": "stdout"
        },
        {
          "output_type": "stream",
          "text": [
            "Loss=0.6928255558013916 Batch_id=390 Train Accuracy=77.45: 100%|██████████| 391/391 [00:27<00:00, 14.16it/s]"
          ],
          "name": "stderr"
        },
        {
          "output_type": "stream",
          "text": [
            "Train set: Epoch : 135/200 Average loss: 0.0000, Train Accuracy: 77.45\n"
          ],
          "name": "stdout"
        },
        {
          "output_type": "stream",
          "text": [
            "\n",
            "  0%|          | 0/391 [00:00<?, ?it/s]"
          ],
          "name": "stderr"
        },
        {
          "output_type": "stream",
          "text": [
            "Test set: Epoch : 135/200 Average loss: 0.4339, Test Accuracy: 85.28\n",
            "EPOCH: 136\n"
          ],
          "name": "stdout"
        },
        {
          "output_type": "stream",
          "text": [
            "Loss=0.5165780186653137 Batch_id=390 Train Accuracy=77.17: 100%|██████████| 391/391 [00:27<00:00, 14.15it/s]"
          ],
          "name": "stderr"
        },
        {
          "output_type": "stream",
          "text": [
            "Train set: Epoch : 136/200 Average loss: 0.0000, Train Accuracy: 77.17\n"
          ],
          "name": "stdout"
        },
        {
          "output_type": "stream",
          "text": [
            "\n",
            "  0%|          | 0/391 [00:00<?, ?it/s]"
          ],
          "name": "stderr"
        },
        {
          "output_type": "stream",
          "text": [
            "Test set: Epoch : 136/200 Average loss: 0.4234, Test Accuracy: 85.44\n",
            "EPOCH: 137\n"
          ],
          "name": "stdout"
        },
        {
          "output_type": "stream",
          "text": [
            "Loss=0.862305760383606 Batch_id=390 Train Accuracy=77.14: 100%|██████████| 391/391 [00:27<00:00, 14.16it/s]"
          ],
          "name": "stderr"
        },
        {
          "output_type": "stream",
          "text": [
            "Train set: Epoch : 137/200 Average loss: 0.0000, Train Accuracy: 77.14\n"
          ],
          "name": "stdout"
        },
        {
          "output_type": "stream",
          "text": [
            "\n",
            "  0%|          | 0/391 [00:00<?, ?it/s]"
          ],
          "name": "stderr"
        },
        {
          "output_type": "stream",
          "text": [
            "Test set: Epoch : 137/200 Average loss: 0.4207, Test Accuracy: 85.53\n",
            "EPOCH: 138\n"
          ],
          "name": "stdout"
        },
        {
          "output_type": "stream",
          "text": [
            "Loss=0.5646740794181824 Batch_id=390 Train Accuracy=77.49: 100%|██████████| 391/391 [00:27<00:00, 14.15it/s]"
          ],
          "name": "stderr"
        },
        {
          "output_type": "stream",
          "text": [
            "Train set: Epoch : 138/200 Average loss: 0.0000, Train Accuracy: 77.49\n"
          ],
          "name": "stdout"
        },
        {
          "output_type": "stream",
          "text": [
            "\n",
            "  0%|          | 0/391 [00:00<?, ?it/s]"
          ],
          "name": "stderr"
        },
        {
          "output_type": "stream",
          "text": [
            "Test set: Epoch : 138/200 Average loss: 0.4235, Test Accuracy: 85.65\n",
            "EPOCH: 139\n"
          ],
          "name": "stdout"
        },
        {
          "output_type": "stream",
          "text": [
            "Loss=0.7991652488708496 Batch_id=390 Train Accuracy=77.64: 100%|██████████| 391/391 [00:27<00:00, 14.15it/s]"
          ],
          "name": "stderr"
        },
        {
          "output_type": "stream",
          "text": [
            "Train set: Epoch : 139/200 Average loss: 0.0000, Train Accuracy: 77.64\n"
          ],
          "name": "stdout"
        },
        {
          "output_type": "stream",
          "text": [
            "\n",
            "  0%|          | 0/391 [00:00<?, ?it/s]"
          ],
          "name": "stderr"
        },
        {
          "output_type": "stream",
          "text": [
            "Test set: Epoch : 139/200 Average loss: 0.4231, Test Accuracy: 85.52\n",
            "EPOCH: 140\n"
          ],
          "name": "stdout"
        },
        {
          "output_type": "stream",
          "text": [
            "Loss=0.5609850287437439 Batch_id=390 Train Accuracy=77.31: 100%|██████████| 391/391 [00:27<00:00, 14.15it/s]"
          ],
          "name": "stderr"
        },
        {
          "output_type": "stream",
          "text": [
            "Train set: Epoch : 140/200 Average loss: 0.0000, Train Accuracy: 77.31\n"
          ],
          "name": "stdout"
        },
        {
          "output_type": "stream",
          "text": [
            "\n",
            "  0%|          | 0/391 [00:00<?, ?it/s]"
          ],
          "name": "stderr"
        },
        {
          "output_type": "stream",
          "text": [
            "Test set: Epoch : 140/200 Average loss: 0.4275, Test Accuracy: 85.3\n",
            "EPOCH: 141\n"
          ],
          "name": "stdout"
        },
        {
          "output_type": "stream",
          "text": [
            "Loss=0.4976975619792938 Batch_id=390 Train Accuracy=77.30: 100%|██████████| 391/391 [00:27<00:00, 14.17it/s]"
          ],
          "name": "stderr"
        },
        {
          "output_type": "stream",
          "text": [
            "Train set: Epoch : 141/200 Average loss: 0.0000, Train Accuracy: 77.3\n"
          ],
          "name": "stdout"
        },
        {
          "output_type": "stream",
          "text": [
            "\n",
            "  0%|          | 0/391 [00:00<?, ?it/s]"
          ],
          "name": "stderr"
        },
        {
          "output_type": "stream",
          "text": [
            "Test set: Epoch : 141/200 Average loss: 0.4193, Test Accuracy: 85.86\n",
            "EPOCH: 142\n"
          ],
          "name": "stdout"
        },
        {
          "output_type": "stream",
          "text": [
            "Loss=0.6573691368103027 Batch_id=390 Train Accuracy=77.29: 100%|██████████| 391/391 [00:27<00:00, 14.10it/s]"
          ],
          "name": "stderr"
        },
        {
          "output_type": "stream",
          "text": [
            "Train set: Epoch : 142/200 Average loss: 0.0000, Train Accuracy: 77.29\n"
          ],
          "name": "stdout"
        },
        {
          "output_type": "stream",
          "text": [
            "\n",
            "  0%|          | 0/391 [00:00<?, ?it/s]"
          ],
          "name": "stderr"
        },
        {
          "output_type": "stream",
          "text": [
            "Test set: Epoch : 142/200 Average loss: 0.4219, Test Accuracy: 85.84\n",
            "EPOCH: 143\n"
          ],
          "name": "stdout"
        },
        {
          "output_type": "stream",
          "text": [
            "Loss=0.7768954038619995 Batch_id=390 Train Accuracy=77.31: 100%|██████████| 391/391 [00:27<00:00, 14.17it/s]"
          ],
          "name": "stderr"
        },
        {
          "output_type": "stream",
          "text": [
            "Train set: Epoch : 143/200 Average loss: 0.0000, Train Accuracy: 77.31\n"
          ],
          "name": "stdout"
        },
        {
          "output_type": "stream",
          "text": [
            "\n",
            "  0%|          | 0/391 [00:00<?, ?it/s]"
          ],
          "name": "stderr"
        },
        {
          "output_type": "stream",
          "text": [
            "Test set: Epoch : 143/200 Average loss: 0.4308, Test Accuracy: 85.36\n",
            "EPOCH: 144\n"
          ],
          "name": "stdout"
        },
        {
          "output_type": "stream",
          "text": [
            "Loss=0.7589564323425293 Batch_id=390 Train Accuracy=77.55: 100%|██████████| 391/391 [00:27<00:00, 14.16it/s]"
          ],
          "name": "stderr"
        },
        {
          "output_type": "stream",
          "text": [
            "Train set: Epoch : 144/200 Average loss: 0.0000, Train Accuracy: 77.55\n"
          ],
          "name": "stdout"
        },
        {
          "output_type": "stream",
          "text": [
            "\n",
            "  0%|          | 0/391 [00:00<?, ?it/s]"
          ],
          "name": "stderr"
        },
        {
          "output_type": "stream",
          "text": [
            "Test set: Epoch : 144/200 Average loss: 0.4158, Test Accuracy: 85.95\n",
            "EPOCH: 145\n"
          ],
          "name": "stdout"
        },
        {
          "output_type": "stream",
          "text": [
            "Loss=0.5567455887794495 Batch_id=390 Train Accuracy=77.71: 100%|██████████| 391/391 [00:27<00:00, 14.22it/s]"
          ],
          "name": "stderr"
        },
        {
          "output_type": "stream",
          "text": [
            "Train set: Epoch : 145/200 Average loss: 0.0000, Train Accuracy: 77.71\n"
          ],
          "name": "stdout"
        },
        {
          "output_type": "stream",
          "text": [
            "\n",
            "  0%|          | 0/391 [00:00<?, ?it/s]"
          ],
          "name": "stderr"
        },
        {
          "output_type": "stream",
          "text": [
            "Test set: Epoch : 145/200 Average loss: 0.4131, Test Accuracy: 85.56\n",
            "EPOCH: 146\n"
          ],
          "name": "stdout"
        },
        {
          "output_type": "stream",
          "text": [
            "Loss=0.5382528305053711 Batch_id=390 Train Accuracy=77.77: 100%|██████████| 391/391 [00:27<00:00, 14.04it/s]"
          ],
          "name": "stderr"
        },
        {
          "output_type": "stream",
          "text": [
            "Train set: Epoch : 146/200 Average loss: 0.0000, Train Accuracy: 77.77\n"
          ],
          "name": "stdout"
        },
        {
          "output_type": "stream",
          "text": [
            "\n",
            "  0%|          | 0/391 [00:00<?, ?it/s]"
          ],
          "name": "stderr"
        },
        {
          "output_type": "stream",
          "text": [
            "Test set: Epoch : 146/200 Average loss: 0.4262, Test Accuracy: 85.62\n",
            "EPOCH: 147\n"
          ],
          "name": "stdout"
        },
        {
          "output_type": "stream",
          "text": [
            "Loss=0.7168646454811096 Batch_id=390 Train Accuracy=77.62: 100%|██████████| 391/391 [00:27<00:00, 14.23it/s]"
          ],
          "name": "stderr"
        },
        {
          "output_type": "stream",
          "text": [
            "Train set: Epoch : 147/200 Average loss: 0.0000, Train Accuracy: 77.62\n"
          ],
          "name": "stdout"
        },
        {
          "output_type": "stream",
          "text": [
            "\n",
            "  0%|          | 0/391 [00:00<?, ?it/s]"
          ],
          "name": "stderr"
        },
        {
          "output_type": "stream",
          "text": [
            "Test set: Epoch : 147/200 Average loss: 0.4202, Test Accuracy: 85.53\n",
            "EPOCH: 148\n"
          ],
          "name": "stdout"
        },
        {
          "output_type": "stream",
          "text": [
            "Loss=0.5029968619346619 Batch_id=390 Train Accuracy=77.80: 100%|██████████| 391/391 [00:28<00:00, 13.96it/s]"
          ],
          "name": "stderr"
        },
        {
          "output_type": "stream",
          "text": [
            "Train set: Epoch : 148/200 Average loss: 0.0000, Train Accuracy: 77.8\n"
          ],
          "name": "stdout"
        },
        {
          "output_type": "stream",
          "text": [
            "\n",
            "  0%|          | 0/391 [00:00<?, ?it/s]"
          ],
          "name": "stderr"
        },
        {
          "output_type": "stream",
          "text": [
            "Test set: Epoch : 148/200 Average loss: 0.4168, Test Accuracy: 85.61\n",
            "EPOCH: 149\n"
          ],
          "name": "stdout"
        },
        {
          "output_type": "stream",
          "text": [
            "Loss=0.6007490754127502 Batch_id=390 Train Accuracy=77.73: 100%|██████████| 391/391 [00:27<00:00, 14.16it/s]"
          ],
          "name": "stderr"
        },
        {
          "output_type": "stream",
          "text": [
            "Train set: Epoch : 149/200 Average loss: 0.0000, Train Accuracy: 77.73\n"
          ],
          "name": "stdout"
        },
        {
          "output_type": "stream",
          "text": [
            "\n",
            "  0%|          | 0/391 [00:00<?, ?it/s]"
          ],
          "name": "stderr"
        },
        {
          "output_type": "stream",
          "text": [
            "Test set: Epoch : 149/200 Average loss: 0.4327, Test Accuracy: 85.41\n",
            "EPOCH: 150\n"
          ],
          "name": "stdout"
        },
        {
          "output_type": "stream",
          "text": [
            "Loss=0.5921434164047241 Batch_id=390 Train Accuracy=77.80: 100%|██████████| 391/391 [00:27<00:00, 14.07it/s]"
          ],
          "name": "stderr"
        },
        {
          "output_type": "stream",
          "text": [
            "Train set: Epoch : 150/200 Average loss: 0.0000, Train Accuracy: 77.8\n"
          ],
          "name": "stdout"
        },
        {
          "output_type": "stream",
          "text": [
            "\n",
            "  0%|          | 0/391 [00:00<?, ?it/s]"
          ],
          "name": "stderr"
        },
        {
          "output_type": "stream",
          "text": [
            "Test set: Epoch : 150/200 Average loss: 0.4239, Test Accuracy: 85.57\n",
            "EPOCH: 151\n"
          ],
          "name": "stdout"
        },
        {
          "output_type": "stream",
          "text": [
            "Loss=0.5966587662696838 Batch_id=390 Train Accuracy=77.97: 100%|██████████| 391/391 [00:27<00:00, 14.23it/s]"
          ],
          "name": "stderr"
        },
        {
          "output_type": "stream",
          "text": [
            "Train set: Epoch : 151/200 Average loss: 0.0000, Train Accuracy: 77.97\n"
          ],
          "name": "stdout"
        },
        {
          "output_type": "stream",
          "text": [
            "\n",
            "  0%|          | 0/391 [00:00<?, ?it/s]"
          ],
          "name": "stderr"
        },
        {
          "output_type": "stream",
          "text": [
            "Test set: Epoch : 151/200 Average loss: 0.4081, Test Accuracy: 86.21\n",
            "EPOCH: 152\n"
          ],
          "name": "stdout"
        },
        {
          "output_type": "stream",
          "text": [
            "Loss=0.697255551815033 Batch_id=390 Train Accuracy=77.70: 100%|██████████| 391/391 [00:27<00:00, 14.05it/s]"
          ],
          "name": "stderr"
        },
        {
          "output_type": "stream",
          "text": [
            "Train set: Epoch : 152/200 Average loss: 0.0000, Train Accuracy: 77.7\n"
          ],
          "name": "stdout"
        },
        {
          "output_type": "stream",
          "text": [
            "\n",
            "  0%|          | 0/391 [00:00<?, ?it/s]"
          ],
          "name": "stderr"
        },
        {
          "output_type": "stream",
          "text": [
            "Test set: Epoch : 152/200 Average loss: 0.4158, Test Accuracy: 86.02\n",
            "EPOCH: 153\n"
          ],
          "name": "stdout"
        },
        {
          "output_type": "stream",
          "text": [
            "Loss=0.653957724571228 Batch_id=390 Train Accuracy=77.95: 100%|██████████| 391/391 [00:27<00:00, 14.14it/s]"
          ],
          "name": "stderr"
        },
        {
          "output_type": "stream",
          "text": [
            "Train set: Epoch : 153/200 Average loss: 0.0000, Train Accuracy: 77.95\n"
          ],
          "name": "stdout"
        },
        {
          "output_type": "stream",
          "text": [
            "\n",
            "  0%|          | 0/391 [00:00<?, ?it/s]"
          ],
          "name": "stderr"
        },
        {
          "output_type": "stream",
          "text": [
            "Test set: Epoch : 153/200 Average loss: 0.4135, Test Accuracy: 86.24\n",
            "EPOCH: 154\n"
          ],
          "name": "stdout"
        },
        {
          "output_type": "stream",
          "text": [
            "Loss=0.6041831374168396 Batch_id=390 Train Accuracy=77.82: 100%|██████████| 391/391 [00:27<00:00, 14.14it/s]"
          ],
          "name": "stderr"
        },
        {
          "output_type": "stream",
          "text": [
            "Train set: Epoch : 154/200 Average loss: 0.0000, Train Accuracy: 77.82\n"
          ],
          "name": "stdout"
        },
        {
          "output_type": "stream",
          "text": [
            "\n",
            "  0%|          | 0/391 [00:00<?, ?it/s]"
          ],
          "name": "stderr"
        },
        {
          "output_type": "stream",
          "text": [
            "Test set: Epoch : 154/200 Average loss: 0.4217, Test Accuracy: 85.69\n",
            "EPOCH: 155\n"
          ],
          "name": "stdout"
        },
        {
          "output_type": "stream",
          "text": [
            "Loss=0.6097890734672546 Batch_id=390 Train Accuracy=77.86: 100%|██████████| 391/391 [00:27<00:00, 14.17it/s]"
          ],
          "name": "stderr"
        },
        {
          "output_type": "stream",
          "text": [
            "Train set: Epoch : 155/200 Average loss: 0.0000, Train Accuracy: 77.86\n"
          ],
          "name": "stdout"
        },
        {
          "output_type": "stream",
          "text": [
            "\n",
            "  0%|          | 0/391 [00:00<?, ?it/s]"
          ],
          "name": "stderr"
        },
        {
          "output_type": "stream",
          "text": [
            "Test set: Epoch : 155/200 Average loss: 0.4195, Test Accuracy: 85.66\n",
            "EPOCH: 156\n"
          ],
          "name": "stdout"
        },
        {
          "output_type": "stream",
          "text": [
            "Loss=0.8011208176612854 Batch_id=390 Train Accuracy=78.13: 100%|██████████| 391/391 [00:27<00:00, 14.09it/s]"
          ],
          "name": "stderr"
        },
        {
          "output_type": "stream",
          "text": [
            "Train set: Epoch : 156/200 Average loss: 0.0000, Train Accuracy: 78.13\n"
          ],
          "name": "stdout"
        },
        {
          "output_type": "stream",
          "text": [
            "\n",
            "  0%|          | 0/391 [00:00<?, ?it/s]"
          ],
          "name": "stderr"
        },
        {
          "output_type": "stream",
          "text": [
            "Test set: Epoch : 156/200 Average loss: 0.4062, Test Accuracy: 86.27\n",
            "EPOCH: 157\n"
          ],
          "name": "stdout"
        },
        {
          "output_type": "stream",
          "text": [
            "Loss=0.6388849020004272 Batch_id=390 Train Accuracy=77.99: 100%|██████████| 391/391 [00:27<00:00, 14.18it/s]"
          ],
          "name": "stderr"
        },
        {
          "output_type": "stream",
          "text": [
            "Train set: Epoch : 157/200 Average loss: 0.0000, Train Accuracy: 77.99\n"
          ],
          "name": "stdout"
        },
        {
          "output_type": "stream",
          "text": [
            "\n",
            "  0%|          | 0/391 [00:00<?, ?it/s]"
          ],
          "name": "stderr"
        },
        {
          "output_type": "stream",
          "text": [
            "Test set: Epoch : 157/200 Average loss: 0.4077, Test Accuracy: 86.05\n",
            "EPOCH: 158\n"
          ],
          "name": "stdout"
        },
        {
          "output_type": "stream",
          "text": [
            "Loss=0.6534264087677002 Batch_id=390 Train Accuracy=77.96: 100%|██████████| 391/391 [00:27<00:00, 14.19it/s]"
          ],
          "name": "stderr"
        },
        {
          "output_type": "stream",
          "text": [
            "Train set: Epoch : 158/200 Average loss: 0.0000, Train Accuracy: 77.96\n"
          ],
          "name": "stdout"
        },
        {
          "output_type": "stream",
          "text": [
            "\n",
            "  0%|          | 0/391 [00:00<?, ?it/s]"
          ],
          "name": "stderr"
        },
        {
          "output_type": "stream",
          "text": [
            "Test set: Epoch : 158/200 Average loss: 0.4084, Test Accuracy: 86.08\n",
            "EPOCH: 159\n"
          ],
          "name": "stdout"
        },
        {
          "output_type": "stream",
          "text": [
            "Loss=0.7423346042633057 Batch_id=390 Train Accuracy=77.97: 100%|██████████| 391/391 [00:27<00:00, 14.06it/s]"
          ],
          "name": "stderr"
        },
        {
          "output_type": "stream",
          "text": [
            "Train set: Epoch : 159/200 Average loss: 0.0000, Train Accuracy: 77.97\n"
          ],
          "name": "stdout"
        },
        {
          "output_type": "stream",
          "text": [
            "\n",
            "  0%|          | 0/391 [00:00<?, ?it/s]"
          ],
          "name": "stderr"
        },
        {
          "output_type": "stream",
          "text": [
            "Test set: Epoch : 159/200 Average loss: 0.4197, Test Accuracy: 85.6\n",
            "EPOCH: 160\n"
          ],
          "name": "stdout"
        },
        {
          "output_type": "stream",
          "text": [
            "Loss=0.5964837670326233 Batch_id=390 Train Accuracy=78.07: 100%|██████████| 391/391 [00:27<00:00, 14.08it/s]"
          ],
          "name": "stderr"
        },
        {
          "output_type": "stream",
          "text": [
            "Train set: Epoch : 160/200 Average loss: 0.0000, Train Accuracy: 78.07\n"
          ],
          "name": "stdout"
        },
        {
          "output_type": "stream",
          "text": [
            "\n",
            "  0%|          | 0/391 [00:00<?, ?it/s]"
          ],
          "name": "stderr"
        },
        {
          "output_type": "stream",
          "text": [
            "Test set: Epoch : 160/200 Average loss: 0.4143, Test Accuracy: 86.26\n",
            "EPOCH: 161\n"
          ],
          "name": "stdout"
        },
        {
          "output_type": "stream",
          "text": [
            "Loss=0.6096487641334534 Batch_id=390 Train Accuracy=78.04: 100%|██████████| 391/391 [00:27<00:00, 14.10it/s]"
          ],
          "name": "stderr"
        },
        {
          "output_type": "stream",
          "text": [
            "Train set: Epoch : 161/200 Average loss: 0.0000, Train Accuracy: 78.04\n"
          ],
          "name": "stdout"
        },
        {
          "output_type": "stream",
          "text": [
            "\n",
            "  0%|          | 0/391 [00:00<?, ?it/s]"
          ],
          "name": "stderr"
        },
        {
          "output_type": "stream",
          "text": [
            "Test set: Epoch : 161/200 Average loss: 0.4114, Test Accuracy: 85.61\n",
            "EPOCH: 162\n"
          ],
          "name": "stdout"
        },
        {
          "output_type": "stream",
          "text": [
            "Loss=0.6627033948898315 Batch_id=390 Train Accuracy=78.08: 100%|██████████| 391/391 [00:27<00:00, 14.12it/s]"
          ],
          "name": "stderr"
        },
        {
          "output_type": "stream",
          "text": [
            "Train set: Epoch : 162/200 Average loss: 0.0000, Train Accuracy: 78.08\n"
          ],
          "name": "stdout"
        },
        {
          "output_type": "stream",
          "text": [
            "\n",
            "  0%|          | 0/391 [00:00<?, ?it/s]"
          ],
          "name": "stderr"
        },
        {
          "output_type": "stream",
          "text": [
            "Test set: Epoch : 162/200 Average loss: 0.4109, Test Accuracy: 86.02\n",
            "EPOCH: 163\n"
          ],
          "name": "stdout"
        },
        {
          "output_type": "stream",
          "text": [
            "Loss=0.8951804041862488 Batch_id=390 Train Accuracy=77.90: 100%|██████████| 391/391 [00:27<00:00, 14.21it/s]"
          ],
          "name": "stderr"
        },
        {
          "output_type": "stream",
          "text": [
            "Train set: Epoch : 163/200 Average loss: 0.0000, Train Accuracy: 77.9\n"
          ],
          "name": "stdout"
        },
        {
          "output_type": "stream",
          "text": [
            "\n",
            "  0%|          | 0/391 [00:00<?, ?it/s]"
          ],
          "name": "stderr"
        },
        {
          "output_type": "stream",
          "text": [
            "Test set: Epoch : 163/200 Average loss: 0.4135, Test Accuracy: 85.89\n",
            "EPOCH: 164\n"
          ],
          "name": "stdout"
        },
        {
          "output_type": "stream",
          "text": [
            "Loss=0.6306940913200378 Batch_id=390 Train Accuracy=78.25: 100%|██████████| 391/391 [00:27<00:00, 14.14it/s]"
          ],
          "name": "stderr"
        },
        {
          "output_type": "stream",
          "text": [
            "Train set: Epoch : 164/200 Average loss: 0.0000, Train Accuracy: 78.25\n"
          ],
          "name": "stdout"
        },
        {
          "output_type": "stream",
          "text": [
            "\n",
            "  0%|          | 0/391 [00:00<?, ?it/s]"
          ],
          "name": "stderr"
        },
        {
          "output_type": "stream",
          "text": [
            "Test set: Epoch : 164/200 Average loss: 0.4062, Test Accuracy: 86.33\n",
            "EPOCH: 165\n"
          ],
          "name": "stdout"
        },
        {
          "output_type": "stream",
          "text": [
            "Loss=0.6560531258583069 Batch_id=390 Train Accuracy=77.94: 100%|██████████| 391/391 [00:27<00:00, 14.07it/s]"
          ],
          "name": "stderr"
        },
        {
          "output_type": "stream",
          "text": [
            "Train set: Epoch : 165/200 Average loss: 0.0000, Train Accuracy: 77.94\n"
          ],
          "name": "stdout"
        },
        {
          "output_type": "stream",
          "text": [
            "\n",
            "  0%|          | 0/391 [00:00<?, ?it/s]"
          ],
          "name": "stderr"
        },
        {
          "output_type": "stream",
          "text": [
            "Test set: Epoch : 165/200 Average loss: 0.4041, Test Accuracy: 86.18\n",
            "EPOCH: 166\n"
          ],
          "name": "stdout"
        },
        {
          "output_type": "stream",
          "text": [
            "Loss=0.6963696479797363 Batch_id=390 Train Accuracy=77.93: 100%|██████████| 391/391 [00:27<00:00, 14.06it/s]"
          ],
          "name": "stderr"
        },
        {
          "output_type": "stream",
          "text": [
            "Train set: Epoch : 166/200 Average loss: 0.0000, Train Accuracy: 77.93\n"
          ],
          "name": "stdout"
        },
        {
          "output_type": "stream",
          "text": [
            "\n",
            "  0%|          | 0/391 [00:00<?, ?it/s]"
          ],
          "name": "stderr"
        },
        {
          "output_type": "stream",
          "text": [
            "Test set: Epoch : 166/200 Average loss: 0.3913, Test Accuracy: 86.32\n",
            "EPOCH: 167\n"
          ],
          "name": "stdout"
        },
        {
          "output_type": "stream",
          "text": [
            "Loss=0.5974620580673218 Batch_id=390 Train Accuracy=78.25: 100%|██████████| 391/391 [00:27<00:00, 14.08it/s]"
          ],
          "name": "stderr"
        },
        {
          "output_type": "stream",
          "text": [
            "Train set: Epoch : 167/200 Average loss: 0.0000, Train Accuracy: 78.25\n"
          ],
          "name": "stdout"
        },
        {
          "output_type": "stream",
          "text": [
            "\n",
            "  0%|          | 0/391 [00:00<?, ?it/s]"
          ],
          "name": "stderr"
        },
        {
          "output_type": "stream",
          "text": [
            "Test set: Epoch : 167/200 Average loss: 0.4012, Test Accuracy: 86.47\n",
            "EPOCH: 168\n"
          ],
          "name": "stdout"
        },
        {
          "output_type": "stream",
          "text": [
            "Loss=0.5934799313545227 Batch_id=390 Train Accuracy=78.22: 100%|██████████| 391/391 [00:27<00:00, 14.07it/s]"
          ],
          "name": "stderr"
        },
        {
          "output_type": "stream",
          "text": [
            "Train set: Epoch : 168/200 Average loss: 0.0000, Train Accuracy: 78.22\n"
          ],
          "name": "stdout"
        },
        {
          "output_type": "stream",
          "text": [
            "\n",
            "  0%|          | 0/391 [00:00<?, ?it/s]"
          ],
          "name": "stderr"
        },
        {
          "output_type": "stream",
          "text": [
            "Test set: Epoch : 168/200 Average loss: 0.4122, Test Accuracy: 85.95\n",
            "EPOCH: 169\n"
          ],
          "name": "stdout"
        },
        {
          "output_type": "stream",
          "text": [
            "Loss=0.6837130784988403 Batch_id=390 Train Accuracy=78.51: 100%|██████████| 391/391 [00:27<00:00, 14.05it/s]"
          ],
          "name": "stderr"
        },
        {
          "output_type": "stream",
          "text": [
            "Train set: Epoch : 169/200 Average loss: 0.0000, Train Accuracy: 78.51\n"
          ],
          "name": "stdout"
        },
        {
          "output_type": "stream",
          "text": [
            "\n",
            "  0%|          | 0/391 [00:00<?, ?it/s]"
          ],
          "name": "stderr"
        },
        {
          "output_type": "stream",
          "text": [
            "Test set: Epoch : 169/200 Average loss: 0.4067, Test Accuracy: 86.47\n",
            "EPOCH: 170\n"
          ],
          "name": "stdout"
        },
        {
          "output_type": "stream",
          "text": [
            "Loss=0.6360576748847961 Batch_id=390 Train Accuracy=78.23: 100%|██████████| 391/391 [00:27<00:00, 14.09it/s]"
          ],
          "name": "stderr"
        },
        {
          "output_type": "stream",
          "text": [
            "Train set: Epoch : 170/200 Average loss: 0.0000, Train Accuracy: 78.23\n"
          ],
          "name": "stdout"
        },
        {
          "output_type": "stream",
          "text": [
            "\n",
            "  0%|          | 0/391 [00:00<?, ?it/s]"
          ],
          "name": "stderr"
        },
        {
          "output_type": "stream",
          "text": [
            "Test set: Epoch : 170/200 Average loss: 0.4008, Test Accuracy: 86.28\n",
            "EPOCH: 171\n"
          ],
          "name": "stdout"
        },
        {
          "output_type": "stream",
          "text": [
            "Loss=0.824870765209198 Batch_id=390 Train Accuracy=77.94: 100%|██████████| 391/391 [00:27<00:00, 14.06it/s]"
          ],
          "name": "stderr"
        },
        {
          "output_type": "stream",
          "text": [
            "Train set: Epoch : 171/200 Average loss: 0.0000, Train Accuracy: 77.94\n"
          ],
          "name": "stdout"
        },
        {
          "output_type": "stream",
          "text": [
            "\n",
            "  0%|          | 0/391 [00:00<?, ?it/s]"
          ],
          "name": "stderr"
        },
        {
          "output_type": "stream",
          "text": [
            "Test set: Epoch : 171/200 Average loss: 0.4022, Test Accuracy: 86.35\n",
            "EPOCH: 172\n"
          ],
          "name": "stdout"
        },
        {
          "output_type": "stream",
          "text": [
            "Loss=0.6082484722137451 Batch_id=390 Train Accuracy=78.50: 100%|██████████| 391/391 [00:27<00:00, 14.00it/s]"
          ],
          "name": "stderr"
        },
        {
          "output_type": "stream",
          "text": [
            "Train set: Epoch : 172/200 Average loss: 0.0000, Train Accuracy: 78.5\n"
          ],
          "name": "stdout"
        },
        {
          "output_type": "stream",
          "text": [
            "\n",
            "  0%|          | 0/391 [00:00<?, ?it/s]"
          ],
          "name": "stderr"
        },
        {
          "output_type": "stream",
          "text": [
            "Test set: Epoch : 172/200 Average loss: 0.3986, Test Accuracy: 86.51\n",
            "EPOCH: 173\n"
          ],
          "name": "stdout"
        },
        {
          "output_type": "stream",
          "text": [
            "Loss=0.6894853115081787 Batch_id=390 Train Accuracy=78.46: 100%|██████████| 391/391 [00:27<00:00, 14.06it/s]"
          ],
          "name": "stderr"
        },
        {
          "output_type": "stream",
          "text": [
            "Train set: Epoch : 173/200 Average loss: 0.0000, Train Accuracy: 78.46\n"
          ],
          "name": "stdout"
        },
        {
          "output_type": "stream",
          "text": [
            "\n",
            "  0%|          | 0/391 [00:00<?, ?it/s]"
          ],
          "name": "stderr"
        },
        {
          "output_type": "stream",
          "text": [
            "Test set: Epoch : 173/200 Average loss: 0.4016, Test Accuracy: 86.3\n",
            "EPOCH: 174\n"
          ],
          "name": "stdout"
        },
        {
          "output_type": "stream",
          "text": [
            "Loss=0.705052375793457 Batch_id=390 Train Accuracy=78.43: 100%|██████████| 391/391 [00:27<00:00, 14.08it/s]"
          ],
          "name": "stderr"
        },
        {
          "output_type": "stream",
          "text": [
            "Train set: Epoch : 174/200 Average loss: 0.0000, Train Accuracy: 78.43\n"
          ],
          "name": "stdout"
        },
        {
          "output_type": "stream",
          "text": [
            "\n",
            "  0%|          | 0/391 [00:00<?, ?it/s]"
          ],
          "name": "stderr"
        },
        {
          "output_type": "stream",
          "text": [
            "Test set: Epoch : 174/200 Average loss: 0.4082, Test Accuracy: 86.09\n",
            "EPOCH: 175\n"
          ],
          "name": "stdout"
        },
        {
          "output_type": "stream",
          "text": [
            "Loss=0.9025171399116516 Batch_id=390 Train Accuracy=78.45: 100%|██████████| 391/391 [00:27<00:00, 14.14it/s]"
          ],
          "name": "stderr"
        },
        {
          "output_type": "stream",
          "text": [
            "Train set: Epoch : 175/200 Average loss: 0.0000, Train Accuracy: 78.45\n"
          ],
          "name": "stdout"
        },
        {
          "output_type": "stream",
          "text": [
            "\n",
            "  0%|          | 0/391 [00:00<?, ?it/s]"
          ],
          "name": "stderr"
        },
        {
          "output_type": "stream",
          "text": [
            "Test set: Epoch : 175/200 Average loss: 0.4145, Test Accuracy: 85.75\n",
            "EPOCH: 176\n"
          ],
          "name": "stdout"
        },
        {
          "output_type": "stream",
          "text": [
            "Loss=0.6917404532432556 Batch_id=390 Train Accuracy=78.19: 100%|██████████| 391/391 [00:27<00:00, 14.07it/s]"
          ],
          "name": "stderr"
        },
        {
          "output_type": "stream",
          "text": [
            "Train set: Epoch : 176/200 Average loss: 0.0000, Train Accuracy: 78.19\n"
          ],
          "name": "stdout"
        },
        {
          "output_type": "stream",
          "text": [
            "\n",
            "  0%|          | 0/391 [00:00<?, ?it/s]"
          ],
          "name": "stderr"
        },
        {
          "output_type": "stream",
          "text": [
            "Test set: Epoch : 176/200 Average loss: 0.3986, Test Accuracy: 86.55\n",
            "EPOCH: 177\n"
          ],
          "name": "stdout"
        },
        {
          "output_type": "stream",
          "text": [
            "Loss=0.3651750087738037 Batch_id=390 Train Accuracy=78.26: 100%|██████████| 391/391 [00:27<00:00, 14.08it/s]"
          ],
          "name": "stderr"
        },
        {
          "output_type": "stream",
          "text": [
            "Train set: Epoch : 177/200 Average loss: 0.0000, Train Accuracy: 78.26\n"
          ],
          "name": "stdout"
        },
        {
          "output_type": "stream",
          "text": [
            "\n",
            "  0%|          | 0/391 [00:00<?, ?it/s]"
          ],
          "name": "stderr"
        },
        {
          "output_type": "stream",
          "text": [
            "Test set: Epoch : 177/200 Average loss: 0.3966, Test Accuracy: 86.42\n",
            "EPOCH: 178\n"
          ],
          "name": "stdout"
        },
        {
          "output_type": "stream",
          "text": [
            "Loss=0.5552696585655212 Batch_id=390 Train Accuracy=78.69: 100%|██████████| 391/391 [00:27<00:00, 14.07it/s]"
          ],
          "name": "stderr"
        },
        {
          "output_type": "stream",
          "text": [
            "Train set: Epoch : 178/200 Average loss: 0.0000, Train Accuracy: 78.69\n"
          ],
          "name": "stdout"
        },
        {
          "output_type": "stream",
          "text": [
            "\n",
            "  0%|          | 0/391 [00:00<?, ?it/s]"
          ],
          "name": "stderr"
        },
        {
          "output_type": "stream",
          "text": [
            "Test set: Epoch : 178/200 Average loss: 0.4010, Test Accuracy: 86.48\n",
            "EPOCH: 179\n"
          ],
          "name": "stdout"
        },
        {
          "output_type": "stream",
          "text": [
            "Loss=0.5324930548667908 Batch_id=390 Train Accuracy=78.72: 100%|██████████| 391/391 [00:27<00:00, 14.06it/s]"
          ],
          "name": "stderr"
        },
        {
          "output_type": "stream",
          "text": [
            "Train set: Epoch : 179/200 Average loss: 0.0000, Train Accuracy: 78.72\n"
          ],
          "name": "stdout"
        },
        {
          "output_type": "stream",
          "text": [
            "\n",
            "  0%|          | 0/391 [00:00<?, ?it/s]"
          ],
          "name": "stderr"
        },
        {
          "output_type": "stream",
          "text": [
            "Test set: Epoch : 179/200 Average loss: 0.4027, Test Accuracy: 86.2\n",
            "EPOCH: 180\n"
          ],
          "name": "stdout"
        },
        {
          "output_type": "stream",
          "text": [
            "Loss=0.5820457339286804 Batch_id=390 Train Accuracy=78.48: 100%|██████████| 391/391 [00:27<00:00, 14.00it/s]"
          ],
          "name": "stderr"
        },
        {
          "output_type": "stream",
          "text": [
            "Train set: Epoch : 180/200 Average loss: 0.0000, Train Accuracy: 78.48\n"
          ],
          "name": "stdout"
        },
        {
          "output_type": "stream",
          "text": [
            "\n",
            "  0%|          | 0/391 [00:00<?, ?it/s]"
          ],
          "name": "stderr"
        },
        {
          "output_type": "stream",
          "text": [
            "Test set: Epoch : 180/200 Average loss: 0.3981, Test Accuracy: 86.49\n",
            "EPOCH: 181\n"
          ],
          "name": "stdout"
        },
        {
          "output_type": "stream",
          "text": [
            "Loss=0.7279550433158875 Batch_id=390 Train Accuracy=78.74: 100%|██████████| 391/391 [00:27<00:00, 14.04it/s]"
          ],
          "name": "stderr"
        },
        {
          "output_type": "stream",
          "text": [
            "Train set: Epoch : 181/200 Average loss: 0.0000, Train Accuracy: 78.74\n"
          ],
          "name": "stdout"
        },
        {
          "output_type": "stream",
          "text": [
            "\n",
            "  0%|          | 0/391 [00:00<?, ?it/s]"
          ],
          "name": "stderr"
        },
        {
          "output_type": "stream",
          "text": [
            "Test set: Epoch : 181/200 Average loss: 0.4037, Test Accuracy: 86.55\n",
            "EPOCH: 182\n"
          ],
          "name": "stdout"
        },
        {
          "output_type": "stream",
          "text": [
            "Loss=0.6777395009994507 Batch_id=390 Train Accuracy=78.36: 100%|██████████| 391/391 [00:27<00:00, 14.05it/s]"
          ],
          "name": "stderr"
        },
        {
          "output_type": "stream",
          "text": [
            "Train set: Epoch : 182/200 Average loss: 0.0000, Train Accuracy: 78.36\n"
          ],
          "name": "stdout"
        },
        {
          "output_type": "stream",
          "text": [
            "\n",
            "  0%|          | 0/391 [00:00<?, ?it/s]"
          ],
          "name": "stderr"
        },
        {
          "output_type": "stream",
          "text": [
            "Test set: Epoch : 182/200 Average loss: 0.4266, Test Accuracy: 85.7\n",
            "EPOCH: 183\n"
          ],
          "name": "stdout"
        },
        {
          "output_type": "stream",
          "text": [
            "Loss=0.5485843420028687 Batch_id=390 Train Accuracy=78.57: 100%|██████████| 391/391 [00:27<00:00, 14.11it/s]"
          ],
          "name": "stderr"
        },
        {
          "output_type": "stream",
          "text": [
            "Train set: Epoch : 183/200 Average loss: 0.0000, Train Accuracy: 78.57\n"
          ],
          "name": "stdout"
        },
        {
          "output_type": "stream",
          "text": [
            "\n",
            "  0%|          | 0/391 [00:00<?, ?it/s]"
          ],
          "name": "stderr"
        },
        {
          "output_type": "stream",
          "text": [
            "Test set: Epoch : 183/200 Average loss: 0.4010, Test Accuracy: 86.66\n",
            "EPOCH: 184\n"
          ],
          "name": "stdout"
        },
        {
          "output_type": "stream",
          "text": [
            "Loss=0.5371755957603455 Batch_id=390 Train Accuracy=78.40: 100%|██████████| 391/391 [00:27<00:00, 14.09it/s]"
          ],
          "name": "stderr"
        },
        {
          "output_type": "stream",
          "text": [
            "Train set: Epoch : 184/200 Average loss: 0.0000, Train Accuracy: 78.4\n"
          ],
          "name": "stdout"
        },
        {
          "output_type": "stream",
          "text": [
            "\n",
            "  0%|          | 0/391 [00:00<?, ?it/s]"
          ],
          "name": "stderr"
        },
        {
          "output_type": "stream",
          "text": [
            "Test set: Epoch : 184/200 Average loss: 0.3918, Test Accuracy: 86.99\n",
            "EPOCH: 185\n"
          ],
          "name": "stdout"
        },
        {
          "output_type": "stream",
          "text": [
            "Loss=0.5552920699119568 Batch_id=390 Train Accuracy=78.52: 100%|██████████| 391/391 [00:27<00:00, 14.12it/s]"
          ],
          "name": "stderr"
        },
        {
          "output_type": "stream",
          "text": [
            "Train set: Epoch : 185/200 Average loss: 0.0000, Train Accuracy: 78.52\n"
          ],
          "name": "stdout"
        },
        {
          "output_type": "stream",
          "text": [
            "\n",
            "  0%|          | 0/391 [00:00<?, ?it/s]"
          ],
          "name": "stderr"
        },
        {
          "output_type": "stream",
          "text": [
            "Test set: Epoch : 185/200 Average loss: 0.3991, Test Accuracy: 86.31\n",
            "EPOCH: 186\n"
          ],
          "name": "stdout"
        },
        {
          "output_type": "stream",
          "text": [
            "Loss=0.6540220379829407 Batch_id=390 Train Accuracy=78.99: 100%|██████████| 391/391 [00:27<00:00, 13.99it/s]"
          ],
          "name": "stderr"
        },
        {
          "output_type": "stream",
          "text": [
            "Train set: Epoch : 186/200 Average loss: 0.0000, Train Accuracy: 78.99\n"
          ],
          "name": "stdout"
        },
        {
          "output_type": "stream",
          "text": [
            "\n",
            "  0%|          | 0/391 [00:00<?, ?it/s]"
          ],
          "name": "stderr"
        },
        {
          "output_type": "stream",
          "text": [
            "Test set: Epoch : 186/200 Average loss: 0.3934, Test Accuracy: 86.68\n",
            "EPOCH: 187\n"
          ],
          "name": "stdout"
        },
        {
          "output_type": "stream",
          "text": [
            "Loss=0.7440710067749023 Batch_id=390 Train Accuracy=78.59: 100%|██████████| 391/391 [00:27<00:00, 14.05it/s]"
          ],
          "name": "stderr"
        },
        {
          "output_type": "stream",
          "text": [
            "Train set: Epoch : 187/200 Average loss: 0.0000, Train Accuracy: 78.59\n"
          ],
          "name": "stdout"
        },
        {
          "output_type": "stream",
          "text": [
            "\n",
            "  0%|          | 0/391 [00:00<?, ?it/s]"
          ],
          "name": "stderr"
        },
        {
          "output_type": "stream",
          "text": [
            "Test set: Epoch : 187/200 Average loss: 0.3902, Test Accuracy: 86.63\n",
            "EPOCH: 188\n"
          ],
          "name": "stdout"
        },
        {
          "output_type": "stream",
          "text": [
            "Loss=0.4804738461971283 Batch_id=390 Train Accuracy=78.89: 100%|██████████| 391/391 [00:27<00:00, 14.01it/s]"
          ],
          "name": "stderr"
        },
        {
          "output_type": "stream",
          "text": [
            "Train set: Epoch : 188/200 Average loss: 0.0000, Train Accuracy: 78.89\n"
          ],
          "name": "stdout"
        },
        {
          "output_type": "stream",
          "text": [
            "\n",
            "  0%|          | 0/391 [00:00<?, ?it/s]"
          ],
          "name": "stderr"
        },
        {
          "output_type": "stream",
          "text": [
            "Test set: Epoch : 188/200 Average loss: 0.3982, Test Accuracy: 86.71\n",
            "EPOCH: 189\n"
          ],
          "name": "stdout"
        },
        {
          "output_type": "stream",
          "text": [
            "Loss=0.639670729637146 Batch_id=390 Train Accuracy=78.79: 100%|██████████| 391/391 [00:27<00:00, 14.00it/s]"
          ],
          "name": "stderr"
        },
        {
          "output_type": "stream",
          "text": [
            "Train set: Epoch : 189/200 Average loss: 0.0000, Train Accuracy: 78.79\n"
          ],
          "name": "stdout"
        },
        {
          "output_type": "stream",
          "text": [
            "\n",
            "  0%|          | 0/391 [00:00<?, ?it/s]"
          ],
          "name": "stderr"
        },
        {
          "output_type": "stream",
          "text": [
            "Test set: Epoch : 189/200 Average loss: 0.3943, Test Accuracy: 86.51\n",
            "EPOCH: 190\n"
          ],
          "name": "stdout"
        },
        {
          "output_type": "stream",
          "text": [
            "Loss=0.4738452732563019 Batch_id=390 Train Accuracy=79.08: 100%|██████████| 391/391 [00:27<00:00, 14.01it/s]"
          ],
          "name": "stderr"
        },
        {
          "output_type": "stream",
          "text": [
            "Train set: Epoch : 190/200 Average loss: 0.0000, Train Accuracy: 79.08\n"
          ],
          "name": "stdout"
        },
        {
          "output_type": "stream",
          "text": [
            "\n",
            "  0%|          | 0/391 [00:00<?, ?it/s]"
          ],
          "name": "stderr"
        },
        {
          "output_type": "stream",
          "text": [
            "Test set: Epoch : 190/200 Average loss: 0.4055, Test Accuracy: 86.37\n",
            "EPOCH: 191\n"
          ],
          "name": "stdout"
        },
        {
          "output_type": "stream",
          "text": [
            "Loss=0.6796528100967407 Batch_id=390 Train Accuracy=78.64: 100%|██████████| 391/391 [00:27<00:00, 14.02it/s]"
          ],
          "name": "stderr"
        },
        {
          "output_type": "stream",
          "text": [
            "Train set: Epoch : 191/200 Average loss: 0.0000, Train Accuracy: 78.64\n"
          ],
          "name": "stdout"
        },
        {
          "output_type": "stream",
          "text": [
            "\n",
            "  0%|          | 0/391 [00:00<?, ?it/s]"
          ],
          "name": "stderr"
        },
        {
          "output_type": "stream",
          "text": [
            "Test set: Epoch : 191/200 Average loss: 0.3989, Test Accuracy: 86.71\n",
            "EPOCH: 192\n"
          ],
          "name": "stdout"
        },
        {
          "output_type": "stream",
          "text": [
            "Loss=0.45566466450691223 Batch_id=390 Train Accuracy=78.79: 100%|██████████| 391/391 [00:27<00:00, 14.05it/s]"
          ],
          "name": "stderr"
        },
        {
          "output_type": "stream",
          "text": [
            "Train set: Epoch : 192/200 Average loss: 0.0000, Train Accuracy: 78.79\n"
          ],
          "name": "stdout"
        },
        {
          "output_type": "stream",
          "text": [
            "\n",
            "  0%|          | 0/391 [00:00<?, ?it/s]"
          ],
          "name": "stderr"
        },
        {
          "output_type": "stream",
          "text": [
            "Test set: Epoch : 192/200 Average loss: 0.3922, Test Accuracy: 86.63\n",
            "EPOCH: 193\n"
          ],
          "name": "stdout"
        },
        {
          "output_type": "stream",
          "text": [
            "Loss=0.6600762009620667 Batch_id=390 Train Accuracy=78.74: 100%|██████████| 391/391 [00:27<00:00, 14.06it/s]"
          ],
          "name": "stderr"
        },
        {
          "output_type": "stream",
          "text": [
            "Train set: Epoch : 193/200 Average loss: 0.0000, Train Accuracy: 78.74\n"
          ],
          "name": "stdout"
        },
        {
          "output_type": "stream",
          "text": [
            "\n",
            "  0%|          | 0/391 [00:00<?, ?it/s]"
          ],
          "name": "stderr"
        },
        {
          "output_type": "stream",
          "text": [
            "Test set: Epoch : 193/200 Average loss: 0.3974, Test Accuracy: 86.77\n",
            "EPOCH: 194\n"
          ],
          "name": "stdout"
        },
        {
          "output_type": "stream",
          "text": [
            "Loss=0.592313289642334 Batch_id=390 Train Accuracy=78.47: 100%|██████████| 391/391 [00:27<00:00, 14.05it/s]"
          ],
          "name": "stderr"
        },
        {
          "output_type": "stream",
          "text": [
            "Train set: Epoch : 194/200 Average loss: 0.0000, Train Accuracy: 78.47\n"
          ],
          "name": "stdout"
        },
        {
          "output_type": "stream",
          "text": [
            "\n",
            "  0%|          | 0/391 [00:00<?, ?it/s]"
          ],
          "name": "stderr"
        },
        {
          "output_type": "stream",
          "text": [
            "Test set: Epoch : 194/200 Average loss: 0.3874, Test Accuracy: 86.65\n",
            "EPOCH: 195\n"
          ],
          "name": "stdout"
        },
        {
          "output_type": "stream",
          "text": [
            "Loss=0.6391190886497498 Batch_id=390 Train Accuracy=78.87: 100%|██████████| 391/391 [00:27<00:00, 14.00it/s]"
          ],
          "name": "stderr"
        },
        {
          "output_type": "stream",
          "text": [
            "Train set: Epoch : 195/200 Average loss: 0.0000, Train Accuracy: 78.87\n"
          ],
          "name": "stdout"
        },
        {
          "output_type": "stream",
          "text": [
            "\n",
            "  0%|          | 0/391 [00:00<?, ?it/s]"
          ],
          "name": "stderr"
        },
        {
          "output_type": "stream",
          "text": [
            "Test set: Epoch : 195/200 Average loss: 0.3897, Test Accuracy: 86.93\n",
            "EPOCH: 196\n"
          ],
          "name": "stdout"
        },
        {
          "output_type": "stream",
          "text": [
            "Loss=0.6154359579086304 Batch_id=390 Train Accuracy=78.88: 100%|██████████| 391/391 [00:27<00:00, 14.05it/s]"
          ],
          "name": "stderr"
        },
        {
          "output_type": "stream",
          "text": [
            "Train set: Epoch : 196/200 Average loss: 0.0000, Train Accuracy: 78.88\n"
          ],
          "name": "stdout"
        },
        {
          "output_type": "stream",
          "text": [
            "\n",
            "  0%|          | 0/391 [00:00<?, ?it/s]"
          ],
          "name": "stderr"
        },
        {
          "output_type": "stream",
          "text": [
            "Test set: Epoch : 196/200 Average loss: 0.3972, Test Accuracy: 86.44\n",
            "EPOCH: 197\n"
          ],
          "name": "stdout"
        },
        {
          "output_type": "stream",
          "text": [
            "Loss=0.6302676796913147 Batch_id=390 Train Accuracy=78.78: 100%|██████████| 391/391 [00:27<00:00, 13.97it/s]"
          ],
          "name": "stderr"
        },
        {
          "output_type": "stream",
          "text": [
            "Train set: Epoch : 197/200 Average loss: 0.0000, Train Accuracy: 78.78\n"
          ],
          "name": "stdout"
        },
        {
          "output_type": "stream",
          "text": [
            "\n",
            "  0%|          | 0/391 [00:00<?, ?it/s]"
          ],
          "name": "stderr"
        },
        {
          "output_type": "stream",
          "text": [
            "Test set: Epoch : 197/200 Average loss: 0.3916, Test Accuracy: 86.61\n",
            "EPOCH: 198\n"
          ],
          "name": "stdout"
        },
        {
          "output_type": "stream",
          "text": [
            "Loss=0.5131686329841614 Batch_id=390 Train Accuracy=78.89: 100%|██████████| 391/391 [00:27<00:00, 14.06it/s]"
          ],
          "name": "stderr"
        },
        {
          "output_type": "stream",
          "text": [
            "Train set: Epoch : 198/200 Average loss: 0.0000, Train Accuracy: 78.89\n"
          ],
          "name": "stdout"
        },
        {
          "output_type": "stream",
          "text": [
            "\n",
            "  0%|          | 0/391 [00:00<?, ?it/s]"
          ],
          "name": "stderr"
        },
        {
          "output_type": "stream",
          "text": [
            "Test set: Epoch : 198/200 Average loss: 0.3838, Test Accuracy: 87.03\n",
            "EPOCH: 199\n"
          ],
          "name": "stdout"
        },
        {
          "output_type": "stream",
          "text": [
            "Loss=0.7166591286659241 Batch_id=390 Train Accuracy=78.91: 100%|██████████| 391/391 [00:28<00:00, 13.95it/s]"
          ],
          "name": "stderr"
        },
        {
          "output_type": "stream",
          "text": [
            "Train set: Epoch : 199/200 Average loss: 0.0000, Train Accuracy: 78.91\n"
          ],
          "name": "stdout"
        },
        {
          "output_type": "stream",
          "text": [
            "\n"
          ],
          "name": "stderr"
        },
        {
          "output_type": "stream",
          "text": [
            "Test set: Epoch : 199/200 Average loss: 0.3819, Test Accuracy: 87.17\n"
          ],
          "name": "stdout"
        }
      ]
    },
    {
      "cell_type": "code",
      "metadata": {
        "id": "0aRX8l8EzgNe",
        "colab": {
          "base_uri": "https://localhost:8080/"
        },
        "outputId": "32f07bc6-04da-43d5-d27c-6c6d24a3c480"
      },
      "source": [
        "print(f'Max train accuracy:{max(train_stats.accuracy)} out of {len(train_stats.accuracy)} epochs')\n",
        "print(f'Max test accuracy :{max(test_stats.accuracy)} out of {len(test_stats.accuracy)} epochs')"
      ],
      "execution_count": 43,
      "outputs": [
        {
          "output_type": "stream",
          "text": [
            "Max train accuracy:79.08 out of 200 epochs\n",
            "Max test accuracy :87.17 out of 200 epochs\n"
          ],
          "name": "stdout"
        }
      ]
    },
    {
      "cell_type": "code",
      "metadata": {
        "id": "BaoTedYG0F2R",
        "colab": {
          "base_uri": "https://localhost:8080/"
        },
        "outputId": "b3904c90-26f4-4018-9552-d577be45dcd1"
      },
      "source": [
        "print(f'Train accuracy: {train_stats.accuracy}')\n",
        "print(f'Test accuracy : {test_stats.accuracy}')"
      ],
      "execution_count": 41,
      "outputs": [
        {
          "output_type": "stream",
          "text": [
            "Train accuracy: [28.85, 39.94, 44.8, 48.57, 50.73, 52.76, 54.12, 55.26, 56.71, 57.44, 58.6, 59.31, 60.38, 61.11, 61.53, 62.31, 62.93, 63.15, 63.52, 64.41, 64.76, 64.87, 65.33, 66.05, 65.88, 66.69, 66.93, 67.02, 67.64, 67.41, 68.14, 68.06, 68.37, 68.54, 68.87, 69.26, 69.17, 69.44, 69.81, 70.21, 70.35, 70.47, 70.5, 70.65, 71.09, 71.13, 70.96, 71.29, 71.37, 71.59, 71.8, 71.81, 71.86, 71.65, 72.5, 72.6, 72.61, 72.79, 72.66, 73.01, 72.84, 72.93, 73.62, 73.13, 73.32, 73.39, 73.42, 73.53, 73.74, 73.75, 73.76, 73.82, 74.01, 73.91, 74.13, 74.14, 74.15, 74.57, 74.6, 74.59, 74.89, 74.85, 74.62, 74.99, 74.9, 75.22, 75.22, 75.08, 75.24, 75.39, 75.51, 75.41, 75.17, 75.44, 75.33, 75.66, 75.59, 75.55, 75.57, 75.77, 75.68, 75.88, 75.79, 75.94, 75.79, 76.13, 75.95, 76.29, 76.17, 76.34, 75.82, 76.28, 76.45, 76.56, 76.46, 76.3, 76.64, 76.62, 76.86, 76.76, 76.68, 76.76, 76.67, 76.85, 76.99, 76.87, 76.93, 76.97, 77.05, 77.06, 76.87, 77.23, 77.1, 77.21, 77.16, 77.45, 77.17, 77.14, 77.49, 77.64, 77.31, 77.3, 77.29, 77.31, 77.55, 77.71, 77.77, 77.62, 77.8, 77.73, 77.8, 77.97, 77.7, 77.95, 77.82, 77.86, 78.13, 77.99, 77.96, 77.97, 78.07, 78.04, 78.08, 77.9, 78.25, 77.94, 77.93, 78.25, 78.22, 78.51, 78.23, 77.94, 78.5, 78.46, 78.43, 78.45, 78.19, 78.26, 78.69, 78.72, 78.48, 78.74, 78.36, 78.57, 78.4, 78.52, 78.99, 78.59, 78.89, 78.79, 79.08, 78.64, 78.79, 78.74, 78.47, 78.87, 78.88, 78.78, 78.89, 78.91]\n",
            "Test accuracy : [43.83, 49.75, 55.93, 58.83, 61.49, 63.48, 64.66, 65.21, 66.92, 69.58, 69.36, 69.3, 71.82, 72.34, 72.44, 72.62, 72.75, 74.64, 74.83, 75.11, 74.87, 75.92, 76.29, 76.52, 76.75, 76.7, 76.71, 77.51, 77.46, 77.99, 77.82, 78.05, 78.5, 78.14, 78.45, 78.86, 78.5, 79.7, 79.6, 79.67, 79.59, 80.95, 80.5, 80.57, 80.26, 80.92, 80.91, 81.63, 81.73, 80.87, 81.11, 80.55, 81.71, 81.48, 81.65, 82.31, 82.02, 82.64, 82.07, 83.06, 81.14, 82.41, 82.61, 82.99, 82.76, 82.47, 83.68, 82.99, 82.47, 83.31, 82.62, 83.31, 83.12, 83.36, 83.41, 83.79, 83.67, 83.35, 83.64, 83.56, 83.87, 83.72, 83.73, 84.03, 84.13, 83.82, 83.78, 84.09, 83.34, 83.86, 84.19, 84.09, 83.9, 84.41, 84.3, 84.2, 84.89, 84.64, 84.39, 84.79, 84.68, 84.3, 84.84, 83.94, 85.08, 84.09, 85.08, 84.63, 84.64, 85.04, 84.82, 85.17, 84.49, 85.67, 85.44, 84.95, 85.04, 84.88, 85.14, 85.19, 84.97, 84.95, 85.0, 85.31, 85.21, 85.13, 85.14, 85.34, 85.4, 85.58, 85.13, 85.46, 85.49, 85.74, 85.96, 85.28, 85.44, 85.53, 85.65, 85.52, 85.3, 85.86, 85.84, 85.36, 85.95, 85.56, 85.62, 85.53, 85.61, 85.41, 85.57, 86.21, 86.02, 86.24, 85.69, 85.66, 86.27, 86.05, 86.08, 85.6, 86.26, 85.61, 86.02, 85.89, 86.33, 86.18, 86.32, 86.47, 85.95, 86.47, 86.28, 86.35, 86.51, 86.3, 86.09, 85.75, 86.55, 86.42, 86.48, 86.2, 86.49, 86.55, 85.7, 86.66, 86.99, 86.31, 86.68, 86.63, 86.71, 86.51, 86.37, 86.71, 86.63, 86.77, 86.65, 86.93, 86.44, 86.61, 87.03, 87.17]\n"
          ],
          "name": "stdout"
        }
      ]
    },
    {
      "cell_type": "code",
      "metadata": {
        "colab": {
          "base_uri": "https://localhost:8080/",
          "height": 1000
        },
        "id": "fbT9RRk7Iu1k",
        "outputId": "689c67cc-4b0f-4c84-faa9-06ac11a0f810"
      },
      "source": [
        "figure = plt.figure(figsize=(12,8))\n",
        "\n",
        "plt.title(f\"Train Losses\")\n",
        "plt.plot(train_stats.losses)\n",
        "\n",
        "figure = plt.figure(figsize=(12,8))\n",
        "\n",
        "plt.title(f\"Train Accuracy\")\n",
        "plt.plot(train_stats.accuracy)\n",
        "\n",
        "figure = plt.figure(figsize=(12,8))\n",
        "\n",
        "plt.title(f\"Test Losses\")\n",
        "plt.plot(test_stats.losses)\n",
        "\n",
        "figure = plt.figure(figsize=(12,8))\n",
        "\n",
        "plt.title(f\"Test Accuracy\")\n",
        "plt.plot(test_stats.accuracy)"
      ],
      "execution_count": 44,
      "outputs": [
        {
          "output_type": "execute_result",
          "data": {
            "text/plain": [
              "[<matplotlib.lines.Line2D at 0x7fa25945ac10>]"
            ]
          },
          "metadata": {
            "tags": []
          },
          "execution_count": 44
        },
        {
          "output_type": "display_data",
          "data": {
            "image/png": "[encoded data removed]",
            "text/plain": [
              "<Figure size 864x576 with 1 Axes>"
            ]
          },
          "metadata": {
            "tags": [],
            "needs_background": "light"
          }
        },
        {
          "output_type": "display_data",
          "data": {
            "image/png": "[encoded data removed]",
            "text/plain": [
              "<Figure size 864x576 with 1 Axes>"
            ]
          },
          "metadata": {
            "tags": [],
            "needs_background": "light"
          }
        },
        {
          "output_type": "display_data",
          "data": {
            "image/png": "[encoded data removed]",
            "text/plain": [
              "<Figure size 864x576 with 1 Axes>"
            ]
          },
          "metadata": {
            "tags": [],
            "needs_background": "light"
          }
        },
        {
          "output_type": "display_data",
          "data": {
            "image/png": "[encoded data removed]",
            "text/plain": [
              "<Figure size 864x576 with 1 Axes>"
            ]
          },
          "metadata": {
            "tags": [],
            "needs_background": "light"
          }
        }
      ]
    },
    {
      "cell_type": "code",
      "metadata": {
        "id": "DxUEuyGv-MSA"
      },
      "source": [
        "def plot_misclassified(test_stats, num_images, title, class_names, fig_size):\n",
        "    \n",
        "    figure=plt.figure(figsize=fig_size)\n",
        "    print(f'** Plotting misclassified test images from last epoch for {title} **')\n",
        "    print('\\n')\n",
        "    class_names_dict = class_names\n",
        "    if len(test_stats.img) > num_images: \n",
        "        for i in range(num_images):\n",
        "            plt.subplot(5,5,i+1)\n",
        "            plt.axis(False)      \n",
        "            #unnorm_img = unnorm_mispred.unnorm_albumented(test_stats.img[i].cpu())\n",
        "            unnorm_img = unnormalize(test_stats.img[i].cpu())\n",
        "            plt.imshow(unnorm_img, interpolation='none')\n",
        "            prediction = class_names_dict.get(test_stats.pred[i])\n",
        "            actual     = class_names_dict.get(test_stats.label[i])\n",
        "            s=\"pred=\"+str(prediction)+\" act=\"+str(actual)\n",
        "            plt.text(2,-1,s)\n",
        "    else:\n",
        "        print(f'Unable to plot - Less than {num_images} images, only have {len(test_stats.img)} images')"
      ],
      "execution_count": 45,
      "outputs": []
    },
    {
      "cell_type": "code",
      "metadata": {
        "id": "fho7wEoBCmgd",
        "colab": {
          "base_uri": "https://localhost:8080/",
          "height": 718
        },
        "outputId": "495b9d07-171b-4dd1-8aa9-934f51363a7a"
      },
      "source": [
        "class_names_dict = {0:'plane', 1:'automob', 2:'bird', 3:'cat',4:'deer', 5:'dog', 6:'frog', 7:'horse', 8:'ship', 9:'truck'}\n",
        "num_images       = 25\n",
        "fig_size         = (10, 10)\n",
        "title            = 'CIFAR-10'\n",
        "misclass_stats   = test_stats\n",
        "plot_misclassified(misclass_stats, num_images, title, class_names_dict, fig_size)"
      ],
      "execution_count": 46,
      "outputs": [
        {
          "output_type": "stream",
          "text": [
            "Clipping input data to the valid range for imshow with RGB data ([0..1] for floats or [0..255] for integers).\n",
            "Clipping input data to the valid range for imshow with RGB data ([0..1] for floats or [0..255] for integers).\n"
          ],
          "name": "stderr"
        },
        {
          "output_type": "stream",
          "text": [
            "** Plotting misclassified test images from last epoch for CIFAR-10 **\n",
            "\n",
            "\n"
          ],
          "name": "stdout"
        },
        {
          "output_type": "stream",
          "text": [
            "Clipping input data to the valid range for imshow with RGB data ([0..1] for floats or [0..255] for integers).\n",
            "Clipping input data to the valid range for imshow with RGB data ([0..1] for floats or [0..255] for integers).\n",
            "Clipping input data to the valid range for imshow with RGB data ([0..1] for floats or [0..255] for integers).\n"
          ],
          "name": "stderr"
        },
        {
          "output_type": "display_data",
          "data": {
            "image/png": "[encoded data removed]",
            "text/plain": [
              "<Figure size 720x720 with 25 Axes>"
            ]
          },
          "metadata": {
            "tags": [],
            "needs_background": "light"
          }
        }
      ]
    },
    {
      "cell_type": "code",
      "metadata": {
        "id": "Ge1CJ2pPWBi6"
      },
      "source": [
        ""
      ],
      "execution_count": null,
      "outputs": []
    }
  ]
}
