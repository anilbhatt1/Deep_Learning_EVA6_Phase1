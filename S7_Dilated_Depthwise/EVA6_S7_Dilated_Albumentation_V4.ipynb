{
  "nbformat": 4,
  "nbformat_minor": 0,
  "metadata": {
    "kernelspec": {
      "name": "python3",
      "display_name": "Python 3"
    },
    "language_info": {
      "codemirror_mode": {
        "name": "ipython",
        "version": 3
      },
      "file_extension": ".py",
      "mimetype": "text/x-python",
      "name": "python",
      "nbconvert_exporter": "python",
      "pygments_lexer": "ipython3",
      "version": "3.6.6"
    },
    "colab": {
      "name": "EVA6_S7_Dilated_Albumentation_V4.ipynb",
      "provenance": [],
      "collapsed_sections": [],
      "include_colab_link": true
    },
    "accelerator": "GPU",
    "widgets": {
      "application/vnd.jupyter.widget-state+json": {
        "77d7215578bc45689380f47331544f07": {
          "model_module": "@jupyter-widgets/controls",
          "model_name": "HBoxModel",
          "state": {
            "_view_name": "HBoxView",
            "_dom_classes": [],
            "_model_name": "HBoxModel",
            "_view_module": "@jupyter-widgets/controls",
            "_model_module_version": "1.5.0",
            "_view_count": null,
            "_view_module_version": "1.5.0",
            "box_style": "",
            "layout": "IPY_MODEL_ce35ac330ec74b48aada29f48ffdaeab",
            "_model_module": "@jupyter-widgets/controls",
            "children": [
              "IPY_MODEL_11466d1c3d334159aaacf11608628f64",
              "IPY_MODEL_479334cece5448e28d85bb5f96ddb78c"
            ]
          }
        },
        "ce35ac330ec74b48aada29f48ffdaeab": {
          "model_module": "@jupyter-widgets/base",
          "model_name": "LayoutModel",
          "state": {
            "_view_name": "LayoutView",
            "grid_template_rows": null,
            "right": null,
            "justify_content": null,
            "_view_module": "@jupyter-widgets/base",
            "overflow": null,
            "_model_module_version": "1.2.0",
            "_view_count": null,
            "flex_flow": null,
            "width": null,
            "min_width": null,
            "border": null,
            "align_items": null,
            "bottom": null,
            "_model_module": "@jupyter-widgets/base",
            "top": null,
            "grid_column": null,
            "overflow_y": null,
            "overflow_x": null,
            "grid_auto_flow": null,
            "grid_area": null,
            "grid_template_columns": null,
            "flex": null,
            "_model_name": "LayoutModel",
            "justify_items": null,
            "grid_row": null,
            "max_height": null,
            "align_content": null,
            "visibility": null,
            "align_self": null,
            "height": null,
            "min_height": null,
            "padding": null,
            "grid_auto_rows": null,
            "grid_gap": null,
            "max_width": null,
            "order": null,
            "_view_module_version": "1.2.0",
            "grid_template_areas": null,
            "object_position": null,
            "object_fit": null,
            "grid_auto_columns": null,
            "margin": null,
            "display": null,
            "left": null
          }
        },
        "11466d1c3d334159aaacf11608628f64": {
          "model_module": "@jupyter-widgets/controls",
          "model_name": "FloatProgressModel",
          "state": {
            "_view_name": "ProgressView",
            "style": "IPY_MODEL_a305eedabc2d4452a9bb5f3c84e10646",
            "_dom_classes": [],
            "description": "",
            "_model_name": "FloatProgressModel",
            "bar_style": "success",
            "max": 170498071,
            "_view_module": "@jupyter-widgets/controls",
            "_model_module_version": "1.5.0",
            "value": 170498071,
            "_view_count": null,
            "_view_module_version": "1.5.0",
            "orientation": "horizontal",
            "min": 0,
            "description_tooltip": null,
            "_model_module": "@jupyter-widgets/controls",
            "layout": "IPY_MODEL_5de6d96cc7cd4ee6a50535bc85d980e3"
          }
        },
        "479334cece5448e28d85bb5f96ddb78c": {
          "model_module": "@jupyter-widgets/controls",
          "model_name": "HTMLModel",
          "state": {
            "_view_name": "HTMLView",
            "style": "IPY_MODEL_46681471d64f4162aa7f703167e4735f",
            "_dom_classes": [],
            "description": "",
            "_model_name": "HTMLModel",
            "placeholder": "​",
            "_view_module": "@jupyter-widgets/controls",
            "_model_module_version": "1.5.0",
            "value": " 170499072/? [00:47&lt;00:00, 3571147.82it/s]",
            "_view_count": null,
            "_view_module_version": "1.5.0",
            "description_tooltip": null,
            "_model_module": "@jupyter-widgets/controls",
            "layout": "IPY_MODEL_39b823bf1af84832a12696361d9dc274"
          }
        },
        "a305eedabc2d4452a9bb5f3c84e10646": {
          "model_module": "@jupyter-widgets/controls",
          "model_name": "ProgressStyleModel",
          "state": {
            "_view_name": "StyleView",
            "_model_name": "ProgressStyleModel",
            "description_width": "initial",
            "_view_module": "@jupyter-widgets/base",
            "_model_module_version": "1.5.0",
            "_view_count": null,
            "_view_module_version": "1.2.0",
            "bar_color": null,
            "_model_module": "@jupyter-widgets/controls"
          }
        },
        "5de6d96cc7cd4ee6a50535bc85d980e3": {
          "model_module": "@jupyter-widgets/base",
          "model_name": "LayoutModel",
          "state": {
            "_view_name": "LayoutView",
            "grid_template_rows": null,
            "right": null,
            "justify_content": null,
            "_view_module": "@jupyter-widgets/base",
            "overflow": null,
            "_model_module_version": "1.2.0",
            "_view_count": null,
            "flex_flow": null,
            "width": null,
            "min_width": null,
            "border": null,
            "align_items": null,
            "bottom": null,
            "_model_module": "@jupyter-widgets/base",
            "top": null,
            "grid_column": null,
            "overflow_y": null,
            "overflow_x": null,
            "grid_auto_flow": null,
            "grid_area": null,
            "grid_template_columns": null,
            "flex": null,
            "_model_name": "LayoutModel",
            "justify_items": null,
            "grid_row": null,
            "max_height": null,
            "align_content": null,
            "visibility": null,
            "align_self": null,
            "height": null,
            "min_height": null,
            "padding": null,
            "grid_auto_rows": null,
            "grid_gap": null,
            "max_width": null,
            "order": null,
            "_view_module_version": "1.2.0",
            "grid_template_areas": null,
            "object_position": null,
            "object_fit": null,
            "grid_auto_columns": null,
            "margin": null,
            "display": null,
            "left": null
          }
        },
        "46681471d64f4162aa7f703167e4735f": {
          "model_module": "@jupyter-widgets/controls",
          "model_name": "DescriptionStyleModel",
          "state": {
            "_view_name": "StyleView",
            "_model_name": "DescriptionStyleModel",
            "description_width": "",
            "_view_module": "@jupyter-widgets/base",
            "_model_module_version": "1.5.0",
            "_view_count": null,
            "_view_module_version": "1.2.0",
            "_model_module": "@jupyter-widgets/controls"
          }
        },
        "39b823bf1af84832a12696361d9dc274": {
          "model_module": "@jupyter-widgets/base",
          "model_name": "LayoutModel",
          "state": {
            "_view_name": "LayoutView",
            "grid_template_rows": null,
            "right": null,
            "justify_content": null,
            "_view_module": "@jupyter-widgets/base",
            "overflow": null,
            "_model_module_version": "1.2.0",
            "_view_count": null,
            "flex_flow": null,
            "width": null,
            "min_width": null,
            "border": null,
            "align_items": null,
            "bottom": null,
            "_model_module": "@jupyter-widgets/base",
            "top": null,
            "grid_column": null,
            "overflow_y": null,
            "overflow_x": null,
            "grid_auto_flow": null,
            "grid_area": null,
            "grid_template_columns": null,
            "flex": null,
            "_model_name": "LayoutModel",
            "justify_items": null,
            "grid_row": null,
            "max_height": null,
            "align_content": null,
            "visibility": null,
            "align_self": null,
            "height": null,
            "min_height": null,
            "padding": null,
            "grid_auto_rows": null,
            "grid_gap": null,
            "max_width": null,
            "order": null,
            "_view_module_version": "1.2.0",
            "grid_template_areas": null,
            "object_position": null,
            "object_fit": null,
            "grid_auto_columns": null,
            "margin": null,
            "display": null,
            "left": null
          }
        },
        "6db20cec6739457d9b38907fb1fc7bcf": {
          "model_module": "@jupyter-widgets/controls",
          "model_name": "HBoxModel",
          "state": {
            "_view_name": "HBoxView",
            "_dom_classes": [],
            "_model_name": "HBoxModel",
            "_view_module": "@jupyter-widgets/controls",
            "_model_module_version": "1.5.0",
            "_view_count": null,
            "_view_module_version": "1.5.0",
            "box_style": "",
            "layout": "IPY_MODEL_86453f570eaa434681e197b98f61f12f",
            "_model_module": "@jupyter-widgets/controls",
            "children": [
              "IPY_MODEL_1ba60d6322d644e692068bfc04fe9026",
              "IPY_MODEL_6625802c7b744b66a1408e9e075417ed"
            ]
          }
        },
        "86453f570eaa434681e197b98f61f12f": {
          "model_module": "@jupyter-widgets/base",
          "model_name": "LayoutModel",
          "state": {
            "_view_name": "LayoutView",
            "grid_template_rows": null,
            "right": null,
            "justify_content": null,
            "_view_module": "@jupyter-widgets/base",
            "overflow": null,
            "_model_module_version": "1.2.0",
            "_view_count": null,
            "flex_flow": null,
            "width": null,
            "min_width": null,
            "border": null,
            "align_items": null,
            "bottom": null,
            "_model_module": "@jupyter-widgets/base",
            "top": null,
            "grid_column": null,
            "overflow_y": null,
            "overflow_x": null,
            "grid_auto_flow": null,
            "grid_area": null,
            "grid_template_columns": null,
            "flex": null,
            "_model_name": "LayoutModel",
            "justify_items": null,
            "grid_row": null,
            "max_height": null,
            "align_content": null,
            "visibility": null,
            "align_self": null,
            "height": null,
            "min_height": null,
            "padding": null,
            "grid_auto_rows": null,
            "grid_gap": null,
            "max_width": null,
            "order": null,
            "_view_module_version": "1.2.0",
            "grid_template_areas": null,
            "object_position": null,
            "object_fit": null,
            "grid_auto_columns": null,
            "margin": null,
            "display": null,
            "left": null
          }
        },
        "1ba60d6322d644e692068bfc04fe9026": {
          "model_module": "@jupyter-widgets/controls",
          "model_name": "FloatProgressModel",
          "state": {
            "_view_name": "ProgressView",
            "style": "IPY_MODEL_10dc73203e97414ca5528fc050849b6b",
            "_dom_classes": [],
            "description": "",
            "_model_name": "FloatProgressModel",
            "bar_style": "success",
            "max": 170498071,
            "_view_module": "@jupyter-widgets/controls",
            "_model_module_version": "1.5.0",
            "value": 170498071,
            "_view_count": null,
            "_view_module_version": "1.5.0",
            "orientation": "horizontal",
            "min": 0,
            "description_tooltip": null,
            "_model_module": "@jupyter-widgets/controls",
            "layout": "IPY_MODEL_935542f83cf547e8bb7956ef70ed64ea"
          }
        },
        "6625802c7b744b66a1408e9e075417ed": {
          "model_module": "@jupyter-widgets/controls",
          "model_name": "HTMLModel",
          "state": {
            "_view_name": "HTMLView",
            "style": "IPY_MODEL_b4a8c1326c10486ba4828a235b443b17",
            "_dom_classes": [],
            "description": "",
            "_model_name": "HTMLModel",
            "placeholder": "​",
            "_view_module": "@jupyter-widgets/controls",
            "_model_module_version": "1.5.0",
            "value": " 170499072/? [00:25&lt;00:00, 6655439.39it/s]",
            "_view_count": null,
            "_view_module_version": "1.5.0",
            "description_tooltip": null,
            "_model_module": "@jupyter-widgets/controls",
            "layout": "IPY_MODEL_4ee0a74f464542d38916226255686059"
          }
        },
        "10dc73203e97414ca5528fc050849b6b": {
          "model_module": "@jupyter-widgets/controls",
          "model_name": "ProgressStyleModel",
          "state": {
            "_view_name": "StyleView",
            "_model_name": "ProgressStyleModel",
            "description_width": "initial",
            "_view_module": "@jupyter-widgets/base",
            "_model_module_version": "1.5.0",
            "_view_count": null,
            "_view_module_version": "1.2.0",
            "bar_color": null,
            "_model_module": "@jupyter-widgets/controls"
          }
        },
        "935542f83cf547e8bb7956ef70ed64ea": {
          "model_module": "@jupyter-widgets/base",
          "model_name": "LayoutModel",
          "state": {
            "_view_name": "LayoutView",
            "grid_template_rows": null,
            "right": null,
            "justify_content": null,
            "_view_module": "@jupyter-widgets/base",
            "overflow": null,
            "_model_module_version": "1.2.0",
            "_view_count": null,
            "flex_flow": null,
            "width": null,
            "min_width": null,
            "border": null,
            "align_items": null,
            "bottom": null,
            "_model_module": "@jupyter-widgets/base",
            "top": null,
            "grid_column": null,
            "overflow_y": null,
            "overflow_x": null,
            "grid_auto_flow": null,
            "grid_area": null,
            "grid_template_columns": null,
            "flex": null,
            "_model_name": "LayoutModel",
            "justify_items": null,
            "grid_row": null,
            "max_height": null,
            "align_content": null,
            "visibility": null,
            "align_self": null,
            "height": null,
            "min_height": null,
            "padding": null,
            "grid_auto_rows": null,
            "grid_gap": null,
            "max_width": null,
            "order": null,
            "_view_module_version": "1.2.0",
            "grid_template_areas": null,
            "object_position": null,
            "object_fit": null,
            "grid_auto_columns": null,
            "margin": null,
            "display": null,
            "left": null
          }
        },
        "b4a8c1326c10486ba4828a235b443b17": {
          "model_module": "@jupyter-widgets/controls",
          "model_name": "DescriptionStyleModel",
          "state": {
            "_view_name": "StyleView",
            "_model_name": "DescriptionStyleModel",
            "description_width": "",
            "_view_module": "@jupyter-widgets/base",
            "_model_module_version": "1.5.0",
            "_view_count": null,
            "_view_module_version": "1.2.0",
            "_model_module": "@jupyter-widgets/controls"
          }
        },
        "4ee0a74f464542d38916226255686059": {
          "model_module": "@jupyter-widgets/base",
          "model_name": "LayoutModel",
          "state": {
            "_view_name": "LayoutView",
            "grid_template_rows": null,
            "right": null,
            "justify_content": null,
            "_view_module": "@jupyter-widgets/base",
            "overflow": null,
            "_model_module_version": "1.2.0",
            "_view_count": null,
            "flex_flow": null,
            "width": null,
            "min_width": null,
            "border": null,
            "align_items": null,
            "bottom": null,
            "_model_module": "@jupyter-widgets/base",
            "top": null,
            "grid_column": null,
            "overflow_y": null,
            "overflow_x": null,
            "grid_auto_flow": null,
            "grid_area": null,
            "grid_template_columns": null,
            "flex": null,
            "_model_name": "LayoutModel",
            "justify_items": null,
            "grid_row": null,
            "max_height": null,
            "align_content": null,
            "visibility": null,
            "align_self": null,
            "height": null,
            "min_height": null,
            "padding": null,
            "grid_auto_rows": null,
            "grid_gap": null,
            "max_width": null,
            "order": null,
            "_view_module_version": "1.2.0",
            "grid_template_areas": null,
            "object_position": null,
            "object_fit": null,
            "grid_auto_columns": null,
            "margin": null,
            "display": null,
            "left": null
          }
        }
      }
    }
  },
  "cells": [
    {
      "cell_type": "markdown",
      "metadata": {
        "id": "view-in-github",
        "colab_type": "text"
      },
      "source": [
        "<a href=\"https://colab.research.google.com/github/anilbhatt1/Deep_Learning_EVA6_Phase1/blob/main/EVA6_S7_Dilated_Albumentation_V4.ipynb\" target=\"_parent\"><img src=\"https://colab.research.google.com/assets/colab-badge.svg\" alt=\"Open In Colab\"/></a>"
      ]
    },
    {
      "cell_type": "code",
      "metadata": {
        "id": "3B4s_h4sRhSm",
        "colab": {
          "base_uri": "https://localhost:8080/"
        },
        "outputId": "af5d4713-f819-4cfc-b443-e74a8af5ea57"
      },
      "source": [
        "!nvidia-smi"
      ],
      "execution_count": 1,
      "outputs": [
        {
          "output_type": "stream",
          "text": [
            "Thu Jun 24 14:08:59 2021       \n",
            "+-----------------------------------------------------------------------------+\n",
            "| NVIDIA-SMI 465.27       Driver Version: 460.32.03    CUDA Version: 11.2     |\n",
            "|-------------------------------+----------------------+----------------------+\n",
            "| GPU  Name        Persistence-M| Bus-Id        Disp.A | Volatile Uncorr. ECC |\n",
            "| Fan  Temp  Perf  Pwr:Usage/Cap|         Memory-Usage | GPU-Util  Compute M. |\n",
            "|                               |                      |               MIG M. |\n",
            "|===============================+======================+======================|\n",
            "|   0  Tesla T4            Off  | 00000000:00:04.0 Off |                    0 |\n",
            "| N/A   59C    P8    10W /  70W |      0MiB / 15109MiB |      0%      Default |\n",
            "|                               |                      |                  N/A |\n",
            "+-------------------------------+----------------------+----------------------+\n",
            "                                                                               \n",
            "+-----------------------------------------------------------------------------+\n",
            "| Processes:                                                                  |\n",
            "|  GPU   GI   CI        PID   Type   Process name                  GPU Memory |\n",
            "|        ID   ID                                                   Usage      |\n",
            "|=============================================================================|\n",
            "|  No running processes found                                                 |\n",
            "+-----------------------------------------------------------------------------+\n"
          ],
          "name": "stdout"
        }
      ]
    },
    {
      "cell_type": "code",
      "metadata": {
        "id": "WmGkrbzbRmG5"
      },
      "source": [
        "# Mounting the drive and copying the code from github to drive\n",
        "'''\n",
        "from google.colab import drive \n",
        "drive.mount('/content/gdrive')\n",
        "!git clone https://github.com/anilbhatt1/Deep_Learning_EVA6_Phase1"
      ],
      "execution_count": null,
      "outputs": []
    },
    {
      "cell_type": "code",
      "metadata": {
        "id": "rw5gbHylRrCu"
      },
      "source": [
        "%cd Deep_Learning_EVA6_Phase1/src\n",
        "! ls"
      ],
      "execution_count": null,
      "outputs": []
    },
    {
      "cell_type": "code",
      "metadata": {
        "id": "Wux2SLxpRuSk",
        "colab": {
          "base_uri": "https://localhost:8080/"
        },
        "outputId": "bbbab2e8-00f3-484a-8590-d449a593b4f8"
      },
      "source": [
        "!pip install albumentations==1.0.0"
      ],
      "execution_count": 2,
      "outputs": [
        {
          "output_type": "stream",
          "text": [
            "Collecting albumentations==1.0.0\n",
            "\u001b[?25l  Downloading https://files.pythonhosted.org/packages/b0/be/3db3cd8af771988748f69eace42047d5edebf01eaa7e1293f3b3f75f989e/albumentations-1.0.0-py3-none-any.whl (98kB)\n",
            "\r\u001b[K     |███▍                            | 10kB 15.0MB/s eta 0:00:01\r\u001b[K     |██████▊                         | 20kB 18.3MB/s eta 0:00:01\r\u001b[K     |██████████                      | 30kB 15.3MB/s eta 0:00:01\r\u001b[K     |█████████████▍                  | 40kB 13.8MB/s eta 0:00:01\r\u001b[K     |████████████████▊               | 51kB 8.0MB/s eta 0:00:01\r\u001b[K     |████████████████████            | 61kB 9.2MB/s eta 0:00:01\r\u001b[K     |███████████████████████▍        | 71kB 8.8MB/s eta 0:00:01\r\u001b[K     |██████████████████████████▊     | 81kB 9.8MB/s eta 0:00:01\r\u001b[K     |██████████████████████████████  | 92kB 9.0MB/s eta 0:00:01\r\u001b[K     |████████████████████████████████| 102kB 5.9MB/s \n",
            "\u001b[?25hRequirement already satisfied: scikit-image>=0.16.1 in /usr/local/lib/python3.7/dist-packages (from albumentations==1.0.0) (0.16.2)\n",
            "Requirement already satisfied: scipy in /usr/local/lib/python3.7/dist-packages (from albumentations==1.0.0) (1.4.1)\n",
            "Collecting opencv-python-headless>=4.1.1\n",
            "\u001b[?25l  Downloading https://files.pythonhosted.org/packages/c3/35/bfc76533f2274cd3da4e2cf255cd13ab9d7f6fc8990c06911e7f8fcc2130/opencv_python_headless-4.5.2.54-cp37-cp37m-manylinux2014_x86_64.whl (38.2MB)\n",
            "\u001b[K     |████████████████████████████████| 38.2MB 77kB/s \n",
            "\u001b[?25hRequirement already satisfied: PyYAML in /usr/local/lib/python3.7/dist-packages (from albumentations==1.0.0) (3.13)\n",
            "Requirement already satisfied: numpy>=1.11.1 in /usr/local/lib/python3.7/dist-packages (from albumentations==1.0.0) (1.19.5)\n",
            "Requirement already satisfied: pillow>=4.3.0 in /usr/local/lib/python3.7/dist-packages (from scikit-image>=0.16.1->albumentations==1.0.0) (7.1.2)\n",
            "Requirement already satisfied: networkx>=2.0 in /usr/local/lib/python3.7/dist-packages (from scikit-image>=0.16.1->albumentations==1.0.0) (2.5.1)\n",
            "Requirement already satisfied: imageio>=2.3.0 in /usr/local/lib/python3.7/dist-packages (from scikit-image>=0.16.1->albumentations==1.0.0) (2.4.1)\n",
            "Requirement already satisfied: PyWavelets>=0.4.0 in /usr/local/lib/python3.7/dist-packages (from scikit-image>=0.16.1->albumentations==1.0.0) (1.1.1)\n",
            "Requirement already satisfied: matplotlib!=3.0.0,>=2.0.0 in /usr/local/lib/python3.7/dist-packages (from scikit-image>=0.16.1->albumentations==1.0.0) (3.2.2)\n",
            "Requirement already satisfied: decorator<5,>=4.3 in /usr/local/lib/python3.7/dist-packages (from networkx>=2.0->scikit-image>=0.16.1->albumentations==1.0.0) (4.4.2)\n",
            "Requirement already satisfied: pyparsing!=2.0.4,!=2.1.2,!=2.1.6,>=2.0.1 in /usr/local/lib/python3.7/dist-packages (from matplotlib!=3.0.0,>=2.0.0->scikit-image>=0.16.1->albumentations==1.0.0) (2.4.7)\n",
            "Requirement already satisfied: python-dateutil>=2.1 in /usr/local/lib/python3.7/dist-packages (from matplotlib!=3.0.0,>=2.0.0->scikit-image>=0.16.1->albumentations==1.0.0) (2.8.1)\n",
            "Requirement already satisfied: kiwisolver>=1.0.1 in /usr/local/lib/python3.7/dist-packages (from matplotlib!=3.0.0,>=2.0.0->scikit-image>=0.16.1->albumentations==1.0.0) (1.3.1)\n",
            "Requirement already satisfied: cycler>=0.10 in /usr/local/lib/python3.7/dist-packages (from matplotlib!=3.0.0,>=2.0.0->scikit-image>=0.16.1->albumentations==1.0.0) (0.10.0)\n",
            "Requirement already satisfied: six>=1.5 in /usr/local/lib/python3.7/dist-packages (from python-dateutil>=2.1->matplotlib!=3.0.0,>=2.0.0->scikit-image>=0.16.1->albumentations==1.0.0) (1.15.0)\n",
            "Installing collected packages: opencv-python-headless, albumentations\n",
            "  Found existing installation: albumentations 0.1.12\n",
            "    Uninstalling albumentations-0.1.12:\n",
            "      Successfully uninstalled albumentations-0.1.12\n",
            "Successfully installed albumentations-1.0.0 opencv-python-headless-4.5.2.54\n"
          ],
          "name": "stdout"
        }
      ]
    },
    {
      "cell_type": "code",
      "metadata": {
        "id": "GQJuMwdnRula",
        "colab": {
          "base_uri": "https://localhost:8080/"
        },
        "outputId": "80ee2425-e30c-46b9-8b88-3e2c5cbfd671"
      },
      "source": [
        "import torch\n",
        "import torch.nn as nn\n",
        "import torch.nn.functional as F\n",
        "import torch.optim as optim\n",
        "from torchvision import datasets, transforms\n",
        "import numpy as np\n",
        "from tqdm import tqdm\n",
        "import matplotlib.pyplot as plt\n",
        "import albumentations as A\n",
        "cuda = torch.cuda.is_available()\n",
        "print(f'Albumentations Version : {A.__version__}, Pytorch Version : {torch.__version__}, cuda:{cuda}')"
      ],
      "execution_count": 3,
      "outputs": [
        {
          "output_type": "stream",
          "text": [
            "Albumentations Version : 1.0.0, Pytorch Version : 1.9.0+cu102, cuda:True\n"
          ],
          "name": "stdout"
        }
      ]
    },
    {
      "cell_type": "code",
      "metadata": {
        "colab": {
          "base_uri": "https://localhost:8080/",
          "height": 133,
          "referenced_widgets": [
            "77d7215578bc45689380f47331544f07",
            "ce35ac330ec74b48aada29f48ffdaeab",
            "11466d1c3d334159aaacf11608628f64",
            "479334cece5448e28d85bb5f96ddb78c",
            "a305eedabc2d4452a9bb5f3c84e10646",
            "5de6d96cc7cd4ee6a50535bc85d980e3",
            "46681471d64f4162aa7f703167e4735f",
            "39b823bf1af84832a12696361d9dc274"
          ]
        },
        "id": "SplN514WqxlW",
        "outputId": "50c71341-1ce7-470c-bd65-43966e8c8c6f"
      },
      "source": [
        "train = datasets.CIFAR10('./data', train=True, download=True)\n",
        "\n",
        "n  = 0\n",
        "s  = np.zeros(3)\n",
        "sq = np.zeros(3)\n",
        "i  = 0\n",
        "batchsize = 128\n",
        "for data, l in train:\n",
        "  x   = np.array(data)/255                             # Image Normalization \n",
        "  s  += x.sum(axis=(0,1))                              # Summing up x & y values across 3 channels - CIFAR 10 size is 32,32,3. Useful for mean \n",
        "  sq += np.sum(np.square(x), axis=(0,1))               # Summing up x^2 and y^2 values across 3 channels. Useful for std dev calculation\n",
        "  n  += x.shape[0]*x.shape[1]                          # Summing up no: of pixels.Each channel has 32x32. Final pixels per channel = # images * 32 *32\n",
        "  i  += 1\n",
        "\n",
        "batches = int(i/batchsize)\n",
        "mu = s/n                               # mean = sum of pixel values/ no: of pixel values. Will return 3 element array as CIFAR10 has 3 channels\n",
        "std = np.sqrt((sq/n - np.square(mu)))  # std dev = sqrt[sigma{x(i) - mean}^2/N]. Will return 3 element array as CIFAR10 has 3 channels\n",
        "print(f'No: Of Train Images: {i}, Batch_size : {batchsize}, No: Of Batches:{batches}')\n",
        "print(f'Channels Mean:{mu}, Channels Stdev:{std}, Total No: of pixels:{n}')"
      ],
      "execution_count": null,
      "outputs": [
        {
          "output_type": "stream",
          "text": [
            "Downloading https://www.cs.toronto.edu/~kriz/cifar-10-python.tar.gz to ./data/cifar-10-python.tar.gz\n"
          ],
          "name": "stdout"
        },
        {
          "output_type": "display_data",
          "data": {
            "application/vnd.jupyter.widget-view+json": {
              "model_id": "77d7215578bc45689380f47331544f07",
              "version_minor": 0,
              "version_major": 2
            },
            "text/plain": [
              "HBox(children=(FloatProgress(value=0.0, max=170498071.0), HTML(value='')))"
            ]
          },
          "metadata": {
            "tags": []
          }
        },
        {
          "output_type": "stream",
          "text": [
            "\n",
            "Extracting ./data/cifar-10-python.tar.gz to ./data\n",
            "No: Of Train Images: 50000, Batch_size : 128, No: Of Batches:390\n",
            "Channels Mean:[0.49139968 0.48215841 0.44653091], Channels Stdev:[0.24703223 0.24348513 0.26158784], Total No: of pixels:51200000\n"
          ],
          "name": "stdout"
        }
      ]
    },
    {
      "cell_type": "code",
      "metadata": {
        "id": "gHr_ld0zmQno"
      },
      "source": [
        "class Albumentations_transform:\n",
        "  \"\"\"\n",
        "  Class to create test and train transforms using Albumentations. ToTensor() will be appended at the end of transforms list\n",
        "  \"\"\"\n",
        "  def __init__(self, transforms_list=[]):\n",
        "      self.transforms = A.Compose(transforms_list)\n",
        "\n",
        "  \"\"\"\n",
        "  Library works only with named arguments and numpy array. Hence to make it compatible with torchvision, using wrapper to convert to np array\n",
        "  \"\"\"\n",
        "  def __call__(self, img):\n",
        "      img = np.array(img)\n",
        "      img = self.transforms(image=img)['image']  # if ['image'] is not given, then it will give key error in dataloader\n",
        "      img = np.transpose(img, (2,0,1))\n",
        "      return img  "
      ],
      "execution_count": 4,
      "outputs": []
    },
    {
      "cell_type": "code",
      "metadata": {
        "colab": {
          "base_uri": "https://localhost:8080/",
          "height": 119,
          "referenced_widgets": [
            "6db20cec6739457d9b38907fb1fc7bcf",
            "86453f570eaa434681e197b98f61f12f",
            "1ba60d6322d644e692068bfc04fe9026",
            "6625802c7b744b66a1408e9e075417ed",
            "10dc73203e97414ca5528fc050849b6b",
            "935542f83cf547e8bb7956ef70ed64ea",
            "b4a8c1326c10486ba4828a235b443b17",
            "4ee0a74f464542d38916226255686059"
          ]
        },
        "id": "ubC6BLj-S6Kq",
        "outputId": "bb6dc07a-0fe4-4d04-9159-a7f44c67e917"
      },
      "source": [
        "if cuda:\n",
        "    torch.cuda.manual_seed(1)\n",
        "\n",
        "dataloader_args = dict(shuffle=True, batch_size=128, num_workers=2, pin_memory=True) if cuda else dict(shuffle=True, batch_size=64)\n",
        "\n",
        "channels_mean  = [0.49139968, 0.48215841, 0.44653091]\n",
        "channels_stdev = [0.24703223, 0.24348513, 0.26158784]\n",
        "\n",
        "test_transforms   = Albumentations_transform([A.Normalize(mean=channels_mean, std=channels_stdev),])\n",
        "train_transforms  = Albumentations_transform([A.HorizontalFlip(),\n",
        "                                              A.ShiftScaleRotate(),\n",
        "                                              A.ToGray(),\n",
        "                                              A.Normalize(mean=channels_mean, std=channels_stdev),\n",
        "                                              A.CoarseDropout(max_holes=1, max_height=16, max_width=16,min_holes=1,\n",
        "                                                              min_height=16,min_width=16,fill_value=channels_mean,mask_fill_value=None),\n",
        "                                              ])\n",
        "\n",
        "train_data = datasets.CIFAR10('./data', train=True, download=True, transform=train_transforms)\n",
        "test_data  = datasets.CIFAR10('./data', train=False, download=True, transform=test_transforms)\n",
        "\n",
        "# train dataloader\n",
        "trainloader = torch.utils.data.DataLoader(train_data, **dataloader_args)\n",
        "\n",
        "# test dataloader\n",
        "testloader = torch.utils.data.DataLoader(test_data, **dataloader_args)"
      ],
      "execution_count": 5,
      "outputs": [
        {
          "output_type": "stream",
          "text": [
            "Downloading https://www.cs.toronto.edu/~kriz/cifar-10-python.tar.gz to ./data/cifar-10-python.tar.gz\n"
          ],
          "name": "stdout"
        },
        {
          "output_type": "display_data",
          "data": {
            "application/vnd.jupyter.widget-view+json": {
              "model_id": "6db20cec6739457d9b38907fb1fc7bcf",
              "version_minor": 0,
              "version_major": 2
            },
            "text/plain": [
              "HBox(children=(FloatProgress(value=0.0, max=170498071.0), HTML(value='')))"
            ]
          },
          "metadata": {
            "tags": []
          }
        },
        {
          "output_type": "stream",
          "text": [
            "\n",
            "Extracting ./data/cifar-10-python.tar.gz to ./data\n",
            "Files already downloaded and verified\n"
          ],
          "name": "stdout"
        }
      ]
    },
    {
      "cell_type": "code",
      "metadata": {
        "id": "fVFZ0RbN9yGF"
      },
      "source": [
        "# Function to unnormalize and bring back to original pixel values. Transpose is to reshape the image on x & y axes and make it ready for display\n",
        "def unnormalize(img):\n",
        "    for i in range(img.shape[0]):\n",
        "        img[i] = (img[i]*channels_stdev[i])+channels_mean[i]\n",
        "    img = img.permute(1, 2, 0)\n",
        "    return img"
      ],
      "execution_count": 6,
      "outputs": []
    },
    {
      "cell_type": "code",
      "metadata": {
        "colab": {
          "base_uri": "https://localhost:8080/",
          "height": 933
        },
        "id": "3GqNZ6hvbD64",
        "outputId": "e6652bfe-75f6-4215-8f0c-4f5eb39224c6"
      },
      "source": [
        "dataiter       = iter(trainloader)\n",
        "images, labels = dataiter.next()\n",
        "num_classes    = 10\n",
        "print(f'images.shape:{images.shape}, labels.shape:{labels.shape}')\n",
        "# display 5 images from each category. \n",
        "class_names = ['plane', 'automobile', 'bird', 'cat','deer', 'dog', 'frog', 'horse', 'ship', 'truck']\n",
        "\n",
        "row, col   = 10, 8\n",
        "num_images = 5\n",
        "fig = plt.figure(figsize=(15,15))\n",
        "fig.subplots_adjust(hspace=0.01, wspace=0.01)\n",
        "for class_num in range(num_classes):\n",
        "    idx = np.random.choice(np.where(labels[:]==class_num)[0], num_images)  ## Selecting 5 random images for each class\n",
        "    ax  = plt.subplot(row, col,class_num*col + 1)                          ## Laying out space for display of a particular class\n",
        "    ax.text(-0.1, 0.5, class_names[class_num], fontsize=14)                ## Displaying class names\n",
        "    plt.axis('off')\n",
        "    for j in range(1, num_images+1):                                       ## Displaying images one-by-one for a particular class\n",
        "        plt.subplot(row, col, class_num*col+j+1)\n",
        "        #img = images[idx[j-1]].permute(2,0,1)   # Changing image shape from 32(H), 32(w), 3 --> 3, 32(H), 32(W). If not done, images will come out too bright\n",
        "        img = images[idx[j-1]]\n",
        "        plt.imshow(unnormalize(img), interpolation='none')\n",
        "        plt.axis('off')\n",
        "plt.show()"
      ],
      "execution_count": 7,
      "outputs": [
        {
          "output_type": "stream",
          "text": [
            "images.shape:torch.Size([128, 3, 32, 32]), labels.shape:torch.Size([128])\n"
          ],
          "name": "stdout"
        },
        {
          "output_type": "stream",
          "text": [
            "Clipping input data to the valid range for imshow with RGB data ([0..1] for floats or [0..255] for integers).\n",
            "Clipping input data to the valid range for imshow with RGB data ([0..1] for floats or [0..255] for integers).\n",
            "Clipping input data to the valid range for imshow with RGB data ([0..1] for floats or [0..255] for integers).\n",
            "Clipping input data to the valid range for imshow with RGB data ([0..1] for floats or [0..255] for integers).\n"
          ],
          "name": "stderr"
        },
        {
          "output_type": "display_data",
          "data": {
            "image/png": "[encoded data removed]",
            "text/plain": [
              "<Figure size 1080x1080 with 60 Axes>"
            ]
          },
          "metadata": {
            "tags": [],
            "needs_background": "light"
          }
        }
      ]
    },
    {
      "cell_type": "code",
      "metadata": {
        "id": "emk91A9BkT7e"
      },
      "source": [
        "class Net(nn.Module):\n",
        "\n",
        "    def __init__(self):\n",
        "        super(Net, self).__init__()\n",
        "\n",
        "       # CONVOLUTION BLOCK 0\n",
        "        self.convblock0A = nn.Sequential(\n",
        "            nn.Conv2d(in_channels=3, out_channels=32, kernel_size=(3, 3), padding=1, bias=False),\n",
        "            nn.ReLU(),\n",
        "            nn.BatchNorm2d(32),\n",
        "        ) # in = 32x32x3 , out = 32x32x32, RF = 3\n",
        "\n",
        "        # CONVOLUTION BLOCK 1\n",
        "        self.convblock1A = nn.Sequential(\n",
        "            nn.Conv2d(in_channels=32, out_channels=64, kernel_size=(3, 3), padding=1, bias=False),\n",
        "            nn.ReLU(),\n",
        "            nn.BatchNorm2d(64),\n",
        "        ) # in = 32x32x3 , out = 32x32x32, RF = 3\n",
        "\n",
        "        self.depthwise1A = nn.Sequential(\n",
        "            nn.Conv2d(in_channels=64, out_channels=64, kernel_size=(3, 3), padding=1, bias=False, groups=32),\n",
        "            nn.ReLU(),\n",
        "            nn.BatchNorm2d(64), \n",
        "        ) # in = 32x32x3 * 3x3x3 , out = 32x32x1x32, RF = 5\n",
        "        self.pointwise1A = nn.Sequential(\n",
        "            nn.Conv2d(in_channels=64, out_channels=64, kernel_size=(1, 1), padding=0, bias=False)\n",
        "        ) # in = 32x32x1X32 , out = 32x32x64, RF = 5\n",
        "\n",
        "        self.depthwise1B = nn.Sequential(\n",
        "            nn.Conv2d(in_channels=64, out_channels=64, kernel_size=(3, 3), padding=1, bias=False, groups=32),\n",
        "            nn.ReLU(),\n",
        "            nn.BatchNorm2d(64), \n",
        "        ) # in = 32x32x64 , out = 32x32x64, RF = 7\n",
        "        self.pointwise1B = nn.Sequential(\n",
        "            nn.Conv2d(in_channels=64, out_channels=64, kernel_size=(1, 1), padding=0, bias=False)\n",
        "        ) # in = 32x32x1X64 , out = 32x32x64, RF = 7\n",
        "\n",
        "        self.depthwise1C = nn.Sequential(\n",
        "            nn.Conv2d(in_channels=64, out_channels=64, kernel_size=(3, 3), padding=1, bias=False, groups=32),\n",
        "            nn.ReLU(),\n",
        "            nn.BatchNorm2d(64), \n",
        "        ) # in = 32x32x64 , out = 32x32x64, RF = 9\n",
        "        self.pointwise1C = nn.Sequential(\n",
        "            nn.Conv2d(in_channels=64, out_channels=32, kernel_size=(1, 1), padding=0, bias=False)\n",
        "        ) # in = 32x32x1X64 , out = 32x32x32   , RF = 9            \n",
        "\n",
        "        # TRANSITION BLOCK 1\n",
        "        self.pool1 = nn.Sequential(\n",
        "            nn.Conv2d(in_channels=32, out_channels=32, kernel_size=(3, 3), padding=0, bias=False, dilation=2),\n",
        "            nn.ReLU(),\n",
        "            nn.BatchNorm2d(32),\n",
        "        ) # in = 32x32x32 , out = 28x28x32  , RF = 13                          \n",
        "   \n",
        "        # CONVOLUTION BLOCK 2\n",
        "\n",
        "        self.convblock2A = nn.Sequential(\n",
        "            nn.Conv2d(in_channels=32, out_channels=32, kernel_size=(3, 3), padding=0, bias=False),\n",
        "            nn.ReLU(),\n",
        "            nn.BatchNorm2d(32),\n",
        "        ) # in = 24x24x32 , out = 20x20x32, RF = 15\n",
        "\n",
        "        self.depthwise2A = nn.Sequential(\n",
        "            nn.Conv2d(in_channels=32, out_channels=32, kernel_size=(3, 3), padding=1, bias=False, groups=32),\n",
        "            nn.ReLU(),\n",
        "            nn.BatchNorm2d(32), \n",
        "        ) # in = 28x28x32 * 3x3x3 , out = 28x28x1x32, RF = 17\n",
        "        self.pointwise2A = nn.Sequential(\n",
        "            nn.Conv2d(in_channels=32, out_channels=64, kernel_size=(1, 1), padding=0, bias=False)\n",
        "        ) # in = 28x28x1X32 , out = 28x28x64    , RF = 17 \n",
        "\n",
        "        self.depthwise2B = nn.Sequential(\n",
        "            nn.Conv2d(in_channels=64, out_channels=64, kernel_size=(3, 3), padding=1, bias=False, groups=64),\n",
        "            nn.ReLU(),\n",
        "            nn.BatchNorm2d(64), \n",
        "        ) # in = 28x28x1x64 , out = 28x28x64, RF = 19\n",
        "        self.pointwise2B = nn.Sequential(\n",
        "            nn.Conv2d(in_channels=64, out_channels=64, kernel_size=(1, 1), padding=0, bias=False)\n",
        "        ) # in = 28x28x64 , out = 28x28x64 , RF = 19\n",
        "\n",
        "        self.depthwise2C = nn.Sequential(\n",
        "            nn.Conv2d(in_channels=64, out_channels=64, kernel_size=(3, 3), padding=1, bias=False, groups=64),\n",
        "            nn.ReLU(),\n",
        "            nn.BatchNorm2d(64), \n",
        "        ) # in = 28x28x1x64 , out = 28x28x64, RF = 21\n",
        "        self.pointwise2C = nn.Sequential(\n",
        "            nn.Conv2d(in_channels=64, out_channels=32, kernel_size=(1, 1), padding=0, bias=False)\n",
        "        ) # in = 28x28x64 , out = 28x28x32  , RF = 21       \n",
        "\n",
        "        # TRANSITION BLOCK 2\n",
        "        self.pool2 = nn.Sequential(\n",
        "            nn.Conv2d(in_channels=32, out_channels=32, kernel_size=(3, 3), padding=0, bias=False, dilation=2),\n",
        "            nn.ReLU(),\n",
        "            nn.BatchNorm2d(32),\n",
        "        ) # in = 28x28x32 , out = 24x24x32  , RF = 25                                                      \n",
        "    \n",
        "\n",
        "        # CONVOLUTION BLOCK 3        \n",
        "        self.convblock3A = nn.Sequential(\n",
        "            nn.Conv2d(in_channels=32, out_channels=32, kernel_size=(3, 3), padding=0, bias=False),\n",
        "            nn.ReLU(),\n",
        "            nn.BatchNorm2d(32),\n",
        "        ) # in = 24x24x32 , out = 20x20x32, RF = 27\n",
        "\n",
        "        self.depthwise3A = nn.Sequential(\n",
        "            nn.Conv2d(in_channels=32, out_channels=32, kernel_size=(3, 3), padding=1, bias=False, groups=32),\n",
        "            nn.ReLU(),\n",
        "            nn.BatchNorm2d(32), \n",
        "        ) # in = 20x20x32 * 3x3x3 , out = 20x20x1x32, RF = 29\n",
        "        self.pointwise3A = nn.Sequential(\n",
        "            nn.Conv2d(in_channels=32, out_channels=64, kernel_size=(1, 1), padding=0, bias=False)\n",
        "        ) # in = 20x20x1X32 , out = 20x20x64, RF = 29\n",
        "\n",
        "        self.depthwise3B = nn.Sequential(\n",
        "            nn.Conv2d(in_channels=64, out_channels=64, kernel_size=(3, 3), padding=1, bias=False, groups=32),\n",
        "            nn.ReLU(),\n",
        "            nn.BatchNorm2d(64), \n",
        "        ) # in = 20x20x1x64 , out = 20x20x64, RF = 31\n",
        "        self.pointwise3B = nn.Sequential(\n",
        "            nn.Conv2d(in_channels=64, out_channels=64, kernel_size=(1, 1), padding=0, bias=False)\n",
        "        ) # in = 20x20x64 , out = 20x20x64 , RF = 31\n",
        "\n",
        "        self.depthwise3C = nn.Sequential(\n",
        "            nn.Conv2d(in_channels=64, out_channels=64, kernel_size=(3, 3), padding=1, bias=False, groups=32),\n",
        "            nn.ReLU(),\n",
        "            nn.BatchNorm2d(64), \n",
        "        ) # in = 20x20x1x64 , out = 20x20x64, RF = 33\n",
        "        self.pointwise3C = nn.Sequential(\n",
        "            nn.Conv2d(in_channels=64, out_channels=32, kernel_size=(1, 1), padding=0, bias=False)\n",
        "        ) # in = 20x20x64 , out = 20x20x32      , RF = 33         \n",
        "                     \n",
        "        # TRANSITION BLOCK 3\n",
        "        self.pool3 = nn.Conv2d(in_channels=32, out_channels=32, kernel_size=(3,3), stride=2,\n",
        "                               padding=1, bias=False)   # in = 20x20x32 , out = 10x10x32, RF = 35\n",
        "\n",
        "        # CONVOLUTION BLOCK 4        \n",
        "        self.convblock4A = nn.Sequential(\n",
        "            nn.Conv2d(in_channels=32, out_channels=16, kernel_size=(3, 3), padding=0, bias=False),\n",
        "            nn.ReLU(),\n",
        "            nn.BatchNorm2d(16),\n",
        "        ) # in = 10X10x32 , out = 8X8x32, RF = 26, RF = 39\n",
        "\n",
        "        self.convblock4B = nn.Sequential(\n",
        "            nn.Conv2d(in_channels=16, out_channels=16, kernel_size=(3, 3), padding=0, bias=False),\n",
        "            nn.ReLU(),\n",
        "            nn.BatchNorm2d(16),\n",
        "        ) # in = 8X8x32 , out =6x6x16, RF = 26   , RF = 43\n",
        "\n",
        "        self.dilated5A = nn.Sequential(\n",
        "            nn.Conv2d(in_channels=16, out_channels=16, kernel_size=(3, 3), padding=2, bias=False, dilation=2),\n",
        "            nn.ReLU(),\n",
        "            nn.BatchNorm2d(16),\n",
        "        ) # in = 6x6x16 , out = 6x6x16, RF = 7        , RF = 51\n",
        "        \n",
        "        # OUTPUT BLOCK\n",
        "        self.Gap1 = nn.Sequential(\n",
        "            nn.AvgPool2d(kernel_size=6)\n",
        "        ) # in = 6x6x32 , out = 1x1x32, RF = 54\t, RF = 61\n",
        "        self.fc1 = nn.Sequential(\n",
        "            nn.Conv2d(in_channels=16, out_channels=10, kernel_size=(1, 1), padding=0, bias=False)\n",
        "        ) # in = 1x1x32 , out = 1x1x10, RF = 54, RF = 61\n",
        "\n",
        "    def forward(self, x):\n",
        "        x = self.convblock0A(x)\n",
        "        #x = self.pointwise1A(self.depthwise1A(self.convblock1A(x)))\n",
        "        x = self.depthwise1A(self.convblock1A(x))\n",
        "        #x = self.pointwise1B(self.depthwise1B(x))\n",
        "        x = self.depthwise1B(x)\n",
        "        x = self.pointwise1C(self.depthwise1C(x))        \n",
        "        x = self.pool1(x)\n",
        "        x = self.pointwise2A(self.depthwise2A(self.convblock2A(x)))\n",
        "        #x = self.pointwise2B(self.depthwise2B(x))\n",
        "        x = self.depthwise2B(x)\n",
        "        x = self.pointwise2C(self.depthwise2C(x))         \n",
        "        x = self.pool2(x)\n",
        "        x = self.pointwise3A(self.depthwise3A(self.convblock3A(x)))\n",
        "        #x = self.pointwise3B(self.depthwise3B(x))\n",
        "        x = self.depthwise3B(x)\n",
        "        x = self.pointwise3C(self.depthwise3C(x))        \n",
        "        x = self.pool3(x)\n",
        "        x = self.convblock4B(self.convblock4A(x))\n",
        "        x = self.dilated5A(x)\n",
        "        x = self.fc1(self.Gap1(x))\n",
        "        x = x.view(-1, 10)\n",
        "        return F.log_softmax(x, dim=-1)\n"
      ],
      "execution_count": 14,
      "outputs": []
    },
    {
      "cell_type": "code",
      "metadata": {
        "id": "e_LYXXuJJTFF",
        "colab": {
          "base_uri": "https://localhost:8080/"
        },
        "outputId": "c688e1e2-5035-40f7-c272-6ab66d9744a0"
      },
      "source": [
        "!pip install torchsummary\n",
        "from torchsummary import summary"
      ],
      "execution_count": 9,
      "outputs": [
        {
          "output_type": "stream",
          "text": [
            "Requirement already satisfied: torchsummary in /usr/local/lib/python3.7/dist-packages (1.5.1)\n"
          ],
          "name": "stdout"
        }
      ]
    },
    {
      "cell_type": "code",
      "metadata": {
        "id": "rDIoiR_UJcb3",
        "colab": {
          "base_uri": "https://localhost:8080/"
        },
        "outputId": "f457d61d-5419-4561-f7fa-ec5ac68af78d"
      },
      "source": [
        "use_cuda = torch.cuda.is_available()\n",
        "device = torch.device(\"cuda\" if use_cuda else \"cpu\")\n",
        "print(device)\n",
        "model = Net().to(device)\n",
        "summary(model, input_size=(3, 32, 32))"
      ],
      "execution_count": 15,
      "outputs": [
        {
          "output_type": "stream",
          "text": [
            "cuda\n",
            "----------------------------------------------------------------\n",
            "        Layer (type)               Output Shape         Param #\n",
            "================================================================\n",
            "            Conv2d-1           [-1, 32, 32, 32]             864\n",
            "              ReLU-2           [-1, 32, 32, 32]               0\n",
            "       BatchNorm2d-3           [-1, 32, 32, 32]              64\n",
            "            Conv2d-4           [-1, 64, 32, 32]          18,432\n",
            "              ReLU-5           [-1, 64, 32, 32]               0\n",
            "       BatchNorm2d-6           [-1, 64, 32, 32]             128\n",
            "            Conv2d-7           [-1, 64, 32, 32]           1,152\n",
            "              ReLU-8           [-1, 64, 32, 32]               0\n",
            "       BatchNorm2d-9           [-1, 64, 32, 32]             128\n",
            "           Conv2d-10           [-1, 64, 32, 32]           1,152\n",
            "             ReLU-11           [-1, 64, 32, 32]               0\n",
            "      BatchNorm2d-12           [-1, 64, 32, 32]             128\n",
            "           Conv2d-13           [-1, 64, 32, 32]           1,152\n",
            "             ReLU-14           [-1, 64, 32, 32]               0\n",
            "      BatchNorm2d-15           [-1, 64, 32, 32]             128\n",
            "           Conv2d-16           [-1, 32, 32, 32]           2,048\n",
            "           Conv2d-17           [-1, 32, 28, 28]           9,216\n",
            "             ReLU-18           [-1, 32, 28, 28]               0\n",
            "      BatchNorm2d-19           [-1, 32, 28, 28]              64\n",
            "           Conv2d-20           [-1, 32, 26, 26]           9,216\n",
            "             ReLU-21           [-1, 32, 26, 26]               0\n",
            "      BatchNorm2d-22           [-1, 32, 26, 26]              64\n",
            "           Conv2d-23           [-1, 32, 26, 26]             288\n",
            "             ReLU-24           [-1, 32, 26, 26]               0\n",
            "      BatchNorm2d-25           [-1, 32, 26, 26]              64\n",
            "           Conv2d-26           [-1, 64, 26, 26]           2,048\n",
            "           Conv2d-27           [-1, 64, 26, 26]             576\n",
            "             ReLU-28           [-1, 64, 26, 26]               0\n",
            "      BatchNorm2d-29           [-1, 64, 26, 26]             128\n",
            "           Conv2d-30           [-1, 64, 26, 26]             576\n",
            "             ReLU-31           [-1, 64, 26, 26]               0\n",
            "      BatchNorm2d-32           [-1, 64, 26, 26]             128\n",
            "           Conv2d-33           [-1, 32, 26, 26]           2,048\n",
            "           Conv2d-34           [-1, 32, 22, 22]           9,216\n",
            "             ReLU-35           [-1, 32, 22, 22]               0\n",
            "      BatchNorm2d-36           [-1, 32, 22, 22]              64\n",
            "           Conv2d-37           [-1, 32, 20, 20]           9,216\n",
            "             ReLU-38           [-1, 32, 20, 20]               0\n",
            "      BatchNorm2d-39           [-1, 32, 20, 20]              64\n",
            "           Conv2d-40           [-1, 32, 20, 20]             288\n",
            "             ReLU-41           [-1, 32, 20, 20]               0\n",
            "      BatchNorm2d-42           [-1, 32, 20, 20]              64\n",
            "           Conv2d-43           [-1, 64, 20, 20]           2,048\n",
            "           Conv2d-44           [-1, 64, 20, 20]           1,152\n",
            "             ReLU-45           [-1, 64, 20, 20]               0\n",
            "      BatchNorm2d-46           [-1, 64, 20, 20]             128\n",
            "           Conv2d-47           [-1, 64, 20, 20]           1,152\n",
            "             ReLU-48           [-1, 64, 20, 20]               0\n",
            "      BatchNorm2d-49           [-1, 64, 20, 20]             128\n",
            "           Conv2d-50           [-1, 32, 20, 20]           2,048\n",
            "           Conv2d-51           [-1, 32, 10, 10]           9,216\n",
            "           Conv2d-52             [-1, 16, 8, 8]           4,608\n",
            "             ReLU-53             [-1, 16, 8, 8]               0\n",
            "      BatchNorm2d-54             [-1, 16, 8, 8]              32\n",
            "           Conv2d-55             [-1, 16, 6, 6]           2,304\n",
            "             ReLU-56             [-1, 16, 6, 6]               0\n",
            "      BatchNorm2d-57             [-1, 16, 6, 6]              32\n",
            "           Conv2d-58             [-1, 16, 6, 6]           2,304\n",
            "             ReLU-59             [-1, 16, 6, 6]               0\n",
            "      BatchNorm2d-60             [-1, 16, 6, 6]              32\n",
            "        AvgPool2d-61             [-1, 16, 1, 1]               0\n",
            "           Conv2d-62             [-1, 10, 1, 1]             160\n",
            "================================================================\n",
            "Total params: 94,048\n",
            "Trainable params: 94,048\n",
            "Non-trainable params: 0\n",
            "----------------------------------------------------------------\n",
            "Input size (MB): 0.01\n",
            "Forward/backward pass size (MB): 13.52\n",
            "Params size (MB): 0.36\n",
            "Estimated Total Size (MB): 13.89\n",
            "----------------------------------------------------------------\n"
          ],
          "name": "stdout"
        }
      ]
    },
    {
      "cell_type": "code",
      "metadata": {
        "id": "hN9ItPs4JvMX",
        "colab": {
          "base_uri": "https://localhost:8080/"
        },
        "outputId": "7767db00-cf8d-4469-e358-e0cc12636269"
      },
      "source": [
        "print(model)"
      ],
      "execution_count": null,
      "outputs": [
        {
          "output_type": "stream",
          "text": [
            "Net(\n",
            "  (convblock1A): Sequential(\n",
            "    (0): Conv2d(3, 64, kernel_size=(3, 3), stride=(1, 1), padding=(1, 1), bias=False)\n",
            "    (1): ReLU()\n",
            "    (2): BatchNorm2d(64, eps=1e-05, momentum=0.1, affine=True, track_running_stats=True)\n",
            "  )\n",
            "  (depthwise1A): Sequential(\n",
            "    (0): Conv2d(64, 64, kernel_size=(3, 3), stride=(1, 1), padding=(1, 1), groups=32, bias=False)\n",
            "    (1): ReLU()\n",
            "    (2): BatchNorm2d(64, eps=1e-05, momentum=0.1, affine=True, track_running_stats=True)\n",
            "  )\n",
            "  (pointwise1A): Sequential(\n",
            "    (0): Conv2d(64, 64, kernel_size=(1, 1), stride=(1, 1), bias=False)\n",
            "  )\n",
            "  (depthwise1B): Sequential(\n",
            "    (0): Conv2d(64, 64, kernel_size=(3, 3), stride=(1, 1), padding=(1, 1), groups=32, bias=False)\n",
            "    (1): ReLU()\n",
            "    (2): BatchNorm2d(64, eps=1e-05, momentum=0.1, affine=True, track_running_stats=True)\n",
            "  )\n",
            "  (pointwise1B): Sequential(\n",
            "    (0): Conv2d(64, 64, kernel_size=(1, 1), stride=(1, 1), bias=False)\n",
            "  )\n",
            "  (depthwise1C): Sequential(\n",
            "    (0): Conv2d(64, 64, kernel_size=(3, 3), stride=(1, 1), padding=(1, 1), groups=32, bias=False)\n",
            "    (1): ReLU()\n",
            "    (2): BatchNorm2d(64, eps=1e-05, momentum=0.1, affine=True, track_running_stats=True)\n",
            "  )\n",
            "  (pointwise1C): Sequential(\n",
            "    (0): Conv2d(64, 32, kernel_size=(1, 1), stride=(1, 1), bias=False)\n",
            "  )\n",
            "  (pool1): Sequential(\n",
            "    (0): Conv2d(32, 32, kernel_size=(3, 3), stride=(1, 1), dilation=(2, 2), bias=False)\n",
            "    (1): ReLU()\n",
            "    (2): BatchNorm2d(32, eps=1e-05, momentum=0.1, affine=True, track_running_stats=True)\n",
            "  )\n",
            "  (convblock2A): Sequential(\n",
            "    (0): Conv2d(32, 32, kernel_size=(3, 3), stride=(1, 1), bias=False)\n",
            "    (1): ReLU()\n",
            "    (2): BatchNorm2d(32, eps=1e-05, momentum=0.1, affine=True, track_running_stats=True)\n",
            "  )\n",
            "  (depthwise2A): Sequential(\n",
            "    (0): Conv2d(32, 32, kernel_size=(3, 3), stride=(1, 1), padding=(1, 1), groups=32, bias=False)\n",
            "    (1): ReLU()\n",
            "    (2): BatchNorm2d(32, eps=1e-05, momentum=0.1, affine=True, track_running_stats=True)\n",
            "  )\n",
            "  (pointwise2A): Sequential(\n",
            "    (0): Conv2d(32, 64, kernel_size=(1, 1), stride=(1, 1), bias=False)\n",
            "  )\n",
            "  (depthwise2B): Sequential(\n",
            "    (0): Conv2d(64, 64, kernel_size=(3, 3), stride=(1, 1), padding=(1, 1), groups=64, bias=False)\n",
            "    (1): ReLU()\n",
            "    (2): BatchNorm2d(64, eps=1e-05, momentum=0.1, affine=True, track_running_stats=True)\n",
            "  )\n",
            "  (pointwise2B): Sequential(\n",
            "    (0): Conv2d(64, 64, kernel_size=(1, 1), stride=(1, 1), bias=False)\n",
            "  )\n",
            "  (depthwise2C): Sequential(\n",
            "    (0): Conv2d(64, 64, kernel_size=(3, 3), stride=(1, 1), padding=(1, 1), groups=64, bias=False)\n",
            "    (1): ReLU()\n",
            "    (2): BatchNorm2d(64, eps=1e-05, momentum=0.1, affine=True, track_running_stats=True)\n",
            "  )\n",
            "  (pointwise2C): Sequential(\n",
            "    (0): Conv2d(64, 32, kernel_size=(1, 1), stride=(1, 1), bias=False)\n",
            "  )\n",
            "  (pool2): Sequential(\n",
            "    (0): Conv2d(32, 32, kernel_size=(3, 3), stride=(1, 1), dilation=(2, 2), bias=False)\n",
            "    (1): ReLU()\n",
            "    (2): BatchNorm2d(32, eps=1e-05, momentum=0.1, affine=True, track_running_stats=True)\n",
            "  )\n",
            "  (convblock3A): Sequential(\n",
            "    (0): Conv2d(32, 32, kernel_size=(3, 3), stride=(1, 1), bias=False)\n",
            "    (1): ReLU()\n",
            "    (2): BatchNorm2d(32, eps=1e-05, momentum=0.1, affine=True, track_running_stats=True)\n",
            "  )\n",
            "  (depthwise3A): Sequential(\n",
            "    (0): Conv2d(32, 32, kernel_size=(3, 3), stride=(1, 1), padding=(1, 1), groups=32, bias=False)\n",
            "    (1): ReLU()\n",
            "    (2): BatchNorm2d(32, eps=1e-05, momentum=0.1, affine=True, track_running_stats=True)\n",
            "  )\n",
            "  (pointwise3A): Sequential(\n",
            "    (0): Conv2d(32, 64, kernel_size=(1, 1), stride=(1, 1), bias=False)\n",
            "  )\n",
            "  (depthwise3B): Sequential(\n",
            "    (0): Conv2d(64, 64, kernel_size=(3, 3), stride=(1, 1), padding=(1, 1), groups=32, bias=False)\n",
            "    (1): ReLU()\n",
            "    (2): BatchNorm2d(64, eps=1e-05, momentum=0.1, affine=True, track_running_stats=True)\n",
            "  )\n",
            "  (pointwise3B): Sequential(\n",
            "    (0): Conv2d(64, 64, kernel_size=(1, 1), stride=(1, 1), bias=False)\n",
            "  )\n",
            "  (depthwise3C): Sequential(\n",
            "    (0): Conv2d(64, 64, kernel_size=(3, 3), stride=(1, 1), padding=(1, 1), groups=32, bias=False)\n",
            "    (1): ReLU()\n",
            "    (2): BatchNorm2d(64, eps=1e-05, momentum=0.1, affine=True, track_running_stats=True)\n",
            "  )\n",
            "  (pointwise3C): Sequential(\n",
            "    (0): Conv2d(64, 32, kernel_size=(1, 1), stride=(1, 1), bias=False)\n",
            "  )\n",
            "  (pool3): Conv2d(32, 32, kernel_size=(3, 3), stride=(2, 2), padding=(1, 1), bias=False)\n",
            "  (convblock4A): Sequential(\n",
            "    (0): Conv2d(32, 32, kernel_size=(3, 3), stride=(1, 1), bias=False)\n",
            "    (1): ReLU()\n",
            "    (2): BatchNorm2d(32, eps=1e-05, momentum=0.1, affine=True, track_running_stats=True)\n",
            "  )\n",
            "  (convblock4B): Sequential(\n",
            "    (0): Conv2d(32, 16, kernel_size=(3, 3), stride=(1, 1), bias=False)\n",
            "    (1): ReLU()\n",
            "    (2): BatchNorm2d(16, eps=1e-05, momentum=0.1, affine=True, track_running_stats=True)\n",
            "  )\n",
            "  (dilated5A): Sequential(\n",
            "    (0): Conv2d(16, 16, kernel_size=(3, 3), stride=(1, 1), padding=(2, 2), dilation=(2, 2), bias=False)\n",
            "    (1): ReLU()\n",
            "    (2): BatchNorm2d(16, eps=1e-05, momentum=0.1, affine=True, track_running_stats=True)\n",
            "  )\n",
            "  (Gap1): Sequential(\n",
            "    (0): AvgPool2d(kernel_size=6, stride=6, padding=0)\n",
            "  )\n",
            "  (fc1): Sequential(\n",
            "    (0): Conv2d(16, 10, kernel_size=(1, 1), stride=(1, 1), bias=False)\n",
            "  )\n",
            ")\n"
          ],
          "name": "stdout"
        }
      ]
    },
    {
      "cell_type": "code",
      "metadata": {
        "id": "YH8MjieiJxne"
      },
      "source": [
        "class train_losses():\n",
        "    def __init__(self, model, device, train_loader, train_stats, optimizer, total_epochs):\n",
        "        self.model = model\n",
        "        self.device = device\n",
        "        self.train_loader = train_loader\n",
        "        self.stats = train_stats\n",
        "        self.optimizer = optimizer\n",
        "        self.total_epochs = total_epochs\n",
        "\n",
        "    def s6_train(self, current_epoch, L1_factor=0):\n",
        "        self.model.train()\n",
        "        pbar = tqdm(self.train_loader)\n",
        "        train_loss, correct, processed = 0, 0, 0\n",
        "        for batch_idx, (data, target) in enumerate(pbar):\n",
        "            data, target = data.to(self.device), target.to(self.device)\n",
        "            self.optimizer.zero_grad()\n",
        "            y_pred = self.model(data)\n",
        "            train_loss = F.nll_loss(y_pred, target)\n",
        "\n",
        "            # Updating train loss with L1 loss\n",
        "            L1_Crit = nn.L1Loss(size_average=None, reduce=None, reduction='mean')\n",
        "            reg_loss = 0\n",
        "            for param in self.model.parameters():\n",
        "                zero_vector = torch.rand_like(param) * 0\n",
        "                reg_loss += L1_Crit(param, zero_vector)\n",
        "            train_loss += L1_factor * reg_loss\n",
        "\n",
        "            train_loss.backward()\n",
        "            self.optimizer.step()\n",
        "\n",
        "            pred = y_pred.argmax(dim=1, keepdim=True)  # get the index of the max log-probability\n",
        "            correct += pred.eq(target.view_as(pred)).sum().item()\n",
        "            processed += len(data)\n",
        "\n",
        "            pbar.set_description(\n",
        "                desc=f'Loss={train_loss.item()} Batch_id={batch_idx} Train Accuracy={100 * correct / processed:0.2f}')\n",
        "\n",
        "            train_loss /= processed\n",
        "            self.stats.append_loss(round(train_loss.item(), 6))\n",
        "\n",
        "        train_acc = round((100. * correct / len(self.train_loader.dataset)), 2)\n",
        "        self.stats.append_acc(train_acc)\n",
        "\n",
        "        print(f'Train set: Epoch : {current_epoch}/{self.total_epochs} Average loss: {train_loss :.4f}, Train Accuracy: {train_acc}')"
      ],
      "execution_count": 16,
      "outputs": []
    },
    {
      "cell_type": "code",
      "metadata": {
        "id": "_ZPPyG0jJ6kF"
      },
      "source": [
        "class test_losses():\n",
        "  def __init__(self, model, device, test_loader, test_stats, total_epochs):\n",
        "      self.model       = model\n",
        "      self.device      = device\n",
        "      self.test_loader = test_loader\n",
        "      self.stats       = test_stats\n",
        "      self.total_epochs = total_epochs\n",
        "\n",
        "  def s6_test(self, current_epoch):\n",
        "      self.model.eval()\n",
        "      test_loss, correct, count_wrong = 0, 0, 0\n",
        "      with torch.no_grad():\n",
        "          for data, target in self.test_loader:\n",
        "              data, target = data.to(self.device), target.to(self.device)\n",
        "              output = self.model(data)\n",
        "              test_loss += F.nll_loss(output, target, reduction='sum').item()  # sum up batch loss\n",
        "              pred = output.argmax(dim=1, keepdim=True)  # get the index of the max log-probability\n",
        "              correct += pred.eq(target.view_as(pred)).sum().item()\n",
        "\n",
        "              if current_epoch == (self.total_epochs - 1):\n",
        "                  compare = pred.eq(target.view_as(pred))\n",
        "                  misclass_idx = (compare == False).nonzero(as_tuple=True)[0].tolist()\n",
        "                  for i in misclass_idx:\n",
        "                      self.stats.append_img(data[i])\n",
        "                      self.stats.append_pred(pred[i].item())\n",
        "                      self.stats.append_label(target[i].item())\n",
        "\n",
        "      test_loss /= len(self.test_loader.dataset)\n",
        "      self.stats.append_loss(round(test_loss,6))\n",
        "      test_acc = round((100. * correct / len(self.test_loader.dataset)), 2)\n",
        "      self.stats.append_acc(test_acc)\n",
        "\n",
        "      print(f'Test set: Epoch : {current_epoch}/{self.total_epochs} Average loss: {test_loss :.4f}, Test Accuracy: {test_acc}')"
      ],
      "execution_count": 17,
      "outputs": []
    },
    {
      "cell_type": "code",
      "metadata": {
        "id": "D33pdOomJ-i0"
      },
      "source": [
        "class stats_collector():\n",
        "    def __init__(self):\n",
        "        self.losses = []\n",
        "        self.accuracy = []\n",
        "        self.img = []\n",
        "        self.pred = []\n",
        "        self.label = []\n",
        "\n",
        "    def append_loss(self, loss):\n",
        "        self.losses.append(loss)\n",
        "\n",
        "    def append_acc(self, acc):\n",
        "        self.accuracy.append(acc)\n",
        "\n",
        "    def append_img(self, image):\n",
        "        self.img.append(image)\n",
        "\n",
        "    def append_pred(self, pred):\n",
        "        self.pred.append(pred)\n",
        "\n",
        "    def append_label(self, label):\n",
        "        self.label.append(label)"
      ],
      "execution_count": 18,
      "outputs": []
    },
    {
      "cell_type": "code",
      "metadata": {
        "id": "rhaUHov2da9P"
      },
      "source": [
        "from torch.optim.lr_scheduler import OneCycleLR"
      ],
      "execution_count": 19,
      "outputs": []
    },
    {
      "cell_type": "code",
      "metadata": {
        "id": "SYd0RxRRKS7k",
        "colab": {
          "base_uri": "https://localhost:8080/"
        },
        "outputId": "18304e8f-46ce-4dbf-a684-5bc1768afb5c"
      },
      "source": [
        "EPOCHS = 200\n",
        "#model = Net().to(device)\n",
        "optimizer = optim.SGD(model.parameters(), lr=0.025, momentum=0.8, weight_decay = 0)\n",
        "SCHEDULER = OneCycleLR(optimizer, max_lr=0.2, steps_per_epoch=len(trainloader), epochs=EPOCHS)\n",
        "train_stats, test_stats = stats_collector(), stats_collector()\n",
        "train = train_losses(model, device, trainloader, train_stats, optimizer, EPOCHS)\n",
        "test  = test_losses(model, device, testloader, test_stats, EPOCHS)\n",
        "\n",
        "for epoch in range(EPOCHS):\n",
        "    print(f'EPOCH: {epoch}')\n",
        "    train.s6_train(epoch, L1_factor=0.0005)\n",
        "    test.s6_test(epoch)"
      ],
      "execution_count": 20,
      "outputs": [
        {
          "output_type": "stream",
          "text": [
            "\r  0%|          | 0/391 [00:00<?, ?it/s]"
          ],
          "name": "stderr"
        },
        {
          "output_type": "stream",
          "text": [
            "EPOCH: 0\n"
          ],
          "name": "stdout"
        },
        {
          "output_type": "stream",
          "text": [
            "Loss=1.8015754222869873 Batch_id=390 Train Accuracy=27.95: 100%|██████████| 391/391 [00:27<00:00, 14.47it/s]"
          ],
          "name": "stderr"
        },
        {
          "output_type": "stream",
          "text": [
            "Train set: Epoch : 0/200 Average loss: 0.0000, Train Accuracy: 27.95\n"
          ],
          "name": "stdout"
        },
        {
          "output_type": "stream",
          "text": [
            "\n",
            "  0%|          | 0/391 [00:00<?, ?it/s]"
          ],
          "name": "stderr"
        },
        {
          "output_type": "stream",
          "text": [
            "Test set: Epoch : 0/200 Average loss: 1.5634, Test Accuracy: 40.84\n",
            "EPOCH: 1\n"
          ],
          "name": "stdout"
        },
        {
          "output_type": "stream",
          "text": [
            "Loss=1.6278284788131714 Batch_id=390 Train Accuracy=39.16: 100%|██████████| 391/391 [00:27<00:00, 14.40it/s]"
          ],
          "name": "stderr"
        },
        {
          "output_type": "stream",
          "text": [
            "Train set: Epoch : 1/200 Average loss: 0.0000, Train Accuracy: 39.16\n"
          ],
          "name": "stdout"
        },
        {
          "output_type": "stream",
          "text": [
            "\n",
            "  0%|          | 0/391 [00:00<?, ?it/s]"
          ],
          "name": "stderr"
        },
        {
          "output_type": "stream",
          "text": [
            "Test set: Epoch : 1/200 Average loss: 1.3412, Test Accuracy: 50.02\n",
            "EPOCH: 2\n"
          ],
          "name": "stdout"
        },
        {
          "output_type": "stream",
          "text": [
            "Loss=1.6026087999343872 Batch_id=390 Train Accuracy=44.27: 100%|██████████| 391/391 [00:26<00:00, 14.53it/s]"
          ],
          "name": "stderr"
        },
        {
          "output_type": "stream",
          "text": [
            "Train set: Epoch : 2/200 Average loss: 0.0000, Train Accuracy: 44.27\n"
          ],
          "name": "stdout"
        },
        {
          "output_type": "stream",
          "text": [
            "\n",
            "  0%|          | 0/391 [00:00<?, ?it/s]"
          ],
          "name": "stderr"
        },
        {
          "output_type": "stream",
          "text": [
            "Test set: Epoch : 2/200 Average loss: 1.2487, Test Accuracy: 54.32\n",
            "EPOCH: 3\n"
          ],
          "name": "stdout"
        },
        {
          "output_type": "stream",
          "text": [
            "Loss=1.5482739210128784 Batch_id=390 Train Accuracy=47.42: 100%|██████████| 391/391 [00:26<00:00, 14.50it/s]"
          ],
          "name": "stderr"
        },
        {
          "output_type": "stream",
          "text": [
            "Train set: Epoch : 3/200 Average loss: 0.0000, Train Accuracy: 47.42\n"
          ],
          "name": "stdout"
        },
        {
          "output_type": "stream",
          "text": [
            "\n",
            "  0%|          | 0/391 [00:00<?, ?it/s]"
          ],
          "name": "stderr"
        },
        {
          "output_type": "stream",
          "text": [
            "Test set: Epoch : 3/200 Average loss: 1.1254, Test Accuracy: 59.6\n",
            "EPOCH: 4\n"
          ],
          "name": "stdout"
        },
        {
          "output_type": "stream",
          "text": [
            "Loss=1.480987310409546 Batch_id=390 Train Accuracy=50.08: 100%|██████████| 391/391 [00:26<00:00, 14.50it/s]"
          ],
          "name": "stderr"
        },
        {
          "output_type": "stream",
          "text": [
            "Train set: Epoch : 4/200 Average loss: 0.0000, Train Accuracy: 50.08\n"
          ],
          "name": "stdout"
        },
        {
          "output_type": "stream",
          "text": [
            "\n",
            "  0%|          | 0/391 [00:00<?, ?it/s]"
          ],
          "name": "stderr"
        },
        {
          "output_type": "stream",
          "text": [
            "Test set: Epoch : 4/200 Average loss: 1.1003, Test Accuracy: 61.27\n",
            "EPOCH: 5\n"
          ],
          "name": "stdout"
        },
        {
          "output_type": "stream",
          "text": [
            "Loss=1.2868635654449463 Batch_id=390 Train Accuracy=52.33: 100%|██████████| 391/391 [00:27<00:00, 14.46it/s]"
          ],
          "name": "stderr"
        },
        {
          "output_type": "stream",
          "text": [
            "Train set: Epoch : 5/200 Average loss: 0.0000, Train Accuracy: 52.33\n"
          ],
          "name": "stdout"
        },
        {
          "output_type": "stream",
          "text": [
            "\n",
            "  0%|          | 0/391 [00:00<?, ?it/s]"
          ],
          "name": "stderr"
        },
        {
          "output_type": "stream",
          "text": [
            "Test set: Epoch : 5/200 Average loss: 1.0236, Test Accuracy: 63.06\n",
            "EPOCH: 6\n"
          ],
          "name": "stdout"
        },
        {
          "output_type": "stream",
          "text": [
            "Loss=1.3198801279067993 Batch_id=390 Train Accuracy=54.10: 100%|██████████| 391/391 [00:26<00:00, 14.51it/s]"
          ],
          "name": "stderr"
        },
        {
          "output_type": "stream",
          "text": [
            "Train set: Epoch : 6/200 Average loss: 0.0000, Train Accuracy: 54.1\n"
          ],
          "name": "stdout"
        },
        {
          "output_type": "stream",
          "text": [
            "\n",
            "  0%|          | 0/391 [00:00<?, ?it/s]"
          ],
          "name": "stderr"
        },
        {
          "output_type": "stream",
          "text": [
            "Test set: Epoch : 6/200 Average loss: 1.0390, Test Accuracy: 63.33\n",
            "EPOCH: 7\n"
          ],
          "name": "stdout"
        },
        {
          "output_type": "stream",
          "text": [
            "Loss=1.3324790000915527 Batch_id=390 Train Accuracy=55.15: 100%|██████████| 391/391 [00:27<00:00, 14.47it/s]"
          ],
          "name": "stderr"
        },
        {
          "output_type": "stream",
          "text": [
            "Train set: Epoch : 7/200 Average loss: 0.0000, Train Accuracy: 55.15\n"
          ],
          "name": "stdout"
        },
        {
          "output_type": "stream",
          "text": [
            "\n",
            "  0%|          | 0/391 [00:00<?, ?it/s]"
          ],
          "name": "stderr"
        },
        {
          "output_type": "stream",
          "text": [
            "Test set: Epoch : 7/200 Average loss: 0.9511, Test Accuracy: 66.44\n",
            "EPOCH: 8\n"
          ],
          "name": "stdout"
        },
        {
          "output_type": "stream",
          "text": [
            "Loss=1.1553387641906738 Batch_id=390 Train Accuracy=56.34: 100%|██████████| 391/391 [00:26<00:00, 14.48it/s]"
          ],
          "name": "stderr"
        },
        {
          "output_type": "stream",
          "text": [
            "Train set: Epoch : 8/200 Average loss: 0.0000, Train Accuracy: 56.34\n"
          ],
          "name": "stdout"
        },
        {
          "output_type": "stream",
          "text": [
            "\n",
            "  0%|          | 0/391 [00:00<?, ?it/s]"
          ],
          "name": "stderr"
        },
        {
          "output_type": "stream",
          "text": [
            "Test set: Epoch : 8/200 Average loss: 0.9238, Test Accuracy: 67.75\n",
            "EPOCH: 9\n"
          ],
          "name": "stdout"
        },
        {
          "output_type": "stream",
          "text": [
            "Loss=1.0821198225021362 Batch_id=390 Train Accuracy=57.47: 100%|██████████| 391/391 [00:26<00:00, 14.52it/s]"
          ],
          "name": "stderr"
        },
        {
          "output_type": "stream",
          "text": [
            "Train set: Epoch : 9/200 Average loss: 0.0000, Train Accuracy: 57.47\n"
          ],
          "name": "stdout"
        },
        {
          "output_type": "stream",
          "text": [
            "\n",
            "  0%|          | 0/391 [00:00<?, ?it/s]"
          ],
          "name": "stderr"
        },
        {
          "output_type": "stream",
          "text": [
            "Test set: Epoch : 9/200 Average loss: 0.8695, Test Accuracy: 69.6\n",
            "EPOCH: 10\n"
          ],
          "name": "stdout"
        },
        {
          "output_type": "stream",
          "text": [
            "Loss=1.3476728200912476 Batch_id=390 Train Accuracy=58.37: 100%|██████████| 391/391 [00:27<00:00, 14.44it/s]"
          ],
          "name": "stderr"
        },
        {
          "output_type": "stream",
          "text": [
            "Train set: Epoch : 10/200 Average loss: 0.0000, Train Accuracy: 58.37\n"
          ],
          "name": "stdout"
        },
        {
          "output_type": "stream",
          "text": [
            "\n",
            "  0%|          | 0/391 [00:00<?, ?it/s]"
          ],
          "name": "stderr"
        },
        {
          "output_type": "stream",
          "text": [
            "Test set: Epoch : 10/200 Average loss: 0.8708, Test Accuracy: 69.89\n",
            "EPOCH: 11\n"
          ],
          "name": "stdout"
        },
        {
          "output_type": "stream",
          "text": [
            "Loss=1.369718074798584 Batch_id=390 Train Accuracy=58.81: 100%|██████████| 391/391 [00:27<00:00, 14.38it/s]"
          ],
          "name": "stderr"
        },
        {
          "output_type": "stream",
          "text": [
            "Train set: Epoch : 11/200 Average loss: 0.0000, Train Accuracy: 58.81\n"
          ],
          "name": "stdout"
        },
        {
          "output_type": "stream",
          "text": [
            "\n",
            "  0%|          | 0/391 [00:00<?, ?it/s]"
          ],
          "name": "stderr"
        },
        {
          "output_type": "stream",
          "text": [
            "Test set: Epoch : 11/200 Average loss: 0.8485, Test Accuracy: 70.35\n",
            "EPOCH: 12\n"
          ],
          "name": "stdout"
        },
        {
          "output_type": "stream",
          "text": [
            "Loss=1.2050994634628296 Batch_id=390 Train Accuracy=59.61: 100%|██████████| 391/391 [00:27<00:00, 14.47it/s]"
          ],
          "name": "stderr"
        },
        {
          "output_type": "stream",
          "text": [
            "Train set: Epoch : 12/200 Average loss: 0.0000, Train Accuracy: 59.61\n"
          ],
          "name": "stdout"
        },
        {
          "output_type": "stream",
          "text": [
            "\n",
            "  0%|          | 0/391 [00:00<?, ?it/s]"
          ],
          "name": "stderr"
        },
        {
          "output_type": "stream",
          "text": [
            "Test set: Epoch : 12/200 Average loss: 0.8472, Test Accuracy: 70.48\n",
            "EPOCH: 13\n"
          ],
          "name": "stdout"
        },
        {
          "output_type": "stream",
          "text": [
            "Loss=1.0370739698410034 Batch_id=390 Train Accuracy=60.30: 100%|██████████| 391/391 [00:27<00:00, 14.48it/s]"
          ],
          "name": "stderr"
        },
        {
          "output_type": "stream",
          "text": [
            "Train set: Epoch : 13/200 Average loss: 0.0000, Train Accuracy: 60.3\n"
          ],
          "name": "stdout"
        },
        {
          "output_type": "stream",
          "text": [
            "\n",
            "  0%|          | 0/391 [00:00<?, ?it/s]"
          ],
          "name": "stderr"
        },
        {
          "output_type": "stream",
          "text": [
            "Test set: Epoch : 13/200 Average loss: 0.7891, Test Accuracy: 71.91\n",
            "EPOCH: 14\n"
          ],
          "name": "stdout"
        },
        {
          "output_type": "stream",
          "text": [
            "Loss=1.195123553276062 Batch_id=390 Train Accuracy=61.20: 100%|██████████| 391/391 [00:26<00:00, 14.48it/s]"
          ],
          "name": "stderr"
        },
        {
          "output_type": "stream",
          "text": [
            "Train set: Epoch : 14/200 Average loss: 0.0000, Train Accuracy: 61.2\n"
          ],
          "name": "stdout"
        },
        {
          "output_type": "stream",
          "text": [
            "\n",
            "  0%|          | 0/391 [00:00<?, ?it/s]"
          ],
          "name": "stderr"
        },
        {
          "output_type": "stream",
          "text": [
            "Test set: Epoch : 14/200 Average loss: 0.8046, Test Accuracy: 71.47\n",
            "EPOCH: 15\n"
          ],
          "name": "stdout"
        },
        {
          "output_type": "stream",
          "text": [
            "Loss=1.0913188457489014 Batch_id=390 Train Accuracy=61.53: 100%|██████████| 391/391 [00:27<00:00, 14.43it/s]"
          ],
          "name": "stderr"
        },
        {
          "output_type": "stream",
          "text": [
            "Train set: Epoch : 15/200 Average loss: 0.0000, Train Accuracy: 61.53\n"
          ],
          "name": "stdout"
        },
        {
          "output_type": "stream",
          "text": [
            "\n",
            "  0%|          | 0/391 [00:00<?, ?it/s]"
          ],
          "name": "stderr"
        },
        {
          "output_type": "stream",
          "text": [
            "Test set: Epoch : 15/200 Average loss: 0.7857, Test Accuracy: 72.85\n",
            "EPOCH: 16\n"
          ],
          "name": "stdout"
        },
        {
          "output_type": "stream",
          "text": [
            "Loss=0.9470987915992737 Batch_id=390 Train Accuracy=62.23: 100%|██████████| 391/391 [00:27<00:00, 14.46it/s]"
          ],
          "name": "stderr"
        },
        {
          "output_type": "stream",
          "text": [
            "Train set: Epoch : 16/200 Average loss: 0.0000, Train Accuracy: 62.23\n"
          ],
          "name": "stdout"
        },
        {
          "output_type": "stream",
          "text": [
            "\n",
            "  0%|          | 0/391 [00:00<?, ?it/s]"
          ],
          "name": "stderr"
        },
        {
          "output_type": "stream",
          "text": [
            "Test set: Epoch : 16/200 Average loss: 0.7735, Test Accuracy: 72.86\n",
            "EPOCH: 17\n"
          ],
          "name": "stdout"
        },
        {
          "output_type": "stream",
          "text": [
            "Loss=0.8659356832504272 Batch_id=390 Train Accuracy=62.60: 100%|██████████| 391/391 [00:27<00:00, 14.44it/s]"
          ],
          "name": "stderr"
        },
        {
          "output_type": "stream",
          "text": [
            "Train set: Epoch : 17/200 Average loss: 0.0000, Train Accuracy: 62.6\n"
          ],
          "name": "stdout"
        },
        {
          "output_type": "stream",
          "text": [
            "\n",
            "  0%|          | 0/391 [00:00<?, ?it/s]"
          ],
          "name": "stderr"
        },
        {
          "output_type": "stream",
          "text": [
            "Test set: Epoch : 17/200 Average loss: 0.7472, Test Accuracy: 74.07\n",
            "EPOCH: 18\n"
          ],
          "name": "stdout"
        },
        {
          "output_type": "stream",
          "text": [
            "Loss=1.180846929550171 Batch_id=390 Train Accuracy=62.63: 100%|██████████| 391/391 [00:26<00:00, 14.50it/s]"
          ],
          "name": "stderr"
        },
        {
          "output_type": "stream",
          "text": [
            "Train set: Epoch : 18/200 Average loss: 0.0000, Train Accuracy: 62.63\n"
          ],
          "name": "stdout"
        },
        {
          "output_type": "stream",
          "text": [
            "\n",
            "  0%|          | 0/391 [00:00<?, ?it/s]"
          ],
          "name": "stderr"
        },
        {
          "output_type": "stream",
          "text": [
            "Test set: Epoch : 18/200 Average loss: 0.7399, Test Accuracy: 74.42\n",
            "EPOCH: 19\n"
          ],
          "name": "stdout"
        },
        {
          "output_type": "stream",
          "text": [
            "Loss=1.1421313285827637 Batch_id=390 Train Accuracy=62.81: 100%|██████████| 391/391 [00:27<00:00, 14.42it/s]"
          ],
          "name": "stderr"
        },
        {
          "output_type": "stream",
          "text": [
            "Train set: Epoch : 19/200 Average loss: 0.0000, Train Accuracy: 62.81\n"
          ],
          "name": "stdout"
        },
        {
          "output_type": "stream",
          "text": [
            "\n",
            "  0%|          | 0/391 [00:00<?, ?it/s]"
          ],
          "name": "stderr"
        },
        {
          "output_type": "stream",
          "text": [
            "Test set: Epoch : 19/200 Average loss: 0.7537, Test Accuracy: 74.05\n",
            "EPOCH: 20\n"
          ],
          "name": "stdout"
        },
        {
          "output_type": "stream",
          "text": [
            "Loss=1.1965062618255615 Batch_id=390 Train Accuracy=63.43: 100%|██████████| 391/391 [00:27<00:00, 14.42it/s]"
          ],
          "name": "stderr"
        },
        {
          "output_type": "stream",
          "text": [
            "Train set: Epoch : 20/200 Average loss: 0.0000, Train Accuracy: 63.43\n"
          ],
          "name": "stdout"
        },
        {
          "output_type": "stream",
          "text": [
            "\n",
            "  0%|          | 0/391 [00:00<?, ?it/s]"
          ],
          "name": "stderr"
        },
        {
          "output_type": "stream",
          "text": [
            "Test set: Epoch : 20/200 Average loss: 0.7329, Test Accuracy: 74.41\n",
            "EPOCH: 21\n"
          ],
          "name": "stdout"
        },
        {
          "output_type": "stream",
          "text": [
            "Loss=1.0548969507217407 Batch_id=390 Train Accuracy=63.92: 100%|██████████| 391/391 [00:26<00:00, 14.50it/s]"
          ],
          "name": "stderr"
        },
        {
          "output_type": "stream",
          "text": [
            "Train set: Epoch : 21/200 Average loss: 0.0000, Train Accuracy: 63.92\n"
          ],
          "name": "stdout"
        },
        {
          "output_type": "stream",
          "text": [
            "\n",
            "  0%|          | 0/391 [00:00<?, ?it/s]"
          ],
          "name": "stderr"
        },
        {
          "output_type": "stream",
          "text": [
            "Test set: Epoch : 21/200 Average loss: 0.7344, Test Accuracy: 74.41\n",
            "EPOCH: 22\n"
          ],
          "name": "stdout"
        },
        {
          "output_type": "stream",
          "text": [
            "Loss=1.3179619312286377 Batch_id=390 Train Accuracy=64.04: 100%|██████████| 391/391 [00:27<00:00, 14.45it/s]"
          ],
          "name": "stderr"
        },
        {
          "output_type": "stream",
          "text": [
            "Train set: Epoch : 22/200 Average loss: 0.0000, Train Accuracy: 64.04\n"
          ],
          "name": "stdout"
        },
        {
          "output_type": "stream",
          "text": [
            "\n",
            "  0%|          | 0/391 [00:00<?, ?it/s]"
          ],
          "name": "stderr"
        },
        {
          "output_type": "stream",
          "text": [
            "Test set: Epoch : 22/200 Average loss: 0.7376, Test Accuracy: 74.19\n",
            "EPOCH: 23\n"
          ],
          "name": "stdout"
        },
        {
          "output_type": "stream",
          "text": [
            "Loss=0.9178109169006348 Batch_id=390 Train Accuracy=64.62: 100%|██████████| 391/391 [00:27<00:00, 14.33it/s]"
          ],
          "name": "stderr"
        },
        {
          "output_type": "stream",
          "text": [
            "Train set: Epoch : 23/200 Average loss: 0.0000, Train Accuracy: 64.62\n"
          ],
          "name": "stdout"
        },
        {
          "output_type": "stream",
          "text": [
            "\n",
            "  0%|          | 0/391 [00:00<?, ?it/s]"
          ],
          "name": "stderr"
        },
        {
          "output_type": "stream",
          "text": [
            "Test set: Epoch : 23/200 Average loss: 0.7166, Test Accuracy: 75.7\n",
            "EPOCH: 24\n"
          ],
          "name": "stdout"
        },
        {
          "output_type": "stream",
          "text": [
            "Loss=1.1395318508148193 Batch_id=390 Train Accuracy=64.89: 100%|██████████| 391/391 [00:27<00:00, 14.09it/s]"
          ],
          "name": "stderr"
        },
        {
          "output_type": "stream",
          "text": [
            "Train set: Epoch : 24/200 Average loss: 0.0000, Train Accuracy: 64.89\n"
          ],
          "name": "stdout"
        },
        {
          "output_type": "stream",
          "text": [
            "\n",
            "  0%|          | 0/391 [00:00<?, ?it/s]"
          ],
          "name": "stderr"
        },
        {
          "output_type": "stream",
          "text": [
            "Test set: Epoch : 24/200 Average loss: 0.6994, Test Accuracy: 75.81\n",
            "EPOCH: 25\n"
          ],
          "name": "stdout"
        },
        {
          "output_type": "stream",
          "text": [
            "Loss=1.0161151885986328 Batch_id=390 Train Accuracy=65.41: 100%|██████████| 391/391 [00:27<00:00, 14.40it/s]"
          ],
          "name": "stderr"
        },
        {
          "output_type": "stream",
          "text": [
            "Train set: Epoch : 25/200 Average loss: 0.0000, Train Accuracy: 65.41\n"
          ],
          "name": "stdout"
        },
        {
          "output_type": "stream",
          "text": [
            "\n",
            "  0%|          | 0/391 [00:00<?, ?it/s]"
          ],
          "name": "stderr"
        },
        {
          "output_type": "stream",
          "text": [
            "Test set: Epoch : 25/200 Average loss: 0.6975, Test Accuracy: 75.79\n",
            "EPOCH: 26\n"
          ],
          "name": "stdout"
        },
        {
          "output_type": "stream",
          "text": [
            "Loss=1.0800731182098389 Batch_id=390 Train Accuracy=65.49: 100%|██████████| 391/391 [00:27<00:00, 14.41it/s]"
          ],
          "name": "stderr"
        },
        {
          "output_type": "stream",
          "text": [
            "Train set: Epoch : 26/200 Average loss: 0.0000, Train Accuracy: 65.49\n"
          ],
          "name": "stdout"
        },
        {
          "output_type": "stream",
          "text": [
            "\n",
            "  0%|          | 0/391 [00:00<?, ?it/s]"
          ],
          "name": "stderr"
        },
        {
          "output_type": "stream",
          "text": [
            "Test set: Epoch : 26/200 Average loss: 0.6851, Test Accuracy: 76.31\n",
            "EPOCH: 27\n"
          ],
          "name": "stdout"
        },
        {
          "output_type": "stream",
          "text": [
            "Loss=0.8982294797897339 Batch_id=390 Train Accuracy=65.80: 100%|██████████| 391/391 [00:27<00:00, 14.47it/s]"
          ],
          "name": "stderr"
        },
        {
          "output_type": "stream",
          "text": [
            "Train set: Epoch : 27/200 Average loss: 0.0000, Train Accuracy: 65.8\n"
          ],
          "name": "stdout"
        },
        {
          "output_type": "stream",
          "text": [
            "\n",
            "  0%|          | 0/391 [00:00<?, ?it/s]"
          ],
          "name": "stderr"
        },
        {
          "output_type": "stream",
          "text": [
            "Test set: Epoch : 27/200 Average loss: 0.6869, Test Accuracy: 76.03\n",
            "EPOCH: 28\n"
          ],
          "name": "stdout"
        },
        {
          "output_type": "stream",
          "text": [
            "Loss=0.7689913511276245 Batch_id=390 Train Accuracy=65.94: 100%|██████████| 391/391 [00:27<00:00, 14.35it/s]"
          ],
          "name": "stderr"
        },
        {
          "output_type": "stream",
          "text": [
            "Train set: Epoch : 28/200 Average loss: 0.0000, Train Accuracy: 65.94\n"
          ],
          "name": "stdout"
        },
        {
          "output_type": "stream",
          "text": [
            "\n",
            "  0%|          | 0/391 [00:00<?, ?it/s]"
          ],
          "name": "stderr"
        },
        {
          "output_type": "stream",
          "text": [
            "Test set: Epoch : 28/200 Average loss: 0.6819, Test Accuracy: 76.55\n",
            "EPOCH: 29\n"
          ],
          "name": "stdout"
        },
        {
          "output_type": "stream",
          "text": [
            "Loss=0.7727620005607605 Batch_id=390 Train Accuracy=66.51: 100%|██████████| 391/391 [00:27<00:00, 14.47it/s]"
          ],
          "name": "stderr"
        },
        {
          "output_type": "stream",
          "text": [
            "Train set: Epoch : 29/200 Average loss: 0.0000, Train Accuracy: 66.51\n"
          ],
          "name": "stdout"
        },
        {
          "output_type": "stream",
          "text": [
            "\n",
            "  0%|          | 0/391 [00:00<?, ?it/s]"
          ],
          "name": "stderr"
        },
        {
          "output_type": "stream",
          "text": [
            "Test set: Epoch : 29/200 Average loss: 0.6784, Test Accuracy: 76.76\n",
            "EPOCH: 30\n"
          ],
          "name": "stdout"
        },
        {
          "output_type": "stream",
          "text": [
            "Loss=0.9380818605422974 Batch_id=390 Train Accuracy=66.52: 100%|██████████| 391/391 [00:27<00:00, 14.42it/s]"
          ],
          "name": "stderr"
        },
        {
          "output_type": "stream",
          "text": [
            "Train set: Epoch : 30/200 Average loss: 0.0000, Train Accuracy: 66.52\n"
          ],
          "name": "stdout"
        },
        {
          "output_type": "stream",
          "text": [
            "\n",
            "  0%|          | 0/391 [00:00<?, ?it/s]"
          ],
          "name": "stderr"
        },
        {
          "output_type": "stream",
          "text": [
            "Test set: Epoch : 30/200 Average loss: 0.6533, Test Accuracy: 77.3\n",
            "EPOCH: 31\n"
          ],
          "name": "stdout"
        },
        {
          "output_type": "stream",
          "text": [
            "Loss=1.0300986766815186 Batch_id=390 Train Accuracy=66.62: 100%|██████████| 391/391 [00:27<00:00, 14.36it/s]"
          ],
          "name": "stderr"
        },
        {
          "output_type": "stream",
          "text": [
            "Train set: Epoch : 31/200 Average loss: 0.0000, Train Accuracy: 66.62\n"
          ],
          "name": "stdout"
        },
        {
          "output_type": "stream",
          "text": [
            "\n",
            "  0%|          | 0/391 [00:00<?, ?it/s]"
          ],
          "name": "stderr"
        },
        {
          "output_type": "stream",
          "text": [
            "Test set: Epoch : 31/200 Average loss: 0.6656, Test Accuracy: 77.22\n",
            "EPOCH: 32\n"
          ],
          "name": "stdout"
        },
        {
          "output_type": "stream",
          "text": [
            "Loss=1.0509026050567627 Batch_id=390 Train Accuracy=66.45: 100%|██████████| 391/391 [00:27<00:00, 14.44it/s]"
          ],
          "name": "stderr"
        },
        {
          "output_type": "stream",
          "text": [
            "Train set: Epoch : 32/200 Average loss: 0.0000, Train Accuracy: 66.45\n"
          ],
          "name": "stdout"
        },
        {
          "output_type": "stream",
          "text": [
            "\n",
            "  0%|          | 0/391 [00:00<?, ?it/s]"
          ],
          "name": "stderr"
        },
        {
          "output_type": "stream",
          "text": [
            "Test set: Epoch : 32/200 Average loss: 0.6467, Test Accuracy: 77.36\n",
            "EPOCH: 33\n"
          ],
          "name": "stdout"
        },
        {
          "output_type": "stream",
          "text": [
            "Loss=1.0208786725997925 Batch_id=390 Train Accuracy=66.97: 100%|██████████| 391/391 [00:27<00:00, 14.42it/s]"
          ],
          "name": "stderr"
        },
        {
          "output_type": "stream",
          "text": [
            "Train set: Epoch : 33/200 Average loss: 0.0000, Train Accuracy: 66.97\n"
          ],
          "name": "stdout"
        },
        {
          "output_type": "stream",
          "text": [
            "\n",
            "  0%|          | 0/391 [00:00<?, ?it/s]"
          ],
          "name": "stderr"
        },
        {
          "output_type": "stream",
          "text": [
            "Test set: Epoch : 33/200 Average loss: 0.6703, Test Accuracy: 77.07\n",
            "EPOCH: 34\n"
          ],
          "name": "stdout"
        },
        {
          "output_type": "stream",
          "text": [
            "Loss=0.9015843272209167 Batch_id=390 Train Accuracy=66.95: 100%|██████████| 391/391 [00:27<00:00, 14.34it/s]"
          ],
          "name": "stderr"
        },
        {
          "output_type": "stream",
          "text": [
            "Train set: Epoch : 34/200 Average loss: 0.0000, Train Accuracy: 66.95\n"
          ],
          "name": "stdout"
        },
        {
          "output_type": "stream",
          "text": [
            "\n",
            "  0%|          | 0/391 [00:00<?, ?it/s]"
          ],
          "name": "stderr"
        },
        {
          "output_type": "stream",
          "text": [
            "Test set: Epoch : 34/200 Average loss: 0.6254, Test Accuracy: 78.45\n",
            "EPOCH: 35\n"
          ],
          "name": "stdout"
        },
        {
          "output_type": "stream",
          "text": [
            "Loss=0.909392774105072 Batch_id=390 Train Accuracy=67.33: 100%|██████████| 391/391 [00:27<00:00, 14.35it/s]"
          ],
          "name": "stderr"
        },
        {
          "output_type": "stream",
          "text": [
            "Train set: Epoch : 35/200 Average loss: 0.0000, Train Accuracy: 67.33\n"
          ],
          "name": "stdout"
        },
        {
          "output_type": "stream",
          "text": [
            "\n",
            "  0%|          | 0/391 [00:00<?, ?it/s]"
          ],
          "name": "stderr"
        },
        {
          "output_type": "stream",
          "text": [
            "Test set: Epoch : 35/200 Average loss: 0.6339, Test Accuracy: 77.62\n",
            "EPOCH: 36\n"
          ],
          "name": "stdout"
        },
        {
          "output_type": "stream",
          "text": [
            "Loss=1.0863538980484009 Batch_id=390 Train Accuracy=67.75: 100%|██████████| 391/391 [00:27<00:00, 14.47it/s]"
          ],
          "name": "stderr"
        },
        {
          "output_type": "stream",
          "text": [
            "Train set: Epoch : 36/200 Average loss: 0.0000, Train Accuracy: 67.75\n"
          ],
          "name": "stdout"
        },
        {
          "output_type": "stream",
          "text": [
            "\n",
            "  0%|          | 0/391 [00:00<?, ?it/s]"
          ],
          "name": "stderr"
        },
        {
          "output_type": "stream",
          "text": [
            "Test set: Epoch : 36/200 Average loss: 0.6278, Test Accuracy: 78.3\n",
            "EPOCH: 37\n"
          ],
          "name": "stdout"
        },
        {
          "output_type": "stream",
          "text": [
            "Loss=0.8836206197738647 Batch_id=390 Train Accuracy=68.11: 100%|██████████| 391/391 [00:27<00:00, 14.44it/s]"
          ],
          "name": "stderr"
        },
        {
          "output_type": "stream",
          "text": [
            "Train set: Epoch : 37/200 Average loss: 0.0000, Train Accuracy: 68.11\n"
          ],
          "name": "stdout"
        },
        {
          "output_type": "stream",
          "text": [
            "\n",
            "  0%|          | 0/391 [00:00<?, ?it/s]"
          ],
          "name": "stderr"
        },
        {
          "output_type": "stream",
          "text": [
            "Test set: Epoch : 37/200 Average loss: 0.6224, Test Accuracy: 78.39\n",
            "EPOCH: 38\n"
          ],
          "name": "stdout"
        },
        {
          "output_type": "stream",
          "text": [
            "Loss=1.016125202178955 Batch_id=390 Train Accuracy=67.84: 100%|██████████| 391/391 [00:27<00:00, 14.44it/s]"
          ],
          "name": "stderr"
        },
        {
          "output_type": "stream",
          "text": [
            "Train set: Epoch : 38/200 Average loss: 0.0000, Train Accuracy: 67.84\n"
          ],
          "name": "stdout"
        },
        {
          "output_type": "stream",
          "text": [
            "\n",
            "  0%|          | 0/391 [00:00<?, ?it/s]"
          ],
          "name": "stderr"
        },
        {
          "output_type": "stream",
          "text": [
            "Test set: Epoch : 38/200 Average loss: 0.6273, Test Accuracy: 77.95\n",
            "EPOCH: 39\n"
          ],
          "name": "stdout"
        },
        {
          "output_type": "stream",
          "text": [
            "Loss=1.1722266674041748 Batch_id=390 Train Accuracy=68.52: 100%|██████████| 391/391 [00:27<00:00, 14.40it/s]"
          ],
          "name": "stderr"
        },
        {
          "output_type": "stream",
          "text": [
            "Train set: Epoch : 39/200 Average loss: 0.0000, Train Accuracy: 68.52\n"
          ],
          "name": "stdout"
        },
        {
          "output_type": "stream",
          "text": [
            "\n",
            "  0%|          | 0/391 [00:00<?, ?it/s]"
          ],
          "name": "stderr"
        },
        {
          "output_type": "stream",
          "text": [
            "Test set: Epoch : 39/200 Average loss: 0.6064, Test Accuracy: 78.7\n",
            "EPOCH: 40\n"
          ],
          "name": "stdout"
        },
        {
          "output_type": "stream",
          "text": [
            "Loss=0.8832035660743713 Batch_id=390 Train Accuracy=68.48: 100%|██████████| 391/391 [00:27<00:00, 14.45it/s]"
          ],
          "name": "stderr"
        },
        {
          "output_type": "stream",
          "text": [
            "Train set: Epoch : 40/200 Average loss: 0.0000, Train Accuracy: 68.48\n"
          ],
          "name": "stdout"
        },
        {
          "output_type": "stream",
          "text": [
            "\n",
            "  0%|          | 0/391 [00:00<?, ?it/s]"
          ],
          "name": "stderr"
        },
        {
          "output_type": "stream",
          "text": [
            "Test set: Epoch : 40/200 Average loss: 0.6085, Test Accuracy: 78.56\n",
            "EPOCH: 41\n"
          ],
          "name": "stdout"
        },
        {
          "output_type": "stream",
          "text": [
            "Loss=0.9106919765472412 Batch_id=390 Train Accuracy=68.64: 100%|██████████| 391/391 [00:27<00:00, 14.38it/s]"
          ],
          "name": "stderr"
        },
        {
          "output_type": "stream",
          "text": [
            "Train set: Epoch : 41/200 Average loss: 0.0000, Train Accuracy: 68.64\n"
          ],
          "name": "stdout"
        },
        {
          "output_type": "stream",
          "text": [
            "\n",
            "  0%|          | 0/391 [00:00<?, ?it/s]"
          ],
          "name": "stderr"
        },
        {
          "output_type": "stream",
          "text": [
            "Test set: Epoch : 41/200 Average loss: 0.5994, Test Accuracy: 79.07\n",
            "EPOCH: 42\n"
          ],
          "name": "stdout"
        },
        {
          "output_type": "stream",
          "text": [
            "Loss=0.7254137396812439 Batch_id=390 Train Accuracy=68.62: 100%|██████████| 391/391 [00:27<00:00, 14.43it/s]"
          ],
          "name": "stderr"
        },
        {
          "output_type": "stream",
          "text": [
            "Train set: Epoch : 42/200 Average loss: 0.0000, Train Accuracy: 68.62\n"
          ],
          "name": "stdout"
        },
        {
          "output_type": "stream",
          "text": [
            "\n",
            "  0%|          | 0/391 [00:00<?, ?it/s]"
          ],
          "name": "stderr"
        },
        {
          "output_type": "stream",
          "text": [
            "Test set: Epoch : 42/200 Average loss: 0.6114, Test Accuracy: 78.81\n",
            "EPOCH: 43\n"
          ],
          "name": "stdout"
        },
        {
          "output_type": "stream",
          "text": [
            "Loss=0.7124547958374023 Batch_id=390 Train Accuracy=68.98: 100%|██████████| 391/391 [00:27<00:00, 14.42it/s]"
          ],
          "name": "stderr"
        },
        {
          "output_type": "stream",
          "text": [
            "Train set: Epoch : 43/200 Average loss: 0.0000, Train Accuracy: 68.98\n"
          ],
          "name": "stdout"
        },
        {
          "output_type": "stream",
          "text": [
            "\n",
            "  0%|          | 0/391 [00:00<?, ?it/s]"
          ],
          "name": "stderr"
        },
        {
          "output_type": "stream",
          "text": [
            "Test set: Epoch : 43/200 Average loss: 0.6009, Test Accuracy: 79.36\n",
            "EPOCH: 44\n"
          ],
          "name": "stdout"
        },
        {
          "output_type": "stream",
          "text": [
            "Loss=0.8089547157287598 Batch_id=390 Train Accuracy=68.90: 100%|██████████| 391/391 [00:27<00:00, 14.42it/s]"
          ],
          "name": "stderr"
        },
        {
          "output_type": "stream",
          "text": [
            "Train set: Epoch : 44/200 Average loss: 0.0000, Train Accuracy: 68.9\n"
          ],
          "name": "stdout"
        },
        {
          "output_type": "stream",
          "text": [
            "\n",
            "  0%|          | 0/391 [00:00<?, ?it/s]"
          ],
          "name": "stderr"
        },
        {
          "output_type": "stream",
          "text": [
            "Test set: Epoch : 44/200 Average loss: 0.6126, Test Accuracy: 78.44\n",
            "EPOCH: 45\n"
          ],
          "name": "stdout"
        },
        {
          "output_type": "stream",
          "text": [
            "Loss=0.8324240446090698 Batch_id=390 Train Accuracy=69.09: 100%|██████████| 391/391 [00:27<00:00, 14.42it/s]"
          ],
          "name": "stderr"
        },
        {
          "output_type": "stream",
          "text": [
            "Train set: Epoch : 45/200 Average loss: 0.0000, Train Accuracy: 69.09\n"
          ],
          "name": "stdout"
        },
        {
          "output_type": "stream",
          "text": [
            "\n",
            "  0%|          | 0/391 [00:00<?, ?it/s]"
          ],
          "name": "stderr"
        },
        {
          "output_type": "stream",
          "text": [
            "Test set: Epoch : 45/200 Average loss: 0.6084, Test Accuracy: 78.78\n",
            "EPOCH: 46\n"
          ],
          "name": "stdout"
        },
        {
          "output_type": "stream",
          "text": [
            "Loss=1.0171176195144653 Batch_id=390 Train Accuracy=69.59: 100%|██████████| 391/391 [00:27<00:00, 14.46it/s]"
          ],
          "name": "stderr"
        },
        {
          "output_type": "stream",
          "text": [
            "Train set: Epoch : 46/200 Average loss: 0.0000, Train Accuracy: 69.59\n"
          ],
          "name": "stdout"
        },
        {
          "output_type": "stream",
          "text": [
            "\n",
            "  0%|          | 0/391 [00:00<?, ?it/s]"
          ],
          "name": "stderr"
        },
        {
          "output_type": "stream",
          "text": [
            "Test set: Epoch : 46/200 Average loss: 0.5998, Test Accuracy: 79.24\n",
            "EPOCH: 47\n"
          ],
          "name": "stdout"
        },
        {
          "output_type": "stream",
          "text": [
            "Loss=0.6938430070877075 Batch_id=390 Train Accuracy=69.44: 100%|██████████| 391/391 [00:27<00:00, 14.37it/s]"
          ],
          "name": "stderr"
        },
        {
          "output_type": "stream",
          "text": [
            "Train set: Epoch : 47/200 Average loss: 0.0000, Train Accuracy: 69.44\n"
          ],
          "name": "stdout"
        },
        {
          "output_type": "stream",
          "text": [
            "\n",
            "  0%|          | 0/391 [00:00<?, ?it/s]"
          ],
          "name": "stderr"
        },
        {
          "output_type": "stream",
          "text": [
            "Test set: Epoch : 47/200 Average loss: 0.5779, Test Accuracy: 79.7\n",
            "EPOCH: 48\n"
          ],
          "name": "stdout"
        },
        {
          "output_type": "stream",
          "text": [
            "Loss=0.9033679366111755 Batch_id=390 Train Accuracy=69.58: 100%|██████████| 391/391 [00:26<00:00, 14.49it/s]"
          ],
          "name": "stderr"
        },
        {
          "output_type": "stream",
          "text": [
            "Train set: Epoch : 48/200 Average loss: 0.0000, Train Accuracy: 69.58\n"
          ],
          "name": "stdout"
        },
        {
          "output_type": "stream",
          "text": [
            "\n",
            "  0%|          | 0/391 [00:00<?, ?it/s]"
          ],
          "name": "stderr"
        },
        {
          "output_type": "stream",
          "text": [
            "Test set: Epoch : 48/200 Average loss: 0.5935, Test Accuracy: 79.7\n",
            "EPOCH: 49\n"
          ],
          "name": "stdout"
        },
        {
          "output_type": "stream",
          "text": [
            "Loss=0.8297648429870605 Batch_id=390 Train Accuracy=69.71: 100%|██████████| 391/391 [00:27<00:00, 14.31it/s]"
          ],
          "name": "stderr"
        },
        {
          "output_type": "stream",
          "text": [
            "Train set: Epoch : 49/200 Average loss: 0.0000, Train Accuracy: 69.71\n"
          ],
          "name": "stdout"
        },
        {
          "output_type": "stream",
          "text": [
            "\n",
            "  0%|          | 0/391 [00:00<?, ?it/s]"
          ],
          "name": "stderr"
        },
        {
          "output_type": "stream",
          "text": [
            "Test set: Epoch : 49/200 Average loss: 0.5893, Test Accuracy: 79.91\n",
            "EPOCH: 50\n"
          ],
          "name": "stdout"
        },
        {
          "output_type": "stream",
          "text": [
            "Loss=0.787076473236084 Batch_id=390 Train Accuracy=69.84: 100%|██████████| 391/391 [00:27<00:00, 14.22it/s]"
          ],
          "name": "stderr"
        },
        {
          "output_type": "stream",
          "text": [
            "Train set: Epoch : 50/200 Average loss: 0.0000, Train Accuracy: 69.84\n"
          ],
          "name": "stdout"
        },
        {
          "output_type": "stream",
          "text": [
            "\n",
            "  0%|          | 0/391 [00:00<?, ?it/s]"
          ],
          "name": "stderr"
        },
        {
          "output_type": "stream",
          "text": [
            "Test set: Epoch : 50/200 Average loss: 0.5860, Test Accuracy: 79.78\n",
            "EPOCH: 51\n"
          ],
          "name": "stdout"
        },
        {
          "output_type": "stream",
          "text": [
            "Loss=0.7697761654853821 Batch_id=390 Train Accuracy=70.39: 100%|██████████| 391/391 [00:27<00:00, 14.17it/s]"
          ],
          "name": "stderr"
        },
        {
          "output_type": "stream",
          "text": [
            "Train set: Epoch : 51/200 Average loss: 0.0000, Train Accuracy: 70.39\n"
          ],
          "name": "stdout"
        },
        {
          "output_type": "stream",
          "text": [
            "\n",
            "  0%|          | 0/391 [00:00<?, ?it/s]"
          ],
          "name": "stderr"
        },
        {
          "output_type": "stream",
          "text": [
            "Test set: Epoch : 51/200 Average loss: 0.5863, Test Accuracy: 79.48\n",
            "EPOCH: 52\n"
          ],
          "name": "stdout"
        },
        {
          "output_type": "stream",
          "text": [
            "Loss=1.0693285465240479 Batch_id=390 Train Accuracy=70.37: 100%|██████████| 391/391 [00:27<00:00, 14.39it/s]"
          ],
          "name": "stderr"
        },
        {
          "output_type": "stream",
          "text": [
            "Train set: Epoch : 52/200 Average loss: 0.0000, Train Accuracy: 70.37\n"
          ],
          "name": "stdout"
        },
        {
          "output_type": "stream",
          "text": [
            "\n",
            "  0%|          | 0/391 [00:00<?, ?it/s]"
          ],
          "name": "stderr"
        },
        {
          "output_type": "stream",
          "text": [
            "Test set: Epoch : 52/200 Average loss: 0.5632, Test Accuracy: 80.45\n",
            "EPOCH: 53\n"
          ],
          "name": "stdout"
        },
        {
          "output_type": "stream",
          "text": [
            "Loss=1.0197075605392456 Batch_id=390 Train Accuracy=70.45: 100%|██████████| 391/391 [00:27<00:00, 14.36it/s]"
          ],
          "name": "stderr"
        },
        {
          "output_type": "stream",
          "text": [
            "Train set: Epoch : 53/200 Average loss: 0.0000, Train Accuracy: 70.45\n"
          ],
          "name": "stdout"
        },
        {
          "output_type": "stream",
          "text": [
            "\n",
            "  0%|          | 0/391 [00:00<?, ?it/s]"
          ],
          "name": "stderr"
        },
        {
          "output_type": "stream",
          "text": [
            "Test set: Epoch : 53/200 Average loss: 0.5692, Test Accuracy: 79.99\n",
            "EPOCH: 54\n"
          ],
          "name": "stdout"
        },
        {
          "output_type": "stream",
          "text": [
            "Loss=0.9698653817176819 Batch_id=390 Train Accuracy=70.39: 100%|██████████| 391/391 [00:27<00:00, 14.33it/s]"
          ],
          "name": "stderr"
        },
        {
          "output_type": "stream",
          "text": [
            "Train set: Epoch : 54/200 Average loss: 0.0000, Train Accuracy: 70.39\n"
          ],
          "name": "stdout"
        },
        {
          "output_type": "stream",
          "text": [
            "\n",
            "  0%|          | 0/391 [00:00<?, ?it/s]"
          ],
          "name": "stderr"
        },
        {
          "output_type": "stream",
          "text": [
            "Test set: Epoch : 54/200 Average loss: 0.5790, Test Accuracy: 80.11\n",
            "EPOCH: 55\n"
          ],
          "name": "stdout"
        },
        {
          "output_type": "stream",
          "text": [
            "Loss=0.7897462844848633 Batch_id=390 Train Accuracy=70.65: 100%|██████████| 391/391 [00:27<00:00, 14.30it/s]"
          ],
          "name": "stderr"
        },
        {
          "output_type": "stream",
          "text": [
            "Train set: Epoch : 55/200 Average loss: 0.0000, Train Accuracy: 70.65\n"
          ],
          "name": "stdout"
        },
        {
          "output_type": "stream",
          "text": [
            "\n",
            "  0%|          | 0/391 [00:00<?, ?it/s]"
          ],
          "name": "stderr"
        },
        {
          "output_type": "stream",
          "text": [
            "Test set: Epoch : 55/200 Average loss: 0.5598, Test Accuracy: 80.26\n",
            "EPOCH: 56\n"
          ],
          "name": "stdout"
        },
        {
          "output_type": "stream",
          "text": [
            "Loss=0.8100588321685791 Batch_id=390 Train Accuracy=70.90: 100%|██████████| 391/391 [00:27<00:00, 14.27it/s]"
          ],
          "name": "stderr"
        },
        {
          "output_type": "stream",
          "text": [
            "Train set: Epoch : 56/200 Average loss: 0.0000, Train Accuracy: 70.9\n"
          ],
          "name": "stdout"
        },
        {
          "output_type": "stream",
          "text": [
            "\n",
            "  0%|          | 0/391 [00:00<?, ?it/s]"
          ],
          "name": "stderr"
        },
        {
          "output_type": "stream",
          "text": [
            "Test set: Epoch : 56/200 Average loss: 0.5511, Test Accuracy: 80.88\n",
            "EPOCH: 57\n"
          ],
          "name": "stdout"
        },
        {
          "output_type": "stream",
          "text": [
            "Loss=0.7978195548057556 Batch_id=390 Train Accuracy=70.94: 100%|██████████| 391/391 [00:27<00:00, 14.30it/s]"
          ],
          "name": "stderr"
        },
        {
          "output_type": "stream",
          "text": [
            "Train set: Epoch : 57/200 Average loss: 0.0000, Train Accuracy: 70.94\n"
          ],
          "name": "stdout"
        },
        {
          "output_type": "stream",
          "text": [
            "\n",
            "  0%|          | 0/391 [00:00<?, ?it/s]"
          ],
          "name": "stderr"
        },
        {
          "output_type": "stream",
          "text": [
            "Test set: Epoch : 57/200 Average loss: 0.5729, Test Accuracy: 80.05\n",
            "EPOCH: 58\n"
          ],
          "name": "stdout"
        },
        {
          "output_type": "stream",
          "text": [
            "Loss=0.9857110977172852 Batch_id=390 Train Accuracy=70.77: 100%|██████████| 391/391 [00:27<00:00, 14.31it/s]"
          ],
          "name": "stderr"
        },
        {
          "output_type": "stream",
          "text": [
            "Train set: Epoch : 58/200 Average loss: 0.0000, Train Accuracy: 70.77\n"
          ],
          "name": "stdout"
        },
        {
          "output_type": "stream",
          "text": [
            "\n",
            "  0%|          | 0/391 [00:00<?, ?it/s]"
          ],
          "name": "stderr"
        },
        {
          "output_type": "stream",
          "text": [
            "Test set: Epoch : 58/200 Average loss: 0.5724, Test Accuracy: 79.99\n",
            "EPOCH: 59\n"
          ],
          "name": "stdout"
        },
        {
          "output_type": "stream",
          "text": [
            "Loss=0.7870489358901978 Batch_id=390 Train Accuracy=71.18: 100%|██████████| 391/391 [00:27<00:00, 14.24it/s]"
          ],
          "name": "stderr"
        },
        {
          "output_type": "stream",
          "text": [
            "Train set: Epoch : 59/200 Average loss: 0.0000, Train Accuracy: 71.18\n"
          ],
          "name": "stdout"
        },
        {
          "output_type": "stream",
          "text": [
            "\n",
            "  0%|          | 0/391 [00:00<?, ?it/s]"
          ],
          "name": "stderr"
        },
        {
          "output_type": "stream",
          "text": [
            "Test set: Epoch : 59/200 Average loss: 0.5483, Test Accuracy: 81.47\n",
            "EPOCH: 60\n"
          ],
          "name": "stdout"
        },
        {
          "output_type": "stream",
          "text": [
            "Loss=0.856671929359436 Batch_id=390 Train Accuracy=71.20: 100%|██████████| 391/391 [00:27<00:00, 14.29it/s]"
          ],
          "name": "stderr"
        },
        {
          "output_type": "stream",
          "text": [
            "Train set: Epoch : 60/200 Average loss: 0.0000, Train Accuracy: 71.2\n"
          ],
          "name": "stdout"
        },
        {
          "output_type": "stream",
          "text": [
            "\n",
            "  0%|          | 0/391 [00:00<?, ?it/s]"
          ],
          "name": "stderr"
        },
        {
          "output_type": "stream",
          "text": [
            "Test set: Epoch : 60/200 Average loss: 0.5637, Test Accuracy: 80.59\n",
            "EPOCH: 61\n"
          ],
          "name": "stdout"
        },
        {
          "output_type": "stream",
          "text": [
            "Loss=0.870701014995575 Batch_id=390 Train Accuracy=71.01: 100%|██████████| 391/391 [00:27<00:00, 14.30it/s]"
          ],
          "name": "stderr"
        },
        {
          "output_type": "stream",
          "text": [
            "Train set: Epoch : 61/200 Average loss: 0.0000, Train Accuracy: 71.01\n"
          ],
          "name": "stdout"
        },
        {
          "output_type": "stream",
          "text": [
            "\n",
            "  0%|          | 0/391 [00:00<?, ?it/s]"
          ],
          "name": "stderr"
        },
        {
          "output_type": "stream",
          "text": [
            "Test set: Epoch : 61/200 Average loss: 0.5428, Test Accuracy: 81.61\n",
            "EPOCH: 62\n"
          ],
          "name": "stdout"
        },
        {
          "output_type": "stream",
          "text": [
            "Loss=0.7687966227531433 Batch_id=390 Train Accuracy=71.27: 100%|██████████| 391/391 [00:27<00:00, 14.26it/s]"
          ],
          "name": "stderr"
        },
        {
          "output_type": "stream",
          "text": [
            "Train set: Epoch : 62/200 Average loss: 0.0000, Train Accuracy: 71.27\n"
          ],
          "name": "stdout"
        },
        {
          "output_type": "stream",
          "text": [
            "\n",
            "  0%|          | 0/391 [00:00<?, ?it/s]"
          ],
          "name": "stderr"
        },
        {
          "output_type": "stream",
          "text": [
            "Test set: Epoch : 62/200 Average loss: 0.5475, Test Accuracy: 81.11\n",
            "EPOCH: 63\n"
          ],
          "name": "stdout"
        },
        {
          "output_type": "stream",
          "text": [
            "Loss=0.9158913493156433 Batch_id=390 Train Accuracy=70.95: 100%|██████████| 391/391 [00:27<00:00, 14.24it/s]"
          ],
          "name": "stderr"
        },
        {
          "output_type": "stream",
          "text": [
            "Train set: Epoch : 63/200 Average loss: 0.0000, Train Accuracy: 70.95\n"
          ],
          "name": "stdout"
        },
        {
          "output_type": "stream",
          "text": [
            "\n",
            "  0%|          | 0/391 [00:00<?, ?it/s]"
          ],
          "name": "stderr"
        },
        {
          "output_type": "stream",
          "text": [
            "Test set: Epoch : 63/200 Average loss: 0.5423, Test Accuracy: 81.08\n",
            "EPOCH: 64\n"
          ],
          "name": "stdout"
        },
        {
          "output_type": "stream",
          "text": [
            "Loss=0.6900501847267151 Batch_id=390 Train Accuracy=71.33: 100%|██████████| 391/391 [00:27<00:00, 14.28it/s]"
          ],
          "name": "stderr"
        },
        {
          "output_type": "stream",
          "text": [
            "Train set: Epoch : 64/200 Average loss: 0.0000, Train Accuracy: 71.33\n"
          ],
          "name": "stdout"
        },
        {
          "output_type": "stream",
          "text": [
            "\n",
            "  0%|          | 0/391 [00:00<?, ?it/s]"
          ],
          "name": "stderr"
        },
        {
          "output_type": "stream",
          "text": [
            "Test set: Epoch : 64/200 Average loss: 0.5521, Test Accuracy: 80.92\n",
            "EPOCH: 65\n"
          ],
          "name": "stdout"
        },
        {
          "output_type": "stream",
          "text": [
            "Loss=0.867079496383667 Batch_id=390 Train Accuracy=71.50: 100%|██████████| 391/391 [00:27<00:00, 14.18it/s]"
          ],
          "name": "stderr"
        },
        {
          "output_type": "stream",
          "text": [
            "Train set: Epoch : 65/200 Average loss: 0.0000, Train Accuracy: 71.5\n"
          ],
          "name": "stdout"
        },
        {
          "output_type": "stream",
          "text": [
            "\n",
            "  0%|          | 0/391 [00:00<?, ?it/s]"
          ],
          "name": "stderr"
        },
        {
          "output_type": "stream",
          "text": [
            "Test set: Epoch : 65/200 Average loss: 0.5398, Test Accuracy: 81.07\n",
            "EPOCH: 66\n"
          ],
          "name": "stdout"
        },
        {
          "output_type": "stream",
          "text": [
            "Loss=1.0540244579315186 Batch_id=390 Train Accuracy=71.69: 100%|██████████| 391/391 [00:27<00:00, 14.27it/s]"
          ],
          "name": "stderr"
        },
        {
          "output_type": "stream",
          "text": [
            "Train set: Epoch : 66/200 Average loss: 0.0000, Train Accuracy: 71.69\n"
          ],
          "name": "stdout"
        },
        {
          "output_type": "stream",
          "text": [
            "\n",
            "  0%|          | 0/391 [00:00<?, ?it/s]"
          ],
          "name": "stderr"
        },
        {
          "output_type": "stream",
          "text": [
            "Test set: Epoch : 66/200 Average loss: 0.5311, Test Accuracy: 81.67\n",
            "EPOCH: 67\n"
          ],
          "name": "stdout"
        },
        {
          "output_type": "stream",
          "text": [
            "Loss=0.7398741841316223 Batch_id=390 Train Accuracy=71.70: 100%|██████████| 391/391 [00:27<00:00, 14.16it/s]"
          ],
          "name": "stderr"
        },
        {
          "output_type": "stream",
          "text": [
            "Train set: Epoch : 67/200 Average loss: 0.0000, Train Accuracy: 71.7\n"
          ],
          "name": "stdout"
        },
        {
          "output_type": "stream",
          "text": [
            "\n",
            "  0%|          | 0/391 [00:00<?, ?it/s]"
          ],
          "name": "stderr"
        },
        {
          "output_type": "stream",
          "text": [
            "Test set: Epoch : 67/200 Average loss: 0.5478, Test Accuracy: 80.71\n",
            "EPOCH: 68\n"
          ],
          "name": "stdout"
        },
        {
          "output_type": "stream",
          "text": [
            "Loss=0.7043368816375732 Batch_id=390 Train Accuracy=71.74: 100%|██████████| 391/391 [00:27<00:00, 14.27it/s]"
          ],
          "name": "stderr"
        },
        {
          "output_type": "stream",
          "text": [
            "Train set: Epoch : 68/200 Average loss: 0.0000, Train Accuracy: 71.74\n"
          ],
          "name": "stdout"
        },
        {
          "output_type": "stream",
          "text": [
            "\n",
            "  0%|          | 0/391 [00:00<?, ?it/s]"
          ],
          "name": "stderr"
        },
        {
          "output_type": "stream",
          "text": [
            "Test set: Epoch : 68/200 Average loss: 0.5404, Test Accuracy: 81.21\n",
            "EPOCH: 69\n"
          ],
          "name": "stdout"
        },
        {
          "output_type": "stream",
          "text": [
            "Loss=0.7369908094406128 Batch_id=390 Train Accuracy=71.91: 100%|██████████| 391/391 [00:27<00:00, 14.25it/s]"
          ],
          "name": "stderr"
        },
        {
          "output_type": "stream",
          "text": [
            "Train set: Epoch : 69/200 Average loss: 0.0000, Train Accuracy: 71.91\n"
          ],
          "name": "stdout"
        },
        {
          "output_type": "stream",
          "text": [
            "\n",
            "  0%|          | 0/391 [00:00<?, ?it/s]"
          ],
          "name": "stderr"
        },
        {
          "output_type": "stream",
          "text": [
            "Test set: Epoch : 69/200 Average loss: 0.5376, Test Accuracy: 81.19\n",
            "EPOCH: 70\n"
          ],
          "name": "stdout"
        },
        {
          "output_type": "stream",
          "text": [
            "Loss=0.9727019667625427 Batch_id=390 Train Accuracy=71.95: 100%|██████████| 391/391 [00:27<00:00, 14.12it/s]"
          ],
          "name": "stderr"
        },
        {
          "output_type": "stream",
          "text": [
            "Train set: Epoch : 70/200 Average loss: 0.0000, Train Accuracy: 71.95\n"
          ],
          "name": "stdout"
        },
        {
          "output_type": "stream",
          "text": [
            "\n",
            "  0%|          | 0/391 [00:00<?, ?it/s]"
          ],
          "name": "stderr"
        },
        {
          "output_type": "stream",
          "text": [
            "Test set: Epoch : 70/200 Average loss: 0.5434, Test Accuracy: 81.19\n",
            "EPOCH: 71\n"
          ],
          "name": "stdout"
        },
        {
          "output_type": "stream",
          "text": [
            "Loss=0.8910492062568665 Batch_id=390 Train Accuracy=71.96: 100%|██████████| 391/391 [00:27<00:00, 14.25it/s]"
          ],
          "name": "stderr"
        },
        {
          "output_type": "stream",
          "text": [
            "Train set: Epoch : 71/200 Average loss: 0.0000, Train Accuracy: 71.96\n"
          ],
          "name": "stdout"
        },
        {
          "output_type": "stream",
          "text": [
            "\n",
            "  0%|          | 0/391 [00:00<?, ?it/s]"
          ],
          "name": "stderr"
        },
        {
          "output_type": "stream",
          "text": [
            "Test set: Epoch : 71/200 Average loss: 0.5327, Test Accuracy: 81.48\n",
            "EPOCH: 72\n"
          ],
          "name": "stdout"
        },
        {
          "output_type": "stream",
          "text": [
            "Loss=0.8846091628074646 Batch_id=390 Train Accuracy=72.18: 100%|██████████| 391/391 [00:27<00:00, 14.05it/s]"
          ],
          "name": "stderr"
        },
        {
          "output_type": "stream",
          "text": [
            "Train set: Epoch : 72/200 Average loss: 0.0000, Train Accuracy: 72.18\n"
          ],
          "name": "stdout"
        },
        {
          "output_type": "stream",
          "text": [
            "\n",
            "  0%|          | 0/391 [00:00<?, ?it/s]"
          ],
          "name": "stderr"
        },
        {
          "output_type": "stream",
          "text": [
            "Test set: Epoch : 72/200 Average loss: 0.5278, Test Accuracy: 81.96\n",
            "EPOCH: 73\n"
          ],
          "name": "stdout"
        },
        {
          "output_type": "stream",
          "text": [
            "Loss=0.7785409688949585 Batch_id=390 Train Accuracy=72.23: 100%|██████████| 391/391 [00:27<00:00, 14.10it/s]"
          ],
          "name": "stderr"
        },
        {
          "output_type": "stream",
          "text": [
            "Train set: Epoch : 73/200 Average loss: 0.0000, Train Accuracy: 72.23\n"
          ],
          "name": "stdout"
        },
        {
          "output_type": "stream",
          "text": [
            "\n",
            "  0%|          | 0/391 [00:00<?, ?it/s]"
          ],
          "name": "stderr"
        },
        {
          "output_type": "stream",
          "text": [
            "Test set: Epoch : 73/200 Average loss: 0.5298, Test Accuracy: 81.64\n",
            "EPOCH: 74\n"
          ],
          "name": "stdout"
        },
        {
          "output_type": "stream",
          "text": [
            "Loss=0.7999377250671387 Batch_id=390 Train Accuracy=72.21: 100%|██████████| 391/391 [00:27<00:00, 14.08it/s]"
          ],
          "name": "stderr"
        },
        {
          "output_type": "stream",
          "text": [
            "Train set: Epoch : 74/200 Average loss: 0.0000, Train Accuracy: 72.21\n"
          ],
          "name": "stdout"
        },
        {
          "output_type": "stream",
          "text": [
            "\n",
            "  0%|          | 0/391 [00:00<?, ?it/s]"
          ],
          "name": "stderr"
        },
        {
          "output_type": "stream",
          "text": [
            "Test set: Epoch : 74/200 Average loss: 0.5313, Test Accuracy: 81.72\n",
            "EPOCH: 75\n"
          ],
          "name": "stdout"
        },
        {
          "output_type": "stream",
          "text": [
            "Loss=1.1175858974456787 Batch_id=390 Train Accuracy=72.06: 100%|██████████| 391/391 [00:27<00:00, 14.08it/s]"
          ],
          "name": "stderr"
        },
        {
          "output_type": "stream",
          "text": [
            "Train set: Epoch : 75/200 Average loss: 0.0000, Train Accuracy: 72.06\n"
          ],
          "name": "stdout"
        },
        {
          "output_type": "stream",
          "text": [
            "\n",
            "  0%|          | 0/391 [00:00<?, ?it/s]"
          ],
          "name": "stderr"
        },
        {
          "output_type": "stream",
          "text": [
            "Test set: Epoch : 75/200 Average loss: 0.5332, Test Accuracy: 81.73\n",
            "EPOCH: 76\n"
          ],
          "name": "stdout"
        },
        {
          "output_type": "stream",
          "text": [
            "Loss=0.7768879532814026 Batch_id=390 Train Accuracy=72.75: 100%|██████████| 391/391 [00:27<00:00, 13.97it/s]"
          ],
          "name": "stderr"
        },
        {
          "output_type": "stream",
          "text": [
            "Train set: Epoch : 76/200 Average loss: 0.0000, Train Accuracy: 72.75\n"
          ],
          "name": "stdout"
        },
        {
          "output_type": "stream",
          "text": [
            "\n",
            "  0%|          | 0/391 [00:00<?, ?it/s]"
          ],
          "name": "stderr"
        },
        {
          "output_type": "stream",
          "text": [
            "Test set: Epoch : 76/200 Average loss: 0.5182, Test Accuracy: 81.9\n",
            "EPOCH: 77\n"
          ],
          "name": "stdout"
        },
        {
          "output_type": "stream",
          "text": [
            "Loss=0.6309540867805481 Batch_id=390 Train Accuracy=72.69: 100%|██████████| 391/391 [00:27<00:00, 14.11it/s]"
          ],
          "name": "stderr"
        },
        {
          "output_type": "stream",
          "text": [
            "Train set: Epoch : 77/200 Average loss: 0.0000, Train Accuracy: 72.69\n"
          ],
          "name": "stdout"
        },
        {
          "output_type": "stream",
          "text": [
            "\n",
            "  0%|          | 0/391 [00:00<?, ?it/s]"
          ],
          "name": "stderr"
        },
        {
          "output_type": "stream",
          "text": [
            "Test set: Epoch : 77/200 Average loss: 0.5380, Test Accuracy: 81.24\n",
            "EPOCH: 78\n"
          ],
          "name": "stdout"
        },
        {
          "output_type": "stream",
          "text": [
            "Loss=0.9755229949951172 Batch_id=390 Train Accuracy=72.50: 100%|██████████| 391/391 [00:27<00:00, 13.97it/s]"
          ],
          "name": "stderr"
        },
        {
          "output_type": "stream",
          "text": [
            "Train set: Epoch : 78/200 Average loss: 0.0000, Train Accuracy: 72.5\n"
          ],
          "name": "stdout"
        },
        {
          "output_type": "stream",
          "text": [
            "\n",
            "  0%|          | 0/391 [00:00<?, ?it/s]"
          ],
          "name": "stderr"
        },
        {
          "output_type": "stream",
          "text": [
            "Test set: Epoch : 78/200 Average loss: 0.5256, Test Accuracy: 81.83\n",
            "EPOCH: 79\n"
          ],
          "name": "stdout"
        },
        {
          "output_type": "stream",
          "text": [
            "Loss=0.6385695338249207 Batch_id=390 Train Accuracy=72.63: 100%|██████████| 391/391 [00:27<00:00, 14.13it/s]"
          ],
          "name": "stderr"
        },
        {
          "output_type": "stream",
          "text": [
            "Train set: Epoch : 79/200 Average loss: 0.0000, Train Accuracy: 72.63\n"
          ],
          "name": "stdout"
        },
        {
          "output_type": "stream",
          "text": [
            "\n",
            "  0%|          | 0/391 [00:00<?, ?it/s]"
          ],
          "name": "stderr"
        },
        {
          "output_type": "stream",
          "text": [
            "Test set: Epoch : 79/200 Average loss: 0.5259, Test Accuracy: 82.05\n",
            "EPOCH: 80\n"
          ],
          "name": "stdout"
        },
        {
          "output_type": "stream",
          "text": [
            "Loss=0.8736523389816284 Batch_id=390 Train Accuracy=72.68: 100%|██████████| 391/391 [00:27<00:00, 14.04it/s]"
          ],
          "name": "stderr"
        },
        {
          "output_type": "stream",
          "text": [
            "Train set: Epoch : 80/200 Average loss: 0.0000, Train Accuracy: 72.68\n"
          ],
          "name": "stdout"
        },
        {
          "output_type": "stream",
          "text": [
            "\n",
            "  0%|          | 0/391 [00:00<?, ?it/s]"
          ],
          "name": "stderr"
        },
        {
          "output_type": "stream",
          "text": [
            "Test set: Epoch : 80/200 Average loss: 0.5319, Test Accuracy: 81.91\n",
            "EPOCH: 81\n"
          ],
          "name": "stdout"
        },
        {
          "output_type": "stream",
          "text": [
            "Loss=0.786415696144104 Batch_id=390 Train Accuracy=72.76: 100%|██████████| 391/391 [00:27<00:00, 14.05it/s]"
          ],
          "name": "stderr"
        },
        {
          "output_type": "stream",
          "text": [
            "Train set: Epoch : 81/200 Average loss: 0.0000, Train Accuracy: 72.76\n"
          ],
          "name": "stdout"
        },
        {
          "output_type": "stream",
          "text": [
            "\n",
            "  0%|          | 0/391 [00:00<?, ?it/s]"
          ],
          "name": "stderr"
        },
        {
          "output_type": "stream",
          "text": [
            "Test set: Epoch : 81/200 Average loss: 0.5209, Test Accuracy: 82.49\n",
            "EPOCH: 82\n"
          ],
          "name": "stdout"
        },
        {
          "output_type": "stream",
          "text": [
            "Loss=0.951055109500885 Batch_id=390 Train Accuracy=72.88: 100%|██████████| 391/391 [00:28<00:00, 13.95it/s]"
          ],
          "name": "stderr"
        },
        {
          "output_type": "stream",
          "text": [
            "Train set: Epoch : 82/200 Average loss: 0.0000, Train Accuracy: 72.88\n"
          ],
          "name": "stdout"
        },
        {
          "output_type": "stream",
          "text": [
            "\n",
            "  0%|          | 0/391 [00:00<?, ?it/s]"
          ],
          "name": "stderr"
        },
        {
          "output_type": "stream",
          "text": [
            "Test set: Epoch : 82/200 Average loss: 0.5162, Test Accuracy: 82.17\n",
            "EPOCH: 83\n"
          ],
          "name": "stdout"
        },
        {
          "output_type": "stream",
          "text": [
            "Loss=0.9224196076393127 Batch_id=390 Train Accuracy=73.25: 100%|██████████| 391/391 [00:27<00:00, 14.07it/s]"
          ],
          "name": "stderr"
        },
        {
          "output_type": "stream",
          "text": [
            "Train set: Epoch : 83/200 Average loss: 0.0000, Train Accuracy: 73.25\n"
          ],
          "name": "stdout"
        },
        {
          "output_type": "stream",
          "text": [
            "\n",
            "  0%|          | 0/391 [00:00<?, ?it/s]"
          ],
          "name": "stderr"
        },
        {
          "output_type": "stream",
          "text": [
            "Test set: Epoch : 83/200 Average loss: 0.5197, Test Accuracy: 82.13\n",
            "EPOCH: 84\n"
          ],
          "name": "stdout"
        },
        {
          "output_type": "stream",
          "text": [
            "Loss=0.9503985643386841 Batch_id=390 Train Accuracy=72.95: 100%|██████████| 391/391 [00:27<00:00, 14.00it/s]"
          ],
          "name": "stderr"
        },
        {
          "output_type": "stream",
          "text": [
            "Train set: Epoch : 84/200 Average loss: 0.0000, Train Accuracy: 72.95\n"
          ],
          "name": "stdout"
        },
        {
          "output_type": "stream",
          "text": [
            "\n",
            "  0%|          | 0/391 [00:00<?, ?it/s]"
          ],
          "name": "stderr"
        },
        {
          "output_type": "stream",
          "text": [
            "Test set: Epoch : 84/200 Average loss: 0.5112, Test Accuracy: 82.51\n",
            "EPOCH: 85\n"
          ],
          "name": "stdout"
        },
        {
          "output_type": "stream",
          "text": [
            "Loss=0.8494353294372559 Batch_id=390 Train Accuracy=73.03: 100%|██████████| 391/391 [00:27<00:00, 14.07it/s]"
          ],
          "name": "stderr"
        },
        {
          "output_type": "stream",
          "text": [
            "Train set: Epoch : 85/200 Average loss: 0.0000, Train Accuracy: 73.03\n"
          ],
          "name": "stdout"
        },
        {
          "output_type": "stream",
          "text": [
            "\n",
            "  0%|          | 0/391 [00:00<?, ?it/s]"
          ],
          "name": "stderr"
        },
        {
          "output_type": "stream",
          "text": [
            "Test set: Epoch : 85/200 Average loss: 0.5176, Test Accuracy: 82.01\n",
            "EPOCH: 86\n"
          ],
          "name": "stdout"
        },
        {
          "output_type": "stream",
          "text": [
            "Loss=0.7288137078285217 Batch_id=390 Train Accuracy=73.01: 100%|██████████| 391/391 [00:28<00:00, 13.93it/s]"
          ],
          "name": "stderr"
        },
        {
          "output_type": "stream",
          "text": [
            "Train set: Epoch : 86/200 Average loss: 0.0000, Train Accuracy: 73.01\n"
          ],
          "name": "stdout"
        },
        {
          "output_type": "stream",
          "text": [
            "\n",
            "  0%|          | 0/391 [00:00<?, ?it/s]"
          ],
          "name": "stderr"
        },
        {
          "output_type": "stream",
          "text": [
            "Test set: Epoch : 86/200 Average loss: 0.5181, Test Accuracy: 82.21\n",
            "EPOCH: 87\n"
          ],
          "name": "stdout"
        },
        {
          "output_type": "stream",
          "text": [
            "Loss=0.8068410754203796 Batch_id=390 Train Accuracy=73.40: 100%|██████████| 391/391 [00:27<00:00, 13.98it/s]"
          ],
          "name": "stderr"
        },
        {
          "output_type": "stream",
          "text": [
            "Train set: Epoch : 87/200 Average loss: 0.0000, Train Accuracy: 73.4\n"
          ],
          "name": "stdout"
        },
        {
          "output_type": "stream",
          "text": [
            "\n",
            "  0%|          | 0/391 [00:00<?, ?it/s]"
          ],
          "name": "stderr"
        },
        {
          "output_type": "stream",
          "text": [
            "Test set: Epoch : 87/200 Average loss: 0.5079, Test Accuracy: 82.62\n",
            "EPOCH: 88\n"
          ],
          "name": "stdout"
        },
        {
          "output_type": "stream",
          "text": [
            "Loss=0.696491003036499 Batch_id=390 Train Accuracy=73.22: 100%|██████████| 391/391 [00:27<00:00, 14.03it/s]"
          ],
          "name": "stderr"
        },
        {
          "output_type": "stream",
          "text": [
            "Train set: Epoch : 88/200 Average loss: 0.0000, Train Accuracy: 73.22\n"
          ],
          "name": "stdout"
        },
        {
          "output_type": "stream",
          "text": [
            "\n",
            "  0%|          | 0/391 [00:00<?, ?it/s]"
          ],
          "name": "stderr"
        },
        {
          "output_type": "stream",
          "text": [
            "Test set: Epoch : 88/200 Average loss: 0.5032, Test Accuracy: 82.62\n",
            "EPOCH: 89\n"
          ],
          "name": "stdout"
        },
        {
          "output_type": "stream",
          "text": [
            "Loss=0.8729190230369568 Batch_id=390 Train Accuracy=73.30: 100%|██████████| 391/391 [00:27<00:00, 14.09it/s]"
          ],
          "name": "stderr"
        },
        {
          "output_type": "stream",
          "text": [
            "Train set: Epoch : 89/200 Average loss: 0.0000, Train Accuracy: 73.3\n"
          ],
          "name": "stdout"
        },
        {
          "output_type": "stream",
          "text": [
            "\n",
            "  0%|          | 0/391 [00:00<?, ?it/s]"
          ],
          "name": "stderr"
        },
        {
          "output_type": "stream",
          "text": [
            "Test set: Epoch : 89/200 Average loss: 0.5066, Test Accuracy: 82.34\n",
            "EPOCH: 90\n"
          ],
          "name": "stdout"
        },
        {
          "output_type": "stream",
          "text": [
            "Loss=0.8723364472389221 Batch_id=390 Train Accuracy=72.99: 100%|██████████| 391/391 [00:27<00:00, 14.06it/s]"
          ],
          "name": "stderr"
        },
        {
          "output_type": "stream",
          "text": [
            "Train set: Epoch : 90/200 Average loss: 0.0000, Train Accuracy: 72.99\n"
          ],
          "name": "stdout"
        },
        {
          "output_type": "stream",
          "text": [
            "\n",
            "  0%|          | 0/391 [00:00<?, ?it/s]"
          ],
          "name": "stderr"
        },
        {
          "output_type": "stream",
          "text": [
            "Test set: Epoch : 90/200 Average loss: 0.5106, Test Accuracy: 82.65\n",
            "EPOCH: 91\n"
          ],
          "name": "stdout"
        },
        {
          "output_type": "stream",
          "text": [
            "Loss=0.6757525205612183 Batch_id=390 Train Accuracy=73.20: 100%|██████████| 391/391 [00:27<00:00, 14.05it/s]"
          ],
          "name": "stderr"
        },
        {
          "output_type": "stream",
          "text": [
            "Train set: Epoch : 91/200 Average loss: 0.0000, Train Accuracy: 73.2\n"
          ],
          "name": "stdout"
        },
        {
          "output_type": "stream",
          "text": [
            "\n",
            "  0%|          | 0/391 [00:00<?, ?it/s]"
          ],
          "name": "stderr"
        },
        {
          "output_type": "stream",
          "text": [
            "Test set: Epoch : 91/200 Average loss: 0.4968, Test Accuracy: 82.87\n",
            "EPOCH: 92\n"
          ],
          "name": "stdout"
        },
        {
          "output_type": "stream",
          "text": [
            "Loss=0.8036445379257202 Batch_id=390 Train Accuracy=73.49: 100%|██████████| 391/391 [00:27<00:00, 14.10it/s]"
          ],
          "name": "stderr"
        },
        {
          "output_type": "stream",
          "text": [
            "Train set: Epoch : 92/200 Average loss: 0.0000, Train Accuracy: 73.49\n"
          ],
          "name": "stdout"
        },
        {
          "output_type": "stream",
          "text": [
            "\n",
            "  0%|          | 0/391 [00:00<?, ?it/s]"
          ],
          "name": "stderr"
        },
        {
          "output_type": "stream",
          "text": [
            "Test set: Epoch : 92/200 Average loss: 0.5086, Test Accuracy: 82.78\n",
            "EPOCH: 93\n"
          ],
          "name": "stdout"
        },
        {
          "output_type": "stream",
          "text": [
            "Loss=0.597328782081604 Batch_id=390 Train Accuracy=73.27: 100%|██████████| 391/391 [00:27<00:00, 14.08it/s]"
          ],
          "name": "stderr"
        },
        {
          "output_type": "stream",
          "text": [
            "Train set: Epoch : 93/200 Average loss: 0.0000, Train Accuracy: 73.27\n"
          ],
          "name": "stdout"
        },
        {
          "output_type": "stream",
          "text": [
            "\n",
            "  0%|          | 0/391 [00:00<?, ?it/s]"
          ],
          "name": "stderr"
        },
        {
          "output_type": "stream",
          "text": [
            "Test set: Epoch : 93/200 Average loss: 0.5012, Test Accuracy: 82.71\n",
            "EPOCH: 94\n"
          ],
          "name": "stdout"
        },
        {
          "output_type": "stream",
          "text": [
            "Loss=0.6555801630020142 Batch_id=390 Train Accuracy=73.56: 100%|██████████| 391/391 [00:27<00:00, 14.03it/s]"
          ],
          "name": "stderr"
        },
        {
          "output_type": "stream",
          "text": [
            "Train set: Epoch : 94/200 Average loss: 0.0000, Train Accuracy: 73.56\n"
          ],
          "name": "stdout"
        },
        {
          "output_type": "stream",
          "text": [
            "\n",
            "  0%|          | 0/391 [00:00<?, ?it/s]"
          ],
          "name": "stderr"
        },
        {
          "output_type": "stream",
          "text": [
            "Test set: Epoch : 94/200 Average loss: 0.5130, Test Accuracy: 82.81\n",
            "EPOCH: 95\n"
          ],
          "name": "stdout"
        },
        {
          "output_type": "stream",
          "text": [
            "Loss=0.9268977046012878 Batch_id=390 Train Accuracy=73.45: 100%|██████████| 391/391 [00:27<00:00, 14.17it/s]"
          ],
          "name": "stderr"
        },
        {
          "output_type": "stream",
          "text": [
            "Train set: Epoch : 95/200 Average loss: 0.0000, Train Accuracy: 73.45\n"
          ],
          "name": "stdout"
        },
        {
          "output_type": "stream",
          "text": [
            "\n",
            "  0%|          | 0/391 [00:00<?, ?it/s]"
          ],
          "name": "stderr"
        },
        {
          "output_type": "stream",
          "text": [
            "Test set: Epoch : 95/200 Average loss: 0.5089, Test Accuracy: 82.98\n",
            "EPOCH: 96\n"
          ],
          "name": "stdout"
        },
        {
          "output_type": "stream",
          "text": [
            "Loss=0.7299183011054993 Batch_id=390 Train Accuracy=73.47: 100%|██████████| 391/391 [00:27<00:00, 14.13it/s]"
          ],
          "name": "stderr"
        },
        {
          "output_type": "stream",
          "text": [
            "Train set: Epoch : 96/200 Average loss: 0.0000, Train Accuracy: 73.47\n"
          ],
          "name": "stdout"
        },
        {
          "output_type": "stream",
          "text": [
            "\n",
            "  0%|          | 0/391 [00:00<?, ?it/s]"
          ],
          "name": "stderr"
        },
        {
          "output_type": "stream",
          "text": [
            "Test set: Epoch : 96/200 Average loss: 0.4997, Test Accuracy: 82.74\n",
            "EPOCH: 97\n"
          ],
          "name": "stdout"
        },
        {
          "output_type": "stream",
          "text": [
            "Loss=0.6056094765663147 Batch_id=390 Train Accuracy=73.67: 100%|██████████| 391/391 [00:27<00:00, 14.17it/s]"
          ],
          "name": "stderr"
        },
        {
          "output_type": "stream",
          "text": [
            "Train set: Epoch : 97/200 Average loss: 0.0000, Train Accuracy: 73.67\n"
          ],
          "name": "stdout"
        },
        {
          "output_type": "stream",
          "text": [
            "\n",
            "  0%|          | 0/391 [00:00<?, ?it/s]"
          ],
          "name": "stderr"
        },
        {
          "output_type": "stream",
          "text": [
            "Test set: Epoch : 97/200 Average loss: 0.4927, Test Accuracy: 83.07\n",
            "EPOCH: 98\n"
          ],
          "name": "stdout"
        },
        {
          "output_type": "stream",
          "text": [
            "Loss=0.6552379131317139 Batch_id=390 Train Accuracy=73.84: 100%|██████████| 391/391 [00:27<00:00, 14.21it/s]"
          ],
          "name": "stderr"
        },
        {
          "output_type": "stream",
          "text": [
            "Train set: Epoch : 98/200 Average loss: 0.0000, Train Accuracy: 73.84\n"
          ],
          "name": "stdout"
        },
        {
          "output_type": "stream",
          "text": [
            "\n",
            "  0%|          | 0/391 [00:00<?, ?it/s]"
          ],
          "name": "stderr"
        },
        {
          "output_type": "stream",
          "text": [
            "Test set: Epoch : 98/200 Average loss: 0.4877, Test Accuracy: 83.59\n",
            "EPOCH: 99\n"
          ],
          "name": "stdout"
        },
        {
          "output_type": "stream",
          "text": [
            "Loss=0.965364933013916 Batch_id=390 Train Accuracy=73.74: 100%|██████████| 391/391 [00:27<00:00, 14.25it/s]"
          ],
          "name": "stderr"
        },
        {
          "output_type": "stream",
          "text": [
            "Train set: Epoch : 99/200 Average loss: 0.0000, Train Accuracy: 73.74\n"
          ],
          "name": "stdout"
        },
        {
          "output_type": "stream",
          "text": [
            "\n",
            "  0%|          | 0/391 [00:00<?, ?it/s]"
          ],
          "name": "stderr"
        },
        {
          "output_type": "stream",
          "text": [
            "Test set: Epoch : 99/200 Average loss: 0.4878, Test Accuracy: 83.05\n",
            "EPOCH: 100\n"
          ],
          "name": "stdout"
        },
        {
          "output_type": "stream",
          "text": [
            "Loss=0.6210677027702332 Batch_id=390 Train Accuracy=73.99: 100%|██████████| 391/391 [00:27<00:00, 14.18it/s]"
          ],
          "name": "stderr"
        },
        {
          "output_type": "stream",
          "text": [
            "Train set: Epoch : 100/200 Average loss: 0.0000, Train Accuracy: 73.99\n"
          ],
          "name": "stdout"
        },
        {
          "output_type": "stream",
          "text": [
            "\n",
            "  0%|          | 0/391 [00:00<?, ?it/s]"
          ],
          "name": "stderr"
        },
        {
          "output_type": "stream",
          "text": [
            "Test set: Epoch : 100/200 Average loss: 0.4946, Test Accuracy: 83.19\n",
            "EPOCH: 101\n"
          ],
          "name": "stdout"
        },
        {
          "output_type": "stream",
          "text": [
            "Loss=0.7982547879219055 Batch_id=390 Train Accuracy=73.85: 100%|██████████| 391/391 [00:27<00:00, 14.22it/s]"
          ],
          "name": "stderr"
        },
        {
          "output_type": "stream",
          "text": [
            "Train set: Epoch : 101/200 Average loss: 0.0000, Train Accuracy: 73.85\n"
          ],
          "name": "stdout"
        },
        {
          "output_type": "stream",
          "text": [
            "\n",
            "  0%|          | 0/391 [00:00<?, ?it/s]"
          ],
          "name": "stderr"
        },
        {
          "output_type": "stream",
          "text": [
            "Test set: Epoch : 101/200 Average loss: 0.5005, Test Accuracy: 82.59\n",
            "EPOCH: 102\n"
          ],
          "name": "stdout"
        },
        {
          "output_type": "stream",
          "text": [
            "Loss=0.7463920712471008 Batch_id=390 Train Accuracy=73.93: 100%|██████████| 391/391 [00:27<00:00, 14.13it/s]"
          ],
          "name": "stderr"
        },
        {
          "output_type": "stream",
          "text": [
            "Train set: Epoch : 102/200 Average loss: 0.0000, Train Accuracy: 73.93\n"
          ],
          "name": "stdout"
        },
        {
          "output_type": "stream",
          "text": [
            "\n",
            "  0%|          | 0/391 [00:00<?, ?it/s]"
          ],
          "name": "stderr"
        },
        {
          "output_type": "stream",
          "text": [
            "Test set: Epoch : 102/200 Average loss: 0.4910, Test Accuracy: 82.96\n",
            "EPOCH: 103\n"
          ],
          "name": "stdout"
        },
        {
          "output_type": "stream",
          "text": [
            "Loss=0.7960553765296936 Batch_id=390 Train Accuracy=74.20: 100%|██████████| 391/391 [00:27<00:00, 14.21it/s]"
          ],
          "name": "stderr"
        },
        {
          "output_type": "stream",
          "text": [
            "Train set: Epoch : 103/200 Average loss: 0.0000, Train Accuracy: 74.2\n"
          ],
          "name": "stdout"
        },
        {
          "output_type": "stream",
          "text": [
            "\n",
            "  0%|          | 0/391 [00:00<?, ?it/s]"
          ],
          "name": "stderr"
        },
        {
          "output_type": "stream",
          "text": [
            "Test set: Epoch : 103/200 Average loss: 0.4952, Test Accuracy: 83.08\n",
            "EPOCH: 104\n"
          ],
          "name": "stdout"
        },
        {
          "output_type": "stream",
          "text": [
            "Loss=0.5057224035263062 Batch_id=390 Train Accuracy=73.93: 100%|██████████| 391/391 [00:27<00:00, 14.10it/s]"
          ],
          "name": "stderr"
        },
        {
          "output_type": "stream",
          "text": [
            "Train set: Epoch : 104/200 Average loss: 0.0000, Train Accuracy: 73.93\n"
          ],
          "name": "stdout"
        },
        {
          "output_type": "stream",
          "text": [
            "\n",
            "  0%|          | 0/391 [00:00<?, ?it/s]"
          ],
          "name": "stderr"
        },
        {
          "output_type": "stream",
          "text": [
            "Test set: Epoch : 104/200 Average loss: 0.4964, Test Accuracy: 82.89\n",
            "EPOCH: 105\n"
          ],
          "name": "stdout"
        },
        {
          "output_type": "stream",
          "text": [
            "Loss=0.694403886795044 Batch_id=390 Train Accuracy=74.31: 100%|██████████| 391/391 [00:27<00:00, 14.25it/s]"
          ],
          "name": "stderr"
        },
        {
          "output_type": "stream",
          "text": [
            "Train set: Epoch : 105/200 Average loss: 0.0000, Train Accuracy: 74.31\n"
          ],
          "name": "stdout"
        },
        {
          "output_type": "stream",
          "text": [
            "\n",
            "  0%|          | 0/391 [00:00<?, ?it/s]"
          ],
          "name": "stderr"
        },
        {
          "output_type": "stream",
          "text": [
            "Test set: Epoch : 105/200 Average loss: 0.4883, Test Accuracy: 83.36\n",
            "EPOCH: 106\n"
          ],
          "name": "stdout"
        },
        {
          "output_type": "stream",
          "text": [
            "Loss=0.5542049407958984 Batch_id=390 Train Accuracy=74.19: 100%|██████████| 391/391 [00:27<00:00, 14.12it/s]"
          ],
          "name": "stderr"
        },
        {
          "output_type": "stream",
          "text": [
            "Train set: Epoch : 106/200 Average loss: 0.0000, Train Accuracy: 74.19\n"
          ],
          "name": "stdout"
        },
        {
          "output_type": "stream",
          "text": [
            "\n",
            "  0%|          | 0/391 [00:00<?, ?it/s]"
          ],
          "name": "stderr"
        },
        {
          "output_type": "stream",
          "text": [
            "Test set: Epoch : 106/200 Average loss: 0.4895, Test Accuracy: 83.29\n",
            "EPOCH: 107\n"
          ],
          "name": "stdout"
        },
        {
          "output_type": "stream",
          "text": [
            "Loss=0.7940642833709717 Batch_id=390 Train Accuracy=74.21: 100%|██████████| 391/391 [00:27<00:00, 14.15it/s]"
          ],
          "name": "stderr"
        },
        {
          "output_type": "stream",
          "text": [
            "Train set: Epoch : 107/200 Average loss: 0.0000, Train Accuracy: 74.21\n"
          ],
          "name": "stdout"
        },
        {
          "output_type": "stream",
          "text": [
            "\n",
            "  0%|          | 0/391 [00:00<?, ?it/s]"
          ],
          "name": "stderr"
        },
        {
          "output_type": "stream",
          "text": [
            "Test set: Epoch : 107/200 Average loss: 0.4940, Test Accuracy: 83.07\n",
            "EPOCH: 108\n"
          ],
          "name": "stdout"
        },
        {
          "output_type": "stream",
          "text": [
            "Loss=0.7131136655807495 Batch_id=390 Train Accuracy=74.27: 100%|██████████| 391/391 [00:27<00:00, 14.10it/s]"
          ],
          "name": "stderr"
        },
        {
          "output_type": "stream",
          "text": [
            "Train set: Epoch : 108/200 Average loss: 0.0000, Train Accuracy: 74.27\n"
          ],
          "name": "stdout"
        },
        {
          "output_type": "stream",
          "text": [
            "\n",
            "  0%|          | 0/391 [00:00<?, ?it/s]"
          ],
          "name": "stderr"
        },
        {
          "output_type": "stream",
          "text": [
            "Test set: Epoch : 108/200 Average loss: 0.4810, Test Accuracy: 83.73\n",
            "EPOCH: 109\n"
          ],
          "name": "stdout"
        },
        {
          "output_type": "stream",
          "text": [
            "Loss=0.7559200525283813 Batch_id=390 Train Accuracy=74.35: 100%|██████████| 391/391 [00:27<00:00, 14.18it/s]"
          ],
          "name": "stderr"
        },
        {
          "output_type": "stream",
          "text": [
            "Train set: Epoch : 109/200 Average loss: 0.0000, Train Accuracy: 74.35\n"
          ],
          "name": "stdout"
        },
        {
          "output_type": "stream",
          "text": [
            "\n",
            "  0%|          | 0/391 [00:00<?, ?it/s]"
          ],
          "name": "stderr"
        },
        {
          "output_type": "stream",
          "text": [
            "Test set: Epoch : 109/200 Average loss: 0.4834, Test Accuracy: 83.51\n",
            "EPOCH: 110\n"
          ],
          "name": "stdout"
        },
        {
          "output_type": "stream",
          "text": [
            "Loss=0.6153115034103394 Batch_id=390 Train Accuracy=74.24: 100%|██████████| 391/391 [00:27<00:00, 14.15it/s]"
          ],
          "name": "stderr"
        },
        {
          "output_type": "stream",
          "text": [
            "Train set: Epoch : 110/200 Average loss: 0.0000, Train Accuracy: 74.24\n"
          ],
          "name": "stdout"
        },
        {
          "output_type": "stream",
          "text": [
            "\n",
            "  0%|          | 0/391 [00:00<?, ?it/s]"
          ],
          "name": "stderr"
        },
        {
          "output_type": "stream",
          "text": [
            "Test set: Epoch : 110/200 Average loss: 0.4774, Test Accuracy: 83.7\n",
            "EPOCH: 111\n"
          ],
          "name": "stdout"
        },
        {
          "output_type": "stream",
          "text": [
            "Loss=0.6433021426200867 Batch_id=390 Train Accuracy=74.34: 100%|██████████| 391/391 [00:27<00:00, 14.10it/s]"
          ],
          "name": "stderr"
        },
        {
          "output_type": "stream",
          "text": [
            "Train set: Epoch : 111/200 Average loss: 0.0000, Train Accuracy: 74.34\n"
          ],
          "name": "stdout"
        },
        {
          "output_type": "stream",
          "text": [
            "\n",
            "  0%|          | 0/391 [00:00<?, ?it/s]"
          ],
          "name": "stderr"
        },
        {
          "output_type": "stream",
          "text": [
            "Test set: Epoch : 111/200 Average loss: 0.4901, Test Accuracy: 83.47\n",
            "EPOCH: 112\n"
          ],
          "name": "stdout"
        },
        {
          "output_type": "stream",
          "text": [
            "Loss=0.7067170143127441 Batch_id=390 Train Accuracy=74.29: 100%|██████████| 391/391 [00:27<00:00, 14.09it/s]"
          ],
          "name": "stderr"
        },
        {
          "output_type": "stream",
          "text": [
            "Train set: Epoch : 112/200 Average loss: 0.0000, Train Accuracy: 74.29\n"
          ],
          "name": "stdout"
        },
        {
          "output_type": "stream",
          "text": [
            "\n",
            "  0%|          | 0/391 [00:00<?, ?it/s]"
          ],
          "name": "stderr"
        },
        {
          "output_type": "stream",
          "text": [
            "Test set: Epoch : 112/200 Average loss: 0.4851, Test Accuracy: 83.19\n",
            "EPOCH: 113\n"
          ],
          "name": "stdout"
        },
        {
          "output_type": "stream",
          "text": [
            "Loss=0.9578953981399536 Batch_id=390 Train Accuracy=74.43: 100%|██████████| 391/391 [00:27<00:00, 14.12it/s]"
          ],
          "name": "stderr"
        },
        {
          "output_type": "stream",
          "text": [
            "Train set: Epoch : 113/200 Average loss: 0.0000, Train Accuracy: 74.43\n"
          ],
          "name": "stdout"
        },
        {
          "output_type": "stream",
          "text": [
            "\n",
            "  0%|          | 0/391 [00:00<?, ?it/s]"
          ],
          "name": "stderr"
        },
        {
          "output_type": "stream",
          "text": [
            "Test set: Epoch : 113/200 Average loss: 0.4994, Test Accuracy: 83.17\n",
            "EPOCH: 114\n"
          ],
          "name": "stdout"
        },
        {
          "output_type": "stream",
          "text": [
            "Loss=0.7153259515762329 Batch_id=390 Train Accuracy=74.55: 100%|██████████| 391/391 [00:27<00:00, 14.07it/s]"
          ],
          "name": "stderr"
        },
        {
          "output_type": "stream",
          "text": [
            "Train set: Epoch : 114/200 Average loss: 0.0000, Train Accuracy: 74.55\n"
          ],
          "name": "stdout"
        },
        {
          "output_type": "stream",
          "text": [
            "\n",
            "  0%|          | 0/391 [00:00<?, ?it/s]"
          ],
          "name": "stderr"
        },
        {
          "output_type": "stream",
          "text": [
            "Test set: Epoch : 114/200 Average loss: 0.4804, Test Accuracy: 83.45\n",
            "EPOCH: 115\n"
          ],
          "name": "stdout"
        },
        {
          "output_type": "stream",
          "text": [
            "Loss=0.7826898694038391 Batch_id=390 Train Accuracy=74.39: 100%|██████████| 391/391 [00:27<00:00, 14.19it/s]"
          ],
          "name": "stderr"
        },
        {
          "output_type": "stream",
          "text": [
            "Train set: Epoch : 115/200 Average loss: 0.0000, Train Accuracy: 74.39\n"
          ],
          "name": "stdout"
        },
        {
          "output_type": "stream",
          "text": [
            "\n",
            "  0%|          | 0/391 [00:00<?, ?it/s]"
          ],
          "name": "stderr"
        },
        {
          "output_type": "stream",
          "text": [
            "Test set: Epoch : 115/200 Average loss: 0.4793, Test Accuracy: 83.57\n",
            "EPOCH: 116\n"
          ],
          "name": "stdout"
        },
        {
          "output_type": "stream",
          "text": [
            "Loss=0.5786411762237549 Batch_id=390 Train Accuracy=74.67: 100%|██████████| 391/391 [00:27<00:00, 13.97it/s]"
          ],
          "name": "stderr"
        },
        {
          "output_type": "stream",
          "text": [
            "Train set: Epoch : 116/200 Average loss: 0.0000, Train Accuracy: 74.67\n"
          ],
          "name": "stdout"
        },
        {
          "output_type": "stream",
          "text": [
            "\n",
            "  0%|          | 0/391 [00:00<?, ?it/s]"
          ],
          "name": "stderr"
        },
        {
          "output_type": "stream",
          "text": [
            "Test set: Epoch : 116/200 Average loss: 0.4751, Test Accuracy: 83.46\n",
            "EPOCH: 117\n"
          ],
          "name": "stdout"
        },
        {
          "output_type": "stream",
          "text": [
            "Loss=0.7959513664245605 Batch_id=390 Train Accuracy=74.78: 100%|██████████| 391/391 [00:28<00:00, 13.72it/s]"
          ],
          "name": "stderr"
        },
        {
          "output_type": "stream",
          "text": [
            "Train set: Epoch : 117/200 Average loss: 0.0000, Train Accuracy: 74.78\n"
          ],
          "name": "stdout"
        },
        {
          "output_type": "stream",
          "text": [
            "\n",
            "  0%|          | 0/391 [00:00<?, ?it/s]"
          ],
          "name": "stderr"
        },
        {
          "output_type": "stream",
          "text": [
            "Test set: Epoch : 117/200 Average loss: 0.4802, Test Accuracy: 83.79\n",
            "EPOCH: 118\n"
          ],
          "name": "stdout"
        },
        {
          "output_type": "stream",
          "text": [
            "Loss=0.9169684648513794 Batch_id=390 Train Accuracy=74.48: 100%|██████████| 391/391 [00:28<00:00, 13.74it/s]"
          ],
          "name": "stderr"
        },
        {
          "output_type": "stream",
          "text": [
            "Train set: Epoch : 118/200 Average loss: 0.0000, Train Accuracy: 74.48\n"
          ],
          "name": "stdout"
        },
        {
          "output_type": "stream",
          "text": [
            "\n",
            "  0%|          | 0/391 [00:00<?, ?it/s]"
          ],
          "name": "stderr"
        },
        {
          "output_type": "stream",
          "text": [
            "Test set: Epoch : 118/200 Average loss: 0.4756, Test Accuracy: 83.75\n",
            "EPOCH: 119\n"
          ],
          "name": "stdout"
        },
        {
          "output_type": "stream",
          "text": [
            "Loss=0.6064829230308533 Batch_id=390 Train Accuracy=74.80: 100%|██████████| 391/391 [00:27<00:00, 14.04it/s]"
          ],
          "name": "stderr"
        },
        {
          "output_type": "stream",
          "text": [
            "Train set: Epoch : 119/200 Average loss: 0.0000, Train Accuracy: 74.8\n"
          ],
          "name": "stdout"
        },
        {
          "output_type": "stream",
          "text": [
            "\n",
            "  0%|          | 0/391 [00:00<?, ?it/s]"
          ],
          "name": "stderr"
        },
        {
          "output_type": "stream",
          "text": [
            "Test set: Epoch : 119/200 Average loss: 0.4759, Test Accuracy: 83.65\n",
            "EPOCH: 120\n"
          ],
          "name": "stdout"
        },
        {
          "output_type": "stream",
          "text": [
            "Loss=0.5881275534629822 Batch_id=390 Train Accuracy=74.95: 100%|██████████| 391/391 [00:27<00:00, 14.13it/s]"
          ],
          "name": "stderr"
        },
        {
          "output_type": "stream",
          "text": [
            "Train set: Epoch : 120/200 Average loss: 0.0000, Train Accuracy: 74.95\n"
          ],
          "name": "stdout"
        },
        {
          "output_type": "stream",
          "text": [
            "\n",
            "  0%|          | 0/391 [00:00<?, ?it/s]"
          ],
          "name": "stderr"
        },
        {
          "output_type": "stream",
          "text": [
            "Test set: Epoch : 120/200 Average loss: 0.4748, Test Accuracy: 83.62\n",
            "EPOCH: 121\n"
          ],
          "name": "stdout"
        },
        {
          "output_type": "stream",
          "text": [
            "Loss=0.7360384464263916 Batch_id=390 Train Accuracy=74.69: 100%|██████████| 391/391 [00:27<00:00, 14.01it/s]"
          ],
          "name": "stderr"
        },
        {
          "output_type": "stream",
          "text": [
            "Train set: Epoch : 121/200 Average loss: 0.0000, Train Accuracy: 74.69\n"
          ],
          "name": "stdout"
        },
        {
          "output_type": "stream",
          "text": [
            "\n",
            "  0%|          | 0/391 [00:00<?, ?it/s]"
          ],
          "name": "stderr"
        },
        {
          "output_type": "stream",
          "text": [
            "Test set: Epoch : 121/200 Average loss: 0.4704, Test Accuracy: 84.07\n",
            "EPOCH: 122\n"
          ],
          "name": "stdout"
        },
        {
          "output_type": "stream",
          "text": [
            "Loss=0.8214467167854309 Batch_id=390 Train Accuracy=74.74: 100%|██████████| 391/391 [00:27<00:00, 14.07it/s]"
          ],
          "name": "stderr"
        },
        {
          "output_type": "stream",
          "text": [
            "Train set: Epoch : 122/200 Average loss: 0.0000, Train Accuracy: 74.74\n"
          ],
          "name": "stdout"
        },
        {
          "output_type": "stream",
          "text": [
            "\n",
            "  0%|          | 0/391 [00:00<?, ?it/s]"
          ],
          "name": "stderr"
        },
        {
          "output_type": "stream",
          "text": [
            "Test set: Epoch : 122/200 Average loss: 0.4653, Test Accuracy: 84.02\n",
            "EPOCH: 123\n"
          ],
          "name": "stdout"
        },
        {
          "output_type": "stream",
          "text": [
            "Loss=0.7131035327911377 Batch_id=390 Train Accuracy=74.79: 100%|██████████| 391/391 [00:27<00:00, 14.05it/s]"
          ],
          "name": "stderr"
        },
        {
          "output_type": "stream",
          "text": [
            "Train set: Epoch : 123/200 Average loss: 0.0000, Train Accuracy: 74.79\n"
          ],
          "name": "stdout"
        },
        {
          "output_type": "stream",
          "text": [
            "\n",
            "  0%|          | 0/391 [00:00<?, ?it/s]"
          ],
          "name": "stderr"
        },
        {
          "output_type": "stream",
          "text": [
            "Test set: Epoch : 123/200 Average loss: 0.4877, Test Accuracy: 83.41\n",
            "EPOCH: 124\n"
          ],
          "name": "stdout"
        },
        {
          "output_type": "stream",
          "text": [
            "Loss=0.7084218859672546 Batch_id=390 Train Accuracy=74.91: 100%|██████████| 391/391 [00:27<00:00, 14.00it/s]"
          ],
          "name": "stderr"
        },
        {
          "output_type": "stream",
          "text": [
            "Train set: Epoch : 124/200 Average loss: 0.0000, Train Accuracy: 74.91\n"
          ],
          "name": "stdout"
        },
        {
          "output_type": "stream",
          "text": [
            "\n",
            "  0%|          | 0/391 [00:00<?, ?it/s]"
          ],
          "name": "stderr"
        },
        {
          "output_type": "stream",
          "text": [
            "Test set: Epoch : 124/200 Average loss: 0.4704, Test Accuracy: 84.24\n",
            "EPOCH: 125\n"
          ],
          "name": "stdout"
        },
        {
          "output_type": "stream",
          "text": [
            "Loss=0.898651659488678 Batch_id=390 Train Accuracy=75.22: 100%|██████████| 391/391 [00:27<00:00, 14.04it/s]"
          ],
          "name": "stderr"
        },
        {
          "output_type": "stream",
          "text": [
            "Train set: Epoch : 125/200 Average loss: 0.0000, Train Accuracy: 75.22\n"
          ],
          "name": "stdout"
        },
        {
          "output_type": "stream",
          "text": [
            "\n",
            "  0%|          | 0/391 [00:00<?, ?it/s]"
          ],
          "name": "stderr"
        },
        {
          "output_type": "stream",
          "text": [
            "Test set: Epoch : 125/200 Average loss: 0.4716, Test Accuracy: 84.16\n",
            "EPOCH: 126\n"
          ],
          "name": "stdout"
        },
        {
          "output_type": "stream",
          "text": [
            "Loss=0.6349949836730957 Batch_id=390 Train Accuracy=74.74: 100%|██████████| 391/391 [00:27<00:00, 14.11it/s]"
          ],
          "name": "stderr"
        },
        {
          "output_type": "stream",
          "text": [
            "Train set: Epoch : 126/200 Average loss: 0.0000, Train Accuracy: 74.74\n"
          ],
          "name": "stdout"
        },
        {
          "output_type": "stream",
          "text": [
            "\n",
            "  0%|          | 0/391 [00:00<?, ?it/s]"
          ],
          "name": "stderr"
        },
        {
          "output_type": "stream",
          "text": [
            "Test set: Epoch : 126/200 Average loss: 0.4664, Test Accuracy: 84.27\n",
            "EPOCH: 127\n"
          ],
          "name": "stdout"
        },
        {
          "output_type": "stream",
          "text": [
            "Loss=0.8606281280517578 Batch_id=390 Train Accuracy=75.04: 100%|██████████| 391/391 [00:27<00:00, 14.00it/s]"
          ],
          "name": "stderr"
        },
        {
          "output_type": "stream",
          "text": [
            "Train set: Epoch : 127/200 Average loss: 0.0000, Train Accuracy: 75.04\n"
          ],
          "name": "stdout"
        },
        {
          "output_type": "stream",
          "text": [
            "\n",
            "  0%|          | 0/391 [00:00<?, ?it/s]"
          ],
          "name": "stderr"
        },
        {
          "output_type": "stream",
          "text": [
            "Test set: Epoch : 127/200 Average loss: 0.4816, Test Accuracy: 83.78\n",
            "EPOCH: 128\n"
          ],
          "name": "stdout"
        },
        {
          "output_type": "stream",
          "text": [
            "Loss=0.7493078708648682 Batch_id=390 Train Accuracy=75.15: 100%|██████████| 391/391 [00:27<00:00, 14.04it/s]"
          ],
          "name": "stderr"
        },
        {
          "output_type": "stream",
          "text": [
            "Train set: Epoch : 128/200 Average loss: 0.0000, Train Accuracy: 75.15\n"
          ],
          "name": "stdout"
        },
        {
          "output_type": "stream",
          "text": [
            "\n",
            "  0%|          | 0/391 [00:00<?, ?it/s]"
          ],
          "name": "stderr"
        },
        {
          "output_type": "stream",
          "text": [
            "Test set: Epoch : 128/200 Average loss: 0.4683, Test Accuracy: 84.35\n",
            "EPOCH: 129\n"
          ],
          "name": "stdout"
        },
        {
          "output_type": "stream",
          "text": [
            "Loss=0.8372629880905151 Batch_id=390 Train Accuracy=75.12: 100%|██████████| 391/391 [00:27<00:00, 13.99it/s]"
          ],
          "name": "stderr"
        },
        {
          "output_type": "stream",
          "text": [
            "Train set: Epoch : 129/200 Average loss: 0.0000, Train Accuracy: 75.12\n"
          ],
          "name": "stdout"
        },
        {
          "output_type": "stream",
          "text": [
            "\n",
            "  0%|          | 0/391 [00:00<?, ?it/s]"
          ],
          "name": "stderr"
        },
        {
          "output_type": "stream",
          "text": [
            "Test set: Epoch : 129/200 Average loss: 0.4600, Test Accuracy: 84.3\n",
            "EPOCH: 130\n"
          ],
          "name": "stdout"
        },
        {
          "output_type": "stream",
          "text": [
            "Loss=0.6432269215583801 Batch_id=390 Train Accuracy=75.35: 100%|██████████| 391/391 [00:27<00:00, 14.06it/s]"
          ],
          "name": "stderr"
        },
        {
          "output_type": "stream",
          "text": [
            "Train set: Epoch : 130/200 Average loss: 0.0000, Train Accuracy: 75.35\n"
          ],
          "name": "stdout"
        },
        {
          "output_type": "stream",
          "text": [
            "\n",
            "  0%|          | 0/391 [00:00<?, ?it/s]"
          ],
          "name": "stderr"
        },
        {
          "output_type": "stream",
          "text": [
            "Test set: Epoch : 130/200 Average loss: 0.4626, Test Accuracy: 84.43\n",
            "EPOCH: 131\n"
          ],
          "name": "stdout"
        },
        {
          "output_type": "stream",
          "text": [
            "Loss=0.7150982022285461 Batch_id=390 Train Accuracy=75.28: 100%|██████████| 391/391 [00:27<00:00, 14.26it/s]"
          ],
          "name": "stderr"
        },
        {
          "output_type": "stream",
          "text": [
            "Train set: Epoch : 131/200 Average loss: 0.0000, Train Accuracy: 75.28\n"
          ],
          "name": "stdout"
        },
        {
          "output_type": "stream",
          "text": [
            "\n",
            "  0%|          | 0/391 [00:00<?, ?it/s]"
          ],
          "name": "stderr"
        },
        {
          "output_type": "stream",
          "text": [
            "Test set: Epoch : 131/200 Average loss: 0.4671, Test Accuracy: 84.03\n",
            "EPOCH: 132\n"
          ],
          "name": "stdout"
        },
        {
          "output_type": "stream",
          "text": [
            "Loss=0.7814763784408569 Batch_id=390 Train Accuracy=75.35: 100%|██████████| 391/391 [00:27<00:00, 14.30it/s]"
          ],
          "name": "stderr"
        },
        {
          "output_type": "stream",
          "text": [
            "Train set: Epoch : 132/200 Average loss: 0.0000, Train Accuracy: 75.35\n"
          ],
          "name": "stdout"
        },
        {
          "output_type": "stream",
          "text": [
            "\n",
            "  0%|          | 0/391 [00:00<?, ?it/s]"
          ],
          "name": "stderr"
        },
        {
          "output_type": "stream",
          "text": [
            "Test set: Epoch : 132/200 Average loss: 0.4723, Test Accuracy: 84.0\n",
            "EPOCH: 133\n"
          ],
          "name": "stdout"
        },
        {
          "output_type": "stream",
          "text": [
            "Loss=0.626732587814331 Batch_id=390 Train Accuracy=75.11: 100%|██████████| 391/391 [00:27<00:00, 14.33it/s]"
          ],
          "name": "stderr"
        },
        {
          "output_type": "stream",
          "text": [
            "Train set: Epoch : 133/200 Average loss: 0.0000, Train Accuracy: 75.11\n"
          ],
          "name": "stdout"
        },
        {
          "output_type": "stream",
          "text": [
            "\n",
            "  0%|          | 0/391 [00:00<?, ?it/s]"
          ],
          "name": "stderr"
        },
        {
          "output_type": "stream",
          "text": [
            "Test set: Epoch : 133/200 Average loss: 0.4716, Test Accuracy: 83.82\n",
            "EPOCH: 134\n"
          ],
          "name": "stdout"
        },
        {
          "output_type": "stream",
          "text": [
            "Loss=0.7765566110610962 Batch_id=390 Train Accuracy=75.26: 100%|██████████| 391/391 [00:27<00:00, 14.30it/s]"
          ],
          "name": "stderr"
        },
        {
          "output_type": "stream",
          "text": [
            "Train set: Epoch : 134/200 Average loss: 0.0000, Train Accuracy: 75.26\n"
          ],
          "name": "stdout"
        },
        {
          "output_type": "stream",
          "text": [
            "\n",
            "  0%|          | 0/391 [00:00<?, ?it/s]"
          ],
          "name": "stderr"
        },
        {
          "output_type": "stream",
          "text": [
            "Test set: Epoch : 134/200 Average loss: 0.4797, Test Accuracy: 83.73\n",
            "EPOCH: 135\n"
          ],
          "name": "stdout"
        },
        {
          "output_type": "stream",
          "text": [
            "Loss=0.825751543045044 Batch_id=390 Train Accuracy=74.99: 100%|██████████| 391/391 [00:27<00:00, 14.27it/s]"
          ],
          "name": "stderr"
        },
        {
          "output_type": "stream",
          "text": [
            "Train set: Epoch : 135/200 Average loss: 0.0000, Train Accuracy: 74.99\n"
          ],
          "name": "stdout"
        },
        {
          "output_type": "stream",
          "text": [
            "\n",
            "  0%|          | 0/391 [00:00<?, ?it/s]"
          ],
          "name": "stderr"
        },
        {
          "output_type": "stream",
          "text": [
            "Test set: Epoch : 135/200 Average loss: 0.4571, Test Accuracy: 84.47\n",
            "EPOCH: 136\n"
          ],
          "name": "stdout"
        },
        {
          "output_type": "stream",
          "text": [
            "Loss=0.847716212272644 Batch_id=390 Train Accuracy=75.15: 100%|██████████| 391/391 [00:27<00:00, 14.34it/s]"
          ],
          "name": "stderr"
        },
        {
          "output_type": "stream",
          "text": [
            "Train set: Epoch : 136/200 Average loss: 0.0000, Train Accuracy: 75.15\n"
          ],
          "name": "stdout"
        },
        {
          "output_type": "stream",
          "text": [
            "\n",
            "  0%|          | 0/391 [00:00<?, ?it/s]"
          ],
          "name": "stderr"
        },
        {
          "output_type": "stream",
          "text": [
            "Test set: Epoch : 136/200 Average loss: 0.4665, Test Accuracy: 84.06\n",
            "EPOCH: 137\n"
          ],
          "name": "stdout"
        },
        {
          "output_type": "stream",
          "text": [
            "Loss=0.5714215040206909 Batch_id=390 Train Accuracy=75.11: 100%|██████████| 391/391 [00:27<00:00, 14.28it/s]"
          ],
          "name": "stderr"
        },
        {
          "output_type": "stream",
          "text": [
            "Train set: Epoch : 137/200 Average loss: 0.0000, Train Accuracy: 75.11\n"
          ],
          "name": "stdout"
        },
        {
          "output_type": "stream",
          "text": [
            "\n",
            "  0%|          | 0/391 [00:00<?, ?it/s]"
          ],
          "name": "stderr"
        },
        {
          "output_type": "stream",
          "text": [
            "Test set: Epoch : 137/200 Average loss: 0.4679, Test Accuracy: 83.91\n",
            "EPOCH: 138\n"
          ],
          "name": "stdout"
        },
        {
          "output_type": "stream",
          "text": [
            "Loss=0.7190770506858826 Batch_id=390 Train Accuracy=75.39: 100%|██████████| 391/391 [00:27<00:00, 14.31it/s]"
          ],
          "name": "stderr"
        },
        {
          "output_type": "stream",
          "text": [
            "Train set: Epoch : 138/200 Average loss: 0.0000, Train Accuracy: 75.39\n"
          ],
          "name": "stdout"
        },
        {
          "output_type": "stream",
          "text": [
            "\n",
            "  0%|          | 0/391 [00:00<?, ?it/s]"
          ],
          "name": "stderr"
        },
        {
          "output_type": "stream",
          "text": [
            "Test set: Epoch : 138/200 Average loss: 0.4647, Test Accuracy: 84.18\n",
            "EPOCH: 139\n"
          ],
          "name": "stdout"
        },
        {
          "output_type": "stream",
          "text": [
            "Loss=0.7404554486274719 Batch_id=390 Train Accuracy=75.21: 100%|██████████| 391/391 [00:27<00:00, 14.20it/s]"
          ],
          "name": "stderr"
        },
        {
          "output_type": "stream",
          "text": [
            "Train set: Epoch : 139/200 Average loss: 0.0000, Train Accuracy: 75.21\n"
          ],
          "name": "stdout"
        },
        {
          "output_type": "stream",
          "text": [
            "\n",
            "  0%|          | 0/391 [00:00<?, ?it/s]"
          ],
          "name": "stderr"
        },
        {
          "output_type": "stream",
          "text": [
            "Test set: Epoch : 139/200 Average loss: 0.4705, Test Accuracy: 83.92\n",
            "EPOCH: 140\n"
          ],
          "name": "stdout"
        },
        {
          "output_type": "stream",
          "text": [
            "Loss=0.7230154871940613 Batch_id=390 Train Accuracy=75.45: 100%|██████████| 391/391 [00:27<00:00, 14.33it/s]"
          ],
          "name": "stderr"
        },
        {
          "output_type": "stream",
          "text": [
            "Train set: Epoch : 140/200 Average loss: 0.0000, Train Accuracy: 75.45\n"
          ],
          "name": "stdout"
        },
        {
          "output_type": "stream",
          "text": [
            "\n",
            "  0%|          | 0/391 [00:00<?, ?it/s]"
          ],
          "name": "stderr"
        },
        {
          "output_type": "stream",
          "text": [
            "Test set: Epoch : 140/200 Average loss: 0.4582, Test Accuracy: 84.26\n",
            "EPOCH: 141\n"
          ],
          "name": "stdout"
        },
        {
          "output_type": "stream",
          "text": [
            "Loss=0.68790203332901 Batch_id=390 Train Accuracy=75.37: 100%|██████████| 391/391 [00:27<00:00, 14.29it/s]"
          ],
          "name": "stderr"
        },
        {
          "output_type": "stream",
          "text": [
            "Train set: Epoch : 141/200 Average loss: 0.0000, Train Accuracy: 75.37\n"
          ],
          "name": "stdout"
        },
        {
          "output_type": "stream",
          "text": [
            "\n",
            "  0%|          | 0/391 [00:00<?, ?it/s]"
          ],
          "name": "stderr"
        },
        {
          "output_type": "stream",
          "text": [
            "Test set: Epoch : 141/200 Average loss: 0.4643, Test Accuracy: 84.21\n",
            "EPOCH: 142\n"
          ],
          "name": "stdout"
        },
        {
          "output_type": "stream",
          "text": [
            "Loss=0.9235648512840271 Batch_id=390 Train Accuracy=75.24: 100%|██████████| 391/391 [00:27<00:00, 14.32it/s]"
          ],
          "name": "stderr"
        },
        {
          "output_type": "stream",
          "text": [
            "Train set: Epoch : 142/200 Average loss: 0.0000, Train Accuracy: 75.24\n"
          ],
          "name": "stdout"
        },
        {
          "output_type": "stream",
          "text": [
            "\n",
            "  0%|          | 0/391 [00:00<?, ?it/s]"
          ],
          "name": "stderr"
        },
        {
          "output_type": "stream",
          "text": [
            "Test set: Epoch : 142/200 Average loss: 0.4746, Test Accuracy: 84.25\n",
            "EPOCH: 143\n"
          ],
          "name": "stdout"
        },
        {
          "output_type": "stream",
          "text": [
            "Loss=0.6795769929885864 Batch_id=390 Train Accuracy=75.44: 100%|██████████| 391/391 [00:27<00:00, 14.33it/s]"
          ],
          "name": "stderr"
        },
        {
          "output_type": "stream",
          "text": [
            "Train set: Epoch : 143/200 Average loss: 0.0000, Train Accuracy: 75.44\n"
          ],
          "name": "stdout"
        },
        {
          "output_type": "stream",
          "text": [
            "\n",
            "  0%|          | 0/391 [00:00<?, ?it/s]"
          ],
          "name": "stderr"
        },
        {
          "output_type": "stream",
          "text": [
            "Test set: Epoch : 143/200 Average loss: 0.4687, Test Accuracy: 83.88\n",
            "EPOCH: 144\n"
          ],
          "name": "stdout"
        },
        {
          "output_type": "stream",
          "text": [
            "Loss=0.893561840057373 Batch_id=390 Train Accuracy=75.45: 100%|██████████| 391/391 [00:27<00:00, 14.27it/s]"
          ],
          "name": "stderr"
        },
        {
          "output_type": "stream",
          "text": [
            "Train set: Epoch : 144/200 Average loss: 0.0000, Train Accuracy: 75.45\n"
          ],
          "name": "stdout"
        },
        {
          "output_type": "stream",
          "text": [
            "\n",
            "  0%|          | 0/391 [00:00<?, ?it/s]"
          ],
          "name": "stderr"
        },
        {
          "output_type": "stream",
          "text": [
            "Test set: Epoch : 144/200 Average loss: 0.4614, Test Accuracy: 84.33\n",
            "EPOCH: 145\n"
          ],
          "name": "stdout"
        },
        {
          "output_type": "stream",
          "text": [
            "Loss=0.6482771635055542 Batch_id=390 Train Accuracy=75.45: 100%|██████████| 391/391 [00:27<00:00, 14.23it/s]"
          ],
          "name": "stderr"
        },
        {
          "output_type": "stream",
          "text": [
            "Train set: Epoch : 145/200 Average loss: 0.0000, Train Accuracy: 75.45\n"
          ],
          "name": "stdout"
        },
        {
          "output_type": "stream",
          "text": [
            "\n",
            "  0%|          | 0/391 [00:00<?, ?it/s]"
          ],
          "name": "stderr"
        },
        {
          "output_type": "stream",
          "text": [
            "Test set: Epoch : 145/200 Average loss: 0.4665, Test Accuracy: 84.34\n",
            "EPOCH: 146\n"
          ],
          "name": "stdout"
        },
        {
          "output_type": "stream",
          "text": [
            "Loss=0.7398629784584045 Batch_id=390 Train Accuracy=76.07: 100%|██████████| 391/391 [00:27<00:00, 14.34it/s]"
          ],
          "name": "stderr"
        },
        {
          "output_type": "stream",
          "text": [
            "Train set: Epoch : 146/200 Average loss: 0.0000, Train Accuracy: 76.07\n"
          ],
          "name": "stdout"
        },
        {
          "output_type": "stream",
          "text": [
            "\n",
            "  0%|          | 0/391 [00:00<?, ?it/s]"
          ],
          "name": "stderr"
        },
        {
          "output_type": "stream",
          "text": [
            "Test set: Epoch : 146/200 Average loss: 0.4649, Test Accuracy: 84.62\n",
            "EPOCH: 147\n"
          ],
          "name": "stdout"
        },
        {
          "output_type": "stream",
          "text": [
            "Loss=0.6295496225357056 Batch_id=390 Train Accuracy=75.67: 100%|██████████| 391/391 [00:27<00:00, 14.23it/s]"
          ],
          "name": "stderr"
        },
        {
          "output_type": "stream",
          "text": [
            "Train set: Epoch : 147/200 Average loss: 0.0000, Train Accuracy: 75.67\n"
          ],
          "name": "stdout"
        },
        {
          "output_type": "stream",
          "text": [
            "\n",
            "  0%|          | 0/391 [00:00<?, ?it/s]"
          ],
          "name": "stderr"
        },
        {
          "output_type": "stream",
          "text": [
            "Test set: Epoch : 147/200 Average loss: 0.4603, Test Accuracy: 84.54\n",
            "EPOCH: 148\n"
          ],
          "name": "stdout"
        },
        {
          "output_type": "stream",
          "text": [
            "Loss=0.7575806379318237 Batch_id=390 Train Accuracy=75.48: 100%|██████████| 391/391 [00:27<00:00, 14.20it/s]"
          ],
          "name": "stderr"
        },
        {
          "output_type": "stream",
          "text": [
            "Train set: Epoch : 148/200 Average loss: 0.0000, Train Accuracy: 75.48\n"
          ],
          "name": "stdout"
        },
        {
          "output_type": "stream",
          "text": [
            "\n",
            "  0%|          | 0/391 [00:00<?, ?it/s]"
          ],
          "name": "stderr"
        },
        {
          "output_type": "stream",
          "text": [
            "Test set: Epoch : 148/200 Average loss: 0.4590, Test Accuracy: 84.27\n",
            "EPOCH: 149\n"
          ],
          "name": "stdout"
        },
        {
          "output_type": "stream",
          "text": [
            "Loss=0.8248909115791321 Batch_id=390 Train Accuracy=75.42: 100%|██████████| 391/391 [00:27<00:00, 14.27it/s]"
          ],
          "name": "stderr"
        },
        {
          "output_type": "stream",
          "text": [
            "Train set: Epoch : 149/200 Average loss: 0.0000, Train Accuracy: 75.42\n"
          ],
          "name": "stdout"
        },
        {
          "output_type": "stream",
          "text": [
            "\n",
            "  0%|          | 0/391 [00:00<?, ?it/s]"
          ],
          "name": "stderr"
        },
        {
          "output_type": "stream",
          "text": [
            "Test set: Epoch : 149/200 Average loss: 0.4501, Test Accuracy: 84.7\n",
            "EPOCH: 150\n"
          ],
          "name": "stdout"
        },
        {
          "output_type": "stream",
          "text": [
            "Loss=0.6337860822677612 Batch_id=390 Train Accuracy=75.78: 100%|██████████| 391/391 [00:27<00:00, 14.29it/s]"
          ],
          "name": "stderr"
        },
        {
          "output_type": "stream",
          "text": [
            "Train set: Epoch : 150/200 Average loss: 0.0000, Train Accuracy: 75.78\n"
          ],
          "name": "stdout"
        },
        {
          "output_type": "stream",
          "text": [
            "\n",
            "  0%|          | 0/391 [00:00<?, ?it/s]"
          ],
          "name": "stderr"
        },
        {
          "output_type": "stream",
          "text": [
            "Test set: Epoch : 150/200 Average loss: 0.4523, Test Accuracy: 84.72\n",
            "EPOCH: 151\n"
          ],
          "name": "stdout"
        },
        {
          "output_type": "stream",
          "text": [
            "Loss=0.7010969519615173 Batch_id=390 Train Accuracy=75.92: 100%|██████████| 391/391 [00:27<00:00, 14.35it/s]"
          ],
          "name": "stderr"
        },
        {
          "output_type": "stream",
          "text": [
            "Train set: Epoch : 151/200 Average loss: 0.0000, Train Accuracy: 75.92\n"
          ],
          "name": "stdout"
        },
        {
          "output_type": "stream",
          "text": [
            "\n",
            "  0%|          | 0/391 [00:00<?, ?it/s]"
          ],
          "name": "stderr"
        },
        {
          "output_type": "stream",
          "text": [
            "Test set: Epoch : 151/200 Average loss: 0.4577, Test Accuracy: 84.3\n",
            "EPOCH: 152\n"
          ],
          "name": "stdout"
        },
        {
          "output_type": "stream",
          "text": [
            "Loss=0.5906538963317871 Batch_id=390 Train Accuracy=75.38: 100%|██████████| 391/391 [00:27<00:00, 14.32it/s]"
          ],
          "name": "stderr"
        },
        {
          "output_type": "stream",
          "text": [
            "Train set: Epoch : 152/200 Average loss: 0.0000, Train Accuracy: 75.38\n"
          ],
          "name": "stdout"
        },
        {
          "output_type": "stream",
          "text": [
            "\n",
            "  0%|          | 0/391 [00:00<?, ?it/s]"
          ],
          "name": "stderr"
        },
        {
          "output_type": "stream",
          "text": [
            "Test set: Epoch : 152/200 Average loss: 0.4461, Test Accuracy: 84.92\n",
            "EPOCH: 153\n"
          ],
          "name": "stdout"
        },
        {
          "output_type": "stream",
          "text": [
            "Loss=0.7069231271743774 Batch_id=390 Train Accuracy=75.83: 100%|██████████| 391/391 [00:27<00:00, 14.29it/s]"
          ],
          "name": "stderr"
        },
        {
          "output_type": "stream",
          "text": [
            "Train set: Epoch : 153/200 Average loss: 0.0000, Train Accuracy: 75.83\n"
          ],
          "name": "stdout"
        },
        {
          "output_type": "stream",
          "text": [
            "\n",
            "  0%|          | 0/391 [00:00<?, ?it/s]"
          ],
          "name": "stderr"
        },
        {
          "output_type": "stream",
          "text": [
            "Test set: Epoch : 153/200 Average loss: 0.4648, Test Accuracy: 84.34\n",
            "EPOCH: 154\n"
          ],
          "name": "stdout"
        },
        {
          "output_type": "stream",
          "text": [
            "Loss=0.5021023750305176 Batch_id=390 Train Accuracy=75.86: 100%|██████████| 391/391 [00:27<00:00, 14.26it/s]"
          ],
          "name": "stderr"
        },
        {
          "output_type": "stream",
          "text": [
            "Train set: Epoch : 154/200 Average loss: 0.0000, Train Accuracy: 75.86\n"
          ],
          "name": "stdout"
        },
        {
          "output_type": "stream",
          "text": [
            "\n",
            "  0%|          | 0/391 [00:00<?, ?it/s]"
          ],
          "name": "stderr"
        },
        {
          "output_type": "stream",
          "text": [
            "Test set: Epoch : 154/200 Average loss: 0.4524, Test Accuracy: 84.8\n",
            "EPOCH: 155\n"
          ],
          "name": "stdout"
        },
        {
          "output_type": "stream",
          "text": [
            "Loss=0.8237719535827637 Batch_id=390 Train Accuracy=75.93: 100%|██████████| 391/391 [00:27<00:00, 14.27it/s]"
          ],
          "name": "stderr"
        },
        {
          "output_type": "stream",
          "text": [
            "Train set: Epoch : 155/200 Average loss: 0.0000, Train Accuracy: 75.93\n"
          ],
          "name": "stdout"
        },
        {
          "output_type": "stream",
          "text": [
            "\n",
            "  0%|          | 0/391 [00:00<?, ?it/s]"
          ],
          "name": "stderr"
        },
        {
          "output_type": "stream",
          "text": [
            "Test set: Epoch : 155/200 Average loss: 0.4481, Test Accuracy: 84.57\n",
            "EPOCH: 156\n"
          ],
          "name": "stdout"
        },
        {
          "output_type": "stream",
          "text": [
            "Loss=0.7588147521018982 Batch_id=390 Train Accuracy=75.65: 100%|██████████| 391/391 [00:27<00:00, 14.24it/s]"
          ],
          "name": "stderr"
        },
        {
          "output_type": "stream",
          "text": [
            "Train set: Epoch : 156/200 Average loss: 0.0000, Train Accuracy: 75.65\n"
          ],
          "name": "stdout"
        },
        {
          "output_type": "stream",
          "text": [
            "\n",
            "  0%|          | 0/391 [00:00<?, ?it/s]"
          ],
          "name": "stderr"
        },
        {
          "output_type": "stream",
          "text": [
            "Test set: Epoch : 156/200 Average loss: 0.4507, Test Accuracy: 84.71\n",
            "EPOCH: 157\n"
          ],
          "name": "stdout"
        },
        {
          "output_type": "stream",
          "text": [
            "Loss=0.664705216884613 Batch_id=390 Train Accuracy=75.98: 100%|██████████| 391/391 [00:27<00:00, 14.25it/s]"
          ],
          "name": "stderr"
        },
        {
          "output_type": "stream",
          "text": [
            "Train set: Epoch : 157/200 Average loss: 0.0000, Train Accuracy: 75.98\n"
          ],
          "name": "stdout"
        },
        {
          "output_type": "stream",
          "text": [
            "\n",
            "  0%|          | 0/391 [00:00<?, ?it/s]"
          ],
          "name": "stderr"
        },
        {
          "output_type": "stream",
          "text": [
            "Test set: Epoch : 157/200 Average loss: 0.4547, Test Accuracy: 84.7\n",
            "EPOCH: 158\n"
          ],
          "name": "stdout"
        },
        {
          "output_type": "stream",
          "text": [
            "Loss=0.6549018025398254 Batch_id=390 Train Accuracy=76.00: 100%|██████████| 391/391 [00:27<00:00, 14.31it/s]"
          ],
          "name": "stderr"
        },
        {
          "output_type": "stream",
          "text": [
            "Train set: Epoch : 158/200 Average loss: 0.0000, Train Accuracy: 76.0\n"
          ],
          "name": "stdout"
        },
        {
          "output_type": "stream",
          "text": [
            "\n",
            "  0%|          | 0/391 [00:00<?, ?it/s]"
          ],
          "name": "stderr"
        },
        {
          "output_type": "stream",
          "text": [
            "Test set: Epoch : 158/200 Average loss: 0.4583, Test Accuracy: 84.52\n",
            "EPOCH: 159\n"
          ],
          "name": "stdout"
        },
        {
          "output_type": "stream",
          "text": [
            "Loss=0.8932799696922302 Batch_id=390 Train Accuracy=76.07: 100%|██████████| 391/391 [00:27<00:00, 14.27it/s]"
          ],
          "name": "stderr"
        },
        {
          "output_type": "stream",
          "text": [
            "Train set: Epoch : 159/200 Average loss: 0.0000, Train Accuracy: 76.07\n"
          ],
          "name": "stdout"
        },
        {
          "output_type": "stream",
          "text": [
            "\n",
            "  0%|          | 0/391 [00:00<?, ?it/s]"
          ],
          "name": "stderr"
        },
        {
          "output_type": "stream",
          "text": [
            "Test set: Epoch : 159/200 Average loss: 0.4459, Test Accuracy: 84.91\n",
            "EPOCH: 160\n"
          ],
          "name": "stdout"
        },
        {
          "output_type": "stream",
          "text": [
            "Loss=0.7603437304496765 Batch_id=390 Train Accuracy=76.06: 100%|██████████| 391/391 [00:27<00:00, 14.25it/s]"
          ],
          "name": "stderr"
        },
        {
          "output_type": "stream",
          "text": [
            "Train set: Epoch : 160/200 Average loss: 0.0000, Train Accuracy: 76.06\n"
          ],
          "name": "stdout"
        },
        {
          "output_type": "stream",
          "text": [
            "\n",
            "  0%|          | 0/391 [00:00<?, ?it/s]"
          ],
          "name": "stderr"
        },
        {
          "output_type": "stream",
          "text": [
            "Test set: Epoch : 160/200 Average loss: 0.4478, Test Accuracy: 84.71\n",
            "EPOCH: 161\n"
          ],
          "name": "stdout"
        },
        {
          "output_type": "stream",
          "text": [
            "Loss=0.5723017454147339 Batch_id=390 Train Accuracy=76.09: 100%|██████████| 391/391 [00:27<00:00, 14.27it/s]"
          ],
          "name": "stderr"
        },
        {
          "output_type": "stream",
          "text": [
            "Train set: Epoch : 161/200 Average loss: 0.0000, Train Accuracy: 76.09\n"
          ],
          "name": "stdout"
        },
        {
          "output_type": "stream",
          "text": [
            "\n",
            "  0%|          | 0/391 [00:00<?, ?it/s]"
          ],
          "name": "stderr"
        },
        {
          "output_type": "stream",
          "text": [
            "Test set: Epoch : 161/200 Average loss: 0.4423, Test Accuracy: 84.92\n",
            "EPOCH: 162\n"
          ],
          "name": "stdout"
        },
        {
          "output_type": "stream",
          "text": [
            "Loss=0.755179762840271 Batch_id=390 Train Accuracy=75.61: 100%|██████████| 391/391 [00:27<00:00, 14.27it/s]"
          ],
          "name": "stderr"
        },
        {
          "output_type": "stream",
          "text": [
            "Train set: Epoch : 162/200 Average loss: 0.0000, Train Accuracy: 75.61\n"
          ],
          "name": "stdout"
        },
        {
          "output_type": "stream",
          "text": [
            "\n",
            "  0%|          | 0/391 [00:00<?, ?it/s]"
          ],
          "name": "stderr"
        },
        {
          "output_type": "stream",
          "text": [
            "Test set: Epoch : 162/200 Average loss: 0.4469, Test Accuracy: 84.84\n",
            "EPOCH: 163\n"
          ],
          "name": "stdout"
        },
        {
          "output_type": "stream",
          "text": [
            "Loss=0.49314528703689575 Batch_id=390 Train Accuracy=75.87: 100%|██████████| 391/391 [00:27<00:00, 14.29it/s]"
          ],
          "name": "stderr"
        },
        {
          "output_type": "stream",
          "text": [
            "Train set: Epoch : 163/200 Average loss: 0.0000, Train Accuracy: 75.87\n"
          ],
          "name": "stdout"
        },
        {
          "output_type": "stream",
          "text": [
            "\n",
            "  0%|          | 0/391 [00:00<?, ?it/s]"
          ],
          "name": "stderr"
        },
        {
          "output_type": "stream",
          "text": [
            "Test set: Epoch : 163/200 Average loss: 0.4594, Test Accuracy: 84.26\n",
            "EPOCH: 164\n"
          ],
          "name": "stdout"
        },
        {
          "output_type": "stream",
          "text": [
            "Loss=0.8369314670562744 Batch_id=390 Train Accuracy=75.60: 100%|██████████| 391/391 [00:27<00:00, 14.17it/s]"
          ],
          "name": "stderr"
        },
        {
          "output_type": "stream",
          "text": [
            "Train set: Epoch : 164/200 Average loss: 0.0000, Train Accuracy: 75.6\n"
          ],
          "name": "stdout"
        },
        {
          "output_type": "stream",
          "text": [
            "\n",
            "  0%|          | 0/391 [00:00<?, ?it/s]"
          ],
          "name": "stderr"
        },
        {
          "output_type": "stream",
          "text": [
            "Test set: Epoch : 164/200 Average loss: 0.4454, Test Accuracy: 84.75\n",
            "EPOCH: 165\n"
          ],
          "name": "stdout"
        },
        {
          "output_type": "stream",
          "text": [
            "Loss=0.7158820629119873 Batch_id=390 Train Accuracy=76.08: 100%|██████████| 391/391 [00:27<00:00, 14.29it/s]"
          ],
          "name": "stderr"
        },
        {
          "output_type": "stream",
          "text": [
            "Train set: Epoch : 165/200 Average loss: 0.0000, Train Accuracy: 76.08\n"
          ],
          "name": "stdout"
        },
        {
          "output_type": "stream",
          "text": [
            "\n",
            "  0%|          | 0/391 [00:00<?, ?it/s]"
          ],
          "name": "stderr"
        },
        {
          "output_type": "stream",
          "text": [
            "Test set: Epoch : 165/200 Average loss: 0.4463, Test Accuracy: 84.99\n",
            "EPOCH: 166\n"
          ],
          "name": "stdout"
        },
        {
          "output_type": "stream",
          "text": [
            "Loss=0.6718670725822449 Batch_id=390 Train Accuracy=75.96: 100%|██████████| 391/391 [00:27<00:00, 14.23it/s]"
          ],
          "name": "stderr"
        },
        {
          "output_type": "stream",
          "text": [
            "Train set: Epoch : 166/200 Average loss: 0.0000, Train Accuracy: 75.96\n"
          ],
          "name": "stdout"
        },
        {
          "output_type": "stream",
          "text": [
            "\n",
            "  0%|          | 0/391 [00:00<?, ?it/s]"
          ],
          "name": "stderr"
        },
        {
          "output_type": "stream",
          "text": [
            "Test set: Epoch : 166/200 Average loss: 0.4494, Test Accuracy: 84.77\n",
            "EPOCH: 167\n"
          ],
          "name": "stdout"
        },
        {
          "output_type": "stream",
          "text": [
            "Loss=0.6357173323631287 Batch_id=390 Train Accuracy=76.31: 100%|██████████| 391/391 [00:27<00:00, 14.21it/s]"
          ],
          "name": "stderr"
        },
        {
          "output_type": "stream",
          "text": [
            "Train set: Epoch : 167/200 Average loss: 0.0000, Train Accuracy: 76.31\n"
          ],
          "name": "stdout"
        },
        {
          "output_type": "stream",
          "text": [
            "\n",
            "  0%|          | 0/391 [00:00<?, ?it/s]"
          ],
          "name": "stderr"
        },
        {
          "output_type": "stream",
          "text": [
            "Test set: Epoch : 167/200 Average loss: 0.4447, Test Accuracy: 84.57\n",
            "EPOCH: 168\n"
          ],
          "name": "stdout"
        },
        {
          "output_type": "stream",
          "text": [
            "Loss=0.9190157055854797 Batch_id=390 Train Accuracy=76.07: 100%|██████████| 391/391 [00:27<00:00, 14.27it/s]"
          ],
          "name": "stderr"
        },
        {
          "output_type": "stream",
          "text": [
            "Train set: Epoch : 168/200 Average loss: 0.0000, Train Accuracy: 76.07\n"
          ],
          "name": "stdout"
        },
        {
          "output_type": "stream",
          "text": [
            "\n",
            "  0%|          | 0/391 [00:00<?, ?it/s]"
          ],
          "name": "stderr"
        },
        {
          "output_type": "stream",
          "text": [
            "Test set: Epoch : 168/200 Average loss: 0.4362, Test Accuracy: 85.19\n",
            "EPOCH: 169\n"
          ],
          "name": "stdout"
        },
        {
          "output_type": "stream",
          "text": [
            "Loss=0.6949096918106079 Batch_id=390 Train Accuracy=76.16: 100%|██████████| 391/391 [00:27<00:00, 14.31it/s]"
          ],
          "name": "stderr"
        },
        {
          "output_type": "stream",
          "text": [
            "Train set: Epoch : 169/200 Average loss: 0.0000, Train Accuracy: 76.16\n"
          ],
          "name": "stdout"
        },
        {
          "output_type": "stream",
          "text": [
            "\n",
            "  0%|          | 0/391 [00:00<?, ?it/s]"
          ],
          "name": "stderr"
        },
        {
          "output_type": "stream",
          "text": [
            "Test set: Epoch : 169/200 Average loss: 0.4530, Test Accuracy: 84.84\n",
            "EPOCH: 170\n"
          ],
          "name": "stdout"
        },
        {
          "output_type": "stream",
          "text": [
            "Loss=0.7141773700714111 Batch_id=390 Train Accuracy=76.27: 100%|██████████| 391/391 [00:27<00:00, 14.26it/s]"
          ],
          "name": "stderr"
        },
        {
          "output_type": "stream",
          "text": [
            "Train set: Epoch : 170/200 Average loss: 0.0000, Train Accuracy: 76.27\n"
          ],
          "name": "stdout"
        },
        {
          "output_type": "stream",
          "text": [
            "\n",
            "  0%|          | 0/391 [00:00<?, ?it/s]"
          ],
          "name": "stderr"
        },
        {
          "output_type": "stream",
          "text": [
            "Test set: Epoch : 170/200 Average loss: 0.4453, Test Accuracy: 84.78\n",
            "EPOCH: 171\n"
          ],
          "name": "stdout"
        },
        {
          "output_type": "stream",
          "text": [
            "Loss=0.575361967086792 Batch_id=390 Train Accuracy=76.41: 100%|██████████| 391/391 [00:27<00:00, 14.26it/s]"
          ],
          "name": "stderr"
        },
        {
          "output_type": "stream",
          "text": [
            "Train set: Epoch : 171/200 Average loss: 0.0000, Train Accuracy: 76.41\n"
          ],
          "name": "stdout"
        },
        {
          "output_type": "stream",
          "text": [
            "\n",
            "  0%|          | 0/391 [00:00<?, ?it/s]"
          ],
          "name": "stderr"
        },
        {
          "output_type": "stream",
          "text": [
            "Test set: Epoch : 171/200 Average loss: 0.4526, Test Accuracy: 84.88\n",
            "EPOCH: 172\n"
          ],
          "name": "stdout"
        },
        {
          "output_type": "stream",
          "text": [
            "Loss=0.7198116183280945 Batch_id=390 Train Accuracy=76.18: 100%|██████████| 391/391 [00:27<00:00, 14.24it/s]"
          ],
          "name": "stderr"
        },
        {
          "output_type": "stream",
          "text": [
            "Train set: Epoch : 172/200 Average loss: 0.0000, Train Accuracy: 76.18\n"
          ],
          "name": "stdout"
        },
        {
          "output_type": "stream",
          "text": [
            "\n",
            "  0%|          | 0/391 [00:00<?, ?it/s]"
          ],
          "name": "stderr"
        },
        {
          "output_type": "stream",
          "text": [
            "Test set: Epoch : 172/200 Average loss: 0.4449, Test Accuracy: 84.83\n",
            "EPOCH: 173\n"
          ],
          "name": "stdout"
        },
        {
          "output_type": "stream",
          "text": [
            "Loss=0.6875841617584229 Batch_id=390 Train Accuracy=76.13: 100%|██████████| 391/391 [00:27<00:00, 14.26it/s]"
          ],
          "name": "stderr"
        },
        {
          "output_type": "stream",
          "text": [
            "Train set: Epoch : 173/200 Average loss: 0.0000, Train Accuracy: 76.13\n"
          ],
          "name": "stdout"
        },
        {
          "output_type": "stream",
          "text": [
            "\n",
            "  0%|          | 0/391 [00:00<?, ?it/s]"
          ],
          "name": "stderr"
        },
        {
          "output_type": "stream",
          "text": [
            "Test set: Epoch : 173/200 Average loss: 0.4535, Test Accuracy: 84.56\n",
            "EPOCH: 174\n"
          ],
          "name": "stdout"
        },
        {
          "output_type": "stream",
          "text": [
            "Loss=0.7434441447257996 Batch_id=390 Train Accuracy=76.52: 100%|██████████| 391/391 [00:27<00:00, 14.23it/s]"
          ],
          "name": "stderr"
        },
        {
          "output_type": "stream",
          "text": [
            "Train set: Epoch : 174/200 Average loss: 0.0000, Train Accuracy: 76.52\n"
          ],
          "name": "stdout"
        },
        {
          "output_type": "stream",
          "text": [
            "\n",
            "  0%|          | 0/391 [00:00<?, ?it/s]"
          ],
          "name": "stderr"
        },
        {
          "output_type": "stream",
          "text": [
            "Test set: Epoch : 174/200 Average loss: 0.4383, Test Accuracy: 84.99\n",
            "EPOCH: 175\n"
          ],
          "name": "stdout"
        },
        {
          "output_type": "stream",
          "text": [
            "Loss=0.5894904136657715 Batch_id=390 Train Accuracy=76.64: 100%|██████████| 391/391 [00:27<00:00, 14.25it/s]"
          ],
          "name": "stderr"
        },
        {
          "output_type": "stream",
          "text": [
            "Train set: Epoch : 175/200 Average loss: 0.0000, Train Accuracy: 76.64\n"
          ],
          "name": "stdout"
        },
        {
          "output_type": "stream",
          "text": [
            "\n",
            "  0%|          | 0/391 [00:00<?, ?it/s]"
          ],
          "name": "stderr"
        },
        {
          "output_type": "stream",
          "text": [
            "Test set: Epoch : 175/200 Average loss: 0.4608, Test Accuracy: 84.42\n",
            "EPOCH: 176\n"
          ],
          "name": "stdout"
        },
        {
          "output_type": "stream",
          "text": [
            "Loss=0.6834887266159058 Batch_id=390 Train Accuracy=76.26: 100%|██████████| 391/391 [00:27<00:00, 14.27it/s]"
          ],
          "name": "stderr"
        },
        {
          "output_type": "stream",
          "text": [
            "Train set: Epoch : 176/200 Average loss: 0.0000, Train Accuracy: 76.26\n"
          ],
          "name": "stdout"
        },
        {
          "output_type": "stream",
          "text": [
            "\n",
            "  0%|          | 0/391 [00:00<?, ?it/s]"
          ],
          "name": "stderr"
        },
        {
          "output_type": "stream",
          "text": [
            "Test set: Epoch : 176/200 Average loss: 0.4438, Test Accuracy: 84.92\n",
            "EPOCH: 177\n"
          ],
          "name": "stdout"
        },
        {
          "output_type": "stream",
          "text": [
            "Loss=0.6187070608139038 Batch_id=390 Train Accuracy=76.41: 100%|██████████| 391/391 [00:27<00:00, 14.23it/s]"
          ],
          "name": "stderr"
        },
        {
          "output_type": "stream",
          "text": [
            "Train set: Epoch : 177/200 Average loss: 0.0000, Train Accuracy: 76.41\n"
          ],
          "name": "stdout"
        },
        {
          "output_type": "stream",
          "text": [
            "\n",
            "  0%|          | 0/391 [00:00<?, ?it/s]"
          ],
          "name": "stderr"
        },
        {
          "output_type": "stream",
          "text": [
            "Test set: Epoch : 177/200 Average loss: 0.4338, Test Accuracy: 85.11\n",
            "EPOCH: 178\n"
          ],
          "name": "stdout"
        },
        {
          "output_type": "stream",
          "text": [
            "Loss=0.5769803524017334 Batch_id=390 Train Accuracy=76.18: 100%|██████████| 391/391 [00:28<00:00, 13.92it/s]"
          ],
          "name": "stderr"
        },
        {
          "output_type": "stream",
          "text": [
            "Train set: Epoch : 178/200 Average loss: 0.0000, Train Accuracy: 76.18\n"
          ],
          "name": "stdout"
        },
        {
          "output_type": "stream",
          "text": [
            "\n",
            "  0%|          | 0/391 [00:00<?, ?it/s]"
          ],
          "name": "stderr"
        },
        {
          "output_type": "stream",
          "text": [
            "Test set: Epoch : 178/200 Average loss: 0.4409, Test Accuracy: 85.48\n",
            "EPOCH: 179\n"
          ],
          "name": "stdout"
        },
        {
          "output_type": "stream",
          "text": [
            "Loss=0.8528364300727844 Batch_id=390 Train Accuracy=76.30: 100%|██████████| 391/391 [00:29<00:00, 13.13it/s]"
          ],
          "name": "stderr"
        },
        {
          "output_type": "stream",
          "text": [
            "Train set: Epoch : 179/200 Average loss: 0.0000, Train Accuracy: 76.3\n"
          ],
          "name": "stdout"
        },
        {
          "output_type": "stream",
          "text": [
            "\n",
            "  0%|          | 0/391 [00:00<?, ?it/s]"
          ],
          "name": "stderr"
        },
        {
          "output_type": "stream",
          "text": [
            "Test set: Epoch : 179/200 Average loss: 0.4523, Test Accuracy: 84.8\n",
            "EPOCH: 180\n"
          ],
          "name": "stdout"
        },
        {
          "output_type": "stream",
          "text": [
            "Loss=0.5659802556037903 Batch_id=390 Train Accuracy=76.52: 100%|██████████| 391/391 [00:28<00:00, 13.56it/s]"
          ],
          "name": "stderr"
        },
        {
          "output_type": "stream",
          "text": [
            "Train set: Epoch : 180/200 Average loss: 0.0000, Train Accuracy: 76.52\n"
          ],
          "name": "stdout"
        },
        {
          "output_type": "stream",
          "text": [
            "\n",
            "  0%|          | 0/391 [00:00<?, ?it/s]"
          ],
          "name": "stderr"
        },
        {
          "output_type": "stream",
          "text": [
            "Test set: Epoch : 180/200 Average loss: 0.4431, Test Accuracy: 85.25\n",
            "EPOCH: 181\n"
          ],
          "name": "stdout"
        },
        {
          "output_type": "stream",
          "text": [
            "Loss=0.7259116172790527 Batch_id=390 Train Accuracy=76.38: 100%|██████████| 391/391 [00:28<00:00, 13.84it/s]"
          ],
          "name": "stderr"
        },
        {
          "output_type": "stream",
          "text": [
            "Train set: Epoch : 181/200 Average loss: 0.0000, Train Accuracy: 76.38\n"
          ],
          "name": "stdout"
        },
        {
          "output_type": "stream",
          "text": [
            "\n",
            "  0%|          | 0/391 [00:00<?, ?it/s]"
          ],
          "name": "stderr"
        },
        {
          "output_type": "stream",
          "text": [
            "Test set: Epoch : 181/200 Average loss: 0.4308, Test Accuracy: 85.14\n",
            "EPOCH: 182\n"
          ],
          "name": "stdout"
        },
        {
          "output_type": "stream",
          "text": [
            "Loss=0.6580047607421875 Batch_id=390 Train Accuracy=76.60: 100%|██████████| 391/391 [00:28<00:00, 13.87it/s]"
          ],
          "name": "stderr"
        },
        {
          "output_type": "stream",
          "text": [
            "Train set: Epoch : 182/200 Average loss: 0.0000, Train Accuracy: 76.6\n"
          ],
          "name": "stdout"
        },
        {
          "output_type": "stream",
          "text": [
            "\n",
            "  0%|          | 0/391 [00:00<?, ?it/s]"
          ],
          "name": "stderr"
        },
        {
          "output_type": "stream",
          "text": [
            "Test set: Epoch : 182/200 Average loss: 0.4372, Test Accuracy: 84.92\n",
            "EPOCH: 183\n"
          ],
          "name": "stdout"
        },
        {
          "output_type": "stream",
          "text": [
            "Loss=0.5933521389961243 Batch_id=390 Train Accuracy=76.51: 100%|██████████| 391/391 [00:28<00:00, 13.79it/s]"
          ],
          "name": "stderr"
        },
        {
          "output_type": "stream",
          "text": [
            "Train set: Epoch : 183/200 Average loss: 0.0000, Train Accuracy: 76.51\n"
          ],
          "name": "stdout"
        },
        {
          "output_type": "stream",
          "text": [
            "\n",
            "  0%|          | 0/391 [00:00<?, ?it/s]"
          ],
          "name": "stderr"
        },
        {
          "output_type": "stream",
          "text": [
            "Test set: Epoch : 183/200 Average loss: 0.4350, Test Accuracy: 85.21\n",
            "EPOCH: 184\n"
          ],
          "name": "stdout"
        },
        {
          "output_type": "stream",
          "text": [
            "Loss=0.6694794297218323 Batch_id=390 Train Accuracy=76.57: 100%|██████████| 391/391 [00:28<00:00, 13.86it/s]"
          ],
          "name": "stderr"
        },
        {
          "output_type": "stream",
          "text": [
            "Train set: Epoch : 184/200 Average loss: 0.0000, Train Accuracy: 76.57\n"
          ],
          "name": "stdout"
        },
        {
          "output_type": "stream",
          "text": [
            "\n",
            "  0%|          | 0/391 [00:00<?, ?it/s]"
          ],
          "name": "stderr"
        },
        {
          "output_type": "stream",
          "text": [
            "Test set: Epoch : 184/200 Average loss: 0.4444, Test Accuracy: 85.13\n",
            "EPOCH: 185\n"
          ],
          "name": "stdout"
        },
        {
          "output_type": "stream",
          "text": [
            "Loss=0.8885968923568726 Batch_id=390 Train Accuracy=76.50: 100%|██████████| 391/391 [00:28<00:00, 13.75it/s]"
          ],
          "name": "stderr"
        },
        {
          "output_type": "stream",
          "text": [
            "Train set: Epoch : 185/200 Average loss: 0.0000, Train Accuracy: 76.5\n"
          ],
          "name": "stdout"
        },
        {
          "output_type": "stream",
          "text": [
            "\n",
            "  0%|          | 0/391 [00:00<?, ?it/s]"
          ],
          "name": "stderr"
        },
        {
          "output_type": "stream",
          "text": [
            "Test set: Epoch : 185/200 Average loss: 0.4385, Test Accuracy: 85.18\n",
            "EPOCH: 186\n"
          ],
          "name": "stdout"
        },
        {
          "output_type": "stream",
          "text": [
            "Loss=0.7988879084587097 Batch_id=390 Train Accuracy=76.45: 100%|██████████| 391/391 [00:28<00:00, 13.83it/s]"
          ],
          "name": "stderr"
        },
        {
          "output_type": "stream",
          "text": [
            "Train set: Epoch : 186/200 Average loss: 0.0000, Train Accuracy: 76.45\n"
          ],
          "name": "stdout"
        },
        {
          "output_type": "stream",
          "text": [
            "\n",
            "  0%|          | 0/391 [00:00<?, ?it/s]"
          ],
          "name": "stderr"
        },
        {
          "output_type": "stream",
          "text": [
            "Test set: Epoch : 186/200 Average loss: 0.4313, Test Accuracy: 85.03\n",
            "EPOCH: 187\n"
          ],
          "name": "stdout"
        },
        {
          "output_type": "stream",
          "text": [
            "Loss=0.684880256652832 Batch_id=390 Train Accuracy=76.64: 100%|██████████| 391/391 [00:27<00:00, 14.02it/s]"
          ],
          "name": "stderr"
        },
        {
          "output_type": "stream",
          "text": [
            "Train set: Epoch : 187/200 Average loss: 0.0000, Train Accuracy: 76.64\n"
          ],
          "name": "stdout"
        },
        {
          "output_type": "stream",
          "text": [
            "\n",
            "  0%|          | 0/391 [00:00<?, ?it/s]"
          ],
          "name": "stderr"
        },
        {
          "output_type": "stream",
          "text": [
            "Test set: Epoch : 187/200 Average loss: 0.4444, Test Accuracy: 85.04\n",
            "EPOCH: 188\n"
          ],
          "name": "stdout"
        },
        {
          "output_type": "stream",
          "text": [
            "Loss=0.7743374109268188 Batch_id=390 Train Accuracy=76.67: 100%|██████████| 391/391 [00:28<00:00, 13.95it/s]"
          ],
          "name": "stderr"
        },
        {
          "output_type": "stream",
          "text": [
            "Train set: Epoch : 188/200 Average loss: 0.0000, Train Accuracy: 76.67\n"
          ],
          "name": "stdout"
        },
        {
          "output_type": "stream",
          "text": [
            "\n",
            "  0%|          | 0/391 [00:00<?, ?it/s]"
          ],
          "name": "stderr"
        },
        {
          "output_type": "stream",
          "text": [
            "Test set: Epoch : 188/200 Average loss: 0.4440, Test Accuracy: 85.09\n",
            "EPOCH: 189\n"
          ],
          "name": "stdout"
        },
        {
          "output_type": "stream",
          "text": [
            "Loss=0.7697488069534302 Batch_id=390 Train Accuracy=76.45: 100%|██████████| 391/391 [00:28<00:00, 13.90it/s]"
          ],
          "name": "stderr"
        },
        {
          "output_type": "stream",
          "text": [
            "Train set: Epoch : 189/200 Average loss: 0.0000, Train Accuracy: 76.45\n"
          ],
          "name": "stdout"
        },
        {
          "output_type": "stream",
          "text": [
            "\n",
            "  0%|          | 0/391 [00:00<?, ?it/s]"
          ],
          "name": "stderr"
        },
        {
          "output_type": "stream",
          "text": [
            "Test set: Epoch : 189/200 Average loss: 0.4400, Test Accuracy: 85.06\n",
            "EPOCH: 190\n"
          ],
          "name": "stdout"
        },
        {
          "output_type": "stream",
          "text": [
            "Loss=0.8585066795349121 Batch_id=390 Train Accuracy=76.56: 100%|██████████| 391/391 [00:28<00:00, 13.94it/s]"
          ],
          "name": "stderr"
        },
        {
          "output_type": "stream",
          "text": [
            "Train set: Epoch : 190/200 Average loss: 0.0000, Train Accuracy: 76.56\n"
          ],
          "name": "stdout"
        },
        {
          "output_type": "stream",
          "text": [
            "\n",
            "  0%|          | 0/391 [00:00<?, ?it/s]"
          ],
          "name": "stderr"
        },
        {
          "output_type": "stream",
          "text": [
            "Test set: Epoch : 190/200 Average loss: 0.4321, Test Accuracy: 85.34\n",
            "EPOCH: 191\n"
          ],
          "name": "stdout"
        },
        {
          "output_type": "stream",
          "text": [
            "Loss=0.8175790309906006 Batch_id=390 Train Accuracy=76.85: 100%|██████████| 391/391 [00:27<00:00, 14.02it/s]"
          ],
          "name": "stderr"
        },
        {
          "output_type": "stream",
          "text": [
            "Train set: Epoch : 191/200 Average loss: 0.0000, Train Accuracy: 76.85\n"
          ],
          "name": "stdout"
        },
        {
          "output_type": "stream",
          "text": [
            "\n",
            "  0%|          | 0/391 [00:00<?, ?it/s]"
          ],
          "name": "stderr"
        },
        {
          "output_type": "stream",
          "text": [
            "Test set: Epoch : 191/200 Average loss: 0.4414, Test Accuracy: 85.14\n",
            "EPOCH: 192\n"
          ],
          "name": "stdout"
        },
        {
          "output_type": "stream",
          "text": [
            "Loss=0.8411511778831482 Batch_id=390 Train Accuracy=76.54: 100%|██████████| 391/391 [00:27<00:00, 14.07it/s]"
          ],
          "name": "stderr"
        },
        {
          "output_type": "stream",
          "text": [
            "Train set: Epoch : 192/200 Average loss: 0.0000, Train Accuracy: 76.54\n"
          ],
          "name": "stdout"
        },
        {
          "output_type": "stream",
          "text": [
            "\n",
            "  0%|          | 0/391 [00:00<?, ?it/s]"
          ],
          "name": "stderr"
        },
        {
          "output_type": "stream",
          "text": [
            "Test set: Epoch : 192/200 Average loss: 0.4389, Test Accuracy: 85.04\n",
            "EPOCH: 193\n"
          ],
          "name": "stdout"
        },
        {
          "output_type": "stream",
          "text": [
            "Loss=0.5805323719978333 Batch_id=390 Train Accuracy=76.38: 100%|██████████| 391/391 [00:28<00:00, 13.96it/s]"
          ],
          "name": "stderr"
        },
        {
          "output_type": "stream",
          "text": [
            "Train set: Epoch : 193/200 Average loss: 0.0000, Train Accuracy: 76.38\n"
          ],
          "name": "stdout"
        },
        {
          "output_type": "stream",
          "text": [
            "\n",
            "  0%|          | 0/391 [00:00<?, ?it/s]"
          ],
          "name": "stderr"
        },
        {
          "output_type": "stream",
          "text": [
            "Test set: Epoch : 193/200 Average loss: 0.4373, Test Accuracy: 84.98\n",
            "EPOCH: 194\n"
          ],
          "name": "stdout"
        },
        {
          "output_type": "stream",
          "text": [
            "Loss=0.6141543388366699 Batch_id=390 Train Accuracy=76.93: 100%|██████████| 391/391 [00:28<00:00, 13.77it/s]"
          ],
          "name": "stderr"
        },
        {
          "output_type": "stream",
          "text": [
            "Train set: Epoch : 194/200 Average loss: 0.0000, Train Accuracy: 76.93\n"
          ],
          "name": "stdout"
        },
        {
          "output_type": "stream",
          "text": [
            "\n",
            "  0%|          | 0/391 [00:00<?, ?it/s]"
          ],
          "name": "stderr"
        },
        {
          "output_type": "stream",
          "text": [
            "Test set: Epoch : 194/200 Average loss: 0.4383, Test Accuracy: 85.12\n",
            "EPOCH: 195\n"
          ],
          "name": "stdout"
        },
        {
          "output_type": "stream",
          "text": [
            "Loss=0.633884608745575 Batch_id=390 Train Accuracy=76.70: 100%|██████████| 391/391 [00:28<00:00, 13.89it/s]"
          ],
          "name": "stderr"
        },
        {
          "output_type": "stream",
          "text": [
            "Train set: Epoch : 195/200 Average loss: 0.0000, Train Accuracy: 76.7\n"
          ],
          "name": "stdout"
        },
        {
          "output_type": "stream",
          "text": [
            "\n",
            "  0%|          | 0/391 [00:00<?, ?it/s]"
          ],
          "name": "stderr"
        },
        {
          "output_type": "stream",
          "text": [
            "Test set: Epoch : 195/200 Average loss: 0.4320, Test Accuracy: 85.32\n",
            "EPOCH: 196\n"
          ],
          "name": "stdout"
        },
        {
          "output_type": "stream",
          "text": [
            "Loss=0.5161879658699036 Batch_id=390 Train Accuracy=77.04: 100%|██████████| 391/391 [00:28<00:00, 13.89it/s]"
          ],
          "name": "stderr"
        },
        {
          "output_type": "stream",
          "text": [
            "Train set: Epoch : 196/200 Average loss: 0.0000, Train Accuracy: 77.04\n"
          ],
          "name": "stdout"
        },
        {
          "output_type": "stream",
          "text": [
            "\n",
            "  0%|          | 0/391 [00:00<?, ?it/s]"
          ],
          "name": "stderr"
        },
        {
          "output_type": "stream",
          "text": [
            "Test set: Epoch : 196/200 Average loss: 0.4454, Test Accuracy: 84.54\n",
            "EPOCH: 197\n"
          ],
          "name": "stdout"
        },
        {
          "output_type": "stream",
          "text": [
            "Loss=0.665833055973053 Batch_id=390 Train Accuracy=76.93: 100%|██████████| 391/391 [00:28<00:00, 13.96it/s]"
          ],
          "name": "stderr"
        },
        {
          "output_type": "stream",
          "text": [
            "Train set: Epoch : 197/200 Average loss: 0.0000, Train Accuracy: 76.93\n"
          ],
          "name": "stdout"
        },
        {
          "output_type": "stream",
          "text": [
            "\n",
            "  0%|          | 0/391 [00:00<?, ?it/s]"
          ],
          "name": "stderr"
        },
        {
          "output_type": "stream",
          "text": [
            "Test set: Epoch : 197/200 Average loss: 0.4409, Test Accuracy: 84.98\n",
            "EPOCH: 198\n"
          ],
          "name": "stdout"
        },
        {
          "output_type": "stream",
          "text": [
            "Loss=0.7051326632499695 Batch_id=390 Train Accuracy=77.15: 100%|██████████| 391/391 [00:28<00:00, 13.92it/s]"
          ],
          "name": "stderr"
        },
        {
          "output_type": "stream",
          "text": [
            "Train set: Epoch : 198/200 Average loss: 0.0000, Train Accuracy: 77.15\n"
          ],
          "name": "stdout"
        },
        {
          "output_type": "stream",
          "text": [
            "\n",
            "  0%|          | 0/391 [00:00<?, ?it/s]"
          ],
          "name": "stderr"
        },
        {
          "output_type": "stream",
          "text": [
            "Test set: Epoch : 198/200 Average loss: 0.4363, Test Accuracy: 85.53\n",
            "EPOCH: 199\n"
          ],
          "name": "stdout"
        },
        {
          "output_type": "stream",
          "text": [
            "Loss=0.5994884967803955 Batch_id=390 Train Accuracy=76.91: 100%|██████████| 391/391 [00:28<00:00, 13.86it/s]"
          ],
          "name": "stderr"
        },
        {
          "output_type": "stream",
          "text": [
            "Train set: Epoch : 199/200 Average loss: 0.0000, Train Accuracy: 76.91\n"
          ],
          "name": "stdout"
        },
        {
          "output_type": "stream",
          "text": [
            "\n"
          ],
          "name": "stderr"
        },
        {
          "output_type": "stream",
          "text": [
            "Test set: Epoch : 199/200 Average loss: 0.4342, Test Accuracy: 85.05\n"
          ],
          "name": "stdout"
        }
      ]
    },
    {
      "cell_type": "code",
      "metadata": {
        "id": "SMbkhAZ0l4vX",
        "colab": {
          "base_uri": "https://localhost:8080/"
        },
        "outputId": "bd0202cb-aa12-4d7e-9b11-f963833d40b4"
      },
      "source": [
        "print(f'Max train accuracy:{max(train_stats.accuracy)} out of {len(train_stats.accuracy)} epochs')\n",
        "print(f'Max test accuracy :{max(test_stats.accuracy)} out of {len(test_stats.accuracy)} epochs')"
      ],
      "execution_count": 21,
      "outputs": [
        {
          "output_type": "stream",
          "text": [
            "Max train accuracy:77.15 out of 200 epochs\n",
            "Max test accuracy :85.53 out of 200 epochs\n"
          ],
          "name": "stdout"
        }
      ]
    },
    {
      "cell_type": "code",
      "metadata": {
        "colab": {
          "base_uri": "https://localhost:8080/"
        },
        "id": "pEGoZ-6GNEy3",
        "outputId": "61e3325e-badf-4fde-9555-190c950e120b"
      },
      "source": [
        "print(f'Train accuracy: {train_stats.accuracy}')\n",
        "print(f'Test accuracy : {test_stats.accuracy}')"
      ],
      "execution_count": 22,
      "outputs": [
        {
          "output_type": "stream",
          "text": [
            "Train accuracy: [27.95, 39.16, 44.27, 47.42, 50.08, 52.33, 54.1, 55.15, 56.34, 57.47, 58.37, 58.81, 59.61, 60.3, 61.2, 61.53, 62.23, 62.6, 62.63, 62.81, 63.43, 63.92, 64.04, 64.62, 64.89, 65.41, 65.49, 65.8, 65.94, 66.51, 66.52, 66.62, 66.45, 66.97, 66.95, 67.33, 67.75, 68.11, 67.84, 68.52, 68.48, 68.64, 68.62, 68.98, 68.9, 69.09, 69.59, 69.44, 69.58, 69.71, 69.84, 70.39, 70.37, 70.45, 70.39, 70.65, 70.9, 70.94, 70.77, 71.18, 71.2, 71.01, 71.27, 70.95, 71.33, 71.5, 71.69, 71.7, 71.74, 71.91, 71.95, 71.96, 72.18, 72.23, 72.21, 72.06, 72.75, 72.69, 72.5, 72.63, 72.68, 72.76, 72.88, 73.25, 72.95, 73.03, 73.01, 73.4, 73.22, 73.3, 72.99, 73.2, 73.49, 73.27, 73.56, 73.45, 73.47, 73.67, 73.84, 73.74, 73.99, 73.85, 73.93, 74.2, 73.93, 74.31, 74.19, 74.21, 74.27, 74.35, 74.24, 74.34, 74.29, 74.43, 74.55, 74.39, 74.67, 74.78, 74.48, 74.8, 74.95, 74.69, 74.74, 74.79, 74.91, 75.22, 74.74, 75.04, 75.15, 75.12, 75.35, 75.28, 75.35, 75.11, 75.26, 74.99, 75.15, 75.11, 75.39, 75.21, 75.45, 75.37, 75.24, 75.44, 75.45, 75.45, 76.07, 75.67, 75.48, 75.42, 75.78, 75.92, 75.38, 75.83, 75.86, 75.93, 75.65, 75.98, 76.0, 76.07, 76.06, 76.09, 75.61, 75.87, 75.6, 76.08, 75.96, 76.31, 76.07, 76.16, 76.27, 76.41, 76.18, 76.13, 76.52, 76.64, 76.26, 76.41, 76.18, 76.3, 76.52, 76.38, 76.6, 76.51, 76.57, 76.5, 76.45, 76.64, 76.67, 76.45, 76.56, 76.85, 76.54, 76.38, 76.93, 76.7, 77.04, 76.93, 77.15, 76.91]\n",
            "Test accuracy : [40.84, 50.02, 54.32, 59.6, 61.27, 63.06, 63.33, 66.44, 67.75, 69.6, 69.89, 70.35, 70.48, 71.91, 71.47, 72.85, 72.86, 74.07, 74.42, 74.05, 74.41, 74.41, 74.19, 75.7, 75.81, 75.79, 76.31, 76.03, 76.55, 76.76, 77.3, 77.22, 77.36, 77.07, 78.45, 77.62, 78.3, 78.39, 77.95, 78.7, 78.56, 79.07, 78.81, 79.36, 78.44, 78.78, 79.24, 79.7, 79.7, 79.91, 79.78, 79.48, 80.45, 79.99, 80.11, 80.26, 80.88, 80.05, 79.99, 81.47, 80.59, 81.61, 81.11, 81.08, 80.92, 81.07, 81.67, 80.71, 81.21, 81.19, 81.19, 81.48, 81.96, 81.64, 81.72, 81.73, 81.9, 81.24, 81.83, 82.05, 81.91, 82.49, 82.17, 82.13, 82.51, 82.01, 82.21, 82.62, 82.62, 82.34, 82.65, 82.87, 82.78, 82.71, 82.81, 82.98, 82.74, 83.07, 83.59, 83.05, 83.19, 82.59, 82.96, 83.08, 82.89, 83.36, 83.29, 83.07, 83.73, 83.51, 83.7, 83.47, 83.19, 83.17, 83.45, 83.57, 83.46, 83.79, 83.75, 83.65, 83.62, 84.07, 84.02, 83.41, 84.24, 84.16, 84.27, 83.78, 84.35, 84.3, 84.43, 84.03, 84.0, 83.82, 83.73, 84.47, 84.06, 83.91, 84.18, 83.92, 84.26, 84.21, 84.25, 83.88, 84.33, 84.34, 84.62, 84.54, 84.27, 84.7, 84.72, 84.3, 84.92, 84.34, 84.8, 84.57, 84.71, 84.7, 84.52, 84.91, 84.71, 84.92, 84.84, 84.26, 84.75, 84.99, 84.77, 84.57, 85.19, 84.84, 84.78, 84.88, 84.83, 84.56, 84.99, 84.42, 84.92, 85.11, 85.48, 84.8, 85.25, 85.14, 84.92, 85.21, 85.13, 85.18, 85.03, 85.04, 85.09, 85.06, 85.34, 85.14, 85.04, 84.98, 85.12, 85.32, 84.54, 84.98, 85.53, 85.05]\n"
          ],
          "name": "stdout"
        }
      ]
    },
    {
      "cell_type": "code",
      "metadata": {
        "colab": {
          "base_uri": "https://localhost:8080/",
          "height": 517
        },
        "id": "v9mqQq8QNJS8",
        "outputId": "f1484778-4e1d-4c57-86c2-86134f532d9d"
      },
      "source": [
        "figure = plt.figure(figsize=(12,8))\n",
        "\n",
        "plt.title(f\"Train Losses\")\n",
        "plt.plot(train_stats.losses)"
      ],
      "execution_count": 23,
      "outputs": [
        {
          "output_type": "execute_result",
          "data": {
            "text/plain": [
              "[<matplotlib.lines.Line2D at 0x7fa650142350>]"
            ]
          },
          "metadata": {
            "tags": []
          },
          "execution_count": 23
        },
        {
          "output_type": "display_data",
          "data": {
            "image/png": "[encoded data removed]",
            "text/plain": [
              "<Figure size 864x576 with 1 Axes>"
            ]
          },
          "metadata": {
            "tags": [],
            "needs_background": "light"
          }
        }
      ]
    },
    {
      "cell_type": "code",
      "metadata": {
        "colab": {
          "base_uri": "https://localhost:8080/",
          "height": 517
        },
        "id": "PrCOj95-NZR1",
        "outputId": "4d8be30c-10a8-4af0-bd81-b9cc57aee2bf"
      },
      "source": [
        "figure = plt.figure(figsize=(12,8))\n",
        "\n",
        "plt.title(f\"Train Accuracy\")\n",
        "plt.plot(train_stats.accuracy)"
      ],
      "execution_count": 24,
      "outputs": [
        {
          "output_type": "execute_result",
          "data": {
            "text/plain": [
              "[<matplotlib.lines.Line2D at 0x7fa650138bd0>]"
            ]
          },
          "metadata": {
            "tags": []
          },
          "execution_count": 24
        },
        {
          "output_type": "display_data",
          "data": {
            "image/png": "[encoded data removed]",
            "text/plain": [
              "<Figure size 864x576 with 1 Axes>"
            ]
          },
          "metadata": {
            "tags": [],
            "needs_background": "light"
          }
        }
      ]
    },
    {
      "cell_type": "code",
      "metadata": {
        "colab": {
          "base_uri": "https://localhost:8080/",
          "height": 517
        },
        "id": "S6FtQSVaNm05",
        "outputId": "14039812-f817-48df-8c57-b3eddc826ab9"
      },
      "source": [
        "figure = plt.figure(figsize=(12,8))\n",
        "\n",
        "plt.title(f\"Test Losses\")\n",
        "plt.plot(test_stats.losses)"
      ],
      "execution_count": 25,
      "outputs": [
        {
          "output_type": "execute_result",
          "data": {
            "text/plain": [
              "[<matplotlib.lines.Line2D at 0x7fa650065490>]"
            ]
          },
          "metadata": {
            "tags": []
          },
          "execution_count": 25
        },
        {
          "output_type": "display_data",
          "data": {
            "image/png": "[encoded data removed]",
            "text/plain": [
              "<Figure size 864x576 with 1 Axes>"
            ]
          },
          "metadata": {
            "tags": [],
            "needs_background": "light"
          }
        }
      ]
    },
    {
      "cell_type": "code",
      "metadata": {
        "colab": {
          "base_uri": "https://localhost:8080/",
          "height": 517
        },
        "id": "Wwk1KTKsNvgB",
        "outputId": "c6f9fa17-e088-46d0-bd6b-58e492f37bcd"
      },
      "source": [
        "figure = plt.figure(figsize=(12,8))\n",
        "\n",
        "plt.title(f\"Test Accuracy\")\n",
        "plt.plot(test_stats.accuracy)"
      ],
      "execution_count": 26,
      "outputs": [
        {
          "output_type": "execute_result",
          "data": {
            "text/plain": [
              "[<matplotlib.lines.Line2D at 0x7fa63bf95bd0>]"
            ]
          },
          "metadata": {
            "tags": []
          },
          "execution_count": 26
        },
        {
          "output_type": "display_data",
          "data": {
            "image/png": "[encoded data removed]",
            "text/plain": [
              "<Figure size 864x576 with 1 Axes>"
            ]
          },
          "metadata": {
            "tags": [],
            "needs_background": "light"
          }
        }
      ]
    },
    {
      "cell_type": "code",
      "metadata": {
        "id": "MK07LK7rN0E8"
      },
      "source": [
        "def plot_misclassified(test_stats, num_images, title, class_names, fig_size):\n",
        "    \n",
        "    figure=plt.figure(figsize=fig_size)\n",
        "    print(f'** Plotting misclassified test images from last epoch for {title} **')\n",
        "    print('\\n')\n",
        "    class_names_dict = class_names\n",
        "    if len(test_stats.img) > num_images: \n",
        "        for i in range(num_images):\n",
        "            plt.subplot(5,5,i+1)\n",
        "            plt.axis(False)      \n",
        "            unnorm_img = unnormalize(test_stats.img[i].cpu())\n",
        "            plt.imshow(unnorm_img, interpolation='none')\n",
        "            prediction = class_names_dict.get(test_stats.pred[i])\n",
        "            actual     = class_names_dict.get(test_stats.label[i])\n",
        "            s=\"pred=\"+str(prediction)+\" act=\"+str(actual)\n",
        "            plt.text(2,-1,s)\n",
        "    else:\n",
        "        print(f'Unable to plot - Less than {num_images} images, only have {len(test_stats.img)} images')"
      ],
      "execution_count": 27,
      "outputs": []
    },
    {
      "cell_type": "code",
      "metadata": {
        "colab": {
          "base_uri": "https://localhost:8080/",
          "height": 653
        },
        "id": "KmqTFcr0OH2Y",
        "outputId": "3e398593-85b3-454f-96f0-059d9f54fb73"
      },
      "source": [
        "class_names_dict = {0:'plane', 1:'automob', 2:'bird', 3:'cat',4:'deer', 5:'dog', 6:'frog', 7:'horse', 8:'ship', 9:'truck'}\n",
        "num_images       = 25\n",
        "fig_size         = (10, 10)\n",
        "title            = 'CIFAR-10'\n",
        "misclass_stats   = test_stats\n",
        "plot_misclassified(misclass_stats, num_images, title, class_names_dict, fig_size)"
      ],
      "execution_count": 28,
      "outputs": [
        {
          "output_type": "stream",
          "text": [
            "Clipping input data to the valid range for imshow with RGB data ([0..1] for floats or [0..255] for integers).\n"
          ],
          "name": "stderr"
        },
        {
          "output_type": "stream",
          "text": [
            "** Plotting misclassified test images from last epoch for CIFAR-10 **\n",
            "\n",
            "\n"
          ],
          "name": "stdout"
        },
        {
          "output_type": "display_data",
          "data": {
            "image/png": "[encoded data removed]",
            "text/plain": [
              "<Figure size 720x720 with 25 Axes>"
            ]
          },
          "metadata": {
            "tags": [],
            "needs_background": "light"
          }
        }
      ]
    },
    {
      "cell_type": "code",
      "metadata": {
        "id": "HqfNSUUKOLa5"
      },
      "source": [
        ""
      ],
      "execution_count": null,
      "outputs": []
    }
  ]
}
