{
  "nbformat": 4,
  "nbformat_minor": 0,
  "metadata": {
    "colab": {
      "name": "EVA6_S6_V3.ipynb",
      "provenance": [],
      "collapsed_sections": [],
      "include_colab_link": true
    },
    "kernelspec": {
      "name": "python3",
      "display_name": "Python 3"
    },
    "accelerator": "GPU",
    "widgets": {
      "application/vnd.jupyter.widget-state+json": {
        "7c434d62662b469dbc26d032e532ea14": {
          "model_module": "@jupyter-widgets/controls",
          "model_name": "HBoxModel",
          "state": {
            "_view_name": "HBoxView",
            "_dom_classes": [],
            "_model_name": "HBoxModel",
            "_view_module": "@jupyter-widgets/controls",
            "_model_module_version": "1.5.0",
            "_view_count": null,
            "_view_module_version": "1.5.0",
            "box_style": "",
            "layout": "IPY_MODEL_e9cf6099a26d4ef198bd556e8e3dface",
            "_model_module": "@jupyter-widgets/controls",
            "children": [
              "IPY_MODEL_10079a0e1c804f07b84b191830194331",
              "IPY_MODEL_6e1412e9588f49519588a7a211b92141"
            ]
          }
        },
        "e9cf6099a26d4ef198bd556e8e3dface": {
          "model_module": "@jupyter-widgets/base",
          "model_name": "LayoutModel",
          "state": {
            "_view_name": "LayoutView",
            "grid_template_rows": null,
            "right": null,
            "justify_content": null,
            "_view_module": "@jupyter-widgets/base",
            "overflow": null,
            "_model_module_version": "1.2.0",
            "_view_count": null,
            "flex_flow": null,
            "width": null,
            "min_width": null,
            "border": null,
            "align_items": null,
            "bottom": null,
            "_model_module": "@jupyter-widgets/base",
            "top": null,
            "grid_column": null,
            "overflow_y": null,
            "overflow_x": null,
            "grid_auto_flow": null,
            "grid_area": null,
            "grid_template_columns": null,
            "flex": null,
            "_model_name": "LayoutModel",
            "justify_items": null,
            "grid_row": null,
            "max_height": null,
            "align_content": null,
            "visibility": null,
            "align_self": null,
            "height": null,
            "min_height": null,
            "padding": null,
            "grid_auto_rows": null,
            "grid_gap": null,
            "max_width": null,
            "order": null,
            "_view_module_version": "1.2.0",
            "grid_template_areas": null,
            "object_position": null,
            "object_fit": null,
            "grid_auto_columns": null,
            "margin": null,
            "display": null,
            "left": null
          }
        },
        "10079a0e1c804f07b84b191830194331": {
          "model_module": "@jupyter-widgets/controls",
          "model_name": "FloatProgressModel",
          "state": {
            "_view_name": "ProgressView",
            "style": "IPY_MODEL_bd1ea343f97842b6a65a929762993121",
            "_dom_classes": [],
            "description": "",
            "_model_name": "FloatProgressModel",
            "bar_style": "success",
            "max": 9912422,
            "_view_module": "@jupyter-widgets/controls",
            "_model_module_version": "1.5.0",
            "value": 9912422,
            "_view_count": null,
            "_view_module_version": "1.5.0",
            "orientation": "horizontal",
            "min": 0,
            "description_tooltip": null,
            "_model_module": "@jupyter-widgets/controls",
            "layout": "IPY_MODEL_51a89896c94a482e8284da322e528589"
          }
        },
        "6e1412e9588f49519588a7a211b92141": {
          "model_module": "@jupyter-widgets/controls",
          "model_name": "HTMLModel",
          "state": {
            "_view_name": "HTMLView",
            "style": "IPY_MODEL_e3effe00330c49208e6a3d12fdf18f36",
            "_dom_classes": [],
            "description": "",
            "_model_name": "HTMLModel",
            "placeholder": "​",
            "_view_module": "@jupyter-widgets/controls",
            "_model_module_version": "1.5.0",
            "value": " 9913344/? [04:12&lt;00:00, 39212.92it/s]",
            "_view_count": null,
            "_view_module_version": "1.5.0",
            "description_tooltip": null,
            "_model_module": "@jupyter-widgets/controls",
            "layout": "IPY_MODEL_32520378365b44168a827358fb5277d3"
          }
        },
        "bd1ea343f97842b6a65a929762993121": {
          "model_module": "@jupyter-widgets/controls",
          "model_name": "ProgressStyleModel",
          "state": {
            "_view_name": "StyleView",
            "_model_name": "ProgressStyleModel",
            "description_width": "initial",
            "_view_module": "@jupyter-widgets/base",
            "_model_module_version": "1.5.0",
            "_view_count": null,
            "_view_module_version": "1.2.0",
            "bar_color": null,
            "_model_module": "@jupyter-widgets/controls"
          }
        },
        "51a89896c94a482e8284da322e528589": {
          "model_module": "@jupyter-widgets/base",
          "model_name": "LayoutModel",
          "state": {
            "_view_name": "LayoutView",
            "grid_template_rows": null,
            "right": null,
            "justify_content": null,
            "_view_module": "@jupyter-widgets/base",
            "overflow": null,
            "_model_module_version": "1.2.0",
            "_view_count": null,
            "flex_flow": null,
            "width": null,
            "min_width": null,
            "border": null,
            "align_items": null,
            "bottom": null,
            "_model_module": "@jupyter-widgets/base",
            "top": null,
            "grid_column": null,
            "overflow_y": null,
            "overflow_x": null,
            "grid_auto_flow": null,
            "grid_area": null,
            "grid_template_columns": null,
            "flex": null,
            "_model_name": "LayoutModel",
            "justify_items": null,
            "grid_row": null,
            "max_height": null,
            "align_content": null,
            "visibility": null,
            "align_self": null,
            "height": null,
            "min_height": null,
            "padding": null,
            "grid_auto_rows": null,
            "grid_gap": null,
            "max_width": null,
            "order": null,
            "_view_module_version": "1.2.0",
            "grid_template_areas": null,
            "object_position": null,
            "object_fit": null,
            "grid_auto_columns": null,
            "margin": null,
            "display": null,
            "left": null
          }
        },
        "e3effe00330c49208e6a3d12fdf18f36": {
          "model_module": "@jupyter-widgets/controls",
          "model_name": "DescriptionStyleModel",
          "state": {
            "_view_name": "StyleView",
            "_model_name": "DescriptionStyleModel",
            "description_width": "",
            "_view_module": "@jupyter-widgets/base",
            "_model_module_version": "1.5.0",
            "_view_count": null,
            "_view_module_version": "1.2.0",
            "_model_module": "@jupyter-widgets/controls"
          }
        },
        "32520378365b44168a827358fb5277d3": {
          "model_module": "@jupyter-widgets/base",
          "model_name": "LayoutModel",
          "state": {
            "_view_name": "LayoutView",
            "grid_template_rows": null,
            "right": null,
            "justify_content": null,
            "_view_module": "@jupyter-widgets/base",
            "overflow": null,
            "_model_module_version": "1.2.0",
            "_view_count": null,
            "flex_flow": null,
            "width": null,
            "min_width": null,
            "border": null,
            "align_items": null,
            "bottom": null,
            "_model_module": "@jupyter-widgets/base",
            "top": null,
            "grid_column": null,
            "overflow_y": null,
            "overflow_x": null,
            "grid_auto_flow": null,
            "grid_area": null,
            "grid_template_columns": null,
            "flex": null,
            "_model_name": "LayoutModel",
            "justify_items": null,
            "grid_row": null,
            "max_height": null,
            "align_content": null,
            "visibility": null,
            "align_self": null,
            "height": null,
            "min_height": null,
            "padding": null,
            "grid_auto_rows": null,
            "grid_gap": null,
            "max_width": null,
            "order": null,
            "_view_module_version": "1.2.0",
            "grid_template_areas": null,
            "object_position": null,
            "object_fit": null,
            "grid_auto_columns": null,
            "margin": null,
            "display": null,
            "left": null
          }
        },
        "2e44adbf466d402f89295c00c7a9bd09": {
          "model_module": "@jupyter-widgets/controls",
          "model_name": "HBoxModel",
          "state": {
            "_view_name": "HBoxView",
            "_dom_classes": [],
            "_model_name": "HBoxModel",
            "_view_module": "@jupyter-widgets/controls",
            "_model_module_version": "1.5.0",
            "_view_count": null,
            "_view_module_version": "1.5.0",
            "box_style": "",
            "layout": "IPY_MODEL_a1889bea34bc43cc97a717059144723a",
            "_model_module": "@jupyter-widgets/controls",
            "children": [
              "IPY_MODEL_91b5db57fe70416395eefc508df17055",
              "IPY_MODEL_a9e30dfc452c4a718ee7f896b1b86073"
            ]
          }
        },
        "a1889bea34bc43cc97a717059144723a": {
          "model_module": "@jupyter-widgets/base",
          "model_name": "LayoutModel",
          "state": {
            "_view_name": "LayoutView",
            "grid_template_rows": null,
            "right": null,
            "justify_content": null,
            "_view_module": "@jupyter-widgets/base",
            "overflow": null,
            "_model_module_version": "1.2.0",
            "_view_count": null,
            "flex_flow": null,
            "width": null,
            "min_width": null,
            "border": null,
            "align_items": null,
            "bottom": null,
            "_model_module": "@jupyter-widgets/base",
            "top": null,
            "grid_column": null,
            "overflow_y": null,
            "overflow_x": null,
            "grid_auto_flow": null,
            "grid_area": null,
            "grid_template_columns": null,
            "flex": null,
            "_model_name": "LayoutModel",
            "justify_items": null,
            "grid_row": null,
            "max_height": null,
            "align_content": null,
            "visibility": null,
            "align_self": null,
            "height": null,
            "min_height": null,
            "padding": null,
            "grid_auto_rows": null,
            "grid_gap": null,
            "max_width": null,
            "order": null,
            "_view_module_version": "1.2.0",
            "grid_template_areas": null,
            "object_position": null,
            "object_fit": null,
            "grid_auto_columns": null,
            "margin": null,
            "display": null,
            "left": null
          }
        },
        "91b5db57fe70416395eefc508df17055": {
          "model_module": "@jupyter-widgets/controls",
          "model_name": "FloatProgressModel",
          "state": {
            "_view_name": "ProgressView",
            "style": "IPY_MODEL_244e45f81d624dd98e7281055ea26ccc",
            "_dom_classes": [],
            "description": "",
            "_model_name": "FloatProgressModel",
            "bar_style": "success",
            "max": 28881,
            "_view_module": "@jupyter-widgets/controls",
            "_model_module_version": "1.5.0",
            "value": 28881,
            "_view_count": null,
            "_view_module_version": "1.5.0",
            "orientation": "horizontal",
            "min": 0,
            "description_tooltip": null,
            "_model_module": "@jupyter-widgets/controls",
            "layout": "IPY_MODEL_bdc84fd7f8bc4eb2b70101948aa4d29e"
          }
        },
        "a9e30dfc452c4a718ee7f896b1b86073": {
          "model_module": "@jupyter-widgets/controls",
          "model_name": "HTMLModel",
          "state": {
            "_view_name": "HTMLView",
            "style": "IPY_MODEL_9a43361e8b484f6b951b8507e5467b20",
            "_dom_classes": [],
            "description": "",
            "_model_name": "HTMLModel",
            "placeholder": "​",
            "_view_module": "@jupyter-widgets/controls",
            "_model_module_version": "1.5.0",
            "value": " 29696/? [00:00&lt;00:00, 169888.21it/s]",
            "_view_count": null,
            "_view_module_version": "1.5.0",
            "description_tooltip": null,
            "_model_module": "@jupyter-widgets/controls",
            "layout": "IPY_MODEL_f66d5cab0c0c4dbd81b3c34f114cbbfd"
          }
        },
        "244e45f81d624dd98e7281055ea26ccc": {
          "model_module": "@jupyter-widgets/controls",
          "model_name": "ProgressStyleModel",
          "state": {
            "_view_name": "StyleView",
            "_model_name": "ProgressStyleModel",
            "description_width": "initial",
            "_view_module": "@jupyter-widgets/base",
            "_model_module_version": "1.5.0",
            "_view_count": null,
            "_view_module_version": "1.2.0",
            "bar_color": null,
            "_model_module": "@jupyter-widgets/controls"
          }
        },
        "bdc84fd7f8bc4eb2b70101948aa4d29e": {
          "model_module": "@jupyter-widgets/base",
          "model_name": "LayoutModel",
          "state": {
            "_view_name": "LayoutView",
            "grid_template_rows": null,
            "right": null,
            "justify_content": null,
            "_view_module": "@jupyter-widgets/base",
            "overflow": null,
            "_model_module_version": "1.2.0",
            "_view_count": null,
            "flex_flow": null,
            "width": null,
            "min_width": null,
            "border": null,
            "align_items": null,
            "bottom": null,
            "_model_module": "@jupyter-widgets/base",
            "top": null,
            "grid_column": null,
            "overflow_y": null,
            "overflow_x": null,
            "grid_auto_flow": null,
            "grid_area": null,
            "grid_template_columns": null,
            "flex": null,
            "_model_name": "LayoutModel",
            "justify_items": null,
            "grid_row": null,
            "max_height": null,
            "align_content": null,
            "visibility": null,
            "align_self": null,
            "height": null,
            "min_height": null,
            "padding": null,
            "grid_auto_rows": null,
            "grid_gap": null,
            "max_width": null,
            "order": null,
            "_view_module_version": "1.2.0",
            "grid_template_areas": null,
            "object_position": null,
            "object_fit": null,
            "grid_auto_columns": null,
            "margin": null,
            "display": null,
            "left": null
          }
        },
        "9a43361e8b484f6b951b8507e5467b20": {
          "model_module": "@jupyter-widgets/controls",
          "model_name": "DescriptionStyleModel",
          "state": {
            "_view_name": "StyleView",
            "_model_name": "DescriptionStyleModel",
            "description_width": "",
            "_view_module": "@jupyter-widgets/base",
            "_model_module_version": "1.5.0",
            "_view_count": null,
            "_view_module_version": "1.2.0",
            "_model_module": "@jupyter-widgets/controls"
          }
        },
        "f66d5cab0c0c4dbd81b3c34f114cbbfd": {
          "model_module": "@jupyter-widgets/base",
          "model_name": "LayoutModel",
          "state": {
            "_view_name": "LayoutView",
            "grid_template_rows": null,
            "right": null,
            "justify_content": null,
            "_view_module": "@jupyter-widgets/base",
            "overflow": null,
            "_model_module_version": "1.2.0",
            "_view_count": null,
            "flex_flow": null,
            "width": null,
            "min_width": null,
            "border": null,
            "align_items": null,
            "bottom": null,
            "_model_module": "@jupyter-widgets/base",
            "top": null,
            "grid_column": null,
            "overflow_y": null,
            "overflow_x": null,
            "grid_auto_flow": null,
            "grid_area": null,
            "grid_template_columns": null,
            "flex": null,
            "_model_name": "LayoutModel",
            "justify_items": null,
            "grid_row": null,
            "max_height": null,
            "align_content": null,
            "visibility": null,
            "align_self": null,
            "height": null,
            "min_height": null,
            "padding": null,
            "grid_auto_rows": null,
            "grid_gap": null,
            "max_width": null,
            "order": null,
            "_view_module_version": "1.2.0",
            "grid_template_areas": null,
            "object_position": null,
            "object_fit": null,
            "grid_auto_columns": null,
            "margin": null,
            "display": null,
            "left": null
          }
        },
        "66647d5c69e04b00b9531c5fa736852a": {
          "model_module": "@jupyter-widgets/controls",
          "model_name": "HBoxModel",
          "state": {
            "_view_name": "HBoxView",
            "_dom_classes": [],
            "_model_name": "HBoxModel",
            "_view_module": "@jupyter-widgets/controls",
            "_model_module_version": "1.5.0",
            "_view_count": null,
            "_view_module_version": "1.5.0",
            "box_style": "",
            "layout": "IPY_MODEL_fdd0e7e7b054465e8ad378731f29889b",
            "_model_module": "@jupyter-widgets/controls",
            "children": [
              "IPY_MODEL_00f36a3eec59479f9c9727083ab59413",
              "IPY_MODEL_b57f5f790eb944dca79e1a6ea71c19a1"
            ]
          }
        },
        "fdd0e7e7b054465e8ad378731f29889b": {
          "model_module": "@jupyter-widgets/base",
          "model_name": "LayoutModel",
          "state": {
            "_view_name": "LayoutView",
            "grid_template_rows": null,
            "right": null,
            "justify_content": null,
            "_view_module": "@jupyter-widgets/base",
            "overflow": null,
            "_model_module_version": "1.2.0",
            "_view_count": null,
            "flex_flow": null,
            "width": null,
            "min_width": null,
            "border": null,
            "align_items": null,
            "bottom": null,
            "_model_module": "@jupyter-widgets/base",
            "top": null,
            "grid_column": null,
            "overflow_y": null,
            "overflow_x": null,
            "grid_auto_flow": null,
            "grid_area": null,
            "grid_template_columns": null,
            "flex": null,
            "_model_name": "LayoutModel",
            "justify_items": null,
            "grid_row": null,
            "max_height": null,
            "align_content": null,
            "visibility": null,
            "align_self": null,
            "height": null,
            "min_height": null,
            "padding": null,
            "grid_auto_rows": null,
            "grid_gap": null,
            "max_width": null,
            "order": null,
            "_view_module_version": "1.2.0",
            "grid_template_areas": null,
            "object_position": null,
            "object_fit": null,
            "grid_auto_columns": null,
            "margin": null,
            "display": null,
            "left": null
          }
        },
        "00f36a3eec59479f9c9727083ab59413": {
          "model_module": "@jupyter-widgets/controls",
          "model_name": "FloatProgressModel",
          "state": {
            "_view_name": "ProgressView",
            "style": "IPY_MODEL_2c38fbe85ae14ab0b09b56aa92dc0ca9",
            "_dom_classes": [],
            "description": "",
            "_model_name": "FloatProgressModel",
            "bar_style": "success",
            "max": 1648877,
            "_view_module": "@jupyter-widgets/controls",
            "_model_module_version": "1.5.0",
            "value": 1648877,
            "_view_count": null,
            "_view_module_version": "1.5.0",
            "orientation": "horizontal",
            "min": 0,
            "description_tooltip": null,
            "_model_module": "@jupyter-widgets/controls",
            "layout": "IPY_MODEL_355243b6c820473b92918308c243fc4e"
          }
        },
        "b57f5f790eb944dca79e1a6ea71c19a1": {
          "model_module": "@jupyter-widgets/controls",
          "model_name": "HTMLModel",
          "state": {
            "_view_name": "HTMLView",
            "style": "IPY_MODEL_675309e806874451a4d65d1be0b9af16",
            "_dom_classes": [],
            "description": "",
            "_model_name": "HTMLModel",
            "placeholder": "​",
            "_view_module": "@jupyter-widgets/controls",
            "_model_module_version": "1.5.0",
            "value": " 1649664/? [00:18&lt;00:00, 91026.63it/s]",
            "_view_count": null,
            "_view_module_version": "1.5.0",
            "description_tooltip": null,
            "_model_module": "@jupyter-widgets/controls",
            "layout": "IPY_MODEL_dd6d8ed47fc34cb69aacb6ba3ee02d0b"
          }
        },
        "2c38fbe85ae14ab0b09b56aa92dc0ca9": {
          "model_module": "@jupyter-widgets/controls",
          "model_name": "ProgressStyleModel",
          "state": {
            "_view_name": "StyleView",
            "_model_name": "ProgressStyleModel",
            "description_width": "initial",
            "_view_module": "@jupyter-widgets/base",
            "_model_module_version": "1.5.0",
            "_view_count": null,
            "_view_module_version": "1.2.0",
            "bar_color": null,
            "_model_module": "@jupyter-widgets/controls"
          }
        },
        "355243b6c820473b92918308c243fc4e": {
          "model_module": "@jupyter-widgets/base",
          "model_name": "LayoutModel",
          "state": {
            "_view_name": "LayoutView",
            "grid_template_rows": null,
            "right": null,
            "justify_content": null,
            "_view_module": "@jupyter-widgets/base",
            "overflow": null,
            "_model_module_version": "1.2.0",
            "_view_count": null,
            "flex_flow": null,
            "width": null,
            "min_width": null,
            "border": null,
            "align_items": null,
            "bottom": null,
            "_model_module": "@jupyter-widgets/base",
            "top": null,
            "grid_column": null,
            "overflow_y": null,
            "overflow_x": null,
            "grid_auto_flow": null,
            "grid_area": null,
            "grid_template_columns": null,
            "flex": null,
            "_model_name": "LayoutModel",
            "justify_items": null,
            "grid_row": null,
            "max_height": null,
            "align_content": null,
            "visibility": null,
            "align_self": null,
            "height": null,
            "min_height": null,
            "padding": null,
            "grid_auto_rows": null,
            "grid_gap": null,
            "max_width": null,
            "order": null,
            "_view_module_version": "1.2.0",
            "grid_template_areas": null,
            "object_position": null,
            "object_fit": null,
            "grid_auto_columns": null,
            "margin": null,
            "display": null,
            "left": null
          }
        },
        "675309e806874451a4d65d1be0b9af16": {
          "model_module": "@jupyter-widgets/controls",
          "model_name": "DescriptionStyleModel",
          "state": {
            "_view_name": "StyleView",
            "_model_name": "DescriptionStyleModel",
            "description_width": "",
            "_view_module": "@jupyter-widgets/base",
            "_model_module_version": "1.5.0",
            "_view_count": null,
            "_view_module_version": "1.2.0",
            "_model_module": "@jupyter-widgets/controls"
          }
        },
        "dd6d8ed47fc34cb69aacb6ba3ee02d0b": {
          "model_module": "@jupyter-widgets/base",
          "model_name": "LayoutModel",
          "state": {
            "_view_name": "LayoutView",
            "grid_template_rows": null,
            "right": null,
            "justify_content": null,
            "_view_module": "@jupyter-widgets/base",
            "overflow": null,
            "_model_module_version": "1.2.0",
            "_view_count": null,
            "flex_flow": null,
            "width": null,
            "min_width": null,
            "border": null,
            "align_items": null,
            "bottom": null,
            "_model_module": "@jupyter-widgets/base",
            "top": null,
            "grid_column": null,
            "overflow_y": null,
            "overflow_x": null,
            "grid_auto_flow": null,
            "grid_area": null,
            "grid_template_columns": null,
            "flex": null,
            "_model_name": "LayoutModel",
            "justify_items": null,
            "grid_row": null,
            "max_height": null,
            "align_content": null,
            "visibility": null,
            "align_self": null,
            "height": null,
            "min_height": null,
            "padding": null,
            "grid_auto_rows": null,
            "grid_gap": null,
            "max_width": null,
            "order": null,
            "_view_module_version": "1.2.0",
            "grid_template_areas": null,
            "object_position": null,
            "object_fit": null,
            "grid_auto_columns": null,
            "margin": null,
            "display": null,
            "left": null
          }
        },
        "f6f76f5fb14845298fc4535c803073e2": {
          "model_module": "@jupyter-widgets/controls",
          "model_name": "HBoxModel",
          "state": {
            "_view_name": "HBoxView",
            "_dom_classes": [],
            "_model_name": "HBoxModel",
            "_view_module": "@jupyter-widgets/controls",
            "_model_module_version": "1.5.0",
            "_view_count": null,
            "_view_module_version": "1.5.0",
            "box_style": "",
            "layout": "IPY_MODEL_b648e394c08e485c8877a58429ac2c21",
            "_model_module": "@jupyter-widgets/controls",
            "children": [
              "IPY_MODEL_c80cc1de29a241888563dbefdf368fc3",
              "IPY_MODEL_41ccd0969ff74916add43bf2fca8740b"
            ]
          }
        },
        "b648e394c08e485c8877a58429ac2c21": {
          "model_module": "@jupyter-widgets/base",
          "model_name": "LayoutModel",
          "state": {
            "_view_name": "LayoutView",
            "grid_template_rows": null,
            "right": null,
            "justify_content": null,
            "_view_module": "@jupyter-widgets/base",
            "overflow": null,
            "_model_module_version": "1.2.0",
            "_view_count": null,
            "flex_flow": null,
            "width": null,
            "min_width": null,
            "border": null,
            "align_items": null,
            "bottom": null,
            "_model_module": "@jupyter-widgets/base",
            "top": null,
            "grid_column": null,
            "overflow_y": null,
            "overflow_x": null,
            "grid_auto_flow": null,
            "grid_area": null,
            "grid_template_columns": null,
            "flex": null,
            "_model_name": "LayoutModel",
            "justify_items": null,
            "grid_row": null,
            "max_height": null,
            "align_content": null,
            "visibility": null,
            "align_self": null,
            "height": null,
            "min_height": null,
            "padding": null,
            "grid_auto_rows": null,
            "grid_gap": null,
            "max_width": null,
            "order": null,
            "_view_module_version": "1.2.0",
            "grid_template_areas": null,
            "object_position": null,
            "object_fit": null,
            "grid_auto_columns": null,
            "margin": null,
            "display": null,
            "left": null
          }
        },
        "c80cc1de29a241888563dbefdf368fc3": {
          "model_module": "@jupyter-widgets/controls",
          "model_name": "FloatProgressModel",
          "state": {
            "_view_name": "ProgressView",
            "style": "IPY_MODEL_b8b74462ecee4ff9a72da1702f22be35",
            "_dom_classes": [],
            "description": "",
            "_model_name": "FloatProgressModel",
            "bar_style": "success",
            "max": 4542,
            "_view_module": "@jupyter-widgets/controls",
            "_model_module_version": "1.5.0",
            "value": 4542,
            "_view_count": null,
            "_view_module_version": "1.5.0",
            "orientation": "horizontal",
            "min": 0,
            "description_tooltip": null,
            "_model_module": "@jupyter-widgets/controls",
            "layout": "IPY_MODEL_ca34686192d347a3bd8b7e9d02dc321f"
          }
        },
        "41ccd0969ff74916add43bf2fca8740b": {
          "model_module": "@jupyter-widgets/controls",
          "model_name": "HTMLModel",
          "state": {
            "_view_name": "HTMLView",
            "style": "IPY_MODEL_669b3e3cd4d84e34ab51d27f453c9e0a",
            "_dom_classes": [],
            "description": "",
            "_model_name": "HTMLModel",
            "placeholder": "​",
            "_view_module": "@jupyter-widgets/controls",
            "_model_module_version": "1.5.0",
            "value": " 5120/? [00:17&lt;00:00, 300.01it/s]",
            "_view_count": null,
            "_view_module_version": "1.5.0",
            "description_tooltip": null,
            "_model_module": "@jupyter-widgets/controls",
            "layout": "IPY_MODEL_1939e50db8b843e1b57d1163b1280d40"
          }
        },
        "b8b74462ecee4ff9a72da1702f22be35": {
          "model_module": "@jupyter-widgets/controls",
          "model_name": "ProgressStyleModel",
          "state": {
            "_view_name": "StyleView",
            "_model_name": "ProgressStyleModel",
            "description_width": "initial",
            "_view_module": "@jupyter-widgets/base",
            "_model_module_version": "1.5.0",
            "_view_count": null,
            "_view_module_version": "1.2.0",
            "bar_color": null,
            "_model_module": "@jupyter-widgets/controls"
          }
        },
        "ca34686192d347a3bd8b7e9d02dc321f": {
          "model_module": "@jupyter-widgets/base",
          "model_name": "LayoutModel",
          "state": {
            "_view_name": "LayoutView",
            "grid_template_rows": null,
            "right": null,
            "justify_content": null,
            "_view_module": "@jupyter-widgets/base",
            "overflow": null,
            "_model_module_version": "1.2.0",
            "_view_count": null,
            "flex_flow": null,
            "width": null,
            "min_width": null,
            "border": null,
            "align_items": null,
            "bottom": null,
            "_model_module": "@jupyter-widgets/base",
            "top": null,
            "grid_column": null,
            "overflow_y": null,
            "overflow_x": null,
            "grid_auto_flow": null,
            "grid_area": null,
            "grid_template_columns": null,
            "flex": null,
            "_model_name": "LayoutModel",
            "justify_items": null,
            "grid_row": null,
            "max_height": null,
            "align_content": null,
            "visibility": null,
            "align_self": null,
            "height": null,
            "min_height": null,
            "padding": null,
            "grid_auto_rows": null,
            "grid_gap": null,
            "max_width": null,
            "order": null,
            "_view_module_version": "1.2.0",
            "grid_template_areas": null,
            "object_position": null,
            "object_fit": null,
            "grid_auto_columns": null,
            "margin": null,
            "display": null,
            "left": null
          }
        },
        "669b3e3cd4d84e34ab51d27f453c9e0a": {
          "model_module": "@jupyter-widgets/controls",
          "model_name": "DescriptionStyleModel",
          "state": {
            "_view_name": "StyleView",
            "_model_name": "DescriptionStyleModel",
            "description_width": "",
            "_view_module": "@jupyter-widgets/base",
            "_model_module_version": "1.5.0",
            "_view_count": null,
            "_view_module_version": "1.2.0",
            "_model_module": "@jupyter-widgets/controls"
          }
        },
        "1939e50db8b843e1b57d1163b1280d40": {
          "model_module": "@jupyter-widgets/base",
          "model_name": "LayoutModel",
          "state": {
            "_view_name": "LayoutView",
            "grid_template_rows": null,
            "right": null,
            "justify_content": null,
            "_view_module": "@jupyter-widgets/base",
            "overflow": null,
            "_model_module_version": "1.2.0",
            "_view_count": null,
            "flex_flow": null,
            "width": null,
            "min_width": null,
            "border": null,
            "align_items": null,
            "bottom": null,
            "_model_module": "@jupyter-widgets/base",
            "top": null,
            "grid_column": null,
            "overflow_y": null,
            "overflow_x": null,
            "grid_auto_flow": null,
            "grid_area": null,
            "grid_template_columns": null,
            "flex": null,
            "_model_name": "LayoutModel",
            "justify_items": null,
            "grid_row": null,
            "max_height": null,
            "align_content": null,
            "visibility": null,
            "align_self": null,
            "height": null,
            "min_height": null,
            "padding": null,
            "grid_auto_rows": null,
            "grid_gap": null,
            "max_width": null,
            "order": null,
            "_view_module_version": "1.2.0",
            "grid_template_areas": null,
            "object_position": null,
            "object_fit": null,
            "grid_auto_columns": null,
            "margin": null,
            "display": null,
            "left": null
          }
        }
      }
    }
  },
  "cells": [
    {
      "cell_type": "markdown",
      "metadata": {
        "id": "view-in-github",
        "colab_type": "text"
      },
      "source": [
        "<a href=\"https://colab.research.google.com/github/anilbhatt1/Deep_Learning_EVA6_Phase1/blob/main/EVA6_S6_V3.ipynb\" target=\"_parent\"><img src=\"https://colab.research.google.com/assets/colab-badge.svg\" alt=\"Open In Colab\"/></a>"
      ]
    },
    {
      "cell_type": "code",
      "metadata": {
        "colab": {
          "base_uri": "https://localhost:8080/"
        },
        "id": "fW0oaY4BbwZI",
        "outputId": "e5f46678-12af-4006-de63-becb5e755625"
      },
      "source": [
        "!nvidia-smi"
      ],
      "execution_count": 1,
      "outputs": [
        {
          "output_type": "stream",
          "text": [
            "Fri Jun 11 14:57:17 2021       \n",
            "+-----------------------------------------------------------------------------+\n",
            "| NVIDIA-SMI 465.27       Driver Version: 460.32.03    CUDA Version: 11.2     |\n",
            "|-------------------------------+----------------------+----------------------+\n",
            "| GPU  Name        Persistence-M| Bus-Id        Disp.A | Volatile Uncorr. ECC |\n",
            "| Fan  Temp  Perf  Pwr:Usage/Cap|         Memory-Usage | GPU-Util  Compute M. |\n",
            "|                               |                      |               MIG M. |\n",
            "|===============================+======================+======================|\n",
            "|   0  Tesla K80           Off  | 00000000:00:04.0 Off |                    0 |\n",
            "| N/A   55C    P8    31W / 149W |      0MiB / 11441MiB |      0%      Default |\n",
            "|                               |                      |                  N/A |\n",
            "+-------------------------------+----------------------+----------------------+\n",
            "                                                                               \n",
            "+-----------------------------------------------------------------------------+\n",
            "| Processes:                                                                  |\n",
            "|  GPU   GI   CI        PID   Type   Process name                  GPU Memory |\n",
            "|        ID   ID                                                   Usage      |\n",
            "|=============================================================================|\n",
            "|  No running processes found                                                 |\n",
            "+-----------------------------------------------------------------------------+\n"
          ],
          "name": "stdout"
        }
      ]
    },
    {
      "cell_type": "code",
      "metadata": {
        "colab": {
          "base_uri": "https://localhost:8080/"
        },
        "id": "iyggZ25EpN3w",
        "outputId": "970e75da-ca14-4bfb-bdae-5418256216f1"
      },
      "source": [
        "# Mounting the drive and copying the code from github to drive\n",
        "from google.colab import drive \n",
        "drive.mount('/content/gdrive')\n",
        "!git clone https://github.com/anilbhatt1/Deep_Learning_EVA6_Phase1"
      ],
      "execution_count": 2,
      "outputs": [
        {
          "output_type": "stream",
          "text": [
            "Mounted at /content/gdrive\n",
            "Cloning into 'Deep_Learning_EVA6_Phase1'...\n",
            "remote: Enumerating objects: 220, done.\u001b[K\n",
            "remote: Counting objects: 100% (220/220), done.\u001b[K\n",
            "remote: Compressing objects: 100% (214/214), done.\u001b[K\n",
            "remote: Total 220 (delta 114), reused 0 (delta 0), pack-reused 0\u001b[K\n",
            "Receiving objects: 100% (220/220), 7.33 MiB | 4.63 MiB/s, done.\n",
            "Resolving deltas: 100% (114/114), done.\n"
          ],
          "name": "stdout"
        }
      ]
    },
    {
      "cell_type": "code",
      "metadata": {
        "colab": {
          "base_uri": "https://localhost:8080/"
        },
        "id": "EjgjE0EppkIN",
        "outputId": "4b6506d3-d57e-4a43-903e-57afb7ae11ee"
      },
      "source": [
        "%cd Deep_Learning_EVA6_Phase1/src\n",
        "! ls"
      ],
      "execution_count": 3,
      "outputs": [
        {
          "output_type": "stream",
          "text": [
            "/content/Deep_Learning_EVA6_Phase1/src\n",
            "models.py  README.md  test_loss.py  train_loss.py  utilities.py\n"
          ],
          "name": "stdout"
        }
      ]
    },
    {
      "cell_type": "code",
      "metadata": {
        "id": "8kH16rnZ7wt_"
      },
      "source": [
        "import torch\n",
        "import torch.nn as nn\n",
        "import torch.nn.functional as F\n",
        "import torch.optim as optim\n",
        "from torchvision import datasets, transforms\n",
        "import numpy as np\n",
        "from tqdm import tqdm\n",
        "import matplotlib.pyplot as plt"
      ],
      "execution_count": 4,
      "outputs": []
    },
    {
      "cell_type": "code",
      "metadata": {
        "id": "Nqp2Wrfj03DA"
      },
      "source": [
        "# Import required src files\n",
        "import models, utilities, train_loss, test_loss"
      ],
      "execution_count": 5,
      "outputs": []
    },
    {
      "cell_type": "markdown",
      "metadata": {
        "id": "ky3f_Odl-7um"
      },
      "source": [
        "## Data Transformations"
      ]
    },
    {
      "cell_type": "code",
      "metadata": {
        "id": "YtssFUKb-jqx"
      },
      "source": [
        "# Train Phase transformations\n",
        "train_transforms = transforms.Compose([\n",
        "                                      #  transforms.Resize((28, 28)),\n",
        "                                      #  transforms.ColorJitter(brightness=0.10, contrast=0.1, saturation=0.10, hue=0.1),\n",
        "                                       transforms.ColorJitter(brightness=0.1, contrast=0.1, saturation=0.1, hue=0.1),\n",
        "                                       transforms.RandomRotation((-7,7),fill=(1,)),                                       \n",
        "                                       transforms.ToTensor(),\n",
        "                                       transforms.Normalize((0.1307,), (0.3081,)) # The mean and std have to be sequences (e.g., tuples), therefore you should add a comma after the values. \n",
        "                                       # Note the difference between (0.1307) and (0.1307,)\n",
        "                                       ])\n",
        "\n",
        "# Test Phase transformations\n",
        "test_transforms = transforms.Compose([\n",
        "                                      #  transforms.Resize((28, 28)),\n",
        "                                      #  transforms.ColorJitter(brightness=0.10, contrast=0.1, saturation=0.10, hue=0.1),\n",
        "                                       transforms.ToTensor(),\n",
        "                                       transforms.Normalize((0.1307,), (0.3081,))\n",
        "                                       ])"
      ],
      "execution_count": 6,
      "outputs": []
    },
    {
      "cell_type": "markdown",
      "metadata": {
        "id": "oQciFYo2B1mO"
      },
      "source": [
        "# Dataset and Creating Train/Test Split"
      ]
    },
    {
      "cell_type": "code",
      "metadata": {
        "id": "_4A84rlfDA23",
        "colab": {
          "base_uri": "https://localhost:8080/",
          "height": 770,
          "referenced_widgets": [
            "7c434d62662b469dbc26d032e532ea14",
            "e9cf6099a26d4ef198bd556e8e3dface",
            "10079a0e1c804f07b84b191830194331",
            "6e1412e9588f49519588a7a211b92141",
            "bd1ea343f97842b6a65a929762993121",
            "51a89896c94a482e8284da322e528589",
            "e3effe00330c49208e6a3d12fdf18f36",
            "32520378365b44168a827358fb5277d3",
            "2e44adbf466d402f89295c00c7a9bd09",
            "a1889bea34bc43cc97a717059144723a",
            "91b5db57fe70416395eefc508df17055",
            "a9e30dfc452c4a718ee7f896b1b86073",
            "244e45f81d624dd98e7281055ea26ccc",
            "bdc84fd7f8bc4eb2b70101948aa4d29e",
            "9a43361e8b484f6b951b8507e5467b20",
            "f66d5cab0c0c4dbd81b3c34f114cbbfd",
            "66647d5c69e04b00b9531c5fa736852a",
            "fdd0e7e7b054465e8ad378731f29889b",
            "00f36a3eec59479f9c9727083ab59413",
            "b57f5f790eb944dca79e1a6ea71c19a1",
            "2c38fbe85ae14ab0b09b56aa92dc0ca9",
            "355243b6c820473b92918308c243fc4e",
            "675309e806874451a4d65d1be0b9af16",
            "dd6d8ed47fc34cb69aacb6ba3ee02d0b",
            "f6f76f5fb14845298fc4535c803073e2",
            "b648e394c08e485c8877a58429ac2c21",
            "c80cc1de29a241888563dbefdf368fc3",
            "41ccd0969ff74916add43bf2fca8740b",
            "b8b74462ecee4ff9a72da1702f22be35",
            "ca34686192d347a3bd8b7e9d02dc321f",
            "669b3e3cd4d84e34ab51d27f453c9e0a",
            "1939e50db8b843e1b57d1163b1280d40"
          ]
        },
        "outputId": "334e6b58-d1cd-4df7-9aeb-966c8d80de16"
      },
      "source": [
        "train = datasets.MNIST('./data', train=True, download=True, transform=train_transforms)\n",
        "test = datasets.MNIST('./data', train=False, download=True, transform=test_transforms)"
      ],
      "execution_count": 7,
      "outputs": [
        {
          "output_type": "stream",
          "text": [
            "Downloading http://yann.lecun.com/exdb/mnist/train-images-idx3-ubyte.gz\n",
            "Failed to download (trying next):\n",
            "HTTP Error 503: Service Unavailable\n",
            "\n",
            "Downloading https://ossci-datasets.s3.amazonaws.com/mnist/train-images-idx3-ubyte.gz\n",
            "Downloading https://ossci-datasets.s3.amazonaws.com/mnist/train-images-idx3-ubyte.gz to ./data/MNIST/raw/train-images-idx3-ubyte.gz\n"
          ],
          "name": "stdout"
        },
        {
          "output_type": "display_data",
          "data": {
            "application/vnd.jupyter.widget-view+json": {
              "model_id": "7c434d62662b469dbc26d032e532ea14",
              "version_minor": 0,
              "version_major": 2
            },
            "text/plain": [
              "HBox(children=(FloatProgress(value=0.0, max=9912422.0), HTML(value='')))"
            ]
          },
          "metadata": {
            "tags": []
          }
        },
        {
          "output_type": "stream",
          "text": [
            "\n",
            "Extracting ./data/MNIST/raw/train-images-idx3-ubyte.gz to ./data/MNIST/raw\n",
            "\n",
            "Downloading http://yann.lecun.com/exdb/mnist/train-labels-idx1-ubyte.gz\n",
            "Failed to download (trying next):\n",
            "HTTP Error 503: Service Unavailable\n",
            "\n",
            "Downloading https://ossci-datasets.s3.amazonaws.com/mnist/train-labels-idx1-ubyte.gz\n",
            "Downloading https://ossci-datasets.s3.amazonaws.com/mnist/train-labels-idx1-ubyte.gz to ./data/MNIST/raw/train-labels-idx1-ubyte.gz\n"
          ],
          "name": "stdout"
        },
        {
          "output_type": "display_data",
          "data": {
            "application/vnd.jupyter.widget-view+json": {
              "model_id": "2e44adbf466d402f89295c00c7a9bd09",
              "version_minor": 0,
              "version_major": 2
            },
            "text/plain": [
              "HBox(children=(FloatProgress(value=0.0, max=28881.0), HTML(value='')))"
            ]
          },
          "metadata": {
            "tags": []
          }
        },
        {
          "output_type": "stream",
          "text": [
            "\n",
            "Extracting ./data/MNIST/raw/train-labels-idx1-ubyte.gz to ./data/MNIST/raw\n",
            "\n",
            "Downloading http://yann.lecun.com/exdb/mnist/t10k-images-idx3-ubyte.gz\n",
            "Failed to download (trying next):\n",
            "HTTP Error 503: Service Unavailable\n",
            "\n",
            "Downloading https://ossci-datasets.s3.amazonaws.com/mnist/t10k-images-idx3-ubyte.gz\n",
            "Downloading https://ossci-datasets.s3.amazonaws.com/mnist/t10k-images-idx3-ubyte.gz to ./data/MNIST/raw/t10k-images-idx3-ubyte.gz\n"
          ],
          "name": "stdout"
        },
        {
          "output_type": "display_data",
          "data": {
            "application/vnd.jupyter.widget-view+json": {
              "model_id": "66647d5c69e04b00b9531c5fa736852a",
              "version_minor": 0,
              "version_major": 2
            },
            "text/plain": [
              "HBox(children=(FloatProgress(value=0.0, max=1648877.0), HTML(value='')))"
            ]
          },
          "metadata": {
            "tags": []
          }
        },
        {
          "output_type": "stream",
          "text": [
            "\n",
            "Extracting ./data/MNIST/raw/t10k-images-idx3-ubyte.gz to ./data/MNIST/raw\n",
            "\n",
            "Downloading http://yann.lecun.com/exdb/mnist/t10k-labels-idx1-ubyte.gz\n",
            "Downloading http://yann.lecun.com/exdb/mnist/t10k-labels-idx1-ubyte.gz to ./data/MNIST/raw/t10k-labels-idx1-ubyte.gz\n"
          ],
          "name": "stdout"
        },
        {
          "output_type": "display_data",
          "data": {
            "application/vnd.jupyter.widget-view+json": {
              "model_id": "f6f76f5fb14845298fc4535c803073e2",
              "version_minor": 0,
              "version_major": 2
            },
            "text/plain": [
              "HBox(children=(FloatProgress(value=0.0, max=4542.0), HTML(value='')))"
            ]
          },
          "metadata": {
            "tags": []
          }
        },
        {
          "output_type": "stream",
          "text": [
            "\n",
            "Extracting ./data/MNIST/raw/t10k-labels-idx1-ubyte.gz to ./data/MNIST/raw\n",
            "\n",
            "Processing...\n",
            "Done!\n"
          ],
          "name": "stdout"
        },
        {
          "output_type": "stream",
          "text": [
            "/usr/local/lib/python3.7/dist-packages/torchvision/datasets/mnist.py:502: UserWarning: The given NumPy array is not writeable, and PyTorch does not support non-writeable tensors. This means you can write to the underlying (supposedly non-writeable) NumPy array using the tensor. You may want to copy the array to protect its data or make it writeable before converting it to a tensor. This type of warning will be suppressed for the rest of this program. (Triggered internally at  /pytorch/torch/csrc/utils/tensor_numpy.cpp:143.)\n",
            "  return torch.from_numpy(parsed.astype(m[2], copy=False)).view(*s)\n"
          ],
          "name": "stderr"
        }
      ]
    },
    {
      "cell_type": "markdown",
      "metadata": {
        "id": "qgldp_3-Dn0c"
      },
      "source": [
        "# Dataloader Arguments & Test/Train Dataloaders\n"
      ]
    },
    {
      "cell_type": "code",
      "metadata": {
        "id": "C8OLDR79DrHG",
        "colab": {
          "base_uri": "https://localhost:8080/"
        },
        "outputId": "efacb502-1f68-4b4c-a4e7-3cf6cb9e6bc5"
      },
      "source": [
        "SEED = 1\n",
        "\n",
        "# CUDA?\n",
        "cuda = torch.cuda.is_available()\n",
        "print(\"CUDA Available?\", cuda)\n",
        "\n",
        "# For reproducibility\n",
        "torch.manual_seed(SEED)\n",
        "\n",
        "if cuda:\n",
        "    torch.cuda.manual_seed(SEED)\n",
        "\n",
        "# dataloader arguments - something you'll fetch these from cmdprmt\n",
        "dataloader_args = dict(shuffle=True, batch_size=128, num_workers=2, pin_memory=True) if cuda else dict(shuffle=True, batch_size=64)\n",
        "\n",
        "# train dataloader\n",
        "train_loader = torch.utils.data.DataLoader(train, **dataloader_args)\n",
        "\n",
        "# test dataloader\n",
        "test_loader = torch.utils.data.DataLoader(test, **dataloader_args)"
      ],
      "execution_count": 8,
      "outputs": [
        {
          "output_type": "stream",
          "text": [
            "CUDA Available? True\n"
          ],
          "name": "stdout"
        }
      ]
    },
    {
      "cell_type": "markdown",
      "metadata": {
        "id": "M3-vp8X9LCWo"
      },
      "source": [
        "# Model Params\n"
      ]
    },
    {
      "cell_type": "code",
      "metadata": {
        "colab": {
          "base_uri": "https://localhost:8080/"
        },
        "id": "u_LC6ISMyBbZ",
        "outputId": "d459d2d2-40fd-4ef6-89ee-dc35593d64dd"
      },
      "source": [
        "!pip install torchsummary\n",
        "from torchsummary import summary\n",
        "use_cuda = torch.cuda.is_available()\n",
        "device = torch.device(\"cuda\" if use_cuda else \"cpu\")\n",
        "print(device)"
      ],
      "execution_count": 9,
      "outputs": [
        {
          "output_type": "stream",
          "text": [
            "Requirement already satisfied: torchsummary in /usr/local/lib/python3.7/dist-packages (1.5.1)\n",
            "cuda\n"
          ],
          "name": "stdout"
        }
      ]
    },
    {
      "cell_type": "code",
      "metadata": {
        "colab": {
          "base_uri": "https://localhost:8080/"
        },
        "id": "94uhTHqdAyqf",
        "outputId": "64f8bd4e-7187-4b2b-96eb-487d841f77ee"
      },
      "source": [
        "bn_model = models.S6_CNNModel(3, 10, 0.05, 'Batch').to(device)\n",
        "summary(bn_model, input_size=(1, 28, 28))"
      ],
      "execution_count": 10,
      "outputs": [
        {
          "output_type": "stream",
          "text": [
            "----------------------------------------------------------------\n",
            "        Layer (type)               Output Shape         Param #\n",
            "================================================================\n",
            "            Conv2d-1           [-1, 16, 26, 26]             144\n",
            "              ReLU-2           [-1, 16, 26, 26]               0\n",
            "       BatchNorm2d-3           [-1, 16, 26, 26]              32\n",
            "           CNNNorm-4           [-1, 16, 26, 26]               0\n",
            "           Dropout-5           [-1, 16, 26, 26]               0\n",
            "         CNNBlocks-6           [-1, 16, 26, 26]               0\n",
            "            Conv2d-7           [-1, 16, 24, 24]           2,304\n",
            "              ReLU-8           [-1, 16, 24, 24]               0\n",
            "       BatchNorm2d-9           [-1, 16, 24, 24]              32\n",
            "          CNNNorm-10           [-1, 16, 24, 24]               0\n",
            "          Dropout-11           [-1, 16, 24, 24]               0\n",
            "        CNNBlocks-12           [-1, 16, 24, 24]               0\n",
            "        MaxPool2d-13           [-1, 16, 12, 12]               0\n",
            "           Conv2d-14           [-1, 16, 10, 10]           2,304\n",
            "             ReLU-15           [-1, 16, 10, 10]               0\n",
            "      BatchNorm2d-16           [-1, 16, 10, 10]              32\n",
            "          CNNNorm-17           [-1, 16, 10, 10]               0\n",
            "          Dropout-18           [-1, 16, 10, 10]               0\n",
            "        CNNBlocks-19           [-1, 16, 10, 10]               0\n",
            "           Conv2d-20             [-1, 16, 8, 8]           2,304\n",
            "             ReLU-21             [-1, 16, 8, 8]               0\n",
            "      BatchNorm2d-22             [-1, 16, 8, 8]              32\n",
            "          CNNNorm-23             [-1, 16, 8, 8]               0\n",
            "          Dropout-24             [-1, 16, 8, 8]               0\n",
            "        CNNBlocks-25             [-1, 16, 8, 8]               0\n",
            "           Conv2d-26             [-1, 16, 6, 6]           2,304\n",
            "             ReLU-27             [-1, 16, 6, 6]               0\n",
            "      BatchNorm2d-28             [-1, 16, 6, 6]              32\n",
            "          CNNNorm-29             [-1, 16, 6, 6]               0\n",
            "          Dropout-30             [-1, 16, 6, 6]               0\n",
            "        CNNBlocks-31             [-1, 16, 6, 6]               0\n",
            "        AvgPool2d-32             [-1, 16, 1, 1]               0\n",
            "           Conv2d-33             [-1, 10, 1, 1]             160\n",
            "================================================================\n",
            "Total params: 9,680\n",
            "Trainable params: 9,680\n",
            "Non-trainable params: 0\n",
            "----------------------------------------------------------------\n",
            "Input size (MB): 0.00\n",
            "Forward/backward pass size (MB): 1.08\n",
            "Params size (MB): 0.04\n",
            "Estimated Total Size (MB): 1.12\n",
            "----------------------------------------------------------------\n"
          ],
          "name": "stdout"
        }
      ]
    },
    {
      "cell_type": "code",
      "metadata": {
        "colab": {
          "base_uri": "https://localhost:8080/"
        },
        "id": "6y3odxd9B4Et",
        "outputId": "1b38d867-9119-4fb5-b412-709527e5a8f9"
      },
      "source": [
        "print(bn_model)"
      ],
      "execution_count": 11,
      "outputs": [
        {
          "output_type": "stream",
          "text": [
            "S6_CNNModel(\n",
            "  (cnn_block0): Sequential(\n",
            "    (0): CNNBlocks(\n",
            "      (cnn): Conv2d(1, 16, kernel_size=(3, 3), stride=(1, 1), bias=False)\n",
            "      (relu): ReLU()\n",
            "      (dropout): Dropout(p=0.05, inplace=False)\n",
            "      (norm): CNNNorm(\n",
            "        (norm): BatchNorm2d(16, eps=1e-05, momentum=0.1, affine=True, track_running_stats=True)\n",
            "      )\n",
            "    )\n",
            "  )\n",
            "  (cnn_block1): Sequential(\n",
            "    (0): CNNBlocks(\n",
            "      (cnn): Conv2d(16, 16, kernel_size=(3, 3), stride=(1, 1), bias=False)\n",
            "      (relu): ReLU()\n",
            "      (dropout): Dropout(p=0.05, inplace=False)\n",
            "      (norm): CNNNorm(\n",
            "        (norm): BatchNorm2d(16, eps=1e-05, momentum=0.1, affine=True, track_running_stats=True)\n",
            "      )\n",
            "    )\n",
            "  )\n",
            "  (pool1): MaxPool2d(kernel_size=2, stride=2, padding=0, dilation=1, ceil_mode=False)\n",
            "  (cnn_block_2_3_4): Sequential(\n",
            "    (0): CNNBlocks(\n",
            "      (cnn): Conv2d(16, 16, kernel_size=(3, 3), stride=(1, 1), bias=False)\n",
            "      (relu): ReLU()\n",
            "      (dropout): Dropout(p=0.05, inplace=False)\n",
            "      (norm): CNNNorm(\n",
            "        (norm): BatchNorm2d(16, eps=1e-05, momentum=0.1, affine=True, track_running_stats=True)\n",
            "      )\n",
            "    )\n",
            "    (1): CNNBlocks(\n",
            "      (cnn): Conv2d(16, 16, kernel_size=(3, 3), stride=(1, 1), bias=False)\n",
            "      (relu): ReLU()\n",
            "      (dropout): Dropout(p=0.05, inplace=False)\n",
            "      (norm): CNNNorm(\n",
            "        (norm): BatchNorm2d(16, eps=1e-05, momentum=0.1, affine=True, track_running_stats=True)\n",
            "      )\n",
            "    )\n",
            "    (2): CNNBlocks(\n",
            "      (cnn): Conv2d(16, 16, kernel_size=(3, 3), stride=(1, 1), bias=False)\n",
            "      (relu): ReLU()\n",
            "      (dropout): Dropout(p=0.05, inplace=False)\n",
            "      (norm): CNNNorm(\n",
            "        (norm): BatchNorm2d(16, eps=1e-05, momentum=0.1, affine=True, track_running_stats=True)\n",
            "      )\n",
            "    )\n",
            "  )\n",
            "  (Gap1): Sequential(\n",
            "    (0): AvgPool2d(kernel_size=6, stride=6, padding=0)\n",
            "  )\n",
            "  (fc1): Conv2d(16, 10, kernel_size=(1, 1), stride=(1, 1), bias=False)\n",
            ")\n"
          ],
          "name": "stdout"
        }
      ]
    },
    {
      "cell_type": "code",
      "metadata": {
        "id": "5skB97zIJQQe",
        "colab": {
          "base_uri": "https://localhost:8080/"
        },
        "outputId": "94defbf4-d0b2-46eb-c13e-f65512535594"
      },
      "source": [
        "ln_model = models.S6_CNNModel(3, 10, 0.05, 'Layer').to(device)\n",
        "summary(ln_model, input_size=(1, 28, 28))"
      ],
      "execution_count": 12,
      "outputs": [
        {
          "output_type": "stream",
          "text": [
            "----------------------------------------------------------------\n",
            "        Layer (type)               Output Shape         Param #\n",
            "================================================================\n",
            "            Conv2d-1           [-1, 16, 26, 26]             144\n",
            "              ReLU-2           [-1, 16, 26, 26]               0\n",
            "         GroupNorm-3           [-1, 16, 26, 26]              32\n",
            "           CNNNorm-4           [-1, 16, 26, 26]               0\n",
            "           Dropout-5           [-1, 16, 26, 26]               0\n",
            "         CNNBlocks-6           [-1, 16, 26, 26]               0\n",
            "            Conv2d-7           [-1, 16, 24, 24]           2,304\n",
            "              ReLU-8           [-1, 16, 24, 24]               0\n",
            "         GroupNorm-9           [-1, 16, 24, 24]              32\n",
            "          CNNNorm-10           [-1, 16, 24, 24]               0\n",
            "          Dropout-11           [-1, 16, 24, 24]               0\n",
            "        CNNBlocks-12           [-1, 16, 24, 24]               0\n",
            "        MaxPool2d-13           [-1, 16, 12, 12]               0\n",
            "           Conv2d-14           [-1, 16, 10, 10]           2,304\n",
            "             ReLU-15           [-1, 16, 10, 10]               0\n",
            "        GroupNorm-16           [-1, 16, 10, 10]              32\n",
            "          CNNNorm-17           [-1, 16, 10, 10]               0\n",
            "          Dropout-18           [-1, 16, 10, 10]               0\n",
            "        CNNBlocks-19           [-1, 16, 10, 10]               0\n",
            "           Conv2d-20             [-1, 16, 8, 8]           2,304\n",
            "             ReLU-21             [-1, 16, 8, 8]               0\n",
            "        GroupNorm-22             [-1, 16, 8, 8]              32\n",
            "          CNNNorm-23             [-1, 16, 8, 8]               0\n",
            "          Dropout-24             [-1, 16, 8, 8]               0\n",
            "        CNNBlocks-25             [-1, 16, 8, 8]               0\n",
            "           Conv2d-26             [-1, 16, 6, 6]           2,304\n",
            "             ReLU-27             [-1, 16, 6, 6]               0\n",
            "        GroupNorm-28             [-1, 16, 6, 6]              32\n",
            "          CNNNorm-29             [-1, 16, 6, 6]               0\n",
            "          Dropout-30             [-1, 16, 6, 6]               0\n",
            "        CNNBlocks-31             [-1, 16, 6, 6]               0\n",
            "        AvgPool2d-32             [-1, 16, 1, 1]               0\n",
            "           Conv2d-33             [-1, 10, 1, 1]             160\n",
            "================================================================\n",
            "Total params: 9,680\n",
            "Trainable params: 9,680\n",
            "Non-trainable params: 0\n",
            "----------------------------------------------------------------\n",
            "Input size (MB): 0.00\n",
            "Forward/backward pass size (MB): 1.08\n",
            "Params size (MB): 0.04\n",
            "Estimated Total Size (MB): 1.12\n",
            "----------------------------------------------------------------\n"
          ],
          "name": "stdout"
        }
      ]
    },
    {
      "cell_type": "code",
      "metadata": {
        "colab": {
          "base_uri": "https://localhost:8080/"
        },
        "id": "vrA_5qZpB_fW",
        "outputId": "75ed05f2-c42d-4f13-e40d-88704c26129e"
      },
      "source": [
        "print(ln_model)"
      ],
      "execution_count": 13,
      "outputs": [
        {
          "output_type": "stream",
          "text": [
            "S6_CNNModel(\n",
            "  (cnn_block0): Sequential(\n",
            "    (0): CNNBlocks(\n",
            "      (cnn): Conv2d(1, 16, kernel_size=(3, 3), stride=(1, 1), bias=False)\n",
            "      (relu): ReLU()\n",
            "      (dropout): Dropout(p=0.05, inplace=False)\n",
            "      (norm): CNNNorm(\n",
            "        (norm): GroupNorm(1, 16, eps=1e-05, affine=True)\n",
            "      )\n",
            "    )\n",
            "  )\n",
            "  (cnn_block1): Sequential(\n",
            "    (0): CNNBlocks(\n",
            "      (cnn): Conv2d(16, 16, kernel_size=(3, 3), stride=(1, 1), bias=False)\n",
            "      (relu): ReLU()\n",
            "      (dropout): Dropout(p=0.05, inplace=False)\n",
            "      (norm): CNNNorm(\n",
            "        (norm): GroupNorm(1, 16, eps=1e-05, affine=True)\n",
            "      )\n",
            "    )\n",
            "  )\n",
            "  (pool1): MaxPool2d(kernel_size=2, stride=2, padding=0, dilation=1, ceil_mode=False)\n",
            "  (cnn_block_2_3_4): Sequential(\n",
            "    (0): CNNBlocks(\n",
            "      (cnn): Conv2d(16, 16, kernel_size=(3, 3), stride=(1, 1), bias=False)\n",
            "      (relu): ReLU()\n",
            "      (dropout): Dropout(p=0.05, inplace=False)\n",
            "      (norm): CNNNorm(\n",
            "        (norm): GroupNorm(1, 16, eps=1e-05, affine=True)\n",
            "      )\n",
            "    )\n",
            "    (1): CNNBlocks(\n",
            "      (cnn): Conv2d(16, 16, kernel_size=(3, 3), stride=(1, 1), bias=False)\n",
            "      (relu): ReLU()\n",
            "      (dropout): Dropout(p=0.05, inplace=False)\n",
            "      (norm): CNNNorm(\n",
            "        (norm): GroupNorm(1, 16, eps=1e-05, affine=True)\n",
            "      )\n",
            "    )\n",
            "    (2): CNNBlocks(\n",
            "      (cnn): Conv2d(16, 16, kernel_size=(3, 3), stride=(1, 1), bias=False)\n",
            "      (relu): ReLU()\n",
            "      (dropout): Dropout(p=0.05, inplace=False)\n",
            "      (norm): CNNNorm(\n",
            "        (norm): GroupNorm(1, 16, eps=1e-05, affine=True)\n",
            "      )\n",
            "    )\n",
            "  )\n",
            "  (Gap1): Sequential(\n",
            "    (0): AvgPool2d(kernel_size=6, stride=6, padding=0)\n",
            "  )\n",
            "  (fc1): Conv2d(16, 10, kernel_size=(1, 1), stride=(1, 1), bias=False)\n",
            ")\n"
          ],
          "name": "stdout"
        }
      ]
    },
    {
      "cell_type": "code",
      "metadata": {
        "colab": {
          "base_uri": "https://localhost:8080/"
        },
        "id": "8XYDaVygFq4t",
        "outputId": "522a1120-b6a1-4bed-f6dc-429ee3150abd"
      },
      "source": [
        "gn_model = models.S6_CNNModel(3, 10, 0.05, 'Group').to(device)\n",
        "summary(gn_model, input_size=(1, 28, 28))"
      ],
      "execution_count": 14,
      "outputs": [
        {
          "output_type": "stream",
          "text": [
            "----------------------------------------------------------------\n",
            "        Layer (type)               Output Shape         Param #\n",
            "================================================================\n",
            "            Conv2d-1           [-1, 16, 26, 26]             144\n",
            "              ReLU-2           [-1, 16, 26, 26]               0\n",
            "         GroupNorm-3           [-1, 16, 26, 26]              32\n",
            "           CNNNorm-4           [-1, 16, 26, 26]               0\n",
            "           Dropout-5           [-1, 16, 26, 26]               0\n",
            "         CNNBlocks-6           [-1, 16, 26, 26]               0\n",
            "            Conv2d-7           [-1, 16, 24, 24]           2,304\n",
            "              ReLU-8           [-1, 16, 24, 24]               0\n",
            "         GroupNorm-9           [-1, 16, 24, 24]              32\n",
            "          CNNNorm-10           [-1, 16, 24, 24]               0\n",
            "          Dropout-11           [-1, 16, 24, 24]               0\n",
            "        CNNBlocks-12           [-1, 16, 24, 24]               0\n",
            "        MaxPool2d-13           [-1, 16, 12, 12]               0\n",
            "           Conv2d-14           [-1, 16, 10, 10]           2,304\n",
            "             ReLU-15           [-1, 16, 10, 10]               0\n",
            "        GroupNorm-16           [-1, 16, 10, 10]              32\n",
            "          CNNNorm-17           [-1, 16, 10, 10]               0\n",
            "          Dropout-18           [-1, 16, 10, 10]               0\n",
            "        CNNBlocks-19           [-1, 16, 10, 10]               0\n",
            "           Conv2d-20             [-1, 16, 8, 8]           2,304\n",
            "             ReLU-21             [-1, 16, 8, 8]               0\n",
            "        GroupNorm-22             [-1, 16, 8, 8]              32\n",
            "          CNNNorm-23             [-1, 16, 8, 8]               0\n",
            "          Dropout-24             [-1, 16, 8, 8]               0\n",
            "        CNNBlocks-25             [-1, 16, 8, 8]               0\n",
            "           Conv2d-26             [-1, 16, 6, 6]           2,304\n",
            "             ReLU-27             [-1, 16, 6, 6]               0\n",
            "        GroupNorm-28             [-1, 16, 6, 6]              32\n",
            "          CNNNorm-29             [-1, 16, 6, 6]               0\n",
            "          Dropout-30             [-1, 16, 6, 6]               0\n",
            "        CNNBlocks-31             [-1, 16, 6, 6]               0\n",
            "        AvgPool2d-32             [-1, 16, 1, 1]               0\n",
            "           Conv2d-33             [-1, 10, 1, 1]             160\n",
            "================================================================\n",
            "Total params: 9,680\n",
            "Trainable params: 9,680\n",
            "Non-trainable params: 0\n",
            "----------------------------------------------------------------\n",
            "Input size (MB): 0.00\n",
            "Forward/backward pass size (MB): 1.08\n",
            "Params size (MB): 0.04\n",
            "Estimated Total Size (MB): 1.12\n",
            "----------------------------------------------------------------\n"
          ],
          "name": "stdout"
        }
      ]
    },
    {
      "cell_type": "code",
      "metadata": {
        "colab": {
          "base_uri": "https://localhost:8080/"
        },
        "id": "Ttb2Qi1XGNcR",
        "outputId": "8a7eab1e-70fb-48b8-b714-9b819ee6a192"
      },
      "source": [
        "print(gn_model)"
      ],
      "execution_count": 15,
      "outputs": [
        {
          "output_type": "stream",
          "text": [
            "S6_CNNModel(\n",
            "  (cnn_block0): Sequential(\n",
            "    (0): CNNBlocks(\n",
            "      (cnn): Conv2d(1, 16, kernel_size=(3, 3), stride=(1, 1), bias=False)\n",
            "      (relu): ReLU()\n",
            "      (dropout): Dropout(p=0.05, inplace=False)\n",
            "      (norm): CNNNorm(\n",
            "        (norm): GroupNorm(4, 16, eps=1e-05, affine=True)\n",
            "      )\n",
            "    )\n",
            "  )\n",
            "  (cnn_block1): Sequential(\n",
            "    (0): CNNBlocks(\n",
            "      (cnn): Conv2d(16, 16, kernel_size=(3, 3), stride=(1, 1), bias=False)\n",
            "      (relu): ReLU()\n",
            "      (dropout): Dropout(p=0.05, inplace=False)\n",
            "      (norm): CNNNorm(\n",
            "        (norm): GroupNorm(4, 16, eps=1e-05, affine=True)\n",
            "      )\n",
            "    )\n",
            "  )\n",
            "  (pool1): MaxPool2d(kernel_size=2, stride=2, padding=0, dilation=1, ceil_mode=False)\n",
            "  (cnn_block_2_3_4): Sequential(\n",
            "    (0): CNNBlocks(\n",
            "      (cnn): Conv2d(16, 16, kernel_size=(3, 3), stride=(1, 1), bias=False)\n",
            "      (relu): ReLU()\n",
            "      (dropout): Dropout(p=0.05, inplace=False)\n",
            "      (norm): CNNNorm(\n",
            "        (norm): GroupNorm(4, 16, eps=1e-05, affine=True)\n",
            "      )\n",
            "    )\n",
            "    (1): CNNBlocks(\n",
            "      (cnn): Conv2d(16, 16, kernel_size=(3, 3), stride=(1, 1), bias=False)\n",
            "      (relu): ReLU()\n",
            "      (dropout): Dropout(p=0.05, inplace=False)\n",
            "      (norm): CNNNorm(\n",
            "        (norm): GroupNorm(4, 16, eps=1e-05, affine=True)\n",
            "      )\n",
            "    )\n",
            "    (2): CNNBlocks(\n",
            "      (cnn): Conv2d(16, 16, kernel_size=(3, 3), stride=(1, 1), bias=False)\n",
            "      (relu): ReLU()\n",
            "      (dropout): Dropout(p=0.05, inplace=False)\n",
            "      (norm): CNNNorm(\n",
            "        (norm): GroupNorm(4, 16, eps=1e-05, affine=True)\n",
            "      )\n",
            "    )\n",
            "  )\n",
            "  (Gap1): Sequential(\n",
            "    (0): AvgPool2d(kernel_size=6, stride=6, padding=0)\n",
            "  )\n",
            "  (fc1): Conv2d(16, 10, kernel_size=(1, 1), stride=(1, 1), bias=False)\n",
            ")\n"
          ],
          "name": "stdout"
        }
      ]
    },
    {
      "cell_type": "markdown",
      "metadata": {
        "id": "1__x_SbrL7z3"
      },
      "source": [
        "# Training and Testing\n",
        "\n"
      ]
    },
    {
      "cell_type": "code",
      "metadata": {
        "id": "SaE4Au9AAl3T"
      },
      "source": [
        "from torch.optim.lr_scheduler import StepLR\n",
        "m_parms = {'cnn_blocks'  :3, \n",
        "            'classes'    :10, \n",
        "             'dropout'   :0.05}"
      ],
      "execution_count": 16,
      "outputs": []
    },
    {
      "cell_type": "code",
      "metadata": {
        "colab": {
          "base_uri": "https://localhost:8080/"
        },
        "id": "hXEggEFqyBww",
        "outputId": "288cb80f-6574-4422-8037-73e748162b12"
      },
      "source": [
        "norm_type = {'Batch' : (0.001, 0.0005), 'Layer' : (0, 0.0005), 'Group' : (0.001, 0)}\n",
        "# Tuple represents L1 & L2 factors eg : (L1, L2) = (0.001, 0.0005)\n",
        "\n",
        "for norm in norm_type:\n",
        "    print(f'******Training for Normalization type : {norm}, L1={norm_type[norm][0]}, L2={norm_type[norm][1]}*******')\n",
        "    EPOCHS = 25\n",
        "    model =  models.S6_CNNModel(m_parms['cnn_blocks'], m_parms['classes'], m_parms['dropout'], norm).to(device)  \n",
        "    optimizer = optim.SGD(model.parameters(), lr=0.025, momentum=0.8, weight_decay = norm_type[norm][1])\n",
        "    scheduler = StepLR(optimizer, step_size=6, gamma=0.1)\n",
        "    L1 = norm_type[norm][0]\n",
        "\n",
        "    if norm == 'Batch':  # BN + L1 + L2\n",
        "        bn_train_stats, bn_test_stats = utilities.stats_collector(), utilities.stats_collector()\n",
        "        train = train_loss.train_losses(model, device, train_loader, bn_train_stats, optimizer, EPOCHS)\n",
        "        test  = test_loss.test_losses(model, device, test_loader, bn_test_stats, EPOCHS)\n",
        "    elif norm == 'Layer': # LN + L2\n",
        "        ln_train_stats, ln_test_stats = utilities.stats_collector(), utilities.stats_collector()\n",
        "        train = train_loss.train_losses(model, device, train_loader, ln_train_stats, optimizer, EPOCHS)  \n",
        "        test = test_loss.test_losses(model, device, test_loader, ln_test_stats, EPOCHS)\n",
        "    elif norm == 'Group': # GN + L1\n",
        "        gn_train_stats, gn_test_stats = utilities.stats_collector(), utilities.stats_collector()\n",
        "        train = train_loss.train_losses(model, device, train_loader, gn_train_stats, optimizer, EPOCHS)  \n",
        "        test = test_loss.test_losses(model, device, test_loader, gn_test_stats, EPOCHS)                 \n",
        "\n",
        "    for epoch in range(EPOCHS):\n",
        "        print(f'EPOCH: {epoch}, normalization: {norm}')\n",
        "        train.s6_train(epoch, L1_factor=L1)\n",
        "        test.s6_test(epoch)        "
      ],
      "execution_count": 17,
      "outputs": [
        {
          "output_type": "stream",
          "text": [
            "\r  0%|          | 0/469 [00:00<?, ?it/s]"
          ],
          "name": "stderr"
        },
        {
          "output_type": "stream",
          "text": [
            "******Training for Normalization type : Batch, L1=0.001, L2=0.0005*******\n",
            "EPOCH: 0, normalization: Batch\n"
          ],
          "name": "stdout"
        },
        {
          "output_type": "stream",
          "text": [
            "Loss=0.07449159026145935 Batch_id=468 Train Accuracy=90.52: 100%|██████████| 469/469 [00:42<00:00, 11.12it/s]"
          ],
          "name": "stderr"
        },
        {
          "output_type": "stream",
          "text": [
            "Train set: Epoch : 0/25 Average loss: 0.0000, Train Accuracy: 90.52\n"
          ],
          "name": "stdout"
        },
        {
          "output_type": "stream",
          "text": [
            "\n",
            "  0%|          | 0/469 [00:00<?, ?it/s]"
          ],
          "name": "stderr"
        },
        {
          "output_type": "stream",
          "text": [
            "Test set: Epoch : 0/25 Average loss: 0.0922, Test Accuracy: 97.6\n",
            "EPOCH: 1, normalization: Batch\n"
          ],
          "name": "stdout"
        },
        {
          "output_type": "stream",
          "text": [
            "Loss=0.09056288748979568 Batch_id=468 Train Accuracy=97.92: 100%|██████████| 469/469 [00:42<00:00, 10.93it/s]"
          ],
          "name": "stderr"
        },
        {
          "output_type": "stream",
          "text": [
            "Train set: Epoch : 1/25 Average loss: 0.0000, Train Accuracy: 97.92\n"
          ],
          "name": "stdout"
        },
        {
          "output_type": "stream",
          "text": [
            "\n",
            "  0%|          | 0/469 [00:00<?, ?it/s]"
          ],
          "name": "stderr"
        },
        {
          "output_type": "stream",
          "text": [
            "Test set: Epoch : 1/25 Average loss: 0.0548, Test Accuracy: 98.4\n",
            "EPOCH: 2, normalization: Batch\n"
          ],
          "name": "stdout"
        },
        {
          "output_type": "stream",
          "text": [
            "Loss=0.10096201300621033 Batch_id=468 Train Accuracy=98.36: 100%|██████████| 469/469 [00:42<00:00, 10.92it/s]"
          ],
          "name": "stderr"
        },
        {
          "output_type": "stream",
          "text": [
            "Train set: Epoch : 2/25 Average loss: 0.0000, Train Accuracy: 98.36\n"
          ],
          "name": "stdout"
        },
        {
          "output_type": "stream",
          "text": [
            "\n",
            "  0%|          | 0/469 [00:00<?, ?it/s]"
          ],
          "name": "stderr"
        },
        {
          "output_type": "stream",
          "text": [
            "Test set: Epoch : 2/25 Average loss: 0.0370, Test Accuracy: 98.88\n",
            "EPOCH: 3, normalization: Batch\n"
          ],
          "name": "stdout"
        },
        {
          "output_type": "stream",
          "text": [
            "Loss=0.08128023892641068 Batch_id=468 Train Accuracy=98.60: 100%|██████████| 469/469 [00:42<00:00, 10.91it/s]"
          ],
          "name": "stderr"
        },
        {
          "output_type": "stream",
          "text": [
            "Train set: Epoch : 3/25 Average loss: 0.0000, Train Accuracy: 98.6\n"
          ],
          "name": "stdout"
        },
        {
          "output_type": "stream",
          "text": [
            "\n",
            "  0%|          | 0/469 [00:00<?, ?it/s]"
          ],
          "name": "stderr"
        },
        {
          "output_type": "stream",
          "text": [
            "Test set: Epoch : 3/25 Average loss: 0.0316, Test Accuracy: 99.06\n",
            "EPOCH: 4, normalization: Batch\n"
          ],
          "name": "stdout"
        },
        {
          "output_type": "stream",
          "text": [
            "Loss=0.07253684103488922 Batch_id=468 Train Accuracy=98.67: 100%|██████████| 469/469 [00:42<00:00, 11.07it/s]"
          ],
          "name": "stderr"
        },
        {
          "output_type": "stream",
          "text": [
            "Train set: Epoch : 4/25 Average loss: 0.0000, Train Accuracy: 98.67\n"
          ],
          "name": "stdout"
        },
        {
          "output_type": "stream",
          "text": [
            "\n",
            "  0%|          | 0/469 [00:00<?, ?it/s]"
          ],
          "name": "stderr"
        },
        {
          "output_type": "stream",
          "text": [
            "Test set: Epoch : 4/25 Average loss: 0.0392, Test Accuracy: 98.83\n",
            "EPOCH: 5, normalization: Batch\n"
          ],
          "name": "stdout"
        },
        {
          "output_type": "stream",
          "text": [
            "Loss=0.03702350705862045 Batch_id=468 Train Accuracy=98.79: 100%|██████████| 469/469 [00:42<00:00, 11.08it/s]"
          ],
          "name": "stderr"
        },
        {
          "output_type": "stream",
          "text": [
            "Train set: Epoch : 5/25 Average loss: 0.0000, Train Accuracy: 98.79\n"
          ],
          "name": "stdout"
        },
        {
          "output_type": "stream",
          "text": [
            "\n",
            "  0%|          | 0/469 [00:00<?, ?it/s]"
          ],
          "name": "stderr"
        },
        {
          "output_type": "stream",
          "text": [
            "Test set: Epoch : 5/25 Average loss: 0.0325, Test Accuracy: 99.02\n",
            "EPOCH: 6, normalization: Batch\n"
          ],
          "name": "stdout"
        },
        {
          "output_type": "stream",
          "text": [
            "Loss=0.049825772643089294 Batch_id=468 Train Accuracy=98.81: 100%|██████████| 469/469 [00:42<00:00, 11.03it/s]"
          ],
          "name": "stderr"
        },
        {
          "output_type": "stream",
          "text": [
            "Train set: Epoch : 6/25 Average loss: 0.0000, Train Accuracy: 98.81\n"
          ],
          "name": "stdout"
        },
        {
          "output_type": "stream",
          "text": [
            "\n",
            "  0%|          | 0/469 [00:00<?, ?it/s]"
          ],
          "name": "stderr"
        },
        {
          "output_type": "stream",
          "text": [
            "Test set: Epoch : 6/25 Average loss: 0.0306, Test Accuracy: 99.11\n",
            "EPOCH: 7, normalization: Batch\n"
          ],
          "name": "stdout"
        },
        {
          "output_type": "stream",
          "text": [
            "Loss=0.021549899131059647 Batch_id=468 Train Accuracy=98.93: 100%|██████████| 469/469 [00:42<00:00, 11.11it/s]"
          ],
          "name": "stderr"
        },
        {
          "output_type": "stream",
          "text": [
            "Train set: Epoch : 7/25 Average loss: 0.0000, Train Accuracy: 98.93\n"
          ],
          "name": "stdout"
        },
        {
          "output_type": "stream",
          "text": [
            "\n",
            "  0%|          | 0/469 [00:00<?, ?it/s]"
          ],
          "name": "stderr"
        },
        {
          "output_type": "stream",
          "text": [
            "Test set: Epoch : 7/25 Average loss: 0.0287, Test Accuracy: 99.13\n",
            "EPOCH: 8, normalization: Batch\n"
          ],
          "name": "stdout"
        },
        {
          "output_type": "stream",
          "text": [
            "Loss=0.02482667565345764 Batch_id=468 Train Accuracy=98.94: 100%|██████████| 469/469 [00:42<00:00, 11.08it/s]"
          ],
          "name": "stderr"
        },
        {
          "output_type": "stream",
          "text": [
            "Train set: Epoch : 8/25 Average loss: 0.0000, Train Accuracy: 98.94\n"
          ],
          "name": "stdout"
        },
        {
          "output_type": "stream",
          "text": [
            "\n",
            "  0%|          | 0/469 [00:00<?, ?it/s]"
          ],
          "name": "stderr"
        },
        {
          "output_type": "stream",
          "text": [
            "Test set: Epoch : 8/25 Average loss: 0.0282, Test Accuracy: 99.11\n",
            "EPOCH: 9, normalization: Batch\n"
          ],
          "name": "stdout"
        },
        {
          "output_type": "stream",
          "text": [
            "Loss=0.036498602479696274 Batch_id=468 Train Accuracy=99.00: 100%|██████████| 469/469 [00:42<00:00, 10.98it/s]"
          ],
          "name": "stderr"
        },
        {
          "output_type": "stream",
          "text": [
            "Train set: Epoch : 9/25 Average loss: 0.0000, Train Accuracy: 99.0\n"
          ],
          "name": "stdout"
        },
        {
          "output_type": "stream",
          "text": [
            "\n",
            "  0%|          | 0/469 [00:00<?, ?it/s]"
          ],
          "name": "stderr"
        },
        {
          "output_type": "stream",
          "text": [
            "Test set: Epoch : 9/25 Average loss: 0.0361, Test Accuracy: 98.9\n",
            "EPOCH: 10, normalization: Batch\n"
          ],
          "name": "stdout"
        },
        {
          "output_type": "stream",
          "text": [
            "Loss=0.03718717023730278 Batch_id=468 Train Accuracy=98.97: 100%|██████████| 469/469 [00:43<00:00, 10.91it/s]"
          ],
          "name": "stderr"
        },
        {
          "output_type": "stream",
          "text": [
            "Train set: Epoch : 10/25 Average loss: 0.0000, Train Accuracy: 98.97\n"
          ],
          "name": "stdout"
        },
        {
          "output_type": "stream",
          "text": [
            "\n",
            "  0%|          | 0/469 [00:00<?, ?it/s]"
          ],
          "name": "stderr"
        },
        {
          "output_type": "stream",
          "text": [
            "Test set: Epoch : 10/25 Average loss: 0.0308, Test Accuracy: 99.1\n",
            "EPOCH: 11, normalization: Batch\n"
          ],
          "name": "stdout"
        },
        {
          "output_type": "stream",
          "text": [
            "Loss=0.015840968117117882 Batch_id=468 Train Accuracy=99.00: 100%|██████████| 469/469 [00:43<00:00, 10.80it/s]"
          ],
          "name": "stderr"
        },
        {
          "output_type": "stream",
          "text": [
            "Train set: Epoch : 11/25 Average loss: 0.0000, Train Accuracy: 99.0\n"
          ],
          "name": "stdout"
        },
        {
          "output_type": "stream",
          "text": [
            "\n",
            "  0%|          | 0/469 [00:00<?, ?it/s]"
          ],
          "name": "stderr"
        },
        {
          "output_type": "stream",
          "text": [
            "Test set: Epoch : 11/25 Average loss: 0.0274, Test Accuracy: 99.27\n",
            "EPOCH: 12, normalization: Batch\n"
          ],
          "name": "stdout"
        },
        {
          "output_type": "stream",
          "text": [
            "Loss=0.044396646320819855 Batch_id=468 Train Accuracy=98.99: 100%|██████████| 469/469 [00:43<00:00, 10.79it/s]"
          ],
          "name": "stderr"
        },
        {
          "output_type": "stream",
          "text": [
            "Train set: Epoch : 12/25 Average loss: 0.0000, Train Accuracy: 98.99\n"
          ],
          "name": "stdout"
        },
        {
          "output_type": "stream",
          "text": [
            "\n",
            "  0%|          | 0/469 [00:00<?, ?it/s]"
          ],
          "name": "stderr"
        },
        {
          "output_type": "stream",
          "text": [
            "Test set: Epoch : 12/25 Average loss: 0.0253, Test Accuracy: 99.21\n",
            "EPOCH: 13, normalization: Batch\n"
          ],
          "name": "stdout"
        },
        {
          "output_type": "stream",
          "text": [
            "Loss=0.06418003141880035 Batch_id=468 Train Accuracy=99.05: 100%|██████████| 469/469 [00:43<00:00, 10.80it/s]"
          ],
          "name": "stderr"
        },
        {
          "output_type": "stream",
          "text": [
            "Train set: Epoch : 13/25 Average loss: 0.0000, Train Accuracy: 99.05\n"
          ],
          "name": "stdout"
        },
        {
          "output_type": "stream",
          "text": [
            "\n",
            "  0%|          | 0/469 [00:00<?, ?it/s]"
          ],
          "name": "stderr"
        },
        {
          "output_type": "stream",
          "text": [
            "Test set: Epoch : 13/25 Average loss: 0.0237, Test Accuracy: 99.25\n",
            "EPOCH: 14, normalization: Batch\n"
          ],
          "name": "stdout"
        },
        {
          "output_type": "stream",
          "text": [
            "Loss=0.09450294822454453 Batch_id=468 Train Accuracy=98.98: 100%|██████████| 469/469 [00:43<00:00, 10.70it/s]"
          ],
          "name": "stderr"
        },
        {
          "output_type": "stream",
          "text": [
            "Train set: Epoch : 14/25 Average loss: 0.0000, Train Accuracy: 98.98\n"
          ],
          "name": "stdout"
        },
        {
          "output_type": "stream",
          "text": [
            "\n",
            "  0%|          | 0/469 [00:00<?, ?it/s]"
          ],
          "name": "stderr"
        },
        {
          "output_type": "stream",
          "text": [
            "Test set: Epoch : 14/25 Average loss: 0.0295, Test Accuracy: 99.06\n",
            "EPOCH: 15, normalization: Batch\n"
          ],
          "name": "stdout"
        },
        {
          "output_type": "stream",
          "text": [
            "Loss=0.024641361087560654 Batch_id=468 Train Accuracy=99.07: 100%|██████████| 469/469 [00:43<00:00, 10.68it/s]"
          ],
          "name": "stderr"
        },
        {
          "output_type": "stream",
          "text": [
            "Train set: Epoch : 15/25 Average loss: 0.0000, Train Accuracy: 99.07\n"
          ],
          "name": "stdout"
        },
        {
          "output_type": "stream",
          "text": [
            "\n",
            "  0%|          | 0/469 [00:00<?, ?it/s]"
          ],
          "name": "stderr"
        },
        {
          "output_type": "stream",
          "text": [
            "Test set: Epoch : 15/25 Average loss: 0.0264, Test Accuracy: 99.2\n",
            "EPOCH: 16, normalization: Batch\n"
          ],
          "name": "stdout"
        },
        {
          "output_type": "stream",
          "text": [
            "Loss=0.024021755903959274 Batch_id=468 Train Accuracy=99.09: 100%|██████████| 469/469 [00:44<00:00, 10.65it/s]"
          ],
          "name": "stderr"
        },
        {
          "output_type": "stream",
          "text": [
            "Train set: Epoch : 16/25 Average loss: 0.0000, Train Accuracy: 99.09\n"
          ],
          "name": "stdout"
        },
        {
          "output_type": "stream",
          "text": [
            "\n",
            "  0%|          | 0/469 [00:00<?, ?it/s]"
          ],
          "name": "stderr"
        },
        {
          "output_type": "stream",
          "text": [
            "Test set: Epoch : 16/25 Average loss: 0.0264, Test Accuracy: 99.19\n",
            "EPOCH: 17, normalization: Batch\n"
          ],
          "name": "stdout"
        },
        {
          "output_type": "stream",
          "text": [
            "Loss=0.043859656900167465 Batch_id=468 Train Accuracy=99.13: 100%|██████████| 469/469 [00:44<00:00, 10.65it/s]"
          ],
          "name": "stderr"
        },
        {
          "output_type": "stream",
          "text": [
            "Train set: Epoch : 17/25 Average loss: 0.0000, Train Accuracy: 99.13\n"
          ],
          "name": "stdout"
        },
        {
          "output_type": "stream",
          "text": [
            "\n",
            "  0%|          | 0/469 [00:00<?, ?it/s]"
          ],
          "name": "stderr"
        },
        {
          "output_type": "stream",
          "text": [
            "Test set: Epoch : 17/25 Average loss: 0.0241, Test Accuracy: 99.3\n",
            "EPOCH: 18, normalization: Batch\n"
          ],
          "name": "stdout"
        },
        {
          "output_type": "stream",
          "text": [
            "Loss=0.01571226865053177 Batch_id=468 Train Accuracy=99.15: 100%|██████████| 469/469 [00:43<00:00, 10.72it/s]"
          ],
          "name": "stderr"
        },
        {
          "output_type": "stream",
          "text": [
            "Train set: Epoch : 18/25 Average loss: 0.0000, Train Accuracy: 99.15\n"
          ],
          "name": "stdout"
        },
        {
          "output_type": "stream",
          "text": [
            "\n",
            "  0%|          | 0/469 [00:00<?, ?it/s]"
          ],
          "name": "stderr"
        },
        {
          "output_type": "stream",
          "text": [
            "Test set: Epoch : 18/25 Average loss: 0.0247, Test Accuracy: 99.26\n",
            "EPOCH: 19, normalization: Batch\n"
          ],
          "name": "stdout"
        },
        {
          "output_type": "stream",
          "text": [
            "Loss=0.02980939671397209 Batch_id=468 Train Accuracy=99.12: 100%|██████████| 469/469 [00:44<00:00, 10.65it/s]"
          ],
          "name": "stderr"
        },
        {
          "output_type": "stream",
          "text": [
            "Train set: Epoch : 19/25 Average loss: 0.0000, Train Accuracy: 99.12\n"
          ],
          "name": "stdout"
        },
        {
          "output_type": "stream",
          "text": [
            "\n",
            "  0%|          | 0/469 [00:00<?, ?it/s]"
          ],
          "name": "stderr"
        },
        {
          "output_type": "stream",
          "text": [
            "Test set: Epoch : 19/25 Average loss: 0.0283, Test Accuracy: 99.16\n",
            "EPOCH: 20, normalization: Batch\n"
          ],
          "name": "stdout"
        },
        {
          "output_type": "stream",
          "text": [
            "Loss=0.01638425700366497 Batch_id=468 Train Accuracy=99.16: 100%|██████████| 469/469 [00:43<00:00, 10.69it/s]"
          ],
          "name": "stderr"
        },
        {
          "output_type": "stream",
          "text": [
            "Train set: Epoch : 20/25 Average loss: 0.0000, Train Accuracy: 99.16\n"
          ],
          "name": "stdout"
        },
        {
          "output_type": "stream",
          "text": [
            "\n",
            "  0%|          | 0/469 [00:00<?, ?it/s]"
          ],
          "name": "stderr"
        },
        {
          "output_type": "stream",
          "text": [
            "Test set: Epoch : 20/25 Average loss: 0.0239, Test Accuracy: 99.28\n",
            "EPOCH: 21, normalization: Batch\n"
          ],
          "name": "stdout"
        },
        {
          "output_type": "stream",
          "text": [
            "Loss=0.029437489807605743 Batch_id=468 Train Accuracy=99.14: 100%|██████████| 469/469 [00:43<00:00, 10.76it/s]"
          ],
          "name": "stderr"
        },
        {
          "output_type": "stream",
          "text": [
            "Train set: Epoch : 21/25 Average loss: 0.0000, Train Accuracy: 99.14\n"
          ],
          "name": "stdout"
        },
        {
          "output_type": "stream",
          "text": [
            "\n",
            "  0%|          | 0/469 [00:00<?, ?it/s]"
          ],
          "name": "stderr"
        },
        {
          "output_type": "stream",
          "text": [
            "Test set: Epoch : 21/25 Average loss: 0.0224, Test Accuracy: 99.22\n",
            "EPOCH: 22, normalization: Batch\n"
          ],
          "name": "stdout"
        },
        {
          "output_type": "stream",
          "text": [
            "Loss=0.018625734373927116 Batch_id=468 Train Accuracy=99.04: 100%|██████████| 469/469 [00:43<00:00, 10.77it/s]"
          ],
          "name": "stderr"
        },
        {
          "output_type": "stream",
          "text": [
            "Train set: Epoch : 22/25 Average loss: 0.0000, Train Accuracy: 99.04\n"
          ],
          "name": "stdout"
        },
        {
          "output_type": "stream",
          "text": [
            "\n",
            "  0%|          | 0/469 [00:00<?, ?it/s]"
          ],
          "name": "stderr"
        },
        {
          "output_type": "stream",
          "text": [
            "Test set: Epoch : 22/25 Average loss: 0.0296, Test Accuracy: 99.18\n",
            "EPOCH: 23, normalization: Batch\n"
          ],
          "name": "stdout"
        },
        {
          "output_type": "stream",
          "text": [
            "Loss=0.01759975776076317 Batch_id=468 Train Accuracy=99.17: 100%|██████████| 469/469 [00:43<00:00, 10.75it/s]"
          ],
          "name": "stderr"
        },
        {
          "output_type": "stream",
          "text": [
            "Train set: Epoch : 23/25 Average loss: 0.0000, Train Accuracy: 99.17\n"
          ],
          "name": "stdout"
        },
        {
          "output_type": "stream",
          "text": [
            "\n",
            "  0%|          | 0/469 [00:00<?, ?it/s]"
          ],
          "name": "stderr"
        },
        {
          "output_type": "stream",
          "text": [
            "Test set: Epoch : 23/25 Average loss: 0.0223, Test Accuracy: 99.38\n",
            "EPOCH: 24, normalization: Batch\n"
          ],
          "name": "stdout"
        },
        {
          "output_type": "stream",
          "text": [
            "Loss=0.014064054936170578 Batch_id=468 Train Accuracy=99.10: 100%|██████████| 469/469 [00:43<00:00, 10.70it/s]"
          ],
          "name": "stderr"
        },
        {
          "output_type": "stream",
          "text": [
            "Train set: Epoch : 24/25 Average loss: 0.0000, Train Accuracy: 99.1\n"
          ],
          "name": "stdout"
        },
        {
          "output_type": "stream",
          "text": [
            "\n",
            "  0%|          | 0/469 [00:00<?, ?it/s]"
          ],
          "name": "stderr"
        },
        {
          "output_type": "stream",
          "text": [
            "Test set: Epoch : 24/25 Average loss: 0.0258, Test Accuracy: 99.21\n",
            "******Training for Normalization type : Layer, L1=0, L2=0.0005*******\n",
            "EPOCH: 0, normalization: Layer\n"
          ],
          "name": "stdout"
        },
        {
          "output_type": "stream",
          "text": [
            "Loss=0.05864570662379265 Batch_id=468 Train Accuracy=88.14: 100%|██████████| 469/469 [00:43<00:00, 10.74it/s]"
          ],
          "name": "stderr"
        },
        {
          "output_type": "stream",
          "text": [
            "Train set: Epoch : 0/25 Average loss: 0.0000, Train Accuracy: 88.14\n"
          ],
          "name": "stdout"
        },
        {
          "output_type": "stream",
          "text": [
            "\n",
            "  0%|          | 0/469 [00:00<?, ?it/s]"
          ],
          "name": "stderr"
        },
        {
          "output_type": "stream",
          "text": [
            "Test set: Epoch : 0/25 Average loss: 0.0855, Test Accuracy: 97.88\n",
            "EPOCH: 1, normalization: Layer\n"
          ],
          "name": "stdout"
        },
        {
          "output_type": "stream",
          "text": [
            "Loss=0.06426478177309036 Batch_id=468 Train Accuracy=97.66: 100%|██████████| 469/469 [00:43<00:00, 10.82it/s]"
          ],
          "name": "stderr"
        },
        {
          "output_type": "stream",
          "text": [
            "Train set: Epoch : 1/25 Average loss: 0.0000, Train Accuracy: 97.66\n"
          ],
          "name": "stdout"
        },
        {
          "output_type": "stream",
          "text": [
            "\n",
            "  0%|          | 0/469 [00:00<?, ?it/s]"
          ],
          "name": "stderr"
        },
        {
          "output_type": "stream",
          "text": [
            "Test set: Epoch : 1/25 Average loss: 0.0519, Test Accuracy: 98.53\n",
            "EPOCH: 2, normalization: Layer\n"
          ],
          "name": "stdout"
        },
        {
          "output_type": "stream",
          "text": [
            "Loss=0.06731225550174713 Batch_id=468 Train Accuracy=98.17: 100%|██████████| 469/469 [00:43<00:00, 10.77it/s]"
          ],
          "name": "stderr"
        },
        {
          "output_type": "stream",
          "text": [
            "Train set: Epoch : 2/25 Average loss: 0.0000, Train Accuracy: 98.17\n"
          ],
          "name": "stdout"
        },
        {
          "output_type": "stream",
          "text": [
            "\n",
            "  0%|          | 0/469 [00:00<?, ?it/s]"
          ],
          "name": "stderr"
        },
        {
          "output_type": "stream",
          "text": [
            "Test set: Epoch : 2/25 Average loss: 0.0360, Test Accuracy: 99.02\n",
            "EPOCH: 3, normalization: Layer\n"
          ],
          "name": "stdout"
        },
        {
          "output_type": "stream",
          "text": [
            "Loss=0.029871227219700813 Batch_id=468 Train Accuracy=98.50: 100%|██████████| 469/469 [00:43<00:00, 10.79it/s]"
          ],
          "name": "stderr"
        },
        {
          "output_type": "stream",
          "text": [
            "Train set: Epoch : 3/25 Average loss: 0.0000, Train Accuracy: 98.5\n"
          ],
          "name": "stdout"
        },
        {
          "output_type": "stream",
          "text": [
            "\n",
            "  0%|          | 0/469 [00:00<?, ?it/s]"
          ],
          "name": "stderr"
        },
        {
          "output_type": "stream",
          "text": [
            "Test set: Epoch : 3/25 Average loss: 0.0351, Test Accuracy: 99.04\n",
            "EPOCH: 4, normalization: Layer\n"
          ],
          "name": "stdout"
        },
        {
          "output_type": "stream",
          "text": [
            "Loss=0.06346027553081512 Batch_id=468 Train Accuracy=98.67: 100%|██████████| 469/469 [00:42<00:00, 10.91it/s]"
          ],
          "name": "stderr"
        },
        {
          "output_type": "stream",
          "text": [
            "Train set: Epoch : 4/25 Average loss: 0.0000, Train Accuracy: 98.67\n"
          ],
          "name": "stdout"
        },
        {
          "output_type": "stream",
          "text": [
            "\n",
            "  0%|          | 0/469 [00:00<?, ?it/s]"
          ],
          "name": "stderr"
        },
        {
          "output_type": "stream",
          "text": [
            "Test set: Epoch : 4/25 Average loss: 0.0380, Test Accuracy: 98.88\n",
            "EPOCH: 5, normalization: Layer\n"
          ],
          "name": "stdout"
        },
        {
          "output_type": "stream",
          "text": [
            "Loss=0.011324907653033733 Batch_id=468 Train Accuracy=98.75: 100%|██████████| 469/469 [00:42<00:00, 10.92it/s]"
          ],
          "name": "stderr"
        },
        {
          "output_type": "stream",
          "text": [
            "Train set: Epoch : 5/25 Average loss: 0.0000, Train Accuracy: 98.75\n"
          ],
          "name": "stdout"
        },
        {
          "output_type": "stream",
          "text": [
            "\n",
            "  0%|          | 0/469 [00:00<?, ?it/s]"
          ],
          "name": "stderr"
        },
        {
          "output_type": "stream",
          "text": [
            "Test set: Epoch : 5/25 Average loss: 0.0313, Test Accuracy: 99.08\n",
            "EPOCH: 6, normalization: Layer\n"
          ],
          "name": "stdout"
        },
        {
          "output_type": "stream",
          "text": [
            "Loss=0.07356392592191696 Batch_id=468 Train Accuracy=98.78: 100%|██████████| 469/469 [00:42<00:00, 11.15it/s]"
          ],
          "name": "stderr"
        },
        {
          "output_type": "stream",
          "text": [
            "Train set: Epoch : 6/25 Average loss: 0.0000, Train Accuracy: 98.78\n"
          ],
          "name": "stdout"
        },
        {
          "output_type": "stream",
          "text": [
            "\n",
            "  0%|          | 0/469 [00:00<?, ?it/s]"
          ],
          "name": "stderr"
        },
        {
          "output_type": "stream",
          "text": [
            "Test set: Epoch : 6/25 Average loss: 0.0329, Test Accuracy: 99.0\n",
            "EPOCH: 7, normalization: Layer\n"
          ],
          "name": "stdout"
        },
        {
          "output_type": "stream",
          "text": [
            "Loss=0.03022337704896927 Batch_id=468 Train Accuracy=98.82: 100%|██████████| 469/469 [00:41<00:00, 11.21it/s]"
          ],
          "name": "stderr"
        },
        {
          "output_type": "stream",
          "text": [
            "Train set: Epoch : 7/25 Average loss: 0.0000, Train Accuracy: 98.82\n"
          ],
          "name": "stdout"
        },
        {
          "output_type": "stream",
          "text": [
            "\n",
            "  0%|          | 0/469 [00:00<?, ?it/s]"
          ],
          "name": "stderr"
        },
        {
          "output_type": "stream",
          "text": [
            "Test set: Epoch : 7/25 Average loss: 0.0283, Test Accuracy: 99.22\n",
            "EPOCH: 8, normalization: Layer\n"
          ],
          "name": "stdout"
        },
        {
          "output_type": "stream",
          "text": [
            "Loss=0.03806730732321739 Batch_id=468 Train Accuracy=98.83: 100%|██████████| 469/469 [00:41<00:00, 11.23it/s]"
          ],
          "name": "stderr"
        },
        {
          "output_type": "stream",
          "text": [
            "Train set: Epoch : 8/25 Average loss: 0.0000, Train Accuracy: 98.83\n"
          ],
          "name": "stdout"
        },
        {
          "output_type": "stream",
          "text": [
            "\n",
            "  0%|          | 0/469 [00:00<?, ?it/s]"
          ],
          "name": "stderr"
        },
        {
          "output_type": "stream",
          "text": [
            "Test set: Epoch : 8/25 Average loss: 0.0249, Test Accuracy: 99.27\n",
            "EPOCH: 9, normalization: Layer\n"
          ],
          "name": "stdout"
        },
        {
          "output_type": "stream",
          "text": [
            "Loss=0.07752975076436996 Batch_id=468 Train Accuracy=98.94: 100%|██████████| 469/469 [00:42<00:00, 11.06it/s]"
          ],
          "name": "stderr"
        },
        {
          "output_type": "stream",
          "text": [
            "Train set: Epoch : 9/25 Average loss: 0.0000, Train Accuracy: 98.94\n"
          ],
          "name": "stdout"
        },
        {
          "output_type": "stream",
          "text": [
            "\n",
            "  0%|          | 0/469 [00:00<?, ?it/s]"
          ],
          "name": "stderr"
        },
        {
          "output_type": "stream",
          "text": [
            "Test set: Epoch : 9/25 Average loss: 0.0265, Test Accuracy: 99.22\n",
            "EPOCH: 10, normalization: Layer\n"
          ],
          "name": "stdout"
        },
        {
          "output_type": "stream",
          "text": [
            "Loss=0.05696733295917511 Batch_id=468 Train Accuracy=98.99: 100%|██████████| 469/469 [00:42<00:00, 11.12it/s]"
          ],
          "name": "stderr"
        },
        {
          "output_type": "stream",
          "text": [
            "Train set: Epoch : 10/25 Average loss: 0.0000, Train Accuracy: 98.99\n"
          ],
          "name": "stdout"
        },
        {
          "output_type": "stream",
          "text": [
            "\n",
            "  0%|          | 0/469 [00:00<?, ?it/s]"
          ],
          "name": "stderr"
        },
        {
          "output_type": "stream",
          "text": [
            "Test set: Epoch : 10/25 Average loss: 0.0271, Test Accuracy: 99.13\n",
            "EPOCH: 11, normalization: Layer\n"
          ],
          "name": "stdout"
        },
        {
          "output_type": "stream",
          "text": [
            "Loss=0.020230766385793686 Batch_id=468 Train Accuracy=98.92: 100%|██████████| 469/469 [00:42<00:00, 11.17it/s]"
          ],
          "name": "stderr"
        },
        {
          "output_type": "stream",
          "text": [
            "Train set: Epoch : 11/25 Average loss: 0.0000, Train Accuracy: 98.92\n"
          ],
          "name": "stdout"
        },
        {
          "output_type": "stream",
          "text": [
            "\n",
            "  0%|          | 0/469 [00:00<?, ?it/s]"
          ],
          "name": "stderr"
        },
        {
          "output_type": "stream",
          "text": [
            "Test set: Epoch : 11/25 Average loss: 0.0252, Test Accuracy: 99.27\n",
            "EPOCH: 12, normalization: Layer\n"
          ],
          "name": "stdout"
        },
        {
          "output_type": "stream",
          "text": [
            "Loss=0.04755455628037453 Batch_id=468 Train Accuracy=99.02: 100%|██████████| 469/469 [00:41<00:00, 11.21it/s]"
          ],
          "name": "stderr"
        },
        {
          "output_type": "stream",
          "text": [
            "Train set: Epoch : 12/25 Average loss: 0.0000, Train Accuracy: 99.02\n"
          ],
          "name": "stdout"
        },
        {
          "output_type": "stream",
          "text": [
            "\n",
            "  0%|          | 0/469 [00:00<?, ?it/s]"
          ],
          "name": "stderr"
        },
        {
          "output_type": "stream",
          "text": [
            "Test set: Epoch : 12/25 Average loss: 0.0253, Test Accuracy: 99.21\n",
            "EPOCH: 13, normalization: Layer\n"
          ],
          "name": "stdout"
        },
        {
          "output_type": "stream",
          "text": [
            "Loss=0.04348386824131012 Batch_id=468 Train Accuracy=99.02: 100%|██████████| 469/469 [00:41<00:00, 11.37it/s]"
          ],
          "name": "stderr"
        },
        {
          "output_type": "stream",
          "text": [
            "Train set: Epoch : 13/25 Average loss: 0.0000, Train Accuracy: 99.02\n"
          ],
          "name": "stdout"
        },
        {
          "output_type": "stream",
          "text": [
            "\n",
            "  0%|          | 0/469 [00:00<?, ?it/s]"
          ],
          "name": "stderr"
        },
        {
          "output_type": "stream",
          "text": [
            "Test set: Epoch : 13/25 Average loss: 0.0250, Test Accuracy: 99.3\n",
            "EPOCH: 14, normalization: Layer\n"
          ],
          "name": "stdout"
        },
        {
          "output_type": "stream",
          "text": [
            "Loss=0.0036758219357579947 Batch_id=468 Train Accuracy=99.06: 100%|██████████| 469/469 [00:41<00:00, 11.33it/s]"
          ],
          "name": "stderr"
        },
        {
          "output_type": "stream",
          "text": [
            "Train set: Epoch : 14/25 Average loss: 0.0000, Train Accuracy: 99.06\n"
          ],
          "name": "stdout"
        },
        {
          "output_type": "stream",
          "text": [
            "\n",
            "  0%|          | 0/469 [00:00<?, ?it/s]"
          ],
          "name": "stderr"
        },
        {
          "output_type": "stream",
          "text": [
            "Test set: Epoch : 14/25 Average loss: 0.0254, Test Accuracy: 99.3\n",
            "EPOCH: 15, normalization: Layer\n"
          ],
          "name": "stdout"
        },
        {
          "output_type": "stream",
          "text": [
            "Loss=0.018947776407003403 Batch_id=468 Train Accuracy=99.05: 100%|██████████| 469/469 [00:41<00:00, 11.32it/s]"
          ],
          "name": "stderr"
        },
        {
          "output_type": "stream",
          "text": [
            "Train set: Epoch : 15/25 Average loss: 0.0000, Train Accuracy: 99.05\n"
          ],
          "name": "stdout"
        },
        {
          "output_type": "stream",
          "text": [
            "\n",
            "  0%|          | 0/469 [00:00<?, ?it/s]"
          ],
          "name": "stderr"
        },
        {
          "output_type": "stream",
          "text": [
            "Test set: Epoch : 15/25 Average loss: 0.0224, Test Accuracy: 99.31\n",
            "EPOCH: 16, normalization: Layer\n"
          ],
          "name": "stdout"
        },
        {
          "output_type": "stream",
          "text": [
            "Loss=0.025692099705338478 Batch_id=468 Train Accuracy=99.16: 100%|██████████| 469/469 [00:41<00:00, 11.32it/s]"
          ],
          "name": "stderr"
        },
        {
          "output_type": "stream",
          "text": [
            "Train set: Epoch : 16/25 Average loss: 0.0000, Train Accuracy: 99.16\n"
          ],
          "name": "stdout"
        },
        {
          "output_type": "stream",
          "text": [
            "\n",
            "  0%|          | 0/469 [00:00<?, ?it/s]"
          ],
          "name": "stderr"
        },
        {
          "output_type": "stream",
          "text": [
            "Test set: Epoch : 16/25 Average loss: 0.0244, Test Accuracy: 99.36\n",
            "EPOCH: 17, normalization: Layer\n"
          ],
          "name": "stdout"
        },
        {
          "output_type": "stream",
          "text": [
            "Loss=0.008828943595290184 Batch_id=468 Train Accuracy=99.07: 100%|██████████| 469/469 [00:41<00:00, 11.33it/s]"
          ],
          "name": "stderr"
        },
        {
          "output_type": "stream",
          "text": [
            "Train set: Epoch : 17/25 Average loss: 0.0000, Train Accuracy: 99.07\n"
          ],
          "name": "stdout"
        },
        {
          "output_type": "stream",
          "text": [
            "\n",
            "  0%|          | 0/469 [00:00<?, ?it/s]"
          ],
          "name": "stderr"
        },
        {
          "output_type": "stream",
          "text": [
            "Test set: Epoch : 17/25 Average loss: 0.0251, Test Accuracy: 99.26\n",
            "EPOCH: 18, normalization: Layer\n"
          ],
          "name": "stdout"
        },
        {
          "output_type": "stream",
          "text": [
            "Loss=0.021361058577895164 Batch_id=468 Train Accuracy=99.13: 100%|██████████| 469/469 [00:41<00:00, 11.37it/s]"
          ],
          "name": "stderr"
        },
        {
          "output_type": "stream",
          "text": [
            "Train set: Epoch : 18/25 Average loss: 0.0000, Train Accuracy: 99.13\n"
          ],
          "name": "stdout"
        },
        {
          "output_type": "stream",
          "text": [
            "\n",
            "  0%|          | 0/469 [00:00<?, ?it/s]"
          ],
          "name": "stderr"
        },
        {
          "output_type": "stream",
          "text": [
            "Test set: Epoch : 18/25 Average loss: 0.0238, Test Accuracy: 99.24\n",
            "EPOCH: 19, normalization: Layer\n"
          ],
          "name": "stdout"
        },
        {
          "output_type": "stream",
          "text": [
            "Loss=0.04110576957464218 Batch_id=468 Train Accuracy=99.10: 100%|██████████| 469/469 [00:41<00:00, 11.39it/s]"
          ],
          "name": "stderr"
        },
        {
          "output_type": "stream",
          "text": [
            "Train set: Epoch : 19/25 Average loss: 0.0000, Train Accuracy: 99.1\n"
          ],
          "name": "stdout"
        },
        {
          "output_type": "stream",
          "text": [
            "\n",
            "  0%|          | 0/469 [00:00<?, ?it/s]"
          ],
          "name": "stderr"
        },
        {
          "output_type": "stream",
          "text": [
            "Test set: Epoch : 19/25 Average loss: 0.0267, Test Accuracy: 99.15\n",
            "EPOCH: 20, normalization: Layer\n"
          ],
          "name": "stdout"
        },
        {
          "output_type": "stream",
          "text": [
            "Loss=0.01731373742222786 Batch_id=468 Train Accuracy=99.08: 100%|██████████| 469/469 [00:41<00:00, 11.39it/s]"
          ],
          "name": "stderr"
        },
        {
          "output_type": "stream",
          "text": [
            "Train set: Epoch : 20/25 Average loss: 0.0000, Train Accuracy: 99.08\n"
          ],
          "name": "stdout"
        },
        {
          "output_type": "stream",
          "text": [
            "\n",
            "  0%|          | 0/469 [00:00<?, ?it/s]"
          ],
          "name": "stderr"
        },
        {
          "output_type": "stream",
          "text": [
            "Test set: Epoch : 20/25 Average loss: 0.0236, Test Accuracy: 99.3\n",
            "EPOCH: 21, normalization: Layer\n"
          ],
          "name": "stdout"
        },
        {
          "output_type": "stream",
          "text": [
            "Loss=0.028482338413596153 Batch_id=468 Train Accuracy=99.13: 100%|██████████| 469/469 [00:41<00:00, 11.29it/s]"
          ],
          "name": "stderr"
        },
        {
          "output_type": "stream",
          "text": [
            "Train set: Epoch : 21/25 Average loss: 0.0000, Train Accuracy: 99.13\n"
          ],
          "name": "stdout"
        },
        {
          "output_type": "stream",
          "text": [
            "\n",
            "  0%|          | 0/469 [00:00<?, ?it/s]"
          ],
          "name": "stderr"
        },
        {
          "output_type": "stream",
          "text": [
            "Test set: Epoch : 21/25 Average loss: 0.0262, Test Accuracy: 99.32\n",
            "EPOCH: 22, normalization: Layer\n"
          ],
          "name": "stdout"
        },
        {
          "output_type": "stream",
          "text": [
            "Loss=0.010629045777022839 Batch_id=468 Train Accuracy=99.17: 100%|██████████| 469/469 [00:41<00:00, 11.19it/s]"
          ],
          "name": "stderr"
        },
        {
          "output_type": "stream",
          "text": [
            "Train set: Epoch : 22/25 Average loss: 0.0000, Train Accuracy: 99.17\n"
          ],
          "name": "stdout"
        },
        {
          "output_type": "stream",
          "text": [
            "\n",
            "  0%|          | 0/469 [00:00<?, ?it/s]"
          ],
          "name": "stderr"
        },
        {
          "output_type": "stream",
          "text": [
            "Test set: Epoch : 22/25 Average loss: 0.0262, Test Accuracy: 99.22\n",
            "EPOCH: 23, normalization: Layer\n"
          ],
          "name": "stdout"
        },
        {
          "output_type": "stream",
          "text": [
            "Loss=0.022309498861432076 Batch_id=468 Train Accuracy=99.14: 100%|██████████| 469/469 [00:41<00:00, 11.20it/s]"
          ],
          "name": "stderr"
        },
        {
          "output_type": "stream",
          "text": [
            "Train set: Epoch : 23/25 Average loss: 0.0000, Train Accuracy: 99.14\n"
          ],
          "name": "stdout"
        },
        {
          "output_type": "stream",
          "text": [
            "\n",
            "  0%|          | 0/469 [00:00<?, ?it/s]"
          ],
          "name": "stderr"
        },
        {
          "output_type": "stream",
          "text": [
            "Test set: Epoch : 23/25 Average loss: 0.0219, Test Accuracy: 99.29\n",
            "EPOCH: 24, normalization: Layer\n"
          ],
          "name": "stdout"
        },
        {
          "output_type": "stream",
          "text": [
            "Loss=0.017397839576005936 Batch_id=468 Train Accuracy=99.19: 100%|██████████| 469/469 [00:41<00:00, 11.21it/s]"
          ],
          "name": "stderr"
        },
        {
          "output_type": "stream",
          "text": [
            "Train set: Epoch : 24/25 Average loss: 0.0000, Train Accuracy: 99.19\n"
          ],
          "name": "stdout"
        },
        {
          "output_type": "stream",
          "text": [
            "\n",
            "  0%|          | 0/469 [00:00<?, ?it/s]"
          ],
          "name": "stderr"
        },
        {
          "output_type": "stream",
          "text": [
            "Test set: Epoch : 24/25 Average loss: 0.0226, Test Accuracy: 99.34\n",
            "******Training for Normalization type : Group, L1=0.001, L2=0*******\n",
            "EPOCH: 0, normalization: Group\n"
          ],
          "name": "stdout"
        },
        {
          "output_type": "stream",
          "text": [
            "Loss=0.10899730771780014 Batch_id=468 Train Accuracy=89.42: 100%|██████████| 469/469 [00:41<00:00, 11.19it/s]"
          ],
          "name": "stderr"
        },
        {
          "output_type": "stream",
          "text": [
            "Train set: Epoch : 0/25 Average loss: 0.0000, Train Accuracy: 89.42\n"
          ],
          "name": "stdout"
        },
        {
          "output_type": "stream",
          "text": [
            "\n",
            "  0%|          | 0/469 [00:00<?, ?it/s]"
          ],
          "name": "stderr"
        },
        {
          "output_type": "stream",
          "text": [
            "Test set: Epoch : 0/25 Average loss: 0.0731, Test Accuracy: 98.06\n",
            "EPOCH: 1, normalization: Group\n"
          ],
          "name": "stdout"
        },
        {
          "output_type": "stream",
          "text": [
            "Loss=0.08758550882339478 Batch_id=468 Train Accuracy=97.56: 100%|██████████| 469/469 [00:41<00:00, 11.18it/s]"
          ],
          "name": "stderr"
        },
        {
          "output_type": "stream",
          "text": [
            "Train set: Epoch : 1/25 Average loss: 0.0000, Train Accuracy: 97.56\n"
          ],
          "name": "stdout"
        },
        {
          "output_type": "stream",
          "text": [
            "\n",
            "  0%|          | 0/469 [00:00<?, ?it/s]"
          ],
          "name": "stderr"
        },
        {
          "output_type": "stream",
          "text": [
            "Test set: Epoch : 1/25 Average loss: 0.0476, Test Accuracy: 98.68\n",
            "EPOCH: 2, normalization: Group\n"
          ],
          "name": "stdout"
        },
        {
          "output_type": "stream",
          "text": [
            "Loss=0.09701181948184967 Batch_id=468 Train Accuracy=98.10: 100%|██████████| 469/469 [00:40<00:00, 11.44it/s]"
          ],
          "name": "stderr"
        },
        {
          "output_type": "stream",
          "text": [
            "Train set: Epoch : 2/25 Average loss: 0.0000, Train Accuracy: 98.1\n"
          ],
          "name": "stdout"
        },
        {
          "output_type": "stream",
          "text": [
            "\n",
            "  0%|          | 0/469 [00:00<?, ?it/s]"
          ],
          "name": "stderr"
        },
        {
          "output_type": "stream",
          "text": [
            "Test set: Epoch : 2/25 Average loss: 0.0643, Test Accuracy: 98.19\n",
            "EPOCH: 3, normalization: Group\n"
          ],
          "name": "stdout"
        },
        {
          "output_type": "stream",
          "text": [
            "Loss=0.02824266627430916 Batch_id=468 Train Accuracy=98.47: 100%|██████████| 469/469 [00:41<00:00, 11.36it/s]"
          ],
          "name": "stderr"
        },
        {
          "output_type": "stream",
          "text": [
            "Train set: Epoch : 3/25 Average loss: 0.0000, Train Accuracy: 98.47\n"
          ],
          "name": "stdout"
        },
        {
          "output_type": "stream",
          "text": [
            "\n",
            "  0%|          | 0/469 [00:00<?, ?it/s]"
          ],
          "name": "stderr"
        },
        {
          "output_type": "stream",
          "text": [
            "Test set: Epoch : 3/25 Average loss: 0.0358, Test Accuracy: 98.95\n",
            "EPOCH: 4, normalization: Group\n"
          ],
          "name": "stdout"
        },
        {
          "output_type": "stream",
          "text": [
            "Loss=0.034044135361909866 Batch_id=468 Train Accuracy=98.54: 100%|██████████| 469/469 [00:41<00:00, 11.41it/s]"
          ],
          "name": "stderr"
        },
        {
          "output_type": "stream",
          "text": [
            "Train set: Epoch : 4/25 Average loss: 0.0000, Train Accuracy: 98.54\n"
          ],
          "name": "stdout"
        },
        {
          "output_type": "stream",
          "text": [
            "\n",
            "  0%|          | 0/469 [00:00<?, ?it/s]"
          ],
          "name": "stderr"
        },
        {
          "output_type": "stream",
          "text": [
            "Test set: Epoch : 4/25 Average loss: 0.0330, Test Accuracy: 99.03\n",
            "EPOCH: 5, normalization: Group\n"
          ],
          "name": "stdout"
        },
        {
          "output_type": "stream",
          "text": [
            "Loss=0.07754287123680115 Batch_id=468 Train Accuracy=98.77: 100%|██████████| 469/469 [00:40<00:00, 11.46it/s]"
          ],
          "name": "stderr"
        },
        {
          "output_type": "stream",
          "text": [
            "Train set: Epoch : 5/25 Average loss: 0.0000, Train Accuracy: 98.77\n"
          ],
          "name": "stdout"
        },
        {
          "output_type": "stream",
          "text": [
            "\n",
            "  0%|          | 0/469 [00:00<?, ?it/s]"
          ],
          "name": "stderr"
        },
        {
          "output_type": "stream",
          "text": [
            "Test set: Epoch : 5/25 Average loss: 0.0370, Test Accuracy: 98.93\n",
            "EPOCH: 6, normalization: Group\n"
          ],
          "name": "stdout"
        },
        {
          "output_type": "stream",
          "text": [
            "Loss=0.08317606151103973 Batch_id=468 Train Accuracy=98.85: 100%|██████████| 469/469 [00:40<00:00, 11.45it/s]"
          ],
          "name": "stderr"
        },
        {
          "output_type": "stream",
          "text": [
            "Train set: Epoch : 6/25 Average loss: 0.0000, Train Accuracy: 98.85\n"
          ],
          "name": "stdout"
        },
        {
          "output_type": "stream",
          "text": [
            "\n",
            "  0%|          | 0/469 [00:00<?, ?it/s]"
          ],
          "name": "stderr"
        },
        {
          "output_type": "stream",
          "text": [
            "Test set: Epoch : 6/25 Average loss: 0.0257, Test Accuracy: 99.21\n",
            "EPOCH: 7, normalization: Group\n"
          ],
          "name": "stdout"
        },
        {
          "output_type": "stream",
          "text": [
            "Loss=0.025564689189195633 Batch_id=468 Train Accuracy=98.91: 100%|██████████| 469/469 [00:40<00:00, 11.54it/s]"
          ],
          "name": "stderr"
        },
        {
          "output_type": "stream",
          "text": [
            "Train set: Epoch : 7/25 Average loss: 0.0000, Train Accuracy: 98.91\n"
          ],
          "name": "stdout"
        },
        {
          "output_type": "stream",
          "text": [
            "\n",
            "  0%|          | 0/469 [00:00<?, ?it/s]"
          ],
          "name": "stderr"
        },
        {
          "output_type": "stream",
          "text": [
            "Test set: Epoch : 7/25 Average loss: 0.0309, Test Accuracy: 99.06\n",
            "EPOCH: 8, normalization: Group\n"
          ],
          "name": "stdout"
        },
        {
          "output_type": "stream",
          "text": [
            "Loss=0.05608908087015152 Batch_id=468 Train Accuracy=98.92: 100%|██████████| 469/469 [00:40<00:00, 11.45it/s]"
          ],
          "name": "stderr"
        },
        {
          "output_type": "stream",
          "text": [
            "Train set: Epoch : 8/25 Average loss: 0.0000, Train Accuracy: 98.92\n"
          ],
          "name": "stdout"
        },
        {
          "output_type": "stream",
          "text": [
            "\n",
            "  0%|          | 0/469 [00:00<?, ?it/s]"
          ],
          "name": "stderr"
        },
        {
          "output_type": "stream",
          "text": [
            "Test set: Epoch : 8/25 Average loss: 0.0237, Test Accuracy: 99.32\n",
            "EPOCH: 9, normalization: Group\n"
          ],
          "name": "stdout"
        },
        {
          "output_type": "stream",
          "text": [
            "Loss=0.04088478162884712 Batch_id=468 Train Accuracy=98.97: 100%|██████████| 469/469 [00:40<00:00, 11.48it/s]"
          ],
          "name": "stderr"
        },
        {
          "output_type": "stream",
          "text": [
            "Train set: Epoch : 9/25 Average loss: 0.0000, Train Accuracy: 98.97\n"
          ],
          "name": "stdout"
        },
        {
          "output_type": "stream",
          "text": [
            "\n",
            "  0%|          | 0/469 [00:00<?, ?it/s]"
          ],
          "name": "stderr"
        },
        {
          "output_type": "stream",
          "text": [
            "Test set: Epoch : 9/25 Average loss: 0.0226, Test Accuracy: 99.28\n",
            "EPOCH: 10, normalization: Group\n"
          ],
          "name": "stdout"
        },
        {
          "output_type": "stream",
          "text": [
            "Loss=0.01595788076519966 Batch_id=468 Train Accuracy=99.10: 100%|██████████| 469/469 [00:40<00:00, 11.47it/s]"
          ],
          "name": "stderr"
        },
        {
          "output_type": "stream",
          "text": [
            "Train set: Epoch : 10/25 Average loss: 0.0000, Train Accuracy: 99.1\n"
          ],
          "name": "stdout"
        },
        {
          "output_type": "stream",
          "text": [
            "\n",
            "  0%|          | 0/469 [00:00<?, ?it/s]"
          ],
          "name": "stderr"
        },
        {
          "output_type": "stream",
          "text": [
            "Test set: Epoch : 10/25 Average loss: 0.0222, Test Accuracy: 99.31\n",
            "EPOCH: 11, normalization: Group\n"
          ],
          "name": "stdout"
        },
        {
          "output_type": "stream",
          "text": [
            "Loss=0.04162576422095299 Batch_id=468 Train Accuracy=99.06: 100%|██████████| 469/469 [00:41<00:00, 11.43it/s]"
          ],
          "name": "stderr"
        },
        {
          "output_type": "stream",
          "text": [
            "Train set: Epoch : 11/25 Average loss: 0.0000, Train Accuracy: 99.06\n"
          ],
          "name": "stdout"
        },
        {
          "output_type": "stream",
          "text": [
            "\n",
            "  0%|          | 0/469 [00:00<?, ?it/s]"
          ],
          "name": "stderr"
        },
        {
          "output_type": "stream",
          "text": [
            "Test set: Epoch : 11/25 Average loss: 0.0287, Test Accuracy: 99.1\n",
            "EPOCH: 12, normalization: Group\n"
          ],
          "name": "stdout"
        },
        {
          "output_type": "stream",
          "text": [
            "Loss=0.012427259236574173 Batch_id=468 Train Accuracy=99.03: 100%|██████████| 469/469 [00:41<00:00, 11.36it/s]"
          ],
          "name": "stderr"
        },
        {
          "output_type": "stream",
          "text": [
            "Train set: Epoch : 12/25 Average loss: 0.0000, Train Accuracy: 99.03\n"
          ],
          "name": "stdout"
        },
        {
          "output_type": "stream",
          "text": [
            "\n",
            "  0%|          | 0/469 [00:00<?, ?it/s]"
          ],
          "name": "stderr"
        },
        {
          "output_type": "stream",
          "text": [
            "Test set: Epoch : 12/25 Average loss: 0.0265, Test Accuracy: 99.2\n",
            "EPOCH: 13, normalization: Group\n"
          ],
          "name": "stdout"
        },
        {
          "output_type": "stream",
          "text": [
            "Loss=0.059461623430252075 Batch_id=468 Train Accuracy=99.10: 100%|██████████| 469/469 [00:40<00:00, 11.45it/s]"
          ],
          "name": "stderr"
        },
        {
          "output_type": "stream",
          "text": [
            "Train set: Epoch : 13/25 Average loss: 0.0000, Train Accuracy: 99.1\n"
          ],
          "name": "stdout"
        },
        {
          "output_type": "stream",
          "text": [
            "\n",
            "  0%|          | 0/469 [00:00<?, ?it/s]"
          ],
          "name": "stderr"
        },
        {
          "output_type": "stream",
          "text": [
            "Test set: Epoch : 13/25 Average loss: 0.0233, Test Accuracy: 99.28\n",
            "EPOCH: 14, normalization: Group\n"
          ],
          "name": "stdout"
        },
        {
          "output_type": "stream",
          "text": [
            "Loss=0.10955941677093506 Batch_id=468 Train Accuracy=99.17: 100%|██████████| 469/469 [00:41<00:00, 11.43it/s]"
          ],
          "name": "stderr"
        },
        {
          "output_type": "stream",
          "text": [
            "Train set: Epoch : 14/25 Average loss: 0.0000, Train Accuracy: 99.17\n"
          ],
          "name": "stdout"
        },
        {
          "output_type": "stream",
          "text": [
            "\n",
            "  0%|          | 0/469 [00:00<?, ?it/s]"
          ],
          "name": "stderr"
        },
        {
          "output_type": "stream",
          "text": [
            "Test set: Epoch : 14/25 Average loss: 0.0235, Test Accuracy: 99.31\n",
            "EPOCH: 15, normalization: Group\n"
          ],
          "name": "stdout"
        },
        {
          "output_type": "stream",
          "text": [
            "Loss=0.02973587065935135 Batch_id=468 Train Accuracy=99.17: 100%|██████████| 469/469 [00:41<00:00, 11.40it/s]"
          ],
          "name": "stderr"
        },
        {
          "output_type": "stream",
          "text": [
            "Train set: Epoch : 15/25 Average loss: 0.0000, Train Accuracy: 99.17\n"
          ],
          "name": "stdout"
        },
        {
          "output_type": "stream",
          "text": [
            "\n",
            "  0%|          | 0/469 [00:00<?, ?it/s]"
          ],
          "name": "stderr"
        },
        {
          "output_type": "stream",
          "text": [
            "Test set: Epoch : 15/25 Average loss: 0.0240, Test Accuracy: 99.3\n",
            "EPOCH: 16, normalization: Group\n"
          ],
          "name": "stdout"
        },
        {
          "output_type": "stream",
          "text": [
            "Loss=0.029158759862184525 Batch_id=468 Train Accuracy=99.27: 100%|██████████| 469/469 [00:40<00:00, 11.47it/s]"
          ],
          "name": "stderr"
        },
        {
          "output_type": "stream",
          "text": [
            "Train set: Epoch : 16/25 Average loss: 0.0000, Train Accuracy: 99.27\n"
          ],
          "name": "stdout"
        },
        {
          "output_type": "stream",
          "text": [
            "\n",
            "  0%|          | 0/469 [00:00<?, ?it/s]"
          ],
          "name": "stderr"
        },
        {
          "output_type": "stream",
          "text": [
            "Test set: Epoch : 16/25 Average loss: 0.0233, Test Accuracy: 99.28\n",
            "EPOCH: 17, normalization: Group\n"
          ],
          "name": "stdout"
        },
        {
          "output_type": "stream",
          "text": [
            "Loss=0.020272377878427505 Batch_id=468 Train Accuracy=99.15: 100%|██████████| 469/469 [00:40<00:00, 11.46it/s]"
          ],
          "name": "stderr"
        },
        {
          "output_type": "stream",
          "text": [
            "Train set: Epoch : 17/25 Average loss: 0.0000, Train Accuracy: 99.15\n"
          ],
          "name": "stdout"
        },
        {
          "output_type": "stream",
          "text": [
            "\n",
            "  0%|          | 0/469 [00:00<?, ?it/s]"
          ],
          "name": "stderr"
        },
        {
          "output_type": "stream",
          "text": [
            "Test set: Epoch : 17/25 Average loss: 0.0242, Test Accuracy: 99.26\n",
            "EPOCH: 18, normalization: Group\n"
          ],
          "name": "stdout"
        },
        {
          "output_type": "stream",
          "text": [
            "Loss=0.03313474357128143 Batch_id=468 Train Accuracy=99.31: 100%|██████████| 469/469 [00:41<00:00, 11.36it/s]"
          ],
          "name": "stderr"
        },
        {
          "output_type": "stream",
          "text": [
            "Train set: Epoch : 18/25 Average loss: 0.0000, Train Accuracy: 99.31\n"
          ],
          "name": "stdout"
        },
        {
          "output_type": "stream",
          "text": [
            "\n",
            "  0%|          | 0/469 [00:00<?, ?it/s]"
          ],
          "name": "stderr"
        },
        {
          "output_type": "stream",
          "text": [
            "Test set: Epoch : 18/25 Average loss: 0.0186, Test Accuracy: 99.4\n",
            "EPOCH: 19, normalization: Group\n"
          ],
          "name": "stdout"
        },
        {
          "output_type": "stream",
          "text": [
            "Loss=0.01355472020804882 Batch_id=468 Train Accuracy=99.26: 100%|██████████| 469/469 [00:41<00:00, 11.25it/s]"
          ],
          "name": "stderr"
        },
        {
          "output_type": "stream",
          "text": [
            "Train set: Epoch : 19/25 Average loss: 0.0000, Train Accuracy: 99.26\n"
          ],
          "name": "stdout"
        },
        {
          "output_type": "stream",
          "text": [
            "\n",
            "  0%|          | 0/469 [00:00<?, ?it/s]"
          ],
          "name": "stderr"
        },
        {
          "output_type": "stream",
          "text": [
            "Test set: Epoch : 19/25 Average loss: 0.0210, Test Accuracy: 99.41\n",
            "EPOCH: 20, normalization: Group\n"
          ],
          "name": "stdout"
        },
        {
          "output_type": "stream",
          "text": [
            "Loss=0.04471028223633766 Batch_id=468 Train Accuracy=99.28: 100%|██████████| 469/469 [00:42<00:00, 11.04it/s]"
          ],
          "name": "stderr"
        },
        {
          "output_type": "stream",
          "text": [
            "Train set: Epoch : 20/25 Average loss: 0.0000, Train Accuracy: 99.28\n"
          ],
          "name": "stdout"
        },
        {
          "output_type": "stream",
          "text": [
            "\n",
            "  0%|          | 0/469 [00:00<?, ?it/s]"
          ],
          "name": "stderr"
        },
        {
          "output_type": "stream",
          "text": [
            "Test set: Epoch : 20/25 Average loss: 0.0202, Test Accuracy: 99.34\n",
            "EPOCH: 21, normalization: Group\n"
          ],
          "name": "stdout"
        },
        {
          "output_type": "stream",
          "text": [
            "Loss=0.010728363879024982 Batch_id=468 Train Accuracy=99.33: 100%|██████████| 469/469 [00:42<00:00, 11.01it/s]"
          ],
          "name": "stderr"
        },
        {
          "output_type": "stream",
          "text": [
            "Train set: Epoch : 21/25 Average loss: 0.0000, Train Accuracy: 99.33\n"
          ],
          "name": "stdout"
        },
        {
          "output_type": "stream",
          "text": [
            "\n",
            "  0%|          | 0/469 [00:00<?, ?it/s]"
          ],
          "name": "stderr"
        },
        {
          "output_type": "stream",
          "text": [
            "Test set: Epoch : 21/25 Average loss: 0.0199, Test Accuracy: 99.41\n",
            "EPOCH: 22, normalization: Group\n"
          ],
          "name": "stdout"
        },
        {
          "output_type": "stream",
          "text": [
            "Loss=0.04062758758664131 Batch_id=468 Train Accuracy=99.32: 100%|██████████| 469/469 [00:42<00:00, 11.01it/s]"
          ],
          "name": "stderr"
        },
        {
          "output_type": "stream",
          "text": [
            "Train set: Epoch : 22/25 Average loss: 0.0000, Train Accuracy: 99.32\n"
          ],
          "name": "stdout"
        },
        {
          "output_type": "stream",
          "text": [
            "\n",
            "  0%|          | 0/469 [00:00<?, ?it/s]"
          ],
          "name": "stderr"
        },
        {
          "output_type": "stream",
          "text": [
            "Test set: Epoch : 22/25 Average loss: 0.0196, Test Accuracy: 99.38\n",
            "EPOCH: 23, normalization: Group\n"
          ],
          "name": "stdout"
        },
        {
          "output_type": "stream",
          "text": [
            "Loss=0.013766408897936344 Batch_id=468 Train Accuracy=99.37: 100%|██████████| 469/469 [00:42<00:00, 11.10it/s]"
          ],
          "name": "stderr"
        },
        {
          "output_type": "stream",
          "text": [
            "Train set: Epoch : 23/25 Average loss: 0.0000, Train Accuracy: 99.37\n"
          ],
          "name": "stdout"
        },
        {
          "output_type": "stream",
          "text": [
            "\n",
            "  0%|          | 0/469 [00:00<?, ?it/s]"
          ],
          "name": "stderr"
        },
        {
          "output_type": "stream",
          "text": [
            "Test set: Epoch : 23/25 Average loss: 0.0182, Test Accuracy: 99.4\n",
            "EPOCH: 24, normalization: Group\n"
          ],
          "name": "stdout"
        },
        {
          "output_type": "stream",
          "text": [
            "Loss=0.01181718148291111 Batch_id=468 Train Accuracy=99.34: 100%|██████████| 469/469 [00:42<00:00, 11.10it/s]"
          ],
          "name": "stderr"
        },
        {
          "output_type": "stream",
          "text": [
            "Train set: Epoch : 24/25 Average loss: 0.0000, Train Accuracy: 99.34\n"
          ],
          "name": "stdout"
        },
        {
          "output_type": "stream",
          "text": [
            "\n"
          ],
          "name": "stderr"
        },
        {
          "output_type": "stream",
          "text": [
            "Test set: Epoch : 24/25 Average loss: 0.0204, Test Accuracy: 99.4\n"
          ],
          "name": "stdout"
        }
      ]
    },
    {
      "cell_type": "code",
      "metadata": {
        "colab": {
          "base_uri": "https://localhost:8080/"
        },
        "id": "0aRX8l8EzgNe",
        "outputId": "9d8b9560-cc12-4c7c-a3a3-0a7dafcb4aa8"
      },
      "source": [
        "print(f'Max train accuracy - BN:{max(bn_train_stats.accuracy)}, LN:{max(ln_train_stats.accuracy)}, GN:{max(gn_train_stats.accuracy)}')\n",
        "print(f'Max test accuracy - BN:{max(bn_test_stats.accuracy)}, LN:{max(ln_test_stats.accuracy)}, GN:{max(gn_test_stats.accuracy)}')"
      ],
      "execution_count": 24,
      "outputs": [
        {
          "output_type": "stream",
          "text": [
            "Max train accuracy - BN:99.17, LN:99.19, GN:99.37\n",
            "Max test accuracy - BN:99.38, LN:99.36, GN:99.41\n"
          ],
          "name": "stdout"
        }
      ]
    },
    {
      "cell_type": "code",
      "metadata": {
        "colab": {
          "base_uri": "https://localhost:8080/"
        },
        "id": "BaoTedYG0F2R",
        "outputId": "637b9d55-77aa-4fab-e152-82bca13b1d07"
      },
      "source": [
        "print(f'Train accuracy - BN: {bn_train_stats.accuracy}')\n",
        "print(f'Train accuracy - LN: {ln_train_stats.accuracy}')\n",
        "print(f'Train accuracy - GN: {gn_train_stats.accuracy}')\n",
        "print(f'Test accuracy - BN: {bn_test_stats.accuracy}')\n",
        "print(f'Test accuracy - LN: {ln_test_stats.accuracy}')\n",
        "print(f'Test accuracy - GN: {gn_test_stats.accuracy}')\n"
      ],
      "execution_count": 25,
      "outputs": [
        {
          "output_type": "stream",
          "text": [
            "Train accuracy - BN: [90.52, 97.92, 98.36, 98.6, 98.67, 98.79, 98.81, 98.93, 98.94, 99.0, 98.97, 99.0, 98.99, 99.05, 98.98, 99.07, 99.09, 99.13, 99.15, 99.12, 99.16, 99.14, 99.04, 99.17, 99.1]\n",
            "Train accuracy - LN: [88.14, 97.66, 98.17, 98.5, 98.67, 98.75, 98.78, 98.82, 98.83, 98.94, 98.99, 98.92, 99.02, 99.02, 99.06, 99.05, 99.16, 99.07, 99.13, 99.1, 99.08, 99.13, 99.17, 99.14, 99.19]\n",
            "Train accuracy - GN: [89.42, 97.56, 98.1, 98.47, 98.54, 98.77, 98.85, 98.91, 98.92, 98.97, 99.1, 99.06, 99.03, 99.1, 99.17, 99.17, 99.27, 99.15, 99.31, 99.26, 99.28, 99.33, 99.32, 99.37, 99.34]\n",
            "Test accuracy - BN: [97.6, 98.4, 98.88, 99.06, 98.83, 99.02, 99.11, 99.13, 99.11, 98.9, 99.1, 99.27, 99.21, 99.25, 99.06, 99.2, 99.19, 99.3, 99.26, 99.16, 99.28, 99.22, 99.18, 99.38, 99.21]\n",
            "Test accuracy - LN: [97.88, 98.53, 99.02, 99.04, 98.88, 99.08, 99.0, 99.22, 99.27, 99.22, 99.13, 99.27, 99.21, 99.3, 99.3, 99.31, 99.36, 99.26, 99.24, 99.15, 99.3, 99.32, 99.22, 99.29, 99.34]\n",
            "Test accuracy - GN: [98.06, 98.68, 98.19, 98.95, 99.03, 98.93, 99.21, 99.06, 99.32, 99.28, 99.31, 99.1, 99.2, 99.28, 99.31, 99.3, 99.28, 99.26, 99.4, 99.41, 99.34, 99.41, 99.38, 99.4, 99.4]\n"
          ],
          "name": "stdout"
        }
      ]
    },
    {
      "cell_type": "code",
      "metadata": {
        "colab": {
          "base_uri": "https://localhost:8080/",
          "height": 336
        },
        "id": "fbT9RRk7Iu1k",
        "outputId": "780dcb6a-d7fc-4f4f-8abc-f0a994343473"
      },
      "source": [
        "figure = plt.figure(figsize=(20,5))\n",
        "\n",
        "labels = ['BN with L1 + L2', 'LN with L2', 'GN with L1']\n",
        "plt.subplot(1,4,1)\n",
        "plt.title(f\"Train Losses\")\n",
        "plt.plot(bn_train_stats.losses, label=labels[0])\n",
        "plt.plot(ln_train_stats.losses, label=labels[1])\n",
        "plt.plot(gn_train_stats.losses, label=labels[2])\n",
        "plt.legend(loc=\"upper right\")\n",
        "\n",
        "plt.subplot(1,4,2)\n",
        "plt.title(f\"Train Accuracies\")\n",
        "plt.plot(bn_train_stats.accuracy, label=labels[0])\n",
        "plt.plot(ln_train_stats.accuracy, label=labels[1])\n",
        "plt.plot(gn_train_stats.accuracy, label=labels[2])\n",
        "plt.legend(loc=\"lower right\")\n",
        "\n",
        "plt.subplot(1,4,3)\n",
        "plt.title(f\"Test Losses\")\n",
        "plt.plot(bn_test_stats.losses, label=labels[0])\n",
        "plt.plot(ln_test_stats.losses, label=labels[1])\n",
        "plt.plot(gn_test_stats.losses, label=labels[2])\n",
        "plt.legend(loc=\"upper right\")\n",
        "\n",
        "plt.subplot(1,4,4)\n",
        "plt.title(f\"Test Accuracies\")\n",
        "plt.plot(bn_test_stats.accuracy, label=labels[0])\n",
        "plt.plot(ln_test_stats.accuracy, label=labels[1])\n",
        "plt.plot(gn_test_stats.accuracy, label=labels[2])\n",
        "plt.legend(loc=\"lower right\")"
      ],
      "execution_count": 32,
      "outputs": [
        {
          "output_type": "execute_result",
          "data": {
            "text/plain": [
              "<matplotlib.legend.Legend at 0x7f400cc63550>"
            ]
          },
          "metadata": {
            "tags": []
          },
          "execution_count": 32
        },
        {
          "output_type": "display_data",
          "data": {
            "image/png": "[encoded data removed]",
            "text/plain": [
              "<Figure size 1440x360 with 4 Axes>"
            ]
          },
          "metadata": {
            "tags": [],
            "needs_background": "light"
          }
        }
      ]
    },
    {
      "cell_type": "code",
      "metadata": {
        "id": "DxUEuyGv-MSA"
      },
      "source": [
        "def plot_misclassified(test_stats, num_images, title, class_names, fig_size, unnorm_mispred):\n",
        "    \n",
        "    figure=plt.figure(figsize=fig_size)\n",
        "    print(f'** Plotting misclassified images from last epoch for {title} **')\n",
        "    print('\\n')\n",
        "    class_names_dict = class_names\n",
        "    if len(test_stats.img) > num_images: \n",
        "        for i in range(num_images):\n",
        "            plt.subplot(5,5,i+1)\n",
        "            plt.axis(False)      \n",
        "            unnorm = unnorm_mispred.unnorm_gray(test_stats.img[i].squeeze().cpu())\n",
        "            plt.imshow(unnorm, cmap='gray_r')\n",
        "            prediction = class_names_dict.get(test_stats.pred[i])\n",
        "            actual     = class_names_dict.get(test_stats.label[i])\n",
        "            s=\"pred=\"+str(prediction)+\" act=\"+str(actual)\n",
        "            plt.text(2,-1,s)\n",
        "    else:\n",
        "        print(f'Unable to plot - Less than {num_images} images, only have {len(test_stats.img)} images')\n"
      ],
      "execution_count": 28,
      "outputs": []
    },
    {
      "cell_type": "code",
      "metadata": {
        "colab": {
          "base_uri": "https://localhost:8080/",
          "height": 743
        },
        "id": "fho7wEoBCmgd",
        "outputId": "e4b8d961-cd56-460f-ae22-fa2b10aa8d6f"
      },
      "source": [
        "mean  = 0.1307\n",
        "stdev = 0.3081\n",
        "unnorm_mispred = utilities.unnorm_img(mean, stdev)\n",
        "plots = utilities.plots()\n",
        "\n",
        "class_names_dict = {0:0, 1:1, 2:2, 3:3, 4:4, 5:5, 6:6, 7:7, 8:8, 9:9}\n",
        "num_images = 25\n",
        "fig_size = (12, 12)\n",
        "\n",
        "title = 'GN + L1'\n",
        "misclass_stats = gn_test_stats\n",
        "plot_misclassified(misclass_stats, 25, title, class_names_dict, fig_size, unnorm_mispred)"
      ],
      "execution_count": 29,
      "outputs": [
        {
          "output_type": "stream",
          "text": [
            "** Plotting misclassified images from last epoch for GN + L1 **\n",
            "\n",
            "\n"
          ],
          "name": "stdout"
        },
        {
          "output_type": "display_data",
          "data": {
            "image/png": "[encoded data removed]",
            "text/plain": [
              "<Figure size 864x864 with 25 Axes>"
            ]
          },
          "metadata": {
            "tags": [],
            "needs_background": "light"
          }
        }
      ]
    },
    {
      "cell_type": "code",
      "metadata": {
        "colab": {
          "base_uri": "https://localhost:8080/",
          "height": 743
        },
        "id": "QgP8dJemIFV_",
        "outputId": "763ee282-fa97-4c2a-fdd9-3abd4e9bcc64"
      },
      "source": [
        "title = 'LN + L2'\n",
        "misclass_stats = ln_test_stats\n",
        "plot_misclassified(misclass_stats, 25, title, class_names_dict, fig_size, unnorm_mispred)"
      ],
      "execution_count": 30,
      "outputs": [
        {
          "output_type": "stream",
          "text": [
            "** Plotting misclassified images from last epoch for LN + L2 **\n",
            "\n",
            "\n"
          ],
          "name": "stdout"
        },
        {
          "output_type": "display_data",
          "data": {
            "image/png": "[encoded data removed]",
            "text/plain": [
              "<Figure size 864x864 with 25 Axes>"
            ]
          },
          "metadata": {
            "tags": [],
            "needs_background": "light"
          }
        }
      ]
    },
    {
      "cell_type": "code",
      "metadata": {
        "colab": {
          "base_uri": "https://localhost:8080/",
          "height": 743
        },
        "id": "G3Jd-WtqIMFQ",
        "outputId": "7360d27a-65cf-4e5f-aa81-acb29f927a35"
      },
      "source": [
        "title = 'BN + L1 + L2'\n",
        "misclass_stats = bn_test_stats\n",
        "plot_misclassified(misclass_stats, 25, title, class_names_dict, fig_size, unnorm_mispred)"
      ],
      "execution_count": 31,
      "outputs": [
        {
          "output_type": "stream",
          "text": [
            "** Plotting misclassified images from last epoch for BN + L1 + L2 **\n",
            "\n",
            "\n"
          ],
          "name": "stdout"
        },
        {
          "output_type": "display_data",
          "data": {
            "image/png": "[encoded data removed]",
            "text/plain": [
              "<Figure size 864x864 with 25 Axes>"
            ]
          },
          "metadata": {
            "tags": [],
            "needs_background": "light"
          }
        }
      ]
    },
    {
      "cell_type": "markdown",
      "metadata": {
        "id": "XGJSTnQSL3lF"
      },
      "source": [
        "### Learning : How to compare 2 tensors and create a tensor which will store index of unequal values"
      ]
    },
    {
      "cell_type": "code",
      "metadata": {
        "colab": {
          "base_uri": "https://localhost:8080/"
        },
        "id": "nBBlWBLhoLYX",
        "outputId": "1e3f5186-6b26-4737-d3de-292aad5707d7"
      },
      "source": [
        "a = torch.tensor([2, 3, 2, 3, 2, 3])\n",
        "b = torch.tensor([2, 2, 2, 2, 2, 2])\n",
        "c = a.eq(b)\n",
        "print(c)\n",
        "d = (c == False).nonzero(as_tuple=True)[0].tolist()\n",
        "print(d)"
      ],
      "execution_count": null,
      "outputs": [
        {
          "output_type": "stream",
          "text": [
            "tensor([ True, False,  True, False,  True, False])\n",
            "[1, 3, 5]\n"
          ],
          "name": "stdout"
        }
      ]
    }
  ]
}